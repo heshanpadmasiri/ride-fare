{
 "cells": [
  {
   "cell_type": "code",
   "execution_count": 29,
   "metadata": {},
   "outputs": [],
   "source": [
    "import pandas as pd\n",
    "import numpy as np\n",
    "\n",
    "from sklearn.model_selection import KFold\n",
    "import matplotlib.pyplot as plt\n",
    "import seaborn as sns\n",
    "\n",
    "from catboost import Pool, cv,CatBoostRegressor"
   ]
  },
  {
   "cell_type": "code",
   "execution_count": 30,
   "metadata": {},
   "outputs": [],
   "source": [
    "train_df = pd.read_csv('train_df.csv')\n",
    "test_df = pd.read_csv('test_df.csv')\n",
    "submission_df = pd.read_csv('sample_submission.csv')"
   ]
  },
  {
   "cell_type": "code",
   "execution_count": 31,
   "metadata": {},
   "outputs": [],
   "source": [
    "data = train_df[train_df['label'] == 1].drop(['label'], axis=1).dropna()"
   ]
  },
  {
   "cell_type": "code",
   "execution_count": 32,
   "metadata": {},
   "outputs": [
    {
     "data": {
      "text/plain": [
       "Index(['additional_fare', 'duration', 'meter_waiting', 'meter_waiting_fare',\n",
       "       'meter_waiting_till_pickup', 'fare', 'pickup_date', 'pickup_hour',\n",
       "       'pickup_minute', 'drop_date', 'drop_hour', 'drop_minute',\n",
       "       'pick_cluster', 'is_more_than_one_day', 'distance_km', 'fare_per_km',\n",
       "       'pickup_timeslot', 'day_of_week', 'is_weekday', 'cal_time_difference'],\n",
       "      dtype='object')"
      ]
     },
     "execution_count": 32,
     "metadata": {},
     "output_type": "execute_result"
    }
   ],
   "source": [
    "data.columns"
   ]
  },
  {
   "cell_type": "code",
   "execution_count": 33,
   "metadata": {},
   "outputs": [],
   "source": [
    "cat_features = ['pick_cluster','is_more_than_one_day','pickup_timeslot',\n",
    "       'day_of_week', 'is_weekday']\n",
    "\n",
    "features = [\n",
    "    'additional_fare',\n",
    "    'meter_waiting',\n",
    "    'meter_waiting_fare',\n",
    "    'meter_waiting_till_pickup', \n",
    "    'pick_cluster', \n",
    "    'is_more_than_one_day', \n",
    "    'distance_km',\n",
    "    'pickup_timeslot',\n",
    "    'day_of_week', \n",
    "    'is_weekday',\n",
    "    'fare'\n",
    "]"
   ]
  },
  {
   "cell_type": "code",
   "execution_count": 34,
   "metadata": {},
   "outputs": [],
   "source": [
    "X = data[features]\n",
    "y = data['duration'].values"
   ]
  },
  {
   "cell_type": "code",
   "execution_count": 35,
   "metadata": {},
   "outputs": [],
   "source": [
    "train_df_X = train_df[features]\n",
    "train_df_pool = Pool(data=train_df_X,cat_features=cat_features)\n",
    "test_df_X = test_df[features]\n",
    "test_df_pool = Pool(data=test_df_X,cat_features=cat_features)"
   ]
  },
  {
   "cell_type": "code",
   "execution_count": 36,
   "metadata": {},
   "outputs": [],
   "source": [
    "train_df_preds = np.zeros(train_df.shape[0])\n",
    "test_df_preds = np.zeros(test_df.shape[0])"
   ]
  },
  {
   "cell_type": "code",
   "execution_count": 37,
   "metadata": {},
   "outputs": [],
   "source": [
    "params = {\n",
    "    'loss_function':'RMSE',\n",
    "    'random_state':0,\n",
    "    'early_stopping_rounds':50,\n",
    "    'eval_metric':'RMSE'\n",
    "}"
   ]
  },
  {
   "cell_type": "code",
   "execution_count": 38,
   "metadata": {},
   "outputs": [],
   "source": [
    "kf = KFold(n_splits=3)"
   ]
  },
  {
   "cell_type": "code",
   "execution_count": 39,
   "metadata": {},
   "outputs": [
    {
     "name": "stdout",
     "output_type": "stream",
     "text": [
      "Learning rate set to 0.071592\n",
      "0:\tlearn: 4685.6250691\ttest: 2617.5072523\tbest: 2617.5072523 (0)\ttotal: 6.04ms\tremaining: 6.03s\n",
      "10:\tlearn: 3912.7100782\ttest: 2457.0053470\tbest: 2457.0053470 (10)\ttotal: 51.5ms\tremaining: 4.63s\n",
      "20:\tlearn: 3291.5470347\ttest: 2354.5605560\tbest: 2354.5605560 (20)\ttotal: 94.4ms\tremaining: 4.4s\n",
      "30:\tlearn: 2782.7850949\ttest: 2283.3478767\tbest: 2283.3478767 (30)\ttotal: 142ms\tremaining: 4.43s\n",
      "40:\tlearn: 2349.7534625\ttest: 2206.4686897\tbest: 2206.4686897 (40)\ttotal: 189ms\tremaining: 4.42s\n",
      "50:\tlearn: 1968.8924777\ttest: 2087.9525310\tbest: 2087.9525310 (50)\ttotal: 244ms\tremaining: 4.54s\n",
      "60:\tlearn: 1650.6664119\ttest: 2015.2169181\tbest: 2015.2169181 (60)\ttotal: 302ms\tremaining: 4.64s\n",
      "70:\tlearn: 1392.0862050\ttest: 1952.8712860\tbest: 1952.8712860 (70)\ttotal: 354ms\tremaining: 4.63s\n",
      "80:\tlearn: 1178.2677539\ttest: 1906.2823969\tbest: 1906.2823969 (80)\ttotal: 405ms\tremaining: 4.59s\n",
      "90:\tlearn: 1006.0940939\ttest: 1874.6178622\tbest: 1874.6178622 (90)\ttotal: 457ms\tremaining: 4.56s\n",
      "100:\tlearn: 876.3356229\ttest: 1858.7612242\tbest: 1858.7612242 (100)\ttotal: 521ms\tremaining: 4.64s\n",
      "110:\tlearn: 764.7455662\ttest: 1839.4554310\tbest: 1839.4554310 (110)\ttotal: 568ms\tremaining: 4.55s\n",
      "120:\tlearn: 672.3737146\ttest: 1825.5332939\tbest: 1825.5332939 (120)\ttotal: 615ms\tremaining: 4.47s\n",
      "130:\tlearn: 592.2948035\ttest: 1799.2354006\tbest: 1799.2354006 (130)\ttotal: 664ms\tremaining: 4.4s\n",
      "140:\tlearn: 525.5021282\ttest: 1778.5584108\tbest: 1778.5584108 (140)\ttotal: 725ms\tremaining: 4.41s\n",
      "150:\tlearn: 471.3089880\ttest: 1773.0583084\tbest: 1773.0583084 (150)\ttotal: 769ms\tremaining: 4.32s\n",
      "160:\tlearn: 428.6768754\ttest: 1765.7382659\tbest: 1765.7382659 (160)\ttotal: 814ms\tremaining: 4.24s\n",
      "170:\tlearn: 391.9301453\ttest: 1753.4783434\tbest: 1753.4783434 (170)\ttotal: 860ms\tremaining: 4.17s\n",
      "180:\tlearn: 362.3631114\ttest: 1742.3014649\tbest: 1742.3014649 (180)\ttotal: 924ms\tremaining: 4.18s\n",
      "190:\tlearn: 341.5236542\ttest: 1737.8752172\tbest: 1737.8752172 (190)\ttotal: 970ms\tremaining: 4.11s\n",
      "200:\tlearn: 324.7024067\ttest: 1731.7828026\tbest: 1731.7828026 (200)\ttotal: 1.02s\tremaining: 4.07s\n",
      "210:\tlearn: 311.3771955\ttest: 1727.9654676\tbest: 1727.9654676 (210)\ttotal: 1.09s\tremaining: 4.08s\n",
      "220:\tlearn: 297.8310563\ttest: 1724.0122433\tbest: 1724.0122433 (220)\ttotal: 1.15s\tremaining: 4.04s\n",
      "230:\tlearn: 288.2993170\ttest: 1717.6343402\tbest: 1717.5078303 (229)\ttotal: 1.19s\tremaining: 3.97s\n",
      "240:\tlearn: 280.5194516\ttest: 1713.3255674\tbest: 1713.2423186 (239)\ttotal: 1.24s\tremaining: 3.9s\n",
      "250:\tlearn: 272.4946678\ttest: 1710.0097392\tbest: 1710.0097392 (250)\ttotal: 1.29s\tremaining: 3.86s\n",
      "260:\tlearn: 265.9681201\ttest: 1706.2083063\tbest: 1706.2083063 (260)\ttotal: 1.35s\tremaining: 3.84s\n",
      "270:\tlearn: 260.3658029\ttest: 1704.4596887\tbest: 1704.4596887 (270)\ttotal: 1.4s\tremaining: 3.76s\n",
      "280:\tlearn: 254.9334435\ttest: 1703.0291127\tbest: 1703.0291127 (280)\ttotal: 1.45s\tremaining: 3.7s\n",
      "290:\tlearn: 250.5071885\ttest: 1700.9007435\tbest: 1700.9007435 (290)\ttotal: 1.49s\tremaining: 3.64s\n",
      "300:\tlearn: 246.8702058\ttest: 1699.0101662\tbest: 1699.0101662 (300)\ttotal: 1.55s\tremaining: 3.6s\n",
      "310:\tlearn: 243.8884486\ttest: 1698.2484956\tbest: 1698.2484956 (310)\ttotal: 1.59s\tremaining: 3.53s\n",
      "320:\tlearn: 241.0723798\ttest: 1696.9127571\tbest: 1696.9127571 (320)\ttotal: 1.64s\tremaining: 3.47s\n",
      "330:\tlearn: 238.0511671\ttest: 1696.6428912\tbest: 1696.6428912 (330)\ttotal: 1.68s\tremaining: 3.4s\n",
      "340:\tlearn: 235.8595256\ttest: 1696.1714417\tbest: 1696.1714417 (340)\ttotal: 1.75s\tremaining: 3.39s\n",
      "350:\tlearn: 234.1251753\ttest: 1695.8377904\tbest: 1695.5551186 (348)\ttotal: 1.8s\tremaining: 3.34s\n",
      "360:\tlearn: 232.2597900\ttest: 1694.9850821\tbest: 1694.9850821 (360)\ttotal: 1.87s\tremaining: 3.31s\n",
      "370:\tlearn: 230.8056249\ttest: 1694.9903479\tbest: 1694.8495178 (366)\ttotal: 1.93s\tremaining: 3.27s\n",
      "380:\tlearn: 229.3248302\ttest: 1694.0267293\tbest: 1694.0262823 (379)\ttotal: 2.02s\tremaining: 3.29s\n",
      "390:\tlearn: 227.5736921\ttest: 1693.7364526\tbest: 1693.7301641 (389)\ttotal: 2.09s\tremaining: 3.25s\n",
      "400:\tlearn: 225.6520225\ttest: 1693.6069572\tbest: 1693.5335720 (396)\ttotal: 2.14s\tremaining: 3.19s\n",
      "410:\tlearn: 224.0324415\ttest: 1693.6004697\tbest: 1693.5335720 (396)\ttotal: 2.18s\tremaining: 3.12s\n",
      "420:\tlearn: 222.3309761\ttest: 1693.3864849\tbest: 1693.3269051 (417)\ttotal: 2.23s\tremaining: 3.07s\n",
      "430:\tlearn: 221.2210726\ttest: 1693.1506086\tbest: 1693.1506086 (430)\ttotal: 2.3s\tremaining: 3.04s\n",
      "440:\tlearn: 220.1331764\ttest: 1693.4449289\tbest: 1693.1276231 (434)\ttotal: 2.36s\tremaining: 2.99s\n",
      "450:\tlearn: 219.0117262\ttest: 1693.4421336\tbest: 1693.1276231 (434)\ttotal: 2.42s\tremaining: 2.95s\n",
      "460:\tlearn: 217.6561003\ttest: 1692.8146268\tbest: 1692.7758800 (459)\ttotal: 2.5s\tremaining: 2.93s\n",
      "470:\tlearn: 216.4516660\ttest: 1692.3840755\tbest: 1692.3840755 (470)\ttotal: 2.56s\tremaining: 2.88s\n",
      "480:\tlearn: 215.4897582\ttest: 1692.2642747\tbest: 1692.2642747 (480)\ttotal: 2.6s\tremaining: 2.81s\n",
      "490:\tlearn: 214.5580225\ttest: 1692.4604398\tbest: 1692.2616289 (481)\ttotal: 2.65s\tremaining: 2.75s\n",
      "500:\tlearn: 213.8111734\ttest: 1692.0793066\tbest: 1692.0793066 (500)\ttotal: 2.71s\tremaining: 2.69s\n",
      "510:\tlearn: 213.1177249\ttest: 1692.0471530\tbest: 1692.0015195 (506)\ttotal: 2.78s\tremaining: 2.66s\n",
      "520:\tlearn: 212.1479733\ttest: 1692.2156082\tbest: 1692.0015195 (506)\ttotal: 2.84s\tremaining: 2.61s\n",
      "530:\tlearn: 211.5479021\ttest: 1692.5520059\tbest: 1692.0015195 (506)\ttotal: 2.9s\tremaining: 2.56s\n",
      "540:\tlearn: 210.8189206\ttest: 1692.6044883\tbest: 1692.0015195 (506)\ttotal: 2.97s\tremaining: 2.52s\n",
      "550:\tlearn: 209.7874205\ttest: 1692.6429674\tbest: 1692.0015195 (506)\ttotal: 3.02s\tremaining: 2.46s\n",
      "Stopped by overfitting detector  (50 iterations wait)\n",
      "\n",
      "bestTest = 1692.00152\n",
      "bestIteration = 506\n",
      "\n",
      "Shrink model to first 507 iterations.\n",
      "Validation RMSE 1692.0015195248995\n",
      "Learning rate set to 0.071592\n",
      "0:\tlearn: 4836.4438559\ttest: 2005.2188654\tbest: 2005.2188654 (0)\ttotal: 21.1ms\tremaining: 21.1s\n",
      "10:\tlearn: 4078.1114489\ttest: 1654.9500032\tbest: 1654.9500032 (10)\ttotal: 111ms\tremaining: 9.97s\n",
      "20:\tlearn: 3459.2528773\ttest: 1533.3012591\tbest: 1533.3012591 (20)\ttotal: 143ms\tremaining: 6.68s\n",
      "30:\tlearn: 2916.5846281\ttest: 1441.3134213\tbest: 1441.3134213 (30)\ttotal: 184ms\tremaining: 5.75s\n",
      "40:\tlearn: 2419.5251954\ttest: 1464.5890612\tbest: 1435.8680988 (32)\ttotal: 228ms\tremaining: 5.33s\n",
      "50:\tlearn: 1998.2003186\ttest: 1491.3749827\tbest: 1422.7192663 (44)\ttotal: 271ms\tremaining: 5.05s\n",
      "60:\tlearn: 1671.5167378\ttest: 1553.1851160\tbest: 1422.7192663 (44)\ttotal: 329ms\tremaining: 5.06s\n",
      "70:\tlearn: 1402.5974918\ttest: 1639.9455102\tbest: 1422.7192663 (44)\ttotal: 375ms\tremaining: 4.9s\n",
      "80:\tlearn: 1188.1845602\ttest: 1693.2661779\tbest: 1422.7192663 (44)\ttotal: 421ms\tremaining: 4.77s\n",
      "90:\tlearn: 1007.8328691\ttest: 1768.9695717\tbest: 1422.7192663 (44)\ttotal: 468ms\tremaining: 4.67s\n",
      "Stopped by overfitting detector  (50 iterations wait)\n",
      "\n",
      "bestTest = 1422.719266\n",
      "bestIteration = 44\n",
      "\n",
      "Shrink model to first 45 iterations.\n",
      "Validation RMSE 1422.7192662712432\n",
      "Learning rate set to 0.071592\n",
      "0:\tlearn: 2295.3889396\ttest: 6417.0118874\tbest: 6417.0118874 (0)\ttotal: 4.9ms\tremaining: 4.89s\n",
      "10:\tlearn: 1698.0116747\ttest: 6151.0849111\tbest: 6151.0849111 (10)\ttotal: 50.9ms\tremaining: 4.58s\n",
      "20:\tlearn: 1360.3783188\ttest: 6051.6349196\tbest: 6051.6349196 (20)\ttotal: 92.9ms\tremaining: 4.33s\n",
      "30:\tlearn: 1129.6634203\ttest: 6006.1333934\tbest: 6006.1333934 (30)\ttotal: 132ms\tremaining: 4.14s\n",
      "40:\tlearn: 963.7417383\ttest: 5986.4765166\tbest: 5986.4765166 (40)\ttotal: 176ms\tremaining: 4.12s\n",
      "50:\tlearn: 801.8833460\ttest: 5957.5150292\tbest: 5957.5150292 (50)\ttotal: 229ms\tremaining: 4.27s\n",
      "60:\tlearn: 689.1729117\ttest: 5939.8894677\tbest: 5939.8894677 (60)\ttotal: 301ms\tremaining: 4.64s\n",
      "70:\tlearn: 601.3568589\ttest: 5920.2595695\tbest: 5920.2595695 (70)\ttotal: 344ms\tremaining: 4.5s\n",
      "80:\tlearn: 527.3733211\ttest: 5908.5658807\tbest: 5908.5658807 (80)\ttotal: 388ms\tremaining: 4.4s\n",
      "90:\tlearn: 473.0265756\ttest: 5897.3576588\tbest: 5897.3576588 (90)\ttotal: 445ms\tremaining: 4.44s\n",
      "100:\tlearn: 429.5132761\ttest: 5886.8940630\tbest: 5886.8940630 (100)\ttotal: 489ms\tremaining: 4.35s\n",
      "110:\tlearn: 396.4288689\ttest: 5879.9673741\tbest: 5879.9673741 (110)\ttotal: 532ms\tremaining: 4.26s\n",
      "120:\tlearn: 370.9491641\ttest: 5872.8729477\tbest: 5872.8729477 (120)\ttotal: 575ms\tremaining: 4.18s\n",
      "130:\tlearn: 352.1575281\ttest: 5867.8267376\tbest: 5867.8267376 (130)\ttotal: 620ms\tremaining: 4.11s\n"
     ]
    },
    {
     "name": "stdout",
     "output_type": "stream",
     "text": [
      "140:\tlearn: 338.4037510\ttest: 5863.8988550\tbest: 5863.8988550 (140)\ttotal: 675ms\tremaining: 4.11s\n",
      "150:\tlearn: 324.7685761\ttest: 5856.4965732\tbest: 5856.4965732 (150)\ttotal: 719ms\tremaining: 4.04s\n",
      "160:\tlearn: 314.6785401\ttest: 5849.1167353\tbest: 5849.1167353 (160)\ttotal: 764ms\tremaining: 3.98s\n",
      "170:\tlearn: 306.1830221\ttest: 5845.7322303\tbest: 5845.6637716 (169)\ttotal: 809ms\tremaining: 3.92s\n",
      "180:\tlearn: 301.0304914\ttest: 5844.7923648\tbest: 5844.7733074 (179)\ttotal: 855ms\tremaining: 3.87s\n",
      "190:\tlearn: 296.0488209\ttest: 5842.5858591\tbest: 5842.4995978 (189)\ttotal: 908ms\tremaining: 3.85s\n",
      "200:\tlearn: 291.3024817\ttest: 5840.7472140\tbest: 5840.7472140 (200)\ttotal: 953ms\tremaining: 3.79s\n",
      "210:\tlearn: 287.0945005\ttest: 5839.6881337\tbest: 5839.6881337 (210)\ttotal: 995ms\tremaining: 3.72s\n",
      "220:\tlearn: 284.3408428\ttest: 5839.2023276\tbest: 5839.2023276 (220)\ttotal: 1.03s\tremaining: 3.65s\n",
      "230:\tlearn: 282.3407501\ttest: 5838.7225617\tbest: 5838.7225617 (230)\ttotal: 1.08s\tremaining: 3.58s\n",
      "240:\tlearn: 280.2603632\ttest: 5836.9992972\tbest: 5836.9992972 (240)\ttotal: 1.12s\tremaining: 3.52s\n",
      "250:\tlearn: 277.9684725\ttest: 5836.4085287\tbest: 5836.3554160 (248)\ttotal: 1.16s\tremaining: 3.45s\n",
      "260:\tlearn: 274.6339093\ttest: 5836.3293156\tbest: 5835.7122148 (256)\ttotal: 1.2s\tremaining: 3.39s\n",
      "270:\tlearn: 271.9571709\ttest: 5835.9813402\tbest: 5835.7122148 (256)\ttotal: 1.24s\tremaining: 3.33s\n",
      "280:\tlearn: 270.7828090\ttest: 5835.6361590\tbest: 5835.6361590 (280)\ttotal: 1.28s\tremaining: 3.27s\n",
      "290:\tlearn: 268.2534408\ttest: 5834.4639108\tbest: 5834.4639108 (290)\ttotal: 1.33s\tremaining: 3.24s\n",
      "300:\tlearn: 267.2611445\ttest: 5834.1009583\tbest: 5834.1009583 (300)\ttotal: 1.37s\tremaining: 3.17s\n",
      "310:\tlearn: 265.5717942\ttest: 5832.6617228\tbest: 5832.6617228 (310)\ttotal: 1.41s\tremaining: 3.13s\n",
      "320:\tlearn: 262.1038800\ttest: 5832.3929661\tbest: 5832.3929661 (320)\ttotal: 1.46s\tremaining: 3.08s\n",
      "330:\tlearn: 259.7994247\ttest: 5832.1572509\tbest: 5832.0257445 (327)\ttotal: 1.5s\tremaining: 3.03s\n",
      "340:\tlearn: 258.2824153\ttest: 5831.4979916\tbest: 5831.4979916 (340)\ttotal: 1.55s\tremaining: 3s\n",
      "350:\tlearn: 257.5947397\ttest: 5830.8051999\tbest: 5830.8051999 (350)\ttotal: 1.59s\tremaining: 2.95s\n",
      "360:\tlearn: 255.9871339\ttest: 5830.8284904\tbest: 5830.6940103 (353)\ttotal: 1.64s\tremaining: 2.9s\n",
      "370:\tlearn: 253.8182984\ttest: 5830.5253542\tbest: 5830.5195015 (369)\ttotal: 1.68s\tremaining: 2.84s\n",
      "380:\tlearn: 251.8089820\ttest: 5830.5230930\tbest: 5830.4428029 (376)\ttotal: 1.72s\tremaining: 2.79s\n",
      "390:\tlearn: 250.4194758\ttest: 5829.9631156\tbest: 5829.9631156 (390)\ttotal: 1.77s\tremaining: 2.76s\n",
      "400:\tlearn: 248.3685346\ttest: 5829.8817825\tbest: 5829.8817825 (400)\ttotal: 1.81s\tremaining: 2.71s\n",
      "410:\tlearn: 247.2787122\ttest: 5830.1560246\tbest: 5829.7570862 (401)\ttotal: 1.86s\tremaining: 2.66s\n",
      "420:\tlearn: 245.8749058\ttest: 5830.1130668\tbest: 5829.7570862 (401)\ttotal: 1.9s\tremaining: 2.61s\n",
      "430:\tlearn: 243.9419538\ttest: 5830.5086239\tbest: 5829.7570862 (401)\ttotal: 1.94s\tremaining: 2.57s\n",
      "440:\tlearn: 242.4022098\ttest: 5830.1922965\tbest: 5829.7570862 (401)\ttotal: 2s\tremaining: 2.53s\n",
      "450:\tlearn: 241.4861809\ttest: 5830.1744182\tbest: 5829.7570862 (401)\ttotal: 2.04s\tremaining: 2.49s\n",
      "Stopped by overfitting detector  (50 iterations wait)\n",
      "\n",
      "bestTest = 5829.757086\n",
      "bestIteration = 401\n",
      "\n",
      "Shrink model to first 402 iterations.\n",
      "Validation RMSE 5829.757086178675\n"
     ]
    }
   ],
   "source": [
    "validation_scores = []\n",
    "models = []\n",
    "for train_index, test_index in kf.split(X, y):\n",
    "    X_train, X_test = X.iloc[train_index,:], X.iloc[test_index,:]\n",
    "    y_train, y_test = y[train_index], y[test_index]\n",
    "    train_pool = Pool(data=X_train, label=y_train,cat_features=cat_features)\n",
    "    test_pool = Pool(data=X_test, label=y_test, cat_features=cat_features)    \n",
    "    model = CatBoostRegressor(**params)\n",
    "    model.fit(X=train_pool, eval_set=test_pool,verbose=10)\n",
    "    validation_score = model.best_score_['validation']['RMSE']\n",
    "    print('Validation RMSE',validation_score)\n",
    "    validation_scores.append(validation_score)\n",
    "    models.append(model)\n",
    "    \n",
    "    train_df_preds += model.predict(train_df_pool)\n",
    "    test_df_preds += model.predict(test_df_pool)"
   ]
  },
  {
   "cell_type": "code",
   "execution_count": 40,
   "metadata": {},
   "outputs": [
    {
     "data": {
      "text/plain": [
       "(2981.492623991606, 2017.0252135091896)"
      ]
     },
     "execution_count": 40,
     "metadata": {},
     "output_type": "execute_result"
    }
   ],
   "source": [
    "np.mean(validation_scores), np.std(validation_scores)"
   ]
  },
  {
   "cell_type": "code",
   "execution_count": 41,
   "metadata": {},
   "outputs": [],
   "source": [
    "best_model = models[np.argmax(validation_scores)]"
   ]
  },
  {
   "cell_type": "code",
   "execution_count": 42,
   "metadata": {},
   "outputs": [
    {
     "data": {
      "text/html": [
       "<div>\n",
       "<style scoped>\n",
       "    .dataframe tbody tr th:only-of-type {\n",
       "        vertical-align: middle;\n",
       "    }\n",
       "\n",
       "    .dataframe tbody tr th {\n",
       "        vertical-align: top;\n",
       "    }\n",
       "\n",
       "    .dataframe thead th {\n",
       "        text-align: right;\n",
       "    }\n",
       "</style>\n",
       "<table border=\"1\" class=\"dataframe\">\n",
       "  <thead>\n",
       "    <tr style=\"text-align: right;\">\n",
       "      <th></th>\n",
       "      <th>Feature Id</th>\n",
       "      <th>Importances</th>\n",
       "    </tr>\n",
       "  </thead>\n",
       "  <tbody>\n",
       "    <tr>\n",
       "      <td>0</td>\n",
       "      <td>meter_waiting_fare</td>\n",
       "      <td>22.507397</td>\n",
       "    </tr>\n",
       "    <tr>\n",
       "      <td>1</td>\n",
       "      <td>is_more_than_one_day</td>\n",
       "      <td>21.421317</td>\n",
       "    </tr>\n",
       "    <tr>\n",
       "      <td>2</td>\n",
       "      <td>fare</td>\n",
       "      <td>19.669048</td>\n",
       "    </tr>\n",
       "    <tr>\n",
       "      <td>3</td>\n",
       "      <td>distance_km</td>\n",
       "      <td>14.062729</td>\n",
       "    </tr>\n",
       "    <tr>\n",
       "      <td>4</td>\n",
       "      <td>meter_waiting</td>\n",
       "      <td>10.652732</td>\n",
       "    </tr>\n",
       "    <tr>\n",
       "      <td>5</td>\n",
       "      <td>meter_waiting_till_pickup</td>\n",
       "      <td>4.801282</td>\n",
       "    </tr>\n",
       "    <tr>\n",
       "      <td>6</td>\n",
       "      <td>pick_cluster</td>\n",
       "      <td>3.961935</td>\n",
       "    </tr>\n",
       "    <tr>\n",
       "      <td>7</td>\n",
       "      <td>additional_fare</td>\n",
       "      <td>2.553974</td>\n",
       "    </tr>\n",
       "    <tr>\n",
       "      <td>8</td>\n",
       "      <td>day_of_week</td>\n",
       "      <td>0.155425</td>\n",
       "    </tr>\n",
       "    <tr>\n",
       "      <td>9</td>\n",
       "      <td>pickup_timeslot</td>\n",
       "      <td>0.114672</td>\n",
       "    </tr>\n",
       "    <tr>\n",
       "      <td>10</td>\n",
       "      <td>is_weekday</td>\n",
       "      <td>0.099489</td>\n",
       "    </tr>\n",
       "  </tbody>\n",
       "</table>\n",
       "</div>"
      ],
      "text/plain": [
       "                   Feature Id  Importances\n",
       "0          meter_waiting_fare    22.507397\n",
       "1        is_more_than_one_day    21.421317\n",
       "2                        fare    19.669048\n",
       "3                 distance_km    14.062729\n",
       "4               meter_waiting    10.652732\n",
       "5   meter_waiting_till_pickup     4.801282\n",
       "6                pick_cluster     3.961935\n",
       "7             additional_fare     2.553974\n",
       "8                 day_of_week     0.155425\n",
       "9             pickup_timeslot     0.114672\n",
       "10                 is_weekday     0.099489"
      ]
     },
     "execution_count": 42,
     "metadata": {},
     "output_type": "execute_result"
    }
   ],
   "source": [
    "best_model.get_feature_importance(prettified=True)"
   ]
  },
  {
   "cell_type": "code",
   "execution_count": 43,
   "metadata": {},
   "outputs": [],
   "source": [
    "train_df['predicted_duration'] = train_df_preds/3\n",
    "test_df['predicted_duration'] = test_df_preds/3"
   ]
  },
  {
   "cell_type": "code",
   "execution_count": 44,
   "metadata": {},
   "outputs": [],
   "source": [
    "train_df['predicted_duration_difference'] = train_df['duration'] - train_df['predicted_duration']\n",
    "test_df['predicted_duration_difference'] = test_df['duration'] - test_df['predicted_duration']"
   ]
  },
  {
   "cell_type": "code",
   "execution_count": 45,
   "metadata": {},
   "outputs": [],
   "source": [
    "train_df['predicted_duration_difference_per_duration'] = train_df['predicted_duration_difference'] / (train_df['duration'] + 1)\n",
    "test_df['predicted_duration_difference_per_duration'] = test_df['predicted_duration_difference'] / (test_df['duration'] + 1)"
   ]
  },
  {
   "cell_type": "code",
   "execution_count": 46,
   "metadata": {},
   "outputs": [
    {
     "data": {
      "text/plain": [
       "<matplotlib.axes._subplots.AxesSubplot at 0x7f1042178c50>"
      ]
     },
     "execution_count": 46,
     "metadata": {},
     "output_type": "execute_result"
    },
    {
     "data": {
      "image/png": "[encoded data removed]",
      "text/plain": [
       "<Figure size 432x288 with 1 Axes>"
      ]
     },
     "metadata": {
      "needs_background": "light"
     },
     "output_type": "display_data"
    }
   ],
   "source": [
    "sns.distplot(train_df[train_df['label']==1]['predicted_duration_difference'], hist=False)\n",
    "sns.distplot(train_df[train_df['label']==0]['predicted_duration_difference'], hist=False)"
   ]
  },
  {
   "cell_type": "code",
   "execution_count": 47,
   "metadata": {},
   "outputs": [],
   "source": [
    "train_df.to_csv('train_df_reg_duration.csv',index=False)\n",
    "test_df.to_csv('test_df_reg_duration.csv',index=False)"
   ]
  },
  {
   "cell_type": "code",
   "execution_count": null,
   "metadata": {},
   "outputs": [],
   "source": []
  }
 ],
 "metadata": {
  "kernelspec": {
   "display_name": "Python 3",
   "language": "python",
   "name": "python3"
  },
  "language_info": {
   "codemirror_mode": {
    "name": "ipython",
    "version": 3
   },
   "file_extension": ".py",
   "mimetype": "text/x-python",
   "name": "python",
   "nbconvert_exporter": "python",
   "pygments_lexer": "ipython3",
   "version": "3.7.4"
  }
 },
 "nbformat": 4,
 "nbformat_minor": 2
}
