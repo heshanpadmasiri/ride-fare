{
 "cells": [
  {
   "cell_type": "code",
   "execution_count": 1,
   "metadata": {},
   "outputs": [],
   "source": [
    "import pandas as pd\n",
    "import numpy as np\n",
    "\n",
    "from sklearn.model_selection import KFold\n",
    "import matplotlib.pyplot as plt\n",
    "import seaborn as sns\n",
    "\n",
    "from catboost import Pool, cv,CatBoostRegressor"
   ]
  },
  {
   "cell_type": "code",
   "execution_count": 2,
   "metadata": {},
   "outputs": [],
   "source": [
    "train_df = pd.read_csv('train_df.csv')\n",
    "test_df = pd.read_csv('test_df.csv')\n",
    "submission_df = pd.read_csv('sample_submission.csv')"
   ]
  },
  {
   "cell_type": "code",
   "execution_count": 13,
   "metadata": {},
   "outputs": [],
   "source": [
    "data = train_df[train_df['label'] == 1].drop(['label'], axis=1).dropna()"
   ]
  },
  {
   "cell_type": "code",
   "execution_count": 14,
   "metadata": {},
   "outputs": [
    {
     "data": {
      "text/plain": [
       "Index(['additional_fare', 'duration', 'meter_waiting', 'meter_waiting_fare',\n",
       "       'meter_waiting_till_pickup', 'fare', 'pickup_date', 'pickup_hour',\n",
       "       'pickup_minute', 'drop_date', 'drop_hour', 'drop_minute',\n",
       "       'pick_cluster', 'is_more_than_one_day', 'distance_km', 'fare_per_km',\n",
       "       'pickup_timeslot', 'day_of_week', 'is_weekday', 'cal_time_difference'],\n",
       "      dtype='object')"
      ]
     },
     "execution_count": 14,
     "metadata": {},
     "output_type": "execute_result"
    }
   ],
   "source": [
    "data.columns"
   ]
  },
  {
   "cell_type": "code",
   "execution_count": 5,
   "metadata": {},
   "outputs": [],
   "source": [
    "cat_features = ['pick_cluster','is_more_than_one_day','pickup_timeslot',\n",
    "       'day_of_week', 'is_weekday']\n",
    "\n",
    "features = [\n",
    "    'additional_fare',\n",
    "#     'meter_waiting',\n",
    "    'meter_waiting_fare',\n",
    "    'meter_waiting_till_pickup', \n",
    "    'pick_cluster', \n",
    "    'is_more_than_one_day', \n",
    "    'distance_km',\n",
    "    'pickup_timeslot',\n",
    "    'day_of_week', \n",
    "    'is_weekday',\n",
    "#     'fare'\n",
    "]"
   ]
  },
  {
   "cell_type": "code",
   "execution_count": 6,
   "metadata": {},
   "outputs": [],
   "source": [
    "X = data[features]\n",
    "y = data['duration'].values"
   ]
  },
  {
   "cell_type": "code",
   "execution_count": 7,
   "metadata": {},
   "outputs": [],
   "source": [
    "train_df_X = train_df[features]\n",
    "train_df_pool = Pool(data=train_df_X,cat_features=cat_features)\n",
    "test_df_X = test_df[features]\n",
    "test_df_pool = Pool(data=test_df_X,cat_features=cat_features)"
   ]
  },
  {
   "cell_type": "code",
   "execution_count": 8,
   "metadata": {},
   "outputs": [],
   "source": [
    "train_df_preds = np.zeros(train_df.shape[0])\n",
    "test_df_preds = np.zeros(test_df.shape[0])"
   ]
  },
  {
   "cell_type": "code",
   "execution_count": 9,
   "metadata": {},
   "outputs": [],
   "source": [
    "params = {\n",
    "    'loss_function':'RMSE',\n",
    "    'random_state':0,\n",
    "    'early_stopping_rounds':50,\n",
    "    'eval_metric':'RMSE'\n",
    "}"
   ]
  },
  {
   "cell_type": "code",
   "execution_count": 10,
   "metadata": {},
   "outputs": [],
   "source": [
    "kf = KFold(n_splits=3)"
   ]
  },
  {
   "cell_type": "code",
   "execution_count": 11,
   "metadata": {},
   "outputs": [
    {
     "name": "stdout",
     "output_type": "stream",
     "text": [
      "Learning rate set to 0.072878\n",
      "0:\tlearn: 5938.5850909\ttest: 10969.7979817\tbest: 10969.7979817 (0)\ttotal: 77.5ms\tremaining: 1m 17s\n",
      "10:\tlearn: 4783.4663285\ttest: 10065.8823199\tbest: 10065.8823199 (10)\ttotal: 163ms\tremaining: 14.7s\n",
      "20:\tlearn: 4027.0228432\ttest: 9654.7970277\tbest: 9654.7970277 (20)\ttotal: 276ms\tremaining: 12.8s\n",
      "30:\tlearn: 3341.1884253\ttest: 9303.9244701\tbest: 9303.9244701 (30)\ttotal: 375ms\tremaining: 11.7s\n",
      "40:\tlearn: 2845.5087793\ttest: 9127.6706770\tbest: 9127.6706770 (40)\ttotal: 460ms\tremaining: 10.8s\n",
      "50:\tlearn: 2404.1179858\ttest: 8946.9417814\tbest: 8945.5445557 (49)\ttotal: 579ms\tremaining: 10.8s\n",
      "60:\tlearn: 2023.1008346\ttest: 8838.3828441\tbest: 8838.3828441 (60)\ttotal: 665ms\tremaining: 10.2s\n",
      "70:\tlearn: 1731.3280360\ttest: 8776.8984631\tbest: 8774.0445078 (68)\ttotal: 746ms\tremaining: 9.76s\n",
      "80:\tlearn: 1490.2977136\ttest: 8694.8267461\tbest: 8694.8267461 (80)\ttotal: 869ms\tremaining: 9.86s\n",
      "90:\tlearn: 1303.2206224\ttest: 8653.0088827\tbest: 8651.3564620 (88)\ttotal: 959ms\tremaining: 9.57s\n",
      "100:\tlearn: 1158.1970230\ttest: 8632.6408720\tbest: 8624.8361555 (99)\ttotal: 1.05s\tremaining: 9.4s\n",
      "110:\tlearn: 1053.4169649\ttest: 8623.0963340\tbest: 8614.1855889 (102)\ttotal: 1.18s\tremaining: 9.47s\n",
      "120:\tlearn: 976.1840441\ttest: 8593.2766791\tbest: 8592.3948248 (119)\ttotal: 1.26s\tremaining: 9.15s\n",
      "130:\tlearn: 941.7695572\ttest: 8582.9376610\tbest: 8581.0599127 (124)\ttotal: 1.33s\tremaining: 8.8s\n",
      "140:\tlearn: 904.4547228\ttest: 8600.2236340\tbest: 8581.0599127 (124)\ttotal: 1.4s\tremaining: 8.56s\n",
      "150:\tlearn: 870.8179482\ttest: 8619.1644108\tbest: 8581.0599127 (124)\ttotal: 1.48s\tremaining: 8.31s\n",
      "160:\tlearn: 859.2058652\ttest: 8623.5992917\tbest: 8581.0599127 (124)\ttotal: 1.52s\tremaining: 7.93s\n",
      "170:\tlearn: 846.2703510\ttest: 8623.5157633\tbest: 8581.0599127 (124)\ttotal: 1.57s\tremaining: 7.59s\n",
      "Stopped by overfitting detector  (50 iterations wait)\n",
      "\n",
      "bestTest = 8581.059913\n",
      "bestIteration = 124\n",
      "\n",
      "Shrink model to first 125 iterations.\n",
      "Validation RMSE 8581.059912665267\n",
      "Learning rate set to 0.072878\n",
      "0:\tlearn: 8964.3281588\ttest: 5206.4419949\tbest: 5206.4419949 (0)\ttotal: 14.1ms\tremaining: 14.1s\n",
      "10:\tlearn: 6936.5467200\ttest: 3942.1017842\tbest: 3942.1017842 (10)\ttotal: 112ms\tremaining: 10s\n",
      "20:\tlearn: 5403.3691810\ttest: 3062.1946433\tbest: 3062.1946433 (20)\ttotal: 211ms\tremaining: 9.83s\n",
      "30:\tlearn: 4275.5285320\ttest: 2715.3223759\tbest: 2715.3223759 (30)\ttotal: 348ms\tremaining: 10.9s\n",
      "40:\tlearn: 3445.7353790\ttest: 2504.9565452\tbest: 2504.9565452 (40)\ttotal: 439ms\tremaining: 10.3s\n",
      "50:\tlearn: 2817.4009914\ttest: 2333.5278834\tbest: 2333.5278834 (50)\ttotal: 546ms\tremaining: 10.2s\n",
      "60:\tlearn: 2379.9788975\ttest: 2222.4869712\tbest: 2221.9454046 (59)\ttotal: 750ms\tremaining: 11.5s\n",
      "70:\tlearn: 2027.6382571\ttest: 2107.6207487\tbest: 2107.6207487 (70)\ttotal: 915ms\tremaining: 12s\n",
      "80:\tlearn: 1753.0375686\ttest: 2091.1184009\tbest: 2091.1184009 (80)\ttotal: 1.02s\tremaining: 11.6s\n",
      "90:\tlearn: 1530.7730824\ttest: 2035.5009578\tbest: 2035.5009578 (90)\ttotal: 1.11s\tremaining: 11.1s\n",
      "100:\tlearn: 1373.7265653\ttest: 1994.4966385\tbest: 1994.4966385 (100)\ttotal: 1.19s\tremaining: 10.5s\n",
      "110:\tlearn: 1245.9869169\ttest: 1974.0274195\tbest: 1973.3167793 (108)\ttotal: 1.3s\tremaining: 10.4s\n",
      "120:\tlearn: 1147.5187743\ttest: 1946.2334951\tbest: 1946.2334951 (120)\ttotal: 1.38s\tremaining: 10s\n",
      "130:\tlearn: 1058.9027836\ttest: 1933.4772644\tbest: 1933.4772644 (130)\ttotal: 1.46s\tremaining: 9.65s\n",
      "140:\tlearn: 974.3849920\ttest: 1906.4967777\tbest: 1906.4967777 (140)\ttotal: 1.57s\tremaining: 9.54s\n",
      "150:\tlearn: 903.5813822\ttest: 1899.7431373\tbest: 1899.6979765 (149)\ttotal: 1.64s\tremaining: 9.24s\n",
      "160:\tlearn: 865.7967754\ttest: 1889.9056147\tbest: 1889.9056147 (160)\ttotal: 1.72s\tremaining: 8.95s\n",
      "170:\tlearn: 819.4836386\ttest: 1880.4676963\tbest: 1880.4676963 (170)\ttotal: 1.84s\tremaining: 8.94s\n",
      "180:\tlearn: 786.9885503\ttest: 1867.6307703\tbest: 1867.6307703 (180)\ttotal: 1.93s\tremaining: 8.73s\n",
      "190:\tlearn: 755.7807183\ttest: 1855.2460110\tbest: 1855.2460110 (190)\ttotal: 2.01s\tremaining: 8.5s\n",
      "200:\tlearn: 722.7140899\ttest: 1841.4524185\tbest: 1841.4524185 (200)\ttotal: 2.11s\tremaining: 8.38s\n",
      "210:\tlearn: 697.5005788\ttest: 1836.6946023\tbest: 1836.2783996 (207)\ttotal: 2.19s\tremaining: 8.17s\n",
      "220:\tlearn: 678.7390369\ttest: 1836.6658390\tbest: 1836.2783996 (207)\ttotal: 2.3s\tremaining: 8.11s\n",
      "230:\tlearn: 665.6645950\ttest: 1837.2998841\tbest: 1835.4658354 (222)\ttotal: 2.4s\tremaining: 8s\n",
      "240:\tlearn: 649.9287319\ttest: 1837.4430882\tbest: 1835.4658354 (222)\ttotal: 2.48s\tremaining: 7.82s\n",
      "250:\tlearn: 634.9368379\ttest: 1839.0437633\tbest: 1835.4658354 (222)\ttotal: 2.55s\tremaining: 7.62s\n",
      "260:\tlearn: 624.0634765\ttest: 1842.1055703\tbest: 1835.4658354 (222)\ttotal: 2.66s\tremaining: 7.54s\n",
      "270:\tlearn: 613.4357413\ttest: 1835.3632687\tbest: 1835.3632687 (270)\ttotal: 2.74s\tremaining: 7.37s\n",
      "280:\tlearn: 598.7104203\ttest: 1832.0837661\tbest: 1831.8852251 (279)\ttotal: 2.92s\tremaining: 7.46s\n",
      "290:\tlearn: 588.2991923\ttest: 1825.7184230\tbest: 1825.7184230 (290)\ttotal: 3.04s\tremaining: 7.4s\n",
      "300:\tlearn: 579.1755436\ttest: 1822.0597550\tbest: 1822.0597550 (300)\ttotal: 3.18s\tremaining: 7.39s\n",
      "310:\tlearn: 567.9790571\ttest: 1812.4103733\tbest: 1812.4103733 (310)\ttotal: 3.26s\tremaining: 7.22s\n",
      "320:\tlearn: 556.8476791\ttest: 1808.8766707\tbest: 1808.4649421 (316)\ttotal: 3.34s\tremaining: 7.07s\n",
      "330:\tlearn: 546.7902474\ttest: 1804.7679266\tbest: 1804.5043315 (327)\ttotal: 3.46s\tremaining: 6.99s\n",
      "340:\tlearn: 537.9381194\ttest: 1800.6607417\tbest: 1800.6134058 (339)\ttotal: 3.53s\tremaining: 6.82s\n",
      "350:\tlearn: 530.8499303\ttest: 1798.8597447\tbest: 1798.8597447 (350)\ttotal: 3.6s\tremaining: 6.66s\n",
      "360:\tlearn: 525.0378396\ttest: 1798.2281752\tbest: 1797.7781522 (358)\ttotal: 3.71s\tremaining: 6.57s\n",
      "370:\tlearn: 517.9687321\ttest: 1793.4639899\tbest: 1793.3077978 (369)\ttotal: 3.8s\tremaining: 6.45s\n",
      "380:\tlearn: 509.4182995\ttest: 1792.4941033\tbest: 1792.4740449 (379)\ttotal: 3.88s\tremaining: 6.3s\n",
      "390:\tlearn: 501.1674368\ttest: 1790.9205449\tbest: 1790.6595407 (387)\ttotal: 3.98s\tremaining: 6.21s\n",
      "400:\tlearn: 493.1046984\ttest: 1788.3802973\tbest: 1788.2927215 (395)\ttotal: 4.06s\tremaining: 6.07s\n",
      "410:\tlearn: 486.3048256\ttest: 1787.3179444\tbest: 1787.3179444 (410)\ttotal: 4.16s\tremaining: 5.96s\n",
      "420:\tlearn: 480.3773050\ttest: 1787.2635746\tbest: 1786.8003072 (416)\ttotal: 4.3s\tremaining: 5.92s\n",
      "430:\tlearn: 475.4880181\ttest: 1786.8636935\tbest: 1786.8003072 (416)\ttotal: 4.38s\tremaining: 5.78s\n",
      "440:\tlearn: 470.8566010\ttest: 1789.0281857\tbest: 1786.8003072 (416)\ttotal: 4.48s\tremaining: 5.68s\n",
      "450:\tlearn: 466.4959745\ttest: 1788.7728096\tbest: 1786.8003072 (416)\ttotal: 4.58s\tremaining: 5.57s\n",
      "460:\tlearn: 461.8223957\ttest: 1786.4811224\tbest: 1786.4811224 (460)\ttotal: 4.66s\tremaining: 5.45s\n",
      "470:\tlearn: 457.8101246\ttest: 1786.0789462\tbest: 1785.7020879 (468)\ttotal: 4.74s\tremaining: 5.33s\n",
      "480:\tlearn: 455.6588089\ttest: 1785.9108316\tbest: 1785.7020879 (468)\ttotal: 4.92s\tremaining: 5.31s\n",
      "490:\tlearn: 451.5097596\ttest: 1785.8201466\tbest: 1785.5662886 (484)\ttotal: 5.12s\tremaining: 5.31s\n",
      "500:\tlearn: 448.9845029\ttest: 1786.6907002\tbest: 1785.5662886 (484)\ttotal: 5.27s\tremaining: 5.25s\n",
      "510:\tlearn: 444.8692766\ttest: 1787.1306019\tbest: 1785.5662886 (484)\ttotal: 5.4s\tremaining: 5.17s\n",
      "520:\tlearn: 441.9622890\ttest: 1787.0965043\tbest: 1785.5662886 (484)\ttotal: 5.54s\tremaining: 5.09s\n",
      "530:\tlearn: 439.7183737\ttest: 1787.2840780\tbest: 1785.5662886 (484)\ttotal: 5.62s\tremaining: 4.96s\n",
      "Stopped by overfitting detector  (50 iterations wait)\n",
      "\n",
      "bestTest = 1785.566289\n",
      "bestIteration = 484\n",
      "\n",
      "Shrink model to first 485 iterations.\n",
      "Validation RMSE 1785.5662886156583\n",
      "Learning rate set to 0.07288\n",
      "0:\tlearn: 8510.3131472\ttest: 6701.6285784\tbest: 6701.6285784 (0)\ttotal: 12.4ms\tremaining: 12.4s\n",
      "10:\tlearn: 5821.0588431\ttest: 6128.1700511\tbest: 6128.1700511 (10)\ttotal: 110ms\tremaining: 9.91s\n",
      "20:\tlearn: 4186.7234577\ttest: 5760.6168016\tbest: 5760.6168016 (20)\ttotal: 208ms\tremaining: 9.68s\n",
      "30:\tlearn: 3146.1512857\ttest: 5587.4463364\tbest: 5587.4463364 (30)\ttotal: 316ms\tremaining: 9.86s\n",
      "40:\tlearn: 2457.6953995\ttest: 5495.4350117\tbest: 5495.4350117 (40)\ttotal: 391ms\tremaining: 9.15s\n",
      "50:\tlearn: 1926.9107421\ttest: 5380.4916685\tbest: 5380.4916685 (50)\ttotal: 504ms\tremaining: 9.38s\n",
      "60:\tlearn: 1598.0347835\ttest: 5319.7557794\tbest: 5319.7557794 (60)\ttotal: 609ms\tremaining: 9.37s\n",
      "70:\tlearn: 1366.4884134\ttest: 5280.6231110\tbest: 5280.6231110 (70)\ttotal: 713ms\tremaining: 9.32s\n"
     ]
    },
    {
     "name": "stdout",
     "output_type": "stream",
     "text": [
      "80:\tlearn: 1201.3364771\ttest: 5254.7177368\tbest: 5254.7177368 (80)\ttotal: 861ms\tremaining: 9.77s\n",
      "90:\tlearn: 1071.1519578\ttest: 5233.1173692\tbest: 5231.4122217 (89)\ttotal: 996ms\tremaining: 9.95s\n",
      "100:\tlearn: 986.3417470\ttest: 5223.1479391\tbest: 5222.9969250 (99)\ttotal: 1.11s\tremaining: 9.87s\n",
      "110:\tlearn: 910.1152008\ttest: 5218.5558047\tbest: 5215.1636576 (106)\ttotal: 1.31s\tremaining: 10.5s\n",
      "120:\tlearn: 851.4789173\ttest: 5209.2855186\tbest: 5209.2855186 (120)\ttotal: 1.53s\tremaining: 11.1s\n",
      "130:\tlearn: 808.3034932\ttest: 5205.6335571\tbest: 5204.8268737 (123)\ttotal: 1.72s\tremaining: 11.4s\n",
      "140:\tlearn: 768.5167866\ttest: 5205.7263995\tbest: 5204.7480168 (139)\ttotal: 1.92s\tremaining: 11.7s\n",
      "150:\tlearn: 740.9077879\ttest: 5200.7581059\tbest: 5200.6770693 (149)\ttotal: 2.1s\tremaining: 11.8s\n",
      "160:\tlearn: 706.1902536\ttest: 5203.6980139\tbest: 5200.6770693 (149)\ttotal: 2.29s\tremaining: 12s\n",
      "170:\tlearn: 688.1955502\ttest: 5206.8155770\tbest: 5200.6770693 (149)\ttotal: 2.48s\tremaining: 12s\n",
      "180:\tlearn: 672.6022561\ttest: 5208.2755164\tbest: 5200.6770693 (149)\ttotal: 2.65s\tremaining: 12s\n",
      "190:\tlearn: 660.4276144\ttest: 5208.7793500\tbest: 5200.6770693 (149)\ttotal: 2.85s\tremaining: 12.1s\n",
      "Stopped by overfitting detector  (50 iterations wait)\n",
      "\n",
      "bestTest = 5200.677069\n",
      "bestIteration = 149\n",
      "\n",
      "Shrink model to first 150 iterations.\n",
      "Validation RMSE 5200.677069345646\n"
     ]
    }
   ],
   "source": [
    "validation_scores = []\n",
    "models = []\n",
    "for train_index, test_index in kf.split(X, y):\n",
    "    X_train, X_test = X.iloc[train_index,:], X.iloc[test_index,:]\n",
    "    y_train, y_test = y[train_index], y[test_index]\n",
    "    train_pool = Pool(data=X_train, label=y_train,cat_features=cat_features)\n",
    "    test_pool = Pool(data=X_test, label=y_test, cat_features=cat_features)    \n",
    "    model = CatBoostRegressor(**params)\n",
    "    model.fit(X=train_pool, eval_set=test_pool,verbose=10)\n",
    "    validation_score = model.best_score_['validation']['RMSE']\n",
    "    print('Validation RMSE',validation_score)\n",
    "    validation_scores.append(validation_score)\n",
    "    models.append(model)\n",
    "    \n",
    "    train_df_preds += model.predict(train_df_pool)\n",
    "    test_df_preds += model.predict(test_df_pool)"
   ]
  },
  {
   "cell_type": "code",
   "execution_count": 12,
   "metadata": {},
   "outputs": [
    {
     "data": {
      "text/plain": [
       "(5189.101090208857, 2774.2607304883286)"
      ]
     },
     "execution_count": 12,
     "metadata": {},
     "output_type": "execute_result"
    }
   ],
   "source": [
    "np.mean(validation_scores), np.std(validation_scores)"
   ]
  },
  {
   "cell_type": "code",
   "execution_count": 41,
   "metadata": {},
   "outputs": [],
   "source": [
    "best_model = models[np.argmax(validation_scores)]"
   ]
  },
  {
   "cell_type": "code",
   "execution_count": 42,
   "metadata": {},
   "outputs": [
    {
     "data": {
      "text/html": [
       "<div>\n",
       "<style scoped>\n",
       "    .dataframe tbody tr th:only-of-type {\n",
       "        vertical-align: middle;\n",
       "    }\n",
       "\n",
       "    .dataframe tbody tr th {\n",
       "        vertical-align: top;\n",
       "    }\n",
       "\n",
       "    .dataframe thead th {\n",
       "        text-align: right;\n",
       "    }\n",
       "</style>\n",
       "<table border=\"1\" class=\"dataframe\">\n",
       "  <thead>\n",
       "    <tr style=\"text-align: right;\">\n",
       "      <th></th>\n",
       "      <th>Feature Id</th>\n",
       "      <th>Importances</th>\n",
       "    </tr>\n",
       "  </thead>\n",
       "  <tbody>\n",
       "    <tr>\n",
       "      <td>0</td>\n",
       "      <td>meter_waiting_fare</td>\n",
       "      <td>22.507397</td>\n",
       "    </tr>\n",
       "    <tr>\n",
       "      <td>1</td>\n",
       "      <td>is_more_than_one_day</td>\n",
       "      <td>21.421317</td>\n",
       "    </tr>\n",
       "    <tr>\n",
       "      <td>2</td>\n",
       "      <td>fare</td>\n",
       "      <td>19.669048</td>\n",
       "    </tr>\n",
       "    <tr>\n",
       "      <td>3</td>\n",
       "      <td>distance_km</td>\n",
       "      <td>14.062729</td>\n",
       "    </tr>\n",
       "    <tr>\n",
       "      <td>4</td>\n",
       "      <td>meter_waiting</td>\n",
       "      <td>10.652732</td>\n",
       "    </tr>\n",
       "    <tr>\n",
       "      <td>5</td>\n",
       "      <td>meter_waiting_till_pickup</td>\n",
       "      <td>4.801282</td>\n",
       "    </tr>\n",
       "    <tr>\n",
       "      <td>6</td>\n",
       "      <td>pick_cluster</td>\n",
       "      <td>3.961935</td>\n",
       "    </tr>\n",
       "    <tr>\n",
       "      <td>7</td>\n",
       "      <td>additional_fare</td>\n",
       "      <td>2.553974</td>\n",
       "    </tr>\n",
       "    <tr>\n",
       "      <td>8</td>\n",
       "      <td>day_of_week</td>\n",
       "      <td>0.155425</td>\n",
       "    </tr>\n",
       "    <tr>\n",
       "      <td>9</td>\n",
       "      <td>pickup_timeslot</td>\n",
       "      <td>0.114672</td>\n",
       "    </tr>\n",
       "    <tr>\n",
       "      <td>10</td>\n",
       "      <td>is_weekday</td>\n",
       "      <td>0.099489</td>\n",
       "    </tr>\n",
       "  </tbody>\n",
       "</table>\n",
       "</div>"
      ],
      "text/plain": [
       "                   Feature Id  Importances\n",
       "0          meter_waiting_fare    22.507397\n",
       "1        is_more_than_one_day    21.421317\n",
       "2                        fare    19.669048\n",
       "3                 distance_km    14.062729\n",
       "4               meter_waiting    10.652732\n",
       "5   meter_waiting_till_pickup     4.801282\n",
       "6                pick_cluster     3.961935\n",
       "7             additional_fare     2.553974\n",
       "8                 day_of_week     0.155425\n",
       "9             pickup_timeslot     0.114672\n",
       "10                 is_weekday     0.099489"
      ]
     },
     "execution_count": 42,
     "metadata": {},
     "output_type": "execute_result"
    }
   ],
   "source": [
    "best_model.get_feature_importance(prettified=True)"
   ]
  },
  {
   "cell_type": "code",
   "execution_count": 43,
   "metadata": {},
   "outputs": [],
   "source": [
    "train_df['predicted_duration'] = train_df_preds/3\n",
    "test_df['predicted_duration'] = test_df_preds/3"
   ]
  },
  {
   "cell_type": "code",
   "execution_count": 44,
   "metadata": {},
   "outputs": [],
   "source": [
    "train_df['predicted_duration_difference'] = train_df['duration'] - train_df['predicted_duration']\n",
    "test_df['predicted_duration_difference'] = test_df['duration'] - test_df['predicted_duration']"
   ]
  },
  {
   "cell_type": "code",
   "execution_count": 45,
   "metadata": {},
   "outputs": [],
   "source": [
    "train_df['predicted_duration_difference_per_duration'] = train_df['predicted_duration_difference'] / (train_df['duration'] + 1)\n",
    "test_df['predicted_duration_difference_per_duration'] = test_df['predicted_duration_difference'] / (test_df['duration'] + 1)"
   ]
  },
  {
   "cell_type": "code",
   "execution_count": 46,
   "metadata": {},
   "outputs": [
    {
     "data": {
      "text/plain": [
       "<matplotlib.axes._subplots.AxesSubplot at 0x7f1042178c50>"
      ]
     },
     "execution_count": 46,
     "metadata": {},
     "output_type": "execute_result"
    },
    {
     "data": {
      "image/png": "[encoded data removed]",
      "text/plain": [
       "<Figure size 432x288 with 1 Axes>"
      ]
     },
     "metadata": {
      "needs_background": "light"
     },
     "output_type": "display_data"
    }
   ],
   "source": [
    "sns.distplot(train_df[train_df['label']==1]['predicted_duration_difference'], hist=False)\n",
    "sns.distplot(train_df[train_df['label']==0]['predicted_duration_difference'], hist=False)"
   ]
  },
  {
   "cell_type": "code",
   "execution_count": 47,
   "metadata": {},
   "outputs": [],
   "source": [
    "train_df.to_csv('train_df_reg_duration.csv',index=False)\n",
    "test_df.to_csv('test_df_reg_duration.csv',index=False)"
   ]
  },
  {
   "cell_type": "code",
   "execution_count": null,
   "metadata": {},
   "outputs": [],
   "source": []
  }
 ],
 "metadata": {
  "kernelspec": {
   "display_name": "Python 3",
   "language": "python",
   "name": "python3"
  },
  "language_info": {
   "codemirror_mode": {
    "name": "ipython",
    "version": 3
   },
   "file_extension": ".py",
   "mimetype": "text/x-python",
   "name": "python",
   "nbconvert_exporter": "python",
   "pygments_lexer": "ipython3",
   "version": "3.7.4"
  }
 },
 "nbformat": 4,
 "nbformat_minor": 2
}
