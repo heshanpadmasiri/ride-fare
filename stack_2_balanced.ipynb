{
 "cells": [
  {
   "cell_type": "code",
   "execution_count": 30,
   "metadata": {},
   "outputs": [],
   "source": [
    "import itertools\n",
    "\n",
    "import pandas as pd\n",
    "import numpy as np\n",
    "import matplotlib.pyplot as plt\n",
    "import seaborn as sns\n",
    "\n",
    "from sklearn.model_selection import KFold,StratifiedKFold\n",
    "from sklearn.linear_model import LinearRegression,LogisticRegression\n",
    "from sklearn.svm import SVR, SVC\n",
    "from sklearn.ensemble import RandomForestRegressor,ExtraTreesClassifier,RandomForestClassifier\n",
    "from sklearn.preprocessing import StandardScaler,KBinsDiscretizer,LabelEncoder,MinMaxScaler\n",
    "from sklearn.metrics import mean_squared_error,f1_score\n",
    "from sklearn.kernel_approximation import Nystroem\n",
    "from sklearn.neighbors import KNeighborsClassifier\n",
    "\n",
    "from catboost import Pool, cv,CatBoostClassifier,CatBoostRegressor\n",
    "\n",
    "import tensorflow as tf\n",
    "from tensorflow.keras.layers import Input, Dense, concatenate,Dropout\n",
    "from tensorflow.keras.models import Model, Sequential\n",
    "from tensorflow.keras import regularizers\n",
    "import tensorflow_addons as tfa\n",
    "\n",
    "from tqdm import tqdm\n",
    "\n",
    "import lightgbm as lgb\n",
    "\n",
    "from imblearn.over_sampling import RandomOverSampler,SMOTE, ADASYN"
   ]
  },
  {
   "cell_type": "code",
   "execution_count": null,
   "metadata": {},
   "outputs": [],
   "source": [
    "train_df = pd.read_csv('train_df_final_balanced.csv')\n",
    "train_df = train_df.fillna(0)\n",
    "test_df = pd.read_csv('test_df_final.csv')\n",
    "test_df = test_df.fillna(0)\n",
    "submission_df = pd.read_csv('sample_submission.csv')"
   ]
  },
  {
   "cell_type": "code",
   "execution_count": 87,
   "metadata": {},
   "outputs": [],
   "source": [
    "y = train_df['label'].values"
   ]
  },
  {
   "cell_type": "code",
   "execution_count": 88,
   "metadata": {},
   "outputs": [
    {
     "data": {
      "text/plain": [
       "0.9100607060765015"
      ]
     },
     "execution_count": 88,
     "metadata": {},
     "output_type": "execute_result"
    }
   ],
   "source": [
    "y.sum()/y.shape[0]"
   ]
  },
  {
   "cell_type": "code",
   "execution_count": 90,
   "metadata": {},
   "outputs": [
    {
     "data": {
      "text/plain": [
       "0.8888952852455242"
      ]
     },
     "execution_count": 90,
     "metadata": {},
     "output_type": "execute_result"
    }
   ],
   "source": [
    "y.sum()/y.shape[0]"
   ]
  },
  {
   "cell_type": "code",
   "execution_count": 91,
   "metadata": {},
   "outputs": [],
   "source": [
    "model_predictions_train = pd.DataFrame()\n",
    "model_predictions_train['label'] = train_df['label']\n",
    "model_predictions_test = pd.DataFrame()"
   ]
  },
  {
   "cell_type": "code",
   "execution_count": 92,
   "metadata": {},
   "outputs": [
    {
     "name": "stdout",
     "output_type": "stream",
     "text": [
      "additional_fare\n",
      "duration\n",
      "meter_waiting\n",
      "meter_waiting_fare\n",
      "meter_waiting_till_pickup\n",
      "fare\n",
      "pickup_date\n",
      "pickup_hour\n",
      "pickup_minute\n",
      "drop_date\n",
      "drop_hour\n",
      "drop_minute\n",
      "pick_cluster\n",
      "is_more_than_one_day\n",
      "distance_km\n",
      "fare_per_km\n",
      "pickup_timeslot\n",
      "day_of_week\n",
      "is_weekday\n",
      "cal_time_difference\n",
      "label\n",
      "predicted_fare\n",
      "predicted_fare_diff\n",
      "predicted_fare_diff_per_fare\n",
      "predicted_fare_diff_per_predicted_fare\n",
      "fare_per_distance\n",
      "predicted_fare_per_distance\n",
      "predicted_fare_diff_per_distance\n",
      "predicted_duration\n",
      "predicted_duration_diff\n",
      "predicted_duraton_diff_per_duraton\n",
      "predicted_duraton_diff_per_predicted_duration\n",
      "predicted_duraton_diff_per_distance\n",
      "fare_per_duration\n",
      "predicted_fare_per_duration\n",
      "predicted_fare_per_duration_diff\n",
      "avg_speed\n",
      "predicted_avg_speed\n",
      "predicted_avg_speed_diff\n",
      "predicted_meter_waiting\n",
      "predicted_meter_waiting_diff\n",
      "predicted_meter_waiting_diff_per_meter_waiting\n",
      "predicted_meter_waiting_diff_per_distance\n",
      "predicted_meter_waiting_diff_per_predicted_meter_waiting\n",
      "meter_waiting_per_duration\n",
      "predicted_meter_waiting_per_duration\n",
      "predicted_meter_waiting_per_duration_diff\n",
      "predicted_meter_waiting_fare\n",
      "predicted_meter_waiting_fare_diff\n",
      "predicted_meter_waiting_fare_diff_per_meter_waiting_fare\n",
      "predicted_meter_waiting_fare_diff_per_distance\n",
      "predicted_meter_waiting_fare_diff_per_predicted_meter_waiting_fare\n",
      "meter_waiting_fare_per_meter_waiting\n",
      "predicted_meter_waiting_fare_per_meter_waiting\n",
      "predicted_meter_waiting_fare_per_meter_waiting_diff\n",
      "meter_waiting_fare_per_duration\n",
      "predicted_meter_waiting_fare_per_duration\n",
      "predicted_meter_waiting_fare_per_duration_diff\n",
      "predicted_additional_fare\n",
      "predicted_additional_fare_diff\n",
      "predicted_additional_fare_diff_per_additional_fare\n",
      "predicted_addtional_fare_per_fare\n",
      "addtional_fare_per_fare\n",
      "addtional_fare_per_distance\n",
      "predicted_addtional_fare_per_distance\n",
      "predicted_addtional_fare_diff_per_distance\n",
      "addtional_fare_per_duration\n",
      "predicted_addtional_fare_per_duration\n",
      "fare-additional_fare\n",
      "predicted_fare-additional_fare\n",
      "fare-additional_fare-meter_waiting_fare\n",
      "predicted_fare-additional_fare-meter_waiting_fare\n",
      "fare-additional_fare_per_distance\n",
      "predicted_fare-additional_fare_per_distance\n",
      "fare-additional_fare_per_duration\n",
      "predicted_fare-additional_fare_per_duration\n",
      "fare-additional_fare-meter_waiting_fare_per_distance\n",
      "predicted_fare-additional_fare-meter_waiting_fare_per_distance\n",
      "fare-additional_fare-meter_waiting_fare_per_duration\n",
      "predicted_fare-additional_fare-meter_waiting_fare_per_duration\n",
      "predicted_meter_waiting_till_pickup\n",
      "predicted_meter_waiting_till_pickup_diff\n",
      "predicted_meter_waiting_till_pickup_diff_per_meter_waiting_till_pickup\n",
      "meter_waiting_till_pickup_per_meter_waiting\n",
      "predicted_meter_waiting_till_pickup_per_meter_waiting\n",
      "predicted_meter_waiting_till_pickup_per_meter_waiting_diff\n",
      "meter_waiting_after_pickup\n",
      "predicted_meter_waiting_after_pickup\n",
      "meter_waiting_after_pickup_per_duration\n",
      "predicted_meter_waiting_after_pickup_per_duration\n",
      "meter_waiting_till_pickup_per_duration\n",
      "predicted_meter_waiting_till_pickup_per_duration\n",
      "meter_waiting_till_pickup_per_distance\n",
      "predicted_meter_waiting_till_pickup_per_distance\n",
      "meter_waiting_after_pickup_per_distance\n",
      "predicted_meter_waiting_after_pickup_per_distance\n",
      "meter_waiting_till_pickup_per_fare\n",
      "predicted_meter_waiting_till_pickup_per_fare\n",
      "meter_waiting_after_pickup_per_fare\n",
      "predicted_meter_waiting_after_pickup_per_fare\n",
      "meter_waiting_till_pickup_per_meter_waiting_fare\n",
      "predicted_meter_waiting_till_pickup_per_meter_waiting_fare\n",
      "meter_waiting_after_pickup_per_meter_waiting_fare\n",
      "predicted_meter_waiting_after_pickup_per_meter_waiting_fare\n",
      "fare_anomaly\n",
      "additional_fare_anomaly\n",
      "duration_anomaly\n",
      "meter_waiting_anomaly\n",
      "meter_waiting_fare_anomaly\n",
      "meter_waiting_till_pickup_anomaly\n",
      "additional_fare_duration_anomaly\n",
      "additional_fare_meter_waiting_anomaly\n",
      "additional_fare_meter_waiting_fare_anomaly\n",
      "additional_fare_meter_waiting_till_pickup_anomaly\n",
      "duration_meter_waiting_anomaly\n",
      "duration_meter_waiting_fare_anomaly\n",
      "duration_meter_waiting_till_pickup_anomaly\n",
      "meter_waiting_meter_waiting_fare_anomaly\n",
      "meter_waiting_meter_waiting_till_pickup_anomaly\n",
      "meter_waiting_fare_meter_waiting_till_pickup_anomaly\n",
      "additional_fare_duration_meter_waiting_anomaly\n",
      "additional_fare_duration_meter_waiting_fare_anomaly\n",
      "additional_fare_duration_meter_waiting_till_pickup_anomaly\n",
      "additional_fare_meter_waiting_meter_waiting_fare_anomaly\n",
      "additional_fare_meter_waiting_meter_waiting_till_pickup_anomaly\n",
      "additional_fare_meter_waiting_fare_meter_waiting_till_pickup_anomaly\n",
      "duration_meter_waiting_meter_waiting_fare_anomaly\n",
      "duration_meter_waiting_meter_waiting_till_pickup_anomaly\n",
      "duration_meter_waiting_fare_meter_waiting_till_pickup_anomaly\n",
      "meter_waiting_meter_waiting_fare_meter_waiting_till_pickup_anomaly\n",
      "additional_fare_duration_meter_waiting_meter_waiting_fare_anomaly\n",
      "additional_fare_duration_meter_waiting_meter_waiting_till_pickup_anomaly\n",
      "additional_fare_duration_meter_waiting_fare_meter_waiting_till_pickup_anomaly\n",
      "additional_fare_meter_waiting_meter_waiting_fare_meter_waiting_till_pickup_anomaly\n",
      "duration_meter_waiting_meter_waiting_fare_meter_waiting_till_pickup_anomaly\n",
      "fare_anomaly_predicted_fare_diff_prod\n",
      "fare_anomaly_predicted_fare_diff_per_fare_prod\n",
      "fare_anomaly_predicted_fare_diff_per_distance_prod\n",
      "additional_fare_anomaly_predicted_additional_fare_diff_prod\n",
      "additional_fare_anomaly_predicted_additional_fare_diff_per_additional_fare_prod\n",
      "additional_fare_anomaly_predicted_addtional_fare_per_distance_prod\n",
      "duration_anomaly_predicted_duration_diff_prod\n",
      "duration_anomaly_predicted_duraton_diff_per_duraton_prod\n",
      "duration_anomaly_predicted_duraton_diff_per_distance_prod\n",
      "meter_waiting_anomaly_predicted_meter_waiting_diff_prod\n",
      "meter_waiting_anomaly_predicted_meter_waiting_diff_per_meter_waiting_prod\n",
      "meter_waiting_anomaly_predicted_meter_waiting_diff_per_distance_prod\n",
      "meter_waiting_fare_anomaly_predicted_meter_waiting_fare_diff_prod\n",
      "meter_waiting_fare_anomaly_predicted_meter_waiting_fare_diff_per_meter_waiting_fare_prod\n",
      "meter_waiting_fare_anomaly_predicted_meter_waiting_fare_diff_per_distance_prod\n",
      "predicted_fare_diff_per_distance@predicted_fare_diff_per_fare\n",
      "predicted_duraton_diff_per_duraton@predicted_duraton_diff_per_distance\n",
      "predicted_meter_waiting_diff_per_meter_waiting@predicted_meter_waiting_diff_per_distance\n",
      "predicted_fare_diff_per_distance_normalized\n",
      "predicted_fare_diff_normalized\n",
      "predicted_fare_diff_per_fare_normalized\n",
      "predicted_fare_diff_per_predicted_fare_normalized\n",
      "predicted_duraton_diff_per_duraton_normalized\n",
      "predicted_duraton_diff_per_predicted_duration_normalized\n",
      "predicted_fare_per_duration_diff_normalized\n",
      "predicted_avg_speed_diff_normalized\n",
      "predicted_meter_waiting_diff_normalized\n",
      "predicted_meter_waiting_diff_per_meter_waiting_normalized\n",
      "predicted_meter_waiting_diff_per_predicted_meter_waiting_normalized\n",
      "predicted_meter_waiting_per_duration_diff_normalized\n",
      "predicted_meter_waiting_fare_diff_normalized\n",
      "predicted_meter_waiting_fare_diff_per_meter_waiting_fare_normalized\n",
      "predicted_meter_waiting_fare_diff_per_predicted_meter_waiting_fare_normalized\n",
      "predicted_meter_waiting_fare_per_meter_waiting_diff_normalized\n",
      "predicted_meter_waiting_fare_per_duration_diff_normalized\n",
      "predicted_additional_fare_diff_normalized\n",
      "predicted_additional_fare_diff_per_additional_fare_normalized\n",
      "fare_per_distance_mean\n",
      "fare_per_distance_mean_diff\n",
      "avg_speed_mean\n",
      "avg_speed_mean_diff\n",
      "meter_waiting_per_duration_mean\n",
      "meter_waiting_per_duration_mean_diff\n",
      "meter_waiting_fare_per_meter_waiting_mean\n",
      "meter_waiting_fare_per_meter_waiting_mean_diff\n",
      "meter_waiting_fare_per_duration_mean\n",
      "meter_waiting_fare_per_duration_mean_diff\n",
      "addtional_fare_per_fare_mean\n",
      "addtional_fare_per_fare_mean_diff\n",
      "addtional_fare_per_distance_mean\n",
      "addtional_fare_per_distance_mean_diff\n",
      "addtional_fare_per_duration_mean\n",
      "addtional_fare_per_duration_mean_diff\n"
     ]
    }
   ],
   "source": [
    "for column in train_df.columns:\n",
    "    print(column)"
   ]
  },
  {
   "cell_type": "markdown",
   "metadata": {},
   "source": [
    "# Boosted decision trees"
   ]
  },
  {
   "cell_type": "markdown",
   "metadata": {},
   "source": [
    "## Anomaly based"
   ]
  },
  {
   "cell_type": "code",
   "execution_count": 93,
   "metadata": {},
   "outputs": [],
   "source": [
    "features = [\n",
    "    'fare_anomaly',\n",
    "    'additional_fare_anomaly', \n",
    "    'duration_anomaly',\n",
    "    'meter_waiting_anomaly', \n",
    "    'meter_waiting_fare_anomaly',\n",
    "    'meter_waiting_till_pickup_anomaly', \n",
    "    'additional_fare_duration_anomaly',\n",
    "    'additional_fare_meter_waiting_anomaly',\n",
    "    'additional_fare_meter_waiting_fare_anomaly',\n",
    "    'additional_fare_meter_waiting_till_pickup_anomaly',\n",
    "    'duration_meter_waiting_anomaly', \n",
    "    'duration_meter_waiting_fare_anomaly',\n",
    "    'duration_meter_waiting_till_pickup_anomaly',\n",
    "    'meter_waiting_meter_waiting_fare_anomaly',\n",
    "    'meter_waiting_meter_waiting_till_pickup_anomaly',\n",
    "    'meter_waiting_fare_meter_waiting_till_pickup_anomaly',\n",
    "    'additional_fare_duration_meter_waiting_anomaly',\n",
    "    'additional_fare_duration_meter_waiting_fare_anomaly',\n",
    "    'additional_fare_duration_meter_waiting_till_pickup_anomaly',\n",
    "    'additional_fare_meter_waiting_meter_waiting_fare_anomaly',\n",
    "    'additional_fare_meter_waiting_meter_waiting_till_pickup_anomaly',\n",
    "    'additional_fare_meter_waiting_fare_meter_waiting_till_pickup_anomaly',\n",
    "    'duration_meter_waiting_meter_waiting_fare_anomaly',\n",
    "    'duration_meter_waiting_meter_waiting_till_pickup_anomaly',\n",
    "    'duration_meter_waiting_fare_meter_waiting_till_pickup_anomaly',\n",
    "    'meter_waiting_meter_waiting_fare_meter_waiting_till_pickup_anomaly',\n",
    "    'additional_fare_duration_meter_waiting_meter_waiting_fare_anomaly',\n",
    "    'additional_fare_duration_meter_waiting_meter_waiting_till_pickup_anomaly',\n",
    "    'additional_fare_duration_meter_waiting_fare_meter_waiting_till_pickup_anomaly',\n",
    "    'additional_fare_meter_waiting_meter_waiting_fare_meter_waiting_till_pickup_anomaly',\n",
    "    'duration_meter_waiting_meter_waiting_fare_meter_waiting_till_pickup_anomaly',\n",
    "]\n",
    "\n",
    "cat_features = [\n",
    "    'fare_anomaly',\n",
    "    'additional_fare_anomaly', \n",
    "    'duration_anomaly',\n",
    "    'meter_waiting_anomaly', \n",
    "    'meter_waiting_fare_anomaly',\n",
    "    'meter_waiting_till_pickup_anomaly', \n",
    "    'additional_fare_duration_anomaly',\n",
    "    'additional_fare_meter_waiting_anomaly',\n",
    "    'additional_fare_meter_waiting_fare_anomaly',\n",
    "    'additional_fare_meter_waiting_till_pickup_anomaly',\n",
    "    'duration_meter_waiting_anomaly', \n",
    "    'duration_meter_waiting_fare_anomaly',\n",
    "    'duration_meter_waiting_till_pickup_anomaly',\n",
    "    'meter_waiting_meter_waiting_fare_anomaly',\n",
    "    'meter_waiting_meter_waiting_till_pickup_anomaly',\n",
    "    'meter_waiting_fare_meter_waiting_till_pickup_anomaly',\n",
    "    'additional_fare_duration_meter_waiting_anomaly',\n",
    "    'additional_fare_duration_meter_waiting_fare_anomaly',\n",
    "    'additional_fare_duration_meter_waiting_till_pickup_anomaly',\n",
    "    'additional_fare_meter_waiting_meter_waiting_fare_anomaly',\n",
    "    'additional_fare_meter_waiting_meter_waiting_till_pickup_anomaly',\n",
    "    'additional_fare_meter_waiting_fare_meter_waiting_till_pickup_anomaly',\n",
    "    'duration_meter_waiting_meter_waiting_fare_anomaly',\n",
    "    'duration_meter_waiting_meter_waiting_till_pickup_anomaly',\n",
    "    'duration_meter_waiting_fare_meter_waiting_till_pickup_anomaly',\n",
    "    'meter_waiting_meter_waiting_fare_meter_waiting_till_pickup_anomaly',\n",
    "    'additional_fare_duration_meter_waiting_meter_waiting_fare_anomaly',\n",
    "    'additional_fare_duration_meter_waiting_meter_waiting_till_pickup_anomaly',\n",
    "    'additional_fare_duration_meter_waiting_fare_meter_waiting_till_pickup_anomaly',\n",
    "    'additional_fare_meter_waiting_meter_waiting_fare_meter_waiting_till_pickup_anomaly',\n",
    "    'duration_meter_waiting_meter_waiting_fare_meter_waiting_till_pickup_anomaly',\n",
    "]"
   ]
  },
  {
   "cell_type": "code",
   "execution_count": 94,
   "metadata": {},
   "outputs": [],
   "source": [
    "train = train_df[features]\n",
    "test = test_df[features]\n",
    "y = train_df['label']"
   ]
  },
  {
   "cell_type": "code",
   "execution_count": 95,
   "metadata": {},
   "outputs": [],
   "source": [
    "def lgb_f1_score(y_hat, data):\n",
    "    y_true = data.get_label()\n",
    "    y_hat = np.round(y_hat) # scikits f1 doesn't like probabilities\n",
    "    return 'f1', f1_score(y_true, y_hat,average='micro'), True"
   ]
  },
  {
   "cell_type": "markdown",
   "metadata": {},
   "source": [
    "### catboost"
   ]
  },
  {
   "cell_type": "code",
   "execution_count": 96,
   "metadata": {},
   "outputs": [],
   "source": [
    "catboost_params = {\n",
    "    'loss_function':'Logloss',\n",
    "    'random_state':0,\n",
    "    'early_stopping_rounds':50,\n",
    "    'eval_metric':'F1',\n",
    "}"
   ]
  },
  {
   "cell_type": "code",
   "execution_count": 97,
   "metadata": {},
   "outputs": [],
   "source": [
    "submission_pool = Pool(data=test_df[features], cat_features=cat_features)"
   ]
  },
  {
   "cell_type": "code",
   "execution_count": 98,
   "metadata": {},
   "outputs": [
    {
     "name": "stdout",
     "output_type": "stream",
     "text": [
      "Learning rate set to 0.058029\n",
      "0:\tlearn: 0.9425393\ttest: 0.9424335\tbest: 0.9424335 (0)\ttotal: 10.7ms\tremaining: 10.7s\n",
      "10:\tlearn: 0.9426151\ttest: 0.9419201\tbest: 0.9424335 (0)\ttotal: 59.3ms\tremaining: 5.33s\n",
      "20:\tlearn: 0.9431766\ttest: 0.9418338\tbest: 0.9424335 (0)\ttotal: 105ms\tremaining: 4.91s\n",
      "30:\tlearn: 0.9434793\ttest: 0.9422654\tbest: 0.9424335 (0)\ttotal: 150ms\tremaining: 4.69s\n",
      "40:\tlearn: 0.9441559\ttest: 0.9432403\tbest: 0.9432403 (39)\ttotal: 202ms\tremaining: 4.72s\n",
      "50:\tlearn: 0.9445032\ttest: 0.9434032\tbest: 0.9435002 (46)\ttotal: 270ms\tremaining: 5.02s\n",
      "60:\tlearn: 0.9447921\ttest: 0.9433928\tbest: 0.9435002 (46)\ttotal: 316ms\tremaining: 4.86s\n",
      "70:\tlearn: 0.9453507\ttest: 0.9444393\tbest: 0.9444393 (68)\ttotal: 364ms\tremaining: 4.76s\n",
      "80:\tlearn: 0.9454948\ttest: 0.9445059\tbest: 0.9445059 (78)\ttotal: 460ms\tremaining: 5.21s\n",
      "90:\tlearn: 0.9457028\ttest: 0.9445725\tbest: 0.9445930 (82)\ttotal: 515ms\tremaining: 5.14s\n",
      "100:\tlearn: 0.9458337\ttest: 0.9444752\tbest: 0.9445930 (82)\ttotal: 565ms\tremaining: 5.03s\n",
      "110:\tlearn: 0.9460956\ttest: 0.9444752\tbest: 0.9448339 (103)\ttotal: 611ms\tremaining: 4.89s\n",
      "120:\tlearn: 0.9464203\ttest: 0.9448906\tbest: 0.9449778 (112)\ttotal: 657ms\tremaining: 4.77s\n",
      "130:\tlearn: 0.9466389\ttest: 0.9451524\tbest: 0.9451524 (126)\ttotal: 724ms\tremaining: 4.8s\n",
      "140:\tlearn: 0.9468867\ttest: 0.9450448\tbest: 0.9451524 (126)\ttotal: 771ms\tremaining: 4.7s\n",
      "150:\tlearn: 0.9470180\ttest: 0.9450448\tbest: 0.9451524 (126)\ttotal: 827ms\tremaining: 4.65s\n",
      "160:\tlearn: 0.9470618\ttest: 0.9450346\tbest: 0.9451524 (126)\ttotal: 874ms\tremaining: 4.55s\n",
      "170:\tlearn: 0.9471494\ttest: 0.9451220\tbest: 0.9452194 (166)\ttotal: 920ms\tremaining: 4.46s\n",
      "180:\tlearn: 0.9471932\ttest: 0.9451220\tbest: 0.9452194 (166)\ttotal: 1.01s\tremaining: 4.56s\n",
      "190:\tlearn: 0.9472808\ttest: 0.9452093\tbest: 0.9452194 (166)\ttotal: 1.06s\tremaining: 4.5s\n",
      "200:\tlearn: 0.9475635\ttest: 0.9450509\tbest: 0.9452865 (195)\ttotal: 1.11s\tremaining: 4.42s\n",
      "210:\tlearn: 0.9476074\ttest: 0.9450407\tbest: 0.9452865 (195)\ttotal: 1.16s\tremaining: 4.33s\n",
      "220:\tlearn: 0.9477930\ttest: 0.9449431\tbest: 0.9452865 (195)\ttotal: 1.21s\tremaining: 4.27s\n",
      "230:\tlearn: 0.9478761\ttest: 0.9449329\tbest: 0.9452865 (195)\ttotal: 1.28s\tremaining: 4.25s\n",
      "240:\tlearn: 0.9478761\ttest: 0.9450977\tbest: 0.9452865 (195)\ttotal: 1.32s\tremaining: 4.17s\n",
      "Stopped by overfitting detector  (50 iterations wait)\n",
      "\n",
      "bestTest = 0.9452865065\n",
      "bestIteration = 195\n",
      "\n",
      "Shrink model to first 196 iterations.\n",
      "Learning rate set to 0.05803\n",
      "0:\tlearn: 0.9423368\ttest: 0.9413059\tbest: 0.9413059 (0)\ttotal: 4.53ms\tremaining: 4.52s\n",
      "10:\tlearn: 0.9422426\ttest: 0.9417040\tbest: 0.9417040 (5)\ttotal: 51.7ms\tremaining: 4.65s\n",
      "20:\tlearn: 0.9422804\ttest: 0.9418764\tbest: 0.9418764 (11)\ttotal: 94.5ms\tremaining: 4.4s\n",
      "30:\tlearn: 0.9433080\ttest: 0.9421472\tbest: 0.9421472 (30)\ttotal: 139ms\tremaining: 4.36s\n",
      "40:\tlearn: 0.9440132\ttest: 0.9429700\tbest: 0.9431641 (38)\ttotal: 186ms\tremaining: 4.35s\n",
      "50:\tlearn: 0.9449478\ttest: 0.9436633\tbest: 0.9436633 (50)\ttotal: 256ms\tremaining: 4.76s\n",
      "60:\tlearn: 0.9456707\ttest: 0.9441120\tbest: 0.9442605 (55)\ttotal: 307ms\tremaining: 4.72s\n",
      "70:\tlearn: 0.9459609\ttest: 0.9443728\tbest: 0.9443728 (70)\ttotal: 368ms\tremaining: 4.81s\n",
      "80:\tlearn: 0.9465374\ttest: 0.9443523\tbest: 0.9444393 (76)\ttotal: 446ms\tremaining: 5.06s\n",
      "90:\tlearn: 0.9466685\ttest: 0.9442448\tbest: 0.9445264 (85)\ttotal: 538ms\tremaining: 5.37s\n",
      "100:\tlearn: 0.9466876\ttest: 0.9440089\tbest: 0.9445264 (85)\ttotal: 601ms\tremaining: 5.34s\n",
      "110:\tlearn: 0.9468139\ttest: 0.9440856\tbest: 0.9445264 (85)\ttotal: 653ms\tremaining: 5.23s\n",
      "120:\tlearn: 0.9469403\ttest: 0.9440856\tbest: 0.9445264 (85)\ttotal: 702ms\tremaining: 5.1s\n",
      "130:\tlearn: 0.9471203\ttest: 0.9439882\tbest: 0.9445264 (85)\ttotal: 753ms\tremaining: 4.99s\n",
      "Stopped by overfitting detector  (50 iterations wait)\n",
      "\n",
      "bestTest = 0.9445263546\n",
      "bestIteration = 85\n",
      "\n",
      "Shrink model to first 86 iterations.\n",
      "Learning rate set to 0.05803\n",
      "0:\tlearn: 0.9420017\ttest: 0.9423623\tbest: 0.9423623 (0)\ttotal: 14.4ms\tremaining: 14.4s\n",
      "10:\tlearn: 0.9421510\ttest: 0.9418009\tbest: 0.9423623 (0)\ttotal: 67.2ms\tremaining: 6.04s\n",
      "20:\tlearn: 0.9428794\ttest: 0.9420595\tbest: 0.9423623 (0)\ttotal: 111ms\tremaining: 5.15s\n",
      "30:\tlearn: 0.9438202\ttest: 0.9423623\tbest: 0.9423623 (0)\ttotal: 157ms\tremaining: 4.92s\n",
      "40:\tlearn: 0.9447684\ttest: 0.9423853\tbest: 0.9426004 (31)\ttotal: 208ms\tremaining: 4.85s\n",
      "50:\tlearn: 0.9454746\ttest: 0.9429071\tbest: 0.9429071 (46)\ttotal: 270ms\tremaining: 5.01s\n",
      "60:\tlearn: 0.9463289\ttest: 0.9429335\tbest: 0.9430386 (55)\ttotal: 316ms\tremaining: 4.87s\n",
      "70:\tlearn: 0.9466149\ttest: 0.9432604\tbest: 0.9433579 (69)\ttotal: 363ms\tremaining: 4.75s\n",
      "80:\tlearn: 0.9467412\ttest: 0.9428492\tbest: 0.9433579 (69)\ttotal: 417ms\tremaining: 4.73s\n",
      "90:\tlearn: 0.9471885\ttest: 0.9426434\tbest: 0.9433579 (69)\ttotal: 480ms\tremaining: 4.8s\n",
      "100:\tlearn: 0.9473928\ttest: 0.9425139\tbest: 0.9433579 (69)\ttotal: 555ms\tremaining: 4.94s\n",
      "110:\tlearn: 0.9474756\ttest: 0.9420799\tbest: 0.9433579 (69)\ttotal: 628ms\tremaining: 5.03s\n",
      "Stopped by overfitting detector  (50 iterations wait)\n",
      "\n",
      "bestTest = 0.9433579336\n",
      "bestIteration = 69\n",
      "\n",
      "Shrink model to first 70 iterations.\n"
     ]
    }
   ],
   "source": [
    "train_preds = np.zeros(train_df.shape[0])\n",
    "test_preds = np.zeros(test_df.shape[0])\n",
    "train_class = np.zeros(train_df.shape[0])\n",
    "test_class = np.zeros(test_df.shape[0])\n",
    "skf = StratifiedKFold(n_splits=3)\n",
    "validation_scores = []\n",
    "for train_index, test_index in skf.split(train, y):\n",
    "    X_train, X_test = train.iloc[train_index,:], train.iloc[test_index,:]\n",
    "    y_train, y_test = y[train_index], y[test_index]\n",
    "    train_pool = Pool(data=X_train, label=y_train,cat_features=cat_features)\n",
    "    test_pool = Pool(data=X_test, label=y_test, cat_features=cat_features)    \n",
    "    model = CatBoostClassifier(**catboost_params)\n",
    "    model.fit(X=train_pool, eval_set=test_pool,verbose=10)\n",
    "    train_preds[test_index] = model.predict_proba(test_pool)[:,1]\n",
    "    train_class[test_index] = model.predict(test_pool)\n",
    "    test_preds += model.predict_proba(submission_pool)[:,1]/3\n",
    "    test_class = model.predict(submission_pool)\n",
    "    validation_scores.append(f1_score(y_test,model.predict(test_pool),average='micro'))\n",
    "test_class = np.where(test_class > 2, 1, 0)"
   ]
  },
  {
   "cell_type": "code",
   "execution_count": 99,
   "metadata": {},
   "outputs": [
    {
     "data": {
      "text/plain": [
       "(0.8959183780998585, 0.001560324199585342, 0.8939550949913644)"
      ]
     },
     "execution_count": 99,
     "metadata": {},
     "output_type": "execute_result"
    }
   ],
   "source": [
    "np.mean(validation_scores), np.std(validation_scores), min(validation_scores)"
   ]
  },
  {
   "cell_type": "code",
   "execution_count": 64,
   "metadata": {},
   "outputs": [],
   "source": [
    "name = 'catboost_anomaly'\n",
    "model_predictions_train[name] = train_preds\n",
    "model_predictions_test[name] = test_preds"
   ]
  },
  {
   "cell_type": "markdown",
   "metadata": {},
   "source": [
    "## LightGBM"
   ]
  },
  {
   "cell_type": "code",
   "execution_count": 65,
   "metadata": {},
   "outputs": [],
   "source": [
    "lgb_params = {\n",
    "    'objective':'binary',\n",
    "    'learning_rate':0.05,\n",
    "    'seed':0, \n",
    "    'metric':'f1',\n",
    "    'max_depth':6\n",
    "}"
   ]
  },
  {
   "cell_type": "code",
   "execution_count": 66,
   "metadata": {},
   "outputs": [],
   "source": [
    "folds = 3\n",
    "skf = StratifiedKFold(n_splits=folds)\n",
    "train_preds = np.zeros(train_df.shape[0])\n",
    "test_preds = np.zeros(test_df.shape[0])\n",
    "validation_scores = []\n",
    "for train_index, test_index in skf.split(train, y):\n",
    "    X_train, X_test = train.iloc[train_index,:], train.iloc[test_index,:]\n",
    "    y_train, y_test = y[train_index], y[test_index]\n",
    "    train_data = lgb.Dataset(X_train,y_train)\n",
    "    valid_data = lgb.Dataset(X_test,y_test)\n",
    "    evals_result = {}\n",
    "    model = lgb.train(lgb_params, train_data,num_boost_round=1000,early_stopping_rounds=50, valid_sets=valid_data,feval=lgb_f1_score, evals_result=evals_result,verbose_eval=False)\n",
    "    \n",
    "    test_preds += model.predict(test) / 3\n",
    "    train_preds[test_index] = model.predict(X_test)\n",
    "    validation_scores.append(f1_score(y_test,np.round(model.predict(X_test)),average='micro'))"
   ]
  },
  {
   "cell_type": "code",
   "execution_count": 67,
   "metadata": {},
   "outputs": [
    {
     "data": {
      "text/plain": [
       "(0.7888698785915483, 0.0011391070706930292, 0.7873993893977241)"
      ]
     },
     "execution_count": 67,
     "metadata": {},
     "output_type": "execute_result"
    }
   ],
   "source": [
    "np.mean(validation_scores), np.std(validation_scores), min(validation_scores)"
   ]
  },
  {
   "cell_type": "code",
   "execution_count": 68,
   "metadata": {},
   "outputs": [],
   "source": [
    "name = 'lgb_anomaly'\n",
    "model_predictions_train[name] = train_preds\n",
    "model_predictions_test[name] = test_preds"
   ]
  },
  {
   "cell_type": "markdown",
   "metadata": {},
   "source": [
    "## K-NN"
   ]
  },
  {
   "cell_type": "code",
   "execution_count": 17,
   "metadata": {},
   "outputs": [],
   "source": [
    "knn_params = {\n",
    "    'n_neighbors':15,\n",
    "    'weights':'uniform'    \n",
    "}"
   ]
  },
  {
   "cell_type": "code",
   "execution_count": 18,
   "metadata": {},
   "outputs": [],
   "source": [
    "folds = 3\n",
    "skf = StratifiedKFold(n_splits=folds)\n",
    "train_preds = np.zeros(train_df.shape[0])\n",
    "test_preds = np.zeros(test_df.shape[0])\n",
    "validation_scores = []\n",
    "for train_index, test_index in skf.split(train, y):\n",
    "    X_train, X_test = train.iloc[train_index,:].values, train.iloc[test_index,:].values\n",
    "    y_train, y_test = y[train_index], y[test_index]\n",
    "    \n",
    "    model = KNeighborsClassifier(**knn_params)\n",
    "    model.fit(X_train, y_train)\n",
    "    \n",
    "    test_preds += model.predict(test.values) / 3\n",
    "    train_preds[test_index] = model.predict(X_test)\n",
    "    validation_scores.append(f1_score(y_test,model.predict(X_test),average='micro'))"
   ]
  },
  {
   "cell_type": "code",
   "execution_count": 19,
   "metadata": {},
   "outputs": [
    {
     "data": {
      "text/plain": [
       "(0.9117108878375522, 0.001250383548715244, 0.9103448275862069)"
      ]
     },
     "execution_count": 19,
     "metadata": {},
     "output_type": "execute_result"
    }
   ],
   "source": [
    "np.mean(validation_scores), np.std(validation_scores), min(validation_scores)"
   ]
  },
  {
   "cell_type": "code",
   "execution_count": 20,
   "metadata": {},
   "outputs": [],
   "source": [
    "name = 'knn_anomaly'\n",
    "model_predictions_train[name] = train_preds\n",
    "model_predictions_test[name] = test_preds"
   ]
  },
  {
   "cell_type": "markdown",
   "metadata": {},
   "source": [
    "## Random forests"
   ]
  },
  {
   "cell_type": "code",
   "execution_count": 21,
   "metadata": {},
   "outputs": [],
   "source": [
    "rf_params = {\n",
    "    'n_estimators':50,\n",
    "    'max_depth':10,\n",
    "    'random_state':0,    \n",
    "}"
   ]
  },
  {
   "cell_type": "code",
   "execution_count": 22,
   "metadata": {},
   "outputs": [],
   "source": [
    "folds = 3\n",
    "skf = StratifiedKFold(n_splits=folds)\n",
    "train_preds = np.zeros(train_df.shape[0])\n",
    "test_preds = np.zeros(test_df.shape[0])\n",
    "validation_scores = []\n",
    "for train_index, test_index in skf.split(train, y):\n",
    "    X_train, X_test = train.iloc[train_index,:].values, train.iloc[test_index,:].values\n",
    "    y_train, y_test = y[train_index], y[test_index]\n",
    "    \n",
    "    model = RandomForestClassifier(**rf_params)\n",
    "    model.fit(X_train, y_train)\n",
    "    \n",
    "    test_preds += model.predict(test.values) / 3\n",
    "    train_preds[test_index] = model.predict(X_test)\n",
    "    validation_scores.append(f1_score(y_test,model.predict(X_test),average='micro'))"
   ]
  },
  {
   "cell_type": "code",
   "execution_count": 23,
   "metadata": {},
   "outputs": [
    {
     "data": {
      "text/plain": [
       "(0.9125361058273315, 7.606512654814278e-05, 0.9124823196605375)"
      ]
     },
     "execution_count": 23,
     "metadata": {},
     "output_type": "execute_result"
    }
   ],
   "source": [
    "np.mean(validation_scores), np.std(validation_scores), min(validation_scores)"
   ]
  },
  {
   "cell_type": "code",
   "execution_count": 24,
   "metadata": {},
   "outputs": [],
   "source": [
    "name = 'rf_anomaly'\n",
    "model_predictions_train[name] = train_preds\n",
    "model_predictions_test[name] = test_preds"
   ]
  },
  {
   "cell_type": "markdown",
   "metadata": {},
   "source": [
    "## SVC"
   ]
  },
  {
   "cell_type": "code",
   "execution_count": 52,
   "metadata": {},
   "outputs": [],
   "source": [
    "svc_params = {\n",
    "    'C':2,\n",
    "    'kernel':'linear',\n",
    "    'random_state':0,    \n",
    "    'probability': False,\n",
    "    'gamma':'scale'\n",
    "}"
   ]
  },
  {
   "cell_type": "code",
   "execution_count": 53,
   "metadata": {},
   "outputs": [],
   "source": [
    "folds = 3\n",
    "skf = StratifiedKFold(n_splits=folds)\n",
    "train_preds = np.zeros(train_df.shape[0])\n",
    "test_preds = np.zeros(test_df.shape[0])\n",
    "validation_scores = []\n",
    "for train_index, test_index in skf.split(train, y):\n",
    "    X_train, X_test = train.iloc[train_index,:].values, train.iloc[test_index,:].values\n",
    "    y_train, y_test = y[train_index], y[test_index]\n",
    "    \n",
    "    model = SVC(**svc_params)\n",
    "    model.fit(X_train, y_train)\n",
    "    \n",
    "    test_preds += model.predict(test.values) / 3\n",
    "    train_preds[test_index] = model.predict(X_test)\n",
    "    validation_scores.append(f1_score(y_test,model.predict(X_test),average='micro'))"
   ]
  },
  {
   "cell_type": "code",
   "execution_count": 54,
   "metadata": {},
   "outputs": [
    {
     "data": {
      "text/plain": [
       "(0.9112394746484881, 0.0008026435619151851, 0.9101838755304101)"
      ]
     },
     "execution_count": 54,
     "metadata": {},
     "output_type": "execute_result"
    }
   ],
   "source": [
    "np.mean(validation_scores), np.std(validation_scores), min(validation_scores)"
   ]
  },
  {
   "cell_type": "code",
   "execution_count": 55,
   "metadata": {},
   "outputs": [],
   "source": [
    "name = 'svc_linear_anomaly'\n",
    "model_predictions_train[name] = train_preds\n",
    "model_predictions_test[name] = test_preds"
   ]
  },
  {
   "cell_type": "code",
   "execution_count": 59,
   "metadata": {},
   "outputs": [],
   "source": [
    "svc_params = {\n",
    "    'C':2,\n",
    "    'kernel':'rbf',\n",
    "    'random_state':0,    \n",
    "    'probability': False,\n",
    "    'gamma':'scale'\n",
    "}"
   ]
  },
  {
   "cell_type": "code",
   "execution_count": 60,
   "metadata": {},
   "outputs": [],
   "source": [
    "folds = 3\n",
    "skf = StratifiedKFold(n_splits=folds)\n",
    "train_preds = np.zeros(train_df.shape[0])\n",
    "test_preds = np.zeros(test_df.shape[0])\n",
    "validation_scores = []\n",
    "for train_index, test_index in skf.split(train, y):\n",
    "    X_train, X_test = train.iloc[train_index,:].values, train.iloc[test_index,:].values\n",
    "    y_train, y_test = y[train_index], y[test_index]\n",
    "    \n",
    "    model = SVC(**svc_params)\n",
    "    model.fit(X_train, y_train)\n",
    "    \n",
    "    test_preds += model.predict(test.values) / 3\n",
    "    train_preds[test_index] = model.predict(X_test)\n",
    "    validation_scores.append(f1_score(y_test,model.predict(X_test),average='micro'))"
   ]
  },
  {
   "cell_type": "code",
   "execution_count": 61,
   "metadata": {},
   "outputs": [
    {
     "data": {
      "text/plain": [
       "(0.9135969470383948, 0.0012302422268772803, 0.9124823196605375)"
      ]
     },
     "execution_count": 61,
     "metadata": {},
     "output_type": "execute_result"
    }
   ],
   "source": [
    "np.mean(validation_scores), np.std(validation_scores), min(validation_scores)"
   ]
  },
  {
   "cell_type": "code",
   "execution_count": 62,
   "metadata": {},
   "outputs": [],
   "source": [
    "name = 'svc_rbf_anomaly'\n",
    "model_predictions_train[name] = train_preds\n",
    "model_predictions_test[name] = test_preds"
   ]
  },
  {
   "cell_type": "markdown",
   "metadata": {},
   "source": [
    "# Base features"
   ]
  },
  {
   "cell_type": "code",
   "execution_count": 64,
   "metadata": {},
   "outputs": [],
   "source": [
    "features = [\n",
    "    'additional_fare',\n",
    "    'duration',\n",
    "    'meter_waiting',\n",
    "    'meter_waiting_fare',\n",
    "    'meter_waiting_till_pickup',\n",
    "    'fare',\n",
    "    'pickup_date',\n",
    "    'pickup_hour',\n",
    "    'pickup_minute',\n",
    "    'drop_date',\n",
    "    'drop_hour',\n",
    "    'drop_minute',\n",
    "    'pick_cluster',\n",
    "    'is_more_than_one_day',\n",
    "    'distance_km',\n",
    "    'fare_per_km',\n",
    "    'pickup_timeslot',\n",
    "    'day_of_week',\n",
    "    'is_weekday',\n",
    "    'cal_time_difference',\n",
    "    'fare_per_distance',\n",
    "    'fare_per_duration',\n",
    "    'avg_speed',\n",
    "    'meter_waiting_per_duration',\n",
    "    'meter_waiting_fare_per_meter_waiting',\n",
    "    'meter_waiting_fare_per_duration',\n",
    "    'addtional_fare_per_fare',\n",
    "    'addtional_fare_per_distance',\n",
    "    'addtional_fare_per_duration',\n",
    "    'fare-additional_fare',\n",
    "    'fare-additional_fare-meter_waiting_fare',\n",
    "    'fare-additional_fare_per_distance',\n",
    "    'fare-additional_fare_per_duration',\n",
    "    'fare-additional_fare-meter_waiting_fare_per_distance',\n",
    "    'fare-additional_fare-meter_waiting_fare_per_duration',\n",
    "    'meter_waiting_till_pickup_per_meter_waiting',\n",
    "    'meter_waiting_after_pickup',\n",
    "    'meter_waiting_after_pickup_per_duration',\n",
    "    'meter_waiting_till_pickup_per_duration',\n",
    "    'meter_waiting_till_pickup_per_distance',\n",
    "    'meter_waiting_after_pickup_per_distance',\n",
    "    'meter_waiting_till_pickup_per_fare',\n",
    "    'meter_waiting_after_pickup_per_fare',\n",
    "    'meter_waiting_till_pickup_per_meter_waiting_fare',\n",
    "    'meter_waiting_after_pickup_per_meter_waiting_fare',\n",
    "    'fare_per_distance_mean',\n",
    "    'fare_per_distance_mean_diff',\n",
    "    'avg_speed_mean',\n",
    "    'avg_speed_mean_diff',\n",
    "    'meter_waiting_per_duration_mean',\n",
    "    'meter_waiting_per_duration_mean_diff',\n",
    "    'meter_waiting_fare_per_meter_waiting_mean',\n",
    "    'meter_waiting_fare_per_meter_waiting_mean_diff',\n",
    "    'meter_waiting_fare_per_duration_mean',\n",
    "    'meter_waiting_fare_per_duration_mean_diff',\n",
    "    'addtional_fare_per_fare_mean',\n",
    "    'addtional_fare_per_fare_mean_diff',\n",
    "    'addtional_fare_per_distance_mean',\n",
    "    'addtional_fare_per_distance_mean_diff',\n",
    "    'addtional_fare_per_duration_mean',\n",
    "    'addtional_fare_per_duration_mean_diff',\n",
    "]\n",
    "\n",
    "cat_features = [\n",
    "    'pickup_date',\n",
    "    'pickup_hour',\n",
    "    'pickup_minute',\n",
    "    'drop_date',\n",
    "    'drop_hour',\n",
    "    'drop_minute',\n",
    "    'pick_cluster',\n",
    "    'is_more_than_one_day',\n",
    "    'pickup_timeslot',\n",
    "    'day_of_week',\n",
    "    'is_weekday',\n",
    "]"
   ]
  },
  {
   "cell_type": "code",
   "execution_count": 65,
   "metadata": {},
   "outputs": [],
   "source": [
    "train = train_df[features]\n",
    "test = test_df[features]\n",
    "y = train_df['label']"
   ]
  },
  {
   "cell_type": "markdown",
   "metadata": {},
   "source": [
    "### Catboost"
   ]
  },
  {
   "cell_type": "code",
   "execution_count": 66,
   "metadata": {},
   "outputs": [],
   "source": [
    "catboost_params = {\n",
    "    'loss_function':'Logloss',\n",
    "    'random_state':0,\n",
    "    'early_stopping_rounds':50,\n",
    "    'eval_metric':'F1',\n",
    "    'border_count':512\n",
    "}"
   ]
  },
  {
   "cell_type": "code",
   "execution_count": 67,
   "metadata": {},
   "outputs": [],
   "source": [
    "submission_pool = Pool(data=test_df[features], cat_features=cat_features)"
   ]
  },
  {
   "cell_type": "code",
   "execution_count": 68,
   "metadata": {},
   "outputs": [
    {
     "name": "stdout",
     "output_type": "stream",
     "text": [
      "Learning rate set to 0.057693\n",
      "0:\tlearn: 0.9648677\ttest: 0.9632484\tbest: 0.9632484 (0)\ttotal: 28.5ms\tremaining: 28.5s\n",
      "10:\tlearn: 0.9698978\ttest: 0.9703045\tbest: 0.9708389 (3)\ttotal: 236ms\tremaining: 21.2s\n",
      "20:\tlearn: 0.9729190\ttest: 0.9763629\tbest: 0.9763629 (20)\ttotal: 448ms\tremaining: 20.9s\n",
      "30:\tlearn: 0.9749917\ttest: 0.9770905\tbest: 0.9771080 (23)\ttotal: 658ms\tremaining: 20.6s\n",
      "40:\tlearn: 0.9773194\ttest: 0.9772531\tbest: 0.9777437 (38)\ttotal: 866ms\tremaining: 20.2s\n",
      "50:\tlearn: 0.9787295\ttest: 0.9744628\tbest: 0.9777437 (38)\ttotal: 1.18s\tremaining: 22s\n",
      "60:\tlearn: 0.9794806\ttest: 0.9716881\tbest: 0.9777437 (38)\ttotal: 1.48s\tremaining: 22.8s\n",
      "70:\tlearn: 0.9801838\ttest: 0.9708587\tbest: 0.9777437 (38)\ttotal: 1.71s\tremaining: 22.3s\n",
      "80:\tlearn: 0.9806532\ttest: 0.9661676\tbest: 0.9777437 (38)\ttotal: 1.94s\tremaining: 22s\n",
      "Stopped by overfitting detector  (50 iterations wait)\n",
      "\n",
      "bestTest = 0.9777436685\n",
      "bestIteration = 38\n",
      "\n",
      "Shrink model to first 39 iterations.\n",
      "Learning rate set to 0.057693\n",
      "0:\tlearn: 0.9644670\ttest: 0.9661081\tbest: 0.9661081 (0)\ttotal: 20ms\tremaining: 20s\n",
      "10:\tlearn: 0.9716100\ttest: 0.9725572\tbest: 0.9728395 (9)\ttotal: 225ms\tremaining: 20.3s\n",
      "20:\tlearn: 0.9736742\ttest: 0.9740322\tbest: 0.9740322 (20)\ttotal: 434ms\tremaining: 20.2s\n",
      "30:\tlearn: 0.9752546\ttest: 0.9750381\tbest: 0.9750381 (30)\ttotal: 661ms\tremaining: 20.7s\n",
      "40:\tlearn: 0.9764005\ttest: 0.9758657\tbest: 0.9759588 (39)\ttotal: 890ms\tremaining: 20.8s\n",
      "50:\tlearn: 0.9769572\ttest: 0.9766953\tbest: 0.9767930 (49)\ttotal: 1.11s\tremaining: 20.6s\n",
      "60:\tlearn: 0.9781154\ttest: 0.9768642\tbest: 0.9769620 (56)\ttotal: 1.35s\tremaining: 20.8s\n",
      "70:\tlearn: 0.9787193\ttest: 0.9771489\tbest: 0.9771489 (70)\ttotal: 1.55s\tremaining: 20.3s\n",
      "80:\tlearn: 0.9793731\ttest: 0.9765168\tbest: 0.9771489 (70)\ttotal: 1.77s\tremaining: 20.1s\n",
      "90:\tlearn: 0.9797501\ttest: 0.9766059\tbest: 0.9771489 (70)\ttotal: 2s\tremaining: 20s\n",
      "100:\tlearn: 0.9804523\ttest: 0.9758816\tbest: 0.9771489 (70)\ttotal: 2.22s\tremaining: 19.8s\n",
      "110:\tlearn: 0.9811610\ttest: 0.9728424\tbest: 0.9771489 (70)\ttotal: 2.44s\tremaining: 19.6s\n",
      "120:\tlearn: 0.9819245\ttest: 0.9637447\tbest: 0.9771489 (70)\ttotal: 2.68s\tremaining: 19.5s\n",
      "Stopped by overfitting detector  (50 iterations wait)\n",
      "\n",
      "bestTest = 0.977148867\n",
      "bestIteration = 70\n",
      "\n",
      "Shrink model to first 71 iterations.\n",
      "Learning rate set to 0.057694\n",
      "0:\tlearn: 0.9692703\ttest: 0.9625850\tbest: 0.9625850 (0)\ttotal: 31.8ms\tremaining: 31.8s\n",
      "10:\tlearn: 0.9758629\ttest: 0.9679433\tbest: 0.9679433 (10)\ttotal: 253ms\tremaining: 22.7s\n",
      "20:\tlearn: 0.9766932\ttest: 0.9677114\tbest: 0.9679433 (10)\ttotal: 466ms\tremaining: 21.7s\n",
      "30:\tlearn: 0.9778075\ttest: 0.9685069\tbest: 0.9685248 (25)\ttotal: 681ms\tremaining: 21.3s\n",
      "40:\tlearn: 0.9786360\ttest: 0.9690585\tbest: 0.9691622 (37)\ttotal: 899ms\tremaining: 21s\n",
      "50:\tlearn: 0.9793440\ttest: 0.9694149\tbest: 0.9695070 (48)\ttotal: 1.12s\tremaining: 20.8s\n",
      "60:\tlearn: 0.9799550\ttest: 0.9703366\tbest: 0.9703366 (60)\ttotal: 1.34s\tremaining: 20.7s\n",
      "70:\tlearn: 0.9803321\ttest: 0.9708904\tbest: 0.9709015 (67)\ttotal: 1.56s\tremaining: 20.4s\n",
      "80:\tlearn: 0.9805630\ttest: 0.9713415\tbest: 0.9713415 (80)\ttotal: 1.79s\tremaining: 20.3s\n",
      "90:\tlearn: 0.9813129\ttest: 0.9715974\tbest: 0.9717988 (89)\ttotal: 2s\tremaining: 20s\n",
      "100:\tlearn: 0.9815028\ttest: 0.9716900\tbest: 0.9720660 (96)\ttotal: 2.23s\tremaining: 19.8s\n",
      "110:\tlearn: 0.9819263\ttest: 0.9716846\tbest: 0.9720660 (96)\ttotal: 2.44s\tremaining: 19.6s\n",
      "120:\tlearn: 0.9823552\ttest: 0.9724368\tbest: 0.9725296 (118)\ttotal: 2.67s\tremaining: 19.4s\n",
      "130:\tlearn: 0.9826817\ttest: 0.9721374\tbest: 0.9725296 (118)\ttotal: 2.88s\tremaining: 19.1s\n",
      "140:\tlearn: 0.9832558\ttest: 0.9724263\tbest: 0.9725296 (118)\ttotal: 3.11s\tremaining: 19s\n",
      "150:\tlearn: 0.9838268\ttest: 0.9724210\tbest: 0.9726171 (143)\ttotal: 3.33s\tremaining: 18.7s\n",
      "160:\tlearn: 0.9839670\ttest: 0.9722514\tbest: 0.9726171 (143)\ttotal: 3.56s\tremaining: 18.5s\n",
      "170:\tlearn: 0.9844958\ttest: 0.9723441\tbest: 0.9726171 (143)\ttotal: 3.85s\tremaining: 18.7s\n",
      "180:\tlearn: 0.9848754\ttest: 0.9720660\tbest: 0.9726171 (143)\ttotal: 4.14s\tremaining: 18.8s\n",
      "190:\tlearn: 0.9850173\ttest: 0.9719680\tbest: 0.9726171 (143)\ttotal: 4.35s\tremaining: 18.4s\n",
      "Stopped by overfitting detector  (50 iterations wait)\n",
      "\n",
      "bestTest = 0.9726171167\n",
      "bestIteration = 143\n",
      "\n",
      "Shrink model to first 144 iterations.\n"
     ]
    }
   ],
   "source": [
    "train_preds = np.zeros(train_df.shape[0])\n",
    "test_preds = np.zeros(test_df.shape[0])\n",
    "train_class = np.zeros(train_df.shape[0])\n",
    "test_class = np.zeros(test_df.shape[0])\n",
    "skf = StratifiedKFold(n_splits=3)\n",
    "validation_scores = []\n",
    "for train_index, test_index in skf.split(train, y):\n",
    "    X_train, X_test = train.iloc[train_index,:], train.iloc[test_index,:]\n",
    "    y_train, y_test = y[train_index], y[test_index]\n",
    "    train_pool = Pool(data=X_train, label=y_train,cat_features=cat_features)\n",
    "    test_pool = Pool(data=X_test, label=y_test, cat_features=cat_features)    \n",
    "    model = CatBoostClassifier(**catboost_params)\n",
    "    model.fit(X=train_pool, eval_set=test_pool,verbose=10)\n",
    "    train_preds[test_index] = model.predict_proba(test_pool)[:,1]\n",
    "    train_class[test_index] = model.predict(test_pool)\n",
    "    test_preds += model.predict_proba(submission_pool)[:,1]/3\n",
    "    test_class = model.predict(submission_pool)\n",
    "    validation_scores.append(f1_score(y_test,model.predict(test_pool),average='micro'))\n",
    "test_class = np.where(test_class > 2, 1, 0)"
   ]
  },
  {
   "cell_type": "code",
   "execution_count": 69,
   "metadata": {},
   "outputs": [
    {
     "data": {
      "text/plain": [
       "(0.9553246846094234, 0.00432615100961109, 0.9492484526967285)"
      ]
     },
     "execution_count": 69,
     "metadata": {},
     "output_type": "execute_result"
    }
   ],
   "source": [
    "np.mean(validation_scores), np.std(validation_scores), min(validation_scores)"
   ]
  },
  {
   "cell_type": "code",
   "execution_count": 70,
   "metadata": {},
   "outputs": [],
   "source": [
    "name = 'catboost_base'\n",
    "model_predictions_train[name] = train_preds\n",
    "model_predictions_test[name] = test_preds"
   ]
  },
  {
   "cell_type": "markdown",
   "metadata": {},
   "source": [
    "### lgb"
   ]
  },
  {
   "cell_type": "code",
   "execution_count": 71,
   "metadata": {},
   "outputs": [],
   "source": [
    "lgb_params = {\n",
    "    'objective':'binary',\n",
    "    'learning_rate':0.05,\n",
    "    'seed':0, \n",
    "    'metric':'f1',\n",
    "    'max_depth':6\n",
    "}"
   ]
  },
  {
   "cell_type": "code",
   "execution_count": 72,
   "metadata": {},
   "outputs": [
    {
     "name": "stdout",
     "output_type": "stream",
     "text": [
      "[1]\tvalid_0's f1: 0.910007\n",
      "Training until validation scores don't improve for 50 rounds\n",
      "[2]\tvalid_0's f1: 0.910007\n",
      "[3]\tvalid_0's f1: 0.910007\n",
      "[4]\tvalid_0's f1: 0.910007\n",
      "[5]\tvalid_0's f1: 0.910007\n",
      "[6]\tvalid_0's f1: 0.910007\n",
      "[7]\tvalid_0's f1: 0.910007\n",
      "[8]\tvalid_0's f1: 0.910007\n",
      "[9]\tvalid_0's f1: 0.910184\n",
      "[10]\tvalid_0's f1: 0.910537\n",
      "[11]\tvalid_0's f1: 0.911245\n",
      "[12]\tvalid_0's f1: 0.930516\n",
      "[13]\tvalid_0's f1: 0.941124\n",
      "[14]\tvalid_0's f1: 0.945721\n",
      "[15]\tvalid_0's f1: 0.949611\n",
      "[16]\tvalid_0's f1: 0.950849\n",
      "[17]\tvalid_0's f1: 0.951909\n",
      "[18]\tvalid_0's f1: 0.952793\n",
      "[19]\tvalid_0's f1: 0.95297\n",
      "[20]\tvalid_0's f1: 0.954031\n",
      "[21]\tvalid_0's f1: 0.953854\n",
      "[22]\tvalid_0's f1: 0.953678\n",
      "[23]\tvalid_0's f1: 0.953678\n",
      "[24]\tvalid_0's f1: 0.953678\n",
      "[25]\tvalid_0's f1: 0.954208\n",
      "[26]\tvalid_0's f1: 0.954562\n",
      "[27]\tvalid_0's f1: 0.955269\n",
      "[28]\tvalid_0's f1: 0.955622\n",
      "[29]\tvalid_0's f1: 0.955622\n",
      "[30]\tvalid_0's f1: 0.955269\n",
      "[31]\tvalid_0's f1: 0.955092\n",
      "[32]\tvalid_0's f1: 0.955092\n",
      "[33]\tvalid_0's f1: 0.955446\n",
      "[34]\tvalid_0's f1: 0.955976\n",
      "[35]\tvalid_0's f1: 0.955446\n",
      "[36]\tvalid_0's f1: 0.956153\n",
      "[37]\tvalid_0's f1: 0.956153\n",
      "[38]\tvalid_0's f1: 0.95633\n",
      "[39]\tvalid_0's f1: 0.95686\n",
      "[40]\tvalid_0's f1: 0.95686\n",
      "[41]\tvalid_0's f1: 0.956506\n",
      "[42]\tvalid_0's f1: 0.956506\n",
      "[43]\tvalid_0's f1: 0.956683\n",
      "[44]\tvalid_0's f1: 0.95739\n",
      "[45]\tvalid_0's f1: 0.956683\n",
      "[46]\tvalid_0's f1: 0.956683\n",
      "[47]\tvalid_0's f1: 0.95633\n",
      "[48]\tvalid_0's f1: 0.956506\n",
      "[49]\tvalid_0's f1: 0.95633\n",
      "[50]\tvalid_0's f1: 0.956153\n",
      "[51]\tvalid_0's f1: 0.95633\n",
      "[52]\tvalid_0's f1: 0.956153\n",
      "[53]\tvalid_0's f1: 0.956153\n",
      "[54]\tvalid_0's f1: 0.956153\n",
      "[55]\tvalid_0's f1: 0.956153\n",
      "[56]\tvalid_0's f1: 0.956153\n",
      "[57]\tvalid_0's f1: 0.955622\n",
      "[58]\tvalid_0's f1: 0.956153\n",
      "[59]\tvalid_0's f1: 0.955799\n",
      "[60]\tvalid_0's f1: 0.955622\n",
      "[61]\tvalid_0's f1: 0.955092\n",
      "[62]\tvalid_0's f1: 0.954738\n",
      "[63]\tvalid_0's f1: 0.954738\n",
      "[64]\tvalid_0's f1: 0.954738\n",
      "[65]\tvalid_0's f1: 0.954385\n",
      "[66]\tvalid_0's f1: 0.954385\n",
      "[67]\tvalid_0's f1: 0.954562\n",
      "[68]\tvalid_0's f1: 0.954738\n",
      "[69]\tvalid_0's f1: 0.954915\n",
      "[70]\tvalid_0's f1: 0.954915\n",
      "[71]\tvalid_0's f1: 0.954031\n",
      "[72]\tvalid_0's f1: 0.953854\n",
      "[73]\tvalid_0's f1: 0.953854\n",
      "[74]\tvalid_0's f1: 0.954738\n",
      "[75]\tvalid_0's f1: 0.954208\n",
      "[76]\tvalid_0's f1: 0.954208\n",
      "[77]\tvalid_0's f1: 0.953854\n",
      "[78]\tvalid_0's f1: 0.953854\n",
      "[79]\tvalid_0's f1: 0.953501\n",
      "[80]\tvalid_0's f1: 0.953147\n",
      "[81]\tvalid_0's f1: 0.953324\n",
      "[82]\tvalid_0's f1: 0.952617\n",
      "[83]\tvalid_0's f1: 0.953147\n",
      "[84]\tvalid_0's f1: 0.953324\n",
      "[85]\tvalid_0's f1: 0.953501\n",
      "[86]\tvalid_0's f1: 0.953501\n",
      "[87]\tvalid_0's f1: 0.953678\n",
      "[88]\tvalid_0's f1: 0.953678\n",
      "[89]\tvalid_0's f1: 0.953678\n",
      "[90]\tvalid_0's f1: 0.952617\n",
      "[91]\tvalid_0's f1: 0.95297\n",
      "[92]\tvalid_0's f1: 0.953147\n",
      "[93]\tvalid_0's f1: 0.95297\n",
      "[94]\tvalid_0's f1: 0.95297\n",
      "Early stopping, best iteration is:\n",
      "[44]\tvalid_0's f1: 0.95739\n",
      "[1]\tvalid_0's f1: 0.910007\n",
      "Training until validation scores don't improve for 50 rounds\n",
      "[2]\tvalid_0's f1: 0.910007\n",
      "[3]\tvalid_0's f1: 0.910007\n",
      "[4]\tvalid_0's f1: 0.910007\n",
      "[5]\tvalid_0's f1: 0.910007\n",
      "[6]\tvalid_0's f1: 0.910007\n",
      "[7]\tvalid_0's f1: 0.910007\n",
      "[8]\tvalid_0's f1: 0.910007\n",
      "[9]\tvalid_0's f1: 0.910007\n",
      "[10]\tvalid_0's f1: 0.910007\n",
      "[11]\tvalid_0's f1: 0.910184\n",
      "[12]\tvalid_0's f1: 0.925212\n",
      "[13]\tvalid_0's f1: 0.936881\n",
      "[14]\tvalid_0's f1: 0.943423\n",
      "[15]\tvalid_0's f1: 0.947489\n",
      "[16]\tvalid_0's f1: 0.94855\n",
      "[17]\tvalid_0's f1: 0.950318\n",
      "[18]\tvalid_0's f1: 0.951556\n",
      "[19]\tvalid_0's f1: 0.95244\n",
      "[20]\tvalid_0's f1: 0.952617\n",
      "[21]\tvalid_0's f1: 0.953678\n",
      "[22]\tvalid_0's f1: 0.953501\n",
      "[23]\tvalid_0's f1: 0.953854\n",
      "[24]\tvalid_0's f1: 0.954385\n",
      "[25]\tvalid_0's f1: 0.954738\n",
      "[26]\tvalid_0's f1: 0.954738\n",
      "[27]\tvalid_0's f1: 0.955269\n",
      "[28]\tvalid_0's f1: 0.954915\n",
      "[29]\tvalid_0's f1: 0.955799\n",
      "[30]\tvalid_0's f1: 0.956683\n",
      "[31]\tvalid_0's f1: 0.95686\n",
      "[32]\tvalid_0's f1: 0.95686\n",
      "[33]\tvalid_0's f1: 0.957037\n",
      "[34]\tvalid_0's f1: 0.957037\n",
      "[35]\tvalid_0's f1: 0.957214\n",
      "[36]\tvalid_0's f1: 0.957921\n",
      "[37]\tvalid_0's f1: 0.957921\n",
      "[38]\tvalid_0's f1: 0.958451\n",
      "[39]\tvalid_0's f1: 0.958805\n",
      "[40]\tvalid_0's f1: 0.958628\n",
      "[41]\tvalid_0's f1: 0.958274\n",
      "[42]\tvalid_0's f1: 0.958098\n",
      "[43]\tvalid_0's f1: 0.957921\n",
      "[44]\tvalid_0's f1: 0.958451\n",
      "[45]\tvalid_0's f1: 0.958628\n",
      "[46]\tvalid_0's f1: 0.958098\n",
      "[47]\tvalid_0's f1: 0.958274\n",
      "[48]\tvalid_0's f1: 0.958274\n",
      "[49]\tvalid_0's f1: 0.958098\n",
      "[50]\tvalid_0's f1: 0.958451\n",
      "[51]\tvalid_0's f1: 0.958451\n",
      "[52]\tvalid_0's f1: 0.958451\n",
      "[53]\tvalid_0's f1: 0.958628\n",
      "[54]\tvalid_0's f1: 0.958451\n",
      "[55]\tvalid_0's f1: 0.958451\n",
      "[56]\tvalid_0's f1: 0.958628\n",
      "[57]\tvalid_0's f1: 0.958451\n",
      "[58]\tvalid_0's f1: 0.958098\n",
      "[59]\tvalid_0's f1: 0.957744\n",
      "[60]\tvalid_0's f1: 0.957744\n",
      "[61]\tvalid_0's f1: 0.957921\n",
      "[62]\tvalid_0's f1: 0.957567\n",
      "[63]\tvalid_0's f1: 0.957214\n",
      "[64]\tvalid_0's f1: 0.957037\n",
      "[65]\tvalid_0's f1: 0.95686\n",
      "[66]\tvalid_0's f1: 0.956153\n",
      "[67]\tvalid_0's f1: 0.95633\n",
      "[68]\tvalid_0's f1: 0.957037\n",
      "[69]\tvalid_0's f1: 0.95686\n",
      "[70]\tvalid_0's f1: 0.956506\n",
      "[71]\tvalid_0's f1: 0.95686\n",
      "[72]\tvalid_0's f1: 0.956683\n",
      "[73]\tvalid_0's f1: 0.957037\n",
      "[74]\tvalid_0's f1: 0.95686\n",
      "[75]\tvalid_0's f1: 0.956506\n",
      "[76]\tvalid_0's f1: 0.956683\n",
      "[77]\tvalid_0's f1: 0.956506\n",
      "[78]\tvalid_0's f1: 0.956153\n",
      "[79]\tvalid_0's f1: 0.956153\n",
      "[80]\tvalid_0's f1: 0.956153\n",
      "[81]\tvalid_0's f1: 0.955799\n",
      "[82]\tvalid_0's f1: 0.955622\n",
      "[83]\tvalid_0's f1: 0.955622\n",
      "[84]\tvalid_0's f1: 0.955446\n",
      "[85]\tvalid_0's f1: 0.955976\n",
      "[86]\tvalid_0's f1: 0.955446\n",
      "[87]\tvalid_0's f1: 0.955622\n",
      "[88]\tvalid_0's f1: 0.955622\n",
      "[89]\tvalid_0's f1: 0.955799\n",
      "Early stopping, best iteration is:\n",
      "[39]\tvalid_0's f1: 0.958805\n",
      "[1]\tvalid_0's f1: 0.910168\n",
      "Training until validation scores don't improve for 50 rounds\n",
      "[2]\tvalid_0's f1: 0.910168\n",
      "[3]\tvalid_0's f1: 0.910168\n",
      "[4]\tvalid_0's f1: 0.910168\n",
      "[5]\tvalid_0's f1: 0.910168\n",
      "[6]\tvalid_0's f1: 0.910168\n",
      "[7]\tvalid_0's f1: 0.910168\n",
      "[8]\tvalid_0's f1: 0.910168\n",
      "[9]\tvalid_0's f1: 0.910168\n",
      "[10]\tvalid_0's f1: 0.910168\n",
      "[11]\tvalid_0's f1: 0.910345\n",
      "[12]\tvalid_0's f1: 0.92626\n",
      "[13]\tvalid_0's f1: 0.930504\n",
      "[14]\tvalid_0's f1: 0.933864\n",
      "[15]\tvalid_0's f1: 0.93634\n",
      "[16]\tvalid_0's f1: 0.938108\n",
      "[17]\tvalid_0's f1: 0.938815\n",
      "[18]\tvalid_0's f1: 0.939346\n",
      "[19]\tvalid_0's f1: 0.940407\n",
      "[20]\tvalid_0's f1: 0.941645\n",
      "[21]\tvalid_0's f1: 0.942175\n",
      "[22]\tvalid_0's f1: 0.942882\n",
      "[23]\tvalid_0's f1: 0.943413\n",
      "[24]\tvalid_0's f1: 0.943943\n",
      "[25]\tvalid_0's f1: 0.943059\n",
      "[26]\tvalid_0's f1: 0.943413\n",
      "[27]\tvalid_0's f1: 0.943767\n",
      "[28]\tvalid_0's f1: 0.944651\n",
      "[29]\tvalid_0's f1: 0.945358\n",
      "[30]\tvalid_0's f1: 0.945712\n",
      "[31]\tvalid_0's f1: 0.945889\n",
      "[32]\tvalid_0's f1: 0.945889\n",
      "[33]\tvalid_0's f1: 0.946065\n",
      "[34]\tvalid_0's f1: 0.946065\n",
      "[35]\tvalid_0's f1: 0.946242\n",
      "[36]\tvalid_0's f1: 0.946242\n",
      "[37]\tvalid_0's f1: 0.946065\n",
      "[38]\tvalid_0's f1: 0.946419\n",
      "[39]\tvalid_0's f1: 0.946596\n",
      "[40]\tvalid_0's f1: 0.946596\n",
      "[41]\tvalid_0's f1: 0.94695\n",
      "[42]\tvalid_0's f1: 0.946773\n",
      "[43]\tvalid_0's f1: 0.947126\n",
      "[44]\tvalid_0's f1: 0.947126\n",
      "[45]\tvalid_0's f1: 0.947126\n",
      "[46]\tvalid_0's f1: 0.946596\n",
      "[47]\tvalid_0's f1: 0.946596\n",
      "[48]\tvalid_0's f1: 0.947126\n",
      "[49]\tvalid_0's f1: 0.946419\n",
      "[50]\tvalid_0's f1: 0.946773\n",
      "[51]\tvalid_0's f1: 0.946773\n",
      "[52]\tvalid_0's f1: 0.94748\n",
      "[53]\tvalid_0's f1: 0.947834\n",
      "[54]\tvalid_0's f1: 0.947834\n",
      "[55]\tvalid_0's f1: 0.947834\n",
      "[56]\tvalid_0's f1: 0.948011\n",
      "[57]\tvalid_0's f1: 0.948541\n",
      "[58]\tvalid_0's f1: 0.948718\n",
      "[59]\tvalid_0's f1: 0.948541\n",
      "[60]\tvalid_0's f1: 0.949248\n",
      "[61]\tvalid_0's f1: 0.949248\n",
      "[62]\tvalid_0's f1: 0.949072\n",
      "[63]\tvalid_0's f1: 0.948895\n",
      "[64]\tvalid_0's f1: 0.949072\n",
      "[65]\tvalid_0's f1: 0.948895\n",
      "[66]\tvalid_0's f1: 0.949248\n",
      "[67]\tvalid_0's f1: 0.949602\n",
      "[68]\tvalid_0's f1: 0.949072\n",
      "[69]\tvalid_0's f1: 0.948895\n",
      "[70]\tvalid_0's f1: 0.948895\n",
      "[71]\tvalid_0's f1: 0.948895\n",
      "[72]\tvalid_0's f1: 0.949072\n",
      "[73]\tvalid_0's f1: 0.948895\n",
      "[74]\tvalid_0's f1: 0.948541\n",
      "[75]\tvalid_0's f1: 0.948541\n",
      "[76]\tvalid_0's f1: 0.948364\n",
      "[77]\tvalid_0's f1: 0.948364\n",
      "[78]\tvalid_0's f1: 0.948364\n",
      "[79]\tvalid_0's f1: 0.948541\n",
      "[80]\tvalid_0's f1: 0.948364\n",
      "[81]\tvalid_0's f1: 0.948364\n",
      "[82]\tvalid_0's f1: 0.948364\n",
      "[83]\tvalid_0's f1: 0.948364\n",
      "[84]\tvalid_0's f1: 0.948187\n",
      "[85]\tvalid_0's f1: 0.948364\n",
      "[86]\tvalid_0's f1: 0.948364\n",
      "[87]\tvalid_0's f1: 0.948364\n",
      "[88]\tvalid_0's f1: 0.948187\n",
      "[89]\tvalid_0's f1: 0.948011\n",
      "[90]\tvalid_0's f1: 0.947657\n",
      "[91]\tvalid_0's f1: 0.947834\n",
      "[92]\tvalid_0's f1: 0.947657\n",
      "[93]\tvalid_0's f1: 0.947657\n",
      "[94]\tvalid_0's f1: 0.947834\n",
      "[95]\tvalid_0's f1: 0.94748\n",
      "[96]\tvalid_0's f1: 0.94748\n",
      "[97]\tvalid_0's f1: 0.947126\n",
      "[98]\tvalid_0's f1: 0.947303\n",
      "[99]\tvalid_0's f1: 0.94748\n",
      "[100]\tvalid_0's f1: 0.94695\n",
      "[101]\tvalid_0's f1: 0.94695\n",
      "[102]\tvalid_0's f1: 0.947126\n",
      "[103]\tvalid_0's f1: 0.946773\n",
      "[104]\tvalid_0's f1: 0.94695\n",
      "[105]\tvalid_0's f1: 0.947126\n",
      "[106]\tvalid_0's f1: 0.947303\n",
      "[107]\tvalid_0's f1: 0.947126\n",
      "[108]\tvalid_0's f1: 0.947303\n",
      "[109]\tvalid_0's f1: 0.947303\n",
      "[110]\tvalid_0's f1: 0.947126\n",
      "[111]\tvalid_0's f1: 0.947126\n",
      "[112]\tvalid_0's f1: 0.947303\n",
      "[113]\tvalid_0's f1: 0.947303\n",
      "[114]\tvalid_0's f1: 0.947126\n",
      "[115]\tvalid_0's f1: 0.947126\n",
      "[116]\tvalid_0's f1: 0.947126\n",
      "[117]\tvalid_0's f1: 0.947126\n",
      "Early stopping, best iteration is:\n",
      "[67]\tvalid_0's f1: 0.949602\n"
     ]
    }
   ],
   "source": [
    "folds = 3\n",
    "skf = StratifiedKFold(n_splits=folds)\n",
    "train_preds = np.zeros(train_df.shape[0])\n",
    "test_preds = np.zeros(test_df.shape[0])\n",
    "validation_scores = []\n",
    "for train_index, test_index in skf.split(train, y):\n",
    "    X_train, X_test = train.iloc[train_index,:], train.iloc[test_index,:]\n",
    "    y_train, y_test = y[train_index], y[test_index]\n",
    "    train_data = lgb.Dataset(X_train,y_train)\n",
    "    valid_data = lgb.Dataset(X_test,y_test)\n",
    "    evals_result = {}\n",
    "    model = lgb.train(lgb_params, train_data,num_boost_round=1000,early_stopping_rounds=50, valid_sets=valid_data,feval=lgb_f1_score, evals_result=evals_result)\n",
    "    \n",
    "    test_preds += model.predict(test) / 3\n",
    "    train_preds[test_index] = model.predict(X_test)\n",
    "    validation_scores.append(f1_score(y_test,np.round(model.predict(X_test)),average='micro'))"
   ]
  },
  {
   "cell_type": "code",
   "execution_count": 73,
   "metadata": {},
   "outputs": [
    {
     "data": {
      "text/plain": [
       "(0.9552657709878605, 0.004046219701044328, 0.9496021220159151)"
      ]
     },
     "execution_count": 73,
     "metadata": {},
     "output_type": "execute_result"
    }
   ],
   "source": [
    "np.mean(validation_scores), np.std(validation_scores), min(validation_scores)"
   ]
  },
  {
   "cell_type": "code",
   "execution_count": 74,
   "metadata": {},
   "outputs": [],
   "source": [
    "name = 'lgb_base'\n",
    "model_predictions_train[name] = train_preds\n",
    "model_predictions_test[name] = test_preds"
   ]
  },
  {
   "cell_type": "markdown",
   "metadata": {},
   "source": [
    "# Linear prediction difference"
   ]
  },
  {
   "cell_type": "code",
   "execution_count": 75,
   "metadata": {},
   "outputs": [],
   "source": [
    "features = [\n",
    "    'predicted_fare_diff',\n",
    "    'predicted_fare_diff_per_fare',\n",
    "    'predicted_fare_diff_per_predicted_fare',\n",
    "    'predicted_fare_diff_per_distance',\n",
    "    'predicted_duration_diff',\n",
    "    'predicted_duraton_diff_per_duraton',\n",
    "    'predicted_duraton_diff_per_predicted_duration',\n",
    "    'predicted_duraton_diff_per_distance',\n",
    "    'predicted_fare_per_duration_diff',\n",
    "    'predicted_avg_speed_diff',\n",
    "    'predicted_meter_waiting_diff',\n",
    "    'predicted_meter_waiting_diff_per_meter_waiting',\n",
    "    'predicted_meter_waiting_diff_per_distance',\n",
    "    'predicted_meter_waiting_diff_per_predicted_meter_waiting',\n",
    "    'predicted_meter_waiting_per_duration_diff',\n",
    "    'predicted_meter_waiting_fare_diff',\n",
    "    'predicted_meter_waiting_fare_diff_per_distance',\n",
    "    'predicted_meter_waiting_fare_diff_per_predicted_meter_waiting_fare',\n",
    "    'predicted_meter_waiting_fare_per_meter_waiting_diff',\n",
    "    'predicted_meter_waiting_fare_per_duration_diff',\n",
    "    'predicted_additional_fare_diff',\n",
    "    'predicted_additional_fare_diff_per_additional_fare',\n",
    "    'predicted_addtional_fare_diff_per_distance',\n",
    "    'predicted_meter_waiting_till_pickup_diff',\n",
    "    'predicted_meter_waiting_till_pickup_diff_per_meter_waiting_till_pickup',\n",
    "    'predicted_meter_waiting_till_pickup_per_meter_waiting_diff',\n",
    "    'predicted_fare_diff_per_distance_normalized',\n",
    "    'predicted_fare_diff_normalized',\n",
    "    'predicted_fare_diff_per_fare_normalized',\n",
    "    'predicted_fare_diff_per_predicted_fare_normalized',\n",
    "    'predicted_duraton_diff_per_duraton_normalized',\n",
    "    'predicted_duraton_diff_per_predicted_duration_normalized',\n",
    "    'predicted_fare_per_duration_diff_normalized',\n",
    "    'predicted_avg_speed_diff_normalized',\n",
    "    'predicted_meter_waiting_diff_normalized',\n",
    "    'predicted_meter_waiting_diff_per_meter_waiting_normalized',\n",
    "    'predicted_meter_waiting_diff_per_predicted_meter_waiting_normalized',\n",
    "    'predicted_meter_waiting_per_duration_diff_normalized',\n",
    "    'predicted_meter_waiting_fare_diff_normalized',\n",
    "    'predicted_meter_waiting_fare_diff_per_meter_waiting_fare_normalized',\n",
    "    'predicted_meter_waiting_fare_diff_per_predicted_meter_waiting_fare_normalized',\n",
    "    'predicted_meter_waiting_fare_per_meter_waiting_diff_normalized',\n",
    "    'predicted_meter_waiting_fare_per_duration_diff_normalized',\n",
    "    'predicted_additional_fare_diff_normalized',\n",
    "    'predicted_additional_fare_diff_per_additional_fare_normalized',\n",
    "]\n",
    "\n",
    "cat_features = []"
   ]
  },
  {
   "cell_type": "code",
   "execution_count": 76,
   "metadata": {},
   "outputs": [],
   "source": [
    "train = train_df[features]\n",
    "test = test_df[features]\n",
    "y = train_df['label']"
   ]
  },
  {
   "cell_type": "markdown",
   "metadata": {},
   "source": [
    "### Catboost"
   ]
  },
  {
   "cell_type": "code",
   "execution_count": 77,
   "metadata": {},
   "outputs": [],
   "source": [
    "catboost_params = {\n",
    "    'loss_function':'Logloss',\n",
    "    'random_state':0,\n",
    "    'early_stopping_rounds':50,\n",
    "    'eval_metric':'F1',\n",
    "    'border_count':512\n",
    "}"
   ]
  },
  {
   "cell_type": "code",
   "execution_count": 78,
   "metadata": {},
   "outputs": [],
   "source": [
    "submission_pool = Pool(data=test_df[features], cat_features=cat_features)"
   ]
  },
  {
   "cell_type": "code",
   "execution_count": 79,
   "metadata": {},
   "outputs": [
    {
     "name": "stdout",
     "output_type": "stream",
     "text": [
      "Learning rate set to 0.057693\n",
      "0:\tlearn: 0.9691234\ttest: 0.9694540\tbest: 0.9694540 (0)\ttotal: 23.1ms\tremaining: 23.1s\n",
      "10:\tlearn: 0.9729085\ttest: 0.9740557\tbest: 0.9740557 (10)\ttotal: 166ms\tremaining: 14.9s\n",
      "20:\tlearn: 0.9743002\ttest: 0.9757077\tbest: 0.9759786 (16)\ttotal: 315ms\tremaining: 14.7s\n",
      "30:\tlearn: 0.9749892\ttest: 0.9760445\tbest: 0.9760536 (29)\ttotal: 444ms\tremaining: 13.9s\n",
      "40:\tlearn: 0.9757219\ttest: 0.9764988\tbest: 0.9765033 (35)\ttotal: 594ms\tremaining: 13.9s\n",
      "50:\tlearn: 0.9766684\ttest: 0.9771505\tbest: 0.9773382 (45)\ttotal: 722ms\tremaining: 13.4s\n",
      "60:\tlearn: 0.9772793\ttest: 0.9775130\tbest: 0.9775130 (60)\ttotal: 896ms\tremaining: 13.8s\n",
      "70:\tlearn: 0.9782275\ttest: 0.9778804\tbest: 0.9778804 (67)\ttotal: 1.02s\tremaining: 13.4s\n",
      "80:\tlearn: 0.9784642\ttest: 0.9779744\tbest: 0.9779744 (80)\ttotal: 1.18s\tremaining: 13.4s\n",
      "90:\tlearn: 0.9789847\ttest: 0.9778804\tbest: 0.9779744 (80)\ttotal: 1.31s\tremaining: 13.1s\n",
      "100:\tlearn: 0.9795605\ttest: 0.9772946\tbest: 0.9779744 (80)\ttotal: 1.46s\tremaining: 13s\n",
      "110:\tlearn: 0.9800250\ttest: 0.9776622\tbest: 0.9779744 (80)\ttotal: 1.65s\tremaining: 13.2s\n",
      "120:\tlearn: 0.9802603\ttest: 0.9774740\tbest: 0.9779744 (80)\ttotal: 1.89s\tremaining: 13.7s\n",
      "130:\tlearn: 0.9806427\ttest: 0.9775681\tbest: 0.9779744 (80)\ttotal: 2.07s\tremaining: 13.7s\n",
      "Stopped by overfitting detector  (50 iterations wait)\n",
      "\n",
      "bestTest = 0.9779744157\n",
      "bestIteration = 80\n",
      "\n",
      "Shrink model to first 81 iterations.\n",
      "Learning rate set to 0.057693\n",
      "0:\tlearn: 0.9713079\ttest: 0.9747030\tbest: 0.9747030 (0)\ttotal: 15.7ms\tremaining: 15.7s\n",
      "10:\tlearn: 0.9730967\ttest: 0.9751073\tbest: 0.9754513 (5)\ttotal: 174ms\tremaining: 15.7s\n",
      "20:\tlearn: 0.9754161\ttest: 0.9764728\tbest: 0.9767531 (18)\ttotal: 361ms\tremaining: 16.8s\n",
      "30:\tlearn: 0.9760115\ttest: 0.9773097\tbest: 0.9773097 (30)\ttotal: 537ms\tremaining: 16.8s\n",
      "40:\tlearn: 0.9765771\ttest: 0.9772074\tbest: 0.9773097 (30)\ttotal: 688ms\tremaining: 16.1s\n",
      "50:\tlearn: 0.9771878\ttest: 0.9771900\tbest: 0.9773097 (30)\ttotal: 814ms\tremaining: 15.2s\n",
      "60:\tlearn: 0.9777117\ttest: 0.9770963\tbest: 0.9773097 (30)\ttotal: 961ms\tremaining: 14.8s\n",
      "70:\tlearn: 0.9783172\ttest: 0.9770919\tbest: 0.9773097 (30)\ttotal: 1.09s\tremaining: 14.3s\n",
      "80:\tlearn: 0.9791217\ttest: 0.9771812\tbest: 0.9774667 (75)\ttotal: 1.24s\tremaining: 14.1s\n",
      "90:\tlearn: 0.9796937\ttest: 0.9768914\tbest: 0.9774667 (75)\ttotal: 1.37s\tremaining: 13.7s\n",
      "100:\tlearn: 0.9803131\ttest: 0.9767888\tbest: 0.9774667 (75)\ttotal: 1.52s\tremaining: 13.5s\n",
      "110:\tlearn: 0.9804581\ttest: 0.9770655\tbest: 0.9774667 (75)\ttotal: 1.65s\tremaining: 13.2s\n",
      "120:\tlearn: 0.9808856\ttest: 0.9771593\tbest: 0.9774667 (75)\ttotal: 1.8s\tremaining: 13.1s\n",
      "Stopped by overfitting detector  (50 iterations wait)\n",
      "\n",
      "bestTest = 0.9774666795\n",
      "bestIteration = 75\n",
      "\n",
      "Shrink model to first 76 iterations.\n",
      "Learning rate set to 0.057694\n",
      "0:\tlearn: 0.9750526\ttest: 0.9664762\tbest: 0.9664762 (0)\ttotal: 22.9ms\tremaining: 22.9s\n",
      "10:\tlearn: 0.9775948\ttest: 0.9698703\tbest: 0.9700781 (9)\ttotal: 165ms\tremaining: 14.8s\n",
      "20:\tlearn: 0.9780035\ttest: 0.9695524\tbest: 0.9702857 (12)\ttotal: 335ms\tremaining: 15.6s\n",
      "30:\tlearn: 0.9787071\ttest: 0.9707736\tbest: 0.9707736 (30)\ttotal: 478ms\tremaining: 14.9s\n",
      "40:\tlearn: 0.9791767\ttest: 0.9709536\tbest: 0.9711447 (39)\ttotal: 627ms\tremaining: 14.7s\n",
      "50:\tlearn: 0.9797446\ttest: 0.9713248\tbest: 0.9715214 (48)\ttotal: 785ms\tremaining: 14.6s\n",
      "60:\tlearn: 0.9798819\ttest: 0.9710353\tbest: 0.9715214 (48)\ttotal: 937ms\tremaining: 14.4s\n",
      "70:\tlearn: 0.9806898\ttest: 0.9712265\tbest: 0.9715214 (48)\ttotal: 1.06s\tremaining: 13.9s\n",
      "80:\tlearn: 0.9812119\ttest: 0.9713193\tbest: 0.9715214 (48)\ttotal: 1.22s\tremaining: 13.8s\n",
      "90:\tlearn: 0.9814423\ttest: 0.9715925\tbest: 0.9716855 (88)\ttotal: 1.34s\tremaining: 13.4s\n",
      "100:\tlearn: 0.9820682\ttest: 0.9715051\tbest: 0.9716855 (88)\ttotal: 1.49s\tremaining: 13.3s\n",
      "110:\tlearn: 0.9821154\ttest: 0.9715980\tbest: 0.9718822 (105)\ttotal: 1.62s\tremaining: 13s\n",
      "120:\tlearn: 0.9825978\ttest: 0.9717946\tbest: 0.9718822 (105)\ttotal: 1.77s\tremaining: 12.9s\n",
      "130:\tlearn: 0.9830786\ttest: 0.9721718\tbest: 0.9721718 (129)\ttotal: 1.9s\tremaining: 12.6s\n",
      "140:\tlearn: 0.9837043\ttest: 0.9717838\tbest: 0.9721718 (129)\ttotal: 2.05s\tremaining: 12.5s\n",
      "150:\tlearn: 0.9838935\ttest: 0.9714996\tbest: 0.9721718 (129)\ttotal: 2.18s\tremaining: 12.2s\n",
      "160:\tlearn: 0.9841774\ttest: 0.9719751\tbest: 0.9721718 (129)\ttotal: 2.33s\tremaining: 12.1s\n",
      "170:\tlearn: 0.9847027\ttest: 0.9717838\tbest: 0.9721718 (129)\ttotal: 2.46s\tremaining: 11.9s\n",
      "Stopped by overfitting detector  (50 iterations wait)\n",
      "\n",
      "bestTest = 0.972171751\n",
      "bestIteration = 129\n",
      "\n",
      "Shrink model to first 130 iterations.\n"
     ]
    }
   ],
   "source": [
    "train_preds = np.zeros(train_df.shape[0])\n",
    "test_preds = np.zeros(test_df.shape[0])\n",
    "train_class = np.zeros(train_df.shape[0])\n",
    "test_class = np.zeros(test_df.shape[0])\n",
    "skf = StratifiedKFold(n_splits=3)\n",
    "validation_scores = []\n",
    "for train_index, test_index in skf.split(train, y):\n",
    "    X_train, X_test = train.iloc[train_index,:], train.iloc[test_index,:]\n",
    "    y_train, y_test = y[train_index], y[test_index]\n",
    "    train_pool = Pool(data=X_train, label=y_train,cat_features=cat_features)\n",
    "    test_pool = Pool(data=X_test, label=y_test, cat_features=cat_features)    \n",
    "    model = CatBoostClassifier(**catboost_params)\n",
    "    model.fit(X=train_pool, eval_set=test_pool,verbose=10)\n",
    "    train_preds[test_index] = model.predict_proba(test_pool)[:,1]\n",
    "    train_class[test_index] = model.predict(test_pool)\n",
    "    test_preds += model.predict_proba(submission_pool)[:,1]/3\n",
    "    test_class = model.predict(submission_pool)\n",
    "    validation_scores.append(f1_score(y_test,model.predict(test_pool),average='micro'))\n",
    "test_class = np.where(test_class > 2, 1, 0)"
   ]
  },
  {
   "cell_type": "code",
   "execution_count": 80,
   "metadata": {},
   "outputs": [
    {
     "data": {
      "text/plain": [
       "(0.9555014463174244, 0.004940715456330637, 0.9485411140583554)"
      ]
     },
     "execution_count": 80,
     "metadata": {},
     "output_type": "execute_result"
    }
   ],
   "source": [
    "np.mean(validation_scores), np.std(validation_scores), min(validation_scores)"
   ]
  },
  {
   "cell_type": "code",
   "execution_count": 81,
   "metadata": {},
   "outputs": [],
   "source": [
    "name = 'catboost_pred_diff'\n",
    "model_predictions_train[name] = train_preds\n",
    "model_predictions_test[name] = test_preds"
   ]
  },
  {
   "cell_type": "markdown",
   "metadata": {},
   "source": [
    "### lgb"
   ]
  },
  {
   "cell_type": "code",
   "execution_count": 82,
   "metadata": {},
   "outputs": [],
   "source": [
    "lgb_params = {\n",
    "    'objective':'binary',\n",
    "    'learning_rate':0.05,\n",
    "    'seed':0, \n",
    "    'metric':'f1',\n",
    "    'max_depth':6\n",
    "}"
   ]
  },
  {
   "cell_type": "code",
   "execution_count": 83,
   "metadata": {},
   "outputs": [
    {
     "name": "stdout",
     "output_type": "stream",
     "text": [
      "[1]\tvalid_0's f1: 0.910007\n",
      "Training until validation scores don't improve for 50 rounds\n",
      "[2]\tvalid_0's f1: 0.910007\n",
      "[3]\tvalid_0's f1: 0.910007\n",
      "[4]\tvalid_0's f1: 0.910007\n",
      "[5]\tvalid_0's f1: 0.910007\n",
      "[6]\tvalid_0's f1: 0.910007\n",
      "[7]\tvalid_0's f1: 0.910007\n",
      "[8]\tvalid_0's f1: 0.910007\n",
      "[9]\tvalid_0's f1: 0.910007\n",
      "[10]\tvalid_0's f1: 0.910184\n",
      "[11]\tvalid_0's f1: 0.910714\n",
      "[12]\tvalid_0's f1: 0.927864\n",
      "[13]\tvalid_0's f1: 0.938119\n",
      "[14]\tvalid_0's f1: 0.943069\n",
      "[15]\tvalid_0's f1: 0.946959\n",
      "[16]\tvalid_0's f1: 0.949257\n",
      "[17]\tvalid_0's f1: 0.951556\n",
      "[18]\tvalid_0's f1: 0.95244\n",
      "[19]\tvalid_0's f1: 0.953678\n",
      "[20]\tvalid_0's f1: 0.953324\n",
      "[21]\tvalid_0's f1: 0.954738\n",
      "[22]\tvalid_0's f1: 0.955092\n",
      "[23]\tvalid_0's f1: 0.956506\n",
      "[24]\tvalid_0's f1: 0.956153\n",
      "[25]\tvalid_0's f1: 0.95633\n",
      "[26]\tvalid_0's f1: 0.957037\n",
      "[27]\tvalid_0's f1: 0.95739\n",
      "[28]\tvalid_0's f1: 0.957744\n",
      "[29]\tvalid_0's f1: 0.958628\n",
      "[30]\tvalid_0's f1: 0.959158\n",
      "[31]\tvalid_0's f1: 0.958628\n",
      "[32]\tvalid_0's f1: 0.958628\n",
      "[33]\tvalid_0's f1: 0.958274\n",
      "[34]\tvalid_0's f1: 0.958451\n",
      "[35]\tvalid_0's f1: 0.958805\n",
      "[36]\tvalid_0's f1: 0.958805\n",
      "[37]\tvalid_0's f1: 0.958628\n",
      "[38]\tvalid_0's f1: 0.959335\n",
      "[39]\tvalid_0's f1: 0.959335\n",
      "[40]\tvalid_0's f1: 0.959512\n",
      "[41]\tvalid_0's f1: 0.959689\n",
      "[42]\tvalid_0's f1: 0.959866\n",
      "[43]\tvalid_0's f1: 0.959512\n",
      "[44]\tvalid_0's f1: 0.958982\n",
      "[45]\tvalid_0's f1: 0.958805\n",
      "[46]\tvalid_0's f1: 0.958982\n",
      "[47]\tvalid_0's f1: 0.958982\n",
      "[48]\tvalid_0's f1: 0.959158\n",
      "[49]\tvalid_0's f1: 0.959512\n",
      "[50]\tvalid_0's f1: 0.959512\n",
      "[51]\tvalid_0's f1: 0.959512\n",
      "[52]\tvalid_0's f1: 0.959866\n",
      "[53]\tvalid_0's f1: 0.959866\n",
      "[54]\tvalid_0's f1: 0.960042\n",
      "[55]\tvalid_0's f1: 0.960042\n",
      "[56]\tvalid_0's f1: 0.959512\n",
      "[57]\tvalid_0's f1: 0.959512\n",
      "[58]\tvalid_0's f1: 0.959335\n",
      "[59]\tvalid_0's f1: 0.959158\n",
      "[60]\tvalid_0's f1: 0.959689\n",
      "[61]\tvalid_0's f1: 0.959158\n",
      "[62]\tvalid_0's f1: 0.959512\n",
      "[63]\tvalid_0's f1: 0.959512\n",
      "[64]\tvalid_0's f1: 0.959866\n",
      "[65]\tvalid_0's f1: 0.959866\n",
      "[66]\tvalid_0's f1: 0.959689\n",
      "[67]\tvalid_0's f1: 0.959512\n",
      "[68]\tvalid_0's f1: 0.959512\n",
      "[69]\tvalid_0's f1: 0.959335\n",
      "[70]\tvalid_0's f1: 0.959335\n",
      "[71]\tvalid_0's f1: 0.959512\n",
      "[72]\tvalid_0's f1: 0.959512\n",
      "[73]\tvalid_0's f1: 0.959689\n",
      "[74]\tvalid_0's f1: 0.959689\n",
      "[75]\tvalid_0's f1: 0.959335\n",
      "[76]\tvalid_0's f1: 0.959512\n",
      "[77]\tvalid_0's f1: 0.959512\n",
      "[78]\tvalid_0's f1: 0.959512\n",
      "[79]\tvalid_0's f1: 0.959335\n",
      "[80]\tvalid_0's f1: 0.959512\n",
      "[81]\tvalid_0's f1: 0.959512\n",
      "[82]\tvalid_0's f1: 0.959512\n",
      "[83]\tvalid_0's f1: 0.959335\n",
      "[84]\tvalid_0's f1: 0.959158\n",
      "[85]\tvalid_0's f1: 0.958628\n",
      "[86]\tvalid_0's f1: 0.958628\n",
      "[87]\tvalid_0's f1: 0.958805\n",
      "[88]\tvalid_0's f1: 0.958628\n",
      "[89]\tvalid_0's f1: 0.958628\n",
      "[90]\tvalid_0's f1: 0.958805\n",
      "[91]\tvalid_0's f1: 0.958628\n",
      "[92]\tvalid_0's f1: 0.958805\n",
      "[93]\tvalid_0's f1: 0.958982\n",
      "[94]\tvalid_0's f1: 0.958628\n",
      "[95]\tvalid_0's f1: 0.958628\n",
      "[96]\tvalid_0's f1: 0.958805\n",
      "[97]\tvalid_0's f1: 0.958805\n",
      "[98]\tvalid_0's f1: 0.959158\n",
      "[99]\tvalid_0's f1: 0.959158\n",
      "[100]\tvalid_0's f1: 0.958982\n",
      "[101]\tvalid_0's f1: 0.959158\n",
      "[102]\tvalid_0's f1: 0.959335\n",
      "[103]\tvalid_0's f1: 0.959335\n",
      "[104]\tvalid_0's f1: 0.959335\n",
      "Early stopping, best iteration is:\n",
      "[54]\tvalid_0's f1: 0.960042\n",
      "[1]\tvalid_0's f1: 0.910007\n",
      "Training until validation scores don't improve for 50 rounds\n",
      "[2]\tvalid_0's f1: 0.910007\n",
      "[3]\tvalid_0's f1: 0.910007\n",
      "[4]\tvalid_0's f1: 0.910007\n",
      "[5]\tvalid_0's f1: 0.910007\n",
      "[6]\tvalid_0's f1: 0.910007\n",
      "[7]\tvalid_0's f1: 0.910007\n",
      "[8]\tvalid_0's f1: 0.910007\n",
      "[9]\tvalid_0's f1: 0.910007\n",
      "[10]\tvalid_0's f1: 0.910007\n",
      "[11]\tvalid_0's f1: 0.910184\n",
      "[12]\tvalid_0's f1: 0.928041\n",
      "[13]\tvalid_0's f1: 0.936704\n",
      "[14]\tvalid_0's f1: 0.942716\n",
      "[15]\tvalid_0's f1: 0.946605\n",
      "[16]\tvalid_0's f1: 0.950318\n",
      "[17]\tvalid_0's f1: 0.951202\n",
      "[18]\tvalid_0's f1: 0.951733\n",
      "[19]\tvalid_0's f1: 0.952086\n",
      "[20]\tvalid_0's f1: 0.951909\n",
      "[21]\tvalid_0's f1: 0.952263\n",
      "[22]\tvalid_0's f1: 0.951733\n",
      "[23]\tvalid_0's f1: 0.952793\n",
      "[24]\tvalid_0's f1: 0.952793\n",
      "[25]\tvalid_0's f1: 0.953678\n",
      "[26]\tvalid_0's f1: 0.953501\n",
      "[27]\tvalid_0's f1: 0.953854\n",
      "[28]\tvalid_0's f1: 0.954031\n",
      "[29]\tvalid_0's f1: 0.954208\n",
      "[30]\tvalid_0's f1: 0.954385\n",
      "[31]\tvalid_0's f1: 0.955092\n",
      "[32]\tvalid_0's f1: 0.955622\n",
      "[33]\tvalid_0's f1: 0.955446\n",
      "[34]\tvalid_0's f1: 0.955622\n",
      "[35]\tvalid_0's f1: 0.955269\n",
      "[36]\tvalid_0's f1: 0.955092\n",
      "[37]\tvalid_0's f1: 0.955622\n",
      "[38]\tvalid_0's f1: 0.955622\n",
      "[39]\tvalid_0's f1: 0.955976\n",
      "[40]\tvalid_0's f1: 0.956153\n",
      "[41]\tvalid_0's f1: 0.95633\n",
      "[42]\tvalid_0's f1: 0.95633\n",
      "[43]\tvalid_0's f1: 0.95633\n",
      "[44]\tvalid_0's f1: 0.955976\n",
      "[45]\tvalid_0's f1: 0.955976\n",
      "[46]\tvalid_0's f1: 0.955976\n",
      "[47]\tvalid_0's f1: 0.955976\n",
      "[48]\tvalid_0's f1: 0.955976\n",
      "[49]\tvalid_0's f1: 0.955799\n",
      "[50]\tvalid_0's f1: 0.955446\n",
      "[51]\tvalid_0's f1: 0.955976\n",
      "[52]\tvalid_0's f1: 0.955976\n",
      "[53]\tvalid_0's f1: 0.955622\n",
      "[54]\tvalid_0's f1: 0.955622\n",
      "[55]\tvalid_0's f1: 0.955799\n",
      "[56]\tvalid_0's f1: 0.95633\n",
      "[57]\tvalid_0's f1: 0.95633\n",
      "[58]\tvalid_0's f1: 0.956153\n",
      "[59]\tvalid_0's f1: 0.955976\n",
      "[60]\tvalid_0's f1: 0.955622\n",
      "[61]\tvalid_0's f1: 0.955799\n",
      "[62]\tvalid_0's f1: 0.955622\n",
      "[63]\tvalid_0's f1: 0.955799\n",
      "[64]\tvalid_0's f1: 0.955976\n",
      "[65]\tvalid_0's f1: 0.955976\n",
      "[66]\tvalid_0's f1: 0.955976\n",
      "[67]\tvalid_0's f1: 0.956153\n",
      "[68]\tvalid_0's f1: 0.956506\n",
      "[69]\tvalid_0's f1: 0.956506\n",
      "[70]\tvalid_0's f1: 0.956506\n",
      "[71]\tvalid_0's f1: 0.95633\n",
      "[72]\tvalid_0's f1: 0.95633\n",
      "[73]\tvalid_0's f1: 0.95633\n",
      "[74]\tvalid_0's f1: 0.95633\n",
      "[75]\tvalid_0's f1: 0.95633\n",
      "[76]\tvalid_0's f1: 0.956506\n",
      "[77]\tvalid_0's f1: 0.956506\n",
      "[78]\tvalid_0's f1: 0.956506\n",
      "[79]\tvalid_0's f1: 0.956506\n",
      "[80]\tvalid_0's f1: 0.956683\n",
      "[81]\tvalid_0's f1: 0.956506\n",
      "[82]\tvalid_0's f1: 0.95633\n",
      "[83]\tvalid_0's f1: 0.955976\n",
      "[84]\tvalid_0's f1: 0.955799\n",
      "[85]\tvalid_0's f1: 0.956153\n",
      "[86]\tvalid_0's f1: 0.955976\n",
      "[87]\tvalid_0's f1: 0.956153\n",
      "[88]\tvalid_0's f1: 0.956683\n",
      "[89]\tvalid_0's f1: 0.956506\n",
      "[90]\tvalid_0's f1: 0.956683\n",
      "[91]\tvalid_0's f1: 0.95633\n",
      "[92]\tvalid_0's f1: 0.956506\n",
      "[93]\tvalid_0's f1: 0.956506\n",
      "[94]\tvalid_0's f1: 0.956683\n",
      "[95]\tvalid_0's f1: 0.957037\n",
      "[96]\tvalid_0's f1: 0.956683\n",
      "[97]\tvalid_0's f1: 0.95686\n",
      "[98]\tvalid_0's f1: 0.95633\n",
      "[99]\tvalid_0's f1: 0.955799\n",
      "[100]\tvalid_0's f1: 0.955976\n",
      "[101]\tvalid_0's f1: 0.95633\n",
      "[102]\tvalid_0's f1: 0.956153\n",
      "[103]\tvalid_0's f1: 0.955976\n",
      "[104]\tvalid_0's f1: 0.956153\n",
      "[105]\tvalid_0's f1: 0.956153\n",
      "[106]\tvalid_0's f1: 0.956153\n",
      "[107]\tvalid_0's f1: 0.95633\n",
      "[108]\tvalid_0's f1: 0.95633\n",
      "[109]\tvalid_0's f1: 0.95633\n",
      "[110]\tvalid_0's f1: 0.956506\n",
      "[111]\tvalid_0's f1: 0.956683\n",
      "[112]\tvalid_0's f1: 0.956506\n",
      "[113]\tvalid_0's f1: 0.956506\n",
      "[114]\tvalid_0's f1: 0.956153\n",
      "[115]\tvalid_0's f1: 0.95633\n",
      "[116]\tvalid_0's f1: 0.956153\n",
      "[117]\tvalid_0's f1: 0.956153\n",
      "[118]\tvalid_0's f1: 0.956153\n",
      "[119]\tvalid_0's f1: 0.956153\n",
      "[120]\tvalid_0's f1: 0.95633\n",
      "[121]\tvalid_0's f1: 0.95633\n",
      "[122]\tvalid_0's f1: 0.956506\n",
      "[123]\tvalid_0's f1: 0.95633\n",
      "[124]\tvalid_0's f1: 0.95633\n",
      "[125]\tvalid_0's f1: 0.956506\n",
      "[126]\tvalid_0's f1: 0.956683\n",
      "[127]\tvalid_0's f1: 0.956683\n",
      "[128]\tvalid_0's f1: 0.956683\n",
      "[129]\tvalid_0's f1: 0.956683\n",
      "[130]\tvalid_0's f1: 0.95633\n",
      "[131]\tvalid_0's f1: 0.956153\n",
      "[132]\tvalid_0's f1: 0.956153\n",
      "[133]\tvalid_0's f1: 0.956153\n",
      "[134]\tvalid_0's f1: 0.956153\n",
      "[135]\tvalid_0's f1: 0.95633\n",
      "[136]\tvalid_0's f1: 0.95633\n",
      "[137]\tvalid_0's f1: 0.956153\n",
      "[138]\tvalid_0's f1: 0.956153\n",
      "[139]\tvalid_0's f1: 0.956153\n",
      "[140]\tvalid_0's f1: 0.956153\n",
      "[141]\tvalid_0's f1: 0.956506\n",
      "[142]\tvalid_0's f1: 0.95633\n",
      "[143]\tvalid_0's f1: 0.95633\n",
      "[144]\tvalid_0's f1: 0.95633\n",
      "[145]\tvalid_0's f1: 0.956506\n",
      "Early stopping, best iteration is:\n",
      "[95]\tvalid_0's f1: 0.957037\n",
      "[1]\tvalid_0's f1: 0.910168\n",
      "Training until validation scores don't improve for 50 rounds\n",
      "[2]\tvalid_0's f1: 0.910168\n",
      "[3]\tvalid_0's f1: 0.910168\n",
      "[4]\tvalid_0's f1: 0.910168\n",
      "[5]\tvalid_0's f1: 0.910168\n",
      "[6]\tvalid_0's f1: 0.910168\n",
      "[7]\tvalid_0's f1: 0.910168\n",
      "[8]\tvalid_0's f1: 0.910168\n",
      "[9]\tvalid_0's f1: 0.910168\n",
      "[10]\tvalid_0's f1: 0.910168\n",
      "[11]\tvalid_0's f1: 0.911229\n",
      "[12]\tvalid_0's f1: 0.928559\n",
      "[13]\tvalid_0's f1: 0.931388\n",
      "[14]\tvalid_0's f1: 0.934394\n",
      "[15]\tvalid_0's f1: 0.938108\n",
      "[16]\tvalid_0's f1: 0.939699\n",
      "[17]\tvalid_0's f1: 0.941291\n",
      "[18]\tvalid_0's f1: 0.941468\n",
      "[19]\tvalid_0's f1: 0.941998\n",
      "[20]\tvalid_0's f1: 0.942706\n",
      "[21]\tvalid_0's f1: 0.943943\n",
      "[22]\tvalid_0's f1: 0.944474\n",
      "[23]\tvalid_0's f1: 0.944651\n",
      "[24]\tvalid_0's f1: 0.945358\n",
      "[25]\tvalid_0's f1: 0.945712\n",
      "[26]\tvalid_0's f1: 0.945889\n",
      "[27]\tvalid_0's f1: 0.945535\n",
      "[28]\tvalid_0's f1: 0.945358\n",
      "[29]\tvalid_0's f1: 0.945535\n",
      "[30]\tvalid_0's f1: 0.945712\n",
      "[31]\tvalid_0's f1: 0.945535\n",
      "[32]\tvalid_0's f1: 0.945358\n",
      "[33]\tvalid_0's f1: 0.945889\n"
     ]
    },
    {
     "name": "stdout",
     "output_type": "stream",
     "text": [
      "[34]\tvalid_0's f1: 0.946065\n",
      "[35]\tvalid_0's f1: 0.946242\n",
      "[36]\tvalid_0's f1: 0.946596\n",
      "[37]\tvalid_0's f1: 0.946419\n",
      "[38]\tvalid_0's f1: 0.946065\n",
      "[39]\tvalid_0's f1: 0.946065\n",
      "[40]\tvalid_0's f1: 0.946419\n",
      "[41]\tvalid_0's f1: 0.946419\n",
      "[42]\tvalid_0's f1: 0.946419\n",
      "[43]\tvalid_0's f1: 0.946242\n",
      "[44]\tvalid_0's f1: 0.946419\n",
      "[45]\tvalid_0's f1: 0.946596\n",
      "[46]\tvalid_0's f1: 0.946596\n",
      "[47]\tvalid_0's f1: 0.946419\n",
      "[48]\tvalid_0's f1: 0.946419\n",
      "[49]\tvalid_0's f1: 0.946596\n",
      "[50]\tvalid_0's f1: 0.946773\n",
      "[51]\tvalid_0's f1: 0.946773\n",
      "[52]\tvalid_0's f1: 0.94695\n",
      "[53]\tvalid_0's f1: 0.947126\n",
      "[54]\tvalid_0's f1: 0.947126\n",
      "[55]\tvalid_0's f1: 0.94695\n",
      "[56]\tvalid_0's f1: 0.946773\n",
      "[57]\tvalid_0's f1: 0.94695\n",
      "[58]\tvalid_0's f1: 0.947126\n",
      "[59]\tvalid_0's f1: 0.946596\n",
      "[60]\tvalid_0's f1: 0.947303\n",
      "[61]\tvalid_0's f1: 0.947303\n",
      "[62]\tvalid_0's f1: 0.94748\n",
      "[63]\tvalid_0's f1: 0.947126\n",
      "[64]\tvalid_0's f1: 0.947126\n",
      "[65]\tvalid_0's f1: 0.946773\n",
      "[66]\tvalid_0's f1: 0.946596\n",
      "[67]\tvalid_0's f1: 0.946596\n",
      "[68]\tvalid_0's f1: 0.946596\n",
      "[69]\tvalid_0's f1: 0.94695\n",
      "[70]\tvalid_0's f1: 0.947126\n",
      "[71]\tvalid_0's f1: 0.94695\n",
      "[72]\tvalid_0's f1: 0.94695\n",
      "[73]\tvalid_0's f1: 0.94695\n",
      "[74]\tvalid_0's f1: 0.947126\n",
      "[75]\tvalid_0's f1: 0.947126\n",
      "[76]\tvalid_0's f1: 0.947126\n",
      "[77]\tvalid_0's f1: 0.947303\n",
      "[78]\tvalid_0's f1: 0.947303\n",
      "[79]\tvalid_0's f1: 0.94748\n",
      "[80]\tvalid_0's f1: 0.947303\n",
      "[81]\tvalid_0's f1: 0.94748\n",
      "[82]\tvalid_0's f1: 0.947657\n",
      "[83]\tvalid_0's f1: 0.947303\n",
      "[84]\tvalid_0's f1: 0.94748\n",
      "[85]\tvalid_0's f1: 0.94748\n",
      "[86]\tvalid_0's f1: 0.947657\n",
      "[87]\tvalid_0's f1: 0.947657\n",
      "[88]\tvalid_0's f1: 0.94748\n",
      "[89]\tvalid_0's f1: 0.947834\n",
      "[90]\tvalid_0's f1: 0.947834\n",
      "[91]\tvalid_0's f1: 0.948011\n",
      "[92]\tvalid_0's f1: 0.948011\n",
      "[93]\tvalid_0's f1: 0.948011\n",
      "[94]\tvalid_0's f1: 0.947657\n",
      "[95]\tvalid_0's f1: 0.947657\n",
      "[96]\tvalid_0's f1: 0.947657\n",
      "[97]\tvalid_0's f1: 0.947834\n",
      "[98]\tvalid_0's f1: 0.947834\n",
      "[99]\tvalid_0's f1: 0.947834\n",
      "[100]\tvalid_0's f1: 0.947834\n",
      "[101]\tvalid_0's f1: 0.947834\n",
      "[102]\tvalid_0's f1: 0.947657\n",
      "[103]\tvalid_0's f1: 0.94748\n",
      "[104]\tvalid_0's f1: 0.94748\n",
      "[105]\tvalid_0's f1: 0.947657\n",
      "[106]\tvalid_0's f1: 0.947834\n",
      "[107]\tvalid_0's f1: 0.947834\n",
      "[108]\tvalid_0's f1: 0.948011\n",
      "[109]\tvalid_0's f1: 0.948011\n",
      "[110]\tvalid_0's f1: 0.947834\n",
      "[111]\tvalid_0's f1: 0.947834\n",
      "[112]\tvalid_0's f1: 0.947657\n",
      "[113]\tvalid_0's f1: 0.947834\n",
      "[114]\tvalid_0's f1: 0.947834\n",
      "[115]\tvalid_0's f1: 0.947834\n",
      "[116]\tvalid_0's f1: 0.948011\n",
      "[117]\tvalid_0's f1: 0.947834\n",
      "[118]\tvalid_0's f1: 0.947834\n",
      "[119]\tvalid_0's f1: 0.948187\n",
      "[120]\tvalid_0's f1: 0.948011\n",
      "[121]\tvalid_0's f1: 0.947834\n",
      "[122]\tvalid_0's f1: 0.948364\n",
      "[123]\tvalid_0's f1: 0.948541\n",
      "[124]\tvalid_0's f1: 0.948364\n",
      "[125]\tvalid_0's f1: 0.948364\n",
      "[126]\tvalid_0's f1: 0.948364\n",
      "[127]\tvalid_0's f1: 0.948364\n",
      "[128]\tvalid_0's f1: 0.948364\n",
      "[129]\tvalid_0's f1: 0.948364\n",
      "[130]\tvalid_0's f1: 0.948541\n",
      "[131]\tvalid_0's f1: 0.948718\n",
      "[132]\tvalid_0's f1: 0.948718\n",
      "[133]\tvalid_0's f1: 0.948895\n",
      "[134]\tvalid_0's f1: 0.948718\n",
      "[135]\tvalid_0's f1: 0.948718\n",
      "[136]\tvalid_0's f1: 0.948718\n",
      "[137]\tvalid_0's f1: 0.948541\n",
      "[138]\tvalid_0's f1: 0.948364\n",
      "[139]\tvalid_0's f1: 0.948187\n",
      "[140]\tvalid_0's f1: 0.948187\n",
      "[141]\tvalid_0's f1: 0.948187\n",
      "[142]\tvalid_0's f1: 0.948187\n",
      "[143]\tvalid_0's f1: 0.948187\n",
      "[144]\tvalid_0's f1: 0.948187\n",
      "[145]\tvalid_0's f1: 0.948187\n",
      "[146]\tvalid_0's f1: 0.948187\n",
      "[147]\tvalid_0's f1: 0.948187\n",
      "[148]\tvalid_0's f1: 0.948187\n",
      "[149]\tvalid_0's f1: 0.948011\n",
      "[150]\tvalid_0's f1: 0.948011\n",
      "[151]\tvalid_0's f1: 0.947834\n",
      "[152]\tvalid_0's f1: 0.947834\n",
      "[153]\tvalid_0's f1: 0.947834\n",
      "[154]\tvalid_0's f1: 0.94748\n",
      "[155]\tvalid_0's f1: 0.947834\n",
      "[156]\tvalid_0's f1: 0.948011\n",
      "[157]\tvalid_0's f1: 0.947657\n",
      "[158]\tvalid_0's f1: 0.947303\n",
      "[159]\tvalid_0's f1: 0.947303\n",
      "[160]\tvalid_0's f1: 0.947657\n",
      "[161]\tvalid_0's f1: 0.947657\n",
      "[162]\tvalid_0's f1: 0.947834\n",
      "[163]\tvalid_0's f1: 0.94748\n",
      "[164]\tvalid_0's f1: 0.947126\n",
      "[165]\tvalid_0's f1: 0.947126\n",
      "[166]\tvalid_0's f1: 0.946773\n",
      "[167]\tvalid_0's f1: 0.947126\n",
      "[168]\tvalid_0's f1: 0.947126\n",
      "[169]\tvalid_0's f1: 0.947126\n",
      "[170]\tvalid_0's f1: 0.947126\n",
      "[171]\tvalid_0's f1: 0.947126\n",
      "[172]\tvalid_0's f1: 0.947126\n",
      "[173]\tvalid_0's f1: 0.94695\n",
      "[174]\tvalid_0's f1: 0.94695\n",
      "[175]\tvalid_0's f1: 0.947126\n",
      "[176]\tvalid_0's f1: 0.94695\n",
      "[177]\tvalid_0's f1: 0.94695\n",
      "[178]\tvalid_0's f1: 0.947126\n",
      "[179]\tvalid_0's f1: 0.94695\n",
      "[180]\tvalid_0's f1: 0.946596\n",
      "[181]\tvalid_0's f1: 0.946773\n",
      "[182]\tvalid_0's f1: 0.946773\n",
      "[183]\tvalid_0's f1: 0.946773\n",
      "Early stopping, best iteration is:\n",
      "[133]\tvalid_0's f1: 0.948895\n"
     ]
    }
   ],
   "source": [
    "folds = 3\n",
    "skf = StratifiedKFold(n_splits=folds)\n",
    "train_preds = np.zeros(train_df.shape[0])\n",
    "test_preds = np.zeros(test_df.shape[0])\n",
    "validation_scores = []\n",
    "for train_index, test_index in skf.split(train, y):\n",
    "    X_train, X_test = train.iloc[train_index,:], train.iloc[test_index,:]\n",
    "    y_train, y_test = y[train_index], y[test_index]\n",
    "    train_data = lgb.Dataset(X_train,y_train)\n",
    "    valid_data = lgb.Dataset(X_test,y_test)\n",
    "    evals_result = {}\n",
    "    model = lgb.train(lgb_params, train_data,num_boost_round=1000,early_stopping_rounds=50, valid_sets=valid_data,feval=lgb_f1_score, evals_result=evals_result)\n",
    "    \n",
    "    test_preds += model.predict(test) / 3\n",
    "    train_preds[test_index] = model.predict(X_test)\n",
    "    validation_scores.append(f1_score(y_test,np.round(model.predict(X_test)),average='micro'))"
   ]
  },
  {
   "cell_type": "code",
   "execution_count": 84,
   "metadata": {},
   "outputs": [
    {
     "data": {
      "text/plain": [
       "(0.9553246637661114, 0.004709282742544448, 0.948894783377542)"
      ]
     },
     "execution_count": 84,
     "metadata": {},
     "output_type": "execute_result"
    }
   ],
   "source": [
    "np.mean(validation_scores), np.std(validation_scores), min(validation_scores)"
   ]
  },
  {
   "cell_type": "code",
   "execution_count": 85,
   "metadata": {},
   "outputs": [],
   "source": [
    "name = 'lgb_pred_diff'\n",
    "model_predictions_train[name] = train_preds\n",
    "model_predictions_test[name] = test_preds"
   ]
  },
  {
   "cell_type": "markdown",
   "metadata": {},
   "source": [
    "## unit differences"
   ]
  },
  {
   "cell_type": "code",
   "execution_count": 86,
   "metadata": {},
   "outputs": [],
   "source": [
    "features = [\n",
    "    'predicted_fare_diff_per_fare',\n",
    "    'predicted_fare_diff_per_predicted_fare',\n",
    "    'predicted_fare_diff_per_distance',\n",
    "    'predicted_duraton_diff_per_duraton',\n",
    "    'predicted_duraton_diff_per_predicted_duration',\n",
    "    'predicted_duraton_diff_per_distance',\n",
    "    'predicted_fare_per_duration_diff',\n",
    "    'predicted_meter_waiting_diff_per_meter_waiting',\n",
    "    'predicted_meter_waiting_diff_per_distance',\n",
    "    'predicted_meter_waiting_diff_per_predicted_meter_waiting',\n",
    "    'predicted_meter_waiting_per_duration_diff',\n",
    "    'predicted_meter_waiting_fare_diff_per_distance',\n",
    "    'predicted_meter_waiting_fare_diff_per_predicted_meter_waiting_fare',\n",
    "    'predicted_meter_waiting_fare_per_meter_waiting_diff',\n",
    "    'predicted_meter_waiting_fare_per_duration_diff',\n",
    "    'predicted_additional_fare_diff_per_additional_fare',\n",
    "    'predicted_addtional_fare_diff_per_distance',\n",
    "    'predicted_meter_waiting_till_pickup_diff_per_meter_waiting_till_pickup',\n",
    "    'predicted_meter_waiting_till_pickup_per_meter_waiting_diff'\n",
    "]\n",
    "\n",
    "cat_features = []"
   ]
  },
  {
   "cell_type": "code",
   "execution_count": 87,
   "metadata": {},
   "outputs": [],
   "source": [
    "train = train_df[features]\n",
    "train = train.fillna(0)\n",
    "test = test_df[features]\n",
    "test = test.fillna(0)\n",
    "y = train_df['label']"
   ]
  },
  {
   "cell_type": "markdown",
   "metadata": {},
   "source": [
    "### KNN"
   ]
  },
  {
   "cell_type": "code",
   "execution_count": 88,
   "metadata": {},
   "outputs": [],
   "source": [
    "knn_params = {\n",
    "    'n_neighbors':10,\n",
    "    'weights':'distance'    \n",
    "}"
   ]
  },
  {
   "cell_type": "code",
   "execution_count": 89,
   "metadata": {},
   "outputs": [],
   "source": [
    "folds = 3\n",
    "skf = StratifiedKFold(n_splits=folds)\n",
    "train_preds = np.zeros(train_df.shape[0])\n",
    "test_preds = np.zeros(test_df.shape[0])\n",
    "validation_scores = []\n",
    "for train_index, test_index in skf.split(train, y):\n",
    "    X_train, X_test = train.iloc[train_index,:].values, train.iloc[test_index,:].values\n",
    "    y_train, y_test = y[train_index], y[test_index]\n",
    "    \n",
    "    model = KNeighborsClassifier(**knn_params)\n",
    "    model.fit(X_train, y_train)\n",
    "    \n",
    "    test_preds += model.predict(test.values) / 3\n",
    "    train_preds[test_index] = model.predict(X_test)\n",
    "    validation_scores.append(f1_score(y_test,model.predict(X_test),average='micro'))"
   ]
  },
  {
   "cell_type": "code",
   "execution_count": 90,
   "metadata": {},
   "outputs": [
    {
     "data": {
      "text/plain": [
       "(0.9448926381838638, 0.004681426802319368, 0.9382847038019452)"
      ]
     },
     "execution_count": 90,
     "metadata": {},
     "output_type": "execute_result"
    }
   ],
   "source": [
    "np.mean(validation_scores), np.std(validation_scores), min(validation_scores)"
   ]
  },
  {
   "cell_type": "code",
   "execution_count": 91,
   "metadata": {},
   "outputs": [],
   "source": [
    "name = 'knn_unit_diff'\n",
    "model_predictions_train[name] = train_preds\n",
    "model_predictions_test[name] = test_preds"
   ]
  },
  {
   "cell_type": "markdown",
   "metadata": {},
   "source": [
    "### SVM"
   ]
  },
  {
   "cell_type": "code",
   "execution_count": 104,
   "metadata": {},
   "outputs": [],
   "source": [
    "svc_params = {\n",
    "    'C':5,\n",
    "    'kernel':'linear',\n",
    "    'random_state':0,    \n",
    "    'probability': False,\n",
    "    'gamma':'scale'\n",
    "}"
   ]
  },
  {
   "cell_type": "code",
   "execution_count": 105,
   "metadata": {},
   "outputs": [],
   "source": [
    "folds = 3\n",
    "skf = StratifiedKFold(n_splits=folds)\n",
    "train_preds = np.zeros(train_df.shape[0])\n",
    "test_preds = np.zeros(test_df.shape[0])\n",
    "validation_scores = []\n",
    "for train_index, test_index in skf.split(train, y):\n",
    "    X_train, X_test = train.iloc[train_index,:].values, train.iloc[test_index,:].values\n",
    "    y_train, y_test = y[train_index], y[test_index]\n",
    "    \n",
    "    model = SVC(**svc_params)\n",
    "    model.fit(X_train, y_train)\n",
    "    \n",
    "    test_preds += model.predict(test.values) / 3\n",
    "    train_preds[test_index] = model.predict(X_test)\n",
    "    validation_scores.append(f1_score(y_test,model.predict(X_test),average='micro'))"
   ]
  },
  {
   "cell_type": "code",
   "execution_count": 106,
   "metadata": {},
   "outputs": [
    {
     "data": {
      "text/plain": [
       "(0.937466478743365, 0.006715062513122112, 0.931211317418214)"
      ]
     },
     "execution_count": 106,
     "metadata": {},
     "output_type": "execute_result"
    }
   ],
   "source": [
    "np.mean(validation_scores), np.std(validation_scores), min(validation_scores)"
   ]
  },
  {
   "cell_type": "code",
   "execution_count": 103,
   "metadata": {},
   "outputs": [
    {
     "data": {
      "text/plain": [
       "(0.9372896649270839, 0.00660713710146001, 0.9310344827586207)"
      ]
     },
     "execution_count": 103,
     "metadata": {},
     "output_type": "execute_result"
    }
   ],
   "source": [
    "np.mean(validation_scores), np.std(validation_scores), min(validation_scores)"
   ]
  },
  {
   "cell_type": "code",
   "execution_count": null,
   "metadata": {},
   "outputs": [],
   "source": [
    "name = 'linear_svm_unit_diff'\n",
    "model_predictions_train[name] = train_preds\n",
    "model_predictions_test[name] = test_preds"
   ]
  },
  {
   "cell_type": "markdown",
   "metadata": {},
   "source": [
    "### K-NN on diff norm"
   ]
  },
  {
   "cell_type": "code",
   "execution_count": 92,
   "metadata": {},
   "outputs": [],
   "source": [
    "features = [\n",
    "    'predicted_fare_diff_per_distance_normalized',\n",
    "    'predicted_fare_diff_normalized',\n",
    "    'predicted_fare_diff_per_fare_normalized',\n",
    "    'predicted_fare_diff_per_predicted_fare_normalized',\n",
    "    'predicted_duraton_diff_per_duraton_normalized',\n",
    "    'predicted_duraton_diff_per_predicted_duration_normalized',\n",
    "    'predicted_fare_per_duration_diff_normalized',\n",
    "    'predicted_avg_speed_diff_normalized',\n",
    "    'predicted_meter_waiting_diff_normalized',\n",
    "    'predicted_meter_waiting_diff_per_meter_waiting_normalized',\n",
    "    'predicted_meter_waiting_diff_per_predicted_meter_waiting_normalized',\n",
    "    'predicted_meter_waiting_per_duration_diff_normalized',\n",
    "    'predicted_meter_waiting_fare_diff_normalized',\n",
    "    'predicted_meter_waiting_fare_diff_per_meter_waiting_fare_normalized',\n",
    "    'predicted_meter_waiting_fare_diff_per_predicted_meter_waiting_fare_normalized',\n",
    "    'predicted_meter_waiting_fare_per_meter_waiting_diff_normalized',\n",
    "    'predicted_meter_waiting_fare_per_duration_diff_normalized',\n",
    "    'predicted_additional_fare_diff_normalized',\n",
    "    'predicted_additional_fare_diff_per_additional_fare_normalized',\n",
    "]\n",
    "\n",
    "cat_features = []"
   ]
  },
  {
   "cell_type": "code",
   "execution_count": 93,
   "metadata": {},
   "outputs": [],
   "source": [
    "train = train_df[features]\n",
    "train = train.fillna(0)\n",
    "test = test_df[features]\n",
    "test = test.fillna(0)\n",
    "y = train_df['label']"
   ]
  },
  {
   "cell_type": "code",
   "execution_count": 94,
   "metadata": {},
   "outputs": [],
   "source": [
    "knn_params = {\n",
    "    'n_neighbors':15,\n",
    "    'weights':'distance'    \n",
    "}"
   ]
  },
  {
   "cell_type": "code",
   "execution_count": 95,
   "metadata": {},
   "outputs": [],
   "source": [
    "folds = 3\n",
    "skf = StratifiedKFold(n_splits=folds)\n",
    "train_preds = np.zeros(train_df.shape[0])\n",
    "test_preds = np.zeros(test_df.shape[0])\n",
    "validation_scores = []\n",
    "for train_index, test_index in skf.split(train, y):\n",
    "    X_train, X_test = train.iloc[train_index,:].values, train.iloc[test_index,:].values\n",
    "    y_train, y_test = y[train_index], y[test_index]\n",
    "    \n",
    "    model = KNeighborsClassifier(**knn_params)\n",
    "    model.fit(X_train, y_train)\n",
    "    \n",
    "    test_preds += model.predict(test.values) / 3\n",
    "    train_preds[test_index] = model.predict(X_test)\n",
    "    validation_scores.append(f1_score(y_test,model.predict(X_test),average='micro'))"
   ]
  },
  {
   "cell_type": "code",
   "execution_count": 96,
   "metadata": {},
   "outputs": [
    {
     "data": {
      "text/plain": [
       "(0.9516113860343972, 0.0069344895200864915, 0.941998231653404)"
      ]
     },
     "execution_count": 96,
     "metadata": {},
     "output_type": "execute_result"
    }
   ],
   "source": [
    "np.mean(validation_scores), np.std(validation_scores), min(validation_scores)"
   ]
  },
  {
   "cell_type": "code",
   "execution_count": 97,
   "metadata": {},
   "outputs": [],
   "source": [
    "name = 'knn_unit_diff_norm'\n",
    "model_predictions_train[name] = train_preds\n",
    "model_predictions_test[name] = test_preds"
   ]
  },
  {
   "cell_type": "markdown",
   "metadata": {},
   "source": [
    "# Stack level 2"
   ]
  },
  {
   "cell_type": "code",
   "execution_count": 155,
   "metadata": {},
   "outputs": [],
   "source": [
    "features = model_predictions_test.columns\n",
    "cat_cols = [\n",
    "    'knn_anomaly',\n",
    "    'rf_anomaly',\n",
    "    'knn_unit_diff',\n",
    "    'knn_unit_diff_norm'\n",
    "]"
   ]
  },
  {
   "cell_type": "code",
   "execution_count": 156,
   "metadata": {},
   "outputs": [],
   "source": [
    "for each in cat_cols:\n",
    "    model_predictions_train[each] = model_predictions_train[each].astype(int)\n",
    "    model_predictions_test[each] = model_predictions_test[each].astype(int)"
   ]
  },
  {
   "cell_type": "code",
   "execution_count": 159,
   "metadata": {},
   "outputs": [],
   "source": [
    "train = model_predictions_train[features]\n",
    "test = model_predictions_test[features]\n",
    "y = train_df['label']"
   ]
  },
  {
   "cell_type": "code",
   "execution_count": 198,
   "metadata": {},
   "outputs": [
    {
     "data": {
      "text/plain": [
       "<matplotlib.axes._subplots.AxesSubplot at 0x7f17a40f45d0>"
      ]
     },
     "execution_count": 198,
     "metadata": {},
     "output_type": "execute_result"
    },
    {
     "data": {
      "image/png": "[encoded data removed]",
      "text/plain": [
       "<Figure size 432x288 with 2 Axes>"
      ]
     },
     "metadata": {
      "needs_background": "light"
     },
     "output_type": "display_data"
    }
   ],
   "source": [
    "sns.heatmap(model_predictions_train.corr())"
   ]
  },
  {
   "cell_type": "markdown",
   "metadata": {},
   "source": [
    "### Catboost"
   ]
  },
  {
   "cell_type": "code",
   "execution_count": 172,
   "metadata": {},
   "outputs": [],
   "source": [
    "catboost_params = {\n",
    "    'loss_function':'Logloss',\n",
    "    'random_state':0,\n",
    "    'early_stopping_rounds':50,\n",
    "    'eval_metric':'F1'\n",
    "}"
   ]
  },
  {
   "cell_type": "code",
   "execution_count": 173,
   "metadata": {},
   "outputs": [],
   "source": [
    "submission_pool = Pool(data=model_predictions_test[features], cat_features=cat_features)"
   ]
  },
  {
   "cell_type": "code",
   "execution_count": 174,
   "metadata": {},
   "outputs": [
    {
     "name": "stdout",
     "output_type": "stream",
     "text": [
      "Learning rate set to 0.057693\n",
      "0:\tlearn: 0.9745223\ttest: 0.9771583\tbest: 0.9771583 (0)\ttotal: 15.1ms\tremaining: 15.1s\n",
      "10:\tlearn: 0.9757573\ttest: 0.9777992\tbest: 0.9778979 (9)\ttotal: 102ms\tremaining: 9.21s\n",
      "20:\tlearn: 0.9761836\ttest: 0.9777135\tbest: 0.9782022 (14)\ttotal: 177ms\tremaining: 8.26s\n",
      "30:\tlearn: 0.9765141\ttest: 0.9778078\tbest: 0.9782022 (14)\ttotal: 257ms\tremaining: 8.04s\n",
      "40:\tlearn: 0.9767420\ttest: 0.9775075\tbest: 0.9782022 (14)\ttotal: 329ms\tremaining: 7.7s\n",
      "50:\tlearn: 0.9774573\ttest: 0.9774857\tbest: 0.9782022 (14)\ttotal: 395ms\tremaining: 7.36s\n",
      "60:\tlearn: 0.9776923\ttest: 0.9774727\tbest: 0.9782022 (14)\ttotal: 466ms\tremaining: 7.17s\n",
      "Stopped by overfitting detector  (50 iterations wait)\n",
      "\n",
      "bestTest = 0.9782021605\n",
      "bestIteration = 14\n",
      "\n",
      "Shrink model to first 15 iterations.\n",
      "Learning rate set to 0.057693\n",
      "0:\tlearn: 0.9753756\ttest: 0.9767665\tbest: 0.9767665 (0)\ttotal: 4.95ms\tremaining: 4.94s\n",
      "10:\tlearn: 0.9759915\ttest: 0.9777223\tbest: 0.9779271 (5)\ttotal: 78.9ms\tremaining: 7.09s\n",
      "20:\tlearn: 0.9758602\ttest: 0.9777351\tbest: 0.9779313 (13)\ttotal: 158ms\tremaining: 7.38s\n",
      "30:\tlearn: 0.9765633\ttest: 0.9774147\tbest: 0.9780040 (27)\ttotal: 254ms\tremaining: 7.93s\n",
      "40:\tlearn: 0.9769833\ttest: 0.9773077\tbest: 0.9780040 (27)\ttotal: 334ms\tremaining: 7.82s\n",
      "50:\tlearn: 0.9774573\ttest: 0.9774957\tbest: 0.9780040 (27)\ttotal: 434ms\tremaining: 8.07s\n",
      "60:\tlearn: 0.9776945\ttest: 0.9773973\tbest: 0.9780040 (27)\ttotal: 519ms\tremaining: 7.99s\n",
      "70:\tlearn: 0.9779765\ttest: 0.9774827\tbest: 0.9780040 (27)\ttotal: 610ms\tremaining: 7.98s\n",
      "Stopped by overfitting detector  (50 iterations wait)\n",
      "\n",
      "bestTest = 0.9780040342\n",
      "bestIteration = 27\n",
      "\n",
      "Shrink model to first 28 iterations.\n",
      "Learning rate set to 0.057694\n",
      "0:\tlearn: 0.9778140\ttest: 0.9702819\tbest: 0.9702819 (0)\ttotal: 7.61ms\tremaining: 7.6s\n",
      "10:\tlearn: 0.9782901\ttest: 0.9721611\tbest: 0.9723630 (9)\ttotal: 116ms\tremaining: 10.5s\n",
      "20:\tlearn: 0.9786232\ttest: 0.9721611\tbest: 0.9723630 (9)\ttotal: 235ms\tremaining: 10.9s\n",
      "30:\tlearn: 0.9786130\ttest: 0.9720414\tbest: 0.9723630 (9)\ttotal: 321ms\tremaining: 10s\n",
      "40:\tlearn: 0.9794761\ttest: 0.9720467\tbest: 0.9723630 (9)\ttotal: 396ms\tremaining: 9.27s\n",
      "50:\tlearn: 0.9799981\ttest: 0.9722222\tbest: 0.9723630 (9)\ttotal: 480ms\tremaining: 8.93s\n",
      "Stopped by overfitting detector  (50 iterations wait)\n",
      "\n",
      "bestTest = 0.9723630104\n",
      "bestIteration = 9\n",
      "\n",
      "Shrink model to first 10 iterations.\n"
     ]
    }
   ],
   "source": [
    "train_preds = np.zeros(train_df.shape[0])\n",
    "test_preds = np.zeros(test_df.shape[0])\n",
    "train_class = np.zeros(train_df.shape[0])\n",
    "test_class = np.zeros(test_df.shape[0])\n",
    "skf = StratifiedKFold(n_splits=3)\n",
    "validation_scores = []\n",
    "for train_index, test_index in skf.split(train, y):\n",
    "    X_train, X_test = train.iloc[train_index,:], train.iloc[test_index,:]\n",
    "    y_train, y_test = y[train_index], y[test_index]\n",
    "    train_pool = Pool(data=X_train, label=y_train,cat_features=cat_features)\n",
    "    test_pool = Pool(data=X_test, label=y_test, cat_features=cat_features)    \n",
    "    model = CatBoostClassifier(**catboost_params)\n",
    "    model.fit(X=train_pool, eval_set=test_pool,verbose=10)\n",
    "    train_preds[test_index] = model.predict_proba(test_pool)[:,1]\n",
    "    train_class[test_index] = model.predict(test_pool)\n",
    "    test_preds += model.predict_proba(submission_pool)[:,1]/3\n",
    "    test_class = model.predict(submission_pool)\n",
    "    validation_scores.append(f1_score(y_test,model.predict(test_pool),average='micro'))\n",
    "test_class = np.where(test_class > 2, 1, 0)"
   ]
  },
  {
   "cell_type": "code",
   "execution_count": 175,
   "metadata": {},
   "outputs": [
    {
     "data": {
      "text/plain": [
       "(0.9561497462743622, 0.005134601491610158, 0.948894783377542)"
      ]
     },
     "execution_count": 175,
     "metadata": {},
     "output_type": "execute_result"
    }
   ],
   "source": [
    "np.mean(validation_scores), np.std(validation_scores), min(validation_scores)"
   ]
  },
  {
   "cell_type": "markdown",
   "metadata": {},
   "source": [
    "### Extratrees"
   ]
  },
  {
   "cell_type": "code",
   "execution_count": 193,
   "metadata": {},
   "outputs": [],
   "source": [
    "et_params = {\n",
    "    'n_estimators':10,\n",
    "    'max_depth':3,\n",
    "    'random_state':0    \n",
    "}"
   ]
  },
  {
   "cell_type": "code",
   "execution_count": 194,
   "metadata": {},
   "outputs": [],
   "source": [
    "folds = 3\n",
    "skf = StratifiedKFold(n_splits=folds)\n",
    "train_preds = np.zeros(train_df.shape[0])\n",
    "test_preds = np.zeros(test_df.shape[0])\n",
    "validation_scores = []\n",
    "for train_index, test_index in skf.split(train, y):\n",
    "    X_train, X_test = train.iloc[train_index,:].values, train.iloc[test_index,:].values\n",
    "    y_train, y_test = y[train_index], y[test_index]\n",
    "    \n",
    "    model = ExtraTreesClassifier(**et_params)\n",
    "    model.fit(X_train, y_train)\n",
    "    \n",
    "    test_preds += model.predict(test.values) / 3\n",
    "    train_preds[test_index] = model.predict(X_test)\n",
    "    validation_scores.append(f1_score(y_test,model.predict(X_test),average='micro'))"
   ]
  },
  {
   "cell_type": "code",
   "execution_count": 195,
   "metadata": {},
   "outputs": [
    {
     "data": {
      "text/plain": [
       "(0.9563266017772675, 0.004675235890736741, 0.9497789566755085)"
      ]
     },
     "execution_count": 195,
     "metadata": {},
     "output_type": "execute_result"
    }
   ],
   "source": [
    "np.mean(validation_scores), np.std(validation_scores), min(validation_scores)"
   ]
  },
  {
   "cell_type": "code",
   "execution_count": null,
   "metadata": {},
   "outputs": [],
   "source": []
  }
 ],
 "metadata": {
  "kernelspec": {
   "display_name": "Python 3",
   "language": "python",
   "name": "python3"
  },
  "language_info": {
   "codemirror_mode": {
    "name": "ipython",
    "version": 3
   },
   "file_extension": ".py",
   "mimetype": "text/x-python",
   "name": "python",
   "nbconvert_exporter": "python",
   "pygments_lexer": "ipython3",
   "version": "3.7.4"
  }
 },
 "nbformat": 4,
 "nbformat_minor": 2
}
