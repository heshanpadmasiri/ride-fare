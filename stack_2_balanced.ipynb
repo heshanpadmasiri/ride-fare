{
 "cells": [
  {
   "cell_type": "code",
   "execution_count": 1,
   "metadata": {},
   "outputs": [],
   "source": [
    "import itertools\n",
    "\n",
    "import pandas as pd\n",
    "import numpy as np\n",
    "import matplotlib.pyplot as plt\n",
    "import seaborn as sns\n",
    "\n",
    "from sklearn.model_selection import KFold,StratifiedKFold\n",
    "from sklearn.linear_model import LinearRegression,LogisticRegression\n",
    "from sklearn.svm import SVR, SVC\n",
    "from sklearn.ensemble import RandomForestRegressor,ExtraTreesClassifier,RandomForestClassifier\n",
    "from sklearn.preprocessing import StandardScaler,KBinsDiscretizer,LabelEncoder,MinMaxScaler\n",
    "from sklearn.metrics import mean_squared_error,f1_score\n",
    "from sklearn.kernel_approximation import Nystroem\n",
    "from sklearn.neighbors import KNeighborsClassifier\n",
    "\n",
    "from catboost import Pool, cv,CatBoostClassifier,CatBoostRegressor\n",
    "\n",
    "import tensorflow as tf\n",
    "from tensorflow.keras.layers import Input, Dense, concatenate,Dropout\n",
    "from tensorflow.keras.models import Model, Sequential\n",
    "from tensorflow.keras import regularizers\n",
    "import tensorflow_addons as tfa\n",
    "\n",
    "from tqdm import tqdm\n",
    "\n",
    "import lightgbm as lgb\n",
    "\n",
    "from imblearn.over_sampling import RandomOverSampler,SMOTE, ADASYN"
   ]
  },
  {
   "cell_type": "code",
   "execution_count": 2,
   "metadata": {},
   "outputs": [],
   "source": [
    "train_df = pd.read_csv('train_df_final_blanced.csv')\n",
    "train_df = train_df.fillna(0)\n",
    "train_df_org = pd.read_csv('train_df_final.csv')\n",
    "train_df_org = train_df_org.fillna(0)\n",
    "test_df = pd.read_csv('test_df_final.csv')\n",
    "test_df = test_df.fillna(0)\n",
    "submission_df = pd.read_csv('sample_submission.csv')"
   ]
  },
  {
   "cell_type": "code",
   "execution_count": 3,
   "metadata": {},
   "outputs": [],
   "source": [
    "y = train_df['label'].values\n",
    "y_org = train_df_org['label'].values"
   ]
  },
  {
   "cell_type": "code",
   "execution_count": 4,
   "metadata": {},
   "outputs": [
    {
     "data": {
      "text/plain": [
       "0.8888952852455242"
      ]
     },
     "execution_count": 4,
     "metadata": {},
     "output_type": "execute_result"
    }
   ],
   "source": [
    "y.sum()/y.shape[0]"
   ]
  },
  {
   "cell_type": "code",
   "execution_count": 5,
   "metadata": {},
   "outputs": [],
   "source": [
    "model_predictions_train = pd.DataFrame()\n",
    "model_predictions_train['label'] = train_df['label']\n",
    "model_predictions_test = pd.DataFrame()"
   ]
  },
  {
   "cell_type": "code",
   "execution_count": 6,
   "metadata": {},
   "outputs": [
    {
     "name": "stdout",
     "output_type": "stream",
     "text": [
      "additional_fare\n",
      "duration\n",
      "meter_waiting\n",
      "meter_waiting_fare\n",
      "meter_waiting_till_pickup\n",
      "fare\n",
      "pickup_date\n",
      "pickup_hour\n",
      "pickup_minute\n",
      "drop_date\n",
      "drop_hour\n",
      "drop_minute\n",
      "pick_cluster\n",
      "is_more_than_one_day\n",
      "distance_km\n",
      "fare_per_km\n",
      "pickup_timeslot\n",
      "day_of_week\n",
      "is_weekday\n",
      "cal_time_difference\n",
      "label\n",
      "predicted_fare\n",
      "predicted_fare_diff\n",
      "predicted_fare_diff_per_fare\n",
      "predicted_fare_diff_per_predicted_fare\n",
      "fare_per_distance\n",
      "predicted_fare_per_distance\n",
      "predicted_fare_diff_per_distance\n",
      "predicted_duration\n",
      "predicted_duration_diff\n",
      "predicted_duraton_diff_per_duraton\n",
      "predicted_duraton_diff_per_predicted_duration\n",
      "predicted_duraton_diff_per_distance\n",
      "fare_per_duration\n",
      "predicted_fare_per_duration\n",
      "predicted_fare_per_duration_diff\n",
      "avg_speed\n",
      "predicted_avg_speed\n",
      "predicted_avg_speed_diff\n",
      "predicted_meter_waiting\n",
      "predicted_meter_waiting_diff\n",
      "predicted_meter_waiting_diff_per_meter_waiting\n",
      "predicted_meter_waiting_diff_per_distance\n",
      "predicted_meter_waiting_diff_per_predicted_meter_waiting\n",
      "meter_waiting_per_duration\n",
      "predicted_meter_waiting_per_duration\n",
      "predicted_meter_waiting_per_duration_diff\n",
      "predicted_meter_waiting_fare\n",
      "predicted_meter_waiting_fare_diff\n",
      "predicted_meter_waiting_fare_diff_per_meter_waiting_fare\n",
      "predicted_meter_waiting_fare_diff_per_distance\n",
      "predicted_meter_waiting_fare_diff_per_predicted_meter_waiting_fare\n",
      "meter_waiting_fare_per_meter_waiting\n",
      "predicted_meter_waiting_fare_per_meter_waiting\n",
      "predicted_meter_waiting_fare_per_meter_waiting_diff\n",
      "meter_waiting_fare_per_duration\n",
      "predicted_meter_waiting_fare_per_duration\n",
      "predicted_meter_waiting_fare_per_duration_diff\n",
      "predicted_additional_fare\n",
      "predicted_additional_fare_diff\n",
      "predicted_additional_fare_diff_per_additional_fare\n",
      "predicted_addtional_fare_per_fare\n",
      "addtional_fare_per_fare\n",
      "addtional_fare_per_distance\n",
      "predicted_addtional_fare_per_distance\n",
      "predicted_addtional_fare_diff_per_distance\n",
      "addtional_fare_per_duration\n",
      "predicted_addtional_fare_per_duration\n",
      "fare-additional_fare\n",
      "predicted_fare-additional_fare\n",
      "fare-additional_fare-meter_waiting_fare\n",
      "predicted_fare-additional_fare-meter_waiting_fare\n",
      "fare-additional_fare_per_distance\n",
      "predicted_fare-additional_fare_per_distance\n",
      "fare-additional_fare_per_duration\n",
      "predicted_fare-additional_fare_per_duration\n",
      "fare-additional_fare-meter_waiting_fare_per_distance\n",
      "predicted_fare-additional_fare-meter_waiting_fare_per_distance\n",
      "fare-additional_fare-meter_waiting_fare_per_duration\n",
      "predicted_fare-additional_fare-meter_waiting_fare_per_duration\n",
      "predicted_meter_waiting_till_pickup\n",
      "predicted_meter_waiting_till_pickup_diff\n",
      "predicted_meter_waiting_till_pickup_diff_per_meter_waiting_till_pickup\n",
      "meter_waiting_till_pickup_per_meter_waiting\n",
      "predicted_meter_waiting_till_pickup_per_meter_waiting\n",
      "predicted_meter_waiting_till_pickup_per_meter_waiting_diff\n",
      "meter_waiting_after_pickup\n",
      "predicted_meter_waiting_after_pickup\n",
      "meter_waiting_after_pickup_per_duration\n",
      "predicted_meter_waiting_after_pickup_per_duration\n",
      "meter_waiting_till_pickup_per_duration\n",
      "predicted_meter_waiting_till_pickup_per_duration\n",
      "meter_waiting_till_pickup_per_distance\n",
      "predicted_meter_waiting_till_pickup_per_distance\n",
      "meter_waiting_after_pickup_per_distance\n",
      "predicted_meter_waiting_after_pickup_per_distance\n",
      "meter_waiting_till_pickup_per_fare\n",
      "predicted_meter_waiting_till_pickup_per_fare\n",
      "meter_waiting_after_pickup_per_fare\n",
      "predicted_meter_waiting_after_pickup_per_fare\n",
      "meter_waiting_till_pickup_per_meter_waiting_fare\n",
      "predicted_meter_waiting_till_pickup_per_meter_waiting_fare\n",
      "meter_waiting_after_pickup_per_meter_waiting_fare\n",
      "predicted_meter_waiting_after_pickup_per_meter_waiting_fare\n",
      "fare_anomaly\n",
      "additional_fare_anomaly\n",
      "duration_anomaly\n",
      "meter_waiting_anomaly\n",
      "meter_waiting_fare_anomaly\n",
      "meter_waiting_till_pickup_anomaly\n",
      "additional_fare_duration_anomaly\n",
      "additional_fare_meter_waiting_anomaly\n",
      "additional_fare_meter_waiting_fare_anomaly\n",
      "additional_fare_meter_waiting_till_pickup_anomaly\n",
      "duration_meter_waiting_anomaly\n",
      "duration_meter_waiting_fare_anomaly\n",
      "duration_meter_waiting_till_pickup_anomaly\n",
      "meter_waiting_meter_waiting_fare_anomaly\n",
      "meter_waiting_meter_waiting_till_pickup_anomaly\n",
      "meter_waiting_fare_meter_waiting_till_pickup_anomaly\n",
      "additional_fare_duration_meter_waiting_anomaly\n",
      "additional_fare_duration_meter_waiting_fare_anomaly\n",
      "additional_fare_duration_meter_waiting_till_pickup_anomaly\n",
      "additional_fare_meter_waiting_meter_waiting_fare_anomaly\n",
      "additional_fare_meter_waiting_meter_waiting_till_pickup_anomaly\n",
      "additional_fare_meter_waiting_fare_meter_waiting_till_pickup_anomaly\n",
      "duration_meter_waiting_meter_waiting_fare_anomaly\n",
      "duration_meter_waiting_meter_waiting_till_pickup_anomaly\n",
      "duration_meter_waiting_fare_meter_waiting_till_pickup_anomaly\n",
      "meter_waiting_meter_waiting_fare_meter_waiting_till_pickup_anomaly\n",
      "additional_fare_duration_meter_waiting_meter_waiting_fare_anomaly\n",
      "additional_fare_duration_meter_waiting_meter_waiting_till_pickup_anomaly\n",
      "additional_fare_duration_meter_waiting_fare_meter_waiting_till_pickup_anomaly\n",
      "additional_fare_meter_waiting_meter_waiting_fare_meter_waiting_till_pickup_anomaly\n",
      "duration_meter_waiting_meter_waiting_fare_meter_waiting_till_pickup_anomaly\n",
      "fare_anomaly_predicted_fare_diff_prod\n",
      "fare_anomaly_predicted_fare_diff_per_fare_prod\n",
      "fare_anomaly_predicted_fare_diff_per_distance_prod\n",
      "additional_fare_anomaly_predicted_additional_fare_diff_prod\n",
      "additional_fare_anomaly_predicted_additional_fare_diff_per_additional_fare_prod\n",
      "additional_fare_anomaly_predicted_addtional_fare_per_distance_prod\n",
      "duration_anomaly_predicted_duration_diff_prod\n",
      "duration_anomaly_predicted_duraton_diff_per_duraton_prod\n",
      "duration_anomaly_predicted_duraton_diff_per_distance_prod\n",
      "meter_waiting_anomaly_predicted_meter_waiting_diff_prod\n",
      "meter_waiting_anomaly_predicted_meter_waiting_diff_per_meter_waiting_prod\n",
      "meter_waiting_anomaly_predicted_meter_waiting_diff_per_distance_prod\n",
      "meter_waiting_fare_anomaly_predicted_meter_waiting_fare_diff_prod\n",
      "meter_waiting_fare_anomaly_predicted_meter_waiting_fare_diff_per_meter_waiting_fare_prod\n",
      "meter_waiting_fare_anomaly_predicted_meter_waiting_fare_diff_per_distance_prod\n",
      "predicted_duraton_diff_per_duraton@predicted_duraton_diff_per_distance\n",
      "predicted_fare_diff_normalized\n",
      "predicted_fare_diff_per_fare_normalized\n",
      "predicted_fare_diff_per_predicted_fare_normalized\n",
      "predicted_fare_diff_per_distance_normalized\n",
      "predicted_duraton_diff_per_duraton_normalized\n",
      "predicted_duraton_diff_per_predicted_duration_normalized\n",
      "predicted_fare_per_duration_diff_normalized\n",
      "predicted_avg_speed_diff_normalized\n",
      "predicted_meter_waiting_diff_normalized\n",
      "predicted_meter_waiting_diff_per_meter_waiting_normalized\n",
      "predicted_meter_waiting_diff_per_predicted_meter_waiting_normalized\n",
      "predicted_meter_waiting_per_duration_diff_normalized\n",
      "predicted_meter_waiting_fare_diff_normalized\n",
      "predicted_meter_waiting_fare_diff_per_meter_waiting_fare_normalized\n",
      "predicted_meter_waiting_fare_diff_per_predicted_meter_waiting_fare_normalized\n",
      "predicted_meter_waiting_fare_per_meter_waiting_diff_normalized\n",
      "predicted_meter_waiting_fare_per_duration_diff_normalized\n",
      "predicted_additional_fare_diff_normalized\n",
      "predicted_additional_fare_diff_per_additional_fare_normalized\n",
      "fare_per_distance_mean\n",
      "fare_per_distance_mean_diff\n",
      "avg_speed_mean\n",
      "avg_speed_mean_diff\n",
      "meter_waiting_per_duration_mean\n",
      "meter_waiting_per_duration_mean_diff\n",
      "meter_waiting_fare_per_meter_waiting_mean\n",
      "meter_waiting_fare_per_meter_waiting_mean_diff\n",
      "meter_waiting_fare_per_duration_mean\n",
      "meter_waiting_fare_per_duration_mean_diff\n",
      "addtional_fare_per_fare_mean\n",
      "addtional_fare_per_fare_mean_diff\n",
      "addtional_fare_per_distance_mean\n",
      "addtional_fare_per_distance_mean_diff\n",
      "addtional_fare_per_duration_mean\n",
      "addtional_fare_per_duration_mean_diff\n"
     ]
    }
   ],
   "source": [
    "for column in train_df.columns:\n",
    "    print(column)"
   ]
  },
  {
   "cell_type": "markdown",
   "metadata": {},
   "source": [
    "## Anomaly based"
   ]
  },
  {
   "cell_type": "code",
   "execution_count": 7,
   "metadata": {},
   "outputs": [],
   "source": [
    "features = [\n",
    "    'fare_anomaly',\n",
    "    'additional_fare_anomaly', \n",
    "    'duration_anomaly',\n",
    "    'meter_waiting_anomaly', \n",
    "    'meter_waiting_fare_anomaly',\n",
    "    'meter_waiting_till_pickup_anomaly', \n",
    "    'additional_fare_duration_anomaly',\n",
    "    'additional_fare_meter_waiting_anomaly',\n",
    "    'additional_fare_meter_waiting_fare_anomaly',\n",
    "    'additional_fare_meter_waiting_till_pickup_anomaly',\n",
    "    'duration_meter_waiting_anomaly', \n",
    "    'duration_meter_waiting_fare_anomaly',\n",
    "    'duration_meter_waiting_till_pickup_anomaly',\n",
    "    'meter_waiting_meter_waiting_fare_anomaly',\n",
    "    'meter_waiting_meter_waiting_till_pickup_anomaly',\n",
    "    'meter_waiting_fare_meter_waiting_till_pickup_anomaly',\n",
    "    'additional_fare_duration_meter_waiting_anomaly',\n",
    "    'additional_fare_duration_meter_waiting_fare_anomaly',\n",
    "    'additional_fare_duration_meter_waiting_till_pickup_anomaly',\n",
    "    'additional_fare_meter_waiting_meter_waiting_fare_anomaly',\n",
    "    'additional_fare_meter_waiting_meter_waiting_till_pickup_anomaly',\n",
    "    'additional_fare_meter_waiting_fare_meter_waiting_till_pickup_anomaly',\n",
    "    'duration_meter_waiting_meter_waiting_fare_anomaly',\n",
    "    'duration_meter_waiting_meter_waiting_till_pickup_anomaly',\n",
    "    'duration_meter_waiting_fare_meter_waiting_till_pickup_anomaly',\n",
    "    'meter_waiting_meter_waiting_fare_meter_waiting_till_pickup_anomaly',\n",
    "    'additional_fare_duration_meter_waiting_meter_waiting_fare_anomaly',\n",
    "    'additional_fare_duration_meter_waiting_meter_waiting_till_pickup_anomaly',\n",
    "    'additional_fare_duration_meter_waiting_fare_meter_waiting_till_pickup_anomaly',\n",
    "    'additional_fare_meter_waiting_meter_waiting_fare_meter_waiting_till_pickup_anomaly',\n",
    "    'duration_meter_waiting_meter_waiting_fare_meter_waiting_till_pickup_anomaly',\n",
    "]\n",
    "\n",
    "cat_features = [\n",
    "    'fare_anomaly',\n",
    "    'additional_fare_anomaly', \n",
    "    'duration_anomaly',\n",
    "    'meter_waiting_anomaly', \n",
    "    'meter_waiting_fare_anomaly',\n",
    "    'meter_waiting_till_pickup_anomaly', \n",
    "    'additional_fare_duration_anomaly',\n",
    "    'additional_fare_meter_waiting_anomaly',\n",
    "    'additional_fare_meter_waiting_fare_anomaly',\n",
    "    'additional_fare_meter_waiting_till_pickup_anomaly',\n",
    "    'duration_meter_waiting_anomaly', \n",
    "    'duration_meter_waiting_fare_anomaly',\n",
    "    'duration_meter_waiting_till_pickup_anomaly',\n",
    "    'meter_waiting_meter_waiting_fare_anomaly',\n",
    "    'meter_waiting_meter_waiting_till_pickup_anomaly',\n",
    "    'meter_waiting_fare_meter_waiting_till_pickup_anomaly',\n",
    "    'additional_fare_duration_meter_waiting_anomaly',\n",
    "    'additional_fare_duration_meter_waiting_fare_anomaly',\n",
    "    'additional_fare_duration_meter_waiting_till_pickup_anomaly',\n",
    "    'additional_fare_meter_waiting_meter_waiting_fare_anomaly',\n",
    "    'additional_fare_meter_waiting_meter_waiting_till_pickup_anomaly',\n",
    "    'additional_fare_meter_waiting_fare_meter_waiting_till_pickup_anomaly',\n",
    "    'duration_meter_waiting_meter_waiting_fare_anomaly',\n",
    "    'duration_meter_waiting_meter_waiting_till_pickup_anomaly',\n",
    "    'duration_meter_waiting_fare_meter_waiting_till_pickup_anomaly',\n",
    "    'meter_waiting_meter_waiting_fare_meter_waiting_till_pickup_anomaly',\n",
    "    'additional_fare_duration_meter_waiting_meter_waiting_fare_anomaly',\n",
    "    'additional_fare_duration_meter_waiting_meter_waiting_till_pickup_anomaly',\n",
    "    'additional_fare_duration_meter_waiting_fare_meter_waiting_till_pickup_anomaly',\n",
    "    'additional_fare_meter_waiting_meter_waiting_fare_meter_waiting_till_pickup_anomaly',\n",
    "    'duration_meter_waiting_meter_waiting_fare_meter_waiting_till_pickup_anomaly',\n",
    "]"
   ]
  },
  {
   "cell_type": "code",
   "execution_count": 8,
   "metadata": {},
   "outputs": [
    {
     "name": "stderr",
     "output_type": "stream",
     "text": [
      "/home/heshan/anaconda3/envs/kaggle/lib/python3.7/site-packages/ipykernel_launcher.py:6: SettingWithCopyWarning: \n",
      "A value is trying to be set on a copy of a slice from a DataFrame.\n",
      "Try using .loc[row_indexer,col_indexer] = value instead\n",
      "\n",
      "See the caveats in the documentation: http://pandas.pydata.org/pandas-docs/stable/user_guide/indexing.html#returning-a-view-versus-a-copy\n",
      "  \n",
      "/home/heshan/anaconda3/envs/kaggle/lib/python3.7/site-packages/ipykernel_launcher.py:7: SettingWithCopyWarning: \n",
      "A value is trying to be set on a copy of a slice from a DataFrame.\n",
      "Try using .loc[row_indexer,col_indexer] = value instead\n",
      "\n",
      "See the caveats in the documentation: http://pandas.pydata.org/pandas-docs/stable/user_guide/indexing.html#returning-a-view-versus-a-copy\n",
      "  import sys\n",
      "/home/heshan/anaconda3/envs/kaggle/lib/python3.7/site-packages/ipykernel_launcher.py:8: SettingWithCopyWarning: \n",
      "A value is trying to be set on a copy of a slice from a DataFrame.\n",
      "Try using .loc[row_indexer,col_indexer] = value instead\n",
      "\n",
      "See the caveats in the documentation: http://pandas.pydata.org/pandas-docs/stable/user_guide/indexing.html#returning-a-view-versus-a-copy\n",
      "  \n"
     ]
    }
   ],
   "source": [
    "train = train_df[features]\n",
    "test = test_df[features]\n",
    "train_org = train_df_org[features]\n",
    "y = train_df['label']\n",
    "for each in cat_features:\n",
    "    train[each] = train[each].values.astype(int)\n",
    "    test[each] = test[each].values.astype(int)\n",
    "    train_org[each] = train_org[each].values.astype(int)"
   ]
  },
  {
   "cell_type": "code",
   "execution_count": 9,
   "metadata": {},
   "outputs": [],
   "source": [
    "def lgb_f1_score(y_hat, data):\n",
    "    y_true = data.get_label()\n",
    "    y_hat = np.round(y_hat) # scikits f1 doesn't like probabilities\n",
    "    return 'f1', f1_score(y_true, y_hat,average='micro'), True"
   ]
  },
  {
   "cell_type": "markdown",
   "metadata": {},
   "source": [
    "### catboost"
   ]
  },
  {
   "cell_type": "code",
   "execution_count": 10,
   "metadata": {},
   "outputs": [],
   "source": [
    "catboost_params = {\n",
    "    'loss_function':'Logloss',\n",
    "    'random_state':0,\n",
    "    'early_stopping_rounds':50,\n",
    "    'eval_metric':'F1',\n",
    "}"
   ]
  },
  {
   "cell_type": "code",
   "execution_count": 11,
   "metadata": {},
   "outputs": [],
   "source": [
    "submission_pool = Pool(data=test_df[features], cat_features=cat_features)\n",
    "org_pool = Pool(data=train_org[features], cat_features=cat_features)"
   ]
  },
  {
   "cell_type": "code",
   "execution_count": 12,
   "metadata": {},
   "outputs": [
    {
     "name": "stdout",
     "output_type": "stream",
     "text": [
      "Learning rate set to 0.058029\n",
      "0:\tlearn: 0.9414134\ttest: 0.9405187\tbest: 0.9405187 (0)\ttotal: 84.9ms\tremaining: 1m 24s\n",
      "10:\tlearn: 0.9414616\ttest: 0.9413702\tbest: 0.9413809 (9)\ttotal: 213ms\tremaining: 19.1s\n",
      "20:\tlearn: 0.9416285\ttest: 0.9416285\tbest: 0.9416392 (19)\ttotal: 273ms\tremaining: 12.7s\n",
      "30:\tlearn: 0.9422373\ttest: 0.9418871\tbest: 0.9418871 (27)\ttotal: 332ms\tremaining: 10.4s\n",
      "40:\tlearn: 0.9428794\ttest: 0.9418551\tbest: 0.9419733 (36)\ttotal: 394ms\tremaining: 9.21s\n",
      "50:\tlearn: 0.9430522\ttest: 0.9417476\tbest: 0.9420064 (45)\ttotal: 447ms\tremaining: 8.31s\n",
      "60:\tlearn: 0.9433824\ttest: 0.9426004\tbest: 0.9426109 (55)\ttotal: 502ms\tremaining: 7.73s\n",
      "70:\tlearn: 0.9436646\ttest: 0.9425793\tbest: 0.9427733 (65)\ttotal: 569ms\tremaining: 7.44s\n",
      "80:\tlearn: 0.9438429\ttest: 0.9427313\tbest: 0.9427733 (65)\ttotal: 632ms\tremaining: 7.17s\n",
      "90:\tlearn: 0.9441792\ttest: 0.9426237\tbest: 0.9427733 (65)\ttotal: 694ms\tremaining: 6.93s\n",
      "100:\tlearn: 0.9442659\ttest: 0.9427102\tbest: 0.9428073 (96)\ttotal: 754ms\tremaining: 6.71s\n",
      "110:\tlearn: 0.9443526\ttest: 0.9426997\tbest: 0.9428073 (96)\ttotal: 809ms\tremaining: 6.48s\n",
      "120:\tlearn: 0.9444776\ttest: 0.9428729\tbest: 0.9428729 (113)\ttotal: 902ms\tremaining: 6.55s\n",
      "130:\tlearn: 0.9446511\ttest: 0.9427758\tbest: 0.9429595 (125)\ttotal: 965ms\tremaining: 6.4s\n",
      "140:\tlearn: 0.9446996\ttest: 0.9429490\tbest: 0.9431328 (134)\ttotal: 1.03s\tremaining: 6.28s\n",
      "150:\tlearn: 0.9446945\ttest: 0.9431223\tbest: 0.9431328 (134)\ttotal: 1.09s\tremaining: 6.14s\n",
      "160:\tlearn: 0.9448298\ttest: 0.9430356\tbest: 0.9431328 (134)\ttotal: 1.16s\tremaining: 6.04s\n",
      "170:\tlearn: 0.9448732\ttest: 0.9430356\tbest: 0.9431328 (134)\ttotal: 1.21s\tremaining: 5.88s\n",
      "180:\tlearn: 0.9450034\ttest: 0.9430356\tbest: 0.9431328 (134)\ttotal: 1.27s\tremaining: 5.74s\n",
      "190:\tlearn: 0.9451186\ttest: 0.9433061\tbest: 0.9433061 (182)\ttotal: 1.33s\tremaining: 5.63s\n",
      "200:\tlearn: 0.9452489\ttest: 0.9433928\tbest: 0.9433928 (195)\ttotal: 1.4s\tremaining: 5.58s\n",
      "210:\tlearn: 0.9454612\ttest: 0.9431985\tbest: 0.9433928 (195)\ttotal: 1.46s\tremaining: 5.47s\n",
      "220:\tlearn: 0.9456402\ttest: 0.9430252\tbest: 0.9433928 (195)\ttotal: 1.53s\tremaining: 5.4s\n",
      "230:\tlearn: 0.9457222\ttest: 0.9431118\tbest: 0.9433928 (195)\ttotal: 1.62s\tremaining: 5.39s\n",
      "240:\tlearn: 0.9457657\ttest: 0.9431014\tbest: 0.9433928 (195)\ttotal: 1.68s\tremaining: 5.3s\n",
      "Stopped by overfitting detector  (50 iterations wait)\n",
      "\n",
      "bestTest = 0.9433927587\n",
      "bestIteration = 195\n",
      "\n",
      "Shrink model to first 196 iterations.\n",
      "Learning rate set to 0.05803\n",
      "0:\tlearn: 0.9419249\ttest: 0.9408750\tbest: 0.9408750 (0)\ttotal: 6.5ms\tremaining: 6.49s\n",
      "10:\tlearn: 0.9414239\ttest: 0.9411980\tbest: 0.9413702 (1)\ttotal: 85.2ms\tremaining: 7.66s\n",
      "20:\tlearn: 0.9415962\ttest: 0.9412841\tbest: 0.9413702 (1)\ttotal: 143ms\tremaining: 6.69s\n",
      "30:\tlearn: 0.9417684\ttest: 0.9412841\tbest: 0.9413702 (1)\ttotal: 205ms\tremaining: 6.41s\n",
      "40:\tlearn: 0.9420270\ttest: 0.9417902\tbest: 0.9417902 (39)\ttotal: 260ms\tremaining: 6.09s\n",
      "50:\tlearn: 0.9427498\ttest: 0.9420383\tbest: 0.9420383 (50)\ttotal: 333ms\tremaining: 6.19s\n",
      "60:\tlearn: 0.9432250\ttest: 0.9424487\tbest: 0.9424487 (60)\ttotal: 401ms\tremaining: 6.17s\n",
      "70:\tlearn: 0.9436956\ttest: 0.9427733\tbest: 0.9428807 (61)\ttotal: 483ms\tremaining: 6.32s\n",
      "80:\tlearn: 0.9437511\ttest: 0.9428283\tbest: 0.9430327 (73)\ttotal: 555ms\tremaining: 6.3s\n",
      "90:\tlearn: 0.9442324\ttest: 0.9427993\tbest: 0.9430327 (73)\ttotal: 614ms\tremaining: 6.13s\n",
      "100:\tlearn: 0.9444879\ttest: 0.9427021\tbest: 0.9430327 (73)\ttotal: 700ms\tremaining: 6.23s\n",
      "110:\tlearn: 0.9445748\ttest: 0.9430490\tbest: 0.9430490 (106)\ttotal: 762ms\tremaining: 6.1s\n",
      "120:\tlearn: 0.9447870\ttest: 0.9431253\tbest: 0.9431358 (116)\ttotal: 833ms\tremaining: 6.05s\n",
      "130:\tlearn: 0.9448355\ttest: 0.9428545\tbest: 0.9431358 (116)\ttotal: 902ms\tremaining: 5.98s\n",
      "140:\tlearn: 0.9449123\ttest: 0.9430176\tbest: 0.9431358 (116)\ttotal: 962ms\tremaining: 5.86s\n",
      "150:\tlearn: 0.9451197\ttest: 0.9433650\tbest: 0.9433650 (150)\ttotal: 1.01s\tremaining: 5.71s\n",
      "160:\tlearn: 0.9451632\ttest: 0.9435387\tbest: 0.9435387 (157)\ttotal: 1.07s\tremaining: 5.57s\n",
      "170:\tlearn: 0.9452938\ttest: 0.9435387\tbest: 0.9435387 (157)\ttotal: 1.13s\tremaining: 5.5s\n",
      "180:\tlearn: 0.9454244\ttest: 0.9435387\tbest: 0.9435387 (157)\ttotal: 1.2s\tremaining: 5.42s\n",
      "190:\tlearn: 0.9454177\ttest: 0.9441933\tbest: 0.9441933 (183)\ttotal: 1.27s\tremaining: 5.37s\n",
      "200:\tlearn: 0.9456406\ttest: 0.9443676\tbest: 0.9443676 (198)\ttotal: 1.33s\tremaining: 5.28s\n",
      "210:\tlearn: 0.9456842\ttest: 0.9443676\tbest: 0.9443676 (198)\ttotal: 1.4s\tremaining: 5.22s\n",
      "220:\tlearn: 0.9458587\ttest: 0.9441727\tbest: 0.9443676 (198)\ttotal: 1.46s\tremaining: 5.14s\n",
      "230:\tlearn: 0.9459410\ttest: 0.9441521\tbest: 0.9443676 (198)\ttotal: 1.52s\tremaining: 5.07s\n",
      "240:\tlearn: 0.9461155\ttest: 0.9441521\tbest: 0.9443676 (198)\ttotal: 1.58s\tremaining: 4.98s\n",
      "Stopped by overfitting detector  (50 iterations wait)\n",
      "\n",
      "bestTest = 0.9443675616\n",
      "bestIteration = 198\n",
      "\n",
      "Shrink model to first 199 iterations.\n",
      "Learning rate set to 0.05803\n",
      "0:\tlearn: 0.9420017\ttest: 0.9415858\tbest: 0.9415858 (0)\ttotal: 10.5ms\tremaining: 10.4s\n",
      "10:\tlearn: 0.9421510\ttest: 0.9414563\tbest: 0.9416285 (2)\ttotal: 72.8ms\tremaining: 6.55s\n",
      "20:\tlearn: 0.9428794\ttest: 0.9414563\tbest: 0.9416392 (14)\ttotal: 125ms\tremaining: 5.81s\n",
      "30:\tlearn: 0.9438202\ttest: 0.9414134\tbest: 0.9416392 (14)\ttotal: 194ms\tremaining: 6.05s\n",
      "40:\tlearn: 0.9447684\ttest: 0.9410902\tbest: 0.9416392 (14)\ttotal: 268ms\tremaining: 6.26s\n",
      "50:\tlearn: 0.9454746\ttest: 0.9408311\tbest: 0.9416392 (14)\ttotal: 341ms\tremaining: 6.35s\n",
      "60:\tlearn: 0.9463289\ttest: 0.9402464\tbest: 0.9416392 (14)\ttotal: 425ms\tremaining: 6.54s\n",
      "Stopped by overfitting detector  (50 iterations wait)\n",
      "\n",
      "bestTest = 0.9416392243\n",
      "bestIteration = 14\n",
      "\n",
      "Shrink model to first 15 iterations.\n"
     ]
    }
   ],
   "source": [
    "train_preds = np.zeros(train_df.shape[0])\n",
    "test_preds = np.zeros(test_df.shape[0])\n",
    "train_class = np.zeros(train_df.shape[0])\n",
    "test_class = np.zeros(test_df.shape[0])\n",
    "skf = StratifiedKFold(n_splits=3)\n",
    "validation_scores = []\n",
    "org_scores = []\n",
    "for train_index, test_index in skf.split(train, y):\n",
    "    X_train, X_test = train.iloc[train_index,:], train.iloc[test_index,:]\n",
    "    y_train, y_test = y[train_index], y[test_index]\n",
    "    train_pool = Pool(data=X_train, label=y_train,cat_features=cat_features)\n",
    "    test_pool = Pool(data=X_test, label=y_test, cat_features=cat_features)    \n",
    "    model = CatBoostClassifier(**catboost_params)\n",
    "    model.fit(X=train_pool, eval_set=test_pool,verbose=10)\n",
    "    train_preds[test_index] = model.predict_proba(test_pool)[:,1]\n",
    "    train_class[test_index] = model.predict(test_pool)\n",
    "    test_preds += model.predict_proba(submission_pool)[:,1]/3\n",
    "    test_class = model.predict(submission_pool)\n",
    "    validation_scores.append(f1_score(y_test,model.predict(test_pool),average='micro'))\n",
    "    org_scores.append(f1_score(y_org,model.predict(org_pool),average='micro'))\n",
    "test_class = np.where(test_class > 2, 1, 0)"
   ]
  },
  {
   "cell_type": "code",
   "execution_count": 13,
   "metadata": {},
   "outputs": [
    {
     "data": {
      "text/plain": [
       "(0.8930976610222502, 0.0024961568237266757, 0.889810017271157)"
      ]
     },
     "execution_count": 13,
     "metadata": {},
     "output_type": "execute_result"
    }
   ],
   "source": [
    "np.mean(validation_scores), np.std(validation_scores), min(validation_scores)"
   ]
  },
  {
   "cell_type": "code",
   "execution_count": 14,
   "metadata": {},
   "outputs": [
    {
     "data": {
      "text/plain": [
       "(0.9161509597060963, 0.0026315347637104226, 0.9125360994872399)"
      ]
     },
     "execution_count": 14,
     "metadata": {},
     "output_type": "execute_result"
    }
   ],
   "source": [
    "np.mean(org_scores), np.std(org_scores), min(org_scores)"
   ]
  },
  {
   "cell_type": "code",
   "execution_count": 15,
   "metadata": {},
   "outputs": [],
   "source": [
    "name = 'catboost_anomaly'\n",
    "model_predictions_train[name] = train_preds\n",
    "model_predictions_test[name] = test_preds"
   ]
  },
  {
   "cell_type": "markdown",
   "metadata": {},
   "source": [
    "## LightGBM"
   ]
  },
  {
   "cell_type": "code",
   "execution_count": 16,
   "metadata": {},
   "outputs": [],
   "source": [
    "lgb_params = {\n",
    "    'objective':'binary',\n",
    "    'learning_rate':0.05,\n",
    "    'seed':0, \n",
    "    'metric':'f1',\n",
    "    'max_depth':6\n",
    "}"
   ]
  },
  {
   "cell_type": "code",
   "execution_count": 17,
   "metadata": {},
   "outputs": [],
   "source": [
    "folds = 3\n",
    "skf = StratifiedKFold(n_splits=folds)\n",
    "train_preds = np.zeros(train_df.shape[0])\n",
    "test_preds = np.zeros(test_df.shape[0])\n",
    "validation_scores = []\n",
    "org_scores =[]\n",
    "for train_index, test_index in skf.split(train, y):\n",
    "    X_train, X_test = train.iloc[train_index,:], train.iloc[test_index,:]\n",
    "    y_train, y_test = y[train_index], y[test_index]\n",
    "    train_data = lgb.Dataset(X_train,y_train)\n",
    "    valid_data = lgb.Dataset(X_test,y_test)\n",
    "    evals_result = {}\n",
    "    model = lgb.train(lgb_params, train_data,num_boost_round=1000,early_stopping_rounds=50, valid_sets=valid_data,feval=lgb_f1_score, evals_result=evals_result,verbose_eval=False)\n",
    "    \n",
    "    test_preds += model.predict(test) / 3\n",
    "    train_preds[test_index] = model.predict(X_test)\n",
    "    validation_scores.append(f1_score(y_test,np.round(model.predict(X_test)),average='micro'))\n",
    "    org_scores.append(f1_score(y_org,np.round(model.predict(train_org)),average='micro'))"
   ]
  },
  {
   "cell_type": "code",
   "execution_count": 18,
   "metadata": {},
   "outputs": [
    {
     "data": {
      "text/plain": [
       "(0.8927522677030355, 0.0024106212630610737, 0.8896373056994819)"
      ]
     },
     "execution_count": 18,
     "metadata": {},
     "output_type": "execute_result"
    }
   ],
   "source": [
    "np.mean(validation_scores), np.std(validation_scores), min(validation_scores)"
   ]
  },
  {
   "cell_type": "code",
   "execution_count": 19,
   "metadata": {},
   "outputs": [
    {
     "data": {
      "text/plain": [
       "(0.9140095479460127, 0.0025037642756579924, 0.9108858372134143)"
      ]
     },
     "execution_count": 19,
     "metadata": {},
     "output_type": "execute_result"
    }
   ],
   "source": [
    "np.mean(org_scores), np.std(org_scores), min(org_scores)"
   ]
  },
  {
   "cell_type": "code",
   "execution_count": 20,
   "metadata": {},
   "outputs": [],
   "source": [
    "name = 'lgb_anomaly'\n",
    "model_predictions_train[name] = train_preds\n",
    "model_predictions_test[name] = test_preds"
   ]
  },
  {
   "cell_type": "markdown",
   "metadata": {},
   "source": [
    "## K-NN"
   ]
  },
  {
   "cell_type": "code",
   "execution_count": 21,
   "metadata": {},
   "outputs": [],
   "source": [
    "knn_params = {\n",
    "    'n_neighbors':15,\n",
    "    'weights':'uniform'    \n",
    "}"
   ]
  },
  {
   "cell_type": "code",
   "execution_count": 22,
   "metadata": {},
   "outputs": [],
   "source": [
    "folds = 3\n",
    "skf = StratifiedKFold(n_splits=folds)\n",
    "train_preds = np.zeros(train_df.shape[0])\n",
    "test_preds = np.zeros(test_df.shape[0])\n",
    "validation_scores = []\n",
    "org_scores = []\n",
    "for train_index, test_index in skf.split(train, y):\n",
    "    X_train, X_test = train.iloc[train_index,:].values, train.iloc[test_index,:].values\n",
    "    y_train, y_test = y[train_index], y[test_index]\n",
    "    \n",
    "    model = KNeighborsClassifier(**knn_params)\n",
    "    model.fit(X_train, y_train)\n",
    "    \n",
    "    test_preds += model.predict(test.values) / 3\n",
    "    train_preds[test_index] = model.predict(X_test)\n",
    "    validation_scores.append(f1_score(y_test,model.predict(X_test),average='micro'))\n",
    "    org_scores.append(f1_score(y_org,model.predict(train_org.values),average='micro'))"
   ]
  },
  {
   "cell_type": "code",
   "execution_count": 23,
   "metadata": {},
   "outputs": [
    {
     "data": {
      "text/plain": [
       "(0.8882044249672952, 0.0026228237002764816, 0.884628670120898)"
      ]
     },
     "execution_count": 23,
     "metadata": {},
     "output_type": "execute_result"
    }
   ],
   "source": [
    "np.mean(validation_scores), np.std(validation_scores), min(validation_scores)"
   ]
  },
  {
   "cell_type": "code",
   "execution_count": 24,
   "metadata": {},
   "outputs": [
    {
     "data": {
      "text/plain": [
       "(0.911573446494175, 0.002887491179891727, 0.907526374727412)"
      ]
     },
     "execution_count": 24,
     "metadata": {},
     "output_type": "execute_result"
    }
   ],
   "source": [
    "np.mean(org_scores), np.std(org_scores), min(org_scores)"
   ]
  },
  {
   "cell_type": "code",
   "execution_count": 25,
   "metadata": {},
   "outputs": [],
   "source": [
    "name = 'knn_anomaly'\n",
    "model_predictions_train[name] = train_preds\n",
    "model_predictions_test[name] = test_preds"
   ]
  },
  {
   "cell_type": "markdown",
   "metadata": {},
   "source": [
    "## Random forests"
   ]
  },
  {
   "cell_type": "code",
   "execution_count": 26,
   "metadata": {},
   "outputs": [],
   "source": [
    "rf_params = {\n",
    "    'n_estimators':50,\n",
    "    'max_depth':10,\n",
    "    'random_state':0,    \n",
    "}"
   ]
  },
  {
   "cell_type": "code",
   "execution_count": 27,
   "metadata": {},
   "outputs": [],
   "source": [
    "folds = 3\n",
    "skf = StratifiedKFold(n_splits=folds)\n",
    "train_preds = np.zeros(train_df.shape[0])\n",
    "test_preds = np.zeros(test_df.shape[0])\n",
    "validation_scores = []\n",
    "org_scores = []\n",
    "for train_index, test_index in skf.split(train, y):\n",
    "    X_train, X_test = train.iloc[train_index,:].values, train.iloc[test_index,:].values\n",
    "    y_train, y_test = y[train_index], y[test_index]\n",
    "    \n",
    "    model = RandomForestClassifier(**rf_params)\n",
    "    model.fit(X_train, y_train)\n",
    "    \n",
    "    test_preds += model.predict(test.values) / 3\n",
    "    train_preds[test_index] = model.predict(X_test)\n",
    "    validation_scores.append(f1_score(y_test,model.predict(X_test),average='micro'))\n",
    "    org_scores.append(f1_score(y_org,model.predict(train_org.values),average='micro'))"
   ]
  },
  {
   "cell_type": "code",
   "execution_count": 28,
   "metadata": {},
   "outputs": [
    {
     "data": {
      "text/plain": [
       "(0.8897010895850439, 0.0037144693123472164, 0.8844559585492228)"
      ]
     },
     "execution_count": 28,
     "metadata": {},
     "output_type": "execute_result"
    }
   ],
   "source": [
    "np.mean(validation_scores), np.std(validation_scores), min(validation_scores)"
   ]
  },
  {
   "cell_type": "code",
   "execution_count": 29,
   "metadata": {},
   "outputs": [
    {
     "data": {
      "text/plain": [
       "(0.9179976817744248, 0.0010828481781906723, 0.9169564448635587)"
      ]
     },
     "execution_count": 29,
     "metadata": {},
     "output_type": "execute_result"
    }
   ],
   "source": [
    "np.mean(org_scores), np.std(org_scores), min(org_scores)"
   ]
  },
  {
   "cell_type": "code",
   "execution_count": 30,
   "metadata": {},
   "outputs": [],
   "source": [
    "name = 'rf_anomaly'\n",
    "model_predictions_train[name] = train_preds\n",
    "model_predictions_test[name] = test_preds"
   ]
  },
  {
   "cell_type": "markdown",
   "metadata": {},
   "source": [
    "## SVC"
   ]
  },
  {
   "cell_type": "code",
   "execution_count": 31,
   "metadata": {},
   "outputs": [],
   "source": [
    "svc_params = {\n",
    "    'C':2,\n",
    "    'kernel':'linear',\n",
    "    'random_state':0,    \n",
    "    'probability': False,\n",
    "    'gamma':'scale'\n",
    "}"
   ]
  },
  {
   "cell_type": "code",
   "execution_count": 32,
   "metadata": {},
   "outputs": [],
   "source": [
    "folds = 3\n",
    "skf = StratifiedKFold(n_splits=folds)\n",
    "train_preds = np.zeros(train_df.shape[0])\n",
    "test_preds = np.zeros(test_df.shape[0])\n",
    "validation_scores = []\n",
    "org_scores = []\n",
    "for train_index, test_index in skf.split(train, y):\n",
    "    X_train, X_test = train.iloc[train_index,:].values, train.iloc[test_index,:].values\n",
    "    y_train, y_test = y[train_index], y[test_index]\n",
    "    \n",
    "    model = SVC(**svc_params)\n",
    "    model.fit(X_train, y_train)\n",
    "    \n",
    "    test_preds += model.predict(test.values) / 3\n",
    "    train_preds[test_index] = model.predict(X_test)\n",
    "    validation_scores.append(f1_score(y_test,model.predict(X_test),average='micro'))\n",
    "    org_scores.append(f1_score(y_org,model.predict(train_org.values),average='micro'))"
   ]
  },
  {
   "cell_type": "code",
   "execution_count": 33,
   "metadata": {},
   "outputs": [
    {
     "data": {
      "text/plain": [
       "(0.8900465524939091, 0.0009685202846885345, 0.8891191709844558)"
      ]
     },
     "execution_count": 33,
     "metadata": {},
     "output_type": "execute_result"
    }
   ],
   "source": [
    "np.mean(validation_scores), np.std(validation_scores), min(validation_scores)"
   ]
  },
  {
   "cell_type": "code",
   "execution_count": 34,
   "metadata": {},
   "outputs": [
    {
     "data": {
      "text/plain": [
       "(0.9112394648435198, 0.0, 0.9112394648435198)"
      ]
     },
     "execution_count": 34,
     "metadata": {},
     "output_type": "execute_result"
    }
   ],
   "source": [
    "np.mean(org_scores), np.std(org_scores), min(org_scores)"
   ]
  },
  {
   "cell_type": "code",
   "execution_count": 35,
   "metadata": {},
   "outputs": [],
   "source": [
    "name = 'svc_linear_anomaly'\n",
    "model_predictions_train[name] = train_preds\n",
    "model_predictions_test[name] = test_preds"
   ]
  },
  {
   "cell_type": "code",
   "execution_count": 36,
   "metadata": {},
   "outputs": [],
   "source": [
    "svc_params = {\n",
    "    'C':2,\n",
    "    'kernel':'rbf',\n",
    "    'random_state':0,    \n",
    "    'probability': False,\n",
    "    'gamma':'scale'\n",
    "}"
   ]
  },
  {
   "cell_type": "code",
   "execution_count": 37,
   "metadata": {},
   "outputs": [],
   "source": [
    "folds = 3\n",
    "skf = StratifiedKFold(n_splits=folds)\n",
    "train_preds = np.zeros(train_df.shape[0])\n",
    "test_preds = np.zeros(test_df.shape[0])\n",
    "validation_scores = []\n",
    "org_scores = []\n",
    "for train_index, test_index in skf.split(train, y):\n",
    "    X_train, X_test = train.iloc[train_index,:].values, train.iloc[test_index,:].values\n",
    "    y_train, y_test = y[train_index], y[test_index]\n",
    "    \n",
    "    model = SVC(**svc_params)\n",
    "    model.fit(X_train, y_train)\n",
    "    \n",
    "    test_preds += model.predict(test.values) / 3\n",
    "    train_preds[test_index] = model.predict(X_test)\n",
    "    validation_scores.append(f1_score(y_test,model.predict(X_test),average='micro'))\n",
    "    org_scores.append(f1_score(y_org,model.predict(train_org.values),average='micro'))"
   ]
  },
  {
   "cell_type": "code",
   "execution_count": 38,
   "metadata": {},
   "outputs": [
    {
     "data": {
      "text/plain": [
       "(0.8903343056995813, 0.004920944477481589, 0.883419689119171)"
      ]
     },
     "execution_count": 38,
     "metadata": {},
     "output_type": "execute_result"
    }
   ],
   "source": [
    "np.mean(validation_scores), np.std(validation_scores), min(validation_scores)"
   ]
  },
  {
   "cell_type": "code",
   "execution_count": 39,
   "metadata": {},
   "outputs": [
    {
     "data": {
      "text/plain": [
       "(0.9176047621854186, 0.0004883913044795293, 0.9169564448635587)"
      ]
     },
     "execution_count": 39,
     "metadata": {},
     "output_type": "execute_result"
    }
   ],
   "source": [
    "np.mean(org_scores), np.std(org_scores), min(org_scores)"
   ]
  },
  {
   "cell_type": "code",
   "execution_count": 40,
   "metadata": {},
   "outputs": [],
   "source": [
    "name = 'svc_rbf_anomaly'\n",
    "model_predictions_train[name] = train_preds\n",
    "model_predictions_test[name] = test_preds"
   ]
  },
  {
   "cell_type": "markdown",
   "metadata": {},
   "source": [
    "# Base features"
   ]
  },
  {
   "cell_type": "code",
   "execution_count": 41,
   "metadata": {},
   "outputs": [],
   "source": [
    "features = [\n",
    "    'additional_fare',\n",
    "    'duration',\n",
    "    'meter_waiting',\n",
    "    'meter_waiting_fare',\n",
    "    'meter_waiting_till_pickup',\n",
    "    'fare',\n",
    "    'pickup_date',\n",
    "    'pickup_hour',\n",
    "    'pickup_minute',\n",
    "    'drop_date',\n",
    "    'drop_hour',\n",
    "    'drop_minute',\n",
    "    'pick_cluster',\n",
    "    'is_more_than_one_day',\n",
    "    'distance_km',\n",
    "    'fare_per_km',\n",
    "    'pickup_timeslot',\n",
    "    'day_of_week',\n",
    "    'is_weekday',\n",
    "    'cal_time_difference',\n",
    "    'fare_per_distance',\n",
    "    'fare_per_duration',\n",
    "    'avg_speed',\n",
    "    'meter_waiting_per_duration',\n",
    "    'meter_waiting_fare_per_meter_waiting',\n",
    "    'meter_waiting_fare_per_duration',\n",
    "    'addtional_fare_per_fare',\n",
    "    'addtional_fare_per_distance',\n",
    "    'addtional_fare_per_duration',\n",
    "    'fare-additional_fare',\n",
    "    'fare-additional_fare-meter_waiting_fare',\n",
    "    'fare-additional_fare_per_distance',\n",
    "    'fare-additional_fare_per_duration',\n",
    "    'fare-additional_fare-meter_waiting_fare_per_distance',\n",
    "    'fare-additional_fare-meter_waiting_fare_per_duration',\n",
    "    'meter_waiting_till_pickup_per_meter_waiting',\n",
    "    'meter_waiting_after_pickup',\n",
    "    'meter_waiting_after_pickup_per_duration',\n",
    "    'meter_waiting_till_pickup_per_duration',\n",
    "    'meter_waiting_till_pickup_per_distance',\n",
    "    'meter_waiting_after_pickup_per_distance',\n",
    "    'meter_waiting_till_pickup_per_fare',\n",
    "    'meter_waiting_after_pickup_per_fare',\n",
    "    'meter_waiting_till_pickup_per_meter_waiting_fare',\n",
    "    'meter_waiting_after_pickup_per_meter_waiting_fare',\n",
    "    'fare_per_distance_mean',\n",
    "    'fare_per_distance_mean_diff',\n",
    "    'avg_speed_mean',\n",
    "    'avg_speed_mean_diff',\n",
    "    'meter_waiting_per_duration_mean',\n",
    "    'meter_waiting_per_duration_mean_diff',\n",
    "    'meter_waiting_fare_per_meter_waiting_mean',\n",
    "    'meter_waiting_fare_per_meter_waiting_mean_diff',\n",
    "    'meter_waiting_fare_per_duration_mean',\n",
    "    'meter_waiting_fare_per_duration_mean_diff',\n",
    "    'addtional_fare_per_fare_mean',\n",
    "    'addtional_fare_per_fare_mean_diff',\n",
    "    'addtional_fare_per_distance_mean',\n",
    "    'addtional_fare_per_distance_mean_diff',\n",
    "    'addtional_fare_per_duration_mean',\n",
    "    'addtional_fare_per_duration_mean_diff',\n",
    "]\n",
    "\n",
    "cat_features = [\n",
    "    'pickup_date',\n",
    "    'pickup_hour',\n",
    "    'pickup_minute',\n",
    "    'drop_date',\n",
    "    'drop_hour',\n",
    "    'drop_minute',\n",
    "    'pick_cluster',\n",
    "    'is_more_than_one_day',\n",
    "    'pickup_timeslot',\n",
    "    'day_of_week',\n",
    "    'is_weekday',\n",
    "]"
   ]
  },
  {
   "cell_type": "code",
   "execution_count": 42,
   "metadata": {},
   "outputs": [
    {
     "name": "stderr",
     "output_type": "stream",
     "text": [
      "/home/heshan/anaconda3/envs/kaggle/lib/python3.7/site-packages/ipykernel_launcher.py:6: SettingWithCopyWarning: \n",
      "A value is trying to be set on a copy of a slice from a DataFrame.\n",
      "Try using .loc[row_indexer,col_indexer] = value instead\n",
      "\n",
      "See the caveats in the documentation: http://pandas.pydata.org/pandas-docs/stable/user_guide/indexing.html#returning-a-view-versus-a-copy\n",
      "  \n",
      "/home/heshan/anaconda3/envs/kaggle/lib/python3.7/site-packages/ipykernel_launcher.py:7: SettingWithCopyWarning: \n",
      "A value is trying to be set on a copy of a slice from a DataFrame.\n",
      "Try using .loc[row_indexer,col_indexer] = value instead\n",
      "\n",
      "See the caveats in the documentation: http://pandas.pydata.org/pandas-docs/stable/user_guide/indexing.html#returning-a-view-versus-a-copy\n",
      "  import sys\n",
      "/home/heshan/anaconda3/envs/kaggle/lib/python3.7/site-packages/ipykernel_launcher.py:8: SettingWithCopyWarning: \n",
      "A value is trying to be set on a copy of a slice from a DataFrame.\n",
      "Try using .loc[row_indexer,col_indexer] = value instead\n",
      "\n",
      "See the caveats in the documentation: http://pandas.pydata.org/pandas-docs/stable/user_guide/indexing.html#returning-a-view-versus-a-copy\n",
      "  \n"
     ]
    }
   ],
   "source": [
    "train = train_df[features]\n",
    "test = test_df[features]\n",
    "train_org = train_df_org[features]\n",
    "y = train_df['label']\n",
    "for each in cat_features:\n",
    "    train[each] = train[each].values.astype(int)\n",
    "    test[each] = test[each].values.astype(int)\n",
    "    train_org[each] = train_org[each].values.astype(int)"
   ]
  },
  {
   "cell_type": "markdown",
   "metadata": {},
   "source": [
    "### Catboost"
   ]
  },
  {
   "cell_type": "code",
   "execution_count": 43,
   "metadata": {},
   "outputs": [],
   "source": [
    "catboost_params = {\n",
    "    'loss_function':'Logloss',\n",
    "    'random_state':0,\n",
    "    'early_stopping_rounds':50,\n",
    "    'eval_metric':'F1',\n",
    "    'border_count':512\n",
    "}"
   ]
  },
  {
   "cell_type": "code",
   "execution_count": 44,
   "metadata": {},
   "outputs": [],
   "source": [
    "submission_pool = Pool(data=test_df[features], cat_features=cat_features)\n",
    "org_pool = Pool(data=train_org[features], cat_features=cat_features)"
   ]
  },
  {
   "cell_type": "code",
   "execution_count": 45,
   "metadata": {},
   "outputs": [
    {
     "name": "stdout",
     "output_type": "stream",
     "text": [
      "Learning rate set to 0.058029\n",
      "0:\tlearn: 0.9605979\ttest: 0.9632940\tbest: 0.9632940 (0)\ttotal: 30.4ms\tremaining: 30.3s\n",
      "10:\tlearn: 0.9652112\ttest: 0.9703458\tbest: 0.9707192 (7)\ttotal: 330ms\tremaining: 29.7s\n",
      "20:\tlearn: 0.9676809\ttest: 0.9716130\tbest: 0.9717107 (19)\ttotal: 674ms\tremaining: 31.4s\n",
      "30:\tlearn: 0.9699384\ttest: 0.9727982\tbest: 0.9729010 (26)\ttotal: 1.04s\tremaining: 32.4s\n",
      "40:\tlearn: 0.9721589\ttest: 0.9737145\tbest: 0.9742465 (33)\ttotal: 1.37s\tremaining: 32s\n",
      "50:\tlearn: 0.9738634\ttest: 0.9713564\tbest: 0.9742465 (33)\ttotal: 1.7s\tremaining: 31.6s\n",
      "60:\tlearn: 0.9755748\ttest: 0.9501050\tbest: 0.9742465 (33)\ttotal: 2.06s\tremaining: 31.6s\n",
      "70:\tlearn: 0.9762291\ttest: 0.9191032\tbest: 0.9742465 (33)\ttotal: 2.39s\tremaining: 31.3s\n",
      "80:\tlearn: 0.9778712\ttest: 0.8373447\tbest: 0.9742465 (33)\ttotal: 2.73s\tremaining: 31s\n",
      "Stopped by overfitting detector  (50 iterations wait)\n",
      "\n",
      "bestTest = 0.9742464708\n",
      "bestIteration = 33\n",
      "\n",
      "Shrink model to first 34 iterations.\n",
      "Learning rate set to 0.05803\n",
      "0:\tlearn: 0.9657241\ttest: 0.9638715\tbest: 0.9638715 (0)\ttotal: 31.8ms\tremaining: 31.8s\n",
      "10:\tlearn: 0.9666210\ttest: 0.9650297\tbest: 0.9651141 (5)\ttotal: 353ms\tremaining: 31.7s\n",
      "20:\tlearn: 0.9689541\ttest: 0.9664746\tbest: 0.9668461 (17)\ttotal: 674ms\tremaining: 31.4s\n",
      "30:\tlearn: 0.9711438\ttest: 0.9689570\tbest: 0.9689570 (30)\ttotal: 1s\tremaining: 31.3s\n",
      "40:\tlearn: 0.9725721\ttest: 0.9701990\tbest: 0.9710159 (39)\ttotal: 1.33s\tremaining: 31.2s\n",
      "50:\tlearn: 0.9735314\ttest: 0.9705012\tbest: 0.9712217 (48)\ttotal: 1.67s\tremaining: 31.1s\n",
      "60:\tlearn: 0.9747915\ttest: 0.9672462\tbest: 0.9712217 (48)\ttotal: 2s\tremaining: 30.8s\n",
      "70:\tlearn: 0.9762405\ttest: 0.9528847\tbest: 0.9712217 (48)\ttotal: 2.34s\tremaining: 30.6s\n",
      "80:\tlearn: 0.9772065\ttest: 0.9317430\tbest: 0.9712217 (48)\ttotal: 2.68s\tremaining: 30.4s\n",
      "90:\tlearn: 0.9786176\ttest: 0.8433341\tbest: 0.9712217 (48)\ttotal: 2.99s\tremaining: 29.9s\n",
      "Stopped by overfitting detector  (50 iterations wait)\n",
      "\n",
      "bestTest = 0.9712216505\n",
      "bestIteration = 48\n",
      "\n",
      "Shrink model to first 49 iterations.\n",
      "Learning rate set to 0.05803\n",
      "0:\tlearn: 0.9664913\ttest: 0.9622214\tbest: 0.9622214 (0)\ttotal: 33ms\tremaining: 32.9s\n",
      "10:\tlearn: 0.9692410\ttest: 0.9627534\tbest: 0.9627534 (10)\ttotal: 364ms\tremaining: 32.8s\n",
      "20:\tlearn: 0.9709355\ttest: 0.9647415\tbest: 0.9647415 (20)\ttotal: 703ms\tremaining: 32.8s\n",
      "30:\tlearn: 0.9729601\ttest: 0.9669100\tbest: 0.9670080 (27)\ttotal: 1.03s\tremaining: 32.3s\n",
      "40:\tlearn: 0.9739246\ttest: 0.9679012\tbest: 0.9679992 (38)\ttotal: 1.36s\tremaining: 31.9s\n",
      "50:\tlearn: 0.9750357\ttest: 0.9688154\tbest: 0.9688213 (48)\ttotal: 1.71s\tremaining: 31.8s\n",
      "60:\tlearn: 0.9758191\ttest: 0.9697085\tbest: 0.9698933 (58)\ttotal: 2.04s\tremaining: 31.3s\n",
      "70:\tlearn: 0.9765621\ttest: 0.9689109\tbest: 0.9698933 (58)\ttotal: 2.36s\tremaining: 30.9s\n",
      "80:\tlearn: 0.9775909\ttest: 0.9650806\tbest: 0.9698933 (58)\ttotal: 2.67s\tremaining: 30.3s\n",
      "90:\tlearn: 0.9786216\ttest: 0.9545764\tbest: 0.9698933 (58)\ttotal: 3s\tremaining: 30s\n",
      "100:\tlearn: 0.9794219\ttest: 0.9440994\tbest: 0.9698933 (58)\ttotal: 3.32s\tremaining: 29.6s\n",
      "Stopped by overfitting detector  (50 iterations wait)\n",
      "\n",
      "bestTest = 0.9698932927\n",
      "bestIteration = 58\n",
      "\n",
      "Shrink model to first 59 iterations.\n"
     ]
    }
   ],
   "source": [
    "train_preds = np.zeros(train_df.shape[0])\n",
    "test_preds = np.zeros(test_df.shape[0])\n",
    "train_class = np.zeros(train_df.shape[0])\n",
    "test_class = np.zeros(test_df.shape[0])\n",
    "skf = StratifiedKFold(n_splits=3)\n",
    "validation_scores = []\n",
    "org_scores = []\n",
    "for train_index, test_index in skf.split(train, y):\n",
    "    X_train, X_test = train.iloc[train_index,:], train.iloc[test_index,:]\n",
    "    y_train, y_test = y[train_index], y[test_index]\n",
    "    train_pool = Pool(data=X_train, label=y_train,cat_features=cat_features)\n",
    "    test_pool = Pool(data=X_test, label=y_test, cat_features=cat_features)    \n",
    "    model = CatBoostClassifier(**catboost_params)\n",
    "    model.fit(X=train_pool, eval_set=test_pool,verbose=10)\n",
    "    train_preds[test_index] = model.predict_proba(test_pool)[:,1]\n",
    "    train_class[test_index] = model.predict(test_pool)\n",
    "    test_preds += model.predict_proba(submission_pool)[:,1]/3\n",
    "    test_class = model.predict(submission_pool)\n",
    "    validation_scores.append(f1_score(y_test,model.predict(test_pool),average='micro'))\n",
    "    org_scores.append(f1_score(y_org,model.predict(org_pool),average='micro'))\n",
    "test_class = np.where(test_class > 2, 1, 0)"
   ]
  },
  {
   "cell_type": "code",
   "execution_count": 46,
   "metadata": {},
   "outputs": [
    {
     "data": {
      "text/plain": [
       "(0.9488800589563521, 0.003328790071922515, 0.9454231433506045)"
      ]
     },
     "execution_count": 46,
     "metadata": {},
     "output_type": "execute_result"
    }
   ],
   "source": [
    "np.mean(validation_scores), np.std(validation_scores), min(validation_scores)"
   ]
  },
  {
   "cell_type": "code",
   "execution_count": 47,
   "metadata": {},
   "outputs": [
    {
     "data": {
      "text/plain": [
       "(0.9584487534626037, 0.0012921619341392198, 0.9570342429421819)"
      ]
     },
     "execution_count": 47,
     "metadata": {},
     "output_type": "execute_result"
    }
   ],
   "source": [
    "np.mean(org_scores), np.std(org_scores), min(org_scores)"
   ]
  },
  {
   "cell_type": "code",
   "execution_count": 48,
   "metadata": {},
   "outputs": [],
   "source": [
    "name = 'catboost_base'\n",
    "model_predictions_train[name] = train_preds\n",
    "model_predictions_test[name] = test_preds"
   ]
  },
  {
   "cell_type": "markdown",
   "metadata": {},
   "source": [
    "### lgb"
   ]
  },
  {
   "cell_type": "code",
   "execution_count": 49,
   "metadata": {},
   "outputs": [],
   "source": [
    "lgb_params = {\n",
    "    'objective':'binary',\n",
    "    'learning_rate':0.05,\n",
    "    'seed':0, \n",
    "    'metric':'f1',\n",
    "    'max_depth':6\n",
    "}"
   ]
  },
  {
   "cell_type": "code",
   "execution_count": 50,
   "metadata": {},
   "outputs": [],
   "source": [
    "folds = 3\n",
    "skf = StratifiedKFold(n_splits=folds)\n",
    "train_preds = np.zeros(train_df.shape[0])\n",
    "test_preds = np.zeros(test_df.shape[0])\n",
    "validation_scores = []\n",
    "org_scores = []\n",
    "for train_index, test_index in skf.split(train, y):\n",
    "    X_train, X_test = train.iloc[train_index,:], train.iloc[test_index,:]\n",
    "    y_train, y_test = y[train_index], y[test_index]\n",
    "    train_data = lgb.Dataset(X_train,y_train)\n",
    "    valid_data = lgb.Dataset(X_test,y_test)\n",
    "    evals_result = {}\n",
    "    model = lgb.train(lgb_params, train_data,num_boost_round=1000,early_stopping_rounds=50, valid_sets=valid_data,feval=lgb_f1_score, evals_result=evals_result,verbose_eval=False)\n",
    "    \n",
    "    test_preds += model.predict(test) / 3\n",
    "    train_preds[test_index] = model.predict(X_test)\n",
    "    validation_scores.append(f1_score(y_test,np.round(model.predict(X_test)),average='micro'))\n",
    "    org_scores.append(f1_score(y_org,np.round(model.predict(train_org)),average='micro'))"
   ]
  },
  {
   "cell_type": "code",
   "execution_count": 51,
   "metadata": {},
   "outputs": [
    {
     "data": {
      "text/plain": [
       "(0.9560764142083377, 0.006455199145323786, 0.9504317789291883)"
      ]
     },
     "execution_count": 51,
     "metadata": {},
     "output_type": "execute_result"
    }
   ],
   "source": [
    "np.mean(validation_scores), np.std(validation_scores), min(validation_scores)"
   ]
  },
  {
   "cell_type": "code",
   "execution_count": 52,
   "metadata": {},
   "outputs": [
    {
     "data": {
      "text/plain": [
       "(0.9724170448517712, 0.011461370794499966, 0.9641657334826428)"
      ]
     },
     "execution_count": 52,
     "metadata": {},
     "output_type": "execute_result"
    }
   ],
   "source": [
    "np.mean(org_scores), np.std(org_scores), min(org_scores)"
   ]
  },
  {
   "cell_type": "code",
   "execution_count": 53,
   "metadata": {},
   "outputs": [],
   "source": [
    "name = 'lgb_base'\n",
    "model_predictions_train[name] = train_preds\n",
    "model_predictions_test[name] = test_preds"
   ]
  },
  {
   "cell_type": "markdown",
   "metadata": {},
   "source": [
    "# Linear prediction difference"
   ]
  },
  {
   "cell_type": "code",
   "execution_count": 54,
   "metadata": {},
   "outputs": [],
   "source": [
    "features = [\n",
    "    'predicted_fare_diff',\n",
    "    'predicted_fare_diff_per_fare',\n",
    "    'predicted_fare_diff_per_predicted_fare',\n",
    "    'predicted_fare_diff_per_distance',\n",
    "    'predicted_duration_diff',\n",
    "    'predicted_duraton_diff_per_duraton',\n",
    "    'predicted_duraton_diff_per_predicted_duration',\n",
    "    'predicted_duraton_diff_per_distance',\n",
    "    'predicted_fare_per_duration_diff',\n",
    "    'predicted_avg_speed_diff',\n",
    "    'predicted_meter_waiting_diff',\n",
    "    'predicted_meter_waiting_diff_per_meter_waiting',\n",
    "    'predicted_meter_waiting_diff_per_distance',\n",
    "    'predicted_meter_waiting_diff_per_predicted_meter_waiting',\n",
    "    'predicted_meter_waiting_per_duration_diff',\n",
    "    'predicted_meter_waiting_fare_diff',\n",
    "    'predicted_meter_waiting_fare_diff_per_distance',\n",
    "    'predicted_meter_waiting_fare_diff_per_predicted_meter_waiting_fare',\n",
    "    'predicted_meter_waiting_fare_per_meter_waiting_diff',\n",
    "    'predicted_meter_waiting_fare_per_duration_diff',\n",
    "    'predicted_additional_fare_diff',\n",
    "    'predicted_additional_fare_diff_per_additional_fare',\n",
    "    'predicted_addtional_fare_diff_per_distance',\n",
    "    'predicted_meter_waiting_till_pickup_diff',\n",
    "    'predicted_meter_waiting_till_pickup_diff_per_meter_waiting_till_pickup',\n",
    "    'predicted_meter_waiting_till_pickup_per_meter_waiting_diff',\n",
    "    'predicted_fare_diff_per_distance_normalized',\n",
    "    'predicted_fare_diff_normalized',\n",
    "    'predicted_fare_diff_per_fare_normalized',\n",
    "    'predicted_fare_diff_per_predicted_fare_normalized',\n",
    "    'predicted_duraton_diff_per_duraton_normalized',\n",
    "    'predicted_duraton_diff_per_predicted_duration_normalized',\n",
    "    'predicted_fare_per_duration_diff_normalized',\n",
    "    'predicted_avg_speed_diff_normalized',\n",
    "    'predicted_meter_waiting_diff_normalized',\n",
    "    'predicted_meter_waiting_diff_per_meter_waiting_normalized',\n",
    "    'predicted_meter_waiting_diff_per_predicted_meter_waiting_normalized',\n",
    "    'predicted_meter_waiting_per_duration_diff_normalized',\n",
    "    'predicted_meter_waiting_fare_diff_normalized',\n",
    "    'predicted_meter_waiting_fare_diff_per_meter_waiting_fare_normalized',\n",
    "    'predicted_meter_waiting_fare_diff_per_predicted_meter_waiting_fare_normalized',\n",
    "    'predicted_meter_waiting_fare_per_meter_waiting_diff_normalized',\n",
    "    'predicted_meter_waiting_fare_per_duration_diff_normalized',\n",
    "    'predicted_additional_fare_diff_normalized',\n",
    "    'predicted_additional_fare_diff_per_additional_fare_normalized',\n",
    "]\n",
    "\n",
    "cat_features = []"
   ]
  },
  {
   "cell_type": "code",
   "execution_count": 55,
   "metadata": {},
   "outputs": [],
   "source": [
    "train = train_df[features]\n",
    "test = test_df[features]\n",
    "train_org = train_df_org[features]\n",
    "y = train_df['label']\n",
    "for each in cat_features:\n",
    "    train[each] = train[each].values.astype(int)\n",
    "    test[each] = test[each].values.astype(int)\n",
    "    train_org[each] = train_org[each].values.astype(int)"
   ]
  },
  {
   "cell_type": "markdown",
   "metadata": {},
   "source": [
    "### Catboost"
   ]
  },
  {
   "cell_type": "code",
   "execution_count": 56,
   "metadata": {},
   "outputs": [],
   "source": [
    "catboost_params = {\n",
    "    'loss_function':'Logloss',\n",
    "    'random_state':0,\n",
    "    'early_stopping_rounds':50,\n",
    "    'eval_metric':'F1',\n",
    "    'border_count':512\n",
    "}"
   ]
  },
  {
   "cell_type": "code",
   "execution_count": 57,
   "metadata": {},
   "outputs": [],
   "source": [
    "submission_pool = Pool(data=test_df[features], cat_features=cat_features)\n",
    "org_pool = Pool(data=train_org[features], cat_features=cat_features)"
   ]
  },
  {
   "cell_type": "code",
   "execution_count": 58,
   "metadata": {},
   "outputs": [
    {
     "name": "stdout",
     "output_type": "stream",
     "text": [
      "Learning rate set to 0.058029\n",
      "0:\tlearn: 0.9629665\ttest: 0.9637894\tbest: 0.9637894 (0)\ttotal: 21.7ms\tremaining: 21.7s\n",
      "10:\tlearn: 0.9688749\ttest: 0.9708775\tbest: 0.9708775 (10)\ttotal: 224ms\tremaining: 20.2s\n",
      "20:\tlearn: 0.9708478\ttest: 0.9729833\tbest: 0.9729833 (20)\ttotal: 451ms\tremaining: 21s\n",
      "30:\tlearn: 0.9716742\ttest: 0.9736413\tbest: 0.9736514 (26)\ttotal: 680ms\tremaining: 21.3s\n",
      "40:\tlearn: 0.9725648\ttest: 0.9732528\tbest: 0.9736514 (26)\ttotal: 912ms\tremaining: 21.3s\n",
      "50:\tlearn: 0.9730789\ttest: 0.9733308\tbest: 0.9736514 (26)\ttotal: 1.12s\tremaining: 20.8s\n",
      "60:\tlearn: 0.9736528\ttest: 0.9738079\tbest: 0.9738079 (59)\ttotal: 1.36s\tremaining: 20.9s\n",
      "70:\tlearn: 0.9744056\ttest: 0.9742802\tbest: 0.9743787 (69)\ttotal: 1.66s\tremaining: 21.7s\n",
      "80:\tlearn: 0.9749701\ttest: 0.9744624\tbest: 0.9746544 (75)\ttotal: 1.87s\tremaining: 21.2s\n",
      "90:\tlearn: 0.9753973\ttest: 0.9749352\tbest: 0.9749352 (90)\ttotal: 2.11s\tremaining: 21.1s\n",
      "100:\tlearn: 0.9756284\ttest: 0.9752257\tbest: 0.9752257 (98)\ttotal: 2.37s\tremaining: 21.1s\n",
      "110:\tlearn: 0.9762920\ttest: 0.9751225\tbest: 0.9752257 (98)\ttotal: 2.57s\tremaining: 20.6s\n",
      "120:\tlearn: 0.9769537\ttest: 0.9756098\tbest: 0.9756098 (120)\ttotal: 2.77s\tremaining: 20.1s\n",
      "130:\tlearn: 0.9773860\ttest: 0.9756098\tbest: 0.9757034 (129)\ttotal: 2.99s\tremaining: 19.9s\n",
      "140:\tlearn: 0.9774306\ttest: 0.9753098\tbest: 0.9757034 (129)\ttotal: 3.18s\tremaining: 19.4s\n",
      "150:\tlearn: 0.9779525\ttest: 0.9758816\tbest: 0.9758816 (150)\ttotal: 3.38s\tremaining: 19s\n",
      "160:\tlearn: 0.9783745\ttest: 0.9756848\tbest: 0.9760692 (158)\ttotal: 3.66s\tremaining: 19.1s\n",
      "170:\tlearn: 0.9785642\ttest: 0.9754973\tbest: 0.9760692 (158)\ttotal: 3.93s\tremaining: 19s\n",
      "180:\tlearn: 0.9789928\ttest: 0.9754878\tbest: 0.9760692 (158)\ttotal: 4.18s\tremaining: 18.9s\n",
      "190:\tlearn: 0.9792766\ttest: 0.9753751\tbest: 0.9760692 (158)\ttotal: 4.45s\tremaining: 18.8s\n",
      "200:\tlearn: 0.9798503\ttest: 0.9755628\tbest: 0.9760692 (158)\ttotal: 4.68s\tremaining: 18.6s\n",
      "Stopped by overfitting detector  (50 iterations wait)\n",
      "\n",
      "bestTest = 0.9760691975\n",
      "bestIteration = 158\n",
      "\n",
      "Shrink model to first 159 iterations.\n",
      "Learning rate set to 0.05803\n",
      "0:\tlearn: 0.9661730\ttest: 0.9655435\tbest: 0.9655435 (0)\ttotal: 15.2ms\tremaining: 15.1s\n",
      "10:\tlearn: 0.9687916\ttest: 0.9692483\tbest: 0.9692483 (7)\ttotal: 206ms\tremaining: 18.5s\n",
      "20:\tlearn: 0.9709951\ttest: 0.9710586\tbest: 0.9711621 (16)\ttotal: 429ms\tremaining: 20s\n",
      "30:\tlearn: 0.9715404\ttest: 0.9716082\tbest: 0.9716082 (30)\ttotal: 616ms\tremaining: 19.3s\n",
      "40:\tlearn: 0.9724148\ttest: 0.9724421\tbest: 0.9724421 (37)\ttotal: 797ms\tremaining: 18.6s\n",
      "50:\tlearn: 0.9733404\ttest: 0.9728027\tbest: 0.9728079 (48)\ttotal: 985ms\tremaining: 18.3s\n",
      "60:\tlearn: 0.9743295\ttest: 0.9726067\tbest: 0.9728079 (48)\ttotal: 1.24s\tremaining: 19.1s\n",
      "70:\tlearn: 0.9748431\ttest: 0.9730813\tbest: 0.9732722 (67)\ttotal: 1.48s\tremaining: 19.3s\n",
      "80:\tlearn: 0.9755069\ttest: 0.9731691\tbest: 0.9735510 (78)\ttotal: 1.74s\tremaining: 19.8s\n",
      "90:\tlearn: 0.9763115\ttest: 0.9733397\tbest: 0.9735510 (78)\ttotal: 1.92s\tremaining: 19.1s\n",
      "100:\tlearn: 0.9763561\ttest: 0.9732416\tbest: 0.9735510 (78)\ttotal: 2.09s\tremaining: 18.6s\n",
      "110:\tlearn: 0.9769806\ttest: 0.9732314\tbest: 0.9735510 (78)\ttotal: 2.28s\tremaining: 18.2s\n",
      "120:\tlearn: 0.9773556\ttest: 0.9737069\tbest: 0.9737069 (120)\ttotal: 2.46s\tremaining: 17.9s\n",
      "130:\tlearn: 0.9776882\ttest: 0.9736867\tbest: 0.9737899 (122)\ttotal: 2.66s\tremaining: 17.6s\n",
      "140:\tlearn: 0.9784028\ttest: 0.9738731\tbest: 0.9739663 (137)\ttotal: 2.84s\tremaining: 17.3s\n",
      "150:\tlearn: 0.9791157\ttest: 0.9739613\tbest: 0.9744375 (146)\ttotal: 3.03s\tremaining: 17s\n",
      "160:\tlearn: 0.9797800\ttest: 0.9739563\tbest: 0.9744375 (146)\ttotal: 3.24s\tremaining: 16.9s\n",
      "170:\tlearn: 0.9801210\ttest: 0.9741528\tbest: 0.9744375 (146)\ttotal: 3.42s\tremaining: 16.6s\n",
      "180:\tlearn: 0.9805014\ttest: 0.9737648\tbest: 0.9744375 (146)\ttotal: 3.61s\tremaining: 16.3s\n",
      "190:\tlearn: 0.9809762\ttest: 0.9736666\tbest: 0.9744375 (146)\ttotal: 3.79s\tremaining: 16.1s\n",
      "Stopped by overfitting detector  (50 iterations wait)\n",
      "\n",
      "bestTest = 0.9744375299\n",
      "bestIteration = 146\n",
      "\n",
      "Shrink model to first 147 iterations.\n",
      "Learning rate set to 0.05803\n",
      "0:\tlearn: 0.9698075\ttest: 0.9648568\tbest: 0.9648568 (0)\ttotal: 21.8ms\tremaining: 21.7s\n",
      "10:\tlearn: 0.9720857\ttest: 0.9653663\tbest: 0.9657208 (4)\ttotal: 191ms\tremaining: 17.2s\n",
      "20:\tlearn: 0.9728723\ttest: 0.9662793\tbest: 0.9662793 (20)\ttotal: 358ms\tremaining: 16.7s\n",
      "30:\tlearn: 0.9734666\ttest: 0.9664378\tbest: 0.9664442 (29)\ttotal: 555ms\tremaining: 17.3s\n",
      "40:\tlearn: 0.9737874\ttest: 0.9670959\tbest: 0.9671021 (37)\ttotal: 739ms\tremaining: 17.3s\n",
      "50:\tlearn: 0.9745357\ttest: 0.9679144\tbest: 0.9679267 (48)\ttotal: 926ms\tremaining: 17.2s\n",
      "60:\tlearn: 0.9752406\ttest: 0.9687530\tbest: 0.9687530 (59)\ttotal: 1.11s\tremaining: 17.1s\n",
      "70:\tlearn: 0.9760445\ttest: 0.9692278\tbest: 0.9692278 (69)\ttotal: 1.29s\tremaining: 16.9s\n",
      "80:\tlearn: 0.9765168\ttest: 0.9690249\tbest: 0.9692278 (69)\ttotal: 1.48s\tremaining: 16.8s\n",
      "90:\tlearn: 0.9771366\ttest: 0.9697897\tbest: 0.9697897 (90)\ttotal: 1.66s\tremaining: 16.6s\n",
      "100:\tlearn: 0.9775135\ttest: 0.9700736\tbest: 0.9700736 (99)\ttotal: 1.93s\tremaining: 17.2s\n",
      "110:\tlearn: 0.9778439\ttest: 0.9698766\tbest: 0.9700736 (99)\ttotal: 2.12s\tremaining: 16.9s\n",
      "120:\tlearn: 0.9780420\ttest: 0.9699809\tbest: 0.9700736 (99)\ttotal: 2.3s\tremaining: 16.7s\n",
      "130:\tlearn: 0.9780889\ttest: 0.9699694\tbest: 0.9700736 (99)\ttotal: 2.48s\tremaining: 16.5s\n",
      "140:\tlearn: 0.9785642\ttest: 0.9705263\tbest: 0.9705263 (140)\ttotal: 2.67s\tremaining: 16.3s\n",
      "150:\tlearn: 0.9789928\ttest: 0.9705094\tbest: 0.9706136 (144)\ttotal: 2.85s\tremaining: 16s\n",
      "160:\tlearn: 0.9792336\ttest: 0.9706023\tbest: 0.9706136 (144)\ttotal: 3.04s\tremaining: 15.8s\n",
      "170:\tlearn: 0.9794665\ttest: 0.9708756\tbest: 0.9708756 (170)\ttotal: 3.23s\tremaining: 15.7s\n",
      "180:\tlearn: 0.9796604\ttest: 0.9705967\tbest: 0.9708756 (170)\ttotal: 3.51s\tremaining: 15.9s\n",
      "190:\tlearn: 0.9799501\ttest: 0.9707826\tbest: 0.9708812 (184)\ttotal: 3.69s\tremaining: 15.6s\n",
      "200:\tlearn: 0.9801382\ttest: 0.9707826\tbest: 0.9708812 (184)\ttotal: 3.86s\tremaining: 15.3s\n",
      "210:\tlearn: 0.9805220\ttest: 0.9709631\tbest: 0.9709631 (209)\ttotal: 4.02s\tremaining: 15s\n",
      "220:\tlearn: 0.9809999\ttest: 0.9714231\tbest: 0.9714231 (220)\ttotal: 4.23s\tremaining: 14.9s\n",
      "230:\tlearn: 0.9810940\ttest: 0.9711382\tbest: 0.9714231 (220)\ttotal: 4.45s\tremaining: 14.8s\n",
      "240:\tlearn: 0.9815686\ttest: 0.9713189\tbest: 0.9714231 (220)\ttotal: 4.63s\tremaining: 14.6s\n",
      "250:\tlearn: 0.9818583\ttest: 0.9714176\tbest: 0.9714231 (220)\ttotal: 4.8s\tremaining: 14.3s\n",
      "260:\tlearn: 0.9823315\ttest: 0.9714121\tbest: 0.9715108 (259)\ttotal: 4.97s\tremaining: 14.1s\n",
      "270:\tlearn: 0.9827594\ttest: 0.9717026\tbest: 0.9717026 (270)\ttotal: 5.14s\tremaining: 13.8s\n",
      "280:\tlearn: 0.9828538\ttest: 0.9717026\tbest: 0.9717026 (270)\ttotal: 5.3s\tremaining: 13.6s\n",
      "290:\tlearn: 0.9832397\ttest: 0.9716972\tbest: 0.9717026 (270)\ttotal: 5.51s\tremaining: 13.4s\n",
      "300:\tlearn: 0.9833373\ttest: 0.9715985\tbest: 0.9717904 (291)\ttotal: 5.72s\tremaining: 13.3s\n",
      "310:\tlearn: 0.9833341\ttest: 0.9715931\tbest: 0.9717904 (291)\ttotal: 5.89s\tremaining: 13s\n",
      "320:\tlearn: 0.9836239\ttest: 0.9715931\tbest: 0.9717904 (291)\ttotal: 6.06s\tremaining: 12.8s\n",
      "330:\tlearn: 0.9839089\ttest: 0.9717796\tbest: 0.9717904 (291)\ttotal: 6.22s\tremaining: 12.6s\n",
      "340:\tlearn: 0.9841468\ttest: 0.9718729\tbest: 0.9719662 (337)\ttotal: 6.4s\tremaining: 12.4s\n",
      "350:\tlearn: 0.9842414\ttest: 0.9718729\tbest: 0.9719662 (337)\ttotal: 6.62s\tremaining: 12.2s\n",
      "360:\tlearn: 0.9844794\ttest: 0.9723449\tbest: 0.9723449 (358)\ttotal: 6.81s\tremaining: 12.1s\n",
      "370:\tlearn: 0.9848135\ttest: 0.9725317\tbest: 0.9725317 (366)\ttotal: 6.98s\tremaining: 11.8s\n",
      "380:\tlearn: 0.9850502\ttest: 0.9723396\tbest: 0.9725317 (366)\ttotal: 7.15s\tremaining: 11.6s\n",
      "390:\tlearn: 0.9850502\ttest: 0.9722409\tbest: 0.9725317 (366)\ttotal: 7.33s\tremaining: 11.4s\n",
      "400:\tlearn: 0.9851478\ttest: 0.9721422\tbest: 0.9725317 (366)\ttotal: 7.49s\tremaining: 11.2s\n",
      "410:\tlearn: 0.9854348\ttest: 0.9720488\tbest: 0.9725317 (366)\ttotal: 7.67s\tremaining: 11s\n",
      "Stopped by overfitting detector  (50 iterations wait)\n",
      "\n",
      "bestTest = 0.9725316942\n",
      "bestIteration = 366\n",
      "\n",
      "Shrink model to first 367 iterations.\n"
     ]
    }
   ],
   "source": [
    "train_preds = np.zeros(train_df.shape[0])\n",
    "test_preds = np.zeros(test_df.shape[0])\n",
    "train_class = np.zeros(train_df.shape[0])\n",
    "test_class = np.zeros(test_df.shape[0])\n",
    "skf = StratifiedKFold(n_splits=3)\n",
    "validation_scores = []\n",
    "org_scores = []\n",
    "for train_index, test_index in skf.split(train, y):\n",
    "    X_train, X_test = train.iloc[train_index,:], train.iloc[test_index,:]\n",
    "    y_train, y_test = y[train_index], y[test_index]\n",
    "    train_pool = Pool(data=X_train, label=y_train,cat_features=cat_features)\n",
    "    test_pool = Pool(data=X_test, label=y_test, cat_features=cat_features)    \n",
    "    model = CatBoostClassifier(**catboost_params)\n",
    "    model.fit(X=train_pool, eval_set=test_pool,verbose=10)\n",
    "    train_preds[test_index] = model.predict_proba(test_pool)[:,1]\n",
    "    train_class[test_index] = model.predict(test_pool)\n",
    "    test_preds += model.predict_proba(submission_pool)[:,1]/3\n",
    "    test_class = model.predict(submission_pool)\n",
    "    validation_scores.append(f1_score(y_test,model.predict(test_pool),average='micro'))\n",
    "    org_scores.append(f1_score(y_org,model.predict(org_pool),average='micro'))\n",
    "test_class = np.where(test_class > 2, 1, 0)"
   ]
  },
  {
   "cell_type": "code",
   "execution_count": 59,
   "metadata": {},
   "outputs": [
    {
     "data": {
      "text/plain": [
       "(0.953830915242092, 0.0026121628105068313, 0.9506044905008636)"
      ]
     },
     "execution_count": 59,
     "metadata": {},
     "output_type": "execute_result"
    }
   ],
   "source": [
    "np.mean(validation_scores), np.std(validation_scores), min(validation_scores)"
   ]
  },
  {
   "cell_type": "code",
   "execution_count": 60,
   "metadata": {},
   "outputs": [
    {
     "data": {
      "text/plain": [
       "(0.9665036050372291, 0.0025579035066124237, 0.9645782990510992)"
      ]
     },
     "execution_count": 60,
     "metadata": {},
     "output_type": "execute_result"
    }
   ],
   "source": [
    "np.mean(org_scores), np.std(org_scores), min(org_scores)"
   ]
  },
  {
   "cell_type": "code",
   "execution_count": 61,
   "metadata": {},
   "outputs": [],
   "source": [
    "name = 'catboost_pred_diff'\n",
    "model_predictions_train[name] = train_preds\n",
    "model_predictions_test[name] = test_preds"
   ]
  },
  {
   "cell_type": "markdown",
   "metadata": {},
   "source": [
    "### lgb"
   ]
  },
  {
   "cell_type": "code",
   "execution_count": 62,
   "metadata": {},
   "outputs": [],
   "source": [
    "lgb_params = {\n",
    "    'objective':'binary',\n",
    "    'learning_rate':0.05,\n",
    "    'seed':0, \n",
    "    'metric':'f1',\n",
    "    'max_depth':6\n",
    "}"
   ]
  },
  {
   "cell_type": "code",
   "execution_count": 63,
   "metadata": {},
   "outputs": [],
   "source": [
    "folds = 3\n",
    "skf = StratifiedKFold(n_splits=folds)\n",
    "train_preds = np.zeros(train_df.shape[0])\n",
    "test_preds = np.zeros(test_df.shape[0])\n",
    "validation_scores = []\n",
    "org_scores = []\n",
    "for train_index, test_index in skf.split(train, y):\n",
    "    X_train, X_test = train.iloc[train_index,:], train.iloc[test_index,:]\n",
    "    y_train, y_test = y[train_index], y[test_index]\n",
    "    train_data = lgb.Dataset(X_train,y_train)\n",
    "    valid_data = lgb.Dataset(X_test,y_test)\n",
    "    evals_result = {}\n",
    "    model = lgb.train(lgb_params, train_data,num_boost_round=1000,early_stopping_rounds=50, valid_sets=valid_data,feval=lgb_f1_score, evals_result=evals_result,verbose_eval=False)\n",
    "    \n",
    "    test_preds += model.predict(test) / 3\n",
    "    train_preds[test_index] = model.predict(X_test)\n",
    "    validation_scores.append(f1_score(y_test,np.round(model.predict(X_test)),average='micro'))\n",
    "    org_scores.append(f1_score(y_org,np.round(model.predict(train_org)),average='micro'))"
   ]
  },
  {
   "cell_type": "code",
   "execution_count": 64,
   "metadata": {},
   "outputs": [
    {
     "data": {
      "text/plain": [
       "(0.9575155083021945, 0.004910423125067191, 0.9526770293609672)"
      ]
     },
     "execution_count": 64,
     "metadata": {},
     "output_type": "execute_result"
    }
   ],
   "source": [
    "np.mean(validation_scores), np.std(validation_scores), min(validation_scores)"
   ]
  },
  {
   "cell_type": "code",
   "execution_count": 65,
   "metadata": {},
   "outputs": [
    {
     "data": {
      "text/plain": [
       "(0.9731243001119821, 0.0107436387691267, 0.9645193611127483)"
      ]
     },
     "execution_count": 65,
     "metadata": {},
     "output_type": "execute_result"
    }
   ],
   "source": [
    "np.mean(org_scores), np.std(org_scores), min(org_scores)"
   ]
  },
  {
   "cell_type": "code",
   "execution_count": 66,
   "metadata": {},
   "outputs": [],
   "source": [
    "name = 'lgb_pred_diff'\n",
    "model_predictions_train[name] = train_preds\n",
    "model_predictions_test[name] = test_preds"
   ]
  },
  {
   "cell_type": "markdown",
   "metadata": {},
   "source": [
    "## unit differences"
   ]
  },
  {
   "cell_type": "code",
   "execution_count": 67,
   "metadata": {},
   "outputs": [],
   "source": [
    "features = [\n",
    "    'predicted_fare_diff_per_fare',\n",
    "    'predicted_fare_diff_per_predicted_fare',\n",
    "    'predicted_fare_diff_per_distance',\n",
    "    'predicted_duraton_diff_per_duraton',\n",
    "    'predicted_duraton_diff_per_predicted_duration',\n",
    "    'predicted_duraton_diff_per_distance',\n",
    "    'predicted_fare_per_duration_diff',\n",
    "    'predicted_meter_waiting_diff_per_meter_waiting',\n",
    "    'predicted_meter_waiting_diff_per_distance',\n",
    "    'predicted_meter_waiting_diff_per_predicted_meter_waiting',\n",
    "    'predicted_meter_waiting_per_duration_diff',\n",
    "    'predicted_meter_waiting_fare_diff_per_distance',\n",
    "    'predicted_meter_waiting_fare_diff_per_predicted_meter_waiting_fare',\n",
    "    'predicted_meter_waiting_fare_per_meter_waiting_diff',\n",
    "    'predicted_meter_waiting_fare_per_duration_diff',\n",
    "    'predicted_additional_fare_diff_per_additional_fare',\n",
    "    'predicted_addtional_fare_diff_per_distance',\n",
    "    'predicted_meter_waiting_till_pickup_diff_per_meter_waiting_till_pickup',\n",
    "    'predicted_meter_waiting_till_pickup_per_meter_waiting_diff'\n",
    "]\n",
    "\n",
    "cat_features = []"
   ]
  },
  {
   "cell_type": "code",
   "execution_count": 68,
   "metadata": {},
   "outputs": [],
   "source": [
    "train = train_df[features]\n",
    "test = test_df[features]\n",
    "train_org = train_df_org[features]\n",
    "y = train_df['label']\n",
    "for each in cat_features:\n",
    "    train[each] = train[each].values.astype(int)\n",
    "    test[each] = test[each].values.astype(int)\n",
    "    train_org[each] = train_org[each].values.astype(int)"
   ]
  },
  {
   "cell_type": "markdown",
   "metadata": {},
   "source": [
    "### KNN"
   ]
  },
  {
   "cell_type": "code",
   "execution_count": 69,
   "metadata": {},
   "outputs": [],
   "source": [
    "knn_params = {\n",
    "    'n_neighbors':10,\n",
    "    'weights':'distance'    \n",
    "}"
   ]
  },
  {
   "cell_type": "code",
   "execution_count": 70,
   "metadata": {},
   "outputs": [],
   "source": [
    "folds = 3\n",
    "skf = StratifiedKFold(n_splits=folds)\n",
    "train_preds = np.zeros(train_df.shape[0])\n",
    "test_preds = np.zeros(test_df.shape[0])\n",
    "validation_scores = []\n",
    "org_scores = []\n",
    "for train_index, test_index in skf.split(train, y):\n",
    "    X_train, X_test = train.iloc[train_index,:].values, train.iloc[test_index,:].values\n",
    "    y_train, y_test = y[train_index], y[test_index]\n",
    "    \n",
    "    model = KNeighborsClassifier(**knn_params)\n",
    "    model.fit(X_train, y_train)\n",
    "    \n",
    "    test_preds += model.predict(test.values) / 3\n",
    "    train_preds[test_index] = model.predict(X_test)\n",
    "    validation_scores.append(f1_score(y_test,model.predict(X_test),average='micro'))\n",
    "    org_scores.append(f1_score(y_org,model.predict(train_org.values),average='micro'))"
   ]
  },
  {
   "cell_type": "code",
   "execution_count": 71,
   "metadata": {},
   "outputs": [
    {
     "data": {
      "text/plain": [
       "(0.9525649005509215, 0.004330095928790243, 0.9476774304955966)"
      ]
     },
     "execution_count": 71,
     "metadata": {},
     "output_type": "execute_result"
    }
   ],
   "source": [
    "np.mean(validation_scores), np.std(validation_scores), min(validation_scores)"
   ]
  },
  {
   "cell_type": "code",
   "execution_count": 72,
   "metadata": {},
   "outputs": [
    {
     "data": {
      "text/plain": [
       "(0.9842439244808551, 0.0020554239248188623, 0.9821418046796723)"
      ]
     },
     "execution_count": 72,
     "metadata": {},
     "output_type": "execute_result"
    }
   ],
   "source": [
    "np.mean(org_scores), np.std(org_scores), min(org_scores)"
   ]
  },
  {
   "cell_type": "code",
   "execution_count": 73,
   "metadata": {},
   "outputs": [],
   "source": [
    "name = 'knn_unit_diff'\n",
    "model_predictions_train[name] = train_preds\n",
    "model_predictions_test[name] = test_preds"
   ]
  },
  {
   "cell_type": "markdown",
   "metadata": {},
   "source": [
    "### SVM"
   ]
  },
  {
   "cell_type": "code",
   "execution_count": 74,
   "metadata": {},
   "outputs": [],
   "source": [
    "svc_params = {\n",
    "    'C':5,\n",
    "    'kernel':'rbf',\n",
    "    'random_state':0,    \n",
    "    'probability': False,\n",
    "    'gamma':'auto'\n",
    "}"
   ]
  },
  {
   "cell_type": "code",
   "execution_count": 75,
   "metadata": {},
   "outputs": [],
   "source": [
    "folds = 3\n",
    "skf = StratifiedKFold(n_splits=folds)\n",
    "train_preds = np.zeros(train_df.shape[0])\n",
    "test_preds = np.zeros(test_df.shape[0])\n",
    "validation_scores = []\n",
    "org_scores = []\n",
    "for train_index, test_index in skf.split(train, y):\n",
    "    X_train, X_test = train.iloc[train_index,:].values, train.iloc[test_index,:].values\n",
    "    y_train, y_test = y[train_index], y[test_index]\n",
    "    \n",
    "    model = SVC(**svc_params)\n",
    "    model.fit(X_train, y_train)\n",
    "    \n",
    "    test_preds += model.predict(test.values) / 3\n",
    "    train_preds[test_index] = model.predict(X_test)\n",
    "    validation_scores.append(f1_score(y_test,model.predict(X_test),average='micro'))\n",
    "    org_scores.append(f1_score(y_org,model.predict(train_org.values),average='micro'))"
   ]
  },
  {
   "cell_type": "code",
   "execution_count": 76,
   "metadata": {},
   "outputs": [
    {
     "data": {
      "text/plain": [
       "(0.9210760409095685, 0.014246862593526807, 0.9091694007943361)"
      ]
     },
     "execution_count": 76,
     "metadata": {},
     "output_type": "execute_result"
    }
   ],
   "source": [
    "np.mean(validation_scores), np.std(validation_scores), min(validation_scores)"
   ]
  },
  {
   "cell_type": "code",
   "execution_count": 77,
   "metadata": {},
   "outputs": [
    {
     "data": {
      "text/plain": [
       "(0.9720634172216656, 0.006132000844187, 0.9674073200919432)"
      ]
     },
     "execution_count": 77,
     "metadata": {},
     "output_type": "execute_result"
    }
   ],
   "source": [
    "np.mean(org_scores), np.std(org_scores), min(org_scores)"
   ]
  },
  {
   "cell_type": "code",
   "execution_count": 78,
   "metadata": {},
   "outputs": [],
   "source": [
    "name = 'rbf_svm_unit_diff'\n",
    "model_predictions_train[name] = train_preds\n",
    "model_predictions_test[name] = test_preds"
   ]
  },
  {
   "cell_type": "markdown",
   "metadata": {},
   "source": [
    "## diff norm"
   ]
  },
  {
   "cell_type": "code",
   "execution_count": 79,
   "metadata": {},
   "outputs": [],
   "source": [
    "features = [\n",
    "    'predicted_fare_diff_per_distance_normalized',\n",
    "    'predicted_fare_diff_normalized',\n",
    "    'predicted_fare_diff_per_fare_normalized',\n",
    "    'predicted_fare_diff_per_predicted_fare_normalized',\n",
    "    'predicted_duraton_diff_per_duraton_normalized',\n",
    "    'predicted_duraton_diff_per_predicted_duration_normalized',\n",
    "    'predicted_fare_per_duration_diff_normalized',\n",
    "    'predicted_avg_speed_diff_normalized',\n",
    "    'predicted_meter_waiting_diff_normalized',\n",
    "    'predicted_meter_waiting_diff_per_meter_waiting_normalized',\n",
    "    'predicted_meter_waiting_diff_per_predicted_meter_waiting_normalized',\n",
    "    'predicted_meter_waiting_per_duration_diff_normalized',\n",
    "    'predicted_meter_waiting_fare_diff_normalized',\n",
    "    'predicted_meter_waiting_fare_diff_per_meter_waiting_fare_normalized',\n",
    "    'predicted_meter_waiting_fare_diff_per_predicted_meter_waiting_fare_normalized',\n",
    "    'predicted_meter_waiting_fare_per_meter_waiting_diff_normalized',\n",
    "    'predicted_meter_waiting_fare_per_duration_diff_normalized',\n",
    "    'predicted_additional_fare_diff_normalized',\n",
    "    'predicted_additional_fare_diff_per_additional_fare_normalized',\n",
    "]\n",
    "\n",
    "cat_features = []"
   ]
  },
  {
   "cell_type": "code",
   "execution_count": 80,
   "metadata": {},
   "outputs": [],
   "source": [
    "train = train_df[features]\n",
    "test = test_df[features]\n",
    "train_org = train_df_org[features]\n",
    "y = train_df['label']\n",
    "for each in cat_features:\n",
    "    train[each] = train[each].values.astype(int)\n",
    "    test[each] = test[each].values.astype(int)\n",
    "    train_org[each] = train_org[each].values.astype(int)"
   ]
  },
  {
   "cell_type": "markdown",
   "metadata": {},
   "source": [
    "### KNN"
   ]
  },
  {
   "cell_type": "code",
   "execution_count": 81,
   "metadata": {},
   "outputs": [],
   "source": [
    "knn_params = {\n",
    "    'n_neighbors':15,\n",
    "    'weights':'distance'    \n",
    "}"
   ]
  },
  {
   "cell_type": "code",
   "execution_count": 82,
   "metadata": {},
   "outputs": [],
   "source": [
    "folds = 3\n",
    "skf = StratifiedKFold(n_splits=folds)\n",
    "train_preds = np.zeros(train_df.shape[0])\n",
    "test_preds = np.zeros(test_df.shape[0])\n",
    "validation_scores = []\n",
    "org_scores = []\n",
    "for train_index, test_index in skf.split(train, y):\n",
    "    X_train, X_test = train.iloc[train_index,:].values, train.iloc[test_index,:].values\n",
    "    y_train, y_test = y[train_index], y[test_index]\n",
    "    \n",
    "    model = KNeighborsClassifier(**knn_params)\n",
    "    model.fit(X_train, y_train)\n",
    "    \n",
    "    test_preds += model.predict(test.values) / 3\n",
    "    train_preds[test_index] = model.predict(X_test)\n",
    "    validation_scores.append(f1_score(y_test,model.predict(X_test),average='micro'))\n",
    "    org_scores.append(f1_score(y_org,model.predict(train_org.values),average='micro'))"
   ]
  },
  {
   "cell_type": "code",
   "execution_count": 83,
   "metadata": {},
   "outputs": [
    {
     "data": {
      "text/plain": [
       "(0.9593000354807805, 0.0015519199559072925, 0.9580310880829016)"
      ]
     },
     "execution_count": 83,
     "metadata": {},
     "output_type": "execute_result"
    }
   ],
   "source": [
    "np.mean(validation_scores), np.std(validation_scores), min(validation_scores)"
   ]
  },
  {
   "cell_type": "code",
   "execution_count": 84,
   "metadata": {},
   "outputs": [
    {
     "data": {
      "text/plain": [
       "(0.9865228580970905, 0.0011123858208594614, 0.9856780809807273)"
      ]
     },
     "execution_count": 84,
     "metadata": {},
     "output_type": "execute_result"
    }
   ],
   "source": [
    "np.mean(org_scores), np.std(org_scores), min(org_scores)"
   ]
  },
  {
   "cell_type": "code",
   "execution_count": 85,
   "metadata": {},
   "outputs": [],
   "source": [
    "name = 'knn_unit_diff_norm'\n",
    "model_predictions_train[name] = train_preds\n",
    "model_predictions_test[name] = test_preds"
   ]
  },
  {
   "cell_type": "markdown",
   "metadata": {},
   "source": [
    "### SVM"
   ]
  },
  {
   "cell_type": "code",
   "execution_count": 102,
   "metadata": {},
   "outputs": [],
   "source": [
    "svc_params = {\n",
    "    'C':5,\n",
    "    'kernel':'rbf',\n",
    "    'random_state':0,    \n",
    "    'probability': False,\n",
    "    'gamma':'scale'\n",
    "}"
   ]
  },
  {
   "cell_type": "code",
   "execution_count": 103,
   "metadata": {},
   "outputs": [],
   "source": [
    "folds = 3\n",
    "skf = StratifiedKFold(n_splits=folds)\n",
    "train_preds = np.zeros(train_df.shape[0])\n",
    "test_preds = np.zeros(test_df.shape[0])\n",
    "validation_scores = []\n",
    "org_scores = []\n",
    "for train_index, test_index in skf.split(train, y):\n",
    "    X_train, X_test = train.iloc[train_index,:].values, train.iloc[test_index,:].values\n",
    "    y_train, y_test = y[train_index], y[test_index]\n",
    "    \n",
    "    model = SVC(**svc_params)\n",
    "    model.fit(X_train, y_train)\n",
    "    \n",
    "    test_preds += model.predict(test.values) / 3\n",
    "    train_preds[test_index] = model.predict(X_test)\n",
    "    validation_scores.append(f1_score(y_test,model.predict(X_test),average='micro'))\n",
    "    org_scores.append(f1_score(y_org,model.predict(train_org.values),average='micro'))"
   ]
  },
  {
   "cell_type": "code",
   "execution_count": 104,
   "metadata": {},
   "outputs": [
    {
     "data": {
      "text/plain": [
       "(0.9135348888210887, 0.021703011269471325, 0.8974093264248705)"
      ]
     },
     "execution_count": 104,
     "metadata": {},
     "output_type": "execute_result"
    }
   ],
   "source": [
    "np.mean(validation_scores), np.std(validation_scores), min(validation_scores)"
   ]
  },
  {
   "cell_type": "code",
   "execution_count": 105,
   "metadata": {},
   "outputs": [
    {
     "data": {
      "text/plain": [
       "(0.9297459774857075, 0.01850413495053213, 0.9165438792951023)"
      ]
     },
     "execution_count": 105,
     "metadata": {},
     "output_type": "execute_result"
    }
   ],
   "source": [
    "np.mean(org_scores), np.std(org_scores), min(org_scores)"
   ]
  },
  {
   "cell_type": "code",
   "execution_count": 106,
   "metadata": {},
   "outputs": [],
   "source": [
    "name = 'svm_rbf_unit_diff_norm'\n",
    "model_predictions_train[name] = train_preds\n",
    "model_predictions_test[name] = test_preds"
   ]
  },
  {
   "cell_type": "code",
   "execution_count": null,
   "metadata": {},
   "outputs": [],
   "source": []
  },
  {
   "cell_type": "code",
   "execution_count": null,
   "metadata": {},
   "outputs": [],
   "source": []
  },
  {
   "cell_type": "code",
   "execution_count": 107,
   "metadata": {},
   "outputs": [],
   "source": [
    "model_predictions_train.to_csv('stack_2_balanced_train.csv',index=False)\n",
    "model_predictions_test.to_csv('stack_2_balanced_test.csv',index=False)"
   ]
  },
  {
   "cell_type": "markdown",
   "metadata": {},
   "source": [
    "# Stack level 2"
   ]
  },
  {
   "cell_type": "code",
   "execution_count": null,
   "metadata": {},
   "outputs": [],
   "source": [
    "features = model_predictions_test.columns\n",
    "cat_cols = [\n",
    "    'knn_anomaly',\n",
    "    'rf_anomaly',\n",
    "    'knn_unit_diff',\n",
    "    'knn_unit_diff_norm'\n",
    "]"
   ]
  },
  {
   "cell_type": "code",
   "execution_count": null,
   "metadata": {},
   "outputs": [],
   "source": [
    "for each in cat_cols:\n",
    "    model_predictions_train[each] = model_predictions_train[each].astype(int)\n",
    "    model_predictions_test[each] = model_predictions_test[each].astype(int)"
   ]
  },
  {
   "cell_type": "code",
   "execution_count": null,
   "metadata": {},
   "outputs": [],
   "source": [
    "train = model_predictions_train[features]\n",
    "test = model_predictions_test[features]\n",
    "y = train_df['label']"
   ]
  },
  {
   "cell_type": "code",
   "execution_count": null,
   "metadata": {},
   "outputs": [],
   "source": [
    "sns.heatmap(model_predictions_train.corr())"
   ]
  },
  {
   "cell_type": "markdown",
   "metadata": {},
   "source": [
    "### Catboost"
   ]
  },
  {
   "cell_type": "code",
   "execution_count": null,
   "metadata": {},
   "outputs": [],
   "source": [
    "catboost_params = {\n",
    "    'loss_function':'Logloss',\n",
    "    'random_state':0,\n",
    "    'early_stopping_rounds':50,\n",
    "    'eval_metric':'F1'\n",
    "}"
   ]
  },
  {
   "cell_type": "code",
   "execution_count": null,
   "metadata": {},
   "outputs": [],
   "source": [
    "submission_pool = Pool(data=model_predictions_test[features], cat_features=cat_features)"
   ]
  },
  {
   "cell_type": "code",
   "execution_count": null,
   "metadata": {},
   "outputs": [],
   "source": [
    "train_preds = np.zeros(train_df.shape[0])\n",
    "test_preds = np.zeros(test_df.shape[0])\n",
    "train_class = np.zeros(train_df.shape[0])\n",
    "test_class = np.zeros(test_df.shape[0])\n",
    "skf = StratifiedKFold(n_splits=3)\n",
    "validation_scores = []\n",
    "for train_index, test_index in skf.split(train, y):\n",
    "    X_train, X_test = train.iloc[train_index,:], train.iloc[test_index,:]\n",
    "    y_train, y_test = y[train_index], y[test_index]\n",
    "    train_pool = Pool(data=X_train, label=y_train,cat_features=cat_features)\n",
    "    test_pool = Pool(data=X_test, label=y_test, cat_features=cat_features)    \n",
    "    model = CatBoostClassifier(**catboost_params)\n",
    "    model.fit(X=train_pool, eval_set=test_pool,verbose=10)\n",
    "    train_preds[test_index] = model.predict_proba(test_pool)[:,1]\n",
    "    train_class[test_index] = model.predict(test_pool)\n",
    "    test_preds += model.predict_proba(submission_pool)[:,1]/3\n",
    "    test_class = model.predict(submission_pool)\n",
    "    validation_scores.append(f1_score(y_test,model.predict(test_pool),average='micro'))\n",
    "test_class = np.where(test_class > 2, 1, 0)"
   ]
  },
  {
   "cell_type": "code",
   "execution_count": null,
   "metadata": {},
   "outputs": [],
   "source": [
    "np.mean(validation_scores), np.std(validation_scores), min(validation_scores)"
   ]
  },
  {
   "cell_type": "markdown",
   "metadata": {},
   "source": [
    "### Extratrees"
   ]
  },
  {
   "cell_type": "code",
   "execution_count": null,
   "metadata": {},
   "outputs": [],
   "source": [
    "et_params = {\n",
    "    'n_estimators':10,\n",
    "    'max_depth':3,\n",
    "    'random_state':0    \n",
    "}"
   ]
  },
  {
   "cell_type": "code",
   "execution_count": null,
   "metadata": {},
   "outputs": [],
   "source": [
    "folds = 3\n",
    "skf = StratifiedKFold(n_splits=folds)\n",
    "train_preds = np.zeros(train_df.shape[0])\n",
    "test_preds = np.zeros(test_df.shape[0])\n",
    "validation_scores = []\n",
    "for train_index, test_index in skf.split(train, y):\n",
    "    X_train, X_test = train.iloc[train_index,:].values, train.iloc[test_index,:].values\n",
    "    y_train, y_test = y[train_index], y[test_index]\n",
    "    \n",
    "    model = ExtraTreesClassifier(**et_params)\n",
    "    model.fit(X_train, y_train)\n",
    "    \n",
    "    test_preds += model.predict(test.values) / 3\n",
    "    train_preds[test_index] = model.predict(X_test)\n",
    "    validation_scores.append(f1_score(y_test,model.predict(X_test),average='micro'))"
   ]
  },
  {
   "cell_type": "code",
   "execution_count": null,
   "metadata": {},
   "outputs": [],
   "source": [
    "np.mean(validation_scores), np.std(validation_scores), min(validation_scores)"
   ]
  },
  {
   "cell_type": "code",
   "execution_count": null,
   "metadata": {},
   "outputs": [],
   "source": []
  }
 ],
 "metadata": {
  "kernelspec": {
   "display_name": "Python 3",
   "language": "python",
   "name": "python3"
  },
  "language_info": {
   "codemirror_mode": {
    "name": "ipython",
    "version": 3
   },
   "file_extension": ".py",
   "mimetype": "text/x-python",
   "name": "python",
   "nbconvert_exporter": "python",
   "pygments_lexer": "ipython3",
   "version": "3.7.4"
  }
 },
 "nbformat": 4,
 "nbformat_minor": 2
}
