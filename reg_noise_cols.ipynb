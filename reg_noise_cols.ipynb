{
 "cells": [
  {
   "cell_type": "code",
   "execution_count": 19,
   "metadata": {},
   "outputs": [],
   "source": [
    "import pandas as pd\n",
    "import numpy as np\n",
    "\n",
    "from sklearn.model_selection import KFold\n",
    "import matplotlib.pyplot as plt\n",
    "import seaborn as sns\n",
    "\n",
    "from catboost import Pool, cv,CatBoostRegressor"
   ]
  },
  {
   "cell_type": "code",
   "execution_count": 2,
   "metadata": {},
   "outputs": [],
   "source": [
    "train_df = pd.read_csv('train_df.csv')\n",
    "test_df = pd.read_csv('test_df.csv')\n",
    "submission_df = pd.read_csv('sample_submission.csv')"
   ]
  },
  {
   "cell_type": "markdown",
   "metadata": {},
   "source": [
    "# Check is noiced"
   ]
  },
  {
   "cell_type": "code",
   "execution_count": 14,
   "metadata": {},
   "outputs": [],
   "source": [
    "data = train_df[train_df['label'] == 1].drop(['label'], axis=1).dropna()\n",
    "# data = train_df.drop(['label'], axis=1).dropna()"
   ]
  },
  {
   "cell_type": "code",
   "execution_count": 15,
   "metadata": {},
   "outputs": [
    {
     "data": {
      "text/html": [
       "<div>\n",
       "<style scoped>\n",
       "    .dataframe tbody tr th:only-of-type {\n",
       "        vertical-align: middle;\n",
       "    }\n",
       "\n",
       "    .dataframe tbody tr th {\n",
       "        vertical-align: top;\n",
       "    }\n",
       "\n",
       "    .dataframe thead th {\n",
       "        text-align: right;\n",
       "    }\n",
       "</style>\n",
       "<table border=\"1\" class=\"dataframe\">\n",
       "  <thead>\n",
       "    <tr style=\"text-align: right;\">\n",
       "      <th></th>\n",
       "      <th>additional_fare</th>\n",
       "      <th>duration</th>\n",
       "      <th>meter_waiting</th>\n",
       "      <th>meter_waiting_fare</th>\n",
       "      <th>meter_waiting_till_pickup</th>\n",
       "      <th>fare</th>\n",
       "      <th>pickup_date</th>\n",
       "      <th>pickup_hour</th>\n",
       "      <th>pickup_minute</th>\n",
       "      <th>drop_date</th>\n",
       "      <th>drop_hour</th>\n",
       "      <th>drop_minute</th>\n",
       "      <th>pick_cluster</th>\n",
       "      <th>is_more_than_one_day</th>\n",
       "      <th>distance_km</th>\n",
       "      <th>fare_per_km</th>\n",
       "      <th>pickup_timeslot</th>\n",
       "      <th>day_of_week</th>\n",
       "      <th>is_weekday</th>\n",
       "      <th>cal_time_difference</th>\n",
       "    </tr>\n",
       "  </thead>\n",
       "  <tbody>\n",
       "    <tr>\n",
       "      <td>0</td>\n",
       "      <td>10.5</td>\n",
       "      <td>834.0</td>\n",
       "      <td>56.0</td>\n",
       "      <td>0.0000</td>\n",
       "      <td>64.0</td>\n",
       "      <td>270.32</td>\n",
       "      <td>1</td>\n",
       "      <td>0</td>\n",
       "      <td>20</td>\n",
       "      <td>1</td>\n",
       "      <td>0</td>\n",
       "      <td>34</td>\n",
       "      <td>1</td>\n",
       "      <td>0</td>\n",
       "      <td>5.072065</td>\n",
       "      <td>53.190982</td>\n",
       "      <td>0</td>\n",
       "      <td>4</td>\n",
       "      <td>1</td>\n",
       "      <td>6.0</td>\n",
       "    </tr>\n",
       "    <tr>\n",
       "      <td>1</td>\n",
       "      <td>10.5</td>\n",
       "      <td>791.0</td>\n",
       "      <td>47.0</td>\n",
       "      <td>0.0000</td>\n",
       "      <td>134.0</td>\n",
       "      <td>197.85</td>\n",
       "      <td>1</td>\n",
       "      <td>0</td>\n",
       "      <td>56</td>\n",
       "      <td>1</td>\n",
       "      <td>1</td>\n",
       "      <td>9</td>\n",
       "      <td>1</td>\n",
       "      <td>0</td>\n",
       "      <td>3.151780</td>\n",
       "      <td>62.575517</td>\n",
       "      <td>0</td>\n",
       "      <td>4</td>\n",
       "      <td>1</td>\n",
       "      <td>-11.0</td>\n",
       "    </tr>\n",
       "    <tr>\n",
       "      <td>2</td>\n",
       "      <td>10.5</td>\n",
       "      <td>1087.0</td>\n",
       "      <td>80.0</td>\n",
       "      <td>0.0000</td>\n",
       "      <td>61.0</td>\n",
       "      <td>301.64</td>\n",
       "      <td>1</td>\n",
       "      <td>1</td>\n",
       "      <td>8</td>\n",
       "      <td>1</td>\n",
       "      <td>1</td>\n",
       "      <td>26</td>\n",
       "      <td>1</td>\n",
       "      <td>0</td>\n",
       "      <td>6.302418</td>\n",
       "      <td>47.785178</td>\n",
       "      <td>0</td>\n",
       "      <td>4</td>\n",
       "      <td>1</td>\n",
       "      <td>-7.0</td>\n",
       "    </tr>\n",
       "    <tr>\n",
       "      <td>3</td>\n",
       "      <td>10.5</td>\n",
       "      <td>598.0</td>\n",
       "      <td>271.0</td>\n",
       "      <td>15.6638</td>\n",
       "      <td>68.0</td>\n",
       "      <td>82.30</td>\n",
       "      <td>1</td>\n",
       "      <td>2</td>\n",
       "      <td>27</td>\n",
       "      <td>1</td>\n",
       "      <td>2</td>\n",
       "      <td>37</td>\n",
       "      <td>1</td>\n",
       "      <td>0</td>\n",
       "      <td>0.862654</td>\n",
       "      <td>94.309954</td>\n",
       "      <td>0</td>\n",
       "      <td>4</td>\n",
       "      <td>1</td>\n",
       "      <td>2.0</td>\n",
       "    </tr>\n",
       "    <tr>\n",
       "      <td>4</td>\n",
       "      <td>10.5</td>\n",
       "      <td>3407.0</td>\n",
       "      <td>182.0</td>\n",
       "      <td>0.0000</td>\n",
       "      <td>112.0</td>\n",
       "      <td>1065.02</td>\n",
       "      <td>1</td>\n",
       "      <td>5</td>\n",
       "      <td>38</td>\n",
       "      <td>1</td>\n",
       "      <td>6</td>\n",
       "      <td>35</td>\n",
       "      <td>3</td>\n",
       "      <td>0</td>\n",
       "      <td>24.078955</td>\n",
       "      <td>44.211964</td>\n",
       "      <td>3</td>\n",
       "      <td>4</td>\n",
       "      <td>1</td>\n",
       "      <td>13.0</td>\n",
       "    </tr>\n",
       "  </tbody>\n",
       "</table>\n",
       "</div>"
      ],
      "text/plain": [
       "   additional_fare  duration  meter_waiting  meter_waiting_fare  \\\n",
       "0             10.5     834.0           56.0              0.0000   \n",
       "1             10.5     791.0           47.0              0.0000   \n",
       "2             10.5    1087.0           80.0              0.0000   \n",
       "3             10.5     598.0          271.0             15.6638   \n",
       "4             10.5    3407.0          182.0              0.0000   \n",
       "\n",
       "   meter_waiting_till_pickup     fare  pickup_date  pickup_hour  \\\n",
       "0                       64.0   270.32            1            0   \n",
       "1                      134.0   197.85            1            0   \n",
       "2                       61.0   301.64            1            1   \n",
       "3                       68.0    82.30            1            2   \n",
       "4                      112.0  1065.02            1            5   \n",
       "\n",
       "   pickup_minute  drop_date  drop_hour  drop_minute  pick_cluster  \\\n",
       "0             20          1          0           34             1   \n",
       "1             56          1          1            9             1   \n",
       "2              8          1          1           26             1   \n",
       "3             27          1          2           37             1   \n",
       "4             38          1          6           35             3   \n",
       "\n",
       "   is_more_than_one_day  distance_km  fare_per_km  pickup_timeslot  \\\n",
       "0                     0     5.072065    53.190982                0   \n",
       "1                     0     3.151780    62.575517                0   \n",
       "2                     0     6.302418    47.785178                0   \n",
       "3                     0     0.862654    94.309954                0   \n",
       "4                     0    24.078955    44.211964                3   \n",
       "\n",
       "   day_of_week  is_weekday  cal_time_difference  \n",
       "0            4           1                  6.0  \n",
       "1            4           1                -11.0  \n",
       "2            4           1                 -7.0  \n",
       "3            4           1                  2.0  \n",
       "4            4           1                 13.0  "
      ]
     },
     "execution_count": 15,
     "metadata": {},
     "output_type": "execute_result"
    }
   ],
   "source": [
    "data.head()"
   ]
  },
  {
   "cell_type": "code",
   "execution_count": 16,
   "metadata": {},
   "outputs": [],
   "source": [
    "cat_features = ['pick_cluster','is_more_than_one_day','pickup_timeslot',\n",
    "       'day_of_week', 'is_weekday']\n",
    "\n",
    "features = [\n",
    "    'additional_fare',\n",
    "#     'duration',\n",
    "#     'meter_waiting_fare',\n",
    "    'meter_waiting_till_pickup', \n",
    "    'pick_cluster', \n",
    "    'is_more_than_one_day', \n",
    "    'distance_km',\n",
    "    'pickup_timeslot',\n",
    "    'day_of_week', \n",
    "    'is_weekday',\n",
    "#     'fare'\n",
    "]"
   ]
  },
  {
   "cell_type": "code",
   "execution_count": 17,
   "metadata": {},
   "outputs": [],
   "source": [
    "X = data[features]\n",
    "y = data['meter_waiting_fare'].values"
   ]
  },
  {
   "cell_type": "code",
   "execution_count": 18,
   "metadata": {},
   "outputs": [],
   "source": [
    "train_df_X = train_df[features]\n",
    "train_df_pool = Pool(data=train_df_X,cat_features=cat_features)\n",
    "test_df_X = test_df[features]\n",
    "test_df_pool = Pool(data=test_df_X,cat_features=cat_features)"
   ]
  },
  {
   "cell_type": "code",
   "execution_count": 19,
   "metadata": {},
   "outputs": [],
   "source": [
    "train_df_preds = np.zeros(train_df.shape[0])\n",
    "test_df_preds = np.zeros(test_df.shape[0])"
   ]
  },
  {
   "cell_type": "code",
   "execution_count": 20,
   "metadata": {},
   "outputs": [],
   "source": [
    "params = {\n",
    "    'loss_function':'RMSE',\n",
    "    'random_state':0,\n",
    "    'early_stopping_rounds':50,\n",
    "    'eval_metric':'RMSE'\n",
    "}"
   ]
  },
  {
   "cell_type": "code",
   "execution_count": 21,
   "metadata": {},
   "outputs": [],
   "source": [
    "kf = KFold(n_splits=3)"
   ]
  },
  {
   "cell_type": "code",
   "execution_count": 22,
   "metadata": {},
   "outputs": [
    {
     "name": "stdout",
     "output_type": "stream",
     "text": [
      "Learning rate set to 0.071592\n",
      "0:\tlearn: 261.5480287\ttest: 137.0864080\tbest: 137.0864080 (0)\ttotal: 9.69ms\tremaining: 9.68s\n",
      "10:\tlearn: 221.1924348\ttest: 136.6525032\tbest: 136.6525032 (10)\ttotal: 50.8ms\tremaining: 4.57s\n",
      "20:\tlearn: 186.2653844\ttest: 136.2797887\tbest: 136.2797887 (20)\ttotal: 91ms\tremaining: 4.24s\n",
      "30:\tlearn: 158.5017520\ttest: 136.3666295\tbest: 136.2794742 (21)\ttotal: 129ms\tremaining: 4.04s\n",
      "40:\tlearn: 137.3439883\ttest: 136.1820957\tbest: 136.1798690 (36)\ttotal: 167ms\tremaining: 3.9s\n",
      "50:\tlearn: 117.2958420\ttest: 136.1923677\tbest: 136.1798690 (36)\ttotal: 213ms\tremaining: 3.97s\n",
      "60:\tlearn: 100.9794269\ttest: 136.2000956\tbest: 136.1636805 (53)\ttotal: 258ms\tremaining: 3.97s\n",
      "70:\tlearn: 89.3773979\ttest: 136.2286574\tbest: 136.1395055 (67)\ttotal: 288ms\tremaining: 3.76s\n",
      "80:\tlearn: 79.4442633\ttest: 136.1564937\tbest: 136.1395055 (67)\ttotal: 327ms\tremaining: 3.71s\n",
      "90:\tlearn: 70.3715441\ttest: 136.1801003\tbest: 136.1353112 (81)\ttotal: 369ms\tremaining: 3.69s\n",
      "100:\tlearn: 64.2652812\ttest: 136.1446775\tbest: 136.1353112 (81)\ttotal: 407ms\tremaining: 3.62s\n",
      "110:\tlearn: 58.6544630\ttest: 136.0740987\tbest: 136.0740987 (110)\ttotal: 467ms\tremaining: 3.74s\n",
      "120:\tlearn: 54.2358650\ttest: 136.0876097\tbest: 136.0549340 (118)\ttotal: 509ms\tremaining: 3.7s\n",
      "130:\tlearn: 51.0183532\ttest: 136.0810554\tbest: 136.0549340 (118)\ttotal: 548ms\tremaining: 3.63s\n",
      "140:\tlearn: 48.2174450\ttest: 135.5328011\tbest: 135.4690597 (139)\ttotal: 587ms\tremaining: 3.58s\n",
      "150:\tlearn: 45.7801120\ttest: 135.3759275\tbest: 135.1625710 (142)\ttotal: 624ms\tremaining: 3.51s\n",
      "160:\tlearn: 43.8810361\ttest: 135.0774821\tbest: 134.9527208 (151)\ttotal: 660ms\tremaining: 3.44s\n",
      "170:\tlearn: 42.4523536\ttest: 134.9922032\tbest: 134.9527208 (151)\ttotal: 723ms\tremaining: 3.51s\n",
      "180:\tlearn: 40.8411483\ttest: 135.2890761\tbest: 134.9527208 (151)\ttotal: 760ms\tremaining: 3.44s\n",
      "190:\tlearn: 39.7562518\ttest: 135.5583017\tbest: 134.9527208 (151)\ttotal: 798ms\tremaining: 3.38s\n",
      "200:\tlearn: 39.0065494\ttest: 135.9103289\tbest: 134.9527208 (151)\ttotal: 835ms\tremaining: 3.32s\n",
      "Stopped by overfitting detector  (50 iterations wait)\n",
      "\n",
      "bestTest = 134.9527208\n",
      "bestIteration = 151\n",
      "\n",
      "Shrink model to first 152 iterations.\n",
      "Validation RMSE 134.9527207989899\n",
      "Learning rate set to 0.071592\n",
      "0:\tlearn: 272.7831722\ttest: 86.5416357\tbest: 86.5416357 (0)\ttotal: 9.12ms\tremaining: 9.11s\n",
      "10:\tlearn: 243.1974713\ttest: 94.1853125\tbest: 86.5416357 (0)\ttotal: 52.3ms\tremaining: 4.7s\n",
      "20:\tlearn: 209.6407056\ttest: 132.1556627\tbest: 86.5416357 (0)\ttotal: 83.1ms\tremaining: 3.87s\n",
      "30:\tlearn: 190.0464255\ttest: 152.0405834\tbest: 86.5416357 (0)\ttotal: 124ms\tremaining: 3.87s\n",
      "40:\tlearn: 167.5742923\ttest: 186.9748892\tbest: 86.5416357 (0)\ttotal: 164ms\tremaining: 3.83s\n",
      "50:\tlearn: 153.2026651\ttest: 206.6943037\tbest: 86.5416357 (0)\ttotal: 202ms\tremaining: 3.76s\n",
      "Stopped by overfitting detector  (50 iterations wait)\n",
      "\n",
      "bestTest = 86.54163574\n",
      "bestIteration = 0\n",
      "\n",
      "Shrink model to first 1 iterations.\n",
      "Validation RMSE 86.54163573588649\n",
      "Learning rate set to 0.071592\n",
      "0:\tlearn: 112.7630931\ttest: 366.3956995\tbest: 366.3956995 (0)\ttotal: 5.41ms\tremaining: 5.41s\n",
      "10:\tlearn: 96.8472830\ttest: 367.3101900\tbest: 366.3843962 (1)\ttotal: 44.3ms\tremaining: 3.98s\n",
      "20:\tlearn: 84.0924899\ttest: 369.3223945\tbest: 366.3843962 (1)\ttotal: 82.2ms\tremaining: 3.83s\n",
      "30:\tlearn: 74.0592032\ttest: 371.8683982\tbest: 366.3843962 (1)\ttotal: 120ms\tremaining: 3.75s\n",
      "40:\tlearn: 65.6963648\ttest: 374.5262436\tbest: 366.3843962 (1)\ttotal: 181ms\tremaining: 4.24s\n",
      "50:\tlearn: 59.5754723\ttest: 375.6529442\tbest: 366.3843962 (1)\ttotal: 243ms\tremaining: 4.53s\n",
      "Stopped by overfitting detector  (50 iterations wait)\n",
      "\n",
      "bestTest = 366.3843962\n",
      "bestIteration = 1\n",
      "\n",
      "Shrink model to first 2 iterations.\n",
      "Validation RMSE 366.3843962277195\n"
     ]
    }
   ],
   "source": [
    "validation_scores = []\n",
    "models = []\n",
    "for train_index, test_index in kf.split(X, y):\n",
    "    X_train, X_test = X.iloc[train_index,:], X.iloc[test_index,:]\n",
    "    y_train, y_test = y[train_index], y[test_index]\n",
    "    train_pool = Pool(data=X_train, label=y_train,cat_features=cat_features)\n",
    "    test_pool = Pool(data=X_test, label=y_test, cat_features=cat_features)    \n",
    "    model = CatBoostRegressor(**params)\n",
    "    model.fit(X=train_pool, eval_set=test_pool,verbose=10)\n",
    "    validation_score = model.best_score_['validation']['RMSE']\n",
    "    print('Validation RMSE',validation_score)\n",
    "    validation_scores.append(validation_score)\n",
    "    models.append(model)\n",
    "    \n",
    "    train_df_preds += model.predict(train_df_pool)\n",
    "    test_df_preds += model.predict(test_df_pool)"
   ]
  },
  {
   "cell_type": "code",
   "execution_count": 23,
   "metadata": {},
   "outputs": [
    {
     "data": {
      "text/plain": [
       "(195.95958425419863, 122.11844166328636)"
      ]
     },
     "execution_count": 23,
     "metadata": {},
     "output_type": "execute_result"
    }
   ],
   "source": [
    "np.mean(validation_scores), np.std(validation_scores)"
   ]
  },
  {
   "cell_type": "code",
   "execution_count": null,
   "metadata": {},
   "outputs": [],
   "source": [
    "(418.17657240002376, 118.91645261628634)"
   ]
  },
  {
   "cell_type": "code",
   "execution_count": 36,
   "metadata": {},
   "outputs": [],
   "source": [
    "best_model = models[np.argmax(validation_scores)]"
   ]
  },
  {
   "cell_type": "code",
   "execution_count": 37,
   "metadata": {},
   "outputs": [
    {
     "data": {
      "text/html": [
       "<div>\n",
       "<style scoped>\n",
       "    .dataframe tbody tr th:only-of-type {\n",
       "        vertical-align: middle;\n",
       "    }\n",
       "\n",
       "    .dataframe tbody tr th {\n",
       "        vertical-align: top;\n",
       "    }\n",
       "\n",
       "    .dataframe thead th {\n",
       "        text-align: right;\n",
       "    }\n",
       "</style>\n",
       "<table border=\"1\" class=\"dataframe\">\n",
       "  <thead>\n",
       "    <tr style=\"text-align: right;\">\n",
       "      <th></th>\n",
       "      <th>Feature Id</th>\n",
       "      <th>Importances</th>\n",
       "    </tr>\n",
       "  </thead>\n",
       "  <tbody>\n",
       "    <tr>\n",
       "      <td>0</td>\n",
       "      <td>meter_waiting_fare</td>\n",
       "      <td>39.737553</td>\n",
       "    </tr>\n",
       "    <tr>\n",
       "      <td>1</td>\n",
       "      <td>is_more_than_one_day</td>\n",
       "      <td>36.444741</td>\n",
       "    </tr>\n",
       "    <tr>\n",
       "      <td>2</td>\n",
       "      <td>pick_cluster</td>\n",
       "      <td>11.132432</td>\n",
       "    </tr>\n",
       "    <tr>\n",
       "      <td>3</td>\n",
       "      <td>distance_km</td>\n",
       "      <td>5.383907</td>\n",
       "    </tr>\n",
       "    <tr>\n",
       "      <td>4</td>\n",
       "      <td>additional_fare</td>\n",
       "      <td>4.553273</td>\n",
       "    </tr>\n",
       "    <tr>\n",
       "      <td>5</td>\n",
       "      <td>meter_waiting_till_pickup</td>\n",
       "      <td>2.272128</td>\n",
       "    </tr>\n",
       "    <tr>\n",
       "      <td>6</td>\n",
       "      <td>is_weekday</td>\n",
       "      <td>0.282623</td>\n",
       "    </tr>\n",
       "    <tr>\n",
       "      <td>7</td>\n",
       "      <td>day_of_week</td>\n",
       "      <td>0.109541</td>\n",
       "    </tr>\n",
       "    <tr>\n",
       "      <td>8</td>\n",
       "      <td>pickup_timeslot</td>\n",
       "      <td>0.083801</td>\n",
       "    </tr>\n",
       "  </tbody>\n",
       "</table>\n",
       "</div>"
      ],
      "text/plain": [
       "                  Feature Id  Importances\n",
       "0         meter_waiting_fare    39.737553\n",
       "1       is_more_than_one_day    36.444741\n",
       "2               pick_cluster    11.132432\n",
       "3                distance_km     5.383907\n",
       "4            additional_fare     4.553273\n",
       "5  meter_waiting_till_pickup     2.272128\n",
       "6                 is_weekday     0.282623\n",
       "7                day_of_week     0.109541\n",
       "8            pickup_timeslot     0.083801"
      ]
     },
     "execution_count": 37,
     "metadata": {},
     "output_type": "execute_result"
    }
   ],
   "source": [
    "best_model.get_feature_importance(prettified=True)"
   ]
  },
  {
   "cell_type": "markdown",
   "metadata": {},
   "source": [
    "# Predict noice"
   ]
  },
  {
   "cell_type": "code",
   "execution_count": 3,
   "metadata": {},
   "outputs": [],
   "source": [
    "cat_features = [\n",
    "    'pick_cluster',\n",
    "    'is_more_than_one_day',\n",
    "    'pickup_timeslot',\n",
    "    'day_of_week', \n",
    "    'is_weekday']\n",
    "\n",
    "features = [    \n",
    "#     'meter_waiting_fare',\n",
    "#     'meter_waiting_till_pickup', \n",
    "    'pick_cluster', \n",
    "    'is_more_than_one_day', \n",
    "    'distance_km',\n",
    "    'pickup_timeslot',\n",
    "    'day_of_week', \n",
    "    'is_weekday',\n",
    "    'additional_fare'\n",
    "]"
   ]
  },
  {
   "cell_type": "code",
   "execution_count": 4,
   "metadata": {},
   "outputs": [],
   "source": [
    "# data = train_df[train_df['label'] == 1].drop(['label'], axis=1).dropna()\n",
    "data = train_df.drop(['label'], axis=1).dropna()"
   ]
  },
  {
   "cell_type": "code",
   "execution_count": 5,
   "metadata": {},
   "outputs": [],
   "source": [
    "target_cols = ['duration','meter_waiting','fare']"
   ]
  },
  {
   "cell_type": "code",
   "execution_count": 6,
   "metadata": {},
   "outputs": [],
   "source": [
    "params = {\n",
    "    'loss_function':'RMSE',\n",
    "    'random_state':0,\n",
    "    'early_stopping_rounds':50,\n",
    "    'eval_metric':'RMSE'\n",
    "}"
   ]
  },
  {
   "cell_type": "code",
   "execution_count": 7,
   "metadata": {},
   "outputs": [],
   "source": [
    "def get_cv_scores_and_pred(target_col, train_set=data, train_df=train_df, test_df=test_df):\n",
    "    cols = list(filter(lambda col: col != target_col, features))\n",
    "    X = data[cols]\n",
    "    y = data[target_col].values\n",
    "    \n",
    "    train_df_X = train_df[cols]\n",
    "    train_df_pool = Pool(data=train_df_X,cat_features=cat_features)\n",
    "    test_df_X = test_df[cols]\n",
    "    test_df_pool = Pool(data=test_df_X,cat_features=cat_features)\n",
    "    \n",
    "    train_df_preds = np.zeros(train_df.shape[0])\n",
    "    test_df_preds = np.zeros(test_df.shape[0])\n",
    "    \n",
    "    kf = KFold(n_splits=3)\n",
    "    validation_scores = []\n",
    "    models = []\n",
    "    for train_index, test_index in kf.split(X, y):\n",
    "        X_train, X_test = X.iloc[train_index,:], X.iloc[test_index,:]\n",
    "        y_train, y_test = y[train_index], y[test_index]\n",
    "        train_pool = Pool(data=X_train, label=y_train,cat_features=cat_features)\n",
    "        test_pool = Pool(data=X_test, label=y_test, cat_features=cat_features)    \n",
    "        model = CatBoostRegressor(**params)\n",
    "        model.fit(X=train_pool, eval_set=test_pool,verbose=False)\n",
    "        validation_score = model.best_score_['validation']['RMSE']\n",
    "        print('Validation RMSE:',validation_score,' best iteration:',model.get_best_iteration())\n",
    "        validation_scores.append(validation_score)\n",
    "        models.append(model)\n",
    "\n",
    "        train_df_preds += model.predict(train_df_pool)\n",
    "        test_df_preds += model.predict(test_df_pool)\n",
    "    print(target_col,np.mean(validation_scores), np.std(validation_scores))\n",
    "    \n",
    "    train_df[f'predicted_{target_col}'] = train_df_preds/3\n",
    "    test_df[f'predicted_{target_col}'] = test_df_preds/3\n",
    "    \n",
    "    train_df[f'predicted_{target_col}_difference'] = train_df[f'{target_col}'] - train_df[f'predicted_{target_col}']\n",
    "    test_df[f'predicted_{target_col}_difference'] = test_df[f'{target_col}'] - test_df[f'predicted_{target_col}']\n",
    "    \n",
    "    train_df[f'predicted_{target_col}_difference_per_{target_col}'] = train_df[f'predicted_{target_col}_difference'] / (train_df[f'{target_col}']+1)\n",
    "    test_df[f'predicted_{target_col}_difference_per_{target_col}'] = test_df[f'predicted_{target_col}_difference']  / (test_df[f'{target_col}']+1)\n",
    "    "
   ]
  },
  {
   "cell_type": "code",
   "execution_count": 8,
   "metadata": {},
   "outputs": [
    {
     "name": "stdout",
     "output_type": "stream",
     "text": [
      "Validation RMSE: 10390.879453054471  best iteration: 54\n",
      "Validation RMSE: 5073.973496989087  best iteration: 8\n",
      "Validation RMSE: 6457.062825445136  best iteration: 19\n",
      "duration 7307.3052584962315 2252.3404690279212\n",
      "Validation RMSE: 9942.141040112147  best iteration: 121\n",
      "Validation RMSE: 4936.107477989613  best iteration: 10\n",
      "Validation RMSE: 6981.797639924403  best iteration: 27\n",
      "meter_waiting 7286.682052675387 2055.0440198250726\n",
      "Validation RMSE: 638.9213725893073  best iteration: 149\n",
      "Validation RMSE: 417.27003109608813  best iteration: 141\n",
      "Validation RMSE: 555.8413509436846  best iteration: 17\n",
      "fare 537.3442515430266 91.42915768001032\n"
     ]
    }
   ],
   "source": [
    "for col in target_cols:\n",
    "    get_cv_scores_and_pred(col)"
   ]
  },
  {
   "cell_type": "code",
   "execution_count": 9,
   "metadata": {},
   "outputs": [
    {
     "data": {
      "text/plain": [
       "<matplotlib.axes._subplots.AxesSubplot at 0x7f950130bdd0>"
      ]
     },
     "execution_count": 9,
     "metadata": {},
     "output_type": "execute_result"
    },
    {
     "data": {
      "image/png": "[encoded data removed]",
      "text/plain": [
       "<Figure size 432x288 with 1 Axes>"
      ]
     },
     "metadata": {
      "needs_background": "light"
     },
     "output_type": "display_data"
    }
   ],
   "source": [
    "sns.distplot(train_df[train_df['label']==1]['predicted_fare_difference_per_fare'], hist=False)"
   ]
  },
  {
   "cell_type": "code",
   "execution_count": 10,
   "metadata": {},
   "outputs": [
    {
     "data": {
      "text/plain": [
       "<matplotlib.axes._subplots.AxesSubplot at 0x7f94fc9d6e50>"
      ]
     },
     "execution_count": 10,
     "metadata": {},
     "output_type": "execute_result"
    },
    {
     "data": {
      "image/png": "[encoded data removed]",
      "text/plain": [
       "<Figure size 432x288 with 1 Axes>"
      ]
     },
     "metadata": {
      "needs_background": "light"
     },
     "output_type": "display_data"
    }
   ],
   "source": [
    "sns.distplot(train_df[train_df['label']==0]['predicted_fare_difference_per_fare'], hist=False)"
   ]
  },
  {
   "cell_type": "code",
   "execution_count": 11,
   "metadata": {},
   "outputs": [],
   "source": [
    "train_df['predicted_fare_per_distance'] = train_df['predicted_fare'] / (train_df['distance_km'] + 1)"
   ]
  },
  {
   "cell_type": "code",
   "execution_count": 12,
   "metadata": {},
   "outputs": [
    {
     "data": {
      "text/plain": [
       "<matplotlib.axes._subplots.AxesSubplot at 0x7f94fc954a10>"
      ]
     },
     "execution_count": 12,
     "metadata": {},
     "output_type": "execute_result"
    },
    {
     "data": {
      "image/png": "[encoded data removed]",
      "text/plain": [
       "<Figure size 432x288 with 1 Axes>"
      ]
     },
     "metadata": {
      "needs_background": "light"
     },
     "output_type": "display_data"
    }
   ],
   "source": [
    "sns.distplot(train_df[train_df['label']==1]['predicted_fare_per_distance'], hist=False)"
   ]
  },
  {
   "cell_type": "code",
   "execution_count": 13,
   "metadata": {},
   "outputs": [
    {
     "data": {
      "text/plain": [
       "<matplotlib.axes._subplots.AxesSubplot at 0x7f94fc8a3a50>"
      ]
     },
     "execution_count": 13,
     "metadata": {},
     "output_type": "execute_result"
    },
    {
     "data": {
      "image/png": "[encoded data removed]",
      "text/plain": [
       "<Figure size 432x288 with 1 Axes>"
      ]
     },
     "metadata": {
      "needs_background": "light"
     },
     "output_type": "display_data"
    }
   ],
   "source": [
    "sns.distplot(train_df[train_df['label']==0]['predicted_fare_per_distance'], hist=False)"
   ]
  },
  {
   "cell_type": "code",
   "execution_count": 14,
   "metadata": {},
   "outputs": [],
   "source": [
    "train_df['predicted_fare_per_distance_difference'] = train_df['predicted_fare_per_distance'] - train_df['fare_per_km']"
   ]
  },
  {
   "cell_type": "code",
   "execution_count": 15,
   "metadata": {},
   "outputs": [
    {
     "data": {
      "text/plain": [
       "<matplotlib.axes._subplots.AxesSubplot at 0x7f950130bf50>"
      ]
     },
     "execution_count": 15,
     "metadata": {},
     "output_type": "execute_result"
    },
    {
     "data": {
      "image/png": "[encoded data removed]",
      "text/plain": [
       "<Figure size 432x288 with 1 Axes>"
      ]
     },
     "metadata": {
      "needs_background": "light"
     },
     "output_type": "display_data"
    }
   ],
   "source": [
    "sns.distplot(train_df[train_df['label']==1]['predicted_fare_per_distance_difference'], hist=False)"
   ]
  },
  {
   "cell_type": "code",
   "execution_count": 16,
   "metadata": {},
   "outputs": [
    {
     "data": {
      "text/plain": [
       "<matplotlib.axes._subplots.AxesSubplot at 0x7f950b9ba1d0>"
      ]
     },
     "execution_count": 16,
     "metadata": {},
     "output_type": "execute_result"
    },
    {
     "data": {
      "image/png": "[encoded data removed]",
      "text/plain": [
       "<Figure size 432x288 with 1 Axes>"
      ]
     },
     "metadata": {
      "needs_background": "light"
     },
     "output_type": "display_data"
    }
   ],
   "source": [
    "sns.distplot(train_df[train_df['label']==0]['predicted_fare_per_distance_difference'], hist=False)"
   ]
  },
  {
   "cell_type": "code",
   "execution_count": null,
   "metadata": {},
   "outputs": [],
   "source": []
  },
  {
   "cell_type": "code",
   "execution_count": 17,
   "metadata": {},
   "outputs": [
    {
     "data": {
      "text/html": [
       "<div>\n",
       "<style scoped>\n",
       "    .dataframe tbody tr th:only-of-type {\n",
       "        vertical-align: middle;\n",
       "    }\n",
       "\n",
       "    .dataframe tbody tr th {\n",
       "        vertical-align: top;\n",
       "    }\n",
       "\n",
       "    .dataframe thead th {\n",
       "        text-align: right;\n",
       "    }\n",
       "</style>\n",
       "<table border=\"1\" class=\"dataframe\">\n",
       "  <thead>\n",
       "    <tr style=\"text-align: right;\">\n",
       "      <th></th>\n",
       "      <th>additional_fare</th>\n",
       "      <th>duration</th>\n",
       "      <th>meter_waiting</th>\n",
       "      <th>meter_waiting_fare</th>\n",
       "      <th>meter_waiting_till_pickup</th>\n",
       "      <th>fare</th>\n",
       "      <th>pickup_date</th>\n",
       "      <th>pickup_hour</th>\n",
       "      <th>pickup_minute</th>\n",
       "      <th>drop_date</th>\n",
       "      <th>...</th>\n",
       "      <th>predicted_duration_difference</th>\n",
       "      <th>predicted_duration_difference_per_duration</th>\n",
       "      <th>predicted_meter_waiting</th>\n",
       "      <th>predicted_meter_waiting_difference</th>\n",
       "      <th>predicted_meter_waiting_difference_per_meter_waiting</th>\n",
       "      <th>predicted_fare</th>\n",
       "      <th>predicted_fare_difference</th>\n",
       "      <th>predicted_fare_difference_per_fare</th>\n",
       "      <th>predicted_fare_per_distance</th>\n",
       "      <th>predicted_fare_per_distance_difference</th>\n",
       "    </tr>\n",
       "  </thead>\n",
       "  <tbody>\n",
       "    <tr>\n",
       "      <td>0</td>\n",
       "      <td>10.5</td>\n",
       "      <td>834.0</td>\n",
       "      <td>56.0</td>\n",
       "      <td>0.0000</td>\n",
       "      <td>64.0</td>\n",
       "      <td>270.32</td>\n",
       "      <td>1</td>\n",
       "      <td>0</td>\n",
       "      <td>20</td>\n",
       "      <td>1</td>\n",
       "      <td>...</td>\n",
       "      <td>-715.553335</td>\n",
       "      <td>-0.856950</td>\n",
       "      <td>406.333497</td>\n",
       "      <td>-350.333497</td>\n",
       "      <td>-6.146202</td>\n",
       "      <td>286.303176</td>\n",
       "      <td>-15.983176</td>\n",
       "      <td>-0.058909</td>\n",
       "      <td>47.150878</td>\n",
       "      <td>-6.040103</td>\n",
       "    </tr>\n",
       "    <tr>\n",
       "      <td>1</td>\n",
       "      <td>10.5</td>\n",
       "      <td>791.0</td>\n",
       "      <td>47.0</td>\n",
       "      <td>0.0000</td>\n",
       "      <td>134.0</td>\n",
       "      <td>197.85</td>\n",
       "      <td>1</td>\n",
       "      <td>0</td>\n",
       "      <td>56</td>\n",
       "      <td>1</td>\n",
       "      <td>...</td>\n",
       "      <td>-444.793042</td>\n",
       "      <td>-0.561607</td>\n",
       "      <td>371.382428</td>\n",
       "      <td>-324.382428</td>\n",
       "      <td>-6.757967</td>\n",
       "      <td>222.587072</td>\n",
       "      <td>-24.737072</td>\n",
       "      <td>-0.124401</td>\n",
       "      <td>53.612447</td>\n",
       "      <td>-8.963069</td>\n",
       "    </tr>\n",
       "    <tr>\n",
       "      <td>2</td>\n",
       "      <td>10.5</td>\n",
       "      <td>1087.0</td>\n",
       "      <td>80.0</td>\n",
       "      <td>0.0000</td>\n",
       "      <td>61.0</td>\n",
       "      <td>301.64</td>\n",
       "      <td>1</td>\n",
       "      <td>1</td>\n",
       "      <td>8</td>\n",
       "      <td>1</td>\n",
       "      <td>...</td>\n",
       "      <td>-535.766120</td>\n",
       "      <td>-0.492432</td>\n",
       "      <td>436.040285</td>\n",
       "      <td>-356.040285</td>\n",
       "      <td>-4.395559</td>\n",
       "      <td>322.818016</td>\n",
       "      <td>-21.178016</td>\n",
       "      <td>-0.069978</td>\n",
       "      <td>44.207006</td>\n",
       "      <td>-3.578173</td>\n",
       "    </tr>\n",
       "    <tr>\n",
       "      <td>3</td>\n",
       "      <td>10.5</td>\n",
       "      <td>598.0</td>\n",
       "      <td>271.0</td>\n",
       "      <td>15.6638</td>\n",
       "      <td>68.0</td>\n",
       "      <td>82.30</td>\n",
       "      <td>1</td>\n",
       "      <td>2</td>\n",
       "      <td>27</td>\n",
       "      <td>1</td>\n",
       "      <td>...</td>\n",
       "      <td>-703.332872</td>\n",
       "      <td>-1.174178</td>\n",
       "      <td>453.181017</td>\n",
       "      <td>-182.181017</td>\n",
       "      <td>-0.669783</td>\n",
       "      <td>189.009715</td>\n",
       "      <td>-106.709715</td>\n",
       "      <td>-1.281029</td>\n",
       "      <td>101.473312</td>\n",
       "      <td>7.163358</td>\n",
       "    </tr>\n",
       "    <tr>\n",
       "      <td>4</td>\n",
       "      <td>10.5</td>\n",
       "      <td>3407.0</td>\n",
       "      <td>182.0</td>\n",
       "      <td>0.0000</td>\n",
       "      <td>112.0</td>\n",
       "      <td>1065.02</td>\n",
       "      <td>1</td>\n",
       "      <td>5</td>\n",
       "      <td>38</td>\n",
       "      <td>1</td>\n",
       "      <td>...</td>\n",
       "      <td>583.768705</td>\n",
       "      <td>0.171294</td>\n",
       "      <td>583.375577</td>\n",
       "      <td>-401.375577</td>\n",
       "      <td>-2.193309</td>\n",
       "      <td>937.113875</td>\n",
       "      <td>127.906125</td>\n",
       "      <td>0.119985</td>\n",
       "      <td>37.366545</td>\n",
       "      <td>-6.845420</td>\n",
       "    </tr>\n",
       "  </tbody>\n",
       "</table>\n",
       "<p>5 rows × 32 columns</p>\n",
       "</div>"
      ],
      "text/plain": [
       "   additional_fare  duration  meter_waiting  meter_waiting_fare  \\\n",
       "0             10.5     834.0           56.0              0.0000   \n",
       "1             10.5     791.0           47.0              0.0000   \n",
       "2             10.5    1087.0           80.0              0.0000   \n",
       "3             10.5     598.0          271.0             15.6638   \n",
       "4             10.5    3407.0          182.0              0.0000   \n",
       "\n",
       "   meter_waiting_till_pickup     fare  pickup_date  pickup_hour  \\\n",
       "0                       64.0   270.32            1            0   \n",
       "1                      134.0   197.85            1            0   \n",
       "2                       61.0   301.64            1            1   \n",
       "3                       68.0    82.30            1            2   \n",
       "4                      112.0  1065.02            1            5   \n",
       "\n",
       "   pickup_minute  drop_date  ...  predicted_duration_difference  \\\n",
       "0             20          1  ...                    -715.553335   \n",
       "1             56          1  ...                    -444.793042   \n",
       "2              8          1  ...                    -535.766120   \n",
       "3             27          1  ...                    -703.332872   \n",
       "4             38          1  ...                     583.768705   \n",
       "\n",
       "   predicted_duration_difference_per_duration  predicted_meter_waiting  \\\n",
       "0                                   -0.856950               406.333497   \n",
       "1                                   -0.561607               371.382428   \n",
       "2                                   -0.492432               436.040285   \n",
       "3                                   -1.174178               453.181017   \n",
       "4                                    0.171294               583.375577   \n",
       "\n",
       "   predicted_meter_waiting_difference  \\\n",
       "0                         -350.333497   \n",
       "1                         -324.382428   \n",
       "2                         -356.040285   \n",
       "3                         -182.181017   \n",
       "4                         -401.375577   \n",
       "\n",
       "   predicted_meter_waiting_difference_per_meter_waiting  predicted_fare  \\\n",
       "0                                          -6.146202         286.303176   \n",
       "1                                          -6.757967         222.587072   \n",
       "2                                          -4.395559         322.818016   \n",
       "3                                          -0.669783         189.009715   \n",
       "4                                          -2.193309         937.113875   \n",
       "\n",
       "   predicted_fare_difference  predicted_fare_difference_per_fare  \\\n",
       "0                 -15.983176                           -0.058909   \n",
       "1                 -24.737072                           -0.124401   \n",
       "2                 -21.178016                           -0.069978   \n",
       "3                -106.709715                           -1.281029   \n",
       "4                 127.906125                            0.119985   \n",
       "\n",
       "   predicted_fare_per_distance  predicted_fare_per_distance_difference  \n",
       "0                    47.150878                               -6.040103  \n",
       "1                    53.612447                               -8.963069  \n",
       "2                    44.207006                               -3.578173  \n",
       "3                   101.473312                                7.163358  \n",
       "4                    37.366545                               -6.845420  \n",
       "\n",
       "[5 rows x 32 columns]"
      ]
     },
     "execution_count": 17,
     "metadata": {},
     "output_type": "execute_result"
    }
   ],
   "source": [
    "train_df.head()"
   ]
  },
  {
   "cell_type": "code",
   "execution_count": 18,
   "metadata": {},
   "outputs": [],
   "source": [
    "train_df.to_csv('train_df_reg.csv',index=False)\n",
    "test_df.to_csv('test_df_reg.csv',index=False)"
   ]
  },
  {
   "cell_type": "code",
   "execution_count": null,
   "metadata": {},
   "outputs": [],
   "source": []
  }
 ],
 "metadata": {
  "kernelspec": {
   "display_name": "Python 3",
   "language": "python",
   "name": "python3"
  },
  "language_info": {
   "codemirror_mode": {
    "name": "ipython",
    "version": 3
   },
   "file_extension": ".py",
   "mimetype": "text/x-python",
   "name": "python",
   "nbconvert_exporter": "python",
   "pygments_lexer": "ipython3",
   "version": "3.7.4"
  }
 },
 "nbformat": 4,
 "nbformat_minor": 2
}
