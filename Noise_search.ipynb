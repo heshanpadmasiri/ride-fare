{
 "cells": [
  {
   "cell_type": "code",
   "execution_count": null,
   "metadata": {},
   "outputs": [],
   "source": [
    "import pandas as pd\n",
    "import numpy as np\n",
    "import matplotlib.pyplot as plt\n",
    "import seaborn as sns\n",
    "\n",
    "import datetime\n",
    "import geopy.distance\n",
    "from sklearn.model_selection import train_test_split\n",
    "from sklearn.metrics import f1_score\n",
    "\n",
    "from tqdm import tqdm\n",
    "\n",
    "from hyperopt import hp, tpe, Trials\n",
    "from hyperopt.fmin import fmin"
   ]
  },
  {
   "cell_type": "code",
   "execution_count": null,
   "metadata": {},
   "outputs": [],
   "source": [
    "train_df = pd.read_csv('train.csv')\n",
    "test_df = pd.read_csv('test.csv')\n",
    "submission_df = pd.read_csv('sample_submission.csv')"
   ]
  },
  {
   "cell_type": "code",
   "execution_count": null,
   "metadata": {},
   "outputs": [],
   "source": [
    "data = train_df.dropna().drop(['tripid'],axis=1)\n",
    "data.head()"
   ]
  },
  {
   "cell_type": "code",
   "execution_count": null,
   "metadata": {},
   "outputs": [],
   "source": [
    "y_hat = np.ones(train_df.shape[0])\n",
    "y = train_df['label'].values\n",
    "\n",
    "f1_score(y,y_hat,average='micro')"
   ]
  },
  {
   "cell_type": "code",
   "execution_count": null,
   "metadata": {},
   "outputs": [],
   "source": [
    "test_df.shape[0] * 0.4"
   ]
  },
  {
   "cell_type": "code",
   "execution_count": null,
   "metadata": {},
   "outputs": [],
   "source": [
    "data = data[data['drop_lat'] < 30]"
   ]
  },
  {
   "cell_type": "code",
   "execution_count": null,
   "metadata": {},
   "outputs": [],
   "source": [
    "data['fare'].plot()"
   ]
  },
  {
   "cell_type": "code",
   "execution_count": null,
   "metadata": {},
   "outputs": [],
   "source": [
    "data[data['label']=='correct']['fare'].plot()"
   ]
  },
  {
   "cell_type": "code",
   "execution_count": null,
   "metadata": {},
   "outputs": [],
   "source": [
    "data[data['label']=='correct']['fare'].describe()"
   ]
  },
  {
   "cell_type": "code",
   "execution_count": null,
   "metadata": {},
   "outputs": [],
   "source": [
    "data[data['label']=='incorrect']['fare'].plot()"
   ]
  },
  {
   "cell_type": "code",
   "execution_count": null,
   "metadata": {},
   "outputs": [],
   "source": [
    "data[data['label']=='incorrect']['fare'].describe()"
   ]
  },
  {
   "cell_type": "code",
   "execution_count": null,
   "metadata": {},
   "outputs": [],
   "source": [
    "def calculate_trip_distance(row):\n",
    "    coords_1 = (row['pick_lat'],row['pick_lon'])\n",
    "    coords_2 = (row['drop_lat'],row['drop_lon'])\n",
    "    return geopy.distance.geodesic(coords_1, coords_2).km"
   ]
  },
  {
   "cell_type": "code",
   "execution_count": null,
   "metadata": {},
   "outputs": [],
   "source": [
    "data['distance_km'] = data.apply(calculate_trip_distance,axis=1).clip(0,100)\n",
    "test_df['distance_km'] = test_df.apply(calculate_trip_distance,axis=1).clip(0,100)"
   ]
  },
  {
   "cell_type": "code",
   "execution_count": null,
   "metadata": {},
   "outputs": [],
   "source": [
    "sns.distplot(data[data['label']=='incorrect']['fare'], hist=False)"
   ]
  },
  {
   "cell_type": "code",
   "execution_count": null,
   "metadata": {},
   "outputs": [],
   "source": [
    "data['distance_km'] = data.apply(calculate_trip_distance,axis=1).clip(0,100)\n",
    "test_df['distance_km'] = test_df.apply(calculate_trip_distance,axis=1).clip(0,100)"
   ]
  },
  {
   "cell_type": "code",
   "execution_count": null,
   "metadata": {},
   "outputs": [],
   "source": [
    "sns.distplot(data[data['label']=='correct']['distance_km'], hist=False)"
   ]
  },
  {
   "cell_type": "code",
   "execution_count": null,
   "metadata": {},
   "outputs": [],
   "source": [
    "data[data['label']=='correct']['distance_km'].describe()"
   ]
  },
  {
   "cell_type": "code",
   "execution_count": null,
   "metadata": {},
   "outputs": [],
   "source": [
    "sns.distplot(data[data['label']=='incorrect']['distance_km'], hist=False)"
   ]
  },
  {
   "cell_type": "code",
   "execution_count": null,
   "metadata": {},
   "outputs": [],
   "source": [
    "data[data['label']=='incorrect']['distance_km'].describe()"
   ]
  },
  {
   "cell_type": "code",
   "execution_count": null,
   "metadata": {},
   "outputs": [],
   "source": [
    "data['fare_per_km'] = data['fare'] / (data['distance_km']+0.001)"
   ]
  },
  {
   "cell_type": "code",
   "execution_count": null,
   "metadata": {},
   "outputs": [],
   "source": [
    "sns.distplot(data[data['label']=='correct']['fare_per_km'], hist=False)"
   ]
  },
  {
   "cell_type": "code",
   "execution_count": null,
   "metadata": {},
   "outputs": [],
   "source": [
    "data[data['label']=='correct']['fare_per_km'].describe()"
   ]
  },
  {
   "cell_type": "code",
   "execution_count": null,
   "metadata": {},
   "outputs": [],
   "source": [
    "sns.distplot(data[data['label']=='incorrect']['fare_per_km'], hist=False)"
   ]
  },
  {
   "cell_type": "code",
   "execution_count": null,
   "metadata": {},
   "outputs": [],
   "source": [
    "data[data['label']=='incorrect']['fare_per_km'].describe()"
   ]
  },
  {
   "cell_type": "code",
   "execution_count": null,
   "metadata": {},
   "outputs": [],
   "source": [
    "def extract_time(feature='date'):\n",
    "    def f(time_stamp): \n",
    "        date,time = time_stamp.strip().split()\n",
    "        date = list(map(int, date.split('/')))\n",
    "        time = list(map(int, time.split(':')))\n",
    "        if feature == 'date':\n",
    "            return date[1]\n",
    "        if feature == 'month':\n",
    "            return date[0]\n",
    "        if feature == 'year':\n",
    "            return date[2]\n",
    "        if feature == 'hour':\n",
    "            return time[0]\n",
    "        if feature == 'minute':\n",
    "            return time[1]\n",
    "    return f\n",
    "        "
   ]
  },
  {
   "cell_type": "code",
   "execution_count": null,
   "metadata": {},
   "outputs": [],
   "source": [
    "data['pickup_month'] = data['pickup_time'].map(extract_time('month'))\n",
    "data['pickup_date'] = data['pickup_time'].map(extract_time('date'))\n",
    "data['pickup_year'] = data['pickup_time'].map(extract_time('year'))\n",
    "data['pickup_hour'] = data['pickup_time'].map(extract_time('hour'))\n",
    "data['pickup_minute'] = data['pickup_time'].map(extract_time('minute'))\n",
    "\n",
    "data['drop_month'] = data['drop_time'].map(extract_time('month'))\n",
    "data['drop_date'] = data['drop_time'].map(extract_time('date'))\n",
    "data['drop_year'] = data['drop_time'].map(extract_time('year'))\n",
    "data['drop_hour'] = data['drop_time'].map(extract_time('hour'))\n",
    "data['drop_minute'] = data['drop_time'].map(extract_time('minute'))"
   ]
  },
  {
   "cell_type": "code",
   "execution_count": null,
   "metadata": {},
   "outputs": [],
   "source": [
    "test_df['pickup_month'] = test_df['pickup_time'].map(extract_time('month'))\n",
    "test_df['pickup_date'] = test_df['pickup_time'].map(extract_time('date'))\n",
    "test_df['pickup_year'] = test_df['pickup_time'].map(extract_time('year'))\n",
    "test_df['pickup_hour'] = test_df['pickup_time'].map(extract_time('hour'))\n",
    "test_df['pickup_minute'] = test_df['pickup_time'].map(extract_time('minute'))\n",
    "\n",
    "test_df['drop_month'] = test_df['drop_time'].map(extract_time('month'))\n",
    "test_df['drop_date'] = test_df['drop_time'].map(extract_time('date'))\n",
    "test_df['drop_year'] = test_df['drop_time'].map(extract_time('year'))\n",
    "test_df['drop_hour'] = test_df['drop_time'].map(extract_time('hour'))\n",
    "test_df['drop_minute'] = test_df['drop_time'].map(extract_time('minute'))"
   ]
  },
  {
   "cell_type": "code",
   "execution_count": null,
   "metadata": {},
   "outputs": [],
   "source": [
    "train_df['pickup_month'] = train_df['pickup_time'].map(extract_time('month'))\n",
    "train_df['pickup_date'] = train_df['pickup_time'].map(extract_time('date'))\n",
    "train_df['pickup_year'] = train_df['pickup_time'].map(extract_time('year'))\n",
    "train_df['pickup_hour'] = train_df['pickup_time'].map(extract_time('hour'))\n",
    "train_df['pickup_minute'] = train_df['pickup_time'].map(extract_time('minute'))\n",
    "\n",
    "train_df['drop_month'] = train_df['drop_time'].map(extract_time('month'))\n",
    "train_df['drop_date'] = train_df['drop_time'].map(extract_time('date'))\n",
    "train_df['drop_year'] = train_df['drop_time'].map(extract_time('year'))\n",
    "train_df['drop_hour'] = train_df['drop_time'].map(extract_time('hour'))\n",
    "train_df['drop_minute'] = train_df['drop_time'].map(extract_time('minute'))"
   ]
  },
  {
   "cell_type": "code",
   "execution_count": null,
   "metadata": {},
   "outputs": [],
   "source": [
    "sns.countplot(x='pickup_month', data=data, hue='label')"
   ]
  },
  {
   "cell_type": "code",
   "execution_count": null,
   "metadata": {},
   "outputs": [],
   "source": [
    "sns.countplot(x='pickup_year', data=data, hue='label')"
   ]
  },
  {
   "cell_type": "code",
   "execution_count": null,
   "metadata": {},
   "outputs": [],
   "source": [
    "sns.countplot(x='pickup_date', data=data, hue='label')"
   ]
  },
  {
   "cell_type": "code",
   "execution_count": null,
   "metadata": {},
   "outputs": [],
   "source": [
    "sns.countplot(x='pickup_hour', data=data, hue='label')"
   ]
  },
  {
   "cell_type": "code",
   "execution_count": null,
   "metadata": {},
   "outputs": [],
   "source": [
    "sns.countplot(x='pickup_minute', data=data, hue='label')"
   ]
  },
  {
   "cell_type": "code",
   "execution_count": null,
   "metadata": {},
   "outputs": [],
   "source": [
    "data[data['label']=='correct'].describe()"
   ]
  },
  {
   "cell_type": "code",
   "execution_count": null,
   "metadata": {},
   "outputs": [],
   "source": [
    "data[data['label']=='incorrect'].describe()"
   ]
  },
  {
   "cell_type": "code",
   "execution_count": null,
   "metadata": {},
   "outputs": [],
   "source": [
    "train_df.shape"
   ]
  },
  {
   "cell_type": "code",
   "execution_count": null,
   "metadata": {},
   "outputs": [],
   "source": [
    "train_df['pickup_time'].value_counts()['12/6/2019 11:31']"
   ]
  },
  {
   "cell_type": "code",
   "execution_count": null,
   "metadata": {},
   "outputs": [],
   "source": [
    "train_df[train_df['pickup_time'] == '12/6/2019 11:31']"
   ]
  },
  {
   "cell_type": "code",
   "execution_count": null,
   "metadata": {},
   "outputs": [],
   "source": [
    "pickup_time_counts = train_df['pickup_time'].value_counts()"
   ]
  },
  {
   "cell_type": "code",
   "execution_count": null,
   "metadata": {},
   "outputs": [],
   "source": [
    "train_df['pickup_time_count'] = train_df['pickup_time'].apply(lambda x: pickup_time_counts[x])"
   ]
  },
  {
   "cell_type": "code",
   "execution_count": null,
   "metadata": {},
   "outputs": [],
   "source": [
    "sns.countplot(x='pickup_time_count', data=train_df, hue='label')"
   ]
  },
  {
   "cell_type": "code",
   "execution_count": null,
   "metadata": {},
   "outputs": [],
   "source": [
    "train_df[train_df['label'] == 'incorrect'].shape"
   ]
  },
  {
   "cell_type": "code",
   "execution_count": null,
   "metadata": {},
   "outputs": [],
   "source": [
    "train_df[train_df['label'] == 'incorrect'].shape[0] / train_df.shape[0]"
   ]
  },
  {
   "cell_type": "code",
   "execution_count": null,
   "metadata": {},
   "outputs": [],
   "source": [
    "data[data['label'] == 'incorrect'].shape[0] / data.shape[0]"
   ]
  },
  {
   "cell_type": "code",
   "execution_count": null,
   "metadata": {},
   "outputs": [],
   "source": [
    "train_df[train_df['pickup_year'] == 2020]['pickup_month'].unique()"
   ]
  },
  {
   "cell_type": "code",
   "execution_count": null,
   "metadata": {},
   "outputs": [],
   "source": [
    "test_df[test_df['pickup_year'] == 2020]['pickup_month'].unique()"
   ]
  },
  {
   "cell_type": "code",
   "execution_count": null,
   "metadata": {},
   "outputs": [],
   "source": [
    "tmp = train_df.copy()"
   ]
  },
  {
   "cell_type": "code",
   "execution_count": null,
   "metadata": {},
   "outputs": [],
   "source": [
    "tmp['label'] = 1"
   ]
  },
  {
   "cell_type": "code",
   "execution_count": null,
   "metadata": {},
   "outputs": [],
   "source": [
    "tmp_1 ,tmp_2 = train_test_split(tmp,test_size=0.1,random_state=42)"
   ]
  },
  {
   "cell_type": "code",
   "execution_count": null,
   "metadata": {},
   "outputs": [],
   "source": [
    "tmp_2['label'] = 0"
   ]
  },
  {
   "cell_type": "code",
   "execution_count": null,
   "metadata": {},
   "outputs": [],
   "source": [
    "tmp_new = tmp_1.append(tmp_2)"
   ]
  },
  {
   "cell_type": "code",
   "execution_count": null,
   "metadata": {},
   "outputs": [],
   "source": [
    "sns.countplot(x='pickup_month', data=tmp_new, hue='label')"
   ]
  },
  {
   "cell_type": "code",
   "execution_count": null,
   "metadata": {},
   "outputs": [],
   "source": [
    "sns.countplot(x='pickup_year', data=tmp_new, hue='label')"
   ]
  },
  {
   "cell_type": "code",
   "execution_count": null,
   "metadata": {},
   "outputs": [],
   "source": [
    "sns.countplot(x='pickup_date', data=tmp_new, hue='label')"
   ]
  },
  {
   "cell_type": "code",
   "execution_count": null,
   "metadata": {},
   "outputs": [],
   "source": [
    "def encode_label(label):\n",
    "    if label == 'correct':\n",
    "        return 1\n",
    "    elif label == 'incorrect':\n",
    "        return 0\n",
    "    else:\n",
    "        return label"
   ]
  },
  {
   "cell_type": "code",
   "execution_count": null,
   "metadata": {},
   "outputs": [],
   "source": [
    "train_df['label'] = train_df['label'].map(encode_label)"
   ]
  },
  {
   "cell_type": "code",
   "execution_count": null,
   "metadata": {},
   "outputs": [],
   "source": [
    "def random_split(seed=0,test_size=0.1):\n",
    "    tmp = train_df.copy()\n",
    "    tmp['label'] = 1\n",
    "    tmp_1 ,tmp_2 = train_test_split(tmp,test_size=test_size,random_state=seed)\n",
    "    tmp_2['label'] = 0\n",
    "    tmp_new = tmp_1.append(tmp_2)\n",
    "#     tmp_new.sort_values(by='tripid', inplace=True)\n",
    "#     return f1_score(train_df['label'], tmp_new['label'], average='macro')\n",
    "    return tmp_new"
   ]
  },
  {
   "cell_type": "code",
   "execution_count": null,
   "metadata": {},
   "outputs": [],
   "source": [
    "def f(params):\n",
    "    seed = int(params['seed'])\n",
    "    test_size = params['test_size']\n",
    "    tmp_new = random_split(seed, test_size)\n",
    "    tmp_new.sort_values(by='tripid', inplace=True)\n",
    "    value = f1_score(train_df['label'], tmp_new['label'], average='macro')\n",
    "    return value * -1"
   ]
  },
  {
   "cell_type": "code",
   "execution_count": null,
   "metadata": {},
   "outputs": [],
   "source": [
    "space = {\n",
    "    'seed': hp.quniform('seed', 0, 1_000, 1),\n",
    "    'test_size': hp.uniform('test_size', 0.08, 0.1),\n",
    "}"
   ]
  },
  {
   "cell_type": "code",
   "execution_count": null,
   "metadata": {},
   "outputs": [],
   "source": [
    "fmin(fn=f,space=space,algo=tpe.suggest,max_evals=100_000,verbose= 1)"
   ]
  },
  {
   "cell_type": "code",
   "execution_count": null,
   "metadata": {},
   "outputs": [],
   "source": [
    "values = []\n",
    "for i in tqdm(range(1_000_000)):\n",
    "    tmp_new = random_split(i)\n",
    "    tmp_new.sort_values(by='tripid', inplace=True)\n",
    "    value = f1_score(train_df['label'], tmp_new['label'], average='macro')\n",
    "    values.append(value)\n",
    "    "
   ]
  },
  {
   "cell_type": "code",
   "execution_count": null,
   "metadata": {},
   "outputs": [],
   "source": [
    "1-(train_df.label.sum()/ train_df.shape[0])"
   ]
  },
  {
   "cell_type": "code",
   "execution_count": null,
   "metadata": {},
   "outputs": [],
   "source": [
    "values = []\n",
    "test_sizes = [0.1,0.09,0.099,0.098,0.097,0.095]\n",
    "best_score = 0\n",
    "best_conf = {}\n",
    "for test_size in tqdm(test_sizes):\n",
    "    for seed in range(1_000):\n",
    "        tmp_new = random_split(seed, test_size)\n",
    "        tmp_new.sort_values(by='tripid', inplace=True)\n",
    "        value = f1_score(train_df['label'], tmp_new['label'], average='macro')\n",
    "        if value > best_score:\n",
    "            best_score = value\n",
    "            best_conf['test_size'] = test_size\n",
    "            best_conf['seed'] = seed\n",
    "        values.append(value)\n"
   ]
  },
  {
   "cell_type": "code",
   "execution_count": null,
   "metadata": {},
   "outputs": [],
   "source": [
    "best_score"
   ]
  },
  {
   "cell_type": "code",
   "execution_count": null,
   "metadata": {},
   "outputs": [],
   "source": [
    "np.std(values)"
   ]
  },
  {
   "cell_type": "code",
   "execution_count": null,
   "metadata": {},
   "outputs": [],
   "source": [
    "np.argmax(values)"
   ]
  },
  {
   "cell_type": "code",
   "execution_count": null,
   "metadata": {},
   "outputs": [],
   "source": [
    "y_hat = np.array([1,0])\n",
    "y = np.array([0,1])"
   ]
  },
  {
   "cell_type": "code",
   "execution_count": null,
   "metadata": {},
   "outputs": [],
   "source": [
    "total = int(submission_df.shape[0] * 0.4)\n",
    "y_hat = np.ones(total)\n",
    "def get_y(zeros):\n",
    "    return [0] * zeros + [1] * (total-zeros)"
   ]
  },
  {
   "cell_type": "code",
   "execution_count": null,
   "metadata": {},
   "outputs": [],
   "source": [
    "target_score = 0.88035\n",
    "i_s = []\n",
    "for i in tqdm(range(total+1)):\n",
    "    score = f1_score(get_y(i), y_hat, average='micro')\n",
    "    if abs(score-target_score) < 0.001:\n",
    "        i_s.append((i,score))"
   ]
  },
  {
   "cell_type": "code",
   "execution_count": null,
   "metadata": {},
   "outputs": [],
   "source": [
    "i_s"
   ]
  },
  {
   "cell_type": "code",
   "execution_count": null,
   "metadata": {},
   "outputs": [],
   "source": [
    "(total - 413)/ total, (total - 407)/ total"
   ]
  },
  {
   "cell_type": "code",
   "execution_count": null,
   "metadata": {},
   "outputs": [],
   "source": []
  }
 ],
 "metadata": {
  "kernelspec": {
   "display_name": "Python 3",
   "language": "python",
   "name": "python3"
  },
  "language_info": {
   "codemirror_mode": {
    "name": "ipython",
    "version": 3
   },
   "file_extension": ".py",
   "mimetype": "text/x-python",
   "name": "python",
   "nbconvert_exporter": "python",
   "pygments_lexer": "ipython3",
   "version": "3.7.4"
  }
 },
 "nbformat": 4,
 "nbformat_minor": 2
}
