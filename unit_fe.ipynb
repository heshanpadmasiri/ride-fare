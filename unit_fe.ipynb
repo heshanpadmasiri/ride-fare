{
 "cells": [
  {
   "cell_type": "code",
   "execution_count": 276,
   "metadata": {},
   "outputs": [],
   "source": [
    "import itertools\n",
    "\n",
    "import pandas as pd\n",
    "import numpy as np\n",
    "import matplotlib.pyplot as plt\n",
    "import seaborn as sns\n",
    "\n",
    "from sklearn.model_selection import KFold,StratifiedKFold\n",
    "from sklearn.linear_model import LinearRegression,LogisticRegression\n",
    "from sklearn.svm import SVR, SVC\n",
    "from sklearn.ensemble import RandomForestRegressor,ExtraTreesClassifier,RandomForestClassifier\n",
    "from sklearn.preprocessing import StandardScaler,KBinsDiscretizer,LabelEncoder,MinMaxScaler\n",
    "from sklearn.metrics import mean_squared_error,f1_score,confusion_matrix,log_loss\n",
    "from sklearn.kernel_approximation import Nystroem\n",
    "from sklearn.neighbors import KNeighborsClassifier\n",
    "from sklearn.decomposition import PCA,NMF\n",
    "\n",
    "from catboost import Pool, cv,CatBoostClassifier,CatBoostRegressor\n",
    "\n",
    "import tensorflow as tf\n",
    "from tensorflow.keras.layers import Input, Dense, concatenate,Dropout\n",
    "from tensorflow.keras.models import Model, Sequential\n",
    "from tensorflow.keras import regularizers\n",
    "import tensorflow_addons as tfa\n",
    "\n",
    "from tqdm import tqdm\n",
    "\n",
    "import lightgbm as lgb\n",
    "\n",
    "import xgboost as xgb\n",
    "from xgboost import XGBClassifier,XGBRegressor,DMatrix,plot_tree\n",
    "\n",
    "from imblearn.over_sampling import RandomOverSampler,SMOTE, ADASYN"
   ]
  },
  {
   "cell_type": "code",
   "execution_count": 277,
   "metadata": {},
   "outputs": [],
   "source": [
    "train_df = pd.read_csv('train_df_final.csv')\n",
    "train_df = train_df.fillna(0)\n",
    "train_df_org = pd.read_csv('train_df_final_blanced.csv')\n",
    "train_df_org = train_df_org.fillna(0)\n",
    "test_df = pd.read_csv('test_df_final.csv')\n",
    "test_df = test_df.fillna(0)\n",
    "submission_df = pd.read_csv('sample_submission.csv')"
   ]
  },
  {
   "cell_type": "code",
   "execution_count": 278,
   "metadata": {},
   "outputs": [],
   "source": [
    "y = train_df['label'].values\n",
    "y_org = train_df_org['label'].values"
   ]
  },
  {
   "cell_type": "code",
   "execution_count": 279,
   "metadata": {},
   "outputs": [],
   "source": [
    "features = [\n",
    "    'fare_per_distance',\n",
    "    'fare_per_duration',\n",
    "    'avg_speed',\n",
    "    'meter_waiting_per_duration',\n",
    "    'meter_waiting_fare_per_meter_waiting',\n",
    "    'meter_waiting_fare_per_duration',\n",
    "    'addtional_fare_per_fare',\n",
    "    'addtional_fare_per_distance',\n",
    "    'addtional_fare_per_duration',\n",
    "    'fare-additional_fare_per_distance',\n",
    "    'fare-additional_fare_per_duration',\n",
    "    'fare-additional_fare-meter_waiting_fare_per_distance',\n",
    "    'fare-additional_fare-meter_waiting_fare_per_duration',\n",
    "    'meter_waiting_till_pickup_per_meter_waiting',\n",
    "    'meter_waiting_after_pickup_per_duration',\n",
    "    'meter_waiting_till_pickup_per_duration',\n",
    "    'meter_waiting_till_pickup_per_distance',\n",
    "    'meter_waiting_after_pickup_per_distance',\n",
    "    'meter_waiting_till_pickup_per_fare',\n",
    "    'meter_waiting_after_pickup_per_fare',\n",
    "    'meter_waiting_till_pickup_per_meter_waiting_fare',\n",
    "    'meter_waiting_after_pickup_per_meter_waiting_fare',    \n",
    "]\n",
    "\n",
    "cat_features = []"
   ]
  },
  {
   "cell_type": "code",
   "execution_count": 280,
   "metadata": {},
   "outputs": [],
   "source": [
    "train = train_df[features]\n",
    "test = test_df[features]\n",
    "train_org = train_df_org[features]\n",
    "y = train_df['label']\n",
    "for each in cat_features:\n",
    "    train[each] = train[each].values.astype(int)\n",
    "    test[each] = test[each].values.astype(int)\n",
    "    train_org[each] = train_org[each].values.astype(int)"
   ]
  },
  {
   "cell_type": "code",
   "execution_count": 281,
   "metadata": {},
   "outputs": [],
   "source": [
    "catboost_params = {\n",
    "    'loss_function':'Logloss',\n",
    "    'random_state':0,\n",
    "    'early_stopping_rounds':50,\n",
    "    'eval_metric':'F1',\n",
    "    'border_count':512\n",
    "}"
   ]
  },
  {
   "cell_type": "code",
   "execution_count": 282,
   "metadata": {},
   "outputs": [],
   "source": [
    "submission_pool = Pool(data=test_df[features], cat_features=cat_features)\n",
    "org_pool = Pool(data=train_org[features], cat_features=cat_features)"
   ]
  },
  {
   "cell_type": "code",
   "execution_count": 283,
   "metadata": {},
   "outputs": [
    {
     "name": "stdout",
     "output_type": "stream",
     "text": [
      "Learning rate set to 0.057693\n",
      "0:\tlearn: 0.9637438\ttest: 0.9634802\tbest: 0.9634802 (0)\ttotal: 23.4ms\tremaining: 23.4s\n",
      "10:\tlearn: 0.9706593\ttest: 0.9747052\tbest: 0.9749786 (9)\ttotal: 190ms\tremaining: 17.1s\n",
      "20:\tlearn: 0.9737268\ttest: 0.9762337\tbest: 0.9763359 (19)\ttotal: 317ms\tremaining: 14.8s\n",
      "30:\tlearn: 0.9750238\ttest: 0.9774249\tbest: 0.9774249 (30)\ttotal: 453ms\tremaining: 14.2s\n",
      "40:\tlearn: 0.9757680\ttest: 0.9782713\tbest: 0.9783691 (39)\ttotal: 578ms\tremaining: 13.5s\n",
      "50:\tlearn: 0.9766909\ttest: 0.9786337\tbest: 0.9787397 (46)\ttotal: 701ms\tremaining: 13s\n",
      "60:\tlearn: 0.9773466\ttest: 0.9784297\tbest: 0.9787397 (46)\ttotal: 848ms\tremaining: 13.1s\n",
      "70:\tlearn: 0.9778670\ttest: 0.9786214\tbest: 0.9787397 (46)\ttotal: 982ms\tremaining: 12.8s\n",
      "80:\tlearn: 0.9782390\ttest: 0.9787152\tbest: 0.9789110 (77)\ttotal: 1.12s\tremaining: 12.7s\n",
      "90:\tlearn: 0.9785625\ttest: 0.9787071\tbest: 0.9790049 (82)\ttotal: 1.24s\tremaining: 12.4s\n",
      "100:\tlearn: 0.9789821\ttest: 0.9782171\tbest: 0.9790049 (82)\ttotal: 1.4s\tremaining: 12.5s\n",
      "110:\tlearn: 0.9795977\ttest: 0.9780209\tbest: 0.9790049 (82)\ttotal: 1.54s\tremaining: 12.3s\n",
      "120:\tlearn: 0.9801121\ttest: 0.9780083\tbest: 0.9790049 (82)\ttotal: 1.66s\tremaining: 12.1s\n",
      "130:\tlearn: 0.9806365\ttest: 0.9780083\tbest: 0.9790049 (82)\ttotal: 1.76s\tremaining: 11.7s\n",
      "Stopped by overfitting detector  (50 iterations wait)\n",
      "\n",
      "bestTest = 0.9790048893\n",
      "bestIteration = 82\n",
      "\n",
      "Shrink model to first 83 iterations.\n",
      "Learning rate set to 0.057693\n",
      "0:\tlearn: 0.9666745\ttest: 0.9683574\tbest: 0.9683574 (0)\ttotal: 48.7ms\tremaining: 48.6s\n",
      "10:\tlearn: 0.9723395\ttest: 0.9732712\tbest: 0.9732712 (10)\ttotal: 244ms\tremaining: 21.9s\n",
      "20:\tlearn: 0.9738130\ttest: 0.9740903\tbest: 0.9743736 (19)\ttotal: 401ms\tremaining: 18.7s\n",
      "30:\tlearn: 0.9745811\ttest: 0.9745448\tbest: 0.9745545 (24)\ttotal: 501ms\tremaining: 15.7s\n",
      "40:\tlearn: 0.9757446\ttest: 0.9753864\tbest: 0.9753864 (40)\ttotal: 654ms\tremaining: 15.3s\n",
      "50:\tlearn: 0.9762495\ttest: 0.9763178\tbest: 0.9764155 (48)\ttotal: 760ms\tremaining: 14.1s\n",
      "60:\tlearn: 0.9772282\ttest: 0.9767709\tbest: 0.9769797 (53)\ttotal: 874ms\tremaining: 13.5s\n",
      "70:\tlearn: 0.9781134\ttest: 0.9772379\tbest: 0.9772379 (70)\ttotal: 985ms\tremaining: 12.9s\n",
      "80:\tlearn: 0.9785769\ttest: 0.9771226\tbest: 0.9772379 (70)\ttotal: 1.11s\tremaining: 12.6s\n",
      "90:\tlearn: 0.9791856\ttest: 0.9772074\tbest: 0.9774076 (85)\ttotal: 1.24s\tremaining: 12.4s\n",
      "100:\tlearn: 0.9795567\ttest: 0.9774883\tbest: 0.9775905 (93)\ttotal: 1.35s\tremaining: 12.1s\n",
      "110:\tlearn: 0.9800747\ttest: 0.9770963\tbest: 0.9775905 (93)\ttotal: 1.49s\tremaining: 11.9s\n",
      "120:\tlearn: 0.9805500\ttest: 0.9773860\tbest: 0.9775905 (93)\ttotal: 1.6s\tremaining: 11.6s\n",
      "130:\tlearn: 0.9809766\ttest: 0.9775690\tbest: 0.9776627 (129)\ttotal: 1.7s\tremaining: 11.3s\n",
      "140:\tlearn: 0.9810199\ttest: 0.9774753\tbest: 0.9778545 (131)\ttotal: 1.86s\tremaining: 11.3s\n",
      "150:\tlearn: 0.9813021\ttest: 0.9777565\tbest: 0.9778545 (131)\ttotal: 1.98s\tremaining: 11.2s\n",
      "160:\tlearn: 0.9816333\ttest: 0.9775604\tbest: 0.9778545 (131)\ttotal: 2.12s\tremaining: 11s\n",
      "170:\tlearn: 0.9820641\ttest: 0.9776456\tbest: 0.9778545 (131)\ttotal: 2.23s\tremaining: 10.8s\n",
      "180:\tlearn: 0.9822491\ttest: 0.9776456\tbest: 0.9779355 (178)\ttotal: 2.34s\tremaining: 10.6s\n",
      "190:\tlearn: 0.9826329\ttest: 0.9780209\tbest: 0.9780209 (190)\ttotal: 2.48s\tremaining: 10.5s\n",
      "200:\tlearn: 0.9830118\ttest: 0.9778375\tbest: 0.9780209 (190)\ttotal: 2.6s\tremaining: 10.3s\n",
      "210:\tlearn: 0.9832022\ttest: 0.9777437\tbest: 0.9780209 (190)\ttotal: 2.73s\tremaining: 10.2s\n",
      "220:\tlearn: 0.9834381\ttest: 0.9779313\tbest: 0.9780209 (190)\ttotal: 2.85s\tremaining: 10s\n",
      "230:\tlearn: 0.9837231\ttest: 0.9777351\tbest: 0.9780251 (222)\ttotal: 2.95s\tremaining: 9.81s\n",
      "240:\tlearn: 0.9840081\ttest: 0.9776370\tbest: 0.9780251 (222)\ttotal: 3.04s\tremaining: 9.59s\n",
      "250:\tlearn: 0.9843435\ttest: 0.9778205\tbest: 0.9780251 (222)\ttotal: 3.16s\tremaining: 9.44s\n",
      "260:\tlearn: 0.9846760\ttest: 0.9777223\tbest: 0.9780251 (222)\ttotal: 3.27s\tremaining: 9.25s\n",
      "270:\tlearn: 0.9848165\ttest: 0.9775259\tbest: 0.9780251 (222)\ttotal: 3.39s\tremaining: 9.11s\n",
      "Stopped by overfitting detector  (50 iterations wait)\n",
      "\n",
      "bestTest = 0.9780251415\n",
      "bestIteration = 222\n",
      "\n",
      "Shrink model to first 223 iterations.\n",
      "Learning rate set to 0.057694\n",
      "0:\tlearn: 0.9683532\ttest: 0.9620349\tbest: 0.9620349 (0)\ttotal: 20ms\tremaining: 19.9s\n",
      "10:\tlearn: 0.9755215\ttest: 0.9679433\tbest: 0.9679433 (10)\ttotal: 134ms\tremaining: 12s\n",
      "20:\tlearn: 0.9770482\ttest: 0.9688417\tbest: 0.9688417 (20)\ttotal: 254ms\tremaining: 11.8s\n",
      "30:\tlearn: 0.9778478\ttest: 0.9695821\tbest: 0.9695821 (30)\ttotal: 362ms\tremaining: 11.3s\n",
      "40:\tlearn: 0.9787763\ttest: 0.9698349\tbest: 0.9698407 (38)\ttotal: 549ms\tremaining: 12.8s\n",
      "50:\tlearn: 0.9791467\ttest: 0.9701053\tbest: 0.9702895 (49)\ttotal: 688ms\tremaining: 12.8s\n",
      "60:\tlearn: 0.9799435\ttest: 0.9702613\tbest: 0.9702895 (49)\ttotal: 793ms\tremaining: 12.2s\n",
      "70:\tlearn: 0.9800316\ttest: 0.9704457\tbest: 0.9704513 (68)\ttotal: 961ms\tremaining: 12.6s\n",
      "80:\tlearn: 0.9806439\ttest: 0.9708036\tbest: 0.9709938 (79)\ttotal: 1.11s\tremaining: 12.6s\n",
      "90:\tlearn: 0.9808319\ttest: 0.9709883\tbest: 0.9712709 (86)\ttotal: 1.23s\tremaining: 12.3s\n",
      "100:\tlearn: 0.9812099\ttest: 0.9716353\tbest: 0.9716353 (100)\ttotal: 1.41s\tremaining: 12.6s\n",
      "110:\tlearn: 0.9819193\ttest: 0.9716190\tbest: 0.9719074 (104)\ttotal: 1.56s\tremaining: 12.5s\n",
      "120:\tlearn: 0.9822491\ttest: 0.9719893\tbest: 0.9719947 (116)\ttotal: 1.68s\tremaining: 12.2s\n",
      "130:\tlearn: 0.9825302\ttest: 0.9722619\tbest: 0.9722619 (130)\ttotal: 1.85s\tremaining: 12.3s\n",
      "140:\tlearn: 0.9826750\ttest: 0.9724473\tbest: 0.9724473 (136)\ttotal: 2s\tremaining: 12.2s\n",
      "150:\tlearn: 0.9827222\ttest: 0.9723599\tbest: 0.9725453 (141)\ttotal: 2.11s\tremaining: 11.8s\n",
      "160:\tlearn: 0.9831501\ttest: 0.9724526\tbest: 0.9725453 (141)\ttotal: 2.21s\tremaining: 11.5s\n",
      "170:\tlearn: 0.9834838\ttest: 0.9724421\tbest: 0.9725453 (141)\ttotal: 2.39s\tremaining: 11.6s\n",
      "180:\tlearn: 0.9836727\ttest: 0.9723441\tbest: 0.9726328 (175)\ttotal: 2.54s\tremaining: 11.5s\n",
      "190:\tlearn: 0.9838144\ttest: 0.9721480\tbest: 0.9726328 (175)\ttotal: 2.67s\tremaining: 11.3s\n",
      "200:\tlearn: 0.9839074\ttest: 0.9720553\tbest: 0.9726328 (175)\ttotal: 2.82s\tremaining: 11.2s\n",
      "210:\tlearn: 0.9843878\ttest: 0.9716684\tbest: 0.9726328 (175)\ttotal: 2.95s\tremaining: 11s\n",
      "220:\tlearn: 0.9851005\ttest: 0.9719519\tbest: 0.9726328 (175)\ttotal: 3.06s\tremaining: 10.8s\n",
      "Stopped by overfitting detector  (50 iterations wait)\n",
      "\n",
      "bestTest = 0.9726327834\n",
      "bestIteration = 175\n",
      "\n",
      "Shrink model to first 176 iterations.\n"
     ]
    }
   ],
   "source": [
    "train_preds = np.zeros(train_df.shape[0])\n",
    "test_preds = np.zeros(test_df.shape[0])\n",
    "train_class = np.zeros(train_df.shape[0])\n",
    "test_class = np.zeros(test_df.shape[0])\n",
    "skf = StratifiedKFold(n_splits=3)\n",
    "validation_scores = []\n",
    "org_scores = []\n",
    "models = []\n",
    "for train_index, test_index in skf.split(train, y):\n",
    "    X_train, X_test = train.iloc[train_index,:], train.iloc[test_index,:]\n",
    "    y_train, y_test = y[train_index], y[test_index]\n",
    "    train_pool = Pool(data=X_train, label=y_train,cat_features=cat_features)\n",
    "    test_pool = Pool(data=X_test, label=y_test, cat_features=cat_features)    \n",
    "    model = CatBoostClassifier(**catboost_params)\n",
    "    model.fit(X=train_pool, eval_set=test_pool,verbose=10)\n",
    "    train_preds[test_index] = model.predict_proba(test_pool)[:,1]\n",
    "    train_class[test_index] = model.predict(test_pool)\n",
    "    test_preds += model.predict_proba(submission_pool)[:,1]/3\n",
    "    test_class += model.predict(submission_pool)\n",
    "    validation_scores.append(f1_score(y_test,model.predict(test_pool),average='micro'))\n",
    "    org_scores.append(f1_score(y_org,model.predict(org_pool),average='micro'))\n",
    "    models.append(model)\n",
    "test_class = np.where(test_class > 2, 1, 0)"
   ]
  },
  {
   "cell_type": "code",
   "execution_count": 284,
   "metadata": {},
   "outputs": [
    {
     "data": {
      "text/plain": [
       "(0.9566801773015498, 0.0053043619760975045, 0.9492484526967285)"
      ]
     },
     "execution_count": 284,
     "metadata": {},
     "output_type": "execute_result"
    }
   ],
   "source": [
    "np.mean(validation_scores), np.std(validation_scores), min(validation_scores)"
   ]
  },
  {
   "cell_type": "code",
   "execution_count": 285,
   "metadata": {},
   "outputs": [
    {
     "data": {
      "text/plain": [
       "(0.9557308157273616, 0.0029790683398620158, 0.9523343503540382)"
      ]
     },
     "execution_count": 285,
     "metadata": {},
     "output_type": "execute_result"
    }
   ],
   "source": [
    "np.mean(org_scores), np.std(org_scores), min(org_scores)"
   ]
  },
  {
   "cell_type": "code",
   "execution_count": 286,
   "metadata": {},
   "outputs": [
    {
     "data": {
      "text/html": [
       "<div>\n",
       "<style scoped>\n",
       "    .dataframe tbody tr th:only-of-type {\n",
       "        vertical-align: middle;\n",
       "    }\n",
       "\n",
       "    .dataframe tbody tr th {\n",
       "        vertical-align: top;\n",
       "    }\n",
       "\n",
       "    .dataframe thead th {\n",
       "        text-align: right;\n",
       "    }\n",
       "</style>\n",
       "<table border=\"1\" class=\"dataframe\">\n",
       "  <thead>\n",
       "    <tr style=\"text-align: right;\">\n",
       "      <th></th>\n",
       "      <th>Feature Id</th>\n",
       "      <th>Importances</th>\n",
       "    </tr>\n",
       "  </thead>\n",
       "  <tbody>\n",
       "    <tr>\n",
       "      <td>0</td>\n",
       "      <td>fare_per_duration</td>\n",
       "      <td>12.739150</td>\n",
       "    </tr>\n",
       "    <tr>\n",
       "      <td>1</td>\n",
       "      <td>fare_per_distance</td>\n",
       "      <td>11.010050</td>\n",
       "    </tr>\n",
       "    <tr>\n",
       "      <td>2</td>\n",
       "      <td>fare-additional_fare_per_distance</td>\n",
       "      <td>10.463529</td>\n",
       "    </tr>\n",
       "    <tr>\n",
       "      <td>3</td>\n",
       "      <td>fare-additional_fare_per_duration</td>\n",
       "      <td>10.081825</td>\n",
       "    </tr>\n",
       "    <tr>\n",
       "      <td>4</td>\n",
       "      <td>fare-additional_fare-meter_waiting_fare_per_du...</td>\n",
       "      <td>8.632382</td>\n",
       "    </tr>\n",
       "    <tr>\n",
       "      <td>5</td>\n",
       "      <td>fare-additional_fare-meter_waiting_fare_per_di...</td>\n",
       "      <td>7.469266</td>\n",
       "    </tr>\n",
       "    <tr>\n",
       "      <td>6</td>\n",
       "      <td>meter_waiting_per_duration</td>\n",
       "      <td>6.240614</td>\n",
       "    </tr>\n",
       "    <tr>\n",
       "      <td>7</td>\n",
       "      <td>addtional_fare_per_fare</td>\n",
       "      <td>4.155153</td>\n",
       "    </tr>\n",
       "    <tr>\n",
       "      <td>8</td>\n",
       "      <td>meter_waiting_till_pickup_per_meter_waiting</td>\n",
       "      <td>3.225367</td>\n",
       "    </tr>\n",
       "    <tr>\n",
       "      <td>9</td>\n",
       "      <td>avg_speed</td>\n",
       "      <td>3.210664</td>\n",
       "    </tr>\n",
       "    <tr>\n",
       "      <td>10</td>\n",
       "      <td>meter_waiting_fare_per_meter_waiting</td>\n",
       "      <td>3.144777</td>\n",
       "    </tr>\n",
       "    <tr>\n",
       "      <td>11</td>\n",
       "      <td>addtional_fare_per_duration</td>\n",
       "      <td>2.964994</td>\n",
       "    </tr>\n",
       "    <tr>\n",
       "      <td>12</td>\n",
       "      <td>addtional_fare_per_distance</td>\n",
       "      <td>2.643623</td>\n",
       "    </tr>\n",
       "    <tr>\n",
       "      <td>13</td>\n",
       "      <td>meter_waiting_till_pickup_per_meter_waiting_fare</td>\n",
       "      <td>2.585851</td>\n",
       "    </tr>\n",
       "    <tr>\n",
       "      <td>14</td>\n",
       "      <td>meter_waiting_till_pickup_per_duration</td>\n",
       "      <td>2.569637</td>\n",
       "    </tr>\n",
       "    <tr>\n",
       "      <td>15</td>\n",
       "      <td>meter_waiting_after_pickup_per_meter_waiting_fare</td>\n",
       "      <td>2.457290</td>\n",
       "    </tr>\n",
       "    <tr>\n",
       "      <td>16</td>\n",
       "      <td>meter_waiting_fare_per_duration</td>\n",
       "      <td>1.961187</td>\n",
       "    </tr>\n",
       "    <tr>\n",
       "      <td>17</td>\n",
       "      <td>meter_waiting_till_pickup_per_distance</td>\n",
       "      <td>1.682304</td>\n",
       "    </tr>\n",
       "    <tr>\n",
       "      <td>18</td>\n",
       "      <td>meter_waiting_after_pickup_per_duration</td>\n",
       "      <td>1.664802</td>\n",
       "    </tr>\n",
       "    <tr>\n",
       "      <td>19</td>\n",
       "      <td>meter_waiting_after_pickup_per_distance</td>\n",
       "      <td>0.651400</td>\n",
       "    </tr>\n",
       "    <tr>\n",
       "      <td>20</td>\n",
       "      <td>meter_waiting_after_pickup_per_fare</td>\n",
       "      <td>0.325878</td>\n",
       "    </tr>\n",
       "    <tr>\n",
       "      <td>21</td>\n",
       "      <td>meter_waiting_till_pickup_per_fare</td>\n",
       "      <td>0.120257</td>\n",
       "    </tr>\n",
       "  </tbody>\n",
       "</table>\n",
       "</div>"
      ],
      "text/plain": [
       "                                           Feature Id  Importances\n",
       "0                                   fare_per_duration    12.739150\n",
       "1                                   fare_per_distance    11.010050\n",
       "2                   fare-additional_fare_per_distance    10.463529\n",
       "3                   fare-additional_fare_per_duration    10.081825\n",
       "4   fare-additional_fare-meter_waiting_fare_per_du...     8.632382\n",
       "5   fare-additional_fare-meter_waiting_fare_per_di...     7.469266\n",
       "6                          meter_waiting_per_duration     6.240614\n",
       "7                             addtional_fare_per_fare     4.155153\n",
       "8         meter_waiting_till_pickup_per_meter_waiting     3.225367\n",
       "9                                           avg_speed     3.210664\n",
       "10               meter_waiting_fare_per_meter_waiting     3.144777\n",
       "11                        addtional_fare_per_duration     2.964994\n",
       "12                        addtional_fare_per_distance     2.643623\n",
       "13   meter_waiting_till_pickup_per_meter_waiting_fare     2.585851\n",
       "14             meter_waiting_till_pickup_per_duration     2.569637\n",
       "15  meter_waiting_after_pickup_per_meter_waiting_fare     2.457290\n",
       "16                    meter_waiting_fare_per_duration     1.961187\n",
       "17             meter_waiting_till_pickup_per_distance     1.682304\n",
       "18            meter_waiting_after_pickup_per_duration     1.664802\n",
       "19            meter_waiting_after_pickup_per_distance     0.651400\n",
       "20                meter_waiting_after_pickup_per_fare     0.325878\n",
       "21                 meter_waiting_till_pickup_per_fare     0.120257"
      ]
     },
     "execution_count": 286,
     "metadata": {},
     "output_type": "execute_result"
    }
   ],
   "source": [
    "best_model = models[np.argmax(validation_scores)]\n",
    "best_model.get_feature_importance(prettified=True)"
   ]
  },
  {
   "cell_type": "code",
   "execution_count": 287,
   "metadata": {},
   "outputs": [
    {
     "data": {
      "text/plain": [
       "array([[0.89635854, 0.03560644],\n",
       "       [0.10364146, 0.96439356]])"
      ]
     },
     "execution_count": 287,
     "metadata": {},
     "output_type": "execute_result"
    }
   ],
   "source": [
    "y_hat = np.round(best_model.predict(train))\n",
    "confusion_matrix(y,y_hat,normalize='pred')"
   ]
  },
  {
   "cell_type": "code",
   "execution_count": 288,
   "metadata": {},
   "outputs": [
    {
     "data": {
      "text/plain": [
       "<matplotlib.axes._subplots.AxesSubplot at 0x7f78d0a11410>"
      ]
     },
     "execution_count": 288,
     "metadata": {},
     "output_type": "execute_result"
    },
    {
     "data": {
      "image/png": "[encoded data removed]",
      "text/plain": [
       "<Figure size 432x288 with 1 Axes>"
      ]
     },
     "metadata": {
      "needs_background": "light"
     },
     "output_type": "display_data"
    }
   ],
   "source": [
    "sns.violinplot(x='label',y='fare_per_duration',data=train_df)"
   ]
  },
  {
   "cell_type": "code",
   "execution_count": 289,
   "metadata": {},
   "outputs": [
    {
     "data": {
      "text/plain": [
       "<matplotlib.axes._subplots.AxesSubplot at 0x7f78d0a65c10>"
      ]
     },
     "execution_count": 289,
     "metadata": {},
     "output_type": "execute_result"
    },
    {
     "data": {
      "image/png": "[encoded data removed]",
      "text/plain": [
       "<Figure size 432x288 with 1 Axes>"
      ]
     },
     "metadata": {
      "needs_background": "light"
     },
     "output_type": "display_data"
    }
   ],
   "source": [
    "sns.violinplot(x='label',y='fare_per_distance',data=train_df)"
   ]
  },
  {
   "cell_type": "code",
   "execution_count": 290,
   "metadata": {},
   "outputs": [
    {
     "data": {
      "text/plain": [
       "<matplotlib.axes._subplots.AxesSubplot at 0x7f78d09ccf90>"
      ]
     },
     "execution_count": 290,
     "metadata": {},
     "output_type": "execute_result"
    },
    {
     "data": {
      "image/png": "[encoded data removed]",
      "text/plain": [
       "<Figure size 432x288 with 1 Axes>"
      ]
     },
     "metadata": {
      "needs_background": "light"
     },
     "output_type": "display_data"
    }
   ],
   "source": [
    "sns.violinplot(x='label',y='fare-additional_fare_per_distance',data=train_df)"
   ]
  },
  {
   "cell_type": "markdown",
   "metadata": {},
   "source": [
    "# Col products"
   ]
  },
  {
   "cell_type": "code",
   "execution_count": 291,
   "metadata": {},
   "outputs": [],
   "source": [
    "prod_cols = []\n",
    "for i, col1 in enumerate(features):\n",
    "    for col2 in features[i+1:]:\n",
    "        name = f'{col1}@{col2}'\n",
    "        train_df[name] = train_df[col1] * train_df[col2]\n",
    "        test_df[name] = test_df[col1] * test_df[col2]\n",
    "        train_df_org[name] = train_df_org[col1] * train_df_org[col2]\n",
    "        prod_cols.append(name)"
   ]
  },
  {
   "cell_type": "code",
   "execution_count": 292,
   "metadata": {},
   "outputs": [],
   "source": [
    "features = features + prod_cols"
   ]
  },
  {
   "cell_type": "code",
   "execution_count": 293,
   "metadata": {},
   "outputs": [],
   "source": [
    "train = train_df[features]\n",
    "test = test_df[features]\n",
    "train_org = train_df_org[features]\n",
    "y = train_df['label']"
   ]
  },
  {
   "cell_type": "code",
   "execution_count": 294,
   "metadata": {},
   "outputs": [],
   "source": [
    "submission_pool = Pool(data=test_df[features], cat_features=cat_features)\n",
    "org_pool = Pool(data=train_org[features], cat_features=cat_features)"
   ]
  },
  {
   "cell_type": "code",
   "execution_count": 295,
   "metadata": {},
   "outputs": [
    {
     "name": "stdout",
     "output_type": "stream",
     "text": [
      "Learning rate set to 0.057693\n",
      "0:\tlearn: 0.9600914\ttest: 0.9607037\tbest: 0.9607037 (0)\ttotal: 53ms\tremaining: 53s\n",
      "10:\tlearn: 0.9692723\ttest: 0.9717868\tbest: 0.9717868 (10)\ttotal: 667ms\tremaining: 60s\n",
      "20:\tlearn: 0.9731323\ttest: 0.9770905\tbest: 0.9772901 (19)\ttotal: 1.29s\tremaining: 1m\n",
      "30:\tlearn: 0.9748892\ttest: 0.9780115\tbest: 0.9782068 (28)\ttotal: 1.88s\tremaining: 58.8s\n",
      "40:\tlearn: 0.9760519\ttest: 0.9782837\tbest: 0.9782921 (35)\ttotal: 2.47s\tremaining: 57.8s\n",
      "50:\tlearn: 0.9767486\ttest: 0.9786501\tbest: 0.9786582 (44)\ttotal: 3.04s\tremaining: 56.6s\n",
      "60:\tlearn: 0.9776355\ttest: 0.9784586\tbest: 0.9788375 (54)\ttotal: 3.62s\tremaining: 55.7s\n",
      "70:\tlearn: 0.9781455\ttest: 0.9780546\tbest: 0.9788375 (54)\ttotal: 4.17s\tremaining: 54.6s\n",
      "80:\tlearn: 0.9787112\ttest: 0.9784379\tbest: 0.9788375 (54)\ttotal: 4.77s\tremaining: 54.1s\n",
      "90:\tlearn: 0.9791796\ttest: 0.9783317\tbest: 0.9788375 (54)\ttotal: 5.33s\tremaining: 53.2s\n",
      "100:\tlearn: 0.9797423\ttest: 0.9780336\tbest: 0.9788375 (54)\ttotal: 5.94s\tremaining: 52.9s\n",
      "Stopped by overfitting detector  (50 iterations wait)\n",
      "\n",
      "bestTest = 0.9788374988\n",
      "bestIteration = 54\n",
      "\n",
      "Shrink model to first 55 iterations.\n",
      "Learning rate set to 0.057693\n",
      "0:\tlearn: 0.9649611\ttest: 0.9653545\tbest: 0.9653545 (0)\ttotal: 62.4ms\tremaining: 1m 2s\n",
      "10:\tlearn: 0.9714014\ttest: 0.9716730\tbest: 0.9716730 (10)\ttotal: 664ms\tremaining: 59.7s\n",
      "20:\tlearn: 0.9741929\ttest: 0.9744567\tbest: 0.9745496 (19)\ttotal: 1.22s\tremaining: 56.7s\n",
      "30:\tlearn: 0.9758191\ttest: 0.9758426\tbest: 0.9758519 (27)\ttotal: 1.82s\tremaining: 56.9s\n",
      "40:\tlearn: 0.9766531\ttest: 0.9767886\tbest: 0.9767886 (40)\ttotal: 2.44s\tremaining: 57.2s\n",
      "50:\tlearn: 0.9772619\ttest: 0.9767753\tbest: 0.9768819 (41)\ttotal: 3.11s\tremaining: 57.8s\n",
      "60:\tlearn: 0.9780031\ttest: 0.9771445\tbest: 0.9771445 (60)\ttotal: 3.75s\tremaining: 57.8s\n",
      "70:\tlearn: 0.9785707\ttest: 0.9772249\tbest: 0.9773314 (61)\ttotal: 4.37s\tremaining: 57.1s\n",
      "80:\tlearn: 0.9796075\ttest: 0.9770291\tbest: 0.9774119 (71)\ttotal: 5.05s\tremaining: 57.4s\n",
      "90:\tlearn: 0.9803621\ttest: 0.9773097\tbest: 0.9775055 (84)\ttotal: 5.75s\tremaining: 57.5s\n",
      "100:\tlearn: 0.9808356\ttest: 0.9774926\tbest: 0.9775862 (98)\ttotal: 6.46s\tremaining: 57.5s\n",
      "110:\tlearn: 0.9813093\ttest: 0.9779567\tbest: 0.9780546 (107)\ttotal: 7.17s\tremaining: 57.4s\n",
      "120:\tlearn: 0.9816857\ttest: 0.9780546\tbest: 0.9782379 (113)\ttotal: 7.91s\tremaining: 57.5s\n",
      "130:\tlearn: 0.9822054\ttest: 0.9783317\tbest: 0.9783359 (125)\ttotal: 8.55s\tremaining: 56.7s\n",
      "140:\tlearn: 0.9823467\ttest: 0.9780462\tbest: 0.9783359 (125)\ttotal: 9.22s\tremaining: 56.2s\n",
      "150:\tlearn: 0.9828248\ttest: 0.9779440\tbest: 0.9783359 (125)\ttotal: 9.89s\tremaining: 55.6s\n",
      "160:\tlearn: 0.9829679\ttest: 0.9782254\tbest: 0.9783359 (125)\ttotal: 10.5s\tremaining: 54.9s\n",
      "170:\tlearn: 0.9835861\ttest: 0.9781358\tbest: 0.9783359 (125)\ttotal: 11.2s\tremaining: 54.3s\n",
      "Stopped by overfitting detector  (50 iterations wait)\n",
      "\n",
      "bestTest = 0.9783358896\n",
      "bestIteration = 125\n",
      "\n",
      "Shrink model to first 126 iterations.\n",
      "Learning rate set to 0.057694\n",
      "0:\tlearn: 0.9699044\ttest: 0.9631376\tbest: 0.9631376 (0)\ttotal: 61.2ms\tremaining: 1m 1s\n",
      "10:\tlearn: 0.9756307\ttest: 0.9671930\tbest: 0.9671930 (10)\ttotal: 702ms\tremaining: 1m 3s\n",
      "20:\tlearn: 0.9773367\ttest: 0.9685189\tbest: 0.9685189 (20)\ttotal: 1.36s\tremaining: 1m 3s\n",
      "30:\tlearn: 0.9782214\ttest: 0.9690643\tbest: 0.9690643 (30)\ttotal: 2.02s\tremaining: 1m 3s\n",
      "40:\tlearn: 0.9797637\ttest: 0.9695128\tbest: 0.9698984 (36)\ttotal: 2.67s\tremaining: 1m 2s\n",
      "50:\tlearn: 0.9802758\ttest: 0.9700599\tbest: 0.9701521 (49)\ttotal: 3.32s\tremaining: 1m 1s\n",
      "60:\tlearn: 0.9807923\ttest: 0.9706078\tbest: 0.9707057 (56)\ttotal: 3.99s\tremaining: 1m 1s\n",
      "70:\tlearn: 0.9812153\ttest: 0.9709717\tbest: 0.9709717 (70)\ttotal: 4.64s\tremaining: 1m\n",
      "80:\tlearn: 0.9816386\ttest: 0.9712436\tbest: 0.9712490 (79)\ttotal: 5.29s\tremaining: 1m\n",
      "90:\tlearn: 0.9819682\ttest: 0.9712271\tbest: 0.9713361 (82)\ttotal: 5.94s\tremaining: 59.3s\n",
      "100:\tlearn: 0.9824427\ttest: 0.9715102\tbest: 0.9715102 (99)\ttotal: 6.57s\tremaining: 58.5s\n",
      "110:\tlearn: 0.9827727\ttest: 0.9715920\tbest: 0.9718807 (105)\ttotal: 7.21s\tremaining: 57.8s\n",
      "120:\tlearn: 0.9831045\ttest: 0.9718646\tbest: 0.9718807 (105)\ttotal: 7.85s\tremaining: 57s\n",
      "130:\tlearn: 0.9836302\ttest: 0.9721480\tbest: 0.9721480 (128)\ttotal: 8.51s\tremaining: 56.4s\n",
      "140:\tlearn: 0.9840096\ttest: 0.9720447\tbest: 0.9723282 (133)\ttotal: 9.16s\tremaining: 55.8s\n",
      "150:\tlearn: 0.9844838\ttest: 0.9724158\tbest: 0.9724158 (150)\ttotal: 9.8s\tremaining: 55.1s\n",
      "160:\tlearn: 0.9847218\ttest: 0.9723230\tbest: 0.9724158 (150)\ttotal: 10.5s\tremaining: 54.5s\n",
      "170:\tlearn: 0.9850043\ttest: 0.9727976\tbest: 0.9727976 (168)\ttotal: 11.1s\tremaining: 54s\n",
      "180:\tlearn: 0.9853401\ttest: 0.9729885\tbest: 0.9729885 (179)\ttotal: 11.8s\tremaining: 53.2s\n",
      "190:\tlearn: 0.9855797\ttest: 0.9728027\tbest: 0.9729885 (179)\ttotal: 12.4s\tremaining: 52.5s\n",
      "200:\tlearn: 0.9860564\ttest: 0.9728904\tbest: 0.9729885 (179)\ttotal: 13.1s\tremaining: 51.9s\n",
      "210:\tlearn: 0.9861986\ttest: 0.9728904\tbest: 0.9730813 (202)\ttotal: 13.7s\tremaining: 51.2s\n",
      "220:\tlearn: 0.9864384\ttest: 0.9728852\tbest: 0.9730813 (202)\ttotal: 14.3s\tremaining: 50.5s\n",
      "230:\tlearn: 0.9865346\ttest: 0.9728852\tbest: 0.9730813 (202)\ttotal: 15s\tremaining: 49.8s\n",
      "240:\tlearn: 0.9870130\ttest: 0.9730710\tbest: 0.9730813 (202)\ttotal: 15.6s\tremaining: 49.2s\n",
      "250:\tlearn: 0.9871554\ttest: 0.9727872\tbest: 0.9730813 (202)\ttotal: 16.3s\tremaining: 48.5s\n",
      "Stopped by overfitting detector  (50 iterations wait)\n",
      "\n",
      "bestTest = 0.9730813288\n",
      "bestIteration = 202\n",
      "\n",
      "Shrink model to first 203 iterations.\n"
     ]
    }
   ],
   "source": [
    "train_preds = np.zeros(train_df.shape[0])\n",
    "test_preds = np.zeros(test_df.shape[0])\n",
    "train_class = np.zeros(train_df.shape[0])\n",
    "test_class = np.zeros(test_df.shape[0])\n",
    "skf = StratifiedKFold(n_splits=3)\n",
    "validation_scores = []\n",
    "org_scores = []\n",
    "models = []\n",
    "for train_index, test_index in skf.split(train, y):\n",
    "    X_train, X_test = train.iloc[train_index,:], train.iloc[test_index,:]\n",
    "    y_train, y_test = y[train_index], y[test_index]\n",
    "    train_pool = Pool(data=X_train, label=y_train,cat_features=cat_features)\n",
    "    test_pool = Pool(data=X_test, label=y_test, cat_features=cat_features)    \n",
    "    model = CatBoostClassifier(**catboost_params)\n",
    "    model.fit(X=train_pool, eval_set=test_pool,verbose=10)\n",
    "    train_preds[test_index] = model.predict_proba(test_pool)[:,1]\n",
    "    train_class[test_index] = model.predict(test_pool)\n",
    "    test_preds += model.predict_proba(submission_pool)[:,1]/3\n",
    "    test_class += model.predict(submission_pool)\n",
    "    validation_scores.append(f1_score(y_test,model.predict(test_pool),average='micro'))\n",
    "    org_scores.append(f1_score(y_org,model.predict(org_pool),average='micro'))\n",
    "    models.append(model)\n",
    "test_class = np.where(test_class > 2, 1, 0)"
   ]
  },
  {
   "cell_type": "code",
   "execution_count": 296,
   "metadata": {},
   "outputs": [
    {
     "data": {
      "text/plain": [
       "(0.9570338361990803, 0.004893219677337751, 0.950132625994695)"
      ]
     },
     "execution_count": 296,
     "metadata": {},
     "output_type": "execute_result"
    }
   ],
   "source": [
    "np.mean(validation_scores), np.std(validation_scores), min(validation_scores)"
   ]
  },
  {
   "cell_type": "code",
   "execution_count": 297,
   "metadata": {},
   "outputs": [
    {
     "data": {
      "text/plain": [
       "(0.9561913534051004, 0.0036502634882538388, 0.9512405733694088)"
      ]
     },
     "execution_count": 297,
     "metadata": {},
     "output_type": "execute_result"
    }
   ],
   "source": [
    "np.mean(org_scores), np.std(org_scores), min(org_scores)"
   ]
  },
  {
   "cell_type": "code",
   "execution_count": 298,
   "metadata": {},
   "outputs": [
    {
     "data": {
      "text/html": [
       "<div>\n",
       "<style scoped>\n",
       "    .dataframe tbody tr th:only-of-type {\n",
       "        vertical-align: middle;\n",
       "    }\n",
       "\n",
       "    .dataframe tbody tr th {\n",
       "        vertical-align: top;\n",
       "    }\n",
       "\n",
       "    .dataframe thead th {\n",
       "        text-align: right;\n",
       "    }\n",
       "</style>\n",
       "<table border=\"1\" class=\"dataframe\">\n",
       "  <thead>\n",
       "    <tr style=\"text-align: right;\">\n",
       "      <th></th>\n",
       "      <th>Feature Id</th>\n",
       "      <th>Importances</th>\n",
       "    </tr>\n",
       "  </thead>\n",
       "  <tbody>\n",
       "    <tr>\n",
       "      <td>0</td>\n",
       "      <td>fare_per_distance</td>\n",
       "      <td>7.650211</td>\n",
       "    </tr>\n",
       "    <tr>\n",
       "      <td>1</td>\n",
       "      <td>fare_per_distance@avg_speed</td>\n",
       "      <td>4.399818</td>\n",
       "    </tr>\n",
       "    <tr>\n",
       "      <td>2</td>\n",
       "      <td>fare_per_distance@fare-additional_fare_per_dis...</td>\n",
       "      <td>4.139117</td>\n",
       "    </tr>\n",
       "    <tr>\n",
       "      <td>3</td>\n",
       "      <td>fare_per_duration</td>\n",
       "      <td>3.686443</td>\n",
       "    </tr>\n",
       "    <tr>\n",
       "      <td>4</td>\n",
       "      <td>fare-additional_fare-meter_waiting_fare_per_di...</td>\n",
       "      <td>3.565296</td>\n",
       "    </tr>\n",
       "    <tr>\n",
       "      <td>...</td>\n",
       "      <td>...</td>\n",
       "      <td>...</td>\n",
       "    </tr>\n",
       "    <tr>\n",
       "      <td>248</td>\n",
       "      <td>meter_waiting_till_pickup_per_fare@meter_waiti...</td>\n",
       "      <td>0.000000</td>\n",
       "    </tr>\n",
       "    <tr>\n",
       "      <td>249</td>\n",
       "      <td>meter_waiting_till_pickup_per_fare@meter_waiti...</td>\n",
       "      <td>0.000000</td>\n",
       "    </tr>\n",
       "    <tr>\n",
       "      <td>250</td>\n",
       "      <td>meter_waiting_after_pickup_per_fare@meter_wait...</td>\n",
       "      <td>0.000000</td>\n",
       "    </tr>\n",
       "    <tr>\n",
       "      <td>251</td>\n",
       "      <td>meter_waiting_after_pickup_per_fare@meter_wait...</td>\n",
       "      <td>0.000000</td>\n",
       "    </tr>\n",
       "    <tr>\n",
       "      <td>252</td>\n",
       "      <td>meter_waiting_till_pickup_per_meter_waiting_fa...</td>\n",
       "      <td>0.000000</td>\n",
       "    </tr>\n",
       "  </tbody>\n",
       "</table>\n",
       "<p>253 rows × 2 columns</p>\n",
       "</div>"
      ],
      "text/plain": [
       "                                            Feature Id  Importances\n",
       "0                                    fare_per_distance     7.650211\n",
       "1                          fare_per_distance@avg_speed     4.399818\n",
       "2    fare_per_distance@fare-additional_fare_per_dis...     4.139117\n",
       "3                                    fare_per_duration     3.686443\n",
       "4    fare-additional_fare-meter_waiting_fare_per_di...     3.565296\n",
       "..                                                 ...          ...\n",
       "248  meter_waiting_till_pickup_per_fare@meter_waiti...     0.000000\n",
       "249  meter_waiting_till_pickup_per_fare@meter_waiti...     0.000000\n",
       "250  meter_waiting_after_pickup_per_fare@meter_wait...     0.000000\n",
       "251  meter_waiting_after_pickup_per_fare@meter_wait...     0.000000\n",
       "252  meter_waiting_till_pickup_per_meter_waiting_fa...     0.000000\n",
       "\n",
       "[253 rows x 2 columns]"
      ]
     },
     "execution_count": 298,
     "metadata": {},
     "output_type": "execute_result"
    }
   ],
   "source": [
    "best_model = models[np.argmax(validation_scores)]\n",
    "best_model.get_feature_importance(prettified=True)"
   ]
  },
  {
   "cell_type": "code",
   "execution_count": 299,
   "metadata": {},
   "outputs": [
    {
     "data": {
      "text/plain": [
       "array([[0.90222652, 0.03727877],\n",
       "       [0.09777348, 0.96272123]])"
      ]
     },
     "execution_count": 299,
     "metadata": {},
     "output_type": "execute_result"
    }
   ],
   "source": [
    "y_hat = np.round(best_model.predict(train))\n",
    "confusion_matrix(y,y_hat,normalize='pred')"
   ]
  },
  {
   "cell_type": "code",
   "execution_count": 300,
   "metadata": {},
   "outputs": [
    {
     "data": {
      "text/plain": [
       "0.9465951492537313"
      ]
     },
     "execution_count": 300,
     "metadata": {},
     "output_type": "execute_result"
    }
   ],
   "source": [
    "submission_df['prediction'] = test_class\n",
    "submission_df.to_csv('submission.csv',index=False)\n",
    "\n",
    "submission_df['prediction'].sum() / submission_df.shape[0]"
   ]
  },
  {
   "cell_type": "markdown",
   "metadata": {},
   "source": [
    "## with 0 importance columns removed"
   ]
  },
  {
   "cell_type": "code",
   "execution_count": 25,
   "metadata": {},
   "outputs": [
    {
     "data": {
      "text/plain": [
       "{'addtional_fare_per_distance@meter_waiting_after_pickup_per_meter_waiting_fare',\n",
       " 'fare-additional_fare_per_duration@meter_waiting_after_pickup_per_distance',\n",
       " 'meter_waiting_fare_per_meter_waiting@meter_waiting_till_pickup_per_duration',\n",
       " 'meter_waiting_till_pickup_per_fare@meter_waiting_after_pickup_per_meter_waiting_fare'}"
      ]
     },
     "execution_count": 25,
     "metadata": {},
     "output_type": "execute_result"
    }
   ],
   "source": [
    "model_1 = models[0]\n",
    "df_1 = model_1.get_feature_importance(prettified=True)\n",
    "set_1 = set(df_1[df_1['Importances'] == 0]['Feature Id'].values)\n",
    "\n",
    "model_2 = models[1]\n",
    "df_2 = model_2.get_feature_importance(prettified=True)\n",
    "set_2 = set(df_2[df_2['Importances'] == 0]['Feature Id'].values)\n",
    "\n",
    "model_3 = models[2]\n",
    "df_3 = model_3.get_feature_importance(prettified=True)\n",
    "set_3 = set(df_3[df_3['Importances'] == 0]['Feature Id'].values)\n",
    "\n",
    "ignore = set_1.intersection(set_2,set_3)\n",
    "ignore"
   ]
  },
  {
   "cell_type": "code",
   "execution_count": 26,
   "metadata": {},
   "outputs": [],
   "source": [
    "features = [each for each in features if each not in ignore]"
   ]
  },
  {
   "cell_type": "code",
   "execution_count": 27,
   "metadata": {},
   "outputs": [],
   "source": [
    "train = train_df[features]\n",
    "test = test_df[features]\n",
    "train_org = train_df_org[features]\n",
    "y = train_df['label']"
   ]
  },
  {
   "cell_type": "code",
   "execution_count": 28,
   "metadata": {},
   "outputs": [],
   "source": [
    "submission_pool = Pool(data=test_df[features], cat_features=cat_features)\n",
    "org_pool = Pool(data=train_org[features], cat_features=cat_features)"
   ]
  },
  {
   "cell_type": "code",
   "execution_count": 29,
   "metadata": {},
   "outputs": [
    {
     "name": "stdout",
     "output_type": "stream",
     "text": [
      "Learning rate set to 0.057693\n",
      "0:\tlearn: 0.9631838\ttest: 0.9618552\tbest: 0.9618552 (0)\ttotal: 57.9ms\tremaining: 57.9s\n",
      "10:\tlearn: 0.9698033\ttest: 0.9741199\tbest: 0.9741199 (10)\ttotal: 693ms\tremaining: 1m 2s\n",
      "20:\tlearn: 0.9733200\ttest: 0.9770949\tbest: 0.9770949 (18)\ttotal: 1.34s\tremaining: 1m 2s\n",
      "30:\tlearn: 0.9749476\ttest: 0.9780199\tbest: 0.9780199 (30)\ttotal: 1.98s\tremaining: 1m 1s\n",
      "40:\tlearn: 0.9760168\ttest: 0.9781092\tbest: 0.9781134 (31)\ttotal: 2.61s\tremaining: 1m 1s\n",
      "50:\tlearn: 0.9768463\ttest: 0.9783773\tbest: 0.9784792 (45)\ttotal: 3.27s\tremaining: 1m\n",
      "60:\tlearn: 0.9779668\ttest: 0.9782671\tbest: 0.9784792 (45)\ttotal: 3.92s\tremaining: 1m\n",
      "70:\tlearn: 0.9786623\ttest: 0.9785482\tbest: 0.9788334 (68)\ttotal: 4.57s\tremaining: 59.8s\n",
      "80:\tlearn: 0.9794648\ttest: 0.9785441\tbest: 0.9788334 (68)\ttotal: 5.21s\tremaining: 59.1s\n",
      "90:\tlearn: 0.9798851\ttest: 0.9788253\tbest: 0.9789232 (88)\ttotal: 5.85s\tremaining: 58.4s\n",
      "100:\tlearn: 0.9803565\ttest: 0.9787152\tbest: 0.9790089 (96)\ttotal: 6.48s\tremaining: 57.7s\n",
      "110:\tlearn: 0.9804993\ttest: 0.9784173\tbest: 0.9790089 (96)\ttotal: 7.13s\tremaining: 57.1s\n",
      "120:\tlearn: 0.9808734\ttest: 0.9782087\tbest: 0.9790089 (96)\ttotal: 7.78s\tremaining: 56.5s\n",
      "130:\tlearn: 0.9813003\ttest: 0.9784905\tbest: 0.9790089 (96)\ttotal: 8.43s\tremaining: 55.9s\n",
      "140:\tlearn: 0.9814415\ttest: 0.9781961\tbest: 0.9790089 (96)\ttotal: 9.07s\tremaining: 55.2s\n",
      "Stopped by overfitting detector  (50 iterations wait)\n",
      "\n",
      "bestTest = 0.979008914\n",
      "bestIteration = 96\n",
      "\n",
      "Shrink model to first 97 iterations.\n",
      "Learning rate set to 0.057693\n",
      "0:\tlearn: 0.9634357\ttest: 0.9632966\tbest: 0.9632966 (0)\ttotal: 58.4ms\tremaining: 58.3s\n",
      "10:\tlearn: 0.9724980\ttest: 0.9719502\tbest: 0.9719502 (10)\ttotal: 696ms\tremaining: 1m 2s\n",
      "20:\tlearn: 0.9739097\ttest: 0.9748380\tbest: 0.9748380 (20)\ttotal: 1.34s\tremaining: 1m 2s\n",
      "30:\tlearn: 0.9750405\ttest: 0.9759634\tbest: 0.9762427 (28)\ttotal: 1.98s\tremaining: 1m 1s\n",
      "40:\tlearn: 0.9757191\ttest: 0.9764110\tbest: 0.9765976 (37)\ttotal: 2.61s\tremaining: 1m 1s\n",
      "50:\tlearn: 0.9769709\ttest: 0.9771576\tbest: 0.9771620 (46)\ttotal: 3.25s\tremaining: 1m\n",
      "60:\tlearn: 0.9774867\ttest: 0.9772379\tbest: 0.9774292 (56)\ttotal: 3.9s\tremaining: 1m\n",
      "70:\tlearn: 0.9784730\ttest: 0.9774206\tbest: 0.9775141 (66)\ttotal: 4.55s\tremaining: 59.5s\n",
      "80:\tlearn: 0.9791796\ttest: 0.9774163\tbest: 0.9775141 (66)\ttotal: 5.19s\tremaining: 58.9s\n",
      "90:\tlearn: 0.9799808\ttest: 0.9776034\tbest: 0.9776034 (89)\ttotal: 5.83s\tremaining: 58.2s\n",
      "100:\tlearn: 0.9803114\ttest: 0.9774033\tbest: 0.9776034 (89)\ttotal: 6.45s\tremaining: 57.4s\n",
      "110:\tlearn: 0.9806798\ttest: 0.9774033\tbest: 0.9776034 (89)\ttotal: 7.09s\tremaining: 56.8s\n",
      "120:\tlearn: 0.9810651\ttest: 0.9775012\tbest: 0.9776927 (114)\ttotal: 7.74s\tremaining: 56.2s\n",
      "130:\tlearn: 0.9814921\ttest: 0.9775905\tbest: 0.9778799 (123)\ttotal: 8.38s\tremaining: 55.6s\n",
      "140:\tlearn: 0.9820118\ttest: 0.9773990\tbest: 0.9778799 (123)\ttotal: 9.01s\tremaining: 54.9s\n",
      "150:\tlearn: 0.9825319\ttest: 0.9773946\tbest: 0.9778799 (123)\ttotal: 9.65s\tremaining: 54.2s\n",
      "160:\tlearn: 0.9827677\ttest: 0.9773903\tbest: 0.9778799 (123)\ttotal: 10.3s\tremaining: 53.6s\n",
      "170:\tlearn: 0.9830036\ttest: 0.9772836\tbest: 0.9778799 (123)\ttotal: 10.9s\tremaining: 53s\n",
      "Stopped by overfitting detector  (50 iterations wait)\n",
      "\n",
      "bestTest = 0.9778799196\n",
      "bestIteration = 123\n",
      "\n",
      "Shrink model to first 124 iterations.\n",
      "Learning rate set to 0.057694\n",
      "0:\tlearn: 0.9691470\ttest: 0.9626177\tbest: 0.9626177 (0)\ttotal: 60.9ms\tremaining: 1m\n",
      "10:\tlearn: 0.9755238\ttest: 0.9670642\tbest: 0.9673388 (8)\ttotal: 692ms\tremaining: 1m 2s\n",
      "20:\tlearn: 0.9775147\ttest: 0.9680235\tbest: 0.9680538 (16)\ttotal: 1.34s\tremaining: 1m 2s\n",
      "30:\tlearn: 0.9784977\ttest: 0.9683911\tbest: 0.9684031 (25)\ttotal: 1.98s\tremaining: 1m 1s\n",
      "40:\tlearn: 0.9797207\ttest: 0.9693112\tbest: 0.9693112 (40)\ttotal: 2.64s\tremaining: 1m 1s\n",
      "50:\tlearn: 0.9805198\ttest: 0.9697431\tbest: 0.9697431 (50)\ttotal: 3.29s\tremaining: 1m 1s\n",
      "60:\tlearn: 0.9807416\ttest: 0.9704987\tbest: 0.9704987 (60)\ttotal: 3.95s\tremaining: 1m\n",
      "70:\tlearn: 0.9812641\ttest: 0.9705798\tbest: 0.9706778 (68)\ttotal: 4.56s\tremaining: 59.6s\n",
      "80:\tlearn: 0.9818304\ttest: 0.9709441\tbest: 0.9709496 (77)\ttotal: 5.17s\tremaining: 58.6s\n",
      "90:\tlearn: 0.9823081\ttest: 0.9709330\tbest: 0.9709496 (77)\ttotal: 5.77s\tremaining: 57.7s\n",
      "100:\tlearn: 0.9826867\ttest: 0.9710200\tbest: 0.9711071 (97)\ttotal: 6.38s\tremaining: 56.8s\n",
      "110:\tlearn: 0.9829646\ttest: 0.9713033\tbest: 0.9713033 (110)\ttotal: 7s\tremaining: 56.1s\n",
      "120:\tlearn: 0.9832477\ttest: 0.9711997\tbest: 0.9713033 (110)\ttotal: 7.61s\tremaining: 55.3s\n",
      "130:\tlearn: 0.9840050\ttest: 0.9713850\tbest: 0.9713850 (129)\ttotal: 8.23s\tremaining: 54.6s\n",
      "140:\tlearn: 0.9842414\ttest: 0.9712814\tbest: 0.9714776 (133)\ttotal: 8.84s\tremaining: 53.9s\n",
      "150:\tlearn: 0.9846213\ttest: 0.9712704\tbest: 0.9714776 (133)\ttotal: 9.45s\tremaining: 53.1s\n",
      "160:\tlearn: 0.9848121\ttest: 0.9716359\tbest: 0.9717395 (155)\ttotal: 10.1s\tremaining: 52.4s\n",
      "170:\tlearn: 0.9850531\ttest: 0.9717287\tbest: 0.9718270 (163)\ttotal: 10.7s\tremaining: 51.8s\n",
      "180:\tlearn: 0.9853874\ttest: 0.9716359\tbest: 0.9719251 (173)\ttotal: 11.3s\tremaining: 51.1s\n",
      "190:\tlearn: 0.9857692\ttest: 0.9717341\tbest: 0.9719251 (173)\ttotal: 11.9s\tremaining: 50.4s\n",
      "200:\tlearn: 0.9861499\ttest: 0.9715432\tbest: 0.9719251 (173)\ttotal: 12.5s\tremaining: 49.8s\n",
      "210:\tlearn: 0.9866756\ttest: 0.9718216\tbest: 0.9719251 (173)\ttotal: 13.2s\tremaining: 49.2s\n",
      "220:\tlearn: 0.9868193\ttest: 0.9717233\tbest: 0.9719251 (173)\ttotal: 13.8s\tremaining: 48.5s\n",
      "Stopped by overfitting detector  (50 iterations wait)\n",
      "\n",
      "bestTest = 0.9719251337\n",
      "bestIteration = 173\n",
      "\n",
      "Shrink model to first 174 iterations.\n"
     ]
    }
   ],
   "source": [
    "train_preds = np.zeros(train_df.shape[0])\n",
    "test_preds = np.zeros(test_df.shape[0])\n",
    "train_class = np.zeros(train_df.shape[0])\n",
    "test_class = np.zeros(test_df.shape[0])\n",
    "skf = StratifiedKFold(n_splits=3)\n",
    "validation_scores = []\n",
    "org_scores = []\n",
    "models = []\n",
    "for train_index, test_index in skf.split(train, y):\n",
    "    X_train, X_test = train.iloc[train_index,:], train.iloc[test_index,:]\n",
    "    y_train, y_test = y[train_index], y[test_index]\n",
    "    train_pool = Pool(data=X_train, label=y_train,cat_features=cat_features)\n",
    "    test_pool = Pool(data=X_test, label=y_test, cat_features=cat_features)    \n",
    "    model = CatBoostClassifier(**catboost_params)\n",
    "    model.fit(X=train_pool, eval_set=test_pool,verbose=10)\n",
    "    train_preds[test_index] = model.predict_proba(test_pool)[:,1]\n",
    "    train_class[test_index] = model.predict(test_pool)\n",
    "    test_preds += model.predict_proba(submission_pool)[:,1]/3\n",
    "    test_class += model.predict(submission_pool)\n",
    "    validation_scores.append(f1_score(y_test,model.predict(test_pool),average='micro'))\n",
    "    org_scores.append(f1_score(y_org,model.predict(org_pool),average='micro'))\n",
    "    models.append(model)\n",
    "test_class = np.where(test_class > 2, 1, 0)"
   ]
  },
  {
   "cell_type": "code",
   "execution_count": 30,
   "metadata": {},
   "outputs": [
    {
     "data": {
      "text/plain": [
       "(0.9561496941660819, 0.0058200147295376144, 0.9480106100795755)"
      ]
     },
     "execution_count": 30,
     "metadata": {},
     "output_type": "execute_result"
    }
   ],
   "source": [
    "np.mean(validation_scores), np.std(validation_scores), min(validation_scores)"
   ]
  },
  {
   "cell_type": "code",
   "execution_count": 31,
   "metadata": {},
   "outputs": [
    {
     "data": {
      "text/plain": [
       "(0.9563448659643466, 0.0010576642127316496, 0.9553278452593402)"
      ]
     },
     "execution_count": 31,
     "metadata": {},
     "output_type": "execute_result"
    }
   ],
   "source": [
    "np.mean(org_scores), np.std(org_scores), min(org_scores)"
   ]
  },
  {
   "cell_type": "code",
   "execution_count": 32,
   "metadata": {},
   "outputs": [
    {
     "data": {
      "text/html": [
       "<div>\n",
       "<style scoped>\n",
       "    .dataframe tbody tr th:only-of-type {\n",
       "        vertical-align: middle;\n",
       "    }\n",
       "\n",
       "    .dataframe tbody tr th {\n",
       "        vertical-align: top;\n",
       "    }\n",
       "\n",
       "    .dataframe thead th {\n",
       "        text-align: right;\n",
       "    }\n",
       "</style>\n",
       "<table border=\"1\" class=\"dataframe\">\n",
       "  <thead>\n",
       "    <tr style=\"text-align: right;\">\n",
       "      <th></th>\n",
       "      <th>Feature Id</th>\n",
       "      <th>Importances</th>\n",
       "    </tr>\n",
       "  </thead>\n",
       "  <tbody>\n",
       "    <tr>\n",
       "      <td>0</td>\n",
       "      <td>fare_per_distance@fare-additional_fare_per_dis...</td>\n",
       "      <td>5.872666</td>\n",
       "    </tr>\n",
       "    <tr>\n",
       "      <td>1</td>\n",
       "      <td>fare-additional_fare_per_distance@fare-additio...</td>\n",
       "      <td>4.533409</td>\n",
       "    </tr>\n",
       "    <tr>\n",
       "      <td>2</td>\n",
       "      <td>avg_speed@fare-additional_fare-meter_waiting_f...</td>\n",
       "      <td>3.567931</td>\n",
       "    </tr>\n",
       "    <tr>\n",
       "      <td>3</td>\n",
       "      <td>fare_per_duration</td>\n",
       "      <td>3.089657</td>\n",
       "    </tr>\n",
       "    <tr>\n",
       "      <td>4</td>\n",
       "      <td>fare-additional_fare_per_distance</td>\n",
       "      <td>3.051817</td>\n",
       "    </tr>\n",
       "    <tr>\n",
       "      <td>...</td>\n",
       "      <td>...</td>\n",
       "      <td>...</td>\n",
       "    </tr>\n",
       "    <tr>\n",
       "      <td>244</td>\n",
       "      <td>meter_waiting_till_pickup_per_distance@meter_w...</td>\n",
       "      <td>0.000000</td>\n",
       "    </tr>\n",
       "    <tr>\n",
       "      <td>245</td>\n",
       "      <td>meter_waiting_after_pickup_per_distance@meter_...</td>\n",
       "      <td>0.000000</td>\n",
       "    </tr>\n",
       "    <tr>\n",
       "      <td>246</td>\n",
       "      <td>meter_waiting_till_pickup_per_fare@meter_waiti...</td>\n",
       "      <td>0.000000</td>\n",
       "    </tr>\n",
       "    <tr>\n",
       "      <td>247</td>\n",
       "      <td>meter_waiting_till_pickup_per_fare@meter_waiti...</td>\n",
       "      <td>0.000000</td>\n",
       "    </tr>\n",
       "    <tr>\n",
       "      <td>248</td>\n",
       "      <td>meter_waiting_after_pickup_per_fare@meter_wait...</td>\n",
       "      <td>0.000000</td>\n",
       "    </tr>\n",
       "  </tbody>\n",
       "</table>\n",
       "<p>249 rows × 2 columns</p>\n",
       "</div>"
      ],
      "text/plain": [
       "                                            Feature Id  Importances\n",
       "0    fare_per_distance@fare-additional_fare_per_dis...     5.872666\n",
       "1    fare-additional_fare_per_distance@fare-additio...     4.533409\n",
       "2    avg_speed@fare-additional_fare-meter_waiting_f...     3.567931\n",
       "3                                    fare_per_duration     3.089657\n",
       "4                    fare-additional_fare_per_distance     3.051817\n",
       "..                                                 ...          ...\n",
       "244  meter_waiting_till_pickup_per_distance@meter_w...     0.000000\n",
       "245  meter_waiting_after_pickup_per_distance@meter_...     0.000000\n",
       "246  meter_waiting_till_pickup_per_fare@meter_waiti...     0.000000\n",
       "247  meter_waiting_till_pickup_per_fare@meter_waiti...     0.000000\n",
       "248  meter_waiting_after_pickup_per_fare@meter_wait...     0.000000\n",
       "\n",
       "[249 rows x 2 columns]"
      ]
     },
     "execution_count": 32,
     "metadata": {},
     "output_type": "execute_result"
    }
   ],
   "source": [
    "best_model = models[np.argmax(validation_scores)]\n",
    "best_model.get_feature_importance(prettified=True)"
   ]
  },
  {
   "cell_type": "code",
   "execution_count": 33,
   "metadata": {},
   "outputs": [
    {
     "data": {
      "text/plain": [
       "array([[0.90644868, 0.03327871],\n",
       "       [0.09355132, 0.96672129]])"
      ]
     },
     "execution_count": 33,
     "metadata": {},
     "output_type": "execute_result"
    }
   ],
   "source": [
    "y_hat = np.round(best_model.predict(train))\n",
    "confusion_matrix(y,y_hat,normalize='pred')"
   ]
  },
  {
   "cell_type": "markdown",
   "metadata": {},
   "source": [
    "# Log scale added"
   ]
  },
  {
   "cell_type": "code",
   "execution_count": 83,
   "metadata": {},
   "outputs": [
    {
     "name": "stderr",
     "output_type": "stream",
     "text": [
      "/home/heshan/anaconda3/envs/kaggle/lib/python3.7/site-packages/pandas/core/series.py:853: RuntimeWarning: invalid value encountered in log\n",
      "  result = getattr(ufunc, method)(*inputs, **kwargs)\n",
      "/home/heshan/anaconda3/envs/kaggle/lib/python3.7/site-packages/pandas/core/series.py:853: RuntimeWarning: divide by zero encountered in log\n",
      "  result = getattr(ufunc, method)(*inputs, **kwargs)\n"
     ]
    }
   ],
   "source": [
    "log_cols = []\n",
    "for col in features:    \n",
    "    name = f'log_{col}'\n",
    "    train_df[name] = np.log(train_df[col] + 1)\n",
    "    test_df[name] = np.log(test_df[col] + 1)\n",
    "    train_df_org[name] = np.log(train_df_org[col] + 1)\n",
    "    log_cols.append(name)"
   ]
  },
  {
   "cell_type": "code",
   "execution_count": 84,
   "metadata": {},
   "outputs": [],
   "source": [
    "features = features + log_cols"
   ]
  },
  {
   "cell_type": "code",
   "execution_count": 85,
   "metadata": {},
   "outputs": [],
   "source": [
    "train = train_df[features]\n",
    "test = test_df[features]\n",
    "train_org = train_df_org[features]\n",
    "y = train_df['label']"
   ]
  },
  {
   "cell_type": "code",
   "execution_count": 86,
   "metadata": {},
   "outputs": [],
   "source": [
    "submission_pool = Pool(data=test_df[features], cat_features=cat_features)\n",
    "org_pool = Pool(data=train_org[features], cat_features=cat_features)"
   ]
  },
  {
   "cell_type": "code",
   "execution_count": 87,
   "metadata": {},
   "outputs": [
    {
     "name": "stdout",
     "output_type": "stream",
     "text": [
      "Learning rate set to 0.057693\n",
      "0:\tlearn: 0.9652889\ttest: 0.9706190\tbest: 0.9706190 (0)\ttotal: 123ms\tremaining: 2m 2s\n",
      "10:\tlearn: 0.9706050\ttest: 0.9742371\tbest: 0.9742371 (10)\ttotal: 1.26s\tremaining: 1m 53s\n",
      "20:\tlearn: 0.9728548\ttest: 0.9766333\tbest: 0.9766333 (20)\ttotal: 2.3s\tremaining: 1m 47s\n",
      "30:\tlearn: 0.9746522\ttest: 0.9780199\tbest: 0.9780199 (30)\ttotal: 3.34s\tremaining: 1m 44s\n",
      "40:\tlearn: 0.9760496\ttest: 0.9784751\tbest: 0.9784792 (37)\ttotal: 4.32s\tremaining: 1m 41s\n",
      "50:\tlearn: 0.9769797\ttest: 0.9788416\tbest: 0.9788456 (49)\ttotal: 5.42s\tremaining: 1m 40s\n",
      "60:\tlearn: 0.9778628\ttest: 0.9783525\tbest: 0.9789353 (51)\ttotal: 6.62s\tremaining: 1m 41s\n",
      "70:\tlearn: 0.9783285\ttest: 0.9786214\tbest: 0.9789353 (51)\ttotal: 7.77s\tremaining: 1m 41s\n",
      "80:\tlearn: 0.9790290\ttest: 0.9788091\tbest: 0.9789353 (51)\ttotal: 8.9s\tremaining: 1m 41s\n",
      "90:\tlearn: 0.9793572\ttest: 0.9789888\tbest: 0.9789888 (88)\ttotal: 10.1s\tremaining: 1m 40s\n",
      "100:\tlearn: 0.9796876\ttest: 0.9788868\tbest: 0.9791767 (96)\ttotal: 11.3s\tremaining: 1m 40s\n",
      "110:\tlearn: 0.9802080\ttest: 0.9785927\tbest: 0.9791767 (96)\ttotal: 12.4s\tremaining: 1m 39s\n",
      "120:\tlearn: 0.9808264\ttest: 0.9786825\tbest: 0.9791767 (96)\ttotal: 13.6s\tremaining: 1m 38s\n",
      "130:\tlearn: 0.9812551\ttest: 0.9786825\tbest: 0.9791767 (96)\ttotal: 14.8s\tremaining: 1m 38s\n",
      "140:\tlearn: 0.9815357\ttest: 0.9786744\tbest: 0.9791767 (96)\ttotal: 16s\tremaining: 1m 37s\n",
      "Stopped by overfitting detector  (50 iterations wait)\n",
      "\n",
      "bestTest = 0.9791766625\n",
      "bestIteration = 96\n",
      "\n",
      "Shrink model to first 97 iterations.\n",
      "Learning rate set to 0.057693\n",
      "0:\tlearn: 0.9666081\ttest: 0.9640110\tbest: 0.9640110 (0)\ttotal: 110ms\tremaining: 1m 49s\n",
      "10:\tlearn: 0.9720745\ttest: 0.9727878\tbest: 0.9742224 (7)\ttotal: 1.19s\tremaining: 1m 47s\n",
      "20:\tlearn: 0.9738808\ttest: 0.9742808\tbest: 0.9742808 (16)\ttotal: 2.27s\tremaining: 1m 45s\n",
      "30:\tlearn: 0.9749309\ttest: 0.9757772\tbest: 0.9757772 (30)\ttotal: 3.35s\tremaining: 1m 44s\n",
      "40:\tlearn: 0.9761496\ttest: 0.9759634\tbest: 0.9760519 (36)\ttotal: 4.46s\tremaining: 1m 44s\n",
      "50:\tlearn: 0.9775973\ttest: 0.9773531\tbest: 0.9773531 (50)\ttotal: 5.54s\tremaining: 1m 43s\n",
      "60:\tlearn: 0.9780519\ttest: 0.9778203\tbest: 0.9778245 (55)\ttotal: 6.63s\tremaining: 1m 42s\n",
      "70:\tlearn: 0.9789046\ttest: 0.9785687\tbest: 0.9787600 (68)\ttotal: 7.71s\tremaining: 1m 40s\n",
      "80:\tlearn: 0.9792833\ttest: 0.9785646\tbest: 0.9787600 (68)\ttotal: 8.8s\tremaining: 1m 39s\n",
      "90:\tlearn: 0.9797032\ttest: 0.9785605\tbest: 0.9787600 (68)\ttotal: 9.89s\tremaining: 1m 38s\n",
      "100:\tlearn: 0.9802625\ttest: 0.9786419\tbest: 0.9787600 (68)\ttotal: 11.2s\tremaining: 1m 39s\n",
      "110:\tlearn: 0.9807324\ttest: 0.9785482\tbest: 0.9787600 (68)\ttotal: 12.4s\tremaining: 1m 39s\n",
      "Stopped by overfitting detector  (50 iterations wait)\n",
      "\n",
      "bestTest = 0.9787600459\n",
      "bestIteration = 68\n",
      "\n",
      "Shrink model to first 69 iterations.\n",
      "Learning rate set to 0.057694\n",
      "0:\tlearn: 0.9681559\ttest: 0.9619894\tbest: 0.9619894 (0)\ttotal: 142ms\tremaining: 2m 22s\n",
      "10:\tlearn: 0.9761349\ttest: 0.9674242\tbest: 0.9676382 (9)\ttotal: 1.26s\tremaining: 1m 53s\n",
      "20:\tlearn: 0.9774343\ttest: 0.9683472\tbest: 0.9686523 (13)\ttotal: 2.65s\tremaining: 2m 3s\n",
      "30:\tlearn: 0.9786015\ttest: 0.9690643\tbest: 0.9690643 (30)\ttotal: 3.8s\tremaining: 1m 58s\n",
      "40:\tlearn: 0.9798690\ttest: 0.9697948\tbest: 0.9698870 (39)\ttotal: 5.03s\tremaining: 1m 57s\n",
      "50:\tlearn: 0.9805686\ttest: 0.9699734\tbest: 0.9699734 (50)\ttotal: 6.24s\tremaining: 1m 56s\n",
      "60:\tlearn: 0.9810345\ttest: 0.9704232\tbest: 0.9705267 (53)\ttotal: 7.33s\tremaining: 1m 52s\n",
      "70:\tlearn: 0.9814611\ttest: 0.9706946\tbest: 0.9707925 (68)\ttotal: 8.42s\tremaining: 1m 50s\n",
      "80:\tlearn: 0.9819332\ttest: 0.9712436\tbest: 0.9712436 (80)\ttotal: 9.5s\tremaining: 1m 47s\n",
      "90:\tlearn: 0.9822156\ttest: 0.9715048\tbest: 0.9715102 (89)\ttotal: 10.6s\tremaining: 1m 45s\n",
      "100:\tlearn: 0.9824006\ttest: 0.9716954\tbest: 0.9716954 (95)\ttotal: 11.7s\tremaining: 1m 44s\n",
      "110:\tlearn: 0.9828736\ttest: 0.9715920\tbest: 0.9716954 (95)\ttotal: 12.8s\tremaining: 1m 42s\n",
      "120:\tlearn: 0.9835861\ttest: 0.9715866\tbest: 0.9716954 (95)\ttotal: 13.9s\tremaining: 1m 40s\n",
      "130:\tlearn: 0.9839197\ttest: 0.9716684\tbest: 0.9719626 (122)\ttotal: 14.9s\tremaining: 1m 39s\n",
      "140:\tlearn: 0.9841102\ttest: 0.9718646\tbest: 0.9719626 (122)\ttotal: 16.1s\tremaining: 1m 38s\n",
      "150:\tlearn: 0.9846804\ttest: 0.9716630\tbest: 0.9719626 (122)\ttotal: 17.3s\tremaining: 1m 37s\n",
      "160:\tlearn: 0.9850115\ttest: 0.9716630\tbest: 0.9719626 (122)\ttotal: 18.6s\tremaining: 1m 36s\n",
      "170:\tlearn: 0.9850603\ttest: 0.9716576\tbest: 0.9719626 (122)\ttotal: 19.8s\tremaining: 1m 35s\n",
      "Stopped by overfitting detector  (50 iterations wait)\n",
      "\n",
      "bestTest = 0.9719626168\n",
      "bestIteration = 122\n",
      "\n",
      "Shrink model to first 123 iterations.\n"
     ]
    }
   ],
   "source": [
    "train_preds = np.zeros(train_df.shape[0])\n",
    "test_preds = np.zeros(test_df.shape[0])\n",
    "train_class = np.zeros(train_df.shape[0])\n",
    "test_class = np.zeros(test_df.shape[0])\n",
    "skf = StratifiedKFold(n_splits=3)\n",
    "validation_scores = []\n",
    "org_scores = []\n",
    "models = []\n",
    "for train_index, test_index in skf.split(train, y):\n",
    "    X_train, X_test = train.iloc[train_index,:], train.iloc[test_index,:]\n",
    "    y_train, y_test = y[train_index], y[test_index]\n",
    "    train_pool = Pool(data=X_train, label=y_train,cat_features=cat_features)\n",
    "    test_pool = Pool(data=X_test, label=y_test, cat_features=cat_features)    \n",
    "    model = CatBoostClassifier(**catboost_params)\n",
    "    model.fit(X=train_pool, eval_set=test_pool,verbose=10)\n",
    "    train_preds[test_index] = model.predict_proba(test_pool)[:,1]\n",
    "    train_class[test_index] = model.predict(test_pool)\n",
    "    test_preds += model.predict_proba(submission_pool)[:,1]/3\n",
    "    test_class += model.predict(submission_pool)\n",
    "    validation_scores.append(f1_score(y_test,model.predict(test_pool),average='micro'))\n",
    "    org_scores.append(f1_score(y_org,model.predict(org_pool),average='micro'))\n",
    "    models.append(model)\n",
    "test_class = np.where(test_class > 2, 1, 0)"
   ]
  },
  {
   "cell_type": "code",
   "execution_count": 88,
   "metadata": {},
   "outputs": [
    {
     "data": {
      "text/plain": [
       "(0.9567979732797077, 0.006224076130129417, 0.9480106100795755)"
      ]
     },
     "execution_count": 88,
     "metadata": {},
     "output_type": "execute_result"
    }
   ],
   "source": [
    "np.mean(validation_scores), np.std(validation_scores), min(validation_scores)"
   ]
  },
  {
   "cell_type": "code",
   "execution_count": 89,
   "metadata": {},
   "outputs": [
    {
     "data": {
      "text/plain": [
       "(0.9544259589737685, 0.0010128484808317674, 0.9531402912900812)"
      ]
     },
     "execution_count": 89,
     "metadata": {},
     "output_type": "execute_result"
    }
   ],
   "source": [
    "np.mean(org_scores), np.std(org_scores), min(org_scores)"
   ]
  },
  {
   "cell_type": "code",
   "execution_count": 90,
   "metadata": {},
   "outputs": [
    {
     "data": {
      "text/html": [
       "<div>\n",
       "<style scoped>\n",
       "    .dataframe tbody tr th:only-of-type {\n",
       "        vertical-align: middle;\n",
       "    }\n",
       "\n",
       "    .dataframe tbody tr th {\n",
       "        vertical-align: top;\n",
       "    }\n",
       "\n",
       "    .dataframe thead th {\n",
       "        text-align: right;\n",
       "    }\n",
       "</style>\n",
       "<table border=\"1\" class=\"dataframe\">\n",
       "  <thead>\n",
       "    <tr style=\"text-align: right;\">\n",
       "      <th></th>\n",
       "      <th>Feature Id</th>\n",
       "      <th>Importances</th>\n",
       "    </tr>\n",
       "  </thead>\n",
       "  <tbody>\n",
       "    <tr>\n",
       "      <td>0</td>\n",
       "      <td>log_fare_per_distance@fare-additional_fare_per...</td>\n",
       "      <td>3.283644</td>\n",
       "    </tr>\n",
       "    <tr>\n",
       "      <td>1</td>\n",
       "      <td>fare_per_distance@avg_speed</td>\n",
       "      <td>3.250897</td>\n",
       "    </tr>\n",
       "    <tr>\n",
       "      <td>2</td>\n",
       "      <td>log_fare-additional_fare_per_distance</td>\n",
       "      <td>3.174924</td>\n",
       "    </tr>\n",
       "    <tr>\n",
       "      <td>3</td>\n",
       "      <td>fare_per_distance@fare-additional_fare-meter_w...</td>\n",
       "      <td>2.718134</td>\n",
       "    </tr>\n",
       "    <tr>\n",
       "      <td>4</td>\n",
       "      <td>log_fare_per_duration@fare-additional_fare_per...</td>\n",
       "      <td>2.684101</td>\n",
       "    </tr>\n",
       "    <tr>\n",
       "      <td>...</td>\n",
       "      <td>...</td>\n",
       "      <td>...</td>\n",
       "    </tr>\n",
       "    <tr>\n",
       "      <td>501</td>\n",
       "      <td>log_meter_waiting_after_pickup_per_distance@me...</td>\n",
       "      <td>0.000000</td>\n",
       "    </tr>\n",
       "    <tr>\n",
       "      <td>502</td>\n",
       "      <td>log_meter_waiting_after_pickup_per_distance@me...</td>\n",
       "      <td>0.000000</td>\n",
       "    </tr>\n",
       "    <tr>\n",
       "      <td>503</td>\n",
       "      <td>log_meter_waiting_till_pickup_per_fare@meter_w...</td>\n",
       "      <td>0.000000</td>\n",
       "    </tr>\n",
       "    <tr>\n",
       "      <td>504</td>\n",
       "      <td>log_meter_waiting_till_pickup_per_fare@meter_w...</td>\n",
       "      <td>0.000000</td>\n",
       "    </tr>\n",
       "    <tr>\n",
       "      <td>505</td>\n",
       "      <td>log_meter_waiting_after_pickup_per_fare@meter_...</td>\n",
       "      <td>0.000000</td>\n",
       "    </tr>\n",
       "  </tbody>\n",
       "</table>\n",
       "<p>506 rows × 2 columns</p>\n",
       "</div>"
      ],
      "text/plain": [
       "                                            Feature Id  Importances\n",
       "0    log_fare_per_distance@fare-additional_fare_per...     3.283644\n",
       "1                          fare_per_distance@avg_speed     3.250897\n",
       "2                log_fare-additional_fare_per_distance     3.174924\n",
       "3    fare_per_distance@fare-additional_fare-meter_w...     2.718134\n",
       "4    log_fare_per_duration@fare-additional_fare_per...     2.684101\n",
       "..                                                 ...          ...\n",
       "501  log_meter_waiting_after_pickup_per_distance@me...     0.000000\n",
       "502  log_meter_waiting_after_pickup_per_distance@me...     0.000000\n",
       "503  log_meter_waiting_till_pickup_per_fare@meter_w...     0.000000\n",
       "504  log_meter_waiting_till_pickup_per_fare@meter_w...     0.000000\n",
       "505  log_meter_waiting_after_pickup_per_fare@meter_...     0.000000\n",
       "\n",
       "[506 rows x 2 columns]"
      ]
     },
     "execution_count": 90,
     "metadata": {},
     "output_type": "execute_result"
    }
   ],
   "source": [
    "best_model = models[np.argmax(validation_scores)]\n",
    "best_model.get_feature_importance(prettified=True)"
   ]
  },
  {
   "cell_type": "code",
   "execution_count": 91,
   "metadata": {},
   "outputs": [
    {
     "data": {
      "text/plain": [
       "array([[0.89711191, 0.03354562],\n",
       "       [0.10288809, 0.96645438]])"
      ]
     },
     "execution_count": 91,
     "metadata": {},
     "output_type": "execute_result"
    }
   ],
   "source": [
    "y_hat = np.round(best_model.predict(train))\n",
    "confusion_matrix(y,y_hat,normalize='pred')"
   ]
  },
  {
   "cell_type": "markdown",
   "metadata": {},
   "source": [
    "## With 0 importance columns removed"
   ]
  },
  {
   "cell_type": "code",
   "execution_count": 92,
   "metadata": {},
   "outputs": [
    {
     "data": {
      "text/plain": [
       "{'addtional_fare_per_distance@meter_waiting_after_pickup_per_duration',\n",
       " 'addtional_fare_per_distance@meter_waiting_after_pickup_per_meter_waiting_fare',\n",
       " 'addtional_fare_per_distance@meter_waiting_till_pickup_per_fare',\n",
       " 'addtional_fare_per_duration@meter_waiting_after_pickup_per_distance',\n",
       " 'addtional_fare_per_duration@meter_waiting_after_pickup_per_fare',\n",
       " 'addtional_fare_per_duration@meter_waiting_till_pickup_per_distance',\n",
       " 'addtional_fare_per_duration@meter_waiting_till_pickup_per_fare',\n",
       " 'addtional_fare_per_fare@meter_waiting_after_pickup_per_duration',\n",
       " 'addtional_fare_per_fare@meter_waiting_till_pickup_per_distance',\n",
       " 'addtional_fare_per_fare@meter_waiting_till_pickup_per_duration',\n",
       " 'addtional_fare_per_fare@meter_waiting_till_pickup_per_fare',\n",
       " 'avg_speed@meter_waiting_till_pickup_per_fare',\n",
       " 'avg_speed@meter_waiting_till_pickup_per_meter_waiting',\n",
       " 'fare-additional_fare-meter_waiting_fare_per_distance@meter_waiting_till_pickup_per_meter_waiting',\n",
       " 'fare-additional_fare-meter_waiting_fare_per_duration@meter_waiting_till_pickup_per_distance',\n",
       " 'fare-additional_fare-meter_waiting_fare_per_duration@meter_waiting_till_pickup_per_fare',\n",
       " 'fare-additional_fare-meter_waiting_fare_per_duration@meter_waiting_till_pickup_per_meter_waiting',\n",
       " 'fare-additional_fare_per_distance@meter_waiting_after_pickup_per_duration',\n",
       " 'fare-additional_fare_per_distance@meter_waiting_after_pickup_per_fare',\n",
       " 'fare-additional_fare_per_distance@meter_waiting_after_pickup_per_meter_waiting_fare',\n",
       " 'fare-additional_fare_per_duration@meter_waiting_after_pickup_per_distance',\n",
       " 'fare-additional_fare_per_duration@meter_waiting_till_pickup_per_meter_waiting_fare',\n",
       " 'fare_per_distance@addtional_fare_per_fare',\n",
       " 'fare_per_distance@meter_waiting_after_pickup_per_duration',\n",
       " 'fare_per_distance@meter_waiting_after_pickup_per_fare',\n",
       " 'fare_per_distance@meter_waiting_fare_per_duration',\n",
       " 'fare_per_duration@meter_waiting_fare_per_duration',\n",
       " 'fare_per_duration@meter_waiting_till_pickup_per_duration',\n",
       " 'fare_per_duration@meter_waiting_till_pickup_per_meter_waiting',\n",
       " 'log_addtional_fare_per_distance@fare-additional_fare_per_duration',\n",
       " 'log_addtional_fare_per_distance@meter_waiting_till_pickup_per_meter_waiting',\n",
       " 'log_addtional_fare_per_duration@meter_waiting_till_pickup_per_fare',\n",
       " 'log_addtional_fare_per_fare@meter_waiting_till_pickup_per_distance',\n",
       " 'log_addtional_fare_per_fare@meter_waiting_till_pickup_per_meter_waiting',\n",
       " 'log_addtional_fare_per_fare@meter_waiting_till_pickup_per_meter_waiting_fare',\n",
       " 'log_avg_speed@meter_waiting_fare_per_meter_waiting',\n",
       " 'log_fare-additional_fare-meter_waiting_fare_per_distance@meter_waiting_after_pickup_per_duration',\n",
       " 'log_fare-additional_fare-meter_waiting_fare_per_distance@meter_waiting_after_pickup_per_fare',\n",
       " 'log_fare-additional_fare-meter_waiting_fare_per_distance@meter_waiting_till_pickup_per_duration',\n",
       " 'log_fare-additional_fare-meter_waiting_fare_per_duration@meter_waiting_till_pickup_per_duration',\n",
       " 'log_fare-additional_fare-meter_waiting_fare_per_duration@meter_waiting_till_pickup_per_meter_waiting_fare',\n",
       " 'log_fare-additional_fare_per_distance@meter_waiting_after_pickup_per_duration',\n",
       " 'log_fare-additional_fare_per_distance@meter_waiting_after_pickup_per_fare',\n",
       " 'log_fare-additional_fare_per_duration@meter_waiting_till_pickup_per_duration',\n",
       " 'log_fare_per_distance@meter_waiting_after_pickup_per_fare',\n",
       " 'log_fare_per_distance@meter_waiting_after_pickup_per_meter_waiting_fare',\n",
       " 'log_fare_per_duration@meter_waiting_till_pickup_per_fare',\n",
       " 'log_meter_waiting_after_pickup_per_distance@meter_waiting_after_pickup_per_meter_waiting_fare',\n",
       " 'log_meter_waiting_after_pickup_per_duration@meter_waiting_till_pickup_per_distance',\n",
       " 'log_meter_waiting_after_pickup_per_duration@meter_waiting_till_pickup_per_duration',\n",
       " 'log_meter_waiting_after_pickup_per_duration@meter_waiting_till_pickup_per_meter_waiting_fare',\n",
       " 'log_meter_waiting_after_pickup_per_fare@meter_waiting_till_pickup_per_meter_waiting_fare',\n",
       " 'log_meter_waiting_fare_per_duration',\n",
       " 'log_meter_waiting_fare_per_duration@fare-additional_fare-meter_waiting_fare_per_distance',\n",
       " 'log_meter_waiting_fare_per_duration@meter_waiting_after_pickup_per_distance',\n",
       " 'log_meter_waiting_fare_per_duration@meter_waiting_after_pickup_per_duration',\n",
       " 'log_meter_waiting_fare_per_duration@meter_waiting_after_pickup_per_fare',\n",
       " 'log_meter_waiting_fare_per_duration@meter_waiting_till_pickup_per_distance',\n",
       " 'log_meter_waiting_fare_per_duration@meter_waiting_till_pickup_per_duration',\n",
       " 'log_meter_waiting_fare_per_duration@meter_waiting_till_pickup_per_meter_waiting_fare',\n",
       " 'log_meter_waiting_fare_per_meter_waiting@addtional_fare_per_duration',\n",
       " 'log_meter_waiting_fare_per_meter_waiting@meter_waiting_after_pickup_per_fare',\n",
       " 'log_meter_waiting_per_duration@meter_waiting_till_pickup_per_distance',\n",
       " 'log_meter_waiting_per_duration@meter_waiting_till_pickup_per_duration',\n",
       " 'log_meter_waiting_till_pickup_per_distance@meter_waiting_till_pickup_per_fare',\n",
       " 'log_meter_waiting_till_pickup_per_duration',\n",
       " 'log_meter_waiting_till_pickup_per_duration@meter_waiting_after_pickup_per_meter_waiting_fare',\n",
       " 'log_meter_waiting_till_pickup_per_duration@meter_waiting_till_pickup_per_fare',\n",
       " 'log_meter_waiting_till_pickup_per_duration@meter_waiting_till_pickup_per_meter_waiting_fare',\n",
       " 'log_meter_waiting_till_pickup_per_fare@meter_waiting_after_pickup_per_fare',\n",
       " 'log_meter_waiting_till_pickup_per_fare@meter_waiting_till_pickup_per_meter_waiting_fare',\n",
       " 'log_meter_waiting_till_pickup_per_meter_waiting',\n",
       " 'log_meter_waiting_till_pickup_per_meter_waiting@meter_waiting_after_pickup_per_distance',\n",
       " 'log_meter_waiting_till_pickup_per_meter_waiting@meter_waiting_after_pickup_per_duration',\n",
       " 'log_meter_waiting_till_pickup_per_meter_waiting@meter_waiting_after_pickup_per_fare',\n",
       " 'log_meter_waiting_till_pickup_per_meter_waiting@meter_waiting_after_pickup_per_meter_waiting_fare',\n",
       " 'log_meter_waiting_till_pickup_per_meter_waiting@meter_waiting_till_pickup_per_meter_waiting_fare',\n",
       " 'log_meter_waiting_till_pickup_per_meter_waiting_fare',\n",
       " 'meter_waiting_after_pickup_per_distance',\n",
       " 'meter_waiting_after_pickup_per_distance@meter_waiting_after_pickup_per_fare',\n",
       " 'meter_waiting_after_pickup_per_distance@meter_waiting_till_pickup_per_fare',\n",
       " 'meter_waiting_after_pickup_per_duration@meter_waiting_till_pickup_per_fare',\n",
       " 'meter_waiting_after_pickup_per_duration@meter_waiting_till_pickup_per_meter_waiting_fare',\n",
       " 'meter_waiting_after_pickup_per_fare@meter_waiting_after_pickup_per_meter_waiting_fare',\n",
       " 'meter_waiting_fare_per_duration@meter_waiting_after_pickup_per_distance',\n",
       " 'meter_waiting_fare_per_duration@meter_waiting_till_pickup_per_meter_waiting',\n",
       " 'meter_waiting_fare_per_meter_waiting@meter_waiting_till_pickup_per_duration',\n",
       " 'meter_waiting_per_duration@fare-additional_fare_per_distance',\n",
       " 'meter_waiting_per_duration@meter_waiting_till_pickup_per_meter_waiting_fare',\n",
       " 'meter_waiting_till_pickup_per_distance@meter_waiting_after_pickup_per_fare',\n",
       " 'meter_waiting_till_pickup_per_distance@meter_waiting_after_pickup_per_meter_waiting_fare',\n",
       " 'meter_waiting_till_pickup_per_distance@meter_waiting_till_pickup_per_fare',\n",
       " 'meter_waiting_till_pickup_per_duration@meter_waiting_after_pickup_per_meter_waiting_fare',\n",
       " 'meter_waiting_till_pickup_per_duration@meter_waiting_till_pickup_per_distance',\n",
       " 'meter_waiting_till_pickup_per_duration@meter_waiting_till_pickup_per_meter_waiting_fare',\n",
       " 'meter_waiting_till_pickup_per_fare',\n",
       " 'meter_waiting_till_pickup_per_fare@meter_waiting_till_pickup_per_meter_waiting_fare',\n",
       " 'meter_waiting_till_pickup_per_meter_waiting@meter_waiting_after_pickup_per_duration',\n",
       " 'meter_waiting_till_pickup_per_meter_waiting@meter_waiting_after_pickup_per_meter_waiting_fare',\n",
       " 'meter_waiting_till_pickup_per_meter_waiting@meter_waiting_till_pickup_per_duration',\n",
       " 'meter_waiting_till_pickup_per_meter_waiting@meter_waiting_till_pickup_per_meter_waiting_fare',\n",
       " 'meter_waiting_till_pickup_per_meter_waiting_fare'}"
      ]
     },
     "execution_count": 92,
     "metadata": {},
     "output_type": "execute_result"
    }
   ],
   "source": [
    "model_1 = models[0]\n",
    "df_1 = model_1.get_feature_importance(prettified=True)\n",
    "set_1 = set(df_1[df_1['Importances'] == 0]['Feature Id'].values)\n",
    "\n",
    "model_2 = models[1]\n",
    "df_2 = model_2.get_feature_importance(prettified=True)\n",
    "set_2 = set(df_2[df_2['Importances'] == 0]['Feature Id'].values)\n",
    "\n",
    "model_3 = models[2]\n",
    "df_3 = model_3.get_feature_importance(prettified=True)\n",
    "set_3 = set(df_3[df_3['Importances'] == 0]['Feature Id'].values)\n",
    "\n",
    "ignore = set_1.intersection(set_2,set_3)\n",
    "ignore"
   ]
  },
  {
   "cell_type": "code",
   "execution_count": 93,
   "metadata": {},
   "outputs": [],
   "source": [
    "features = [each for each in features if each not in ignore]"
   ]
  },
  {
   "cell_type": "code",
   "execution_count": 94,
   "metadata": {},
   "outputs": [],
   "source": [
    "train = train_df[features]\n",
    "test = test_df[features]\n",
    "train_org = train_df_org[features]\n",
    "y = train_df['label']"
   ]
  },
  {
   "cell_type": "code",
   "execution_count": 95,
   "metadata": {},
   "outputs": [],
   "source": [
    "submission_pool = Pool(data=test_df[features], cat_features=cat_features)\n",
    "org_pool = Pool(data=train_org[features], cat_features=cat_features)"
   ]
  },
  {
   "cell_type": "code",
   "execution_count": 96,
   "metadata": {},
   "outputs": [
    {
     "name": "stdout",
     "output_type": "stream",
     "text": [
      "Learning rate set to 0.057693\n",
      "0:\tlearn: 0.9664955\ttest: 0.9666698\tbest: 0.9666698 (0)\ttotal: 81.9ms\tremaining: 1m 21s\n",
      "10:\tlearn: 0.9711758\ttest: 0.9749548\tbest: 0.9749548 (10)\ttotal: 981ms\tremaining: 1m 28s\n",
      "20:\tlearn: 0.9734513\ttest: 0.9768952\tbest: 0.9772727 (19)\ttotal: 2.02s\tremaining: 1m 34s\n",
      "30:\tlearn: 0.9749500\ttest: 0.9783045\tbest: 0.9784063 (29)\ttotal: 3.08s\tremaining: 1m 36s\n",
      "40:\tlearn: 0.9763359\ttest: 0.9785687\tbest: 0.9786746 (37)\ttotal: 4.07s\tremaining: 1m 35s\n",
      "50:\tlearn: 0.9769731\ttest: 0.9785482\tbest: 0.9787438 (48)\ttotal: 5.04s\tremaining: 1m 33s\n",
      "60:\tlearn: 0.9776226\ttest: 0.9784462\tbest: 0.9787438 (48)\ttotal: 6.06s\tremaining: 1m 33s\n",
      "70:\tlearn: 0.9787886\ttest: 0.9783317\tbest: 0.9787438 (48)\ttotal: 6.94s\tremaining: 1m 30s\n",
      "80:\tlearn: 0.9791697\ttest: 0.9780420\tbest: 0.9787438 (48)\ttotal: 7.96s\tremaining: 1m 30s\n",
      "90:\tlearn: 0.9795918\ttest: 0.9781358\tbest: 0.9787438 (48)\ttotal: 9.01s\tremaining: 1m 29s\n",
      "Stopped by overfitting detector  (50 iterations wait)\n",
      "\n",
      "bestTest = 0.9787437763\n",
      "bestIteration = 48\n",
      "\n",
      "Shrink model to first 49 iterations.\n",
      "Learning rate set to 0.057693\n",
      "0:\tlearn: 0.9649906\ttest: 0.9674937\tbest: 0.9674937 (0)\ttotal: 82.7ms\tremaining: 1m 22s\n",
      "10:\tlearn: 0.9731170\ttest: 0.9736266\tbest: 0.9740124 (9)\ttotal: 954ms\tremaining: 1m 25s\n",
      "20:\tlearn: 0.9738833\ttest: 0.9744762\tbest: 0.9745642 (17)\ttotal: 1.98s\tremaining: 1m 32s\n",
      "30:\tlearn: 0.9753774\ttest: 0.9757818\tbest: 0.9757818 (30)\ttotal: 2.97s\tremaining: 1m 32s\n",
      "40:\tlearn: 0.9764335\ttest: 0.9760428\tbest: 0.9764200 (38)\ttotal: 3.86s\tremaining: 1m 30s\n",
      "50:\tlearn: 0.9777332\ttest: 0.9766820\tbest: 0.9766820 (50)\ttotal: 4.75s\tremaining: 1m 28s\n",
      "60:\tlearn: 0.9782494\ttest: 0.9767664\tbest: 0.9768731 (53)\ttotal: 5.63s\tremaining: 1m 26s\n",
      "70:\tlearn: 0.9790002\ttest: 0.9772379\tbest: 0.9774206 (64)\ttotal: 6.51s\tremaining: 1m 25s\n",
      "80:\tlearn: 0.9796094\ttest: 0.9776034\tbest: 0.9777055 (73)\ttotal: 7.49s\tremaining: 1m 24s\n",
      "90:\tlearn: 0.9800278\ttest: 0.9778799\tbest: 0.9780756 (84)\ttotal: 8.64s\tremaining: 1m 26s\n",
      "100:\tlearn: 0.9807361\ttest: 0.9780630\tbest: 0.9782588 (97)\ttotal: 9.65s\tremaining: 1m 25s\n",
      "110:\tlearn: 0.9808752\ttest: 0.9783442\tbest: 0.9784421 (103)\ttotal: 10.6s\tremaining: 1m 25s\n",
      "120:\tlearn: 0.9813927\ttest: 0.9786255\tbest: 0.9786255 (120)\ttotal: 11.6s\tremaining: 1m 24s\n",
      "130:\tlearn: 0.9820589\ttest: 0.9786296\tbest: 0.9787234 (129)\ttotal: 12.6s\tremaining: 1m 23s\n",
      "140:\tlearn: 0.9822457\ttest: 0.9784338\tbest: 0.9788213 (132)\ttotal: 13.5s\tremaining: 1m 22s\n",
      "150:\tlearn: 0.9826750\ttest: 0.9783359\tbest: 0.9788213 (132)\ttotal: 14.4s\tremaining: 1m 20s\n",
      "160:\tlearn: 0.9828621\ttest: 0.9783359\tbest: 0.9788213 (132)\ttotal: 15.4s\tremaining: 1m 20s\n",
      "170:\tlearn: 0.9833893\ttest: 0.9786214\tbest: 0.9788213 (132)\ttotal: 16.4s\tremaining: 1m 19s\n",
      "180:\tlearn: 0.9838175\ttest: 0.9785194\tbest: 0.9788213 (132)\ttotal: 17.4s\tremaining: 1m 18s\n",
      "Stopped by overfitting detector  (50 iterations wait)\n",
      "\n",
      "bestTest = 0.9788212746\n",
      "bestIteration = 132\n",
      "\n",
      "Shrink model to first 133 iterations.\n",
      "Learning rate set to 0.057694\n",
      "0:\tlearn: 0.9695087\ttest: 0.9630476\tbest: 0.9630476 (0)\ttotal: 84.7ms\tremaining: 1m 24s\n",
      "10:\tlearn: 0.9765379\ttest: 0.9673810\tbest: 0.9674851 (9)\ttotal: 994ms\tremaining: 1m 29s\n",
      "20:\tlearn: 0.9774170\ttest: 0.9678460\tbest: 0.9681396 (19)\ttotal: 1.92s\tremaining: 1m 29s\n",
      "30:\tlearn: 0.9784936\ttest: 0.9688568\tbest: 0.9688568 (30)\ttotal: 2.82s\tremaining: 1m 28s\n",
      "40:\tlearn: 0.9795235\ttest: 0.9696739\tbest: 0.9696739 (39)\ttotal: 3.73s\tremaining: 1m 27s\n",
      "50:\tlearn: 0.9799454\ttest: 0.9700428\tbest: 0.9700485 (49)\ttotal: 4.67s\tremaining: 1m 26s\n",
      "60:\tlearn: 0.9806983\ttest: 0.9703083\tbest: 0.9705043 (57)\ttotal: 5.66s\tremaining: 1m 27s\n",
      "70:\tlearn: 0.9814069\ttest: 0.9709551\tbest: 0.9710476 (68)\ttotal: 6.74s\tremaining: 1m 28s\n",
      "80:\tlearn: 0.9819263\ttest: 0.9713361\tbest: 0.9713361 (80)\ttotal: 7.83s\tremaining: 1m 28s\n",
      "90:\tlearn: 0.9823569\ttest: 0.9714068\tbest: 0.9715102 (86)\ttotal: 8.82s\tremaining: 1m 28s\n",
      "100:\tlearn: 0.9829207\ttest: 0.9715974\tbest: 0.9715974 (100)\ttotal: 9.83s\tremaining: 1m 27s\n",
      "110:\tlearn: 0.9831094\ttest: 0.9717719\tbest: 0.9717719 (110)\ttotal: 10.9s\tremaining: 1m 27s\n",
      "120:\tlearn: 0.9834885\ttest: 0.9719519\tbest: 0.9719519 (120)\ttotal: 12s\tremaining: 1m 27s\n",
      "130:\tlearn: 0.9838237\ttest: 0.9717611\tbest: 0.9719519 (120)\ttotal: 13.1s\tremaining: 1m 26s\n",
      "140:\tlearn: 0.9842489\ttest: 0.9718485\tbest: 0.9719519 (120)\ttotal: 14.3s\tremaining: 1m 26s\n",
      "150:\tlearn: 0.9847735\ttest: 0.9717449\tbest: 0.9719519 (120)\ttotal: 15.2s\tremaining: 1m 25s\n",
      "160:\tlearn: 0.9851062\ttest: 0.9716522\tbest: 0.9719519 (120)\ttotal: 16.2s\tremaining: 1m 24s\n",
      "170:\tlearn: 0.9851994\ttest: 0.9714613\tbest: 0.9719519 (120)\ttotal: 17.2s\tremaining: 1m 23s\n",
      "Stopped by overfitting detector  (50 iterations wait)\n",
      "\n",
      "bestTest = 0.9719519176\n",
      "bestIteration = 120\n",
      "\n",
      "Shrink model to first 121 iterations.\n"
     ]
    }
   ],
   "source": [
    "train_preds = np.zeros(train_df.shape[0])\n",
    "test_preds = np.zeros(test_df.shape[0])\n",
    "train_class = np.zeros(train_df.shape[0])\n",
    "test_class = np.zeros(test_df.shape[0])\n",
    "skf = StratifiedKFold(n_splits=3)\n",
    "validation_scores = []\n",
    "org_scores = []\n",
    "models = []\n",
    "for train_index, test_index in skf.split(train, y):\n",
    "    X_train, X_test = train.iloc[train_index,:], train.iloc[test_index,:]\n",
    "    y_train, y_test = y[train_index], y[test_index]\n",
    "    train_pool = Pool(data=X_train, label=y_train,cat_features=cat_features)\n",
    "    test_pool = Pool(data=X_test, label=y_test, cat_features=cat_features)    \n",
    "    model = CatBoostClassifier(**catboost_params)\n",
    "    model.fit(X=train_pool, eval_set=test_pool,verbose=10)\n",
    "    train_preds[test_index] = model.predict_proba(test_pool)[:,1]\n",
    "    train_class[test_index] = model.predict(test_pool)\n",
    "    test_preds += model.predict_proba(submission_pool)[:,1]/3\n",
    "    test_class += model.predict(submission_pool)\n",
    "    validation_scores.append(f1_score(y_test,model.predict(test_pool),average='micro'))\n",
    "    org_scores.append(f1_score(y_org,model.predict(org_pool),average='micro'))\n",
    "    models.append(model)\n",
    "test_class = np.where(test_class > 2, 1, 0)"
   ]
  },
  {
   "cell_type": "code",
   "execution_count": 97,
   "metadata": {},
   "outputs": [
    {
     "data": {
      "text/plain": [
       "(0.9565622354202074, 0.0060473430438493835, 0.9480106100795755)"
      ]
     },
     "execution_count": 97,
     "metadata": {},
     "output_type": "execute_result"
    }
   ],
   "source": [
    "np.mean(validation_scores), np.std(validation_scores), min(validation_scores)"
   ]
  },
  {
   "cell_type": "code",
   "execution_count": 98,
   "metadata": {},
   "outputs": [
    {
     "data": {
      "text/plain": [
       "(0.9543875808339569, 0.0030898573803650564, 0.9503194980139312)"
      ]
     },
     "execution_count": 98,
     "metadata": {},
     "output_type": "execute_result"
    }
   ],
   "source": [
    "np.mean(org_scores), np.std(org_scores), min(org_scores)"
   ]
  },
  {
   "cell_type": "code",
   "execution_count": 99,
   "metadata": {},
   "outputs": [
    {
     "data": {
      "text/html": [
       "<div>\n",
       "<style scoped>\n",
       "    .dataframe tbody tr th:only-of-type {\n",
       "        vertical-align: middle;\n",
       "    }\n",
       "\n",
       "    .dataframe tbody tr th {\n",
       "        vertical-align: top;\n",
       "    }\n",
       "\n",
       "    .dataframe thead th {\n",
       "        text-align: right;\n",
       "    }\n",
       "</style>\n",
       "<table border=\"1\" class=\"dataframe\">\n",
       "  <thead>\n",
       "    <tr style=\"text-align: right;\">\n",
       "      <th></th>\n",
       "      <th>Feature Id</th>\n",
       "      <th>Importances</th>\n",
       "    </tr>\n",
       "  </thead>\n",
       "  <tbody>\n",
       "    <tr>\n",
       "      <td>0</td>\n",
       "      <td>fare_per_distance</td>\n",
       "      <td>4.235246</td>\n",
       "    </tr>\n",
       "    <tr>\n",
       "      <td>1</td>\n",
       "      <td>fare_per_duration</td>\n",
       "      <td>2.918840</td>\n",
       "    </tr>\n",
       "    <tr>\n",
       "      <td>2</td>\n",
       "      <td>fare_per_distance@fare-additional_fare_per_dis...</td>\n",
       "      <td>2.561977</td>\n",
       "    </tr>\n",
       "    <tr>\n",
       "      <td>3</td>\n",
       "      <td>log_fare_per_distance@avg_speed</td>\n",
       "      <td>2.289241</td>\n",
       "    </tr>\n",
       "    <tr>\n",
       "      <td>4</td>\n",
       "      <td>log_fare-additional_fare-meter_waiting_fare_pe...</td>\n",
       "      <td>1.756262</td>\n",
       "    </tr>\n",
       "    <tr>\n",
       "      <td>...</td>\n",
       "      <td>...</td>\n",
       "      <td>...</td>\n",
       "    </tr>\n",
       "    <tr>\n",
       "      <td>399</td>\n",
       "      <td>log_meter_waiting_till_pickup_per_distance@met...</td>\n",
       "      <td>0.000000</td>\n",
       "    </tr>\n",
       "    <tr>\n",
       "      <td>400</td>\n",
       "      <td>log_meter_waiting_after_pickup_per_distance@me...</td>\n",
       "      <td>0.000000</td>\n",
       "    </tr>\n",
       "    <tr>\n",
       "      <td>401</td>\n",
       "      <td>log_meter_waiting_after_pickup_per_distance@me...</td>\n",
       "      <td>0.000000</td>\n",
       "    </tr>\n",
       "    <tr>\n",
       "      <td>402</td>\n",
       "      <td>log_meter_waiting_till_pickup_per_fare@meter_w...</td>\n",
       "      <td>0.000000</td>\n",
       "    </tr>\n",
       "    <tr>\n",
       "      <td>403</td>\n",
       "      <td>log_meter_waiting_after_pickup_per_fare@meter_...</td>\n",
       "      <td>0.000000</td>\n",
       "    </tr>\n",
       "  </tbody>\n",
       "</table>\n",
       "<p>404 rows × 2 columns</p>\n",
       "</div>"
      ],
      "text/plain": [
       "                                            Feature Id  Importances\n",
       "0                                    fare_per_distance     4.235246\n",
       "1                                    fare_per_duration     2.918840\n",
       "2    fare_per_distance@fare-additional_fare_per_dis...     2.561977\n",
       "3                      log_fare_per_distance@avg_speed     2.289241\n",
       "4    log_fare-additional_fare-meter_waiting_fare_pe...     1.756262\n",
       "..                                                 ...          ...\n",
       "399  log_meter_waiting_till_pickup_per_distance@met...     0.000000\n",
       "400  log_meter_waiting_after_pickup_per_distance@me...     0.000000\n",
       "401  log_meter_waiting_after_pickup_per_distance@me...     0.000000\n",
       "402  log_meter_waiting_till_pickup_per_fare@meter_w...     0.000000\n",
       "403  log_meter_waiting_after_pickup_per_fare@meter_...     0.000000\n",
       "\n",
       "[404 rows x 2 columns]"
      ]
     },
     "execution_count": 99,
     "metadata": {},
     "output_type": "execute_result"
    }
   ],
   "source": [
    "best_model = models[np.argmax(validation_scores)]\n",
    "best_model.get_feature_importance(prettified=True)"
   ]
  },
  {
   "cell_type": "code",
   "execution_count": 100,
   "metadata": {},
   "outputs": [
    {
     "data": {
      "text/plain": [
       "array([[0.91238938, 0.03125592],\n",
       "       [0.08761062, 0.96874408]])"
      ]
     },
     "execution_count": 100,
     "metadata": {},
     "output_type": "execute_result"
    }
   ],
   "source": [
    "y_hat = np.round(best_model.predict(train))\n",
    "confusion_matrix(y,y_hat,normalize='pred')"
   ]
  },
  {
   "cell_type": "markdown",
   "metadata": {},
   "source": [
    "# PCA"
   ]
  },
  {
   "cell_type": "code",
   "execution_count": 301,
   "metadata": {},
   "outputs": [],
   "source": [
    "n_components=40"
   ]
  },
  {
   "cell_type": "code",
   "execution_count": 302,
   "metadata": {},
   "outputs": [],
   "source": [
    "X_train = train_df[features].values\n",
    "X_train_org = train_df_org[features].values\n",
    "X_test = test_df[features].values"
   ]
  },
  {
   "cell_type": "code",
   "execution_count": 303,
   "metadata": {},
   "outputs": [],
   "source": [
    "pca = PCA(n_components=n_components)\n",
    "X_train_transformed = pca.fit_transform(X_train)\n",
    "X_test_transformed = pca.transform(X_test)\n",
    "X_train_org_transformed = pca.transform(X_train_org)"
   ]
  },
  {
   "cell_type": "code",
   "execution_count": 304,
   "metadata": {},
   "outputs": [],
   "source": [
    "pca_train = pd.DataFrame()\n",
    "pca_train['label'] = train_df['label']\n",
    "\n",
    "pca_train_org = pd.DataFrame()\n",
    "pca_train_org['label'] = y_org\n",
    "\n",
    "pca_test = pd.DataFrame()\n",
    "for i in range(n_components):\n",
    "    name = f'col_{i}'\n",
    "    pca_train[name] = X_train_transformed[:,i]\n",
    "    pca_test[name] = X_test_transformed[:,i]\n",
    "    pca_train_org[name] = X_train_org_transformed[:,i]\n",
    "    "
   ]
  },
  {
   "cell_type": "code",
   "execution_count": 305,
   "metadata": {},
   "outputs": [
    {
     "data": {
      "text/plain": [
       "<matplotlib.axes._subplots.AxesSubplot at 0x7f78d08a7910>"
      ]
     },
     "execution_count": 305,
     "metadata": {},
     "output_type": "execute_result"
    },
    {
     "data": {
      "image/png": "[encoded data removed]",
      "text/plain": [
       "<Figure size 432x288 with 1 Axes>"
      ]
     },
     "metadata": {
      "needs_background": "light"
     },
     "output_type": "display_data"
    }
   ],
   "source": [
    "sns.scatterplot(x='col_0',y='col_1',data=pca_train,hue='label')"
   ]
  },
  {
   "cell_type": "code",
   "execution_count": 306,
   "metadata": {},
   "outputs": [],
   "source": [
    "pca_cols = list(pca_test.columns)\n",
    "for each in pca_cols:\n",
    "    train_df[each] = pca_train[each]\n",
    "    test_df[each] = pca_test[each]\n",
    "    train_df_org[each] = pca_train_org[each]"
   ]
  },
  {
   "cell_type": "code",
   "execution_count": 307,
   "metadata": {},
   "outputs": [],
   "source": [
    "features = features + pca_cols"
   ]
  },
  {
   "cell_type": "code",
   "execution_count": 308,
   "metadata": {},
   "outputs": [],
   "source": [
    "train = train_df[features]\n",
    "test = test_df[features]\n",
    "train_org = train_df_org[features]\n",
    "y = train_df['label']"
   ]
  },
  {
   "cell_type": "code",
   "execution_count": 309,
   "metadata": {},
   "outputs": [],
   "source": [
    "submission_pool = Pool(data=test_df[features], cat_features=cat_features)\n",
    "org_pool = Pool(data=train_org[features], cat_features=cat_features)"
   ]
  },
  {
   "cell_type": "code",
   "execution_count": 310,
   "metadata": {
    "scrolled": true
   },
   "outputs": [
    {
     "name": "stdout",
     "output_type": "stream",
     "text": [
      "Learning rate set to 0.057693\n",
      "0:\tlearn: 0.9662024\ttest: 0.9697434\tbest: 0.9697434 (0)\ttotal: 65.5ms\tremaining: 1m 5s\n",
      "10:\tlearn: 0.9713228\ttest: 0.9746618\tbest: 0.9749261 (1)\ttotal: 776ms\tremaining: 1m 9s\n",
      "20:\tlearn: 0.9730784\ttest: 0.9767176\tbest: 0.9769040 (18)\ttotal: 1.51s\tremaining: 1m 10s\n",
      "30:\tlearn: 0.9753098\ttest: 0.9784833\tbest: 0.9784833 (30)\ttotal: 2.25s\tremaining: 1m 10s\n",
      "40:\tlearn: 0.9764891\ttest: 0.9786623\tbest: 0.9786664 (32)\ttotal: 3s\tremaining: 1m 10s\n",
      "50:\tlearn: 0.9774637\ttest: 0.9786501\tbest: 0.9788497 (41)\ttotal: 3.71s\tremaining: 1m 9s\n",
      "60:\tlearn: 0.9782474\ttest: 0.9781609\tbest: 0.9788497 (41)\ttotal: 4.45s\tremaining: 1m 8s\n",
      "70:\tlearn: 0.9789922\ttest: 0.9782379\tbest: 0.9788497 (41)\ttotal: 5.2s\tremaining: 1m 7s\n",
      "80:\tlearn: 0.9794609\ttest: 0.9778502\tbest: 0.9788497 (41)\ttotal: 5.92s\tremaining: 1m 7s\n",
      "90:\tlearn: 0.9801686\ttest: 0.9782254\tbest: 0.9788497 (41)\ttotal: 6.66s\tremaining: 1m 6s\n",
      "Stopped by overfitting detector  (50 iterations wait)\n",
      "\n",
      "bestTest = 0.9788496507\n",
      "bestIteration = 41\n",
      "\n",
      "Shrink model to first 42 iterations.\n",
      "Learning rate set to 0.057693\n",
      "0:\tlearn: 0.9673469\ttest: 0.9670371\tbest: 0.9670371 (0)\ttotal: 69.7ms\tremaining: 1m 9s\n",
      "10:\tlearn: 0.9716349\ttest: 0.9711246\tbest: 0.9712005 (9)\ttotal: 803ms\tremaining: 1m 12s\n",
      "20:\tlearn: 0.9733352\ttest: 0.9741199\tbest: 0.9742175 (19)\ttotal: 1.52s\tremaining: 1m 10s\n",
      "30:\tlearn: 0.9748332\ttest: 0.9752980\tbest: 0.9754935 (29)\ttotal: 2.25s\tremaining: 1m 10s\n",
      "40:\tlearn: 0.9762314\ttest: 0.9764245\tbest: 0.9764245 (40)\ttotal: 2.98s\tremaining: 1m 9s\n",
      "50:\tlearn: 0.9768463\ttest: 0.9770686\tbest: 0.9770686 (50)\ttotal: 3.76s\tremaining: 1m 9s\n",
      "60:\tlearn: 0.9779180\ttest: 0.9769576\tbest: 0.9770686 (50)\ttotal: 4.52s\tremaining: 1m 9s\n",
      "70:\tlearn: 0.9786603\ttest: 0.9770423\tbest: 0.9771401 (63)\ttotal: 5.25s\tremaining: 1m 8s\n",
      "80:\tlearn: 0.9791348\ttest: 0.9776927\tbest: 0.9777905 (78)\ttotal: 5.97s\tremaining: 1m 7s\n",
      "90:\tlearn: 0.9798401\ttest: 0.9773054\tbest: 0.9777905 (78)\ttotal: 6.7s\tremaining: 1m 6s\n",
      "100:\tlearn: 0.9803583\ttest: 0.9775862\tbest: 0.9777905 (78)\ttotal: 7.44s\tremaining: 1m 6s\n",
      "110:\tlearn: 0.9809259\ttest: 0.9773946\tbest: 0.9777905 (78)\ttotal: 8.19s\tremaining: 1m 5s\n",
      "120:\tlearn: 0.9813528\ttest: 0.9774840\tbest: 0.9777905 (78)\ttotal: 8.91s\tremaining: 1m 4s\n",
      "Stopped by overfitting detector  (50 iterations wait)\n",
      "\n",
      "bestTest = 0.9777905418\n",
      "bestIteration = 78\n",
      "\n",
      "Shrink model to first 79 iterations.\n",
      "Learning rate set to 0.057694\n",
      "0:\tlearn: 0.9695673\ttest: 0.9627464\tbest: 0.9627464 (0)\ttotal: 66.5ms\tremaining: 1m 6s\n",
      "10:\tlearn: 0.9758233\ttest: 0.9665533\tbest: 0.9666257 (9)\ttotal: 791ms\tremaining: 1m 11s\n",
      "20:\tlearn: 0.9774917\ttest: 0.9675159\tbest: 0.9677114 (14)\ttotal: 1.52s\tremaining: 1m 10s\n",
      "30:\tlearn: 0.9787864\ttest: 0.9684031\tbest: 0.9685869 (29)\ttotal: 2.24s\tremaining: 1m 9s\n",
      "40:\tlearn: 0.9794864\ttest: 0.9693170\tbest: 0.9693170 (40)\ttotal: 2.95s\tremaining: 1m 8s\n",
      "50:\tlearn: 0.9804691\ttest: 0.9704176\tbest: 0.9704176 (50)\ttotal: 3.68s\tremaining: 1m 8s\n",
      "60:\tlearn: 0.9809387\ttest: 0.9705099\tbest: 0.9706078 (55)\ttotal: 4.42s\tremaining: 1m 8s\n",
      "70:\tlearn: 0.9814593\ttest: 0.9710642\tbest: 0.9710642 (70)\ttotal: 5.14s\tremaining: 1m 7s\n",
      "80:\tlearn: 0.9818339\ttest: 0.9711511\tbest: 0.9712490 (75)\ttotal: 5.86s\tremaining: 1m 6s\n",
      "90:\tlearn: 0.9820744\ttest: 0.9715211\tbest: 0.9716190 (88)\ttotal: 6.58s\tremaining: 1m 5s\n",
      "100:\tlearn: 0.9827843\ttest: 0.9718914\tbest: 0.9718914 (100)\ttotal: 7.31s\tremaining: 1m 5s\n",
      "110:\tlearn: 0.9832606\ttest: 0.9718807\tbest: 0.9719733 (103)\ttotal: 8.04s\tremaining: 1m 4s\n",
      "120:\tlearn: 0.9835436\ttest: 0.9722461\tbest: 0.9723441 (117)\ttotal: 8.76s\tremaining: 1m 3s\n",
      "130:\tlearn: 0.9840157\ttest: 0.9722461\tbest: 0.9725348 (124)\ttotal: 9.47s\tremaining: 1m 2s\n",
      "140:\tlearn: 0.9846804\ttest: 0.9724316\tbest: 0.9725348 (124)\ttotal: 10.2s\tremaining: 1m 2s\n",
      "150:\tlearn: 0.9849183\ttest: 0.9722355\tbest: 0.9725348 (124)\ttotal: 10.9s\tremaining: 1m 1s\n",
      "160:\tlearn: 0.9853944\ttest: 0.9721427\tbest: 0.9725348 (124)\ttotal: 11.6s\tremaining: 1m\n",
      "170:\tlearn: 0.9855365\ttest: 0.9720500\tbest: 0.9725348 (124)\ttotal: 12.3s\tremaining: 59.9s\n",
      "Stopped by overfitting detector  (50 iterations wait)\n",
      "\n",
      "bestTest = 0.9725348083\n",
      "bestIteration = 124\n",
      "\n",
      "Shrink model to first 125 iterations.\n"
     ]
    }
   ],
   "source": [
    "train_preds = np.zeros(train_df.shape[0])\n",
    "test_preds = np.zeros(test_df.shape[0])\n",
    "train_class = np.zeros(train_df.shape[0])\n",
    "test_class = np.zeros(test_df.shape[0])\n",
    "skf = StratifiedKFold(n_splits=3)\n",
    "validation_scores = []\n",
    "org_scores = []\n",
    "models = []\n",
    "for train_index, test_index in skf.split(train, y):\n",
    "    X_train, X_test = train.iloc[train_index,:], train.iloc[test_index,:]\n",
    "    y_train, y_test = y[train_index], y[test_index]\n",
    "    train_pool = Pool(data=X_train, label=y_train,cat_features=cat_features)\n",
    "    test_pool = Pool(data=X_test, label=y_test, cat_features=cat_features)    \n",
    "    model = CatBoostClassifier(**catboost_params)\n",
    "    model.fit(X=train_pool, eval_set=test_pool,verbose=10)\n",
    "    train_preds[test_index] = model.predict_proba(test_pool)[:,1]\n",
    "    train_class[test_index] = model.predict(test_pool)\n",
    "    test_preds += model.predict_proba(submission_pool)[:,1]/3\n",
    "    test_class += model.predict(submission_pool)\n",
    "    validation_scores.append(f1_score(y_test,model.predict(test_pool),average='micro'))\n",
    "    org_scores.append(f1_score(y_org,model.predict(org_pool),average='micro'))\n",
    "    models.append(model)\n",
    "test_class = np.where(test_class > 2, 1, 0)"
   ]
  },
  {
   "cell_type": "code",
   "execution_count": 311,
   "metadata": {},
   "outputs": [
    {
     "data": {
      "text/plain": [
       "(0.9563265600906434, 0.00519109726489741, 0.9490716180371352)"
      ]
     },
     "execution_count": 311,
     "metadata": {},
     "output_type": "execute_result"
    }
   ],
   "source": [
    "np.mean(validation_scores), np.std(validation_scores), min(validation_scores)"
   ]
  },
  {
   "cell_type": "code",
   "execution_count": 312,
   "metadata": {},
   "outputs": [
    {
     "data": {
      "text/plain": [
       "(0.9525070519831904, 0.002609007931293489, 0.9493408554487364)"
      ]
     },
     "execution_count": 312,
     "metadata": {},
     "output_type": "execute_result"
    }
   ],
   "source": [
    "np.mean(org_scores), np.std(org_scores), min(org_scores)"
   ]
  },
  {
   "cell_type": "code",
   "execution_count": 313,
   "metadata": {},
   "outputs": [
    {
     "data": {
      "text/html": [
       "<div>\n",
       "<style scoped>\n",
       "    .dataframe tbody tr th:only-of-type {\n",
       "        vertical-align: middle;\n",
       "    }\n",
       "\n",
       "    .dataframe tbody tr th {\n",
       "        vertical-align: top;\n",
       "    }\n",
       "\n",
       "    .dataframe thead th {\n",
       "        text-align: right;\n",
       "    }\n",
       "</style>\n",
       "<table border=\"1\" class=\"dataframe\">\n",
       "  <thead>\n",
       "    <tr style=\"text-align: right;\">\n",
       "      <th></th>\n",
       "      <th>Feature Id</th>\n",
       "      <th>Importances</th>\n",
       "    </tr>\n",
       "  </thead>\n",
       "  <tbody>\n",
       "    <tr>\n",
       "      <td>0</td>\n",
       "      <td>fare_per_distance@fare-additional_fare_per_dur...</td>\n",
       "      <td>6.175151</td>\n",
       "    </tr>\n",
       "    <tr>\n",
       "      <td>1</td>\n",
       "      <td>fare-additional_fare-meter_waiting_fare_per_di...</td>\n",
       "      <td>4.581372</td>\n",
       "    </tr>\n",
       "    <tr>\n",
       "      <td>2</td>\n",
       "      <td>fare_per_distance@fare-additional_fare-meter_w...</td>\n",
       "      <td>4.398438</td>\n",
       "    </tr>\n",
       "    <tr>\n",
       "      <td>3</td>\n",
       "      <td>avg_speed@fare-additional_fare_per_distance</td>\n",
       "      <td>4.236665</td>\n",
       "    </tr>\n",
       "    <tr>\n",
       "      <td>4</td>\n",
       "      <td>fare-additional_fare_per_distance@fare-additio...</td>\n",
       "      <td>4.058057</td>\n",
       "    </tr>\n",
       "    <tr>\n",
       "      <td>...</td>\n",
       "      <td>...</td>\n",
       "      <td>...</td>\n",
       "    </tr>\n",
       "    <tr>\n",
       "      <td>288</td>\n",
       "      <td>col_33</td>\n",
       "      <td>0.000000</td>\n",
       "    </tr>\n",
       "    <tr>\n",
       "      <td>289</td>\n",
       "      <td>col_36</td>\n",
       "      <td>0.000000</td>\n",
       "    </tr>\n",
       "    <tr>\n",
       "      <td>290</td>\n",
       "      <td>col_37</td>\n",
       "      <td>0.000000</td>\n",
       "    </tr>\n",
       "    <tr>\n",
       "      <td>291</td>\n",
       "      <td>col_38</td>\n",
       "      <td>0.000000</td>\n",
       "    </tr>\n",
       "    <tr>\n",
       "      <td>292</td>\n",
       "      <td>col_39</td>\n",
       "      <td>0.000000</td>\n",
       "    </tr>\n",
       "  </tbody>\n",
       "</table>\n",
       "<p>293 rows × 2 columns</p>\n",
       "</div>"
      ],
      "text/plain": [
       "                                            Feature Id  Importances\n",
       "0    fare_per_distance@fare-additional_fare_per_dur...     6.175151\n",
       "1    fare-additional_fare-meter_waiting_fare_per_di...     4.581372\n",
       "2    fare_per_distance@fare-additional_fare-meter_w...     4.398438\n",
       "3          avg_speed@fare-additional_fare_per_distance     4.236665\n",
       "4    fare-additional_fare_per_distance@fare-additio...     4.058057\n",
       "..                                                 ...          ...\n",
       "288                                             col_33     0.000000\n",
       "289                                             col_36     0.000000\n",
       "290                                             col_37     0.000000\n",
       "291                                             col_38     0.000000\n",
       "292                                             col_39     0.000000\n",
       "\n",
       "[293 rows x 2 columns]"
      ]
     },
     "execution_count": 313,
     "metadata": {},
     "output_type": "execute_result"
    }
   ],
   "source": [
    "best_model = models[np.argmax(validation_scores)]\n",
    "best_model.get_feature_importance(prettified=True)"
   ]
  },
  {
   "cell_type": "code",
   "execution_count": 314,
   "metadata": {},
   "outputs": [
    {
     "data": {
      "text/plain": [
       "array([[0.90854271, 0.03894315],\n",
       "       [0.09145729, 0.96105685]])"
      ]
     },
     "execution_count": 314,
     "metadata": {},
     "output_type": "execute_result"
    }
   ],
   "source": [
    "y_hat = np.round(best_model.predict(train))\n",
    "confusion_matrix(y,y_hat,normalize='pred')"
   ]
  },
  {
   "cell_type": "code",
   "execution_count": 315,
   "metadata": {},
   "outputs": [
    {
     "data": {
      "text/html": [
       "<div>\n",
       "<style scoped>\n",
       "    .dataframe tbody tr th:only-of-type {\n",
       "        vertical-align: middle;\n",
       "    }\n",
       "\n",
       "    .dataframe tbody tr th {\n",
       "        vertical-align: top;\n",
       "    }\n",
       "\n",
       "    .dataframe thead th {\n",
       "        text-align: right;\n",
       "    }\n",
       "</style>\n",
       "<table border=\"1\" class=\"dataframe\">\n",
       "  <thead>\n",
       "    <tr style=\"text-align: right;\">\n",
       "      <th></th>\n",
       "      <th>Feature Id</th>\n",
       "      <th>Importances</th>\n",
       "    </tr>\n",
       "  </thead>\n",
       "  <tbody>\n",
       "    <tr>\n",
       "      <td>0</td>\n",
       "      <td>fare_per_distance@fare-additional_fare_per_dur...</td>\n",
       "      <td>6.175151</td>\n",
       "    </tr>\n",
       "    <tr>\n",
       "      <td>1</td>\n",
       "      <td>fare-additional_fare-meter_waiting_fare_per_di...</td>\n",
       "      <td>4.581372</td>\n",
       "    </tr>\n",
       "    <tr>\n",
       "      <td>2</td>\n",
       "      <td>fare_per_distance@fare-additional_fare-meter_w...</td>\n",
       "      <td>4.398438</td>\n",
       "    </tr>\n",
       "    <tr>\n",
       "      <td>3</td>\n",
       "      <td>avg_speed@fare-additional_fare_per_distance</td>\n",
       "      <td>4.236665</td>\n",
       "    </tr>\n",
       "    <tr>\n",
       "      <td>4</td>\n",
       "      <td>fare-additional_fare_per_distance@fare-additio...</td>\n",
       "      <td>4.058057</td>\n",
       "    </tr>\n",
       "    <tr>\n",
       "      <td>5</td>\n",
       "      <td>fare_per_duration@fare-additional_fare_per_dis...</td>\n",
       "      <td>3.492866</td>\n",
       "    </tr>\n",
       "    <tr>\n",
       "      <td>6</td>\n",
       "      <td>fare_per_distance@avg_speed</td>\n",
       "      <td>3.301717</td>\n",
       "    </tr>\n",
       "    <tr>\n",
       "      <td>7</td>\n",
       "      <td>fare_per_distance</td>\n",
       "      <td>3.229522</td>\n",
       "    </tr>\n",
       "    <tr>\n",
       "      <td>8</td>\n",
       "      <td>fare_per_duration</td>\n",
       "      <td>2.821275</td>\n",
       "    </tr>\n",
       "    <tr>\n",
       "      <td>9</td>\n",
       "      <td>fare-additional_fare_per_duration@fare-additio...</td>\n",
       "      <td>2.767825</td>\n",
       "    </tr>\n",
       "    <tr>\n",
       "      <td>10</td>\n",
       "      <td>fare-additional_fare-meter_waiting_fare_per_du...</td>\n",
       "      <td>2.695644</td>\n",
       "    </tr>\n",
       "    <tr>\n",
       "      <td>11</td>\n",
       "      <td>meter_waiting_per_duration</td>\n",
       "      <td>2.603892</td>\n",
       "    </tr>\n",
       "    <tr>\n",
       "      <td>12</td>\n",
       "      <td>fare_per_duration@fare-additional_fare_per_dur...</td>\n",
       "      <td>2.442804</td>\n",
       "    </tr>\n",
       "    <tr>\n",
       "      <td>13</td>\n",
       "      <td>fare_per_distance@fare-additional_fare-meter_w...</td>\n",
       "      <td>2.433542</td>\n",
       "    </tr>\n",
       "    <tr>\n",
       "      <td>14</td>\n",
       "      <td>fare_per_distance@fare-additional_fare_per_dis...</td>\n",
       "      <td>2.234573</td>\n",
       "    </tr>\n",
       "    <tr>\n",
       "      <td>15</td>\n",
       "      <td>fare_per_duration@avg_speed</td>\n",
       "      <td>1.941962</td>\n",
       "    </tr>\n",
       "    <tr>\n",
       "      <td>16</td>\n",
       "      <td>fare_per_duration@meter_waiting_per_duration</td>\n",
       "      <td>1.858153</td>\n",
       "    </tr>\n",
       "    <tr>\n",
       "      <td>17</td>\n",
       "      <td>avg_speed@meter_waiting_till_pickup_per_meter_...</td>\n",
       "      <td>1.820460</td>\n",
       "    </tr>\n",
       "    <tr>\n",
       "      <td>18</td>\n",
       "      <td>avg_speed@meter_waiting_till_pickup_per_meter_...</td>\n",
       "      <td>1.588874</td>\n",
       "    </tr>\n",
       "    <tr>\n",
       "      <td>19</td>\n",
       "      <td>meter_waiting_per_duration@fare-additional_far...</td>\n",
       "      <td>1.571883</td>\n",
       "    </tr>\n",
       "    <tr>\n",
       "      <td>20</td>\n",
       "      <td>fare_per_distance@fare_per_duration</td>\n",
       "      <td>1.529214</td>\n",
       "    </tr>\n",
       "    <tr>\n",
       "      <td>21</td>\n",
       "      <td>col_4</td>\n",
       "      <td>1.521062</td>\n",
       "    </tr>\n",
       "    <tr>\n",
       "      <td>22</td>\n",
       "      <td>fare-additional_fare_per_distance</td>\n",
       "      <td>1.343212</td>\n",
       "    </tr>\n",
       "    <tr>\n",
       "      <td>23</td>\n",
       "      <td>addtional_fare_per_fare@fare-additional_fare-m...</td>\n",
       "      <td>1.294088</td>\n",
       "    </tr>\n",
       "    <tr>\n",
       "      <td>24</td>\n",
       "      <td>meter_waiting_per_duration@fare-additional_far...</td>\n",
       "      <td>1.266942</td>\n",
       "    </tr>\n",
       "    <tr>\n",
       "      <td>25</td>\n",
       "      <td>col_16</td>\n",
       "      <td>1.115811</td>\n",
       "    </tr>\n",
       "    <tr>\n",
       "      <td>26</td>\n",
       "      <td>addtional_fare_per_fare@fare-additional_fare-m...</td>\n",
       "      <td>1.108162</td>\n",
       "    </tr>\n",
       "    <tr>\n",
       "      <td>27</td>\n",
       "      <td>fare-additional_fare_per_duration@fare-additio...</td>\n",
       "      <td>1.066082</td>\n",
       "    </tr>\n",
       "    <tr>\n",
       "      <td>28</td>\n",
       "      <td>meter_waiting_till_pickup_per_meter_waiting@me...</td>\n",
       "      <td>1.059252</td>\n",
       "    </tr>\n",
       "    <tr>\n",
       "      <td>29</td>\n",
       "      <td>fare-additional_fare-meter_waiting_fare_per_di...</td>\n",
       "      <td>1.046598</td>\n",
       "    </tr>\n",
       "  </tbody>\n",
       "</table>\n",
       "</div>"
      ],
      "text/plain": [
       "                                           Feature Id  Importances\n",
       "0   fare_per_distance@fare-additional_fare_per_dur...     6.175151\n",
       "1   fare-additional_fare-meter_waiting_fare_per_di...     4.581372\n",
       "2   fare_per_distance@fare-additional_fare-meter_w...     4.398438\n",
       "3         avg_speed@fare-additional_fare_per_distance     4.236665\n",
       "4   fare-additional_fare_per_distance@fare-additio...     4.058057\n",
       "5   fare_per_duration@fare-additional_fare_per_dis...     3.492866\n",
       "6                         fare_per_distance@avg_speed     3.301717\n",
       "7                                   fare_per_distance     3.229522\n",
       "8                                   fare_per_duration     2.821275\n",
       "9   fare-additional_fare_per_duration@fare-additio...     2.767825\n",
       "10  fare-additional_fare-meter_waiting_fare_per_du...     2.695644\n",
       "11                         meter_waiting_per_duration     2.603892\n",
       "12  fare_per_duration@fare-additional_fare_per_dur...     2.442804\n",
       "13  fare_per_distance@fare-additional_fare-meter_w...     2.433542\n",
       "14  fare_per_distance@fare-additional_fare_per_dis...     2.234573\n",
       "15                        fare_per_duration@avg_speed     1.941962\n",
       "16       fare_per_duration@meter_waiting_per_duration     1.858153\n",
       "17  avg_speed@meter_waiting_till_pickup_per_meter_...     1.820460\n",
       "18  avg_speed@meter_waiting_till_pickup_per_meter_...     1.588874\n",
       "19  meter_waiting_per_duration@fare-additional_far...     1.571883\n",
       "20                fare_per_distance@fare_per_duration     1.529214\n",
       "21                                              col_4     1.521062\n",
       "22                  fare-additional_fare_per_distance     1.343212\n",
       "23  addtional_fare_per_fare@fare-additional_fare-m...     1.294088\n",
       "24  meter_waiting_per_duration@fare-additional_far...     1.266942\n",
       "25                                             col_16     1.115811\n",
       "26  addtional_fare_per_fare@fare-additional_fare-m...     1.108162\n",
       "27  fare-additional_fare_per_duration@fare-additio...     1.066082\n",
       "28  meter_waiting_till_pickup_per_meter_waiting@me...     1.059252\n",
       "29  fare-additional_fare-meter_waiting_fare_per_di...     1.046598"
      ]
     },
     "execution_count": 315,
     "metadata": {},
     "output_type": "execute_result"
    }
   ],
   "source": [
    "best_model.get_feature_importance(prettified=True)[:30]"
   ]
  },
  {
   "cell_type": "code",
   "execution_count": 316,
   "metadata": {},
   "outputs": [
    {
     "data": {
      "text/plain": [
       "<matplotlib.axes._subplots.AxesSubplot at 0x7f78d078af90>"
      ]
     },
     "execution_count": 316,
     "metadata": {},
     "output_type": "execute_result"
    },
    {
     "data": {
      "image/png": "[encoded data removed]",
      "text/plain": [
       "<Figure size 432x288 with 1 Axes>"
      ]
     },
     "metadata": {
      "needs_background": "light"
     },
     "output_type": "display_data"
    }
   ],
   "source": [
    "sns.violinplot(x='label',y='col_5',data=train_df)"
   ]
  },
  {
   "cell_type": "code",
   "execution_count": 317,
   "metadata": {},
   "outputs": [
    {
     "data": {
      "text/plain": [
       "<matplotlib.axes._subplots.AxesSubplot at 0x7f78d06e9610>"
      ]
     },
     "execution_count": 317,
     "metadata": {},
     "output_type": "execute_result"
    },
    {
     "data": {
      "image/png": "[encoded data removed]",
      "text/plain": [
       "<Figure size 432x288 with 1 Axes>"
      ]
     },
     "metadata": {
      "needs_background": "light"
     },
     "output_type": "display_data"
    }
   ],
   "source": [
    "sns.violinplot(x='label',y='col_4',data=train_df)"
   ]
  },
  {
   "cell_type": "code",
   "execution_count": null,
   "metadata": {},
   "outputs": [],
   "source": []
  }
 ],
 "metadata": {
  "kernelspec": {
   "display_name": "Python 3",
   "language": "python",
   "name": "python3"
  },
  "language_info": {
   "codemirror_mode": {
    "name": "ipython",
    "version": 3
   },
   "file_extension": ".py",
   "mimetype": "text/x-python",
   "name": "python",
   "nbconvert_exporter": "python",
   "pygments_lexer": "ipython3",
   "version": "3.7.4"
  }
 },
 "nbformat": 4,
 "nbformat_minor": 2
}
