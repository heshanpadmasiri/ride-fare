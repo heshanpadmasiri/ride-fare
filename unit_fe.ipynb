{
 "cells": [
  {
   "cell_type": "code",
   "execution_count": null,
   "metadata": {},
   "outputs": [],
   "source": [
    "import itertools\n",
    "\n",
    "import pandas as pd\n",
    "import numpy as np\n",
    "import matplotlib.pyplot as plt\n",
    "import seaborn as sns\n",
    "\n",
    "from sklearn.model_selection import KFold,StratifiedKFold\n",
    "from sklearn.linear_model import LinearRegression,LogisticRegression\n",
    "from sklearn.svm import SVR, SVC\n",
    "from sklearn.ensemble import RandomForestRegressor,ExtraTreesClassifier,RandomForestClassifier\n",
    "from sklearn.preprocessing import StandardScaler,KBinsDiscretizer,LabelEncoder,MinMaxScaler\n",
    "from sklearn.metrics import mean_squared_error,f1_score,confusion_matrix,log_loss\n",
    "from sklearn.kernel_approximation import Nystroem\n",
    "from sklearn.neighbors import KNeighborsClassifier\n",
    "from sklearn.decomposition import PCA,NMF\n",
    "\n",
    "from catboost import Pool, cv,CatBoostClassifier,CatBoostRegressor\n",
    "\n",
    "import tensorflow as tf\n",
    "from tensorflow.keras.layers import Input, Dense, concatenate,Dropout\n",
    "from tensorflow.keras.models import Model, Sequential\n",
    "from tensorflow.keras import regularizers\n",
    "import tensorflow_addons as tfa\n",
    "\n",
    "from tqdm import tqdm\n",
    "\n",
    "import lightgbm as lgb\n",
    "\n",
    "import xgboost as xgb\n",
    "from xgboost import XGBClassifier,XGBRegressor,DMatrix,plot_tree\n",
    "\n",
    "from imblearn.over_sampling import RandomOverSampler,SMOTE, ADASYN\n",
    "\n",
    "import shap\n",
    "shap.initjs()"
   ]
  },
  {
   "cell_type": "code",
   "execution_count": null,
   "metadata": {},
   "outputs": [],
   "source": [
    "train_df = pd.read_csv('train_df_final.csv')\n",
    "train_df = train_df.fillna(0)\n",
    "train_df_org = pd.read_csv('train_df_final_blanced.csv')\n",
    "train_df_org = train_df_org.fillna(0)\n",
    "test_df = pd.read_csv('test_df_final.csv')\n",
    "test_df = test_df.fillna(0)\n",
    "submission_df = pd.read_csv('sample_submission.csv')"
   ]
  },
  {
   "cell_type": "code",
   "execution_count": null,
   "metadata": {},
   "outputs": [],
   "source": [
    "y = train_df['label'].values\n",
    "y_org = train_df_org['label'].values"
   ]
  },
  {
   "cell_type": "code",
   "execution_count": null,
   "metadata": {},
   "outputs": [],
   "source": [
    "features = [\n",
    "    'fare_per_distance',\n",
    "    'fare_per_duration',\n",
    "    'avg_speed',\n",
    "    'meter_waiting_per_duration',\n",
    "    'meter_waiting_fare_per_meter_waiting',\n",
    "    'meter_waiting_fare_per_duration',\n",
    "    'addtional_fare_per_fare',\n",
    "    'addtional_fare_per_distance',\n",
    "    'addtional_fare_per_duration',\n",
    "    'fare-additional_fare_per_distance',\n",
    "    'fare-additional_fare_per_duration',\n",
    "    'fare-additional_fare-meter_waiting_fare_per_distance',\n",
    "    'fare-additional_fare-meter_waiting_fare_per_duration',\n",
    "    'meter_waiting_till_pickup_per_meter_waiting',\n",
    "    'meter_waiting_after_pickup_per_duration',\n",
    "    'meter_waiting_till_pickup_per_duration',\n",
    "    'meter_waiting_till_pickup_per_distance',\n",
    "    'meter_waiting_after_pickup_per_distance',\n",
    "    'meter_waiting_till_pickup_per_fare',\n",
    "    'meter_waiting_after_pickup_per_fare',\n",
    "    'meter_waiting_till_pickup_per_meter_waiting_fare',\n",
    "    'meter_waiting_after_pickup_per_meter_waiting_fare',    \n",
    "]\n",
    "\n",
    "cat_features = []"
   ]
  },
  {
   "cell_type": "code",
   "execution_count": null,
   "metadata": {},
   "outputs": [],
   "source": [
    "train = train_df[features]\n",
    "test = test_df[features]\n",
    "train_org = train_df_org[features]\n",
    "y = train_df['label']\n",
    "for each in cat_features:\n",
    "    train[each] = train[each].values.astype(int)\n",
    "    test[each] = test[each].values.astype(int)\n",
    "    train_org[each] = train_org[each].values.astype(int)"
   ]
  },
  {
   "cell_type": "code",
   "execution_count": null,
   "metadata": {},
   "outputs": [],
   "source": [
    "catboost_params = {\n",
    "    'loss_function':'Logloss',\n",
    "    'random_state':0,\n",
    "    'early_stopping_rounds':50,\n",
    "    'eval_metric':'F1',\n",
    "    'border_count':512\n",
    "}"
   ]
  },
  {
   "cell_type": "code",
   "execution_count": null,
   "metadata": {},
   "outputs": [],
   "source": [
    "submission_pool = Pool(data=test_df[features], cat_features=cat_features)\n",
    "org_pool = Pool(data=train_org[features], cat_features=cat_features)"
   ]
  },
  {
   "cell_type": "code",
   "execution_count": null,
   "metadata": {},
   "outputs": [],
   "source": [
    "train_preds = np.zeros(train_df.shape[0])\n",
    "test_preds = np.zeros(test_df.shape[0])\n",
    "train_class = np.zeros(train_df.shape[0])\n",
    "test_class = np.zeros(test_df.shape[0])\n",
    "skf = StratifiedKFold(n_splits=3)\n",
    "validation_scores = []\n",
    "org_scores = []\n",
    "models = []\n",
    "train_pools = []\n",
    "for train_index, test_index in skf.split(train, y):\n",
    "    X_train, X_test = train.iloc[train_index,:], train.iloc[test_index,:]\n",
    "    y_train, y_test = y[train_index], y[test_index]\n",
    "    train_pool = Pool(data=X_train, label=y_train,cat_features=cat_features)\n",
    "    train_pools.append(train_pool)\n",
    "    test_pool = Pool(data=X_test, label=y_test, cat_features=cat_features)    \n",
    "    model = CatBoostClassifier(**catboost_params)\n",
    "    model.fit(X=train_pool, eval_set=test_pool,verbose=10)\n",
    "    train_preds[test_index] = model.predict_proba(test_pool)[:,1]\n",
    "    train_class[test_index] = model.predict(test_pool)\n",
    "    test_preds += model.predict_proba(submission_pool)[:,1]/3\n",
    "    test_class += model.predict(submission_pool)\n",
    "    validation_scores.append(f1_score(y_test,model.predict(test_pool),average='micro'))\n",
    "    org_scores.append(f1_score(y_org,model.predict(org_pool),average='micro'))\n",
    "    models.append(model)\n",
    "test_class = np.where(test_class > 2, 1, 0)"
   ]
  },
  {
   "cell_type": "code",
   "execution_count": null,
   "metadata": {},
   "outputs": [],
   "source": [
    "np.mean(validation_scores), np.std(validation_scores), min(validation_scores)"
   ]
  },
  {
   "cell_type": "code",
   "execution_count": null,
   "metadata": {},
   "outputs": [],
   "source": [
    "np.mean(org_scores), np.std(org_scores), min(org_scores)"
   ]
  },
  {
   "cell_type": "code",
   "execution_count": null,
   "metadata": {},
   "outputs": [],
   "source": [
    "best_model = models[np.argmax(validation_scores)]\n",
    "best_model.get_feature_importance(prettified=True)"
   ]
  },
  {
   "cell_type": "code",
   "execution_count": null,
   "metadata": {},
   "outputs": [],
   "source": [
    "y_hat = np.round(best_model.predict(train))\n",
    "confusion_matrix(y,y_hat,normalize='pred')"
   ]
  },
  {
   "cell_type": "code",
   "execution_count": null,
   "metadata": {},
   "outputs": [],
   "source": [
    "best_model.plot_tree(0,train_pools[np.argmax(validation_scores)])"
   ]
  },
  {
   "cell_type": "code",
   "execution_count": null,
   "metadata": {},
   "outputs": [],
   "source": [
    "sns.scatterplot(x='meter_waiting_till_pickup_per_distance',y='meter_waiting_after_pickup_per_meter_waiting_fare',data=train_df,hue='label')"
   ]
  },
  {
   "cell_type": "code",
   "execution_count": null,
   "metadata": {},
   "outputs": [],
   "source": [
    "train_df[['meter_waiting_till_pickup_per_distance','meter_waiting_after_pickup_per_meter_waiting_fare']].describe()"
   ]
  },
  {
   "cell_type": "code",
   "execution_count": null,
   "metadata": {},
   "outputs": [],
   "source": [
    "sns.scatterplot(x='fare_per_duration',y='fare_per_distance',data=train_df,hue='label')"
   ]
  },
  {
   "cell_type": "code",
   "execution_count": null,
   "metadata": {},
   "outputs": [],
   "source": [
    "sns.scatterplot(x='pickup_hour',y='drop_hour',data=train_df,hue='label')"
   ]
  },
  {
   "cell_type": "code",
   "execution_count": null,
   "metadata": {},
   "outputs": [],
   "source": [
    "sns.violinplot(x='label',y='fare_per_duration',data=train_df)"
   ]
  },
  {
   "cell_type": "code",
   "execution_count": null,
   "metadata": {},
   "outputs": [],
   "source": [
    "sns.violinplot(x='label',y='fare_per_distance',data=train_df)"
   ]
  },
  {
   "cell_type": "code",
   "execution_count": null,
   "metadata": {},
   "outputs": [],
   "source": [
    "sns.violinplot(x='label',y='fare-additional_fare_per_distance',data=train_df)"
   ]
  },
  {
   "cell_type": "markdown",
   "metadata": {},
   "source": [
    "# Col products"
   ]
  },
  {
   "cell_type": "code",
   "execution_count": null,
   "metadata": {},
   "outputs": [],
   "source": [
    "prod_cols = []\n",
    "for i, col1 in enumerate(features):\n",
    "    for col2 in features[i+1:]:\n",
    "        name = f'{col1}@{col2}'\n",
    "        train_df[name] = train_df[col1] * train_df[col2]\n",
    "        test_df[name] = test_df[col1] * test_df[col2]\n",
    "        train_df_org[name] = train_df_org[col1] * train_df_org[col2]\n",
    "        prod_cols.append(name)"
   ]
  },
  {
   "cell_type": "code",
   "execution_count": null,
   "metadata": {},
   "outputs": [],
   "source": [
    "features = features + prod_cols"
   ]
  },
  {
   "cell_type": "code",
   "execution_count": null,
   "metadata": {},
   "outputs": [],
   "source": [
    "train = train_df[features]\n",
    "test = test_df[features]\n",
    "train_org = train_df_org[features]\n",
    "y = train_df['label']"
   ]
  },
  {
   "cell_type": "code",
   "execution_count": null,
   "metadata": {},
   "outputs": [],
   "source": [
    "submission_pool = Pool(data=test_df[features], cat_features=cat_features)\n",
    "org_pool = Pool(data=train_org[features], cat_features=cat_features)"
   ]
  },
  {
   "cell_type": "code",
   "execution_count": null,
   "metadata": {},
   "outputs": [],
   "source": [
    "train_preds = np.zeros(train_df.shape[0])\n",
    "test_preds = np.zeros(test_df.shape[0])\n",
    "train_class = np.zeros(train_df.shape[0])\n",
    "test_class = np.zeros(test_df.shape[0])\n",
    "skf = StratifiedKFold(n_splits=3)\n",
    "validation_scores = []\n",
    "org_scores = []\n",
    "models = []\n",
    "for train_index, test_index in skf.split(train, y):\n",
    "    X_train, X_test = train.iloc[train_index,:], train.iloc[test_index,:]\n",
    "    y_train, y_test = y[train_index], y[test_index]\n",
    "    train_pool = Pool(data=X_train, label=y_train,cat_features=cat_features)\n",
    "    test_pool = Pool(data=X_test, label=y_test, cat_features=cat_features)    \n",
    "    model = CatBoostClassifier(**catboost_params)\n",
    "    model.fit(X=train_pool, eval_set=test_pool,verbose=10)\n",
    "    train_preds[test_index] = model.predict_proba(test_pool)[:,1]\n",
    "    train_class[test_index] = model.predict(test_pool)\n",
    "    test_preds += model.predict_proba(submission_pool)[:,1]/3\n",
    "    test_class += model.predict(submission_pool)\n",
    "    validation_scores.append(f1_score(y_test,model.predict(test_pool),average='micro'))\n",
    "    org_scores.append(f1_score(y_org,model.predict(org_pool),average='micro'))\n",
    "    models.append(model)\n",
    "test_class = np.where(test_class > 2, 1, 0)"
   ]
  },
  {
   "cell_type": "code",
   "execution_count": null,
   "metadata": {},
   "outputs": [],
   "source": [
    "np.mean(validation_scores), np.std(validation_scores), min(validation_scores)"
   ]
  },
  {
   "cell_type": "code",
   "execution_count": null,
   "metadata": {},
   "outputs": [],
   "source": [
    "np.mean(org_scores), np.std(org_scores), min(org_scores)"
   ]
  },
  {
   "cell_type": "code",
   "execution_count": null,
   "metadata": {},
   "outputs": [],
   "source": [
    "best_model = models[np.argmax(validation_scores)]\n",
    "best_model.get_feature_importance(prettified=True)"
   ]
  },
  {
   "cell_type": "code",
   "execution_count": null,
   "metadata": {},
   "outputs": [],
   "source": [
    "y_hat = np.round(best_model.predict(train))\n",
    "confusion_matrix(y,y_hat,normalize='pred')"
   ]
  },
  {
   "cell_type": "code",
   "execution_count": null,
   "metadata": {},
   "outputs": [],
   "source": [
    "submission_df['prediction'] = test_class\n",
    "submission_df.to_csv('submission.csv',index=False)\n",
    "\n",
    "submission_df['prediction'].sum() / submission_df.shape[0]"
   ]
  },
  {
   "cell_type": "markdown",
   "metadata": {},
   "source": [
    "## with 0 importance columns removed"
   ]
  },
  {
   "cell_type": "code",
   "execution_count": null,
   "metadata": {},
   "outputs": [],
   "source": [
    "model_1 = models[0]\n",
    "df_1 = model_1.get_feature_importance(prettified=True)\n",
    "set_1 = set(df_1[df_1['Importances'] == 0]['Feature Id'].values)\n",
    "\n",
    "model_2 = models[1]\n",
    "df_2 = model_2.get_feature_importance(prettified=True)\n",
    "set_2 = set(df_2[df_2['Importances'] == 0]['Feature Id'].values)\n",
    "\n",
    "model_3 = models[2]\n",
    "df_3 = model_3.get_feature_importance(prettified=True)\n",
    "set_3 = set(df_3[df_3['Importances'] == 0]['Feature Id'].values)\n",
    "\n",
    "ignore = set_1.intersection(set_2,set_3)\n",
    "ignore"
   ]
  },
  {
   "cell_type": "code",
   "execution_count": null,
   "metadata": {},
   "outputs": [],
   "source": [
    "features = [each for each in features if each not in ignore]"
   ]
  },
  {
   "cell_type": "code",
   "execution_count": null,
   "metadata": {},
   "outputs": [],
   "source": [
    "train = train_df[features]\n",
    "test = test_df[features]\n",
    "train_org = train_df_org[features]\n",
    "y = train_df['label']"
   ]
  },
  {
   "cell_type": "code",
   "execution_count": null,
   "metadata": {},
   "outputs": [],
   "source": [
    "submission_pool = Pool(data=test_df[features], cat_features=cat_features)\n",
    "org_pool = Pool(data=train_org[features], cat_features=cat_features)"
   ]
  },
  {
   "cell_type": "code",
   "execution_count": null,
   "metadata": {},
   "outputs": [],
   "source": [
    "train_preds = np.zeros(train_df.shape[0])\n",
    "test_preds = np.zeros(test_df.shape[0])\n",
    "train_class = np.zeros(train_df.shape[0])\n",
    "test_class = np.zeros(test_df.shape[0])\n",
    "skf = StratifiedKFold(n_splits=3)\n",
    "validation_scores = []\n",
    "org_scores = []\n",
    "models = []\n",
    "for train_index, test_index in skf.split(train, y):\n",
    "    X_train, X_test = train.iloc[train_index,:], train.iloc[test_index,:]\n",
    "    y_train, y_test = y[train_index], y[test_index]\n",
    "    train_pool = Pool(data=X_train, label=y_train,cat_features=cat_features)\n",
    "    test_pool = Pool(data=X_test, label=y_test, cat_features=cat_features)    \n",
    "    model = CatBoostClassifier(**catboost_params)\n",
    "    model.fit(X=train_pool, eval_set=test_pool,verbose=10)\n",
    "    train_preds[test_index] = model.predict_proba(test_pool)[:,1]\n",
    "    train_class[test_index] = model.predict(test_pool)\n",
    "    test_preds += model.predict_proba(submission_pool)[:,1]/3\n",
    "    test_class += model.predict(submission_pool)\n",
    "    validation_scores.append(f1_score(y_test,model.predict(test_pool),average='micro'))\n",
    "    org_scores.append(f1_score(y_org,model.predict(org_pool),average='micro'))\n",
    "    models.append(model)\n",
    "test_class = np.where(test_class > 2, 1, 0)"
   ]
  },
  {
   "cell_type": "code",
   "execution_count": null,
   "metadata": {},
   "outputs": [],
   "source": [
    "np.mean(validation_scores), np.std(validation_scores), min(validation_scores)"
   ]
  },
  {
   "cell_type": "code",
   "execution_count": null,
   "metadata": {},
   "outputs": [],
   "source": [
    "np.mean(org_scores), np.std(org_scores), min(org_scores)"
   ]
  },
  {
   "cell_type": "code",
   "execution_count": null,
   "metadata": {},
   "outputs": [],
   "source": [
    "best_model = models[np.argmax(validation_scores)]\n",
    "best_model.get_feature_importance(prettified=True)"
   ]
  },
  {
   "cell_type": "code",
   "execution_count": null,
   "metadata": {},
   "outputs": [],
   "source": [
    "y_hat = np.round(best_model.predict(train))\n",
    "confusion_matrix(y,y_hat,normalize='pred')"
   ]
  },
  {
   "cell_type": "markdown",
   "metadata": {},
   "source": [
    "# Log scale added"
   ]
  },
  {
   "cell_type": "code",
   "execution_count": null,
   "metadata": {},
   "outputs": [],
   "source": [
    "log_cols = []\n",
    "for col in features:    \n",
    "    name = f'log_{col}'\n",
    "    train_df[name] = np.log(train_df[col] + 1)\n",
    "    test_df[name] = np.log(test_df[col] + 1)\n",
    "    train_df_org[name] = np.log(train_df_org[col] + 1)\n",
    "    log_cols.append(name)"
   ]
  },
  {
   "cell_type": "code",
   "execution_count": null,
   "metadata": {},
   "outputs": [],
   "source": [
    "features = features + log_cols"
   ]
  },
  {
   "cell_type": "code",
   "execution_count": null,
   "metadata": {},
   "outputs": [],
   "source": [
    "train = train_df[features]\n",
    "test = test_df[features]\n",
    "train_org = train_df_org[features]\n",
    "y = train_df['label']"
   ]
  },
  {
   "cell_type": "code",
   "execution_count": null,
   "metadata": {},
   "outputs": [],
   "source": [
    "submission_pool = Pool(data=test_df[features], cat_features=cat_features)\n",
    "org_pool = Pool(data=train_org[features], cat_features=cat_features)"
   ]
  },
  {
   "cell_type": "code",
   "execution_count": null,
   "metadata": {},
   "outputs": [],
   "source": [
    "train_preds = np.zeros(train_df.shape[0])\n",
    "test_preds = np.zeros(test_df.shape[0])\n",
    "train_class = np.zeros(train_df.shape[0])\n",
    "test_class = np.zeros(test_df.shape[0])\n",
    "skf = StratifiedKFold(n_splits=3)\n",
    "validation_scores = []\n",
    "org_scores = []\n",
    "models = []\n",
    "for train_index, test_index in skf.split(train, y):\n",
    "    X_train, X_test = train.iloc[train_index,:], train.iloc[test_index,:]\n",
    "    y_train, y_test = y[train_index], y[test_index]\n",
    "    train_pool = Pool(data=X_train, label=y_train,cat_features=cat_features)\n",
    "    test_pool = Pool(data=X_test, label=y_test, cat_features=cat_features)    \n",
    "    model = CatBoostClassifier(**catboost_params)\n",
    "    model.fit(X=train_pool, eval_set=test_pool,verbose=10)\n",
    "    train_preds[test_index] = model.predict_proba(test_pool)[:,1]\n",
    "    train_class[test_index] = model.predict(test_pool)\n",
    "    test_preds += model.predict_proba(submission_pool)[:,1]/3\n",
    "    test_class += model.predict(submission_pool)\n",
    "    validation_scores.append(f1_score(y_test,model.predict(test_pool),average='micro'))\n",
    "    org_scores.append(f1_score(y_org,model.predict(org_pool),average='micro'))\n",
    "    models.append(model)\n",
    "test_class = np.where(test_class > 2, 1, 0)"
   ]
  },
  {
   "cell_type": "code",
   "execution_count": null,
   "metadata": {},
   "outputs": [],
   "source": [
    "np.mean(validation_scores), np.std(validation_scores), min(validation_scores)"
   ]
  },
  {
   "cell_type": "code",
   "execution_count": null,
   "metadata": {},
   "outputs": [],
   "source": [
    "np.mean(org_scores), np.std(org_scores), min(org_scores)"
   ]
  },
  {
   "cell_type": "code",
   "execution_count": null,
   "metadata": {},
   "outputs": [],
   "source": [
    "best_model = models[np.argmax(validation_scores)]\n",
    "best_model.get_feature_importance(prettified=True)"
   ]
  },
  {
   "cell_type": "code",
   "execution_count": null,
   "metadata": {},
   "outputs": [],
   "source": [
    "y_hat = np.round(best_model.predict(train))\n",
    "confusion_matrix(y,y_hat,normalize='pred')"
   ]
  },
  {
   "cell_type": "markdown",
   "metadata": {},
   "source": [
    "## With 0 importance columns removed"
   ]
  },
  {
   "cell_type": "code",
   "execution_count": null,
   "metadata": {},
   "outputs": [],
   "source": [
    "model_1 = models[0]\n",
    "df_1 = model_1.get_feature_importance(prettified=True)\n",
    "set_1 = set(df_1[df_1['Importances'] == 0]['Feature Id'].values)\n",
    "\n",
    "model_2 = models[1]\n",
    "df_2 = model_2.get_feature_importance(prettified=True)\n",
    "set_2 = set(df_2[df_2['Importances'] == 0]['Feature Id'].values)\n",
    "\n",
    "model_3 = models[2]\n",
    "df_3 = model_3.get_feature_importance(prettified=True)\n",
    "set_3 = set(df_3[df_3['Importances'] == 0]['Feature Id'].values)\n",
    "\n",
    "ignore = set_1.intersection(set_2,set_3)\n",
    "ignore"
   ]
  },
  {
   "cell_type": "code",
   "execution_count": null,
   "metadata": {},
   "outputs": [],
   "source": [
    "features = [each for each in features if each not in ignore]"
   ]
  },
  {
   "cell_type": "code",
   "execution_count": null,
   "metadata": {},
   "outputs": [],
   "source": [
    "train = train_df[features]\n",
    "test = test_df[features]\n",
    "train_org = train_df_org[features]\n",
    "y = train_df['label']"
   ]
  },
  {
   "cell_type": "code",
   "execution_count": null,
   "metadata": {},
   "outputs": [],
   "source": [
    "submission_pool = Pool(data=test_df[features], cat_features=cat_features)\n",
    "org_pool = Pool(data=train_org[features], cat_features=cat_features)"
   ]
  },
  {
   "cell_type": "code",
   "execution_count": null,
   "metadata": {},
   "outputs": [],
   "source": [
    "train_preds = np.zeros(train_df.shape[0])\n",
    "test_preds = np.zeros(test_df.shape[0])\n",
    "train_class = np.zeros(train_df.shape[0])\n",
    "test_class = np.zeros(test_df.shape[0])\n",
    "skf = StratifiedKFold(n_splits=3)\n",
    "validation_scores = []\n",
    "org_scores = []\n",
    "models = []\n",
    "for train_index, test_index in skf.split(train, y):\n",
    "    X_train, X_test = train.iloc[train_index,:], train.iloc[test_index,:]\n",
    "    y_train, y_test = y[train_index], y[test_index]\n",
    "    train_pool = Pool(data=X_train, label=y_train,cat_features=cat_features)\n",
    "    test_pool = Pool(data=X_test, label=y_test, cat_features=cat_features)    \n",
    "    model = CatBoostClassifier(**catboost_params)\n",
    "    model.fit(X=train_pool, eval_set=test_pool,verbose=10)\n",
    "    train_preds[test_index] = model.predict_proba(test_pool)[:,1]\n",
    "    train_class[test_index] = model.predict(test_pool)\n",
    "    test_preds += model.predict_proba(submission_pool)[:,1]/3\n",
    "    test_class += model.predict(submission_pool)\n",
    "    validation_scores.append(f1_score(y_test,model.predict(test_pool),average='micro'))\n",
    "    org_scores.append(f1_score(y_org,model.predict(org_pool),average='micro'))\n",
    "    models.append(model)\n",
    "test_class = np.where(test_class > 2, 1, 0)"
   ]
  },
  {
   "cell_type": "code",
   "execution_count": null,
   "metadata": {},
   "outputs": [],
   "source": [
    "np.mean(validation_scores), np.std(validation_scores), min(validation_scores)"
   ]
  },
  {
   "cell_type": "code",
   "execution_count": null,
   "metadata": {},
   "outputs": [],
   "source": [
    "np.mean(org_scores), np.std(org_scores), min(org_scores)"
   ]
  },
  {
   "cell_type": "code",
   "execution_count": null,
   "metadata": {},
   "outputs": [],
   "source": [
    "best_model = models[np.argmax(validation_scores)]\n",
    "best_model.get_feature_importance(prettified=True)"
   ]
  },
  {
   "cell_type": "code",
   "execution_count": null,
   "metadata": {},
   "outputs": [],
   "source": [
    "y_hat = np.round(best_model.predict(train))\n",
    "confusion_matrix(y,y_hat,normalize='pred')"
   ]
  },
  {
   "cell_type": "markdown",
   "metadata": {},
   "source": [
    "# PCA"
   ]
  },
  {
   "cell_type": "code",
   "execution_count": null,
   "metadata": {},
   "outputs": [],
   "source": [
    "n_components=40"
   ]
  },
  {
   "cell_type": "code",
   "execution_count": null,
   "metadata": {},
   "outputs": [],
   "source": [
    "X_train = train_df[features].values\n",
    "X_train_org = train_df_org[features].values\n",
    "X_test = test_df[features].values"
   ]
  },
  {
   "cell_type": "code",
   "execution_count": null,
   "metadata": {},
   "outputs": [],
   "source": [
    "pca = PCA(n_components=n_components)\n",
    "X_train_transformed = pca.fit_transform(X_train)\n",
    "X_test_transformed = pca.transform(X_test)\n",
    "X_train_org_transformed = pca.transform(X_train_org)"
   ]
  },
  {
   "cell_type": "code",
   "execution_count": null,
   "metadata": {},
   "outputs": [],
   "source": [
    "pca_train = pd.DataFrame()\n",
    "pca_train['label'] = train_df['label']\n",
    "\n",
    "pca_train_org = pd.DataFrame()\n",
    "pca_train_org['label'] = y_org\n",
    "\n",
    "pca_test = pd.DataFrame()\n",
    "for i in range(n_components):\n",
    "    name = f'col_{i}'\n",
    "    pca_train[name] = X_train_transformed[:,i]\n",
    "    pca_test[name] = X_test_transformed[:,i]\n",
    "    pca_train_org[name] = X_train_org_transformed[:,i]\n",
    "    "
   ]
  },
  {
   "cell_type": "code",
   "execution_count": null,
   "metadata": {},
   "outputs": [],
   "source": [
    "sns.scatterplot(x='col_0',y='col_1',data=pca_train,hue='label')"
   ]
  },
  {
   "cell_type": "code",
   "execution_count": null,
   "metadata": {},
   "outputs": [],
   "source": [
    "pca_cols = list(pca_test.columns)\n",
    "for each in pca_cols:\n",
    "    train_df[each] = pca_train[each]\n",
    "    test_df[each] = pca_test[each]\n",
    "    train_df_org[each] = pca_train_org[each]"
   ]
  },
  {
   "cell_type": "code",
   "execution_count": null,
   "metadata": {},
   "outputs": [],
   "source": [
    "features = features + pca_cols"
   ]
  },
  {
   "cell_type": "code",
   "execution_count": null,
   "metadata": {},
   "outputs": [],
   "source": [
    "train = train_df[features]\n",
    "test = test_df[features]\n",
    "train_org = train_df_org[features]\n",
    "y = train_df['label']"
   ]
  },
  {
   "cell_type": "code",
   "execution_count": null,
   "metadata": {},
   "outputs": [],
   "source": [
    "submission_pool = Pool(data=test_df[features], cat_features=cat_features)\n",
    "org_pool = Pool(data=train_org[features], cat_features=cat_features)"
   ]
  },
  {
   "cell_type": "code",
   "execution_count": null,
   "metadata": {
    "scrolled": true
   },
   "outputs": [],
   "source": [
    "train_preds = np.zeros(train_df.shape[0])\n",
    "test_preds = np.zeros(test_df.shape[0])\n",
    "train_class = np.zeros(train_df.shape[0])\n",
    "test_class = np.zeros(test_df.shape[0])\n",
    "skf = StratifiedKFold(n_splits=3)\n",
    "validation_scores = []\n",
    "org_scores = []\n",
    "models = []\n",
    "for train_index, test_index in skf.split(train, y):\n",
    "    X_train, X_test = train.iloc[train_index,:], train.iloc[test_index,:]\n",
    "    y_train, y_test = y[train_index], y[test_index]\n",
    "    train_pool = Pool(data=X_train, label=y_train,cat_features=cat_features)\n",
    "    test_pool = Pool(data=X_test, label=y_test, cat_features=cat_features)    \n",
    "    model = CatBoostClassifier(**catboost_params)\n",
    "    model.fit(X=train_pool, eval_set=test_pool,verbose=10)\n",
    "    train_preds[test_index] = model.predict_proba(test_pool)[:,1]\n",
    "    train_class[test_index] = model.predict(test_pool)\n",
    "    test_preds += model.predict_proba(submission_pool)[:,1]/3\n",
    "    test_class += model.predict(submission_pool)\n",
    "    validation_scores.append(f1_score(y_test,model.predict(test_pool),average='micro'))\n",
    "    org_scores.append(f1_score(y_org,model.predict(org_pool),average='micro'))\n",
    "    models.append(model)\n",
    "test_class = np.where(test_class > 2, 1, 0)"
   ]
  },
  {
   "cell_type": "code",
   "execution_count": null,
   "metadata": {},
   "outputs": [],
   "source": [
    "np.mean(validation_scores), np.std(validation_scores), min(validation_scores)"
   ]
  },
  {
   "cell_type": "code",
   "execution_count": null,
   "metadata": {},
   "outputs": [],
   "source": [
    "np.mean(org_scores), np.std(org_scores), min(org_scores)"
   ]
  },
  {
   "cell_type": "code",
   "execution_count": null,
   "metadata": {},
   "outputs": [],
   "source": [
    "best_model = models[np.argmax(validation_scores)]\n",
    "best_model.get_feature_importance(prettified=True)"
   ]
  },
  {
   "cell_type": "code",
   "execution_count": null,
   "metadata": {},
   "outputs": [],
   "source": [
    "y_hat = np.round(best_model.predict(train))\n",
    "confusion_matrix(y,y_hat,normalize='pred')"
   ]
  },
  {
   "cell_type": "code",
   "execution_count": null,
   "metadata": {},
   "outputs": [],
   "source": [
    "best_model.get_feature_importance(prettified=True)[:30]"
   ]
  },
  {
   "cell_type": "code",
   "execution_count": null,
   "metadata": {},
   "outputs": [],
   "source": [
    "sns.violinplot(x='label',y='col_5',data=train_df)"
   ]
  },
  {
   "cell_type": "code",
   "execution_count": null,
   "metadata": {},
   "outputs": [],
   "source": [
    "sns.violinplot(x='label',y='col_4',data=train_df)"
   ]
  },
  {
   "cell_type": "code",
   "execution_count": null,
   "metadata": {},
   "outputs": [],
   "source": [
    "train_df.to_csv('train_df_unit.csv',index=False)\n",
    "test_df.to_csv('test_df_unit.csv',index=False)\n",
    "train_df_org.to_csv('train_df_org_unit.csv',index=False)"
   ]
  },
  {
   "cell_type": "markdown",
   "metadata": {},
   "source": [
    "# cal_time_difference_per_duration added"
   ]
  },
  {
   "cell_type": "code",
   "execution_count": null,
   "metadata": {},
   "outputs": [],
   "source": [
    "train_df = pd.read_csv('train_df_unit.csv')\n",
    "test_df = pd.read_csv('test_df_unit.csv')\n",
    "train_df_org = pd.read_csv('train_df_org_unit.csv')"
   ]
  },
  {
   "cell_type": "code",
   "execution_count": null,
   "metadata": {},
   "outputs": [],
   "source": [
    "train_df['cal_time_difference_per_duration'] = train_df['cal_time_difference'] / (train_df['duration']+1)\n",
    "test_df['cal_time_difference_per_duration'] = test_df['cal_time_difference'] / (test_df['duration']+1)\n",
    "train_df_org['cal_time_difference_per_duration'] = train_df_org['cal_time_difference'] / (train_df_org['duration']+1)"
   ]
  },
  {
   "cell_type": "code",
   "execution_count": null,
   "metadata": {},
   "outputs": [],
   "source": [
    "sns.violinplot(x='label',y='cal_time_difference_per_duration',data=train_df)"
   ]
  },
  {
   "cell_type": "code",
   "execution_count": null,
   "metadata": {},
   "outputs": [],
   "source": [
    "features = [\n",
    "    'fare_per_distance',\n",
    "    'fare_per_duration',\n",
    "    'avg_speed',\n",
    "    'meter_waiting_per_duration',\n",
    "    'meter_waiting_fare_per_meter_waiting',\n",
    "    'meter_waiting_fare_per_duration',\n",
    "    'addtional_fare_per_fare',\n",
    "    'addtional_fare_per_distance',\n",
    "    'addtional_fare_per_duration',\n",
    "    'fare-additional_fare_per_distance',\n",
    "    'fare-additional_fare_per_duration',\n",
    "    'fare-additional_fare-meter_waiting_fare_per_distance',\n",
    "    'fare-additional_fare-meter_waiting_fare_per_duration',\n",
    "    'meter_waiting_till_pickup_per_meter_waiting',\n",
    "    'meter_waiting_after_pickup_per_duration',\n",
    "    'meter_waiting_till_pickup_per_duration',\n",
    "    'meter_waiting_till_pickup_per_distance',\n",
    "    'meter_waiting_after_pickup_per_distance',\n",
    "    'meter_waiting_till_pickup_per_fare',\n",
    "    'meter_waiting_after_pickup_per_fare',\n",
    "    'meter_waiting_till_pickup_per_meter_waiting_fare',\n",
    "    'meter_waiting_after_pickup_per_meter_waiting_fare', \n",
    "    'cal_time_difference_per_duration',    \n",
    "#     'fare_per_distance@fare_per_duration',    \n",
    "#     'fare_per_distance@avg_speed',\n",
    "#     'fare_per_distance@meter_waiting_per_duration',\n",
    "#     'fare_per_distance@meter_waiting_fare_per_meter_waiting',\n",
    "#     'fare_per_distance@meter_waiting_fare_per_duration',\n",
    "#     'fare_per_distance@addtional_fare_per_fare',\n",
    "#     'fare_per_distance@addtional_fare_per_distance',\n",
    "#     'fare_per_distance@addtional_fare_per_duration',\n",
    "#     'fare_per_distance@fare-additional_fare_per_distance',\n",
    "#     'fare_per_distance@fare-additional_fare_per_duration',\n",
    "#     'fare_per_distance@fare-additional_fare-meter_waiting_fare_per_distance',\n",
    "#     'fare_per_distance@fare-additional_fare-meter_waiting_fare_per_duration',\n",
    "#     'fare_per_distance@meter_waiting_till_pickup_per_meter_waiting',\n",
    "#     'fare_per_distance@meter_waiting_after_pickup_per_duration',\n",
    "#     'fare_per_distance@meter_waiting_till_pickup_per_duration',\n",
    "#     'fare_per_distance@meter_waiting_till_pickup_per_distance',\n",
    "#     'fare_per_distance@meter_waiting_after_pickup_per_distance',\n",
    "#     'fare_per_distance@meter_waiting_till_pickup_per_fare',\n",
    "#     'fare_per_distance@meter_waiting_after_pickup_per_fare',\n",
    "#     'fare_per_distance@meter_waiting_till_pickup_per_meter_waiting_fare',\n",
    "#     'fare_per_distance@meter_waiting_after_pickup_per_meter_waiting_fare',\n",
    "#     'fare_per_duration@avg_speed',\n",
    "#     'fare_per_duration@meter_waiting_per_duration',\n",
    "#     'fare_per_duration@meter_waiting_fare_per_meter_waiting',\n",
    "#     'fare_per_duration@meter_waiting_fare_per_duration',\n",
    "#     'fare_per_duration@addtional_fare_per_fare',\n",
    "#     'fare_per_duration@addtional_fare_per_distance',\n",
    "#     'fare_per_duration@addtional_fare_per_duration',\n",
    "#     'fare_per_duration@fare-additional_fare_per_distance',\n",
    "#     'fare_per_duration@fare-additional_fare_per_duration',\n",
    "#     'fare_per_duration@fare-additional_fare-meter_waiting_fare_per_distance',\n",
    "#     'fare_per_duration@fare-additional_fare-meter_waiting_fare_per_duration',\n",
    "#     'fare_per_duration@meter_waiting_till_pickup_per_meter_waiting',\n",
    "#     'fare_per_duration@meter_waiting_after_pickup_per_duration',\n",
    "#     'fare_per_duration@meter_waiting_till_pickup_per_duration',\n",
    "#     'fare_per_duration@meter_waiting_till_pickup_per_distance',\n",
    "#     'fare_per_duration@meter_waiting_after_pickup_per_distance',\n",
    "#     'fare_per_duration@meter_waiting_till_pickup_per_fare',\n",
    "#     'fare_per_duration@meter_waiting_after_pickup_per_fare',\n",
    "#     'fare_per_duration@meter_waiting_till_pickup_per_meter_waiting_fare',\n",
    "#     'fare_per_duration@meter_waiting_after_pickup_per_meter_waiting_fare',\n",
    "#     'avg_speed@meter_waiting_per_duration',\n",
    "#     'avg_speed@meter_waiting_fare_per_meter_waiting',\n",
    "#     'avg_speed@meter_waiting_fare_per_duration',\n",
    "#     'avg_speed@addtional_fare_per_fare',\n",
    "#     'avg_speed@addtional_fare_per_distance',\n",
    "#     'avg_speed@addtional_fare_per_duration',\n",
    "#     'avg_speed@fare-additional_fare_per_distance',\n",
    "#     'avg_speed@fare-additional_fare_per_duration',\n",
    "#     'avg_speed@fare-additional_fare-meter_waiting_fare_per_distance',\n",
    "#     'avg_speed@fare-additional_fare-meter_waiting_fare_per_duration',\n",
    "#     'avg_speed@meter_waiting_till_pickup_per_meter_waiting',\n",
    "#     'avg_speed@meter_waiting_after_pickup_per_duration',\n",
    "#     'avg_speed@meter_waiting_till_pickup_per_duration',\n",
    "#     'avg_speed@meter_waiting_till_pickup_per_distance',\n",
    "#     'avg_speed@meter_waiting_after_pickup_per_distance',\n",
    "#     'avg_speed@meter_waiting_till_pickup_per_fare',\n",
    "#     'avg_speed@meter_waiting_after_pickup_per_fare',\n",
    "#     'avg_speed@meter_waiting_till_pickup_per_meter_waiting_fare',\n",
    "#     'avg_speed@meter_waiting_after_pickup_per_meter_waiting_fare',\n",
    "#     'meter_waiting_per_duration@meter_waiting_fare_per_meter_waiting',\n",
    "#     'meter_waiting_per_duration@meter_waiting_fare_per_duration',\n",
    "#     'meter_waiting_per_duration@addtional_fare_per_fare',\n",
    "#     'meter_waiting_per_duration@addtional_fare_per_distance',\n",
    "#     'meter_waiting_per_duration@addtional_fare_per_duration',\n",
    "#     'meter_waiting_per_duration@fare-additional_fare_per_distance',\n",
    "#     'meter_waiting_per_duration@fare-additional_fare_per_duration',\n",
    "#     'meter_waiting_per_duration@fare-additional_fare-meter_waiting_fare_per_distance',\n",
    "#     'meter_waiting_per_duration@fare-additional_fare-meter_waiting_fare_per_duration',\n",
    "#     'meter_waiting_per_duration@meter_waiting_till_pickup_per_meter_waiting',\n",
    "#     'meter_waiting_per_duration@meter_waiting_after_pickup_per_duration',\n",
    "#     'meter_waiting_per_duration@meter_waiting_till_pickup_per_duration',\n",
    "#     'meter_waiting_per_duration@meter_waiting_till_pickup_per_distance',\n",
    "#     'meter_waiting_per_duration@meter_waiting_after_pickup_per_distance',\n",
    "#     'meter_waiting_per_duration@meter_waiting_till_pickup_per_fare',\n",
    "#     'meter_waiting_per_duration@meter_waiting_after_pickup_per_fare',\n",
    "#     'meter_waiting_per_duration@meter_waiting_till_pickup_per_meter_waiting_fare',\n",
    "#     'meter_waiting_per_duration@meter_waiting_after_pickup_per_meter_waiting_fare',\n",
    "#     'meter_waiting_fare_per_meter_waiting@meter_waiting_fare_per_duration',\n",
    "#     'meter_waiting_fare_per_meter_waiting@addtional_fare_per_fare',\n",
    "#     'meter_waiting_fare_per_meter_waiting@addtional_fare_per_distance',\n",
    "#     'meter_waiting_fare_per_meter_waiting@addtional_fare_per_duration',\n",
    "#     'meter_waiting_fare_per_meter_waiting@fare-additional_fare_per_distance',\n",
    "#     'meter_waiting_fare_per_meter_waiting@fare-additional_fare_per_duration',\n",
    "#     'meter_waiting_fare_per_meter_waiting@fare-additional_fare-meter_waiting_fare_per_distance',\n",
    "#     'meter_waiting_fare_per_meter_waiting@fare-additional_fare-meter_waiting_fare_per_duration',\n",
    "#     'meter_waiting_fare_per_meter_waiting@meter_waiting_till_pickup_per_meter_waiting',\n",
    "#     'meter_waiting_fare_per_meter_waiting@meter_waiting_after_pickup_per_duration',\n",
    "#     'meter_waiting_fare_per_meter_waiting@meter_waiting_till_pickup_per_duration',\n",
    "#     'meter_waiting_fare_per_meter_waiting@meter_waiting_till_pickup_per_distance',\n",
    "#     'meter_waiting_fare_per_meter_waiting@meter_waiting_after_pickup_per_distance',\n",
    "#     'meter_waiting_fare_per_meter_waiting@meter_waiting_till_pickup_per_fare',\n",
    "#     'meter_waiting_fare_per_meter_waiting@meter_waiting_after_pickup_per_fare',\n",
    "#     'meter_waiting_fare_per_meter_waiting@meter_waiting_till_pickup_per_meter_waiting_fare',\n",
    "#     'meter_waiting_fare_per_meter_waiting@meter_waiting_after_pickup_per_meter_waiting_fare',\n",
    "#     'meter_waiting_fare_per_duration@addtional_fare_per_fare',\n",
    "#     'meter_waiting_fare_per_duration@addtional_fare_per_distance',\n",
    "#     'meter_waiting_fare_per_duration@addtional_fare_per_duration',\n",
    "#     'meter_waiting_fare_per_duration@fare-additional_fare_per_distance',\n",
    "#     'meter_waiting_fare_per_duration@fare-additional_fare_per_duration',\n",
    "#     'meter_waiting_fare_per_duration@fare-additional_fare-meter_waiting_fare_per_distance',\n",
    "#     'meter_waiting_fare_per_duration@fare-additional_fare-meter_waiting_fare_per_duration',\n",
    "#     'meter_waiting_fare_per_duration@meter_waiting_till_pickup_per_meter_waiting',\n",
    "#     'meter_waiting_fare_per_duration@meter_waiting_after_pickup_per_duration',\n",
    "#     'meter_waiting_fare_per_duration@meter_waiting_till_pickup_per_duration',\n",
    "#     'meter_waiting_fare_per_duration@meter_waiting_till_pickup_per_distance',\n",
    "#     'meter_waiting_fare_per_duration@meter_waiting_after_pickup_per_distance',\n",
    "#     'meter_waiting_fare_per_duration@meter_waiting_till_pickup_per_fare',\n",
    "#     'meter_waiting_fare_per_duration@meter_waiting_after_pickup_per_fare',\n",
    "#     'meter_waiting_fare_per_duration@meter_waiting_till_pickup_per_meter_waiting_fare',\n",
    "#     'meter_waiting_fare_per_duration@meter_waiting_after_pickup_per_meter_waiting_fare',\n",
    "#     'addtional_fare_per_fare@addtional_fare_per_distance',\n",
    "#     'addtional_fare_per_fare@addtional_fare_per_duration',\n",
    "#     'addtional_fare_per_fare@fare-additional_fare_per_distance',\n",
    "#     'addtional_fare_per_fare@fare-additional_fare_per_duration',\n",
    "#     'addtional_fare_per_fare@fare-additional_fare-meter_waiting_fare_per_distance',\n",
    "#     'addtional_fare_per_fare@fare-additional_fare-meter_waiting_fare_per_duration',\n",
    "#     'addtional_fare_per_fare@meter_waiting_till_pickup_per_meter_waiting',\n",
    "#     'addtional_fare_per_fare@meter_waiting_after_pickup_per_duration',\n",
    "#     'addtional_fare_per_fare@meter_waiting_till_pickup_per_duration',\n",
    "#     'addtional_fare_per_fare@meter_waiting_till_pickup_per_distance',\n",
    "#     'addtional_fare_per_fare@meter_waiting_after_pickup_per_distance',\n",
    "#     'addtional_fare_per_fare@meter_waiting_till_pickup_per_fare',\n",
    "#     'addtional_fare_per_fare@meter_waiting_after_pickup_per_fare',\n",
    "#     'addtional_fare_per_fare@meter_waiting_till_pickup_per_meter_waiting_fare',\n",
    "#     'addtional_fare_per_fare@meter_waiting_after_pickup_per_meter_waiting_fare',\n",
    "#     'addtional_fare_per_distance@addtional_fare_per_duration',\n",
    "#     'addtional_fare_per_distance@fare-additional_fare_per_distance',\n",
    "#     'addtional_fare_per_distance@fare-additional_fare_per_duration',\n",
    "#     'addtional_fare_per_distance@fare-additional_fare-meter_waiting_fare_per_distance',\n",
    "#     'addtional_fare_per_distance@fare-additional_fare-meter_waiting_fare_per_duration',\n",
    "#     'addtional_fare_per_distance@meter_waiting_till_pickup_per_meter_waiting',\n",
    "#     'addtional_fare_per_distance@meter_waiting_after_pickup_per_duration',\n",
    "#     'addtional_fare_per_distance@meter_waiting_till_pickup_per_duration',\n",
    "#     'addtional_fare_per_distance@meter_waiting_till_pickup_per_distance',\n",
    "#     'addtional_fare_per_distance@meter_waiting_after_pickup_per_distance',\n",
    "#     'addtional_fare_per_distance@meter_waiting_till_pickup_per_fare',\n",
    "#     'addtional_fare_per_distance@meter_waiting_after_pickup_per_fare',\n",
    "#     'addtional_fare_per_distance@meter_waiting_till_pickup_per_meter_waiting_fare',\n",
    "#     'addtional_fare_per_distance@meter_waiting_after_pickup_per_meter_waiting_fare',\n",
    "#     'addtional_fare_per_duration@fare-additional_fare_per_distance',\n",
    "#     'addtional_fare_per_duration@fare-additional_fare_per_duration',\n",
    "#     'addtional_fare_per_duration@fare-additional_fare-meter_waiting_fare_per_distance',\n",
    "#     'addtional_fare_per_duration@fare-additional_fare-meter_waiting_fare_per_duration',\n",
    "#     'addtional_fare_per_duration@meter_waiting_till_pickup_per_meter_waiting',\n",
    "#     'addtional_fare_per_duration@meter_waiting_after_pickup_per_duration',\n",
    "#     'addtional_fare_per_duration@meter_waiting_till_pickup_per_duration',\n",
    "#     'addtional_fare_per_duration@meter_waiting_till_pickup_per_distance',\n",
    "#     'addtional_fare_per_duration@meter_waiting_after_pickup_per_distance',\n",
    "#     'addtional_fare_per_duration@meter_waiting_till_pickup_per_fare',\n",
    "#     'addtional_fare_per_duration@meter_waiting_after_pickup_per_fare',\n",
    "#     'addtional_fare_per_duration@meter_waiting_till_pickup_per_meter_waiting_fare',\n",
    "#     'addtional_fare_per_duration@meter_waiting_after_pickup_per_meter_waiting_fare',\n",
    "#     'fare-additional_fare_per_distance@fare-additional_fare_per_duration',\n",
    "#     'fare-additional_fare_per_distance@fare-additional_fare-meter_waiting_fare_per_distance',\n",
    "#     'fare-additional_fare_per_distance@fare-additional_fare-meter_waiting_fare_per_duration',\n",
    "#     'fare-additional_fare_per_distance@meter_waiting_till_pickup_per_meter_waiting',\n",
    "#     'fare-additional_fare_per_distance@meter_waiting_after_pickup_per_duration',\n",
    "#     'fare-additional_fare_per_distance@meter_waiting_till_pickup_per_duration',\n",
    "#     'fare-additional_fare_per_distance@meter_waiting_till_pickup_per_distance',\n",
    "#     'fare-additional_fare_per_distance@meter_waiting_after_pickup_per_distance',\n",
    "#     'fare-additional_fare_per_distance@meter_waiting_till_pickup_per_fare',\n",
    "#     'fare-additional_fare_per_distance@meter_waiting_after_pickup_per_fare',\n",
    "#     'fare-additional_fare_per_distance@meter_waiting_till_pickup_per_meter_waiting_fare',\n",
    "#     'fare-additional_fare_per_distance@meter_waiting_after_pickup_per_meter_waiting_fare',\n",
    "#     'fare-additional_fare_per_duration@fare-additional_fare-meter_waiting_fare_per_distance',\n",
    "#     'fare-additional_fare_per_duration@fare-additional_fare-meter_waiting_fare_per_duration',\n",
    "#     'fare-additional_fare_per_duration@meter_waiting_till_pickup_per_meter_waiting',\n",
    "#     'fare-additional_fare_per_duration@meter_waiting_after_pickup_per_duration',\n",
    "#     'fare-additional_fare_per_duration@meter_waiting_till_pickup_per_duration',\n",
    "#     'fare-additional_fare_per_duration@meter_waiting_till_pickup_per_distance',\n",
    "#     'fare-additional_fare_per_duration@meter_waiting_after_pickup_per_distance',\n",
    "#     'fare-additional_fare_per_duration@meter_waiting_till_pickup_per_fare',\n",
    "#     'fare-additional_fare_per_duration@meter_waiting_after_pickup_per_fare',\n",
    "#     'fare-additional_fare_per_duration@meter_waiting_till_pickup_per_meter_waiting_fare',\n",
    "#     'fare-additional_fare_per_duration@meter_waiting_after_pickup_per_meter_waiting_fare',\n",
    "#     'fare-additional_fare-meter_waiting_fare_per_distance@fare-additional_fare-meter_waiting_fare_per_duration',\n",
    "#     'fare-additional_fare-meter_waiting_fare_per_distance@meter_waiting_till_pickup_per_meter_waiting',\n",
    "#     'fare-additional_fare-meter_waiting_fare_per_distance@meter_waiting_after_pickup_per_duration',\n",
    "#     'fare-additional_fare-meter_waiting_fare_per_distance@meter_waiting_till_pickup_per_duration',\n",
    "#     'fare-additional_fare-meter_waiting_fare_per_distance@meter_waiting_till_pickup_per_distance',\n",
    "#     'fare-additional_fare-meter_waiting_fare_per_distance@meter_waiting_after_pickup_per_distance',\n",
    "#     'fare-additional_fare-meter_waiting_fare_per_distance@meter_waiting_till_pickup_per_fare',\n",
    "#     'fare-additional_fare-meter_waiting_fare_per_distance@meter_waiting_after_pickup_per_fare',\n",
    "#     'fare-additional_fare-meter_waiting_fare_per_distance@meter_waiting_till_pickup_per_meter_waiting_fare',\n",
    "#     'fare-additional_fare-meter_waiting_fare_per_distance@meter_waiting_after_pickup_per_meter_waiting_fare',\n",
    "#     'fare-additional_fare-meter_waiting_fare_per_duration@meter_waiting_till_pickup_per_meter_waiting',\n",
    "#     'fare-additional_fare-meter_waiting_fare_per_duration@meter_waiting_after_pickup_per_duration',\n",
    "#     'fare-additional_fare-meter_waiting_fare_per_duration@meter_waiting_till_pickup_per_duration',\n",
    "#     'fare-additional_fare-meter_waiting_fare_per_duration@meter_waiting_till_pickup_per_distance',\n",
    "#     'fare-additional_fare-meter_waiting_fare_per_duration@meter_waiting_after_pickup_per_distance',\n",
    "#     'fare-additional_fare-meter_waiting_fare_per_duration@meter_waiting_till_pickup_per_fare',\n",
    "#     'fare-additional_fare-meter_waiting_fare_per_duration@meter_waiting_after_pickup_per_fare',\n",
    "#     'fare-additional_fare-meter_waiting_fare_per_duration@meter_waiting_till_pickup_per_meter_waiting_fare',\n",
    "#     'fare-additional_fare-meter_waiting_fare_per_duration@meter_waiting_after_pickup_per_meter_waiting_fare',\n",
    "#     'meter_waiting_till_pickup_per_meter_waiting@meter_waiting_after_pickup_per_duration',\n",
    "#     'meter_waiting_till_pickup_per_meter_waiting@meter_waiting_till_pickup_per_duration',\n",
    "#     'meter_waiting_till_pickup_per_meter_waiting@meter_waiting_till_pickup_per_distance',\n",
    "#     'meter_waiting_till_pickup_per_meter_waiting@meter_waiting_after_pickup_per_distance',\n",
    "#     'meter_waiting_till_pickup_per_meter_waiting@meter_waiting_till_pickup_per_fare',\n",
    "#     'meter_waiting_till_pickup_per_meter_waiting@meter_waiting_after_pickup_per_fare',\n",
    "#     'meter_waiting_till_pickup_per_meter_waiting@meter_waiting_till_pickup_per_meter_waiting_fare',\n",
    "#     'meter_waiting_till_pickup_per_meter_waiting@meter_waiting_after_pickup_per_meter_waiting_fare',\n",
    "#     'meter_waiting_after_pickup_per_duration@meter_waiting_till_pickup_per_duration',\n",
    "#     'meter_waiting_after_pickup_per_duration@meter_waiting_till_pickup_per_distance',\n",
    "#     'meter_waiting_after_pickup_per_duration@meter_waiting_after_pickup_per_distance',\n",
    "#     'meter_waiting_after_pickup_per_duration@meter_waiting_till_pickup_per_fare',\n",
    "#     'meter_waiting_after_pickup_per_duration@meter_waiting_after_pickup_per_fare',\n",
    "#     'meter_waiting_after_pickup_per_duration@meter_waiting_till_pickup_per_meter_waiting_fare',\n",
    "#     'meter_waiting_after_pickup_per_duration@meter_waiting_after_pickup_per_meter_waiting_fare',\n",
    "#     'meter_waiting_till_pickup_per_duration@meter_waiting_till_pickup_per_distance',\n",
    "#     'meter_waiting_till_pickup_per_duration@meter_waiting_after_pickup_per_distance',\n",
    "#     'meter_waiting_till_pickup_per_duration@meter_waiting_till_pickup_per_fare',\n",
    "#     'meter_waiting_till_pickup_per_duration@meter_waiting_after_pickup_per_fare',\n",
    "#     'meter_waiting_till_pickup_per_duration@meter_waiting_till_pickup_per_meter_waiting_fare',\n",
    "#     'meter_waiting_till_pickup_per_duration@meter_waiting_after_pickup_per_meter_waiting_fare',\n",
    "#     'meter_waiting_till_pickup_per_distance@meter_waiting_after_pickup_per_distance',\n",
    "#     'meter_waiting_till_pickup_per_distance@meter_waiting_till_pickup_per_fare',\n",
    "#     'meter_waiting_till_pickup_per_distance@meter_waiting_after_pickup_per_fare',\n",
    "#     'meter_waiting_till_pickup_per_distance@meter_waiting_till_pickup_per_meter_waiting_fare',\n",
    "#     'meter_waiting_till_pickup_per_distance@meter_waiting_after_pickup_per_meter_waiting_fare',\n",
    "#     'meter_waiting_after_pickup_per_distance@meter_waiting_till_pickup_per_fare',\n",
    "#     'meter_waiting_after_pickup_per_distance@meter_waiting_after_pickup_per_fare',\n",
    "#     'meter_waiting_after_pickup_per_distance@meter_waiting_till_pickup_per_meter_waiting_fare',\n",
    "#     'meter_waiting_after_pickup_per_distance@meter_waiting_after_pickup_per_meter_waiting_fare',\n",
    "#     'meter_waiting_till_pickup_per_fare@meter_waiting_after_pickup_per_fare',\n",
    "#     'meter_waiting_till_pickup_per_fare@meter_waiting_till_pickup_per_meter_waiting_fare',\n",
    "#     'meter_waiting_till_pickup_per_fare@meter_waiting_after_pickup_per_meter_waiting_fare',\n",
    "#     'meter_waiting_after_pickup_per_fare@meter_waiting_till_pickup_per_meter_waiting_fare',\n",
    "#     'meter_waiting_after_pickup_per_fare@meter_waiting_after_pickup_per_meter_waiting_fare',\n",
    "#     'meter_waiting_till_pickup_per_meter_waiting_fare@meter_waiting_after_pickup_per_meter_waiting_fare'\n",
    "]\n",
    "\n",
    "cat_features = []"
   ]
  },
  {
   "cell_type": "code",
   "execution_count": null,
   "metadata": {},
   "outputs": [],
   "source": [
    "train = train_df[features]\n",
    "test = test_df[features]\n",
    "train_org = train_df_org[features]\n",
    "y = train_df['label']"
   ]
  },
  {
   "cell_type": "code",
   "execution_count": null,
   "metadata": {},
   "outputs": [],
   "source": [
    "catboost_params = {\n",
    "    'loss_function':'Logloss',\n",
    "    'random_state':0,\n",
    "    'early_stopping_rounds':50,\n",
    "    'eval_metric':'F1',\n",
    "    'border_count':512\n",
    "}"
   ]
  },
  {
   "cell_type": "code",
   "execution_count": null,
   "metadata": {},
   "outputs": [],
   "source": [
    "submission_pool = Pool(data=test_df[features], cat_features=cat_features)\n",
    "org_pool = Pool(data=train_org[features], cat_features=cat_features)"
   ]
  },
  {
   "cell_type": "code",
   "execution_count": null,
   "metadata": {},
   "outputs": [],
   "source": [
    "train_preds = np.zeros(train_df.shape[0])\n",
    "test_preds = np.zeros(test_df.shape[0])\n",
    "train_class = np.zeros(train_df.shape[0])\n",
    "test_class = np.zeros(test_df.shape[0])\n",
    "skf = StratifiedKFold(n_splits=3)\n",
    "validation_scores = []\n",
    "org_scores = []\n",
    "models = []\n",
    "train_pools = []\n",
    "for train_index, test_index in skf.split(train, y):\n",
    "    X_train, X_test = train.iloc[train_index,:], train.iloc[test_index,:]\n",
    "    y_train, y_test = y[train_index], y[test_index]\n",
    "    train_pool = Pool(data=X_train, label=y_train,cat_features=cat_features)\n",
    "    train_pools.append(train_pool)\n",
    "    test_pool = Pool(data=X_test, label=y_test, cat_features=cat_features)    \n",
    "    model = CatBoostClassifier(**catboost_params)\n",
    "    model.fit(X=train_pool, eval_set=test_pool,verbose=10)\n",
    "    train_preds[test_index] = model.predict_proba(test_pool)[:,1]\n",
    "    train_class[test_index] = model.predict(test_pool)\n",
    "    test_preds += model.predict_proba(submission_pool)[:,1]/3\n",
    "    test_class += model.predict(submission_pool)\n",
    "    validation_scores.append(f1_score(y_test,model.predict(test_pool),average='micro'))\n",
    "    org_scores.append(f1_score(y_org,model.predict(org_pool),average='micro'))\n",
    "    models.append(model)\n",
    "test_class = np.where(test_class > 2, 1, 0)"
   ]
  },
  {
   "cell_type": "code",
   "execution_count": null,
   "metadata": {},
   "outputs": [],
   "source": [
    "np.mean(validation_scores), np.std(validation_scores), min(validation_scores)"
   ]
  },
  {
   "cell_type": "code",
   "execution_count": null,
   "metadata": {},
   "outputs": [],
   "source": [
    "np.mean(org_scores), np.std(org_scores), min(org_scores)"
   ]
  },
  {
   "cell_type": "code",
   "execution_count": null,
   "metadata": {},
   "outputs": [],
   "source": [
    "best_model = models[np.argmax(validation_scores)]\n",
    "best_model.get_feature_importance(prettified=True)"
   ]
  },
  {
   "cell_type": "code",
   "execution_count": null,
   "metadata": {},
   "outputs": [],
   "source": [
    "y_hat = np.round(best_model.predict(train))\n",
    "confusion_matrix(y,y_hat,normalize='pred')"
   ]
  },
  {
   "cell_type": "code",
   "execution_count": null,
   "metadata": {},
   "outputs": [],
   "source": [
    "best_model.plot_tree(0,train_pools[np.argmax(validation_scores)])"
   ]
  },
  {
   "cell_type": "code",
   "execution_count": null,
   "metadata": {},
   "outputs": [],
   "source": [
    "sns.scatterplot(x='meter_waiting_after_pickup_per_meter_waiting_fare',y='meter_waiting_fare_per_meter_waiting',data=train_df,hue='label')"
   ]
  },
  {
   "cell_type": "code",
   "execution_count": null,
   "metadata": {},
   "outputs": [],
   "source": [
    "sns.scatterplot(x='fare-additional_fare_per_duration',y='fare-additional_fare_per_distance',data=train_df,hue='label')"
   ]
  },
  {
   "cell_type": "markdown",
   "metadata": {},
   "source": [
    "# Date minute encoding"
   ]
  },
  {
   "cell_type": "code",
   "execution_count": null,
   "metadata": {},
   "outputs": [],
   "source": [
    "sns.scatterplot(x='pickup_date',y='pickup_minute',data=train_df,hue='label')"
   ]
  },
  {
   "cell_type": "code",
   "execution_count": null,
   "metadata": {},
   "outputs": [],
   "source": [
    "sns.countplot(x='pickup_date',data=train_df,hue='label')"
   ]
  },
  {
   "cell_type": "code",
   "execution_count": null,
   "metadata": {},
   "outputs": [],
   "source": [
    "def date_minute_encoding(by='pickup'):\n",
    "    def f(row):\n",
    "        date = f\"{int(row[f'{by}_date']):02}\"\n",
    "        minute = f\"{int(row[f'{by}_minute']):02}\"\n",
    "        return f'{date}_{minute}'\n",
    "    return f"
   ]
  },
  {
   "cell_type": "code",
   "execution_count": null,
   "metadata": {},
   "outputs": [],
   "source": [
    "train_df['pickup_date_minute'] = train_df.apply(date_minute_encoding(),axis=1)\n",
    "test_df['pickup_date_minute'] = test_df.apply(date_minute_encoding(),axis=1)\n",
    "train_df_org['pickup_date_minute'] = train_df_org.apply(date_minute_encoding(),axis=1)"
   ]
  },
  {
   "cell_type": "code",
   "execution_count": null,
   "metadata": {},
   "outputs": [],
   "source": [
    "keys = list(train_df['pickup_date_minute'].unique())\n",
    "keys.sort()\n",
    "key_map = {}\n",
    "for i, key in enumerate(keys):\n",
    "    key_map[key] = i"
   ]
  },
  {
   "cell_type": "code",
   "execution_count": null,
   "metadata": {},
   "outputs": [],
   "source": [
    "def encode_with_key_map(key_map,col='pickup_date_minute'):\n",
    "    def fn(row):\n",
    "        key = row[col]\n",
    "        return key_map[key]\n",
    "    return fn"
   ]
  },
  {
   "cell_type": "code",
   "execution_count": null,
   "metadata": {},
   "outputs": [],
   "source": [
    "train_df['pickup_date_minute'] = train_df.apply(encode_with_key_map(key_map),axis=1)\n",
    "test_df['pickup_date_minute'] = test_df.apply(encode_with_key_map(key_map),axis=1)\n",
    "train_df_org['pickup_date_minute'] = train_df_org.apply(encode_with_key_map(key_map),axis=1)"
   ]
  },
  {
   "cell_type": "code",
   "execution_count": null,
   "metadata": {},
   "outputs": [],
   "source": [
    "sns.countplot(x='pickup_date_minute',data=train_df,hue='label')"
   ]
  },
  {
   "cell_type": "code",
   "execution_count": null,
   "metadata": {},
   "outputs": [],
   "source": [
    "features = [\n",
    "    'fare_per_distance',\n",
    "    'fare_per_duration',\n",
    "    'avg_speed',\n",
    "    'meter_waiting_per_duration',\n",
    "    'meter_waiting_fare_per_meter_waiting',\n",
    "    'meter_waiting_fare_per_duration',\n",
    "    'addtional_fare_per_fare',\n",
    "    'addtional_fare_per_distance',\n",
    "    'addtional_fare_per_duration',\n",
    "    'fare-additional_fare_per_distance',\n",
    "    'fare-additional_fare_per_duration',\n",
    "    'fare-additional_fare-meter_waiting_fare_per_distance',\n",
    "    'fare-additional_fare-meter_waiting_fare_per_duration',\n",
    "    'meter_waiting_till_pickup_per_meter_waiting',\n",
    "    'meter_waiting_after_pickup_per_duration',\n",
    "    'meter_waiting_till_pickup_per_duration',\n",
    "    'meter_waiting_till_pickup_per_distance',\n",
    "    'meter_waiting_after_pickup_per_distance',\n",
    "    'meter_waiting_till_pickup_per_fare',\n",
    "    'meter_waiting_after_pickup_per_fare',\n",
    "    'meter_waiting_till_pickup_per_meter_waiting_fare',\n",
    "    'meter_waiting_after_pickup_per_meter_waiting_fare', \n",
    "    'cal_time_difference_per_duration',\n",
    "    'pickup_date_minute'\n",
    "]\n",
    "\n",
    "cat_features = [\n",
    "    'pickup_date_minute'\n",
    "]"
   ]
  },
  {
   "cell_type": "code",
   "execution_count": null,
   "metadata": {},
   "outputs": [],
   "source": [
    "train = train_df[features]\n",
    "test = test_df[features]\n",
    "train_org = train_df_org[features]\n",
    "y = train_df['label']"
   ]
  },
  {
   "cell_type": "code",
   "execution_count": null,
   "metadata": {},
   "outputs": [],
   "source": [
    "catboost_params = {\n",
    "    'loss_function':'Logloss',\n",
    "    'random_state':0,\n",
    "    'early_stopping_rounds':50,\n",
    "    'eval_metric':'F1',\n",
    "    'border_count':512\n",
    "}"
   ]
  },
  {
   "cell_type": "code",
   "execution_count": null,
   "metadata": {},
   "outputs": [],
   "source": [
    "submission_pool = Pool(data=test_df[features], cat_features=cat_features)\n",
    "org_pool = Pool(data=train_org[features], cat_features=cat_features)"
   ]
  },
  {
   "cell_type": "code",
   "execution_count": null,
   "metadata": {},
   "outputs": [],
   "source": [
    "train_preds = np.zeros(train_df.shape[0])\n",
    "test_preds = np.zeros(test_df.shape[0])\n",
    "train_class = np.zeros(train_df.shape[0])\n",
    "test_class = np.zeros(test_df.shape[0])\n",
    "skf = StratifiedKFold(n_splits=3)\n",
    "validation_scores = []\n",
    "org_scores = []\n",
    "models = []\n",
    "train_pools = []\n",
    "for train_index, test_index in skf.split(train, y):\n",
    "    X_train, X_test = train.iloc[train_index,:], train.iloc[test_index,:]\n",
    "    y_train, y_test = y[train_index], y[test_index]\n",
    "    train_pool = Pool(data=X_train, label=y_train,cat_features=cat_features)\n",
    "    train_pools.append(train_pool)\n",
    "    test_pool = Pool(data=X_test, label=y_test, cat_features=cat_features)    \n",
    "    model = CatBoostClassifier(**catboost_params)\n",
    "    model.fit(X=train_pool, eval_set=test_pool,verbose=10)\n",
    "    train_preds[test_index] = model.predict_proba(test_pool)[:,1]\n",
    "    train_class[test_index] = model.predict(test_pool)\n",
    "    test_preds += model.predict_proba(submission_pool)[:,1]/3\n",
    "    test_class += model.predict(submission_pool)\n",
    "    validation_scores.append(f1_score(y_test,model.predict(test_pool),average='micro'))\n",
    "    org_scores.append(f1_score(y_org,model.predict(org_pool),average='micro'))\n",
    "    models.append(model)\n",
    "test_class = np.where(test_class > 2, 1, 0)"
   ]
  },
  {
   "cell_type": "code",
   "execution_count": null,
   "metadata": {},
   "outputs": [],
   "source": [
    "np.mean(validation_scores), np.std(validation_scores), min(validation_scores)"
   ]
  },
  {
   "cell_type": "code",
   "execution_count": null,
   "metadata": {},
   "outputs": [],
   "source": [
    "np.mean(org_scores), np.std(org_scores), min(org_scores)"
   ]
  },
  {
   "cell_type": "code",
   "execution_count": null,
   "metadata": {},
   "outputs": [],
   "source": [
    "best_model = models[np.argmax(validation_scores)]\n",
    "best_model.get_feature_importance(prettified=True)"
   ]
  },
  {
   "cell_type": "code",
   "execution_count": null,
   "metadata": {},
   "outputs": [],
   "source": [
    "y_hat = np.round(best_model.predict(train))\n",
    "confusion_matrix(y,y_hat,normalize='pred')"
   ]
  },
  {
   "cell_type": "markdown",
   "metadata": {},
   "source": [
    "# Linear predictions"
   ]
  },
  {
   "cell_type": "code",
   "execution_count": null,
   "metadata": {},
   "outputs": [],
   "source": [
    "sns.violinplot(x='label',y='predicted_fare_per_duration',data=train_df)"
   ]
  },
  {
   "cell_type": "code",
   "execution_count": null,
   "metadata": {},
   "outputs": [],
   "source": [
    "sns.violinplot(x='label',y='predicted_duration_diff_bucket',data=train_df)"
   ]
  },
  {
   "cell_type": "code",
   "execution_count": null,
   "metadata": {},
   "outputs": [],
   "source": [
    "sns.violinplot(x='label',y='predicted_meter_waiting_per_duration',data=train_df)"
   ]
  },
  {
   "cell_type": "code",
   "execution_count": null,
   "metadata": {},
   "outputs": [],
   "source": [
    "sns.violinplot(x='label',y='predicted_fare_per_distance',data=train_df)"
   ]
  },
  {
   "cell_type": "code",
   "execution_count": null,
   "metadata": {},
   "outputs": [],
   "source": [
    "predicted_cols = [\n",
    "    'predicted_fare_per_duration',\n",
    "    'predicted_duration_diff_bucket',\n",
    "    'predicted_meter_waiting_per_duration',\n",
    "    'predicted_fare_per_distance'\n",
    "]"
   ]
  },
  {
   "cell_type": "code",
   "execution_count": null,
   "metadata": {},
   "outputs": [],
   "source": [
    "features = [\n",
    "    'fare_per_distance',\n",
    "    'fare_per_duration',\n",
    "    'avg_speed',\n",
    "    'meter_waiting_per_duration',\n",
    "    'meter_waiting_fare_per_meter_waiting',\n",
    "    'meter_waiting_fare_per_duration',\n",
    "    'addtional_fare_per_fare',\n",
    "    'addtional_fare_per_distance',\n",
    "    'addtional_fare_per_duration',\n",
    "    'fare-additional_fare_per_distance',\n",
    "    'fare-additional_fare_per_duration',\n",
    "    'fare-additional_fare-meter_waiting_fare_per_distance',\n",
    "    'fare-additional_fare-meter_waiting_fare_per_duration',\n",
    "    'meter_waiting_till_pickup_per_meter_waiting',\n",
    "    'meter_waiting_after_pickup_per_duration',\n",
    "    'meter_waiting_till_pickup_per_duration',\n",
    "    'meter_waiting_till_pickup_per_distance',\n",
    "    'meter_waiting_after_pickup_per_distance',\n",
    "    'meter_waiting_till_pickup_per_fare',\n",
    "    'meter_waiting_after_pickup_per_fare',\n",
    "    'meter_waiting_till_pickup_per_meter_waiting_fare',\n",
    "    'meter_waiting_after_pickup_per_meter_waiting_fare', \n",
    "    'cal_time_difference_per_duration'\n",
    "]\n",
    "\n",
    "cat_features = []"
   ]
  },
  {
   "cell_type": "code",
   "execution_count": null,
   "metadata": {},
   "outputs": [],
   "source": [
    "features = features + predicted_cols"
   ]
  },
  {
   "cell_type": "code",
   "execution_count": null,
   "metadata": {},
   "outputs": [],
   "source": [
    "train = train_df[features]\n",
    "test = test_df[features]\n",
    "train_org = train_df_org[features]\n",
    "y = train_df['label']"
   ]
  },
  {
   "cell_type": "code",
   "execution_count": null,
   "metadata": {},
   "outputs": [],
   "source": [
    "catboost_params = {\n",
    "    'loss_function':'Logloss',\n",
    "    'random_state':0,\n",
    "    'early_stopping_rounds':50,\n",
    "    'eval_metric':'F1',\n",
    "    'border_count':512\n",
    "}"
   ]
  },
  {
   "cell_type": "code",
   "execution_count": null,
   "metadata": {},
   "outputs": [],
   "source": [
    "submission_pool = Pool(data=test_df[features], cat_features=cat_features)\n",
    "org_pool = Pool(data=train_org[features], cat_features=cat_features)"
   ]
  },
  {
   "cell_type": "code",
   "execution_count": null,
   "metadata": {},
   "outputs": [],
   "source": [
    "train_preds = np.zeros(train_df.shape[0])\n",
    "test_preds = np.zeros(test_df.shape[0])\n",
    "train_class = np.zeros(train_df.shape[0])\n",
    "test_class = np.zeros(test_df.shape[0])\n",
    "skf = StratifiedKFold(n_splits=3)\n",
    "validation_scores = []\n",
    "org_scores = []\n",
    "models = []\n",
    "train_pools = []\n",
    "for train_index, test_index in skf.split(train, y):\n",
    "    X_train, X_test = train.iloc[train_index,:], train.iloc[test_index,:]\n",
    "    y_train, y_test = y[train_index], y[test_index]\n",
    "    train_pool = Pool(data=X_train, label=y_train,cat_features=cat_features)\n",
    "    train_pools.append(train_pool)\n",
    "    test_pool = Pool(data=X_test, label=y_test, cat_features=cat_features)    \n",
    "    model = CatBoostClassifier(**catboost_params)\n",
    "    model.fit(X=train_pool, eval_set=test_pool,verbose=10)\n",
    "    train_preds[test_index] = model.predict_proba(test_pool)[:,1]\n",
    "    train_class[test_index] = model.predict(test_pool)\n",
    "    test_preds += model.predict_proba(submission_pool)[:,1]/3\n",
    "    test_class += model.predict(submission_pool)\n",
    "    validation_scores.append(f1_score(y_test,model.predict(test_pool),average='micro'))\n",
    "    org_scores.append(f1_score(y_org,model.predict(org_pool),average='micro'))\n",
    "    models.append(model)\n",
    "test_class = np.where(test_class > 2, 1, 0)"
   ]
  },
  {
   "cell_type": "code",
   "execution_count": null,
   "metadata": {},
   "outputs": [],
   "source": [
    "np.mean(validation_scores), np.std(validation_scores), min(validation_scores)"
   ]
  },
  {
   "cell_type": "code",
   "execution_count": null,
   "metadata": {},
   "outputs": [],
   "source": [
    "np.mean(org_scores), np.std(org_scores), min(org_scores)"
   ]
  },
  {
   "cell_type": "code",
   "execution_count": null,
   "metadata": {},
   "outputs": [],
   "source": [
    "best_model = models[np.argmax(validation_scores)]\n",
    "best_model.get_feature_importance(prettified=True)"
   ]
  },
  {
   "cell_type": "code",
   "execution_count": null,
   "metadata": {},
   "outputs": [],
   "source": [
    "y_hat = np.round(best_model.predict(train))\n",
    "confusion_matrix(y,y_hat,normalize='pred')"
   ]
  },
  {
   "cell_type": "code",
   "execution_count": null,
   "metadata": {},
   "outputs": [],
   "source": [
    "submission_df['prediction'] = test_class\n",
    "submission_df.to_csv('submission.csv',index=False)\n",
    "\n",
    "submission_df['prediction'].sum() / submission_df.shape[0]"
   ]
  },
  {
   "cell_type": "markdown",
   "metadata": {},
   "source": [
    "# Original noise cols"
   ]
  },
  {
   "cell_type": "code",
   "execution_count": null,
   "metadata": {},
   "outputs": [],
   "source": [
    "noise_cols = [\n",
    "    'additional_fare',\n",
    "    'duration',\n",
    "    'meter_waiting',\n",
    "    'meter_waiting_fare',\n",
    "    'meter_waiting_till_pickup'\n",
    "]"
   ]
  },
  {
   "cell_type": "code",
   "execution_count": null,
   "metadata": {},
   "outputs": [],
   "source": [
    "sns.violinplot(x='label',y='additional_fare',data=train_df)"
   ]
  },
  {
   "cell_type": "code",
   "execution_count": null,
   "metadata": {},
   "outputs": [],
   "source": [
    "sns.violinplot(x='label',y='duration',data=train_df)"
   ]
  },
  {
   "cell_type": "code",
   "execution_count": null,
   "metadata": {},
   "outputs": [],
   "source": [
    "sns.violinplot(x='label',y='meter_waiting',data=train_df)"
   ]
  },
  {
   "cell_type": "code",
   "execution_count": null,
   "metadata": {},
   "outputs": [],
   "source": [
    "sns.violinplot(x='label',y='meter_waiting_fare',data=train_df)"
   ]
  },
  {
   "cell_type": "code",
   "execution_count": null,
   "metadata": {},
   "outputs": [],
   "source": [
    "sns.violinplot(x='label',y='meter_waiting_till_pickup',data=train_df)"
   ]
  },
  {
   "cell_type": "code",
   "execution_count": null,
   "metadata": {},
   "outputs": [],
   "source": [
    "np.percentile(train_df['additional_fare'],0.99)"
   ]
  },
  {
   "cell_type": "code",
   "execution_count": null,
   "metadata": {},
   "outputs": [],
   "source": [
    "features = [\n",
    "    'fare_per_distance',\n",
    "    'fare_per_duration',\n",
    "    'avg_speed',\n",
    "    'meter_waiting_per_duration',\n",
    "    'meter_waiting_fare_per_meter_waiting',\n",
    "    'meter_waiting_fare_per_duration',\n",
    "    'addtional_fare_per_fare',\n",
    "    'addtional_fare_per_distance',\n",
    "    'addtional_fare_per_duration',\n",
    "    'fare-additional_fare_per_distance',\n",
    "    'fare-additional_fare_per_duration',\n",
    "    'fare-additional_fare-meter_waiting_fare_per_distance',\n",
    "    'fare-additional_fare-meter_waiting_fare_per_duration',\n",
    "    'meter_waiting_till_pickup_per_meter_waiting',\n",
    "    'meter_waiting_after_pickup_per_duration',\n",
    "    'meter_waiting_till_pickup_per_duration',\n",
    "    'meter_waiting_till_pickup_per_distance',\n",
    "    'meter_waiting_after_pickup_per_distance',\n",
    "    'meter_waiting_till_pickup_per_fare',\n",
    "    'meter_waiting_after_pickup_per_fare',\n",
    "    'meter_waiting_till_pickup_per_meter_waiting_fare',\n",
    "    'meter_waiting_after_pickup_per_meter_waiting_fare',    \n",
    "]\n",
    "\n",
    "cat_features = []"
   ]
  },
  {
   "cell_type": "code",
   "execution_count": null,
   "metadata": {},
   "outputs": [],
   "source": [
    "features = features + noise_cols"
   ]
  },
  {
   "cell_type": "code",
   "execution_count": null,
   "metadata": {},
   "outputs": [],
   "source": [
    "train = train_df[features]\n",
    "test = test_df[features]\n",
    "train_org = train_df_org[features]\n",
    "y = train_df['label']"
   ]
  },
  {
   "cell_type": "code",
   "execution_count": null,
   "metadata": {},
   "outputs": [],
   "source": [
    "catboost_params = {\n",
    "    'loss_function':'Logloss',\n",
    "    'random_state':0,\n",
    "    'early_stopping_rounds':50,\n",
    "    'eval_metric':'F1',\n",
    "    'border_count':512\n",
    "}"
   ]
  },
  {
   "cell_type": "code",
   "execution_count": null,
   "metadata": {},
   "outputs": [],
   "source": [
    "submission_pool = Pool(data=test_df[features], cat_features=cat_features)\n",
    "org_pool = Pool(data=train_org[features], cat_features=cat_features)"
   ]
  },
  {
   "cell_type": "code",
   "execution_count": null,
   "metadata": {},
   "outputs": [],
   "source": [
    "train_preds = np.zeros(train_df.shape[0])\n",
    "test_preds = np.zeros(test_df.shape[0])\n",
    "train_class = np.zeros(train_df.shape[0])\n",
    "test_class = np.zeros(test_df.shape[0])\n",
    "skf = StratifiedKFold(n_splits=3)\n",
    "validation_scores = []\n",
    "org_scores = []\n",
    "models = []\n",
    "train_pools = []\n",
    "for train_index, test_index in skf.split(train, y):\n",
    "    X_train, X_test = train.iloc[train_index,:], train.iloc[test_index,:]\n",
    "    y_train, y_test = y[train_index], y[test_index]\n",
    "    train_pool = Pool(data=X_train, label=y_train,cat_features=cat_features)\n",
    "    train_pools.append(train_pool)\n",
    "    test_pool = Pool(data=X_test, label=y_test, cat_features=cat_features)    \n",
    "    model = CatBoostClassifier(**catboost_params)\n",
    "    model.fit(X=train_pool, eval_set=test_pool,verbose=10)\n",
    "    train_preds[test_index] = model.predict_proba(test_pool)[:,1]\n",
    "    train_class[test_index] = model.predict(test_pool)\n",
    "    test_preds += model.predict_proba(submission_pool)[:,1]/3\n",
    "    test_class += model.predict(submission_pool)\n",
    "    validation_scores.append(f1_score(y_test,model.predict(test_pool),average='micro'))\n",
    "    org_scores.append(f1_score(y_org,model.predict(org_pool),average='micro'))\n",
    "    models.append(model)\n",
    "test_class = np.where(test_class > 2, 1, 0)"
   ]
  },
  {
   "cell_type": "code",
   "execution_count": null,
   "metadata": {},
   "outputs": [],
   "source": [
    "np.mean(validation_scores), np.std(validation_scores), min(validation_scores)"
   ]
  },
  {
   "cell_type": "code",
   "execution_count": null,
   "metadata": {},
   "outputs": [],
   "source": [
    "np.mean(org_scores), np.std(org_scores), min(org_scores)"
   ]
  },
  {
   "cell_type": "code",
   "execution_count": null,
   "metadata": {},
   "outputs": [],
   "source": [
    "best_model = models[np.argmax(validation_scores)]\n",
    "best_model.get_feature_importance(prettified=True)"
   ]
  },
  {
   "cell_type": "code",
   "execution_count": null,
   "metadata": {},
   "outputs": [],
   "source": [
    "y_hat = np.round(best_model.predict(train))\n",
    "confusion_matrix(y,y_hat,normalize='pred')"
   ]
  },
  {
   "cell_type": "markdown",
   "metadata": {},
   "source": [
    "# Orignial cat encodings"
   ]
  },
  {
   "cell_type": "code",
   "execution_count": null,
   "metadata": {},
   "outputs": [],
   "source": [
    "original_cat_cols = [\n",
    "    'pickup_hour',\n",
    "    'drop_hour',\n",
    "#     'pick_cluster'\n",
    "]"
   ]
  },
  {
   "cell_type": "code",
   "execution_count": null,
   "metadata": {},
   "outputs": [],
   "source": [
    "features = [\n",
    "    'fare_per_distance',\n",
    "    'fare_per_duration',\n",
    "    'avg_speed',\n",
    "    'meter_waiting_per_duration',\n",
    "    'meter_waiting_fare_per_meter_waiting',\n",
    "    'meter_waiting_fare_per_duration',\n",
    "    'addtional_fare_per_fare',\n",
    "    'addtional_fare_per_distance',\n",
    "#     'addtional_fare_per_duration',\n",
    "    'fare-additional_fare_per_distance',\n",
    "    'fare-additional_fare_per_duration',\n",
    "    'fare-additional_fare-meter_waiting_fare_per_distance',\n",
    "    'fare-additional_fare-meter_waiting_fare_per_duration',\n",
    "    'meter_waiting_till_pickup_per_meter_waiting',\n",
    "    'meter_waiting_after_pickup_per_duration',\n",
    "    'meter_waiting_till_pickup_per_duration',\n",
    "    'meter_waiting_till_pickup_per_distance',\n",
    "    'meter_waiting_after_pickup_per_distance',\n",
    "    'meter_waiting_till_pickup_per_fare',\n",
    "    'meter_waiting_after_pickup_per_fare',\n",
    "    'meter_waiting_till_pickup_per_meter_waiting_fare',\n",
    "    'meter_waiting_after_pickup_per_meter_waiting_fare',    \n",
    "    'meter_waiting_till_pickup',\n",
    "    \n",
    "    'fare',\n",
    "    'additional_fare',\n",
    "    'duration',\n",
    "#     'meter_waiting',\n",
    "    'meter_waiting_fare',\n",
    "    \n",
    "    'predicted_duration_diff',\n",
    "#     'predicted_fare_diff_per_predicted_fare',\n",
    "#     'predicted_fare_diff_per_fare',\n",
    "#     'predicted_fare_per_distance',\n",
    "#     'predicted_fare_diff_per_distance',\n",
    "#     'predicted_addtional_fare_per_distance',\n",
    "#     'predicted_additional_fare_diff',\n",
    "#     'predicted_avg_speed',\n",
    "#     'predicted_fare_per_duration',\n",
    "#     'predicted_fare_diff',\n",
    "#     'predicted_additional_fare',\n",
    "]\n",
    "\n",
    "cat_features = []"
   ]
  },
  {
   "cell_type": "code",
   "execution_count": null,
   "metadata": {},
   "outputs": [],
   "source": [
    "catboost_params = {\n",
    "    'loss_function':'Logloss',\n",
    "    'random_state':0,\n",
    "    'early_stopping_rounds':50,\n",
    "    'eval_metric':'F1',\n",
    "    'border_count':512\n",
    "}"
   ]
  },
  {
   "cell_type": "code",
   "execution_count": null,
   "metadata": {},
   "outputs": [],
   "source": [
    "features += original_cat_cols\n",
    "cat_features += original_cat_cols"
   ]
  },
  {
   "cell_type": "code",
   "execution_count": null,
   "metadata": {},
   "outputs": [],
   "source": [
    "train = train_df[features]\n",
    "test = test_df[features]\n",
    "train_org = train_df_org[features]\n",
    "y = train_df['label']"
   ]
  },
  {
   "cell_type": "code",
   "execution_count": null,
   "metadata": {},
   "outputs": [],
   "source": [
    "submission_pool = Pool(data=test_df[features], cat_features=cat_features)\n",
    "org_pool = Pool(data=train_org[features], cat_features=cat_features)"
   ]
  },
  {
   "cell_type": "code",
   "execution_count": null,
   "metadata": {},
   "outputs": [],
   "source": [
    "train_preds = np.zeros(train_df.shape[0])\n",
    "test_preds = np.zeros(test_df.shape[0])\n",
    "train_class = np.zeros(train_df.shape[0])\n",
    "test_class = np.zeros(test_df.shape[0])\n",
    "skf = StratifiedKFold(n_splits=3)\n",
    "validation_scores = []\n",
    "org_scores = []\n",
    "models = []\n",
    "train_pools = []\n",
    "for train_index, test_index in skf.split(train, y):\n",
    "    X_train, X_test = train.iloc[train_index,:], train.iloc[test_index,:]\n",
    "    y_train, y_test = y[train_index], y[test_index]\n",
    "    train_pool = Pool(data=X_train, label=y_train,cat_features=cat_features)\n",
    "    train_pools.append(train_pool)\n",
    "    test_pool = Pool(data=X_test, label=y_test, cat_features=cat_features)    \n",
    "    model = CatBoostClassifier(**catboost_params)\n",
    "    model.fit(X=train_pool, eval_set=test_pool,verbose=10)\n",
    "    train_preds[test_index] = model.predict_proba(test_pool)[:,1]\n",
    "    train_class[test_index] = model.predict(test_pool)\n",
    "    test_preds += model.predict_proba(submission_pool)[:,1]/3\n",
    "    test_class += model.predict(submission_pool)\n",
    "    validation_scores.append(f1_score(y_test,model.predict(test_pool),average='micro'))\n",
    "    org_scores.append(f1_score(y_org,model.predict(org_pool),average='micro'))\n",
    "    models.append(model)\n",
    "test_class = np.where(test_class > 2, 1, 0)"
   ]
  },
  {
   "cell_type": "code",
   "execution_count": null,
   "metadata": {},
   "outputs": [],
   "source": [
    "np.mean(validation_scores), np.std(validation_scores), min(validation_scores)"
   ]
  },
  {
   "cell_type": "code",
   "execution_count": null,
   "metadata": {},
   "outputs": [],
   "source": [
    "np.mean(org_scores), np.std(org_scores), min(org_scores)"
   ]
  },
  {
   "cell_type": "code",
   "execution_count": null,
   "metadata": {},
   "outputs": [],
   "source": [
    "y_hat = train_class\n",
    "confusion_matrix(y,y_hat,normalize='pred')"
   ]
  },
  {
   "cell_type": "code",
   "execution_count": null,
   "metadata": {},
   "outputs": [],
   "source": [
    "model = models[np.argmax(validation_scores)]\n",
    "pool = train_pools[np.argmax(validation_scores)]\n",
    "shap_values = model.get_feature_importance(Pool(train,y,cat_features=cat_features), type='ShapValues')\n",
    "\n",
    "expected_value = shap_values[0,-1]\n",
    "shap_values = shap_values[:,:-1]\n",
    "\n",
    "# visualize the first prediction's explanation\n",
    "shap.force_plot(expected_value, shap_values[0,:], train.iloc[0,:])\n",
    "\n"
   ]
  },
  {
   "cell_type": "code",
   "execution_count": null,
   "metadata": {},
   "outputs": [],
   "source": [
    "# best_model = models[np.argmax(validation_scores)]\n",
    "# best_model.get_feature_importance(prettified=True)"
   ]
  },
  {
   "cell_type": "code",
   "execution_count": null,
   "metadata": {},
   "outputs": [],
   "source": [
    "submission_df['prediction'] = test_class\n",
    "submission_df.to_csv('submission.csv',index=False)\n",
    "\n",
    "submission_df['prediction'].sum() / submission_df.shape[0]"
   ]
  },
  {
   "cell_type": "code",
   "execution_count": null,
   "metadata": {},
   "outputs": [],
   "source": [
    "neumeric_cols_to_multiply = [\n",
    "    'fare',\n",
    "    'fare_per_distance',  \n",
    "    'fare_per_duration',\n",
    "    'fare-additional_fare_per_duration',\n",
    "    'avg_speed',    \n",
    "    'meter_waiting_fare_per_meter_waiting',\n",
    "    'meter_waiting_till_pickup',\n",
    "    'predicted_duration_diff',\n",
    "#     'predicted_fare_diff_per_predicted_fare',\n",
    "#     'predicted_fare_diff_per_fare',\n",
    "#     'predicted_fare_per_distance',\n",
    "#     'predicted_fare_diff_per_distance',\n",
    "#     'predicted_addtional_fare_per_distance',\n",
    "#     'predicted_additional_fare_diff',\n",
    "#     'predicted_avg_speed',\n",
    "#     'predicted_fare_per_duration',\n",
    "#     'predicted_fare_diff',\n",
    "#     'predicted_additional_fare'\n",
    "]\n",
    "\n",
    "encoding_cols = []\n",
    "for col1 in original_cat_cols:\n",
    "    for col2 in neumeric_cols_to_multiply:\n",
    "        name = f'{col1}@{col2}'\n",
    "        train_df[name] = train_df[col1] * train_df[col2]\n",
    "        train_df_org[name] = train_df[col1] * train_df[col2]\n",
    "        test_df[name] = test_df[col1] * test_df[col2]\n",
    "        encoding_cols.append(name)"
   ]
  },
  {
   "cell_type": "code",
   "execution_count": null,
   "metadata": {},
   "outputs": [],
   "source": [
    "special_features = []\n",
    "\n",
    "train_df['pickup_timeslot@distance'] = (train_df['pickup_timeslot']+1) * train_df['distance_km']\n",
    "train_df_org['pickup_timeslot@distance'] = (train_df_org['pickup_timeslot']+1) * train_df_org['distance_km']\n",
    "test_df['pickup_timeslot@distance'] = (test_df['pickup_timeslot']+1) * test_df['distance_km']\n",
    "special_features.append('pickup_timeslot@distance')"
   ]
  },
  {
   "cell_type": "code",
   "execution_count": null,
   "metadata": {},
   "outputs": [],
   "source": [
    "features += encoding_cols\n",
    "features += special_features"
   ]
  },
  {
   "cell_type": "code",
   "execution_count": null,
   "metadata": {},
   "outputs": [],
   "source": [
    "train = train_df[features]\n",
    "test = test_df[features]\n",
    "train_org = train_df_org[features]\n",
    "y = train_df['label']"
   ]
  },
  {
   "cell_type": "code",
   "execution_count": null,
   "metadata": {},
   "outputs": [],
   "source": [
    "submission_pool = Pool(data=test_df[features], cat_features=cat_features)\n",
    "org_pool = Pool(data=train_org[features], cat_features=cat_features)"
   ]
  },
  {
   "cell_type": "code",
   "execution_count": null,
   "metadata": {},
   "outputs": [],
   "source": [
    "train_preds = np.zeros(train_df.shape[0])\n",
    "test_preds = np.zeros(test_df.shape[0])\n",
    "train_class = np.zeros(train_df.shape[0])\n",
    "test_class = np.zeros(test_df.shape[0])\n",
    "skf = StratifiedKFold(n_splits=3)\n",
    "validation_scores = []\n",
    "org_scores = []\n",
    "models = []\n",
    "train_pools = []\n",
    "for train_index, test_index in skf.split(train, y):\n",
    "    X_train, X_test = train.iloc[train_index,:], train.iloc[test_index,:]\n",
    "    y_train, y_test = y[train_index], y[test_index]\n",
    "    train_pool = Pool(data=X_train, label=y_train,cat_features=cat_features)\n",
    "    train_pools.append(train_pool)\n",
    "    test_pool = Pool(data=X_test, label=y_test, cat_features=cat_features)    \n",
    "    model = CatBoostClassifier(**catboost_params)\n",
    "    model.fit(X=train_pool, eval_set=test_pool,verbose=10)\n",
    "    train_preds[test_index] = model.predict_proba(test_pool)[:,1]\n",
    "    train_class[test_index] = model.predict(test_pool)\n",
    "    test_preds += model.predict_proba(submission_pool)[:,1]/3\n",
    "    test_class += model.predict(submission_pool)\n",
    "    validation_scores.append(f1_score(y_test,model.predict(test_pool),average='micro'))\n",
    "    org_scores.append(f1_score(y_org,model.predict(org_pool),average='micro'))\n",
    "    models.append(model)\n",
    "test_class = np.where(test_class > 2, 1, 0)"
   ]
  },
  {
   "cell_type": "code",
   "execution_count": null,
   "metadata": {},
   "outputs": [],
   "source": [
    "np.mean(validation_scores), np.std(validation_scores), min(validation_scores)"
   ]
  },
  {
   "cell_type": "code",
   "execution_count": null,
   "metadata": {},
   "outputs": [],
   "source": [
    "np.mean(org_scores), np.std(org_scores), min(org_scores)"
   ]
  },
  {
   "cell_type": "code",
   "execution_count": null,
   "metadata": {},
   "outputs": [],
   "source": [
    "best_model = models[np.argmax(validation_scores)]\n",
    "best_model.get_feature_importance(prettified=True)"
   ]
  },
  {
   "cell_type": "code",
   "execution_count": null,
   "metadata": {},
   "outputs": [],
   "source": [
    "y_hat = train_class\n",
    "confusion_matrix(y,y_hat,normalize='pred')"
   ]
  },
  {
   "cell_type": "code",
   "execution_count": null,
   "metadata": {},
   "outputs": [],
   "source": [
    "\n",
    "model = models[np.argmax(validation_scores)]\n",
    "pool = train_pools[np.argmax(validation_scores)]\n",
    "shap_values = model.get_feature_importance(Pool(train,y,cat_features=cat_features), type='ShapValues')\n",
    "\n",
    "expected_value = shap_values[0,-1]\n",
    "shap_values = shap_values[:,:-1]\n",
    "\n",
    "# visualize the first prediction's explanation\n",
    "shap.force_plot(expected_value, shap_values[0,:], train.iloc[0,:])\n",
    "\n"
   ]
  },
  {
   "cell_type": "code",
   "execution_count": null,
   "metadata": {},
   "outputs": [],
   "source": [
    "submission_df['prediction'] = test_class\n",
    "submission_df.to_csv('submission.csv',index=False)\n",
    "\n",
    "submission_df['prediction'].sum() / submission_df.shape[0]"
   ]
  },
  {
   "cell_type": "code",
   "execution_count": null,
   "metadata": {},
   "outputs": [],
   "source": []
  }
 ],
 "metadata": {
  "kernelspec": {
   "display_name": "Python 3",
   "language": "python",
   "name": "python3"
  },
  "language_info": {
   "codemirror_mode": {
    "name": "ipython",
    "version": 3
   },
   "file_extension": ".py",
   "mimetype": "text/x-python",
   "name": "python",
   "nbconvert_exporter": "python",
   "pygments_lexer": "ipython3",
   "version": "3.7.4"
  }
 },
 "nbformat": 4,
 "nbformat_minor": 2
}
