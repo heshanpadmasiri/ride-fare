{
 "cells": [
  {
   "cell_type": "code",
   "execution_count": null,
   "metadata": {},
   "outputs": [],
   "source": [
    "import pandas as pd\n",
    "import numpy as np\n",
    "import matplotlib.pyplot as plt\n",
    "import seaborn as sns\n",
    "\n",
    "import datetime\n",
    "import geopy.distance\n",
    "\n",
    "from sklearn.mixture import BayesianGaussianMixture\n",
    "from sklearn.cluster import KMeans"
   ]
  },
  {
   "cell_type": "code",
   "execution_count": null,
   "metadata": {},
   "outputs": [],
   "source": [
    "train_df = pd.read_csv('train.csv')\n",
    "test_df = pd.read_csv('test.csv')\n",
    "submission_df = pd.read_csv('sample_submission.csv')"
   ]
  },
  {
   "cell_type": "code",
   "execution_count": null,
   "metadata": {},
   "outputs": [],
   "source": [
    "train_df.head()"
   ]
  },
  {
   "cell_type": "code",
   "execution_count": null,
   "metadata": {},
   "outputs": [],
   "source": [
    "test_df.head()"
   ]
  },
  {
   "cell_type": "code",
   "execution_count": null,
   "metadata": {},
   "outputs": [],
   "source": [
    "train_df.shape"
   ]
  },
  {
   "cell_type": "code",
   "execution_count": null,
   "metadata": {},
   "outputs": [],
   "source": [
    "test_df.shape"
   ]
  },
  {
   "cell_type": "markdown",
   "metadata": {},
   "source": [
    "# Column meaning\n",
    "\n",
    "|Column | Meaning\n",
    "|---|---|\n",
    "|tripid  |Trip ID|\n",
    "|additional_fare |  Additional fare charged in rupees|\n",
    "|duration| Duration of the trip in seconds from trip-start to trip-end|\n",
    "|meter_waiting| Duration in seconds indicating the total time the vehicle was immobile from trip-start to trip-end|\n",
    "|meter_waiting_fare| Fare for the time the vehicle was stopped within trip-start to trip-end duration. This may be due to traffic or other reason ex: stop at supermarket|\n",
    "|meter_waiting_till_pickup| Time between trip-accept to trip-start|\n",
    "|pickup_time| Date and time at pickup|\n",
    "|drop_time| Date and time at drop off|\n",
    "|pick_lat| Pickup latitude|\n",
    "|pick_lon| Pickup longitude|\n",
    "|drop_lat| Drop latitude|\n",
    "|drop_lon| Drop longitudefare Trip fare|\n",
    "|label| Label indicating if it is a correct or incorrect trip fare|\n"
   ]
  },
  {
   "cell_type": "markdown",
   "metadata": {},
   "source": [
    "## Check missing values"
   ]
  },
  {
   "cell_type": "code",
   "execution_count": null,
   "metadata": {},
   "outputs": [],
   "source": [
    "train_df.isna().any()"
   ]
  },
  {
   "cell_type": "code",
   "execution_count": null,
   "metadata": {},
   "outputs": [],
   "source": [
    "train_df.isna().sum()"
   ]
  },
  {
   "cell_type": "markdown",
   "metadata": {},
   "source": [
    "Missing values for additional_fare, duration, meter_waiting, meter_waiting_fare, meter_waiting_till_pickup are in the same row. Probably intentially dropped?"
   ]
  },
  {
   "cell_type": "code",
   "execution_count": null,
   "metadata": {},
   "outputs": [],
   "source": [
    "train_df[train_df['additional_fare'].isna() & train_df['duration'].isna() & train_df['meter_waiting'].isna() & train_df['meter_waiting'].isna() & train_df['meter_waiting_fare'].isna() & train_df['meter_waiting_till_pickup'].isna()]"
   ]
  },
  {
   "cell_type": "markdown",
   "metadata": {},
   "source": [
    "Most of the missing values for fair have missing values for other missing column however few have values for other missing columns "
   ]
  },
  {
   "cell_type": "code",
   "execution_count": null,
   "metadata": {},
   "outputs": [],
   "source": [
    "train_df[train_df['additional_fare'].isna() & train_df['duration'].isna() & train_df['meter_waiting'].isna() & train_df['meter_waiting'].isna() & train_df['meter_waiting_fare'].isna() & train_df['meter_waiting_till_pickup'].isna() & train_df['fare'].isna()]"
   ]
  },
  {
   "cell_type": "code",
   "execution_count": null,
   "metadata": {},
   "outputs": [],
   "source": [
    "train_df[~(train_df['additional_fare'].isna() & train_df['duration'].isna() & train_df['meter_waiting'].isna() & train_df['meter_waiting'].isna() & train_df['meter_waiting_fare'].isna() & train_df['meter_waiting_till_pickup'].isna()) & train_df['fare'].isna()]"
   ]
  },
  {
   "cell_type": "code",
   "execution_count": null,
   "metadata": {},
   "outputs": [],
   "source": [
    "test_df.isna().any()"
   ]
  },
  {
   "cell_type": "markdown",
   "metadata": {},
   "source": [
    "# Label distribution"
   ]
  },
  {
   "cell_type": "code",
   "execution_count": null,
   "metadata": {},
   "outputs": [],
   "source": [
    "sns.countplot(x='label', data=train_df)"
   ]
  },
  {
   "cell_type": "markdown",
   "metadata": {},
   "source": [
    "### Distribution for missing values"
   ]
  },
  {
   "cell_type": "code",
   "execution_count": null,
   "metadata": {},
   "outputs": [],
   "source": [
    "sns.countplot(x='label', data=train_df[train_df['additional_fare'].isna() | train_df['fare'].isna()])"
   ]
  },
  {
   "cell_type": "markdown",
   "metadata": {},
   "source": [
    "### Distribution after dropping missing values"
   ]
  },
  {
   "cell_type": "code",
   "execution_count": null,
   "metadata": {},
   "outputs": [],
   "source": [
    "sns.countplot(x='label', data=train_df.dropna())"
   ]
  },
  {
   "cell_type": "markdown",
   "metadata": {},
   "source": [
    "# Check for data leaks"
   ]
  },
  {
   "cell_type": "code",
   "execution_count": null,
   "metadata": {},
   "outputs": [],
   "source": [
    "pd.merge(train_df, test_df, on=['tripid'],how='inner')"
   ]
  },
  {
   "cell_type": "markdown",
   "metadata": {},
   "source": [
    "# Feature extraction functions"
   ]
  },
  {
   "cell_type": "code",
   "execution_count": null,
   "metadata": {},
   "outputs": [],
   "source": [
    "def extract_time(feature='date'):\n",
    "    def f(time_stamp): \n",
    "        date,time = time_stamp.strip().split()\n",
    "        date = list(map(int, date.split('/')))\n",
    "        time = list(map(int, time.split(':')))\n",
    "        if feature == 'date':\n",
    "            return date[1]\n",
    "        if feature == 'month':\n",
    "            return date[0]\n",
    "        if feature == 'year':\n",
    "            return date[2]\n",
    "        if feature == 'hour':\n",
    "            return time[0]\n",
    "        if feature == 'minute':\n",
    "            return time[1]\n",
    "    return f\n",
    "        "
   ]
  },
  {
   "cell_type": "code",
   "execution_count": null,
   "metadata": {},
   "outputs": [],
   "source": [
    "def get_combined_dataset(cols, train=train_df, test=test_df):\n",
    "    tmp_1 = train.loc[:,cols]\n",
    "    tmp_1['dataset'] = 'train'\n",
    "\n",
    "    tmp_2 = test.loc[:,cols]\n",
    "    tmp_2['dataset'] = 'test'\n",
    "    return tmp_1.append(tmp_2)\n",
    "    "
   ]
  },
  {
   "cell_type": "markdown",
   "metadata": {},
   "source": [
    "# Data distribution"
   ]
  },
  {
   "cell_type": "code",
   "execution_count": null,
   "metadata": {},
   "outputs": [],
   "source": [
    "data = train_df.dropna().drop(['tripid'],axis=1)\n",
    "data.head()"
   ]
  },
  {
   "cell_type": "markdown",
   "metadata": {},
   "source": [
    "### Extract time data"
   ]
  },
  {
   "cell_type": "code",
   "execution_count": null,
   "metadata": {},
   "outputs": [],
   "source": [
    "data['pickup_month'] = data['pickup_time'].map(extract_time('month'))\n",
    "data['pickup_date'] = data['pickup_time'].map(extract_time('date'))\n",
    "data['pickup_year'] = data['pickup_time'].map(extract_time('year'))\n",
    "data['pickup_hour'] = data['pickup_time'].map(extract_time('hour'))\n",
    "data['pickup_minute'] = data['pickup_time'].map(extract_time('minute'))"
   ]
  },
  {
   "cell_type": "code",
   "execution_count": null,
   "metadata": {},
   "outputs": [],
   "source": [
    "data['drop_month'] = data['drop_time'].map(extract_time('month'))\n",
    "data['drop_date'] = data['drop_time'].map(extract_time('date'))\n",
    "data['drop_year'] = data['drop_time'].map(extract_time('year'))\n",
    "data['drop_hour'] = data['drop_time'].map(extract_time('hour'))\n",
    "data['drop_minute'] = data['drop_time'].map(extract_time('minute'))"
   ]
  },
  {
   "cell_type": "code",
   "execution_count": null,
   "metadata": {},
   "outputs": [],
   "source": [
    "test_df['pickup_month'] = test_df['pickup_time'].map(extract_time('month'))\n",
    "test_df['pickup_date'] = test_df['pickup_time'].map(extract_time('date'))\n",
    "test_df['pickup_year'] = test_df['pickup_time'].map(extract_time('year'))\n",
    "test_df['pickup_hour'] = test_df['pickup_time'].map(extract_time('hour'))\n",
    "test_df['pickup_minute'] = test_df['pickup_time'].map(extract_time('minute'))\n",
    "\n",
    "test_df['drop_month'] = test_df['drop_time'].map(extract_time('month'))\n",
    "test_df['drop_date'] = test_df['drop_time'].map(extract_time('date'))\n",
    "test_df['drop_year'] = test_df['drop_time'].map(extract_time('year'))\n",
    "test_df['drop_hour'] = test_df['drop_time'].map(extract_time('hour'))\n",
    "test_df['drop_minute'] = test_df['drop_time'].map(extract_time('minute'))"
   ]
  },
  {
   "cell_type": "markdown",
   "metadata": {},
   "source": [
    "## Data correlations"
   ]
  },
  {
   "cell_type": "code",
   "execution_count": null,
   "metadata": {},
   "outputs": [],
   "source": [
    "data.describe()"
   ]
  },
  {
   "cell_type": "code",
   "execution_count": null,
   "metadata": {},
   "outputs": [],
   "source": [
    "data.corr()"
   ]
  },
  {
   "cell_type": "code",
   "execution_count": null,
   "metadata": {},
   "outputs": [],
   "source": [
    "corr = data.corr()\n",
    "# fig, ax = plt.subplots(figsize=(10,10))\n",
    "# plt.xticks(range(len(corr.columns)), corr.columns)\n",
    "# plt.yticks(range(len(corr.columns)), corr.columns)\n",
    "# ax.matshow(corr)\n",
    "sns.heatmap(corr)"
   ]
  },
  {
   "cell_type": "markdown",
   "metadata": {},
   "source": [
    "## Lattitude longitude data"
   ]
  },
  {
   "cell_type": "code",
   "execution_count": null,
   "metadata": {},
   "outputs": [],
   "source": [
    "sns.scatterplot(x='pick_lat',y='pick_lon',data=data,hue='label')"
   ]
  },
  {
   "cell_type": "code",
   "execution_count": null,
   "metadata": {},
   "outputs": [],
   "source": [
    "sns.scatterplot(x='drop_lat',y='drop_lon',data=data,hue='label')"
   ]
  },
  {
   "cell_type": "code",
   "execution_count": null,
   "metadata": {},
   "outputs": [],
   "source": [
    "sns.scatterplot(x='drop_lat',y='drop_lon',data=data[data['drop_lat'] < 30],hue='label')"
   ]
  },
  {
   "cell_type": "markdown",
   "metadata": {},
   "source": [
    "One coordinate seems to be an outlier"
   ]
  },
  {
   "cell_type": "code",
   "execution_count": null,
   "metadata": {},
   "outputs": [],
   "source": [
    "data = data[data['drop_lat'] < 30]"
   ]
  },
  {
   "cell_type": "markdown",
   "metadata": {},
   "source": [
    "#### Comparision of training and testing sets"
   ]
  },
  {
   "cell_type": "code",
   "execution_count": null,
   "metadata": {},
   "outputs": [],
   "source": [
    "cols = ['drop_lat', 'drop_lon', 'pick_lat', 'pick_lon']\n",
    "comb_data = get_combined_dataset(cols, train=data)"
   ]
  },
  {
   "cell_type": "code",
   "execution_count": null,
   "metadata": {},
   "outputs": [],
   "source": [
    "sns.scatterplot(x='pick_lat',y='pick_lon',data=comb_data,hue='dataset')"
   ]
  },
  {
   "cell_type": "code",
   "execution_count": null,
   "metadata": {},
   "outputs": [],
   "source": [
    "sns.scatterplot(x='drop_lat',y='drop_lon',data=comb_data,hue='dataset')"
   ]
  },
  {
   "cell_type": "markdown",
   "metadata": {},
   "source": [
    "## Time data"
   ]
  },
  {
   "cell_type": "code",
   "execution_count": null,
   "metadata": {},
   "outputs": [],
   "source": [
    "sns.scatterplot(x='pickup_date',y='drop_date',data=data, hue='label')"
   ]
  },
  {
   "cell_type": "code",
   "execution_count": null,
   "metadata": {},
   "outputs": [],
   "source": [
    "data[data['pickup_date'] != data['drop_date']]"
   ]
  },
  {
   "cell_type": "code",
   "execution_count": null,
   "metadata": {},
   "outputs": [],
   "source": [
    "test_df[test_df['pickup_date'] != test_df['drop_date']]"
   ]
  },
  {
   "cell_type": "markdown",
   "metadata": {},
   "source": [
    "There are instances of trip taking more than a single date in both test and train df"
   ]
  },
  {
   "cell_type": "code",
   "execution_count": null,
   "metadata": {},
   "outputs": [],
   "source": [
    "sns.countplot(x='label',data=data[data['pickup_date'] != data['drop_date']])"
   ]
  },
  {
   "cell_type": "code",
   "execution_count": null,
   "metadata": {},
   "outputs": [],
   "source": [
    "def is_more_than_one_day(row):\n",
    "    return 1 if row['pickup_date'] != row['drop_date'] else 0"
   ]
  },
  {
   "cell_type": "code",
   "execution_count": null,
   "metadata": {},
   "outputs": [],
   "source": [
    "data['is_more_than_one_day'] = data.apply(is_more_than_one_day,axis=1)\n",
    "test_df['is_more_than_one_day'] = test_df.apply(is_more_than_one_day,axis=1)"
   ]
  },
  {
   "cell_type": "markdown",
   "metadata": {},
   "source": [
    "### Time location relations"
   ]
  },
  {
   "cell_type": "code",
   "execution_count": null,
   "metadata": {},
   "outputs": [],
   "source": [
    "sns.scatterplot(x='pick_lat',y='pick_lon',data=data,hue='pickup_month')"
   ]
  },
  {
   "cell_type": "code",
   "execution_count": null,
   "metadata": {},
   "outputs": [],
   "source": [
    "sns.scatterplot(x='pick_lat',y='pick_lon',data=data,hue='pickup_date')"
   ]
  },
  {
   "cell_type": "code",
   "execution_count": null,
   "metadata": {},
   "outputs": [],
   "source": [
    "sns.scatterplot(x='pick_lat',y='pick_lon',data=data,hue='pickup_date')"
   ]
  },
  {
   "cell_type": "markdown",
   "metadata": {},
   "source": [
    "### Time distribution accross datasets"
   ]
  },
  {
   "cell_type": "code",
   "execution_count": null,
   "metadata": {},
   "outputs": [],
   "source": [
    "cols = ['pickup_month',\n",
    "       'pickup_date', 'pickup_year', 'pickup_hour', 'pickup_minute',\n",
    "       'drop_month', 'drop_date', 'drop_year', 'drop_hour', 'drop_minute']\n",
    "comb_data = get_combined_dataset(cols, train=data)"
   ]
  },
  {
   "cell_type": "code",
   "execution_count": null,
   "metadata": {},
   "outputs": [],
   "source": [
    "sns.countplot(x='pickup_month', data=comb_data, hue='dataset')"
   ]
  },
  {
   "cell_type": "code",
   "execution_count": null,
   "metadata": {},
   "outputs": [],
   "source": [
    "sns.countplot(x='drop_month', data=comb_data, hue='dataset')"
   ]
  },
  {
   "cell_type": "code",
   "execution_count": null,
   "metadata": {},
   "outputs": [],
   "source": [
    "sns.countplot(x='pickup_year', data=comb_data, hue='dataset')"
   ]
  },
  {
   "cell_type": "code",
   "execution_count": null,
   "metadata": {},
   "outputs": [],
   "source": [
    "sns.countplot(x='pickup_date', data=comb_data, hue='dataset')"
   ]
  },
  {
   "cell_type": "code",
   "execution_count": null,
   "metadata": {},
   "outputs": [],
   "source": [
    "sns.countplot(x='drop_date', data=comb_data, hue='dataset')"
   ]
  },
  {
   "cell_type": "markdown",
   "metadata": {},
   "source": [
    "## Continious value distribution"
   ]
  },
  {
   "cell_type": "code",
   "execution_count": null,
   "metadata": {},
   "outputs": [],
   "source": [
    "# sns.pairplot(data=data,hue='label')"
   ]
  },
  {
   "cell_type": "code",
   "execution_count": null,
   "metadata": {},
   "outputs": [],
   "source": [
    "sns.distplot(data[data['label']=='correct']['fare'], hist=False)\n",
    "sns.distplot(data[data['label']=='incorrect']['fare'], hist=False)"
   ]
  },
  {
   "cell_type": "code",
   "execution_count": null,
   "metadata": {},
   "outputs": [],
   "source": [
    "sns.distplot(data[data['label']=='correct']['additional_fare'], hist=False)\n",
    "sns.distplot(data[data['label']=='incorrect']['additional_fare'], hist=False)"
   ]
  },
  {
   "cell_type": "code",
   "execution_count": null,
   "metadata": {},
   "outputs": [],
   "source": [
    "sns.distplot(data[data['label']=='correct']['meter_waiting'], hist=False)\n",
    "sns.distplot(data[data['label']=='incorrect']['meter_waiting'], hist=False)"
   ]
  },
  {
   "cell_type": "code",
   "execution_count": null,
   "metadata": {},
   "outputs": [],
   "source": [
    "sns.distplot(data[data['label']=='correct']['meter_waiting_fare'], hist=False)\n",
    "sns.distplot(data[data['label']=='incorrect']['meter_waiting_fare'], hist=False)"
   ]
  },
  {
   "cell_type": "code",
   "execution_count": null,
   "metadata": {},
   "outputs": [],
   "source": [
    "sns.distplot(data[data['label']=='correct']['meter_waiting_till_pickup'], hist=False)\n",
    "sns.distplot(data[data['label']=='incorrect']['meter_waiting_till_pickup'], hist=False)"
   ]
  },
  {
   "cell_type": "code",
   "execution_count": null,
   "metadata": {},
   "outputs": [],
   "source": [
    "sns.distplot(data[data['label']=='correct']['duration'], hist=False)\n",
    "sns.distplot(data[data['label']=='incorrect']['duration'], hist=False)"
   ]
  },
  {
   "cell_type": "markdown",
   "metadata": {},
   "source": [
    "# Clustering lat longs"
   ]
  },
  {
   "cell_type": "code",
   "execution_count": null,
   "metadata": {},
   "outputs": [],
   "source": [
    "sns.scatterplot(x='pick_lat',y='pick_lon',data=data,hue='label')"
   ]
  },
  {
   "cell_type": "code",
   "execution_count": null,
   "metadata": {},
   "outputs": [],
   "source": [
    "sns.scatterplot(x='drop_lat',y='drop_lon',data=data,hue='label')"
   ]
  },
  {
   "cell_type": "code",
   "execution_count": null,
   "metadata": {},
   "outputs": [],
   "source": [
    "cols = ['pick_lat','pick_lon']\n",
    "comb_data = get_combined_dataset(cols, train=data)"
   ]
  },
  {
   "cell_type": "code",
   "execution_count": null,
   "metadata": {},
   "outputs": [],
   "source": [
    "gmm_pick = BayesianGaussianMixture(n_components=3)\n",
    "gmm_pick.fit(comb_data[cols].values)"
   ]
  },
  {
   "cell_type": "code",
   "execution_count": null,
   "metadata": {},
   "outputs": [],
   "source": [
    "data['pick_cluster'] = gmm_pick.predict(data[cols].values)\n",
    "test_df['pick_cluster'] = gmm_pick.predict(test_df[cols].values)"
   ]
  },
  {
   "cell_type": "code",
   "execution_count": null,
   "metadata": {},
   "outputs": [],
   "source": [
    "cols = ['drop_lat','drop_lon']\n",
    "comb_data = get_combined_dataset(cols, train=data)\n",
    "\n",
    "gmm_drop = BayesianGaussianMixture(n_components=3,max_iter=1000)\n",
    "gmm_drop.fit(comb_data[cols].values)\n",
    "\n",
    "data['drop_cluster'] = gmm_drop.predict(data[cols].values)\n",
    "test_df['drop_cluster'] = gmm_drop.predict(test_df[cols].values)"
   ]
  },
  {
   "cell_type": "code",
   "execution_count": null,
   "metadata": {},
   "outputs": [],
   "source": [
    "sns.scatterplot(x='pick_lat',y='pick_lon',data=data,hue='pick_cluster')"
   ]
  },
  {
   "cell_type": "code",
   "execution_count": null,
   "metadata": {},
   "outputs": [],
   "source": [
    "sns.scatterplot(x='drop_lat',y='drop_lon',data=data,hue='drop_cluster')"
   ]
  },
  {
   "cell_type": "markdown",
   "metadata": {},
   "source": [
    "# Distance features"
   ]
  },
  {
   "cell_type": "code",
   "execution_count": null,
   "metadata": {},
   "outputs": [],
   "source": [
    "def calculate_trip_distance(row):\n",
    "    coords_1 = (row['pick_lat'],row['pick_lon'])\n",
    "    coords_2 = (row['drop_lat'],row['drop_lon'])\n",
    "    return geopy.distance.geodesic(coords_1, coords_2).km"
   ]
  },
  {
   "cell_type": "code",
   "execution_count": null,
   "metadata": {},
   "outputs": [],
   "source": [
    "data['distance_km'] = data.apply(calculate_trip_distance,axis=1).clip(0,100)\n",
    "test_df['distance_km'] = test_df.apply(calculate_trip_distance,axis=1).clip(0,100)"
   ]
  },
  {
   "cell_type": "code",
   "execution_count": null,
   "metadata": {},
   "outputs": [],
   "source": [
    "data['distance_km'].plot()"
   ]
  },
  {
   "cell_type": "code",
   "execution_count": null,
   "metadata": {},
   "outputs": [],
   "source": [
    "test_df['distance_km'].plot()"
   ]
  },
  {
   "cell_type": "code",
   "execution_count": null,
   "metadata": {},
   "outputs": [],
   "source": [
    "data[data['label'] == 'correct']['distance_km'].plot()"
   ]
  },
  {
   "cell_type": "code",
   "execution_count": null,
   "metadata": {},
   "outputs": [],
   "source": [
    "data[data['label'] == 'correct']['distance_km'].describe()"
   ]
  },
  {
   "cell_type": "code",
   "execution_count": null,
   "metadata": {},
   "outputs": [],
   "source": [
    "data[data['label'] == 'incorrect']['distance_km'].plot()"
   ]
  },
  {
   "cell_type": "code",
   "execution_count": null,
   "metadata": {},
   "outputs": [],
   "source": [
    "data[data['label'] == 'incorrect']['distance_km'].describe()"
   ]
  },
  {
   "cell_type": "markdown",
   "metadata": {},
   "source": [
    "# Fare features"
   ]
  },
  {
   "cell_type": "code",
   "execution_count": null,
   "metadata": {},
   "outputs": [],
   "source": [
    "data['fare'].describe()"
   ]
  },
  {
   "cell_type": "code",
   "execution_count": null,
   "metadata": {},
   "outputs": [],
   "source": [
    "test_df['fare'].describe()"
   ]
  },
  {
   "cell_type": "code",
   "execution_count": null,
   "metadata": {},
   "outputs": [],
   "source": [
    "data[data['fare'] > 400].label"
   ]
  },
  {
   "cell_type": "code",
   "execution_count": null,
   "metadata": {},
   "outputs": [],
   "source": [
    "sns.countplot(x='label',data=data[data['fare'] > 1000])"
   ]
  },
  {
   "cell_type": "code",
   "execution_count": null,
   "metadata": {},
   "outputs": [],
   "source": [
    "def fare_per_distance(row):\n",
    "    return row['fare'] / (row['distance_km']+0.01)"
   ]
  },
  {
   "cell_type": "code",
   "execution_count": null,
   "metadata": {},
   "outputs": [],
   "source": [
    "data['fare_per_km'] = data.apply(fare_per_distance,axis=1)\n",
    "test_df['fare_per_km'] = test_df.apply(fare_per_distance,axis=1)"
   ]
  },
  {
   "cell_type": "code",
   "execution_count": null,
   "metadata": {},
   "outputs": [],
   "source": [
    "data[data['label'] == 'incorrect']['fare_per_km'].plot()"
   ]
  },
  {
   "cell_type": "code",
   "execution_count": null,
   "metadata": {},
   "outputs": [],
   "source": [
    "data[data['label'] == 'correct']['fare_per_km'].plot()"
   ]
  },
  {
   "cell_type": "markdown",
   "metadata": {},
   "source": [
    "# Time based features"
   ]
  },
  {
   "cell_type": "code",
   "execution_count": null,
   "metadata": {},
   "outputs": [],
   "source": [
    "data['pickup_hour'].describe()"
   ]
  },
  {
   "cell_type": "code",
   "execution_count": null,
   "metadata": {},
   "outputs": [],
   "source": [
    "data['drop_minute'].describe()"
   ]
  },
  {
   "cell_type": "code",
   "execution_count": null,
   "metadata": {},
   "outputs": [],
   "source": [
    "def time_slot(row,by='pickup'):\n",
    "    hour = row[f'{by}_hour']\n",
    "    if 7 <= hour <= 9:\n",
    "        return 1\n",
    "    if 12 <= hour <= 2:\n",
    "        return 2\n",
    "    if 4 <= hour <= 6:\n",
    "        return 3\n",
    "    return 0"
   ]
  },
  {
   "cell_type": "code",
   "execution_count": null,
   "metadata": {},
   "outputs": [],
   "source": [
    "data['pickup_timeslot'] = data.apply(time_slot,axis=1)\n",
    "test_df['pickup_timeslot'] = test_df.apply(time_slot,axis=1)"
   ]
  },
  {
   "cell_type": "code",
   "execution_count": null,
   "metadata": {},
   "outputs": [],
   "source": [
    "(2017, 10, 20)"
   ]
  },
  {
   "cell_type": "code",
   "execution_count": null,
   "metadata": {},
   "outputs": [],
   "source": [
    "def day_of_week(row,by='pickup'):\n",
    "    date = row[f'{by}_date']\n",
    "    month = row[f'{by}_month']\n",
    "    year = row[f'{by}_year']\n",
    "    d = datetime.datetime(year,month,date).weekday()\n",
    "    return d"
   ]
  },
  {
   "cell_type": "code",
   "execution_count": null,
   "metadata": {},
   "outputs": [],
   "source": [
    "data['day_of_week'] = data.apply(day_of_week,axis=1)\n",
    "test_df['day_of_week'] = test_df.apply(day_of_week,axis=1)"
   ]
  },
  {
   "cell_type": "code",
   "execution_count": null,
   "metadata": {},
   "outputs": [],
   "source": [
    "def is_weekday(row,by='pickup'):\n",
    "    date = row['day_of_week']\n",
    "    return 1 if date < 5 else 0"
   ]
  },
  {
   "cell_type": "code",
   "execution_count": null,
   "metadata": {},
   "outputs": [],
   "source": [
    "data['is_weekday'] = data.apply(is_weekday,axis=1)\n",
    "test_df['is_weekday'] = test_df.apply(is_weekday,axis=1)"
   ]
  },
  {
   "cell_type": "code",
   "execution_count": null,
   "metadata": {},
   "outputs": [],
   "source": [
    "def cal_time_difference(row):\n",
    "    pickup_date = row['pickup_date']\n",
    "    pickup_month = row['pickup_month']\n",
    "    pickup_year = row['pickup_year']\n",
    "    pickup_hour = row['pickup_hour']\n",
    "    pickup_minute = row['pickup_minute']\n",
    "    pickup_time = datetime.datetime(pickup_year, pickup_month, pickup_date, pickup_hour, pickup_minute)\n",
    "    \n",
    "    drop_date = row['drop_date']\n",
    "    drop_month = row['drop_month']\n",
    "    drop_year = row['drop_year']\n",
    "    drop_hour = row['drop_hour']\n",
    "    drop_minute = row['drop_minute']\n",
    "    drop_time = datetime.datetime(drop_year, drop_month, drop_date, drop_hour, drop_minute)\n",
    "    \n",
    "    delta = drop_time - pickup_time\n",
    "    return delta.seconds - row['duration']"
   ]
  },
  {
   "cell_type": "code",
   "execution_count": null,
   "metadata": {},
   "outputs": [],
   "source": [
    "data['cal_time_difference'] = data.apply(cal_time_difference,axis=1)\n",
    "test_df['cal_time_difference'] = test_df.apply(cal_time_difference,axis=1)"
   ]
  },
  {
   "cell_type": "code",
   "execution_count": null,
   "metadata": {},
   "outputs": [],
   "source": [
    "data['cal_time_difference'].describe()"
   ]
  },
  {
   "cell_type": "code",
   "execution_count": null,
   "metadata": {},
   "outputs": [],
   "source": [
    "sns.distplot(data[data['label']=='correct']['cal_time_difference'], hist=False)\n",
    "sns.distplot(data[data['label']=='incorrect']['cal_time_difference'], hist=False)"
   ]
  },
  {
   "cell_type": "markdown",
   "metadata": {},
   "source": [
    "# Save the data frames"
   ]
  },
  {
   "cell_type": "code",
   "execution_count": null,
   "metadata": {},
   "outputs": [],
   "source": [
    "def encode_label(label):\n",
    "    if label == 'correct':\n",
    "        return 1\n",
    "    elif label == 'incorrect':\n",
    "        return 0\n",
    "    else:\n",
    "        return label"
   ]
  },
  {
   "cell_type": "code",
   "execution_count": null,
   "metadata": {},
   "outputs": [],
   "source": [
    "data['label'] = data['label'].map(encode_label)"
   ]
  },
  {
   "cell_type": "code",
   "execution_count": null,
   "metadata": {},
   "outputs": [],
   "source": [
    "data.columns"
   ]
  },
  {
   "cell_type": "code",
   "execution_count": null,
   "metadata": {},
   "outputs": [],
   "source": [
    "columns_to_save = [\n",
    "    'additional_fare', \n",
    "    'duration', \n",
    "    'meter_waiting', \n",
    "    'meter_waiting_fare',\n",
    "    'meter_waiting_till_pickup', \n",
    "    'fare',\n",
    "    'pickup_date', \n",
    "    'pickup_hour', \n",
    "    'pickup_minute',\n",
    "    'drop_date', \n",
    "    'drop_hour', \n",
    "    'drop_minute',\n",
    "    'pick_cluster',\n",
    "    'is_more_than_one_day',\n",
    "    'distance_km',\n",
    "    'fare_per_km',\n",
    "    'pickup_timeslot',\n",
    "    'day_of_week',\n",
    "    'is_weekday',\n",
    "    'cal_time_difference']\n",
    "data.loc[:, columns_to_save+['label']].to_csv('train_df.csv',index=False)\n",
    "test_df.loc[:, columns_to_save].to_csv('test_df.csv',index=False)"
   ]
  },
  {
   "cell_type": "code",
   "execution_count": null,
   "metadata": {},
   "outputs": [],
   "source": []
  },
  {
   "cell_type": "code",
   "execution_count": null,
   "metadata": {},
   "outputs": [],
   "source": []
  }
 ],
 "metadata": {
  "kernelspec": {
   "display_name": "Python 3",
   "language": "python",
   "name": "python3"
  },
  "language_info": {
   "codemirror_mode": {
    "name": "ipython",
    "version": 3
   },
   "file_extension": ".py",
   "mimetype": "text/x-python",
   "name": "python",
   "nbconvert_exporter": "python",
   "pygments_lexer": "ipython3",
   "version": "3.7.4"
  }
 },
 "nbformat": 4,
 "nbformat_minor": 4
}
