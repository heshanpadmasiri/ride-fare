{
 "cells": [
  {
   "cell_type": "code",
   "execution_count": 47,
   "metadata": {},
   "outputs": [],
   "source": [
    "import pandas as pd\n",
    "import numpy as np\n",
    "\n",
    "from sklearn.model_selection import KFold\n",
    "import matplotlib.pyplot as plt\n",
    "import seaborn as sns\n",
    "\n",
    "from catboost import Pool, cv,CatBoostRegressor"
   ]
  },
  {
   "cell_type": "code",
   "execution_count": 48,
   "metadata": {},
   "outputs": [],
   "source": [
    "train_df = pd.read_csv('train_df.csv')\n",
    "test_df = pd.read_csv('test_df.csv')\n",
    "submission_df = pd.read_csv('sample_submission.csv')"
   ]
  },
  {
   "cell_type": "code",
   "execution_count": 49,
   "metadata": {},
   "outputs": [
    {
     "data": {
      "text/plain": [
       "(16967, 21)"
      ]
     },
     "execution_count": 49,
     "metadata": {},
     "output_type": "execute_result"
    }
   ],
   "source": [
    "train_df.shape"
   ]
  },
  {
   "cell_type": "code",
   "execution_count": 50,
   "metadata": {},
   "outputs": [],
   "source": [
    "data = train_df[train_df['label'] == 1].drop(['label'], axis=1).dropna()"
   ]
  },
  {
   "cell_type": "code",
   "execution_count": 51,
   "metadata": {},
   "outputs": [
    {
     "data": {
      "text/plain": [
       "Index(['additional_fare', 'duration', 'meter_waiting', 'meter_waiting_fare',\n",
       "       'meter_waiting_till_pickup', 'fare', 'pickup_date', 'pickup_hour',\n",
       "       'pickup_minute', 'drop_date', 'drop_hour', 'drop_minute',\n",
       "       'pick_cluster', 'is_more_than_one_day', 'distance_km', 'fare_per_km',\n",
       "       'pickup_timeslot', 'day_of_week', 'is_weekday', 'cal_time_difference'],\n",
       "      dtype='object')"
      ]
     },
     "execution_count": 51,
     "metadata": {},
     "output_type": "execute_result"
    }
   ],
   "source": [
    "data.columns"
   ]
  },
  {
   "cell_type": "code",
   "execution_count": 52,
   "metadata": {},
   "outputs": [],
   "source": [
    "cat_features = ['pick_cluster','is_more_than_one_day','pickup_timeslot',\n",
    "       'day_of_week', 'is_weekday']\n",
    "\n",
    "features = ['additional_fare','duration', 'meter_waiting','meter_waiting_fare',\n",
    "       'meter_waiting_till_pickup', 'pick_cluster', 'is_more_than_one_day', 'distance_km','pickup_timeslot',\n",
    "       'day_of_week', 'is_weekday']"
   ]
  },
  {
   "cell_type": "code",
   "execution_count": 53,
   "metadata": {},
   "outputs": [],
   "source": [
    "X = data[features]\n",
    "y = data['fare'].values"
   ]
  },
  {
   "cell_type": "code",
   "execution_count": 54,
   "metadata": {},
   "outputs": [],
   "source": [
    "train_df_X = train_df[features]\n",
    "train_df_pool = Pool(data=train_df_X,cat_features=cat_features)\n",
    "test_df_X = test_df[features]\n",
    "test_df_pool = Pool(data=test_df_X,cat_features=cat_features)"
   ]
  },
  {
   "cell_type": "code",
   "execution_count": 55,
   "metadata": {},
   "outputs": [],
   "source": [
    "train_df_preds = np.zeros(train_df.shape[0])\n",
    "test_df_preds = np.zeros(test_df.shape[0])"
   ]
  },
  {
   "cell_type": "code",
   "execution_count": 56,
   "metadata": {},
   "outputs": [],
   "source": [
    "params = {\n",
    "    'loss_function':'RMSE',\n",
    "    'random_state':0,\n",
    "    'early_stopping_rounds':50,\n",
    "    'eval_metric':'RMSE'\n",
    "}"
   ]
  },
  {
   "cell_type": "code",
   "execution_count": 57,
   "metadata": {},
   "outputs": [],
   "source": [
    "kf = KFold(n_splits=3)"
   ]
  },
  {
   "cell_type": "code",
   "execution_count": 58,
   "metadata": {},
   "outputs": [
    {
     "name": "stdout",
     "output_type": "stream",
     "text": [
      "Learning rate set to 0.071592\n",
      "0:\tlearn: 354.7152061\ttest: 268.1502429\tbest: 268.1502429 (0)\ttotal: 5.01ms\tremaining: 5s\n",
      "10:\tlearn: 271.5126332\ttest: 195.1736196\tbest: 195.1736196 (10)\ttotal: 54.2ms\tremaining: 4.87s\n",
      "20:\tlearn: 222.6522465\ttest: 164.9022783\tbest: 164.9022783 (20)\ttotal: 99.9ms\tremaining: 4.66s\n",
      "30:\tlearn: 187.7155907\ttest: 146.9843589\tbest: 146.9843589 (30)\ttotal: 152ms\tremaining: 4.75s\n",
      "40:\tlearn: 160.3850089\ttest: 137.1071114\tbest: 137.1071114 (40)\ttotal: 207ms\tremaining: 4.84s\n",
      "50:\tlearn: 139.0743900\ttest: 131.6432025\tbest: 131.6432025 (50)\ttotal: 279ms\tremaining: 5.19s\n",
      "60:\tlearn: 122.7631824\ttest: 127.4373651\tbest: 127.4373651 (60)\ttotal: 331ms\tremaining: 5.09s\n",
      "70:\tlearn: 109.2646698\ttest: 121.8992014\tbest: 121.8992014 (70)\ttotal: 378ms\tremaining: 4.94s\n",
      "80:\tlearn: 99.3614795\ttest: 119.7227717\tbest: 119.7227717 (80)\ttotal: 442ms\tremaining: 5.02s\n",
      "90:\tlearn: 91.2848868\ttest: 117.4499264\tbest: 117.4499264 (90)\ttotal: 489ms\tremaining: 4.89s\n",
      "100:\tlearn: 85.5804327\ttest: 116.5724620\tbest: 116.5334714 (99)\ttotal: 532ms\tremaining: 4.74s\n",
      "110:\tlearn: 81.0962594\ttest: 115.4129296\tbest: 115.4129296 (110)\ttotal: 573ms\tremaining: 4.58s\n",
      "120:\tlearn: 77.2884559\ttest: 114.3509504\tbest: 114.3509504 (120)\ttotal: 620ms\tremaining: 4.5s\n",
      "130:\tlearn: 74.2666997\ttest: 113.9181920\tbest: 113.9181920 (130)\ttotal: 678ms\tremaining: 4.5s\n",
      "140:\tlearn: 71.4202973\ttest: 113.6770756\tbest: 113.6010395 (139)\ttotal: 722ms\tremaining: 4.4s\n",
      "150:\tlearn: 68.6638921\ttest: 112.4132355\tbest: 112.4132355 (150)\ttotal: 766ms\tremaining: 4.31s\n",
      "160:\tlearn: 66.3416896\ttest: 111.2642644\tbest: 111.2642644 (160)\ttotal: 810ms\tremaining: 4.22s\n",
      "170:\tlearn: 64.3690250\ttest: 110.3816063\tbest: 110.3816063 (170)\ttotal: 853ms\tremaining: 4.14s\n",
      "180:\tlearn: 62.2656502\ttest: 109.4660950\tbest: 109.4660950 (180)\ttotal: 916ms\tremaining: 4.14s\n",
      "190:\tlearn: 60.6822477\ttest: 108.8951776\tbest: 108.8951776 (190)\ttotal: 962ms\tremaining: 4.07s\n",
      "200:\tlearn: 59.1639729\ttest: 108.7412286\tbest: 108.7412286 (200)\ttotal: 1s\tremaining: 4s\n",
      "210:\tlearn: 57.7239265\ttest: 108.5489000\tbest: 108.5489000 (210)\ttotal: 1.06s\tremaining: 3.97s\n",
      "220:\tlearn: 56.5274614\ttest: 108.0783474\tbest: 108.0783474 (220)\ttotal: 1.12s\tremaining: 3.94s\n",
      "230:\tlearn: 55.5348083\ttest: 108.3485199\tbest: 108.0783474 (220)\ttotal: 1.18s\tremaining: 3.92s\n",
      "240:\tlearn: 54.7893125\ttest: 108.3542208\tbest: 108.0783474 (220)\ttotal: 1.22s\tremaining: 3.84s\n",
      "250:\tlearn: 53.9991562\ttest: 108.0949297\tbest: 108.0783474 (220)\ttotal: 1.27s\tremaining: 3.78s\n",
      "260:\tlearn: 53.2125768\ttest: 108.0810366\tbest: 108.0286122 (253)\ttotal: 1.31s\tremaining: 3.72s\n",
      "270:\tlearn: 52.5449506\ttest: 108.2626421\tbest: 108.0286122 (253)\ttotal: 1.38s\tremaining: 3.71s\n",
      "280:\tlearn: 51.8886995\ttest: 108.4064657\tbest: 108.0286122 (253)\ttotal: 1.42s\tremaining: 3.64s\n",
      "290:\tlearn: 51.3238859\ttest: 108.4106989\tbest: 108.0286122 (253)\ttotal: 1.47s\tremaining: 3.57s\n",
      "300:\tlearn: 50.6766644\ttest: 108.4111687\tbest: 108.0286122 (253)\ttotal: 1.51s\tremaining: 3.51s\n",
      "Stopped by overfitting detector  (50 iterations wait)\n",
      "\n",
      "bestTest = 108.0286122\n",
      "bestIteration = 253\n",
      "\n",
      "Shrink model to first 254 iterations.\n",
      "Validation RMSE 108.0286121744724\n",
      "Learning rate set to 0.071592\n",
      "0:\tlearn: 357.8877934\ttest: 261.4819787\tbest: 261.4819787 (0)\ttotal: 6.67ms\tremaining: 6.67s\n",
      "10:\tlearn: 268.5555987\ttest: 182.0800842\tbest: 182.0800842 (10)\ttotal: 76.1ms\tremaining: 6.84s\n",
      "20:\tlearn: 224.9940496\ttest: 158.7495713\tbest: 158.7495713 (20)\ttotal: 121ms\tremaining: 5.63s\n",
      "30:\tlearn: 189.5784030\ttest: 142.5445547\tbest: 142.5445547 (30)\ttotal: 167ms\tremaining: 5.23s\n",
      "40:\tlearn: 162.5108509\ttest: 132.9293329\tbest: 132.9293329 (40)\ttotal: 210ms\tremaining: 4.92s\n",
      "50:\tlearn: 139.7312964\ttest: 124.3002614\tbest: 124.3002614 (50)\ttotal: 257ms\tremaining: 4.78s\n",
      "60:\tlearn: 124.1252753\ttest: 123.3138005\tbest: 122.5700049 (56)\ttotal: 331ms\tremaining: 5.1s\n",
      "70:\tlearn: 109.9338409\ttest: 120.8610546\tbest: 120.8549400 (69)\ttotal: 392ms\tremaining: 5.13s\n",
      "80:\tlearn: 99.4121896\ttest: 121.1289007\tbest: 120.3869041 (72)\ttotal: 437ms\tremaining: 4.96s\n",
      "90:\tlearn: 91.2883510\ttest: 121.6684611\tbest: 120.3869041 (72)\ttotal: 482ms\tremaining: 4.82s\n",
      "100:\tlearn: 84.8730010\ttest: 123.3284607\tbest: 120.3869041 (72)\ttotal: 525ms\tremaining: 4.67s\n",
      "110:\tlearn: 80.0787646\ttest: 125.7266237\tbest: 120.3869041 (72)\ttotal: 588ms\tremaining: 4.71s\n",
      "120:\tlearn: 75.7100796\ttest: 127.6358334\tbest: 120.3869041 (72)\ttotal: 632ms\tremaining: 4.59s\n",
      "Stopped by overfitting detector  (50 iterations wait)\n",
      "\n",
      "bestTest = 120.3869041\n",
      "bestIteration = 72\n",
      "\n",
      "Shrink model to first 73 iterations.\n",
      "Validation RMSE 120.3869041133472\n",
      "Learning rate set to 0.071592\n",
      "0:\tlearn: 266.0464225\ttest: 431.0846598\tbest: 431.0846598 (0)\ttotal: 8.08ms\tremaining: 8.07s\n",
      "10:\tlearn: 177.6936396\ttest: 372.5560870\tbest: 372.5560870 (10)\ttotal: 89.4ms\tremaining: 8.04s\n",
      "20:\tlearn: 134.1681245\ttest: 342.0010619\tbest: 342.0010619 (20)\ttotal: 138ms\tremaining: 6.45s\n",
      "30:\tlearn: 110.7412262\ttest: 331.0045620\tbest: 331.0045620 (30)\ttotal: 214ms\tremaining: 6.68s\n",
      "40:\tlearn: 97.5181093\ttest: 322.0412026\tbest: 322.0412026 (40)\ttotal: 273ms\tremaining: 6.39s\n",
      "50:\tlearn: 88.9919816\ttest: 318.9120674\tbest: 318.9120674 (50)\ttotal: 357ms\tremaining: 6.63s\n",
      "60:\tlearn: 83.1280740\ttest: 317.3346218\tbest: 317.3346218 (60)\ttotal: 417ms\tremaining: 6.42s\n",
      "70:\tlearn: 78.3140903\ttest: 315.9260121\tbest: 315.9260121 (70)\ttotal: 471ms\tremaining: 6.17s\n",
      "80:\tlearn: 74.9785233\ttest: 315.0300638\tbest: 314.8260930 (78)\ttotal: 518ms\tremaining: 5.88s\n",
      "90:\tlearn: 72.3195133\ttest: 313.7216646\tbest: 313.7216646 (90)\ttotal: 601ms\tremaining: 6s\n",
      "100:\tlearn: 70.0748639\ttest: 312.9477413\tbest: 312.9477413 (100)\ttotal: 666ms\tremaining: 5.92s\n",
      "110:\tlearn: 68.0996960\ttest: 312.4171420\tbest: 312.3895814 (109)\ttotal: 720ms\tremaining: 5.77s\n",
      "120:\tlearn: 66.5359308\ttest: 311.6212742\tbest: 311.6212742 (120)\ttotal: 781ms\tremaining: 5.67s\n",
      "130:\tlearn: 64.6466066\ttest: 311.2572226\tbest: 311.2572226 (130)\ttotal: 853ms\tremaining: 5.66s\n",
      "140:\tlearn: 63.0993142\ttest: 310.4709207\tbest: 310.4507800 (139)\ttotal: 902ms\tremaining: 5.49s\n",
      "150:\tlearn: 61.6898938\ttest: 310.1126463\tbest: 310.1126463 (150)\ttotal: 972ms\tremaining: 5.46s\n",
      "160:\tlearn: 60.5816236\ttest: 309.7632710\tbest: 309.7632710 (160)\ttotal: 1.07s\tremaining: 5.58s\n",
      "170:\tlearn: 59.5855256\ttest: 309.5949623\tbest: 309.5389515 (167)\ttotal: 1.15s\tremaining: 5.57s\n",
      "180:\tlearn: 58.4825201\ttest: 309.4862040\tbest: 309.4862040 (180)\ttotal: 1.21s\tremaining: 5.49s\n",
      "190:\tlearn: 57.5828609\ttest: 309.4180831\tbest: 309.3595492 (185)\ttotal: 1.28s\tremaining: 5.43s\n",
      "200:\tlearn: 56.7152944\ttest: 309.1566876\tbest: 309.1030690 (196)\ttotal: 1.35s\tremaining: 5.35s\n",
      "210:\tlearn: 55.9088916\ttest: 309.2531936\tbest: 309.1030690 (196)\ttotal: 1.39s\tremaining: 5.21s\n",
      "220:\tlearn: 55.2158804\ttest: 309.3205120\tbest: 309.1030690 (196)\ttotal: 1.44s\tremaining: 5.07s\n",
      "230:\tlearn: 54.5966178\ttest: 309.3409488\tbest: 309.1030690 (196)\ttotal: 1.49s\tremaining: 4.96s\n",
      "240:\tlearn: 53.8212866\ttest: 309.0600744\tbest: 309.0600744 (240)\ttotal: 1.56s\tremaining: 4.91s\n",
      "250:\tlearn: 53.2743448\ttest: 308.6800457\tbest: 308.6274382 (249)\ttotal: 1.6s\tremaining: 4.79s\n",
      "260:\tlearn: 52.8278901\ttest: 308.5159956\tbest: 308.5159956 (260)\ttotal: 1.65s\tremaining: 4.68s\n",
      "270:\tlearn: 52.2283979\ttest: 308.5702066\tbest: 308.5029534 (261)\ttotal: 1.71s\tremaining: 4.61s\n",
      "280:\tlearn: 51.8670578\ttest: 308.5298796\tbest: 308.5029534 (261)\ttotal: 1.77s\tremaining: 4.53s\n",
      "290:\tlearn: 51.4743498\ttest: 308.5444207\tbest: 308.4960432 (283)\ttotal: 1.81s\tremaining: 4.42s\n",
      "300:\tlearn: 51.1283029\ttest: 308.2446453\tbest: 308.2446453 (300)\ttotal: 1.85s\tremaining: 4.31s\n",
      "310:\tlearn: 50.6849539\ttest: 308.2330311\tbest: 308.2223441 (309)\ttotal: 1.9s\tremaining: 4.21s\n",
      "320:\tlearn: 50.3062608\ttest: 308.1469181\tbest: 308.1164798 (314)\ttotal: 1.97s\tremaining: 4.17s\n",
      "330:\tlearn: 49.8417410\ttest: 307.9786127\tbest: 307.9786127 (330)\ttotal: 2.02s\tremaining: 4.08s\n",
      "340:\tlearn: 49.4583852\ttest: 307.9770527\tbest: 307.8521082 (336)\ttotal: 2.06s\tremaining: 3.98s\n",
      "350:\tlearn: 48.9735605\ttest: 307.9475347\tbest: 307.8521082 (336)\ttotal: 2.11s\tremaining: 3.9s\n",
      "360:\tlearn: 48.6616049\ttest: 307.9466469\tbest: 307.8521082 (336)\ttotal: 2.15s\tremaining: 3.81s\n",
      "370:\tlearn: 48.3650819\ttest: 307.9342402\tbest: 307.8521082 (336)\ttotal: 2.22s\tremaining: 3.76s\n",
      "380:\tlearn: 47.9762405\ttest: 307.9005660\tbest: 307.8521082 (336)\ttotal: 2.28s\tremaining: 3.71s\n",
      "Stopped by overfitting detector  (50 iterations wait)\n",
      "\n",
      "bestTest = 307.8521082\n",
      "bestIteration = 336\n",
      "\n",
      "Shrink model to first 337 iterations.\n",
      "Validation RMSE 307.85210817573505\n"
     ]
    }
   ],
   "source": [
    "validation_scores = []\n",
    "models = []\n",
    "for train_index, test_index in kf.split(X, y):\n",
    "    X_train, X_test = X.iloc[train_index,:], X.iloc[test_index,:]\n",
    "    y_train, y_test = y[train_index], y[test_index]\n",
    "    train_pool = Pool(data=X_train, label=y_train,cat_features=cat_features)\n",
    "    test_pool = Pool(data=X_test, label=y_test, cat_features=cat_features)    \n",
    "    model = CatBoostRegressor(**params)\n",
    "    model.fit(X=train_pool, eval_set=test_pool,verbose=10)\n",
    "    validation_score = model.best_score_['validation']['RMSE']\n",
    "    print('Validation RMSE',validation_score)\n",
    "    validation_scores.append(validation_score)\n",
    "    models.append(model)\n",
    "    \n",
    "    train_df_preds += model.predict(train_df_pool)\n",
    "    test_df_preds += model.predict(test_df_pool)"
   ]
  },
  {
   "cell_type": "code",
   "execution_count": 59,
   "metadata": {},
   "outputs": [
    {
     "data": {
      "text/plain": [
       "(178.75587482118488, 91.42413957178184)"
      ]
     },
     "execution_count": 59,
     "metadata": {},
     "output_type": "execute_result"
    }
   ],
   "source": [
    "np.mean(validation_scores), np.std(validation_scores)"
   ]
  },
  {
   "cell_type": "code",
   "execution_count": 60,
   "metadata": {},
   "outputs": [],
   "source": [
    "best_model = models[np.argmax(validation_scores)]"
   ]
  },
  {
   "cell_type": "code",
   "execution_count": 61,
   "metadata": {},
   "outputs": [
    {
     "data": {
      "text/html": [
       "<div>\n",
       "<style scoped>\n",
       "    .dataframe tbody tr th:only-of-type {\n",
       "        vertical-align: middle;\n",
       "    }\n",
       "\n",
       "    .dataframe tbody tr th {\n",
       "        vertical-align: top;\n",
       "    }\n",
       "\n",
       "    .dataframe thead th {\n",
       "        text-align: right;\n",
       "    }\n",
       "</style>\n",
       "<table border=\"1\" class=\"dataframe\">\n",
       "  <thead>\n",
       "    <tr style=\"text-align: right;\">\n",
       "      <th></th>\n",
       "      <th>Feature Id</th>\n",
       "      <th>Importances</th>\n",
       "    </tr>\n",
       "  </thead>\n",
       "  <tbody>\n",
       "    <tr>\n",
       "      <td>0</td>\n",
       "      <td>duration</td>\n",
       "      <td>42.921846</td>\n",
       "    </tr>\n",
       "    <tr>\n",
       "      <td>1</td>\n",
       "      <td>distance_km</td>\n",
       "      <td>36.690306</td>\n",
       "    </tr>\n",
       "    <tr>\n",
       "      <td>2</td>\n",
       "      <td>is_more_than_one_day</td>\n",
       "      <td>8.619333</td>\n",
       "    </tr>\n",
       "    <tr>\n",
       "      <td>3</td>\n",
       "      <td>meter_waiting_fare</td>\n",
       "      <td>4.188275</td>\n",
       "    </tr>\n",
       "    <tr>\n",
       "      <td>4</td>\n",
       "      <td>meter_waiting_till_pickup</td>\n",
       "      <td>3.264051</td>\n",
       "    </tr>\n",
       "    <tr>\n",
       "      <td>5</td>\n",
       "      <td>meter_waiting</td>\n",
       "      <td>1.928844</td>\n",
       "    </tr>\n",
       "    <tr>\n",
       "      <td>6</td>\n",
       "      <td>additional_fare</td>\n",
       "      <td>0.660016</td>\n",
       "    </tr>\n",
       "    <tr>\n",
       "      <td>7</td>\n",
       "      <td>day_of_week</td>\n",
       "      <td>0.624764</td>\n",
       "    </tr>\n",
       "    <tr>\n",
       "      <td>8</td>\n",
       "      <td>pickup_timeslot</td>\n",
       "      <td>0.545443</td>\n",
       "    </tr>\n",
       "    <tr>\n",
       "      <td>9</td>\n",
       "      <td>pick_cluster</td>\n",
       "      <td>0.371950</td>\n",
       "    </tr>\n",
       "    <tr>\n",
       "      <td>10</td>\n",
       "      <td>is_weekday</td>\n",
       "      <td>0.185172</td>\n",
       "    </tr>\n",
       "  </tbody>\n",
       "</table>\n",
       "</div>"
      ],
      "text/plain": [
       "                   Feature Id  Importances\n",
       "0                    duration    42.921846\n",
       "1                 distance_km    36.690306\n",
       "2        is_more_than_one_day     8.619333\n",
       "3          meter_waiting_fare     4.188275\n",
       "4   meter_waiting_till_pickup     3.264051\n",
       "5               meter_waiting     1.928844\n",
       "6             additional_fare     0.660016\n",
       "7                 day_of_week     0.624764\n",
       "8             pickup_timeslot     0.545443\n",
       "9                pick_cluster     0.371950\n",
       "10                 is_weekday     0.185172"
      ]
     },
     "execution_count": 61,
     "metadata": {},
     "output_type": "execute_result"
    }
   ],
   "source": [
    "best_model.get_feature_importance(prettified=True)"
   ]
  },
  {
   "cell_type": "code",
   "execution_count": 62,
   "metadata": {},
   "outputs": [],
   "source": [
    "train_df['predicted_fare'] = train_df_preds/3\n",
    "test_df['predicted_fare'] = test_df_preds/3"
   ]
  },
  {
   "cell_type": "code",
   "execution_count": 63,
   "metadata": {},
   "outputs": [],
   "source": [
    "train_df['predicted_fare_difference'] = train_df['fare'] - train_df['predicted_fare']\n",
    "test_df['predicted_fare_difference'] = test_df['fare'] - test_df['predicted_fare']"
   ]
  },
  {
   "cell_type": "code",
   "execution_count": 64,
   "metadata": {},
   "outputs": [],
   "source": [
    "train_df['predicted_fare_difference_per_fare'] = train_df['predicted_fare_difference'] / (train_df['fare']+1)\n",
    "test_df['predicted_fare_difference_per_fare'] = test_df['predicted_fare_difference']  / (test_df['fare']+1)"
   ]
  },
  {
   "cell_type": "code",
   "execution_count": 65,
   "metadata": {},
   "outputs": [
    {
     "data": {
      "text/plain": [
       "<matplotlib.axes._subplots.AxesSubplot at 0x7ff2042d3910>"
      ]
     },
     "execution_count": 65,
     "metadata": {},
     "output_type": "execute_result"
    },
    {
     "data": {
      "image/png": "[encoded data removed]",
      "text/plain": [
       "<Figure size 432x288 with 1 Axes>"
      ]
     },
     "metadata": {
      "needs_background": "light"
     },
     "output_type": "display_data"
    }
   ],
   "source": [
    "sns.distplot(train_df[train_df['label']==1]['predicted_fare_difference'], hist=False)\n",
    "sns.distplot(train_df[train_df['label']==0]['predicted_fare_difference'], hist=False)"
   ]
  },
  {
   "cell_type": "code",
   "execution_count": 66,
   "metadata": {},
   "outputs": [
    {
     "data": {
      "text/plain": [
       "count    15441.000000\n",
       "mean         0.597703\n",
       "std        103.397671\n",
       "min      -1642.276725\n",
       "25%        -25.783882\n",
       "50%         -8.442351\n",
       "75%         16.428180\n",
       "max       9775.864941\n",
       "Name: predicted_fare_difference, dtype: float64"
      ]
     },
     "execution_count": 66,
     "metadata": {},
     "output_type": "execute_result"
    }
   ],
   "source": [
    "train_df[train_df['label']==1]['predicted_fare_difference'].describe()"
   ]
  },
  {
   "cell_type": "code",
   "execution_count": 67,
   "metadata": {},
   "outputs": [
    {
     "data": {
      "text/plain": [
       "count     1526.000000\n",
       "mean       125.831495\n",
       "std       1418.483290\n",
       "min     -12533.361989\n",
       "25%        -76.316972\n",
       "50%         58.159160\n",
       "75%        297.935952\n",
       "max      24904.049328\n",
       "Name: predicted_fare_difference, dtype: float64"
      ]
     },
     "execution_count": 67,
     "metadata": {},
     "output_type": "execute_result"
    }
   ],
   "source": [
    "train_df[train_df['label']==0]['predicted_fare_difference'].describe()"
   ]
  },
  {
   "cell_type": "code",
   "execution_count": 68,
   "metadata": {},
   "outputs": [],
   "source": [
    "# train_df = train_df.drop(['predicted_fare'],axis=1)\n",
    "# test_df = test_df.drop(['predicted_fare'],axis=1)"
   ]
  },
  {
   "cell_type": "code",
   "execution_count": 69,
   "metadata": {},
   "outputs": [],
   "source": [
    "train_df.to_csv('train_df_reg.csv',index=False)\n",
    "test_df.to_csv('test_df_reg.csv',index=False)"
   ]
  },
  {
   "cell_type": "code",
   "execution_count": null,
   "metadata": {},
   "outputs": [],
   "source": []
  }
 ],
 "metadata": {
  "kernelspec": {
   "display_name": "Python 3",
   "language": "python",
   "name": "python3"
  },
  "language_info": {
   "codemirror_mode": {
    "name": "ipython",
    "version": 3
   },
   "file_extension": ".py",
   "mimetype": "text/x-python",
   "name": "python",
   "nbconvert_exporter": "python",
   "pygments_lexer": "ipython3",
   "version": "3.7.4"
  }
 },
 "nbformat": 4,
 "nbformat_minor": 4
}
