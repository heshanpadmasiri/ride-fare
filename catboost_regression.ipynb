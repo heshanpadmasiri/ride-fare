{
 "cells": [
  {
   "cell_type": "code",
   "execution_count": 18,
   "metadata": {},
   "outputs": [],
   "source": [
    "import pandas as pd\n",
    "import numpy as np\n",
    "\n",
    "from sklearn.model_selection import KFold\n",
    "import matplotlib.pyplot as plt\n",
    "import seaborn as sns\n",
    "\n",
    "from catboost import Pool, cv,CatBoostRegressor"
   ]
  },
  {
   "cell_type": "code",
   "execution_count": 2,
   "metadata": {},
   "outputs": [],
   "source": [
    "train_df = pd.read_csv('train_df.csv')\n",
    "test_df = pd.read_csv('test_df.csv')\n",
    "submission_df = pd.read_csv('sample_submission.csv')"
   ]
  },
  {
   "cell_type": "code",
   "execution_count": 3,
   "metadata": {},
   "outputs": [
    {
     "data": {
      "text/plain": [
       "(16967, 15)"
      ]
     },
     "execution_count": 3,
     "metadata": {},
     "output_type": "execute_result"
    }
   ],
   "source": [
    "train_df.shape"
   ]
  },
  {
   "cell_type": "code",
   "execution_count": 4,
   "metadata": {},
   "outputs": [],
   "source": [
    "data = train_df[train_df['label'] == 1].drop(['label'], axis=1).dropna()"
   ]
  },
  {
   "cell_type": "code",
   "execution_count": 5,
   "metadata": {},
   "outputs": [
    {
     "data": {
      "text/plain": [
       "Index(['additional_fare', 'duration', 'meter_waiting', 'meter_waiting_fare',\n",
       "       'meter_waiting_till_pickup', 'fare', 'pick_cluster',\n",
       "       'is_more_than_one_day', 'distance_km', 'fare_per_km', 'pickup_timeslot',\n",
       "       'day_of_week', 'is_weekday', 'cal_time_difference'],\n",
       "      dtype='object')"
      ]
     },
     "execution_count": 5,
     "metadata": {},
     "output_type": "execute_result"
    }
   ],
   "source": [
    "data.columns"
   ]
  },
  {
   "cell_type": "code",
   "execution_count": 6,
   "metadata": {},
   "outputs": [],
   "source": [
    "cat_features = ['pick_cluster','is_more_than_one_day','pickup_timeslot',\n",
    "       'day_of_week', 'is_weekday']\n",
    "\n",
    "features = ['additional_fare','duration', 'meter_waiting','meter_waiting_fare',\n",
    "       'meter_waiting_till_pickup', 'pick_cluster', 'is_more_than_one_day', 'distance_km','pickup_timeslot',\n",
    "       'day_of_week', 'is_weekday']"
   ]
  },
  {
   "cell_type": "code",
   "execution_count": 7,
   "metadata": {},
   "outputs": [],
   "source": [
    "X = data[features]\n",
    "y = data['fare'].values"
   ]
  },
  {
   "cell_type": "code",
   "execution_count": 8,
   "metadata": {},
   "outputs": [],
   "source": [
    "train_df_X = train_df[features]\n",
    "train_df_pool = Pool(data=train_df_X,cat_features=cat_features)\n",
    "test_df_X = test_df[features]\n",
    "test_df_pool = Pool(data=test_df_X,cat_features=cat_features)"
   ]
  },
  {
   "cell_type": "code",
   "execution_count": 9,
   "metadata": {},
   "outputs": [],
   "source": [
    "train_df_preds = np.zeros(train_df.shape[0])\n",
    "test_df_preds = np.zeros(test_df.shape[0])"
   ]
  },
  {
   "cell_type": "code",
   "execution_count": 10,
   "metadata": {},
   "outputs": [],
   "source": [
    "params = {\n",
    "    'loss_function':'RMSE',\n",
    "    'random_state':0,\n",
    "    'early_stopping_rounds':50,\n",
    "    'eval_metric':'RMSE'\n",
    "}"
   ]
  },
  {
   "cell_type": "code",
   "execution_count": 11,
   "metadata": {},
   "outputs": [],
   "source": [
    "kf = KFold(n_splits=3)"
   ]
  },
  {
   "cell_type": "code",
   "execution_count": 12,
   "metadata": {},
   "outputs": [
    {
     "name": "stdout",
     "output_type": "stream",
     "text": [
      "Learning rate set to 0.071592\n",
      "0:\tlearn: 354.7152061\ttest: 268.1502429\tbest: 268.1502429 (0)\ttotal: 61.7ms\tremaining: 1m 1s\n",
      "10:\tlearn: 271.5126332\ttest: 195.1736196\tbest: 195.1736196 (10)\ttotal: 173ms\tremaining: 15.6s\n",
      "20:\tlearn: 222.6522465\ttest: 164.9022783\tbest: 164.9022783 (20)\ttotal: 289ms\tremaining: 13.5s\n",
      "30:\tlearn: 187.7155907\ttest: 146.9843589\tbest: 146.9843589 (30)\ttotal: 389ms\tremaining: 12.2s\n",
      "40:\tlearn: 160.3850089\ttest: 137.1071114\tbest: 137.1071114 (40)\ttotal: 488ms\tremaining: 11.4s\n",
      "50:\tlearn: 139.0743900\ttest: 131.6432025\tbest: 131.6432025 (50)\ttotal: 596ms\tremaining: 11.1s\n",
      "60:\tlearn: 122.7631824\ttest: 127.4373651\tbest: 127.4373651 (60)\ttotal: 700ms\tremaining: 10.8s\n",
      "70:\tlearn: 109.2646698\ttest: 121.8992014\tbest: 121.8992014 (70)\ttotal: 800ms\tremaining: 10.5s\n",
      "80:\tlearn: 99.3614795\ttest: 119.7227717\tbest: 119.7227717 (80)\ttotal: 897ms\tremaining: 10.2s\n",
      "90:\tlearn: 91.2848868\ttest: 117.4499264\tbest: 117.4499264 (90)\ttotal: 1s\tremaining: 10s\n",
      "100:\tlearn: 85.5804327\ttest: 116.5724620\tbest: 116.5334714 (99)\ttotal: 1.1s\tremaining: 9.79s\n",
      "110:\tlearn: 81.0962594\ttest: 115.4129296\tbest: 115.4129296 (110)\ttotal: 1.19s\tremaining: 9.54s\n",
      "120:\tlearn: 77.2884559\ttest: 114.3509504\tbest: 114.3509504 (120)\ttotal: 1.29s\tremaining: 9.39s\n",
      "130:\tlearn: 74.2666997\ttest: 113.9181920\tbest: 113.9181920 (130)\ttotal: 1.39s\tremaining: 9.24s\n",
      "140:\tlearn: 71.4202973\ttest: 113.6770756\tbest: 113.6010395 (139)\ttotal: 1.49s\tremaining: 9.09s\n",
      "150:\tlearn: 68.6639421\ttest: 112.4127653\tbest: 112.4127653 (150)\ttotal: 1.59s\tremaining: 8.97s\n",
      "160:\tlearn: 66.4129627\ttest: 111.4717364\tbest: 111.4717364 (160)\ttotal: 1.7s\tremaining: 8.84s\n",
      "170:\tlearn: 64.1840848\ttest: 110.6927040\tbest: 110.6927040 (170)\ttotal: 1.79s\tremaining: 8.7s\n",
      "180:\tlearn: 62.0430856\ttest: 109.9495906\tbest: 109.9495906 (180)\ttotal: 1.89s\tremaining: 8.55s\n",
      "190:\tlearn: 60.2789493\ttest: 109.4198610\tbest: 109.4198610 (190)\ttotal: 2s\tremaining: 8.49s\n",
      "200:\tlearn: 58.9711200\ttest: 109.1413231\tbest: 109.1413231 (200)\ttotal: 2.09s\tremaining: 8.32s\n",
      "210:\tlearn: 57.7002729\ttest: 108.8197410\tbest: 108.8197410 (210)\ttotal: 2.19s\tremaining: 8.18s\n",
      "220:\tlearn: 56.5637950\ttest: 108.7394672\tbest: 108.7306209 (214)\ttotal: 2.29s\tremaining: 8.09s\n",
      "230:\tlearn: 55.5692934\ttest: 108.6958627\tbest: 108.6930342 (221)\ttotal: 2.42s\tremaining: 8.06s\n",
      "240:\tlearn: 54.6370343\ttest: 108.4835649\tbest: 108.4835649 (240)\ttotal: 2.56s\tremaining: 8.06s\n",
      "250:\tlearn: 53.8139952\ttest: 108.3904606\tbest: 108.3904606 (250)\ttotal: 2.67s\tremaining: 7.98s\n",
      "260:\tlearn: 52.9950972\ttest: 108.3770754\tbest: 108.3394014 (253)\ttotal: 2.79s\tremaining: 7.91s\n",
      "270:\tlearn: 52.2433983\ttest: 108.3052346\tbest: 108.2784691 (267)\ttotal: 2.89s\tremaining: 7.78s\n",
      "280:\tlearn: 51.5451572\ttest: 108.2662307\tbest: 108.2440413 (276)\ttotal: 3s\tremaining: 7.68s\n",
      "290:\tlearn: 50.9562550\ttest: 108.1114517\tbest: 108.0962956 (287)\ttotal: 3.11s\tremaining: 7.58s\n",
      "300:\tlearn: 50.3594530\ttest: 108.1278503\tbest: 108.0819845 (291)\ttotal: 3.22s\tremaining: 7.47s\n",
      "310:\tlearn: 49.8226203\ttest: 108.1216285\tbest: 108.0819845 (291)\ttotal: 3.33s\tremaining: 7.37s\n",
      "320:\tlearn: 49.3512000\ttest: 108.2300335\tbest: 108.0819845 (291)\ttotal: 3.43s\tremaining: 7.25s\n",
      "330:\tlearn: 48.9419852\ttest: 108.1679838\tbest: 108.0819845 (291)\ttotal: 3.54s\tremaining: 7.15s\n",
      "340:\tlearn: 48.5714763\ttest: 108.1521024\tbest: 108.0819845 (291)\ttotal: 3.64s\tremaining: 7.04s\n",
      "Stopped by overfitting detector  (50 iterations wait)\n",
      "\n",
      "bestTest = 108.0819845\n",
      "bestIteration = 291\n",
      "\n",
      "Shrink model to first 292 iterations.\n",
      "Validation RMSE 108.0819844602467\n",
      "Learning rate set to 0.071592\n",
      "0:\tlearn: 357.8877934\ttest: 261.4819787\tbest: 261.4819787 (0)\ttotal: 9.58ms\tremaining: 9.57s\n",
      "10:\tlearn: 268.5555987\ttest: 182.0800842\tbest: 182.0800842 (10)\ttotal: 108ms\tremaining: 9.72s\n",
      "20:\tlearn: 224.9940496\ttest: 158.7495713\tbest: 158.7495713 (20)\ttotal: 214ms\tremaining: 9.97s\n",
      "30:\tlearn: 189.5784030\ttest: 142.5445547\tbest: 142.5445547 (30)\ttotal: 314ms\tremaining: 9.82s\n",
      "40:\tlearn: 162.5108509\ttest: 132.9293329\tbest: 132.9293329 (40)\ttotal: 420ms\tremaining: 9.82s\n",
      "50:\tlearn: 139.7312964\ttest: 124.3002614\tbest: 124.3002614 (50)\ttotal: 527ms\tremaining: 9.8s\n",
      "60:\tlearn: 124.1252753\ttest: 123.3138005\tbest: 122.5700049 (56)\ttotal: 634ms\tremaining: 9.76s\n",
      "70:\tlearn: 109.9338409\ttest: 120.8610546\tbest: 120.8549400 (69)\ttotal: 732ms\tremaining: 9.58s\n",
      "80:\tlearn: 99.4121896\ttest: 121.1289007\tbest: 120.3869041 (72)\ttotal: 837ms\tremaining: 9.49s\n",
      "90:\tlearn: 91.2883510\ttest: 121.6684611\tbest: 120.3869041 (72)\ttotal: 931ms\tremaining: 9.3s\n",
      "100:\tlearn: 84.8730010\ttest: 123.3284607\tbest: 120.3869041 (72)\ttotal: 1.03s\tremaining: 9.19s\n",
      "110:\tlearn: 80.0787646\ttest: 125.7266237\tbest: 120.3869041 (72)\ttotal: 1.13s\tremaining: 9.02s\n",
      "120:\tlearn: 75.7100796\ttest: 127.6358334\tbest: 120.3869041 (72)\ttotal: 1.23s\tremaining: 8.92s\n",
      "Stopped by overfitting detector  (50 iterations wait)\n",
      "\n",
      "bestTest = 120.3869041\n",
      "bestIteration = 72\n",
      "\n",
      "Shrink model to first 73 iterations.\n",
      "Validation RMSE 120.3869041133472\n",
      "Learning rate set to 0.071592\n",
      "0:\tlearn: 266.0464225\ttest: 431.0846598\tbest: 431.0846598 (0)\ttotal: 9.8ms\tremaining: 9.79s\n",
      "10:\tlearn: 177.6936396\ttest: 372.5560870\tbest: 372.5560870 (10)\ttotal: 109ms\tremaining: 9.76s\n",
      "20:\tlearn: 134.1681245\ttest: 342.0010619\tbest: 342.0010619 (20)\ttotal: 213ms\tremaining: 9.93s\n",
      "30:\tlearn: 110.7412262\ttest: 331.0045620\tbest: 331.0045620 (30)\ttotal: 312ms\tremaining: 9.74s\n",
      "40:\tlearn: 97.5181093\ttest: 322.0412026\tbest: 322.0412026 (40)\ttotal: 411ms\tremaining: 9.62s\n",
      "50:\tlearn: 88.9919816\ttest: 318.9120674\tbest: 318.9120674 (50)\ttotal: 506ms\tremaining: 9.41s\n",
      "60:\tlearn: 83.1280740\ttest: 317.3346218\tbest: 317.3346218 (60)\ttotal: 614ms\tremaining: 9.45s\n",
      "70:\tlearn: 78.3140903\ttest: 315.9260121\tbest: 315.9260121 (70)\ttotal: 706ms\tremaining: 9.24s\n",
      "80:\tlearn: 74.9785233\ttest: 315.0300638\tbest: 314.8260930 (78)\ttotal: 805ms\tremaining: 9.13s\n",
      "90:\tlearn: 72.3195133\ttest: 313.7216646\tbest: 313.7216646 (90)\ttotal: 919ms\tremaining: 9.18s\n",
      "100:\tlearn: 70.0748639\ttest: 312.9477413\tbest: 312.9477413 (100)\ttotal: 1.01s\tremaining: 9.03s\n",
      "110:\tlearn: 68.0996960\ttest: 312.4171580\tbest: 312.3895974 (109)\ttotal: 1.1s\tremaining: 8.83s\n",
      "120:\tlearn: 66.5359308\ttest: 311.6212901\tbest: 311.6212901 (120)\ttotal: 1.21s\tremaining: 8.77s\n",
      "130:\tlearn: 64.6466066\ttest: 311.2572386\tbest: 311.2572386 (130)\ttotal: 1.3s\tremaining: 8.66s\n",
      "140:\tlearn: 63.0993142\ttest: 310.4709369\tbest: 310.4507963 (139)\ttotal: 1.4s\tremaining: 8.52s\n",
      "150:\tlearn: 61.6898938\ttest: 310.1126628\tbest: 310.1126628 (150)\ttotal: 1.5s\tremaining: 8.47s\n",
      "160:\tlearn: 60.5816236\ttest: 309.7632874\tbest: 309.7632874 (160)\ttotal: 1.61s\tremaining: 8.4s\n",
      "170:\tlearn: 59.5855256\ttest: 309.5949789\tbest: 309.5389680 (167)\ttotal: 1.7s\tremaining: 8.23s\n",
      "180:\tlearn: 58.4825201\ttest: 309.4862205\tbest: 309.4862205 (180)\ttotal: 1.78s\tremaining: 8.04s\n",
      "190:\tlearn: 57.5828609\ttest: 309.4181100\tbest: 309.3595758 (185)\ttotal: 1.84s\tremaining: 7.82s\n",
      "200:\tlearn: 56.7152944\ttest: 309.1567144\tbest: 309.1030958 (196)\ttotal: 1.97s\tremaining: 7.83s\n",
      "210:\tlearn: 55.9088916\ttest: 309.2532203\tbest: 309.1030958 (196)\ttotal: 2.11s\tremaining: 7.88s\n",
      "220:\tlearn: 55.2158804\ttest: 309.3205385\tbest: 309.1030958 (196)\ttotal: 2.23s\tremaining: 7.87s\n",
      "230:\tlearn: 54.5966178\ttest: 309.3409755\tbest: 309.1030958 (196)\ttotal: 2.36s\tremaining: 7.85s\n",
      "240:\tlearn: 53.8212866\ttest: 309.0601010\tbest: 309.0601010 (240)\ttotal: 2.46s\tremaining: 7.73s\n",
      "250:\tlearn: 53.2743448\ttest: 308.6800724\tbest: 308.6274649 (249)\ttotal: 2.56s\tremaining: 7.63s\n",
      "260:\tlearn: 52.8278901\ttest: 308.5160224\tbest: 308.5160224 (260)\ttotal: 2.66s\tremaining: 7.54s\n",
      "270:\tlearn: 52.2283979\ttest: 308.5702334\tbest: 308.5029803 (261)\ttotal: 2.77s\tremaining: 7.46s\n",
      "280:\tlearn: 51.8670578\ttest: 308.5299065\tbest: 308.5029803 (261)\ttotal: 2.93s\tremaining: 7.49s\n",
      "290:\tlearn: 51.4743498\ttest: 308.5444477\tbest: 308.4960701 (283)\ttotal: 3.04s\tremaining: 7.41s\n",
      "300:\tlearn: 51.1283029\ttest: 308.2446722\tbest: 308.2446722 (300)\ttotal: 3.15s\tremaining: 7.3s\n",
      "310:\tlearn: 50.6849539\ttest: 308.2330580\tbest: 308.2223710 (309)\ttotal: 3.26s\tremaining: 7.22s\n",
      "320:\tlearn: 50.3062608\ttest: 308.1469451\tbest: 308.1165066 (314)\ttotal: 3.37s\tremaining: 7.13s\n",
      "330:\tlearn: 49.8417410\ttest: 307.9786399\tbest: 307.9786399 (330)\ttotal: 3.46s\tremaining: 6.99s\n",
      "340:\tlearn: 49.4583852\ttest: 307.9770798\tbest: 307.8521353 (336)\ttotal: 3.54s\tremaining: 6.85s\n",
      "350:\tlearn: 48.9735605\ttest: 307.9475621\tbest: 307.8521353 (336)\ttotal: 3.64s\tremaining: 6.73s\n",
      "360:\tlearn: 48.6616049\ttest: 307.9466742\tbest: 307.8521353 (336)\ttotal: 3.72s\tremaining: 6.59s\n",
      "370:\tlearn: 48.3650819\ttest: 307.9342675\tbest: 307.8521353 (336)\ttotal: 3.82s\tremaining: 6.47s\n",
      "380:\tlearn: 47.9762405\ttest: 307.9005937\tbest: 307.8521353 (336)\ttotal: 3.92s\tremaining: 6.38s\n",
      "Stopped by overfitting detector  (50 iterations wait)\n",
      "\n",
      "bestTest = 307.8521353\n",
      "bestIteration = 336\n",
      "\n",
      "Shrink model to first 337 iterations.\n",
      "Validation RMSE 307.8521353351312\n"
     ]
    }
   ],
   "source": [
    "validation_scores = []\n",
    "models = []\n",
    "for train_index, test_index in kf.split(X, y):\n",
    "    X_train, X_test = X.iloc[train_index,:], X.iloc[test_index,:]\n",
    "    y_train, y_test = y[train_index], y[test_index]\n",
    "    train_pool = Pool(data=X_train, label=y_train,cat_features=cat_features)\n",
    "    test_pool = Pool(data=X_test, label=y_test, cat_features=cat_features)    \n",
    "    model = CatBoostRegressor(**params)\n",
    "    model.fit(X=train_pool, eval_set=test_pool,verbose=10)\n",
    "    validation_score = model.best_score_['validation']['RMSE']\n",
    "    print('Validation RMSE',validation_score)\n",
    "    validation_scores.append(validation_score)\n",
    "    models.append(model)\n",
    "    \n",
    "    train_df_preds += model.predict(train_df_pool)\n",
    "    test_df_preds += model.predict(test_df_pool)"
   ]
  },
  {
   "cell_type": "code",
   "execution_count": 22,
   "metadata": {},
   "outputs": [],
   "source": [
    "best_model = models[np.argmax(validation_scores)]"
   ]
  },
  {
   "cell_type": "code",
   "execution_count": 23,
   "metadata": {},
   "outputs": [
    {
     "data": {
      "text/html": [
       "<div>\n",
       "<style scoped>\n",
       "    .dataframe tbody tr th:only-of-type {\n",
       "        vertical-align: middle;\n",
       "    }\n",
       "\n",
       "    .dataframe tbody tr th {\n",
       "        vertical-align: top;\n",
       "    }\n",
       "\n",
       "    .dataframe thead th {\n",
       "        text-align: right;\n",
       "    }\n",
       "</style>\n",
       "<table border=\"1\" class=\"dataframe\">\n",
       "  <thead>\n",
       "    <tr style=\"text-align: right;\">\n",
       "      <th></th>\n",
       "      <th>Feature Id</th>\n",
       "      <th>Importances</th>\n",
       "    </tr>\n",
       "  </thead>\n",
       "  <tbody>\n",
       "    <tr>\n",
       "      <td>0</td>\n",
       "      <td>duration</td>\n",
       "      <td>42.921846</td>\n",
       "    </tr>\n",
       "    <tr>\n",
       "      <td>1</td>\n",
       "      <td>distance_km</td>\n",
       "      <td>36.690306</td>\n",
       "    </tr>\n",
       "    <tr>\n",
       "      <td>2</td>\n",
       "      <td>is_more_than_one_day</td>\n",
       "      <td>8.619333</td>\n",
       "    </tr>\n",
       "    <tr>\n",
       "      <td>3</td>\n",
       "      <td>meter_waiting_fare</td>\n",
       "      <td>4.188275</td>\n",
       "    </tr>\n",
       "    <tr>\n",
       "      <td>4</td>\n",
       "      <td>meter_waiting_till_pickup</td>\n",
       "      <td>3.264051</td>\n",
       "    </tr>\n",
       "    <tr>\n",
       "      <td>5</td>\n",
       "      <td>meter_waiting</td>\n",
       "      <td>1.928844</td>\n",
       "    </tr>\n",
       "    <tr>\n",
       "      <td>6</td>\n",
       "      <td>additional_fare</td>\n",
       "      <td>0.660016</td>\n",
       "    </tr>\n",
       "    <tr>\n",
       "      <td>7</td>\n",
       "      <td>day_of_week</td>\n",
       "      <td>0.624764</td>\n",
       "    </tr>\n",
       "    <tr>\n",
       "      <td>8</td>\n",
       "      <td>pickup_timeslot</td>\n",
       "      <td>0.545443</td>\n",
       "    </tr>\n",
       "    <tr>\n",
       "      <td>9</td>\n",
       "      <td>pick_cluster</td>\n",
       "      <td>0.371950</td>\n",
       "    </tr>\n",
       "    <tr>\n",
       "      <td>10</td>\n",
       "      <td>is_weekday</td>\n",
       "      <td>0.185172</td>\n",
       "    </tr>\n",
       "  </tbody>\n",
       "</table>\n",
       "</div>"
      ],
      "text/plain": [
       "                   Feature Id  Importances\n",
       "0                    duration    42.921846\n",
       "1                 distance_km    36.690306\n",
       "2        is_more_than_one_day     8.619333\n",
       "3          meter_waiting_fare     4.188275\n",
       "4   meter_waiting_till_pickup     3.264051\n",
       "5               meter_waiting     1.928844\n",
       "6             additional_fare     0.660016\n",
       "7                 day_of_week     0.624764\n",
       "8             pickup_timeslot     0.545443\n",
       "9                pick_cluster     0.371950\n",
       "10                 is_weekday     0.185172"
      ]
     },
     "execution_count": 23,
     "metadata": {},
     "output_type": "execute_result"
    }
   ],
   "source": [
    "best_model.get_feature_importance(prettified=True)"
   ]
  },
  {
   "cell_type": "code",
   "execution_count": null,
   "metadata": {},
   "outputs": [],
   "source": []
  },
  {
   "cell_type": "code",
   "execution_count": 13,
   "metadata": {},
   "outputs": [],
   "source": [
    "train_df['predicted_fare'] = train_df_preds/3\n",
    "test_df['predicted_fare'] = test_df_preds/3"
   ]
  },
  {
   "cell_type": "code",
   "execution_count": 14,
   "metadata": {},
   "outputs": [],
   "source": [
    "train_df['predicted_fare_difference'] = train_df['fare'] - train_df['predicted_fare']\n",
    "test_df['predicted_fare_difference'] = test_df['fare'] - test_df['predicted_fare']"
   ]
  },
  {
   "cell_type": "code",
   "execution_count": 19,
   "metadata": {},
   "outputs": [
    {
     "data": {
      "text/plain": [
       "<matplotlib.axes._subplots.AxesSubplot at 0x7f77d0067090>"
      ]
     },
     "execution_count": 19,
     "metadata": {},
     "output_type": "execute_result"
    },
    {
     "data": {
      "image/png": "[encoded data removed]",
      "text/plain": [
       "<Figure size 432x288 with 1 Axes>"
      ]
     },
     "metadata": {
      "needs_background": "light"
     },
     "output_type": "display_data"
    }
   ],
   "source": [
    "sns.distplot(train_df[train_df['label']==1]['predicted_fare_difference'], hist=False)\n",
    "sns.distplot(train_df[train_df['label']==0]['predicted_fare_difference'], hist=False)"
   ]
  },
  {
   "cell_type": "code",
   "execution_count": 20,
   "metadata": {},
   "outputs": [
    {
     "data": {
      "text/plain": [
       "count    15441.000000\n",
       "mean         0.564470\n",
       "std        102.881860\n",
       "min      -1632.620590\n",
       "25%        -25.543565\n",
       "50%         -8.422985\n",
       "75%         16.305070\n",
       "max       9750.445747\n",
       "Name: predicted_fare_difference, dtype: float64"
      ]
     },
     "execution_count": 20,
     "metadata": {},
     "output_type": "execute_result"
    }
   ],
   "source": [
    "train_df[train_df['label']==1]['predicted_fare_difference'].describe()"
   ]
  },
  {
   "cell_type": "code",
   "execution_count": 21,
   "metadata": {},
   "outputs": [
    {
     "data": {
      "text/plain": [
       "count     1526.000000\n",
       "mean       126.134682\n",
       "std       1418.582422\n",
       "min     -12570.329931\n",
       "25%        -74.844040\n",
       "50%         57.828784\n",
       "75%        296.935519\n",
       "max      24898.837463\n",
       "Name: predicted_fare_difference, dtype: float64"
      ]
     },
     "execution_count": 21,
     "metadata": {},
     "output_type": "execute_result"
    }
   ],
   "source": [
    "train_df[train_df['label']==0]['predicted_fare_difference'].describe()"
   ]
  },
  {
   "cell_type": "code",
   "execution_count": 15,
   "metadata": {},
   "outputs": [],
   "source": [
    "# train_df = train_df.drop(['predicted_fare'],axis=1)\n",
    "# test_df = test_df.drop(['predicted_fare'],axis=1)"
   ]
  },
  {
   "cell_type": "code",
   "execution_count": 16,
   "metadata": {},
   "outputs": [],
   "source": [
    "train_df.to_csv('train_df.csv',index=False)\n",
    "test_df.to_csv('test_df.csv',index=False)"
   ]
  },
  {
   "cell_type": "code",
   "execution_count": null,
   "metadata": {},
   "outputs": [],
   "source": []
  }
 ],
 "metadata": {
  "kernelspec": {
   "display_name": "Python 3",
   "language": "python",
   "name": "python3"
  },
  "language_info": {
   "codemirror_mode": {
    "name": "ipython",
    "version": 3
   },
   "file_extension": ".py",
   "mimetype": "text/x-python",
   "name": "python",
   "nbconvert_exporter": "python",
   "pygments_lexer": "ipython3",
   "version": "3.7.4"
  }
 },
 "nbformat": 4,
 "nbformat_minor": 4
}
