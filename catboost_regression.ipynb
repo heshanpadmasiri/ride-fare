{
 "cells": [
  {
   "cell_type": "code",
   "execution_count": 1,
   "metadata": {},
   "outputs": [],
   "source": [
    "import pandas as pd\n",
    "import numpy as np\n",
    "\n",
    "from sklearn.model_selection import KFold\n",
    "import matplotlib.pyplot as plt\n",
    "import seaborn as sns\n",
    "from sklearn.preprocessing import KBinsDiscretizer\n",
    "\n",
    "from catboost import Pool, cv,CatBoostRegressor"
   ]
  },
  {
   "cell_type": "code",
   "execution_count": 2,
   "metadata": {},
   "outputs": [],
   "source": [
    "train_df = pd.read_csv('train_df.csv')\n",
    "test_df = pd.read_csv('test_df.csv')\n",
    "submission_df = pd.read_csv('sample_submission.csv')"
   ]
  },
  {
   "cell_type": "code",
   "execution_count": 3,
   "metadata": {},
   "outputs": [
    {
     "data": {
      "text/plain": [
       "(16967, 21)"
      ]
     },
     "execution_count": 3,
     "metadata": {},
     "output_type": "execute_result"
    }
   ],
   "source": [
    "train_df.shape"
   ]
  },
  {
   "cell_type": "code",
   "execution_count": 4,
   "metadata": {},
   "outputs": [],
   "source": [
    "data = train_df[train_df['label'] == 1].drop(['label'], axis=1).dropna()"
   ]
  },
  {
   "cell_type": "code",
   "execution_count": 5,
   "metadata": {},
   "outputs": [
    {
     "data": {
      "text/plain": [
       "Index(['additional_fare', 'duration', 'meter_waiting', 'meter_waiting_fare',\n",
       "       'meter_waiting_till_pickup', 'fare', 'pickup_date', 'pickup_hour',\n",
       "       'pickup_minute', 'drop_date', 'drop_hour', 'drop_minute',\n",
       "       'pick_cluster', 'is_more_than_one_day', 'distance_km', 'fare_per_km',\n",
       "       'pickup_timeslot', 'day_of_week', 'is_weekday', 'cal_time_difference'],\n",
       "      dtype='object')"
      ]
     },
     "execution_count": 5,
     "metadata": {},
     "output_type": "execute_result"
    }
   ],
   "source": [
    "data.columns"
   ]
  },
  {
   "cell_type": "code",
   "execution_count": 6,
   "metadata": {},
   "outputs": [],
   "source": [
    "cat_features = ['pick_cluster','is_more_than_one_day','pickup_timeslot',\n",
    "       'day_of_week', 'is_weekday']\n",
    "\n",
    "features = [\n",
    "    'additional_fare',\n",
    "#     'duration', \n",
    "#     'meter_waiting',\n",
    "    'meter_waiting_fare',\n",
    "    'meter_waiting_till_pickup', \n",
    "    'pick_cluster', \n",
    "    'is_more_than_one_day', \n",
    "    'distance_km',\n",
    "    'pickup_timeslot',\n",
    "    'day_of_week', \n",
    "    'is_weekday'\n",
    "]"
   ]
  },
  {
   "cell_type": "code",
   "execution_count": 7,
   "metadata": {},
   "outputs": [],
   "source": [
    "X = data[features]\n",
    "y = data['fare'].values"
   ]
  },
  {
   "cell_type": "code",
   "execution_count": 8,
   "metadata": {},
   "outputs": [],
   "source": [
    "train_df_X = train_df[features]\n",
    "train_df_pool = Pool(data=train_df_X,cat_features=cat_features)\n",
    "test_df_X = test_df[features]\n",
    "test_df_pool = Pool(data=test_df_X,cat_features=cat_features)"
   ]
  },
  {
   "cell_type": "code",
   "execution_count": 9,
   "metadata": {},
   "outputs": [],
   "source": [
    "train_df_preds = np.zeros(train_df.shape[0])\n",
    "test_df_preds = np.zeros(test_df.shape[0])"
   ]
  },
  {
   "cell_type": "code",
   "execution_count": 10,
   "metadata": {},
   "outputs": [],
   "source": [
    "params = {\n",
    "    'loss_function':'RMSE',\n",
    "    'random_state':0,\n",
    "    'early_stopping_rounds':50,\n",
    "    'eval_metric':'RMSE'\n",
    "}"
   ]
  },
  {
   "cell_type": "code",
   "execution_count": 11,
   "metadata": {},
   "outputs": [],
   "source": [
    "kf = KFold(n_splits=3)"
   ]
  },
  {
   "cell_type": "code",
   "execution_count": 12,
   "metadata": {},
   "outputs": [
    {
     "name": "stdout",
     "output_type": "stream",
     "text": [
      "Learning rate set to 0.071592\n",
      "0:\tlearn: 356.2246812\ttest: 273.4161084\tbest: 273.4161084 (0)\ttotal: 62.8ms\tremaining: 1m 2s\n",
      "10:\tlearn: 275.5670021\ttest: 206.6536141\tbest: 206.6536141 (10)\ttotal: 123ms\tremaining: 11.1s\n",
      "20:\tlearn: 233.1340994\ttest: 187.8602663\tbest: 187.8602663 (20)\ttotal: 167ms\tremaining: 7.77s\n",
      "30:\tlearn: 203.8378640\ttest: 176.9119107\tbest: 176.9119107 (30)\ttotal: 224ms\tremaining: 7s\n",
      "40:\tlearn: 178.5406336\ttest: 164.7783956\tbest: 164.7783956 (40)\ttotal: 270ms\tremaining: 6.32s\n",
      "50:\tlearn: 156.9122025\ttest: 155.5272059\tbest: 155.5272059 (50)\ttotal: 315ms\tremaining: 5.86s\n",
      "60:\tlearn: 140.9967817\ttest: 149.0205940\tbest: 149.0205940 (60)\ttotal: 361ms\tremaining: 5.56s\n",
      "70:\tlearn: 128.5463631\ttest: 143.4419639\tbest: 143.4419639 (70)\ttotal: 403ms\tremaining: 5.27s\n",
      "80:\tlearn: 119.2361364\ttest: 139.8196888\tbest: 139.8196888 (80)\ttotal: 467ms\tremaining: 5.29s\n",
      "90:\tlearn: 112.3809124\ttest: 137.6703682\tbest: 137.6703682 (90)\ttotal: 508ms\tremaining: 5.07s\n",
      "100:\tlearn: 107.1703853\ttest: 136.4812246\tbest: 136.4812246 (100)\ttotal: 548ms\tremaining: 4.88s\n",
      "110:\tlearn: 102.5972891\ttest: 135.9886628\tbest: 135.7699502 (107)\ttotal: 591ms\tremaining: 4.73s\n",
      "120:\tlearn: 99.8246596\ttest: 135.4451596\tbest: 135.4451596 (120)\ttotal: 630ms\tremaining: 4.58s\n",
      "130:\tlearn: 97.8914334\ttest: 135.0173678\tbest: 135.0173678 (130)\ttotal: 678ms\tremaining: 4.5s\n",
      "140:\tlearn: 95.8659890\ttest: 134.6899918\tbest: 134.5392379 (137)\ttotal: 727ms\tremaining: 4.43s\n",
      "150:\tlearn: 94.8569937\ttest: 134.3022069\tbest: 134.3022069 (150)\ttotal: 758ms\tremaining: 4.26s\n",
      "160:\tlearn: 93.5302656\ttest: 133.9892067\tbest: 133.9892067 (160)\ttotal: 806ms\tremaining: 4.2s\n",
      "170:\tlearn: 92.4345489\ttest: 133.5707774\tbest: 133.5707774 (170)\ttotal: 847ms\tremaining: 4.1s\n",
      "180:\tlearn: 90.7994218\ttest: 132.5442902\tbest: 132.5442902 (180)\ttotal: 895ms\tremaining: 4.05s\n",
      "190:\tlearn: 90.0064267\ttest: 132.6124278\tbest: 132.5103119 (186)\ttotal: 940ms\tremaining: 3.98s\n",
      "200:\tlearn: 89.1619005\ttest: 132.1697382\tbest: 132.1697382 (200)\ttotal: 983ms\tremaining: 3.91s\n",
      "210:\tlearn: 88.2946658\ttest: 131.8645170\tbest: 131.8645170 (210)\ttotal: 1.02s\tremaining: 3.83s\n",
      "220:\tlearn: 87.7044341\ttest: 131.9048451\tbest: 131.8446688 (211)\ttotal: 1.07s\tremaining: 3.77s\n",
      "230:\tlearn: 87.0810153\ttest: 131.6060687\tbest: 131.5901951 (228)\ttotal: 1.14s\tremaining: 3.8s\n",
      "240:\tlearn: 86.6515694\ttest: 131.6761816\tbest: 131.5574509 (234)\ttotal: 1.18s\tremaining: 3.71s\n",
      "250:\tlearn: 86.2516722\ttest: 131.7153147\tbest: 131.5574509 (234)\ttotal: 1.22s\tremaining: 3.63s\n",
      "260:\tlearn: 85.8872439\ttest: 131.6789252\tbest: 131.5574509 (234)\ttotal: 1.25s\tremaining: 3.55s\n",
      "270:\tlearn: 85.5310515\ttest: 131.6219355\tbest: 131.5574509 (234)\ttotal: 1.29s\tremaining: 3.48s\n",
      "280:\tlearn: 84.9263595\ttest: 131.3453952\tbest: 131.3453952 (280)\ttotal: 1.33s\tremaining: 3.41s\n",
      "290:\tlearn: 84.7236997\ttest: 131.3261623\tbest: 131.3261623 (290)\ttotal: 1.39s\tremaining: 3.38s\n",
      "300:\tlearn: 84.2699459\ttest: 131.3204594\tbest: 131.2959605 (293)\ttotal: 1.43s\tremaining: 3.32s\n",
      "310:\tlearn: 83.9471826\ttest: 131.2461222\tbest: 131.2461222 (310)\ttotal: 1.47s\tremaining: 3.25s\n",
      "320:\tlearn: 83.6953022\ttest: 131.3610134\tbest: 131.2231212 (312)\ttotal: 1.5s\tremaining: 3.18s\n",
      "330:\tlearn: 83.3377041\ttest: 131.3241665\tbest: 131.2231212 (312)\ttotal: 1.54s\tremaining: 3.12s\n",
      "340:\tlearn: 83.0482857\ttest: 131.3286783\tbest: 131.2231212 (312)\ttotal: 1.58s\tremaining: 3.05s\n",
      "350:\tlearn: 82.7789549\ttest: 131.3031120\tbest: 131.2231212 (312)\ttotal: 1.65s\tremaining: 3.05s\n",
      "360:\tlearn: 82.3242037\ttest: 131.3895987\tbest: 131.2231212 (312)\ttotal: 1.69s\tremaining: 2.99s\n",
      "Stopped by overfitting detector  (50 iterations wait)\n",
      "\n",
      "bestTest = 131.2231212\n",
      "bestIteration = 312\n",
      "\n",
      "Shrink model to first 313 iterations.\n",
      "Validation RMSE 131.2231211677241\n",
      "Learning rate set to 0.071592\n",
      "0:\tlearn: 358.3788411\ttest: 264.7569659\tbest: 264.7569659 (0)\ttotal: 6.51ms\tremaining: 6.5s\n",
      "10:\tlearn: 284.8905159\ttest: 214.7177603\tbest: 214.7177603 (10)\ttotal: 62.8ms\tremaining: 5.65s\n",
      "20:\tlearn: 239.8745973\ttest: 186.0105460\tbest: 186.0105460 (20)\ttotal: 158ms\tremaining: 7.34s\n",
      "30:\tlearn: 207.9025993\ttest: 168.4661077\tbest: 168.4661077 (30)\ttotal: 255ms\tremaining: 7.96s\n",
      "40:\tlearn: 179.9789957\ttest: 149.7591710\tbest: 149.7591710 (40)\ttotal: 358ms\tremaining: 8.37s\n",
      "50:\tlearn: 158.4949381\ttest: 138.4339163\tbest: 138.4339163 (50)\ttotal: 428ms\tremaining: 7.97s\n",
      "60:\tlearn: 141.9894943\ttest: 130.1002429\tbest: 130.1002429 (60)\ttotal: 488ms\tremaining: 7.51s\n",
      "70:\tlearn: 130.2520954\ttest: 126.7609735\tbest: 126.7609735 (70)\ttotal: 534ms\tremaining: 6.99s\n",
      "80:\tlearn: 120.5359060\ttest: 124.9008585\tbest: 124.9008585 (80)\ttotal: 594ms\tremaining: 6.74s\n",
      "90:\tlearn: 113.4557707\ttest: 123.4609295\tbest: 123.4609295 (90)\ttotal: 647ms\tremaining: 6.46s\n",
      "100:\tlearn: 108.0021356\ttest: 123.6219455\tbest: 123.4380645 (94)\ttotal: 688ms\tremaining: 6.13s\n",
      "110:\tlearn: 103.9991549\ttest: 123.0699122\tbest: 122.9816157 (103)\ttotal: 733ms\tremaining: 5.87s\n",
      "120:\tlearn: 101.0581626\ttest: 124.0133949\tbest: 122.9816157 (103)\ttotal: 774ms\tremaining: 5.62s\n",
      "130:\tlearn: 98.4579142\ttest: 124.6035757\tbest: 122.9816157 (103)\ttotal: 845ms\tremaining: 5.6s\n",
      "140:\tlearn: 96.3772797\ttest: 125.4461411\tbest: 122.9816157 (103)\ttotal: 907ms\tremaining: 5.52s\n",
      "150:\tlearn: 94.6193814\ttest: 126.1127496\tbest: 122.9816157 (103)\ttotal: 964ms\tremaining: 5.42s\n",
      "Stopped by overfitting detector  (50 iterations wait)\n",
      "\n",
      "bestTest = 122.9816157\n",
      "bestIteration = 103\n",
      "\n",
      "Shrink model to first 104 iterations.\n",
      "Validation RMSE 122.98161573923099\n",
      "Learning rate set to 0.071592\n",
      "0:\tlearn: 267.6416420\ttest: 432.6627272\tbest: 432.6627272 (0)\ttotal: 12.2ms\tremaining: 12.1s\n",
      "10:\tlearn: 192.5604362\ttest: 385.8648006\tbest: 385.8648006 (10)\ttotal: 105ms\tremaining: 9.48s\n",
      "20:\tlearn: 153.6595545\ttest: 365.0297938\tbest: 365.0297938 (20)\ttotal: 173ms\tremaining: 8.06s\n",
      "30:\tlearn: 132.8686240\ttest: 355.7546036\tbest: 355.7546036 (30)\ttotal: 223ms\tremaining: 6.98s\n",
      "40:\tlearn: 119.8086740\ttest: 348.4319778\tbest: 348.4319778 (40)\ttotal: 281ms\tremaining: 6.58s\n",
      "50:\tlearn: 112.5346760\ttest: 344.9877114\tbest: 344.9877114 (50)\ttotal: 323ms\tremaining: 6.02s\n",
      "60:\tlearn: 107.5908717\ttest: 340.7674398\tbest: 340.7674398 (60)\ttotal: 366ms\tremaining: 5.63s\n",
      "70:\tlearn: 103.7201572\ttest: 336.8426373\tbest: 336.8426373 (70)\ttotal: 447ms\tremaining: 5.85s\n",
      "80:\tlearn: 100.6606714\ttest: 335.8657033\tbest: 335.8657033 (80)\ttotal: 514ms\tremaining: 5.83s\n",
      "90:\tlearn: 98.7426029\ttest: 334.6036897\tbest: 334.6036897 (90)\ttotal: 557ms\tremaining: 5.57s\n",
      "100:\tlearn: 96.9935355\ttest: 333.5595865\tbest: 333.5595865 (100)\ttotal: 602ms\tremaining: 5.36s\n",
      "110:\tlearn: 95.5874611\ttest: 332.5669376\tbest: 332.5669376 (110)\ttotal: 646ms\tremaining: 5.17s\n",
      "120:\tlearn: 94.4450409\ttest: 331.4039335\tbest: 331.3919281 (118)\ttotal: 710ms\tremaining: 5.16s\n",
      "130:\tlearn: 92.8624587\ttest: 331.2656198\tbest: 331.2032909 (126)\ttotal: 754ms\tremaining: 5s\n",
      "140:\tlearn: 91.8870200\ttest: 331.3079166\tbest: 331.2032909 (126)\ttotal: 796ms\tremaining: 4.85s\n",
      "150:\tlearn: 90.7504924\ttest: 331.1423713\tbest: 331.0835784 (149)\ttotal: 842ms\tremaining: 4.73s\n",
      "160:\tlearn: 90.0014503\ttest: 330.7646030\tbest: 330.7602668 (158)\ttotal: 906ms\tremaining: 4.72s\n",
      "170:\tlearn: 89.1524031\ttest: 330.8610916\tbest: 330.7602668 (158)\ttotal: 953ms\tremaining: 4.62s\n",
      "180:\tlearn: 88.5442441\ttest: 330.9261021\tbest: 330.7602668 (158)\ttotal: 999ms\tremaining: 4.52s\n",
      "190:\tlearn: 87.5320262\ttest: 330.8473516\tbest: 330.7602668 (158)\ttotal: 1.04s\tremaining: 4.4s\n",
      "200:\tlearn: 86.9362890\ttest: 330.9725500\tbest: 330.7602668 (158)\ttotal: 1.1s\tremaining: 4.38s\n",
      "Stopped by overfitting detector  (50 iterations wait)\n",
      "\n",
      "bestTest = 330.7602668\n",
      "bestIteration = 158\n",
      "\n",
      "Shrink model to first 159 iterations.\n",
      "Validation RMSE 330.76026682141907\n"
     ]
    }
   ],
   "source": [
    "validation_scores = []\n",
    "models = []\n",
    "for train_index, test_index in kf.split(X, y):\n",
    "    X_train, X_test = X.iloc[train_index,:], X.iloc[test_index,:]\n",
    "    y_train, y_test = y[train_index], y[test_index]\n",
    "    train_pool = Pool(data=X_train, label=y_train,cat_features=cat_features)\n",
    "    test_pool = Pool(data=X_test, label=y_test, cat_features=cat_features)    \n",
    "    model = CatBoostRegressor(**params)\n",
    "    model.fit(X=train_pool, eval_set=test_pool,verbose=10)\n",
    "    validation_score = model.best_score_['validation']['RMSE']\n",
    "    print('Validation RMSE',validation_score)\n",
    "    validation_scores.append(validation_score)\n",
    "    models.append(model)\n",
    "    \n",
    "    train_df_preds += model.predict(train_df_pool)\n",
    "    test_df_preds += model.predict(test_df_pool)"
   ]
  },
  {
   "cell_type": "code",
   "execution_count": 36,
   "metadata": {},
   "outputs": [
    {
     "data": {
      "text/plain": [
       "(194.98833457612469, 96.06419309381121)"
      ]
     },
     "execution_count": 36,
     "metadata": {},
     "output_type": "execute_result"
    }
   ],
   "source": [
    "np.mean(validation_scores), np.std(validation_scores)"
   ]
  },
  {
   "cell_type": "code",
   "execution_count": 37,
   "metadata": {},
   "outputs": [],
   "source": [
    "best_model = models[np.argmax(validation_scores)]"
   ]
  },
  {
   "cell_type": "code",
   "execution_count": 38,
   "metadata": {},
   "outputs": [
    {
     "data": {
      "text/html": [
       "<div>\n",
       "<style scoped>\n",
       "    .dataframe tbody tr th:only-of-type {\n",
       "        vertical-align: middle;\n",
       "    }\n",
       "\n",
       "    .dataframe tbody tr th {\n",
       "        vertical-align: top;\n",
       "    }\n",
       "\n",
       "    .dataframe thead th {\n",
       "        text-align: right;\n",
       "    }\n",
       "</style>\n",
       "<table border=\"1\" class=\"dataframe\">\n",
       "  <thead>\n",
       "    <tr style=\"text-align: right;\">\n",
       "      <th></th>\n",
       "      <th>Feature Id</th>\n",
       "      <th>Importances</th>\n",
       "    </tr>\n",
       "  </thead>\n",
       "  <tbody>\n",
       "    <tr>\n",
       "      <td>0</td>\n",
       "      <td>distance_km</td>\n",
       "      <td>52.403135</td>\n",
       "    </tr>\n",
       "    <tr>\n",
       "      <td>1</td>\n",
       "      <td>meter_waiting_fare</td>\n",
       "      <td>35.657614</td>\n",
       "    </tr>\n",
       "    <tr>\n",
       "      <td>2</td>\n",
       "      <td>is_more_than_one_day</td>\n",
       "      <td>6.641491</td>\n",
       "    </tr>\n",
       "    <tr>\n",
       "      <td>3</td>\n",
       "      <td>meter_waiting_till_pickup</td>\n",
       "      <td>3.066598</td>\n",
       "    </tr>\n",
       "    <tr>\n",
       "      <td>4</td>\n",
       "      <td>additional_fare</td>\n",
       "      <td>0.817130</td>\n",
       "    </tr>\n",
       "    <tr>\n",
       "      <td>5</td>\n",
       "      <td>pickup_timeslot</td>\n",
       "      <td>0.626137</td>\n",
       "    </tr>\n",
       "    <tr>\n",
       "      <td>6</td>\n",
       "      <td>pick_cluster</td>\n",
       "      <td>0.412176</td>\n",
       "    </tr>\n",
       "    <tr>\n",
       "      <td>7</td>\n",
       "      <td>day_of_week</td>\n",
       "      <td>0.299920</td>\n",
       "    </tr>\n",
       "    <tr>\n",
       "      <td>8</td>\n",
       "      <td>is_weekday</td>\n",
       "      <td>0.075797</td>\n",
       "    </tr>\n",
       "  </tbody>\n",
       "</table>\n",
       "</div>"
      ],
      "text/plain": [
       "                  Feature Id  Importances\n",
       "0                distance_km    52.403135\n",
       "1         meter_waiting_fare    35.657614\n",
       "2       is_more_than_one_day     6.641491\n",
       "3  meter_waiting_till_pickup     3.066598\n",
       "4            additional_fare     0.817130\n",
       "5            pickup_timeslot     0.626137\n",
       "6               pick_cluster     0.412176\n",
       "7                day_of_week     0.299920\n",
       "8                 is_weekday     0.075797"
      ]
     },
     "execution_count": 38,
     "metadata": {},
     "output_type": "execute_result"
    }
   ],
   "source": [
    "best_model.get_feature_importance(prettified=True)"
   ]
  },
  {
   "cell_type": "code",
   "execution_count": 16,
   "metadata": {},
   "outputs": [],
   "source": [
    "train_df['predicted_fare'] = train_df_preds/3\n",
    "test_df['predicted_fare'] = test_df_preds/3"
   ]
  },
  {
   "cell_type": "code",
   "execution_count": 17,
   "metadata": {},
   "outputs": [],
   "source": [
    "train_df['predicted_fare_difference'] = train_df['fare'] - train_df['predicted_fare']\n",
    "test_df['predicted_fare_difference'] = test_df['fare'] - test_df['predicted_fare']"
   ]
  },
  {
   "cell_type": "code",
   "execution_count": 18,
   "metadata": {},
   "outputs": [],
   "source": [
    "train_df['predicted_fare_difference_per_fare'] = train_df['predicted_fare_difference'] / (train_df['fare']+1)\n",
    "test_df['predicted_fare_difference_per_fare'] = test_df['predicted_fare_difference']  / (test_df['fare']+1)"
   ]
  },
  {
   "cell_type": "code",
   "execution_count": 19,
   "metadata": {},
   "outputs": [
    {
     "data": {
      "text/plain": [
       "<matplotlib.axes._subplots.AxesSubplot at 0x7fc7b782bc10>"
      ]
     },
     "execution_count": 19,
     "metadata": {},
     "output_type": "execute_result"
    },
    {
     "data": {
      "image/png": "[encoded data removed]",
      "text/plain": [
       "<Figure size 432x288 with 1 Axes>"
      ]
     },
     "metadata": {
      "needs_background": "light"
     },
     "output_type": "display_data"
    }
   ],
   "source": [
    "sns.distplot(train_df[train_df['label']==1]['predicted_fare_difference'], hist=False)\n",
    "sns.distplot(train_df[train_df['label']==0]['predicted_fare_difference'], hist=False)"
   ]
  },
  {
   "cell_type": "code",
   "execution_count": 20,
   "metadata": {},
   "outputs": [
    {
     "data": {
      "text/plain": [
       "count    15441.000000\n",
       "mean         0.431176\n",
       "std        125.704468\n",
       "min      -1410.410600\n",
       "25%        -36.280513\n",
       "50%        -11.620245\n",
       "75%         19.370346\n",
       "max       9664.032202\n",
       "Name: predicted_fare_difference, dtype: float64"
      ]
     },
     "execution_count": 20,
     "metadata": {},
     "output_type": "execute_result"
    }
   ],
   "source": [
    "train_df[train_df['label']==1]['predicted_fare_difference'].describe()"
   ]
  },
  {
   "cell_type": "code",
   "execution_count": 21,
   "metadata": {},
   "outputs": [
    {
     "data": {
      "text/plain": [
       "count     1526.000000\n",
       "mean       138.788543\n",
       "std       1424.977659\n",
       "min     -12929.989769\n",
       "25%        -53.764118\n",
       "50%         44.217855\n",
       "75%        322.617993\n",
       "max      23250.554046\n",
       "Name: predicted_fare_difference, dtype: float64"
      ]
     },
     "execution_count": 21,
     "metadata": {},
     "output_type": "execute_result"
    }
   ],
   "source": [
    "train_df[train_df['label']==0]['predicted_fare_difference'].describe()"
   ]
  },
  {
   "cell_type": "code",
   "execution_count": 22,
   "metadata": {},
   "outputs": [],
   "source": [
    "# train_df = train_df.drop(['predicted_fare'],axis=1)\n",
    "# test_df = test_df.drop(['predicted_fare'],axis=1)"
   ]
  },
  {
   "cell_type": "code",
   "execution_count": 23,
   "metadata": {},
   "outputs": [],
   "source": [
    "train_df.to_csv('train_df_reg.csv',index=False)\n",
    "test_df.to_csv('test_df_reg.csv',index=False)"
   ]
  },
  {
   "cell_type": "code",
   "execution_count": null,
   "metadata": {},
   "outputs": [],
   "source": []
  }
 ],
 "metadata": {
  "kernelspec": {
   "display_name": "Python 3",
   "language": "python",
   "name": "python3"
  },
  "language_info": {
   "codemirror_mode": {
    "name": "ipython",
    "version": 3
   },
   "file_extension": ".py",
   "mimetype": "text/x-python",
   "name": "python",
   "nbconvert_exporter": "python",
   "pygments_lexer": "ipython3",
   "version": "3.7.4"
  }
 },
 "nbformat": 4,
 "nbformat_minor": 4
}
