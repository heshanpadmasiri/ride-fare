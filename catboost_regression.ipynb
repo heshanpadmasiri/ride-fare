{
 "cells": [
  {
   "cell_type": "code",
   "execution_count": 19,
   "metadata": {},
   "outputs": [],
   "source": [
    "import pandas as pd\n",
    "import numpy as np\n",
    "\n",
    "from sklearn.model_selection import KFold\n",
    "from sklearn.metrics import f1_score\n",
    "\n",
    "from catboost import Pool, cv,CatBoostRegressor"
   ]
  },
  {
   "cell_type": "code",
   "execution_count": 20,
   "metadata": {},
   "outputs": [],
   "source": [
    "train_df = pd.read_csv('train_df.csv')\n",
    "test_df = pd.read_csv('test_df.csv')\n",
    "submission_df = pd.read_csv('sample_submission.csv')"
   ]
  },
  {
   "cell_type": "code",
   "execution_count": 21,
   "metadata": {},
   "outputs": [],
   "source": [
    "data = train_df[train_df['label'] == 1].drop(['label'], axis=1).dropna()"
   ]
  },
  {
   "cell_type": "code",
   "execution_count": 22,
   "metadata": {},
   "outputs": [
    {
     "data": {
      "text/plain": [
       "Index(['additional_fare', 'duration', 'meter_waiting', 'meter_waiting_fare',\n",
       "       'meter_waiting_till_pickup', 'fare', 'pickup_date', 'pickup_hour',\n",
       "       'pickup_minute', 'drop_date', 'drop_hour', 'drop_minute',\n",
       "       'pick_cluster', 'is_more_than_one_day', 'distance_km', 'fare_per_km'],\n",
       "      dtype='object')"
      ]
     },
     "execution_count": 22,
     "metadata": {},
     "output_type": "execute_result"
    }
   ],
   "source": [
    "data.columns"
   ]
  },
  {
   "cell_type": "code",
   "execution_count": 23,
   "metadata": {},
   "outputs": [],
   "source": [
    "cat_features = ['pickup_date', 'pickup_hour',\n",
    "       'pickup_minute', 'drop_date', 'drop_hour', 'drop_minute','pick_cluster','is_more_than_one_day']\n",
    "\n",
    "features = ['additional_fare','duration', 'meter_waiting','meter_waiting_fare',\n",
    "       'meter_waiting_till_pickup', 'pickup_date', 'pickup_hour',\n",
    "       'pickup_minute', 'drop_date', 'drop_hour', 'drop_minute',\n",
    "       'pick_cluster', 'is_more_than_one_day', 'distance_km']"
   ]
  },
  {
   "cell_type": "code",
   "execution_count": 24,
   "metadata": {},
   "outputs": [],
   "source": [
    "X = data[features]\n",
    "y = data['fare'].values"
   ]
  },
  {
   "cell_type": "code",
   "execution_count": 30,
   "metadata": {},
   "outputs": [],
   "source": [
    "train_df_X = train_df[features]\n",
    "train_df_pool = Pool(data=train_df_X,cat_features=cat_features)\n",
    "test_df_X = test_df[features]\n",
    "test_df_pool = Pool(data=test_df_X,cat_features=cat_features)"
   ]
  },
  {
   "cell_type": "code",
   "execution_count": 31,
   "metadata": {},
   "outputs": [],
   "source": [
    "train_df_preds = np.zeros(train_df.shape[0])\n",
    "test_df_preds = np.zeros(test_df.shape[0])"
   ]
  },
  {
   "cell_type": "code",
   "execution_count": 26,
   "metadata": {},
   "outputs": [],
   "source": [
    "params = {\n",
    "    'loss_function':'RMSE',\n",
    "    'random_state':0,\n",
    "    'early_stopping_rounds':50,\n",
    "    'eval_metric':'RMSE'\n",
    "}"
   ]
  },
  {
   "cell_type": "code",
   "execution_count": 27,
   "metadata": {},
   "outputs": [],
   "source": [
    "kf = KFold(n_splits=3)"
   ]
  },
  {
   "cell_type": "code",
   "execution_count": 32,
   "metadata": {},
   "outputs": [
    {
     "name": "stdout",
     "output_type": "stream",
     "text": [
      "Learning rate set to 0.071592\n",
      "0:\tlearn: 354.3756166\ttest: 267.7168743\tbest: 267.7168743 (0)\ttotal: 14.3ms\tremaining: 14.3s\n",
      "10:\tlearn: 271.6204979\ttest: 189.3425811\tbest: 189.3425811 (10)\ttotal: 142ms\tremaining: 12.8s\n",
      "20:\tlearn: 222.9650976\ttest: 157.6134756\tbest: 157.6134756 (20)\ttotal: 269ms\tremaining: 12.5s\n",
      "30:\tlearn: 188.5990500\ttest: 140.2556710\tbest: 140.2556710 (30)\ttotal: 388ms\tremaining: 12.1s\n",
      "40:\tlearn: 161.0421151\ttest: 128.8638824\tbest: 128.8638824 (40)\ttotal: 511ms\tremaining: 11.9s\n",
      "50:\tlearn: 141.5152878\ttest: 118.4732542\tbest: 118.4732542 (50)\ttotal: 626ms\tremaining: 11.7s\n",
      "60:\tlearn: 127.0218551\ttest: 115.3758193\tbest: 115.2246592 (59)\ttotal: 743ms\tremaining: 11.4s\n",
      "70:\tlearn: 115.2843666\ttest: 112.7276744\tbest: 112.7062121 (67)\ttotal: 884ms\tremaining: 11.6s\n",
      "80:\tlearn: 103.7126075\ttest: 111.4448930\tbest: 111.3673950 (78)\ttotal: 1.08s\tremaining: 12.3s\n",
      "90:\tlearn: 96.4449062\ttest: 110.8679082\tbest: 110.7994282 (89)\ttotal: 1.21s\tremaining: 12.1s\n",
      "100:\tlearn: 89.8418424\ttest: 109.7821165\tbest: 109.7266324 (99)\ttotal: 1.34s\tremaining: 12s\n",
      "110:\tlearn: 84.5834557\ttest: 108.9952689\tbest: 108.9952689 (110)\ttotal: 1.47s\tremaining: 11.8s\n",
      "120:\tlearn: 79.8560438\ttest: 107.8142963\tbest: 107.8142963 (120)\ttotal: 1.6s\tremaining: 11.6s\n",
      "130:\tlearn: 76.7690671\ttest: 108.1378632\tbest: 107.8142963 (120)\ttotal: 1.71s\tremaining: 11.3s\n",
      "140:\tlearn: 73.5181434\ttest: 107.2221564\tbest: 107.0955336 (139)\ttotal: 1.84s\tremaining: 11.2s\n",
      "150:\tlearn: 70.6221170\ttest: 107.2470717\tbest: 107.0098883 (142)\ttotal: 1.97s\tremaining: 11.1s\n",
      "160:\tlearn: 67.8823322\ttest: 106.8080814\tbest: 106.7535767 (159)\ttotal: 2.1s\tremaining: 11s\n",
      "170:\tlearn: 64.8341569\ttest: 105.8558707\tbest: 105.8558707 (170)\ttotal: 2.23s\tremaining: 10.8s\n",
      "180:\tlearn: 62.2532208\ttest: 105.1549848\tbest: 105.1013137 (179)\ttotal: 2.38s\tremaining: 10.8s\n",
      "190:\tlearn: 60.3919731\ttest: 105.2578536\tbest: 105.0605506 (181)\ttotal: 2.59s\tremaining: 11s\n",
      "200:\tlearn: 58.6450202\ttest: 104.7392359\tbest: 104.7392359 (200)\ttotal: 2.74s\tremaining: 10.9s\n",
      "210:\tlearn: 57.2112095\ttest: 104.8995840\tbest: 104.7392359 (200)\ttotal: 2.89s\tremaining: 10.8s\n",
      "220:\tlearn: 55.8021095\ttest: 104.6945298\tbest: 104.6945298 (220)\ttotal: 3.02s\tremaining: 10.6s\n",
      "230:\tlearn: 54.2593516\ttest: 104.5024398\tbest: 104.4462737 (228)\ttotal: 3.17s\tremaining: 10.6s\n",
      "240:\tlearn: 53.1086570\ttest: 104.2012621\tbest: 104.2005283 (239)\ttotal: 3.3s\tremaining: 10.4s\n",
      "250:\tlearn: 52.0990488\ttest: 104.2869793\tbest: 104.1301130 (244)\ttotal: 3.44s\tremaining: 10.3s\n",
      "260:\tlearn: 51.3078967\ttest: 104.6757143\tbest: 104.1301130 (244)\ttotal: 3.57s\tremaining: 10.1s\n",
      "270:\tlearn: 50.4612232\ttest: 104.5660416\tbest: 104.1301130 (244)\ttotal: 3.72s\tremaining: 10s\n",
      "280:\tlearn: 49.6477070\ttest: 104.7573741\tbest: 104.1301130 (244)\ttotal: 3.84s\tremaining: 9.83s\n",
      "290:\tlearn: 48.9191632\ttest: 104.9217159\tbest: 104.1301130 (244)\ttotal: 3.99s\tremaining: 9.72s\n",
      "Stopped by overfitting detector  (50 iterations wait)\n",
      "\n",
      "bestTest = 104.130113\n",
      "bestIteration = 244\n",
      "\n",
      "Shrink model to first 245 iterations.\n",
      "Validation RMSE 104.13011300881223\n",
      "Learning rate set to 0.071592\n",
      "0:\tlearn: 356.8735712\ttest: 262.4884822\tbest: 262.4884822 (0)\ttotal: 12ms\tremaining: 11.9s\n",
      "10:\tlearn: 269.1573744\ttest: 179.7575425\tbest: 179.7575425 (10)\ttotal: 160ms\tremaining: 14.4s\n",
      "20:\tlearn: 223.9986739\ttest: 156.2696668\tbest: 156.2696668 (20)\ttotal: 288ms\tremaining: 13.4s\n",
      "30:\tlearn: 189.3964624\ttest: 150.3092496\tbest: 149.1041729 (29)\ttotal: 417ms\tremaining: 13s\n",
      "40:\tlearn: 164.7409154\ttest: 162.5131170\tbest: 149.1041729 (29)\ttotal: 531ms\tremaining: 12.4s\n",
      "50:\tlearn: 141.8078186\ttest: 170.6518729\tbest: 149.1041729 (29)\ttotal: 660ms\tremaining: 12.3s\n",
      "60:\tlearn: 124.0558977\ttest: 171.8036517\tbest: 149.1041729 (29)\ttotal: 819ms\tremaining: 12.6s\n",
      "70:\tlearn: 110.9641842\ttest: 180.7044863\tbest: 149.1041729 (29)\ttotal: 1.02s\tremaining: 13.4s\n",
      "Stopped by overfitting detector  (50 iterations wait)\n",
      "\n",
      "bestTest = 149.1041729\n",
      "bestIteration = 29\n",
      "\n",
      "Shrink model to first 30 iterations.\n",
      "Validation RMSE 149.10417289605667\n",
      "Learning rate set to 0.071592\n",
      "0:\tlearn: 265.4719049\ttest: 430.8113260\tbest: 430.8113260 (0)\ttotal: 13ms\tremaining: 13s\n",
      "10:\tlearn: 179.1010352\ttest: 373.9206120\tbest: 373.9206120 (10)\ttotal: 161ms\tremaining: 14.5s\n",
      "20:\tlearn: 135.4602350\ttest: 351.6940715\tbest: 351.6940715 (20)\ttotal: 281ms\tremaining: 13.1s\n",
      "30:\tlearn: 111.5004522\ttest: 339.2811018\tbest: 339.2811018 (30)\ttotal: 416ms\tremaining: 13s\n",
      "40:\tlearn: 98.7988589\ttest: 330.6643673\tbest: 330.6643673 (40)\ttotal: 542ms\tremaining: 12.7s\n",
      "50:\tlearn: 90.1463135\ttest: 325.2425282\tbest: 325.1999545 (49)\ttotal: 682ms\tremaining: 12.7s\n",
      "60:\tlearn: 84.6333585\ttest: 321.6072535\tbest: 321.6072535 (60)\ttotal: 801ms\tremaining: 12.3s\n",
      "70:\tlearn: 79.8160883\ttest: 318.7874640\tbest: 318.6145453 (69)\ttotal: 933ms\tremaining: 12.2s\n",
      "80:\tlearn: 75.9460055\ttest: 317.1718300\tbest: 317.1718300 (80)\ttotal: 1.1s\tremaining: 12.5s\n",
      "90:\tlearn: 72.8001646\ttest: 315.0308906\tbest: 315.0308906 (90)\ttotal: 1.28s\tremaining: 12.8s\n",
      "100:\tlearn: 70.2924402\ttest: 313.8749363\tbest: 313.7901401 (99)\ttotal: 1.41s\tremaining: 12.5s\n",
      "110:\tlearn: 67.6638329\ttest: 313.6480185\tbest: 313.6419711 (108)\ttotal: 1.56s\tremaining: 12.5s\n",
      "120:\tlearn: 65.4131571\ttest: 313.0182131\tbest: 312.8987282 (114)\ttotal: 1.69s\tremaining: 12.3s\n",
      "130:\tlearn: 63.6582660\ttest: 312.5793851\tbest: 312.5793851 (130)\ttotal: 1.84s\tremaining: 12.2s\n",
      "140:\tlearn: 61.7527229\ttest: 312.1717938\tbest: 312.1717938 (140)\ttotal: 1.97s\tremaining: 12s\n",
      "150:\tlearn: 60.1889773\ttest: 312.0636029\tbest: 311.9468328 (149)\ttotal: 2.11s\tremaining: 11.9s\n",
      "160:\tlearn: 59.1278793\ttest: 311.8761984\tbest: 311.8761984 (160)\ttotal: 2.24s\tremaining: 11.7s\n",
      "170:\tlearn: 57.9288187\ttest: 311.7373216\tbest: 311.7373216 (170)\ttotal: 2.38s\tremaining: 11.6s\n",
      "180:\tlearn: 56.8887338\ttest: 311.5525280\tbest: 311.5009794 (179)\ttotal: 2.51s\tremaining: 11.3s\n",
      "190:\tlearn: 55.8903813\ttest: 311.3809112\tbest: 311.3809112 (190)\ttotal: 2.65s\tremaining: 11.2s\n",
      "200:\tlearn: 55.2332887\ttest: 311.3258916\tbest: 311.3258916 (200)\ttotal: 2.78s\tremaining: 11s\n",
      "210:\tlearn: 54.2599004\ttest: 311.5121416\tbest: 311.2410365 (205)\ttotal: 2.93s\tremaining: 11s\n",
      "220:\tlearn: 53.3390227\ttest: 311.3784133\tbest: 311.2410365 (205)\ttotal: 3.06s\tremaining: 10.8s\n",
      "230:\tlearn: 52.5776364\ttest: 311.0106407\tbest: 311.0106407 (230)\ttotal: 3.22s\tremaining: 10.7s\n",
      "240:\tlearn: 51.8761603\ttest: 310.9912715\tbest: 310.9912715 (240)\ttotal: 3.35s\tremaining: 10.5s\n",
      "250:\tlearn: 51.2610362\ttest: 310.8367615\tbest: 310.8367615 (250)\ttotal: 3.5s\tremaining: 10.5s\n",
      "260:\tlearn: 50.6734369\ttest: 310.8469954\tbest: 310.8038057 (252)\ttotal: 3.63s\tremaining: 10.3s\n",
      "270:\tlearn: 50.0958375\ttest: 310.7122528\tbest: 310.7122528 (270)\ttotal: 3.78s\tremaining: 10.2s\n",
      "280:\tlearn: 49.5190645\ttest: 310.3607135\tbest: 310.3607135 (280)\ttotal: 3.91s\tremaining: 10s\n",
      "290:\tlearn: 49.0141301\ttest: 310.1725960\tbest: 310.1725960 (290)\ttotal: 4.06s\tremaining: 9.89s\n",
      "300:\tlearn: 48.4292120\ttest: 310.1745792\tbest: 310.1173095 (296)\ttotal: 4.19s\tremaining: 9.74s\n",
      "310:\tlearn: 47.9760602\ttest: 309.9331957\tbest: 309.9331957 (310)\ttotal: 4.34s\tremaining: 9.62s\n",
      "320:\tlearn: 47.5401901\ttest: 309.7707777\tbest: 309.7707777 (320)\ttotal: 4.47s\tremaining: 9.46s\n",
      "330:\tlearn: 47.1250468\ttest: 309.5716729\tbest: 309.5418586 (328)\ttotal: 4.62s\tremaining: 9.33s\n",
      "340:\tlearn: 46.7571290\ttest: 309.3484734\tbest: 309.3484734 (340)\ttotal: 4.78s\tremaining: 9.24s\n",
      "350:\tlearn: 46.3610644\ttest: 309.2304713\tbest: 309.2302970 (349)\ttotal: 5.01s\tremaining: 9.26s\n",
      "360:\tlearn: 46.0282120\ttest: 309.0867928\tbest: 309.0867928 (360)\ttotal: 5.2s\tremaining: 9.21s\n",
      "370:\tlearn: 45.6723187\ttest: 309.0759042\tbest: 309.0718689 (366)\ttotal: 5.34s\tremaining: 9.06s\n",
      "380:\tlearn: 45.3199382\ttest: 309.0359545\tbest: 309.0348055 (379)\ttotal: 5.48s\tremaining: 8.9s\n",
      "390:\tlearn: 44.9371521\ttest: 308.9694671\tbest: 308.9022353 (388)\ttotal: 5.63s\tremaining: 8.77s\n",
      "400:\tlearn: 44.7404468\ttest: 308.9630752\tbest: 308.9022353 (388)\ttotal: 5.76s\tremaining: 8.6s\n",
      "410:\tlearn: 44.4326389\ttest: 308.9460589\tbest: 308.9022353 (388)\ttotal: 5.9s\tremaining: 8.46s\n",
      "420:\tlearn: 44.2089742\ttest: 309.0449192\tbest: 308.9022353 (388)\ttotal: 6.04s\tremaining: 8.3s\n",
      "430:\tlearn: 43.8981291\ttest: 308.9352929\tbest: 308.9022353 (388)\ttotal: 6.19s\tremaining: 8.17s\n",
      "440:\tlearn: 43.6524744\ttest: 308.8556302\tbest: 308.8501721 (435)\ttotal: 6.32s\tremaining: 8.01s\n"
     ]
    },
    {
     "name": "stdout",
     "output_type": "stream",
     "text": [
      "450:\tlearn: 43.4069813\ttest: 308.8067475\tbest: 308.7764279 (446)\ttotal: 6.47s\tremaining: 7.87s\n",
      "460:\tlearn: 43.2148225\ttest: 308.7920701\tbest: 308.7764279 (446)\ttotal: 6.61s\tremaining: 7.73s\n",
      "470:\tlearn: 42.9523793\ttest: 308.7320597\tbest: 308.7320597 (470)\ttotal: 6.76s\tremaining: 7.59s\n",
      "480:\tlearn: 42.7110330\ttest: 308.6813259\tbest: 308.6783896 (477)\ttotal: 6.89s\tremaining: 7.43s\n",
      "490:\tlearn: 42.5069397\ttest: 308.6399250\tbest: 308.6399250 (490)\ttotal: 7.04s\tremaining: 7.29s\n",
      "500:\tlearn: 42.3066194\ttest: 308.6177618\tbest: 308.5882643 (497)\ttotal: 7.17s\tremaining: 7.14s\n",
      "510:\tlearn: 42.1021842\ttest: 308.6775520\tbest: 308.5882643 (497)\ttotal: 7.34s\tremaining: 7.02s\n",
      "520:\tlearn: 41.8506397\ttest: 308.6231362\tbest: 308.5882643 (497)\ttotal: 7.48s\tremaining: 6.88s\n",
      "530:\tlearn: 41.6606749\ttest: 308.5960330\tbest: 308.5882643 (497)\ttotal: 7.63s\tremaining: 6.74s\n",
      "540:\tlearn: 41.4562550\ttest: 308.5802348\tbest: 308.5695906 (538)\ttotal: 7.76s\tremaining: 6.58s\n",
      "550:\tlearn: 41.2959388\ttest: 308.5708627\tbest: 308.5521275 (548)\ttotal: 7.91s\tremaining: 6.44s\n",
      "560:\tlearn: 41.2250644\ttest: 308.5591266\tbest: 308.5521275 (548)\ttotal: 8.04s\tremaining: 6.29s\n",
      "570:\tlearn: 41.0456693\ttest: 308.5556891\tbest: 308.5422149 (566)\ttotal: 8.19s\tremaining: 6.15s\n",
      "580:\tlearn: 40.8588805\ttest: 308.5642009\tbest: 308.5422149 (566)\ttotal: 8.32s\tremaining: 6s\n",
      "590:\tlearn: 40.6887725\ttest: 308.6152295\tbest: 308.5422149 (566)\ttotal: 8.47s\tremaining: 5.86s\n",
      "600:\tlearn: 40.5201590\ttest: 308.6318030\tbest: 308.5422149 (566)\ttotal: 8.61s\tremaining: 5.71s\n",
      "610:\tlearn: 40.3458789\ttest: 308.5640376\tbest: 308.5422149 (566)\ttotal: 8.75s\tremaining: 5.57s\n",
      "620:\tlearn: 40.1360129\ttest: 308.5109013\tbest: 308.5101786 (619)\ttotal: 8.89s\tremaining: 5.42s\n",
      "630:\tlearn: 40.0005637\ttest: 308.5037317\tbest: 308.5037317 (630)\ttotal: 9.07s\tremaining: 5.3s\n",
      "640:\tlearn: 39.7711675\ttest: 308.4827245\tbest: 308.4827245 (640)\ttotal: 9.25s\tremaining: 5.18s\n",
      "650:\tlearn: 39.6721109\ttest: 308.4715194\tbest: 308.4708631 (649)\ttotal: 9.43s\tremaining: 5.05s\n",
      "660:\tlearn: 39.4944087\ttest: 308.3654591\tbest: 308.3654512 (659)\ttotal: 9.59s\tremaining: 4.92s\n",
      "670:\tlearn: 39.3457770\ttest: 308.3398083\tbest: 308.3398083 (670)\ttotal: 9.78s\tremaining: 4.8s\n",
      "680:\tlearn: 39.2005987\ttest: 308.2712844\tbest: 308.2712844 (680)\ttotal: 9.98s\tremaining: 4.68s\n",
      "690:\tlearn: 39.0360685\ttest: 308.2776867\tbest: 308.2712844 (680)\ttotal: 10.3s\tremaining: 4.59s\n",
      "700:\tlearn: 38.9295132\ttest: 308.2932166\tbest: 308.2693496 (691)\ttotal: 10.5s\tremaining: 4.47s\n",
      "710:\tlearn: 38.8251757\ttest: 308.2373725\tbest: 308.2367238 (708)\ttotal: 10.7s\tremaining: 4.36s\n",
      "720:\tlearn: 38.7046115\ttest: 308.2510340\tbest: 308.2367238 (708)\ttotal: 11s\tremaining: 4.26s\n",
      "730:\tlearn: 38.4875964\ttest: 308.2997305\tbest: 308.2367238 (708)\ttotal: 11.2s\tremaining: 4.13s\n",
      "740:\tlearn: 38.3979683\ttest: 308.3018168\tbest: 308.2367238 (708)\ttotal: 11.4s\tremaining: 3.99s\n",
      "750:\tlearn: 38.2325582\ttest: 308.2910760\tbest: 308.2367238 (708)\ttotal: 11.6s\tremaining: 3.84s\n",
      "Stopped by overfitting detector  (50 iterations wait)\n",
      "\n",
      "bestTest = 308.2367238\n",
      "bestIteration = 708\n",
      "\n",
      "Shrink model to first 709 iterations.\n",
      "Validation RMSE 308.2367237645361\n"
     ]
    }
   ],
   "source": [
    "validation_scores = []\n",
    "models = []\n",
    "for train_index, test_index in kf.split(X, y):\n",
    "    X_train, X_test = X.iloc[train_index,:], X.iloc[test_index,:]\n",
    "    y_train, y_test = y[train_index], y[test_index]\n",
    "    train_pool = Pool(data=X_train, label=y_train,cat_features=cat_features)\n",
    "    test_pool = Pool(data=X_test, label=y_test, cat_features=cat_features)    \n",
    "    model = CatBoostRegressor(**params)\n",
    "    model.fit(X=train_pool, eval_set=test_pool,verbose=10)\n",
    "    validation_score = model.best_score_['validation']['RMSE']\n",
    "    print('Validation RMSE',validation_score)\n",
    "    validation_scores.append(validation_score)\n",
    "    models.append(model)\n",
    "    \n",
    "    train_df_preds += model.predict(train_df_pool)\n",
    "    test_df_preds += model.predict(test_df_pool)"
   ]
  },
  {
   "cell_type": "code",
   "execution_count": 33,
   "metadata": {},
   "outputs": [],
   "source": [
    "train_df['predicted_fare'] = train_df_preds/3\n",
    "test_df['predicted_fare'] = test_df_preds/3"
   ]
  },
  {
   "cell_type": "code",
   "execution_count": 34,
   "metadata": {},
   "outputs": [],
   "source": [
    "train_df.to_csv('train_df.csv',index=False)\n",
    "test_df.to_csv('test_df.csv',index=False)"
   ]
  },
  {
   "cell_type": "code",
   "execution_count": null,
   "metadata": {},
   "outputs": [],
   "source": []
  }
 ],
 "metadata": {
  "kernelspec": {
   "display_name": "Python 3",
   "language": "python",
   "name": "python3"
  },
  "language_info": {
   "codemirror_mode": {
    "name": "ipython",
    "version": 3
   },
   "file_extension": ".py",
   "mimetype": "text/x-python",
   "name": "python",
   "nbconvert_exporter": "python",
   "pygments_lexer": "ipython3",
   "version": "3.7.4"
  }
 },
 "nbformat": 4,
 "nbformat_minor": 2
}
