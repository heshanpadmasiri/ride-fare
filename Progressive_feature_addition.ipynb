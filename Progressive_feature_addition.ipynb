{
 "cells": [
  {
   "cell_type": "code",
   "execution_count": 21,
   "metadata": {},
   "outputs": [],
   "source": [
    "import itertools\n",
    "\n",
    "import pandas as pd\n",
    "import numpy as np\n",
    "import matplotlib.pyplot as plt\n",
    "import seaborn as sns\n",
    "\n",
    "from sklearn.model_selection import KFold,StratifiedKFold\n",
    "from sklearn.linear_model import LinearRegression,LogisticRegression\n",
    "from sklearn.svm import SVR, SVC\n",
    "from sklearn.ensemble import RandomForestRegressor,ExtraTreesClassifier,RandomForestClassifier\n",
    "from sklearn.preprocessing import StandardScaler,KBinsDiscretizer,LabelEncoder,MinMaxScaler\n",
    "from sklearn.metrics import mean_squared_error,f1_score,confusion_matrix,log_loss\n",
    "from sklearn.kernel_approximation import Nystroem\n",
    "from sklearn.neighbors import KNeighborsClassifier\n",
    "from sklearn.decomposition import PCA\n",
    "\n",
    "\n",
    "from catboost import Pool, cv,CatBoostClassifier,CatBoostRegressor\n",
    "\n",
    "import tensorflow as tf\n",
    "from tensorflow.keras.layers import Input, Dense, concatenate,Dropout\n",
    "from tensorflow.keras.models import Model, Sequential\n",
    "from tensorflow.keras import regularizers\n",
    "import tensorflow_addons as tfa\n",
    "\n",
    "from tqdm import tqdm\n",
    "\n",
    "import lightgbm as lgb\n",
    "\n",
    "import xgboost as xgb\n",
    "from xgboost import XGBClassifier,XGBRegressor,DMatrix,plot_tree\n",
    "\n",
    "from imblearn.over_sampling import RandomOverSampler,SMOTE, ADASYN\n",
    "\n",
    "import warnings\n",
    "warnings.filterwarnings('ignore')"
   ]
  },
  {
   "cell_type": "code",
   "execution_count": 2,
   "metadata": {},
   "outputs": [],
   "source": [
    "train_df = pd.read_csv('train_df_final.csv')\n",
    "train_df = train_df.fillna(0)\n",
    "train_df_org = pd.read_csv('train_df_final_blanced.csv')\n",
    "train_df_org = train_df_org.fillna(0)\n",
    "test_df = pd.read_csv('test_df_final.csv')\n",
    "test_df = test_df.fillna(0)\n",
    "submission_df = pd.read_csv('sample_submission.csv')\n",
    "\n",
    "y = train_df['label'].values\n",
    "y_org = train_df_org['label'].values"
   ]
  },
  {
   "cell_type": "code",
   "execution_count": 3,
   "metadata": {},
   "outputs": [],
   "source": [
    "base_features = [\n",
    "    'fare_per_distance',\n",
    "    'fare_per_duration',\n",
    "    'avg_speed',\n",
    "    'meter_waiting_per_duration',\n",
    "    'meter_waiting_fare_per_meter_waiting',\n",
    "    'meter_waiting_fare_per_duration',\n",
    "    'addtional_fare_per_fare',\n",
    "    'addtional_fare_per_distance',\n",
    "    'addtional_fare_per_duration',\n",
    "    'fare-additional_fare_per_distance',\n",
    "    'fare-additional_fare_per_duration',\n",
    "    'fare-additional_fare-meter_waiting_fare_per_distance',\n",
    "    'fare-additional_fare-meter_waiting_fare_per_duration',\n",
    "    'meter_waiting_till_pickup_per_meter_waiting',\n",
    "    'meter_waiting_after_pickup_per_duration',\n",
    "    'meter_waiting_till_pickup_per_duration',\n",
    "    'meter_waiting_till_pickup_per_distance',\n",
    "    'meter_waiting_after_pickup_per_distance',\n",
    "    'meter_waiting_till_pickup_per_fare',\n",
    "    'meter_waiting_after_pickup_per_fare',\n",
    "    'meter_waiting_till_pickup_per_meter_waiting_fare',\n",
    "    'meter_waiting_after_pickup_per_meter_waiting_fare',    \n",
    "]\n",
    "\n",
    "base_cat_features = []\n",
    "\n",
    "cat_cols = [\n",
    "    'fare_anomaly',\n",
    "    'additional_fare_anomaly', \n",
    "    'duration_anomaly',\n",
    "    'meter_waiting_anomaly', \n",
    "    'meter_waiting_fare_anomaly',\n",
    "    'meter_waiting_till_pickup_anomaly', \n",
    "    'additional_fare_duration_anomaly',\n",
    "    'additional_fare_meter_waiting_anomaly',\n",
    "    'additional_fare_meter_waiting_fare_anomaly',\n",
    "    'additional_fare_meter_waiting_till_pickup_anomaly',\n",
    "    'duration_meter_waiting_anomaly', \n",
    "    'duration_meter_waiting_fare_anomaly',\n",
    "    'duration_meter_waiting_till_pickup_anomaly',\n",
    "    'meter_waiting_meter_waiting_fare_anomaly',\n",
    "    'meter_waiting_meter_waiting_till_pickup_anomaly',\n",
    "    'meter_waiting_fare_meter_waiting_till_pickup_anomaly',\n",
    "    'additional_fare_duration_meter_waiting_anomaly',\n",
    "    'additional_fare_duration_meter_waiting_fare_anomaly',\n",
    "    'additional_fare_duration_meter_waiting_till_pickup_anomaly',\n",
    "    'additional_fare_meter_waiting_meter_waiting_fare_anomaly',\n",
    "    'additional_fare_meter_waiting_meter_waiting_till_pickup_anomaly',\n",
    "    'additional_fare_meter_waiting_fare_meter_waiting_till_pickup_anomaly',\n",
    "    'duration_meter_waiting_meter_waiting_fare_anomaly',\n",
    "    'duration_meter_waiting_meter_waiting_till_pickup_anomaly',\n",
    "    'duration_meter_waiting_fare_meter_waiting_till_pickup_anomaly',\n",
    "    'meter_waiting_meter_waiting_fare_meter_waiting_till_pickup_anomaly',\n",
    "    'additional_fare_duration_meter_waiting_meter_waiting_fare_anomaly',\n",
    "    'additional_fare_duration_meter_waiting_meter_waiting_till_pickup_anomaly',\n",
    "    'additional_fare_duration_meter_waiting_fare_meter_waiting_till_pickup_anomaly',\n",
    "    'additional_fare_meter_waiting_meter_waiting_fare_meter_waiting_till_pickup_anomaly',\n",
    "    'duration_meter_waiting_meter_waiting_fare_meter_waiting_till_pickup_anomaly',\n",
    "    'pickup_date',\n",
    "    'pickup_hour',\n",
    "    'pickup_minute',\n",
    "    'drop_date',\n",
    "    'drop_hour',\n",
    "    'drop_minute',\n",
    "    'pick_cluster',\n",
    "    'is_more_than_one_day',\n",
    "    'pickup_timeslot',\n",
    "    'day_of_week',\n",
    "    'is_weekday',\n",
    "]"
   ]
  },
  {
   "cell_type": "code",
   "execution_count": 4,
   "metadata": {},
   "outputs": [],
   "source": [
    "catboost_params = {\n",
    "    'loss_function':'Logloss',\n",
    "    'random_state':0,\n",
    "    'early_stopping_rounds':50,\n",
    "    'eval_metric':'F1',\n",
    "    'border_count':512\n",
    "}"
   ]
  },
  {
   "cell_type": "code",
   "execution_count": 5,
   "metadata": {},
   "outputs": [],
   "source": [
    "def get_mean_accuracy(features, cat_features,y):\n",
    "    train = train_df[features]\n",
    "    test = test_df[features]\n",
    "    for each in cat_features:\n",
    "        train[each] = train[each].values.astype(int)\n",
    "        test[each] = test[each].values.astype(int)\n",
    "        \n",
    "    skf = StratifiedKFold(n_splits=3)\n",
    "    validation_scores = []\n",
    "    for train_index, test_index in skf.split(train, y):\n",
    "        X_train, X_test = train.iloc[train_index,:], train.iloc[test_index,:]\n",
    "        y_train, y_test = y[train_index], y[test_index]\n",
    "        train_pool = Pool(data=X_train, label=y_train,cat_features=cat_features)\n",
    "        test_pool = Pool(data=X_test, label=y_test, cat_features=cat_features)    \n",
    "        model = CatBoostClassifier(**catboost_params)\n",
    "        model.fit(X=train_pool, eval_set=test_pool,verbose=0)\n",
    "        \n",
    "        validation_scores.append(f1_score(y_test,model.predict(test_pool),average='micro'))\n",
    "    return np.mean(validation_scores), np.min(validation_scores)"
   ]
  },
  {
   "cell_type": "code",
   "execution_count": 6,
   "metadata": {},
   "outputs": [],
   "source": [
    "selected_features = base_features[:]\n",
    "other_features = [each for each in test_df.columns if each not in selected_features]"
   ]
  },
  {
   "cell_type": "code",
   "execution_count": 7,
   "metadata": {},
   "outputs": [],
   "source": [
    "mean_accuracy, _ = get_mean_accuracy(base_features,base_cat_features,y)\n",
    "feature = None"
   ]
  },
  {
   "cell_type": "code",
   "execution_count": 8,
   "metadata": {},
   "outputs": [],
   "source": [
    "remaining_features = other_features[:]\n",
    "# remaining_features.remove('predicted_duration_diff_bucket@predicted_avg_speed')\n",
    "# selected_features.append('predicted_duration_diff_bucket@predicted_avg_speed')"
   ]
  },
  {
   "cell_type": "code",
   "execution_count": 9,
   "metadata": {},
   "outputs": [
    {
     "name": "stdout",
     "output_type": "stream",
     "text": [
      "meter_waiting 0.9572106291720495\n",
      "fare 0.9572695740585805\n",
      "predicted_fare_diff_per_predicted_fare 0.9577999633991441\n",
      "predicted_duration_diff_bucket@predicted_avg_speed 0.9579179365454543\n",
      "is_more_than_one_day 0.9581537056699228\n",
      "predicted_duraton_diff_per_duraton@predicted_duraton_diff_per_distance 0.9583304048479877\n",
      "addtional_fare_per_duration_mean_diff 0.958448367572642\n",
      "CPU times: user 6h 30min 21s, sys: 17min 59s, total: 6h 48min 20s\n",
      "Wall time: 58min 10s\n"
     ]
    }
   ],
   "source": [
    "%%time\n",
    "while len(remaining_features)>0:\n",
    "    for new_feature in remaining_features:\n",
    "        features = selected_features + [new_feature]\n",
    "        cat_features = [feature for feature in features if feature in cat_cols]\n",
    "        mean,_ = get_mean_accuracy(features,cat_features,y)\n",
    "        if mean > mean_accuracy:\n",
    "            mean_accuracy = mean\n",
    "            feature = new_feature\n",
    "            print(new_feature, mean)\n",
    "    if feature != None:\n",
    "        selected_features.append(feature)\n",
    "        remaining_features.remove(feature)\n",
    "        feature = None\n",
    "    else:\n",
    "        break"
   ]
  },
  {
   "cell_type": "code",
   "execution_count": 10,
   "metadata": {},
   "outputs": [
    {
     "data": {
      "text/plain": [
       "['fare_per_distance',\n",
       " 'fare_per_duration',\n",
       " 'avg_speed',\n",
       " 'meter_waiting_per_duration',\n",
       " 'meter_waiting_fare_per_meter_waiting',\n",
       " 'meter_waiting_fare_per_duration',\n",
       " 'addtional_fare_per_fare',\n",
       " 'addtional_fare_per_distance',\n",
       " 'addtional_fare_per_duration',\n",
       " 'fare-additional_fare_per_distance',\n",
       " 'fare-additional_fare_per_duration',\n",
       " 'fare-additional_fare-meter_waiting_fare_per_distance',\n",
       " 'fare-additional_fare-meter_waiting_fare_per_duration',\n",
       " 'meter_waiting_till_pickup_per_meter_waiting',\n",
       " 'meter_waiting_after_pickup_per_duration',\n",
       " 'meter_waiting_till_pickup_per_duration',\n",
       " 'meter_waiting_till_pickup_per_distance',\n",
       " 'meter_waiting_after_pickup_per_distance',\n",
       " 'meter_waiting_till_pickup_per_fare',\n",
       " 'meter_waiting_after_pickup_per_fare',\n",
       " 'meter_waiting_till_pickup_per_meter_waiting_fare',\n",
       " 'meter_waiting_after_pickup_per_meter_waiting_fare',\n",
       " 'predicted_duration_diff_bucket@predicted_avg_speed',\n",
       " 'addtional_fare_per_duration_mean_diff']"
      ]
     },
     "execution_count": 10,
     "metadata": {},
     "output_type": "execute_result"
    }
   ],
   "source": [
    "selected_features"
   ]
  },
  {
   "cell_type": "code",
   "execution_count": 11,
   "metadata": {},
   "outputs": [],
   "source": [
    "features = selected_features[:]\n",
    "cat_features = [feature for feature in features if feature in cat_cols]"
   ]
  },
  {
   "cell_type": "code",
   "execution_count": 12,
   "metadata": {},
   "outputs": [],
   "source": [
    "train = train_df[features]\n",
    "test = test_df[features]\n",
    "train_org = train_df_org[features]\n",
    "y = train_df['label']\n",
    "for each in cat_features:\n",
    "    train[each] = train[each].values.astype(int)\n",
    "    test[each] = test[each].values.astype(int)\n",
    "    train_org[each] = train_org[each].values.astype(int)"
   ]
  },
  {
   "cell_type": "code",
   "execution_count": 13,
   "metadata": {},
   "outputs": [],
   "source": [
    "submission_pool = Pool(data=test_df[features], cat_features=cat_features)\n",
    "org_pool = Pool(data=train_org[features], cat_features=cat_features)"
   ]
  },
  {
   "cell_type": "code",
   "execution_count": 14,
   "metadata": {},
   "outputs": [
    {
     "name": "stdout",
     "output_type": "stream",
     "text": [
      "Learning rate set to 0.057693\n",
      "0:\tlearn: 0.9700138\ttest: 0.9663603\tbest: 0.9663603 (0)\ttotal: 17.9ms\tremaining: 17.9s\n",
      "10:\tlearn: 0.9725434\ttest: 0.9732773\tbest: 0.9745010 (9)\ttotal: 204ms\tremaining: 18.3s\n",
      "20:\tlearn: 0.9747554\ttest: 0.9772292\tbest: 0.9772292 (20)\ttotal: 398ms\tremaining: 18.5s\n",
      "30:\tlearn: 0.9757799\ttest: 0.9779609\tbest: 0.9782546 (29)\ttotal: 596ms\tremaining: 18.6s\n",
      "40:\tlearn: 0.9763441\ttest: 0.9782463\tbest: 0.9782546 (29)\ttotal: 774ms\tremaining: 18.1s\n",
      "50:\tlearn: 0.9768042\ttest: 0.9782421\tbest: 0.9783400 (43)\ttotal: 962ms\tremaining: 17.9s\n",
      "60:\tlearn: 0.9772227\ttest: 0.9783400\tbest: 0.9784379 (53)\ttotal: 1.15s\tremaining: 17.8s\n",
      "70:\tlearn: 0.9776373\ttest: 0.9783317\tbest: 0.9784379 (53)\ttotal: 1.34s\tremaining: 17.6s\n",
      "80:\tlearn: 0.9783463\ttest: 0.9784131\tbest: 0.9786173 (74)\ttotal: 1.52s\tremaining: 17.3s\n",
      "90:\tlearn: 0.9786806\ttest: 0.9787928\tbest: 0.9788949 (83)\ttotal: 1.73s\tremaining: 17.3s\n",
      "100:\tlearn: 0.9788682\ttest: 0.9791687\tbest: 0.9791687 (99)\ttotal: 1.92s\tremaining: 17s\n",
      "110:\tlearn: 0.9792006\ttest: 0.9791687\tbest: 0.9792627 (101)\ttotal: 2.1s\tremaining: 16.8s\n",
      "120:\tlearn: 0.9798638\ttest: 0.9792627\tbest: 0.9793567 (115)\ttotal: 2.29s\tremaining: 16.6s\n",
      "130:\tlearn: 0.9798600\ttest: 0.9788705\tbest: 0.9794507 (122)\ttotal: 2.48s\tremaining: 16.5s\n",
      "140:\tlearn: 0.9804317\ttest: 0.9789686\tbest: 0.9794507 (122)\ttotal: 2.67s\tremaining: 16.3s\n",
      "150:\tlearn: 0.9808135\ttest: 0.9789686\tbest: 0.9794507 (122)\ttotal: 2.86s\tremaining: 16.1s\n",
      "160:\tlearn: 0.9810995\ttest: 0.9789646\tbest: 0.9794507 (122)\ttotal: 3.05s\tremaining: 15.9s\n",
      "170:\tlearn: 0.9815757\ttest: 0.9787725\tbest: 0.9794507 (122)\ttotal: 3.24s\tremaining: 15.7s\n",
      "Stopped by overfitting detector  (50 iterations wait)\n",
      "\n",
      "bestTest = 0.9794507394\n",
      "bestIteration = 122\n",
      "\n",
      "Shrink model to first 123 iterations.\n",
      "Learning rate set to 0.057693\n",
      "0:\tlearn: 0.9703792\ttest: 0.9730967\tbest: 0.9730967 (0)\ttotal: 19.8ms\tremaining: 19.8s\n",
      "10:\tlearn: 0.9740607\ttest: 0.9757772\tbest: 0.9763449 (7)\ttotal: 199ms\tremaining: 17.8s\n",
      "20:\tlearn: 0.9757541\ttest: 0.9767975\tbest: 0.9767975 (20)\ttotal: 289ms\tremaining: 13.5s\n",
      "30:\tlearn: 0.9761177\ttest: 0.9768775\tbest: 0.9770861 (22)\ttotal: 388ms\tremaining: 12.1s\n",
      "40:\tlearn: 0.9764841\ttest: 0.9775313\tbest: 0.9775313 (40)\ttotal: 494ms\tremaining: 11.6s\n",
      "50:\tlearn: 0.9769978\ttest: 0.9778118\tbest: 0.9779053 (48)\ttotal: 602ms\tremaining: 11.2s\n",
      "60:\tlearn: 0.9776098\ttest: 0.9779011\tbest: 0.9780882 (58)\ttotal: 713ms\tremaining: 11s\n",
      "70:\tlearn: 0.9779799\ttest: 0.9776034\tbest: 0.9780882 (58)\ttotal: 855ms\tremaining: 11.2s\n",
      "80:\tlearn: 0.9783546\ttest: 0.9778799\tbest: 0.9780882 (58)\ttotal: 1s\tremaining: 11.4s\n",
      "90:\tlearn: 0.9788722\ttest: 0.9778714\tbest: 0.9780882 (58)\ttotal: 1.13s\tremaining: 11.3s\n",
      "100:\tlearn: 0.9795860\ttest: 0.9783400\tbest: 0.9783400 (100)\ttotal: 1.23s\tremaining: 11s\n",
      "110:\tlearn: 0.9798227\ttest: 0.9782463\tbest: 0.9783400 (100)\ttotal: 1.32s\tremaining: 10.6s\n",
      "120:\tlearn: 0.9802982\ttest: 0.9788172\tbest: 0.9788172 (120)\ttotal: 1.43s\tremaining: 10.4s\n",
      "130:\tlearn: 0.9805313\ttest: 0.9788010\tbest: 0.9790049 (121)\ttotal: 1.53s\tremaining: 10.1s\n",
      "140:\tlearn: 0.9810054\ttest: 0.9783234\tbest: 0.9790049 (121)\ttotal: 1.62s\tremaining: 9.85s\n",
      "150:\tlearn: 0.9813367\ttest: 0.9780251\tbest: 0.9790049 (121)\ttotal: 1.71s\tremaining: 9.62s\n",
      "160:\tlearn: 0.9818147\ttest: 0.9784048\tbest: 0.9790049 (121)\ttotal: 1.86s\tremaining: 9.71s\n",
      "170:\tlearn: 0.9821411\ttest: 0.9783068\tbest: 0.9790049 (121)\ttotal: 2.02s\tremaining: 9.78s\n",
      "Stopped by overfitting detector  (50 iterations wait)\n",
      "\n",
      "bestTest = 0.9790048893\n",
      "bestIteration = 121\n",
      "\n",
      "Shrink model to first 122 iterations.\n",
      "Learning rate set to 0.057694\n",
      "0:\tlearn: 0.9721864\ttest: 0.9663434\tbest: 0.9663434 (0)\ttotal: 13.8ms\tremaining: 13.8s\n",
      "10:\tlearn: 0.9767886\ttest: 0.9698239\tbest: 0.9698239 (10)\ttotal: 140ms\tremaining: 12.6s\n",
      "20:\tlearn: 0.9781797\ttest: 0.9701820\tbest: 0.9703781 (13)\ttotal: 253ms\tremaining: 11.8s\n",
      "30:\tlearn: 0.9786053\ttest: 0.9712052\tbest: 0.9713087 (27)\ttotal: 345ms\tremaining: 10.8s\n",
      "40:\tlearn: 0.9791228\ttest: 0.9712978\tbest: 0.9713087 (27)\ttotal: 479ms\tremaining: 11.2s\n",
      "50:\tlearn: 0.9794002\ttest: 0.9713795\tbest: 0.9713795 (50)\ttotal: 611ms\tremaining: 11.4s\n",
      "60:\tlearn: 0.9798658\ttest: 0.9714504\tbest: 0.9714776 (51)\ttotal: 724ms\tremaining: 11.1s\n",
      "70:\tlearn: 0.9803809\ttest: 0.9718270\tbest: 0.9718270 (69)\ttotal: 810ms\tremaining: 10.6s\n",
      "80:\tlearn: 0.9808569\ttest: 0.9722036\tbest: 0.9722036 (80)\ttotal: 899ms\tremaining: 10.2s\n",
      "90:\tlearn: 0.9809944\ttest: 0.9727664\tbest: 0.9727664 (90)\ttotal: 1s\tremaining: 10s\n",
      "100:\tlearn: 0.9812788\ttest: 0.9728697\tbest: 0.9728697 (99)\ttotal: 1.11s\tremaining: 9.93s\n",
      "110:\tlearn: 0.9815651\ttest: 0.9730505\tbest: 0.9731486 (101)\ttotal: 1.22s\tremaining: 9.78s\n",
      "120:\tlearn: 0.9819020\ttest: 0.9732365\tbest: 0.9732365 (113)\ttotal: 1.31s\tremaining: 9.54s\n",
      "130:\tlearn: 0.9824258\ttest: 0.9733244\tbest: 0.9734226 (128)\ttotal: 1.42s\tremaining: 9.4s\n",
      "140:\tlearn: 0.9827594\ttest: 0.9733193\tbest: 0.9734226 (128)\ttotal: 1.53s\tremaining: 9.35s\n",
      "150:\tlearn: 0.9829988\ttest: 0.9734073\tbest: 0.9736037 (143)\ttotal: 1.65s\tremaining: 9.26s\n",
      "160:\tlearn: 0.9834758\ttest: 0.9736867\tbest: 0.9736918 (158)\ttotal: 1.76s\tremaining: 9.18s\n",
      "170:\tlearn: 0.9839531\ttest: 0.9737799\tbest: 0.9739713 (164)\ttotal: 1.87s\tremaining: 9.06s\n",
      "180:\tlearn: 0.9843360\ttest: 0.9733040\tbest: 0.9739713 (164)\ttotal: 1.98s\tremaining: 8.97s\n",
      "190:\tlearn: 0.9847647\ttest: 0.9734903\tbest: 0.9739713 (164)\ttotal: 2.17s\tremaining: 9.21s\n",
      "200:\tlearn: 0.9850029\ttest: 0.9737749\tbest: 0.9739713 (164)\ttotal: 2.3s\tremaining: 9.14s\n",
      "210:\tlearn: 0.9851464\ttest: 0.9736867\tbest: 0.9739713 (164)\ttotal: 2.41s\tremaining: 9.01s\n",
      "Stopped by overfitting detector  (50 iterations wait)\n",
      "\n",
      "bestTest = 0.9739712919\n",
      "bestIteration = 164\n",
      "\n",
      "Shrink model to first 165 iterations.\n"
     ]
    }
   ],
   "source": [
    "train_preds = np.zeros(train_df.shape[0])\n",
    "test_preds = np.zeros(test_df.shape[0])\n",
    "train_class = np.zeros(train_df.shape[0])\n",
    "test_class = np.zeros(test_df.shape[0])\n",
    "skf = StratifiedKFold(n_splits=3)\n",
    "validation_scores = []\n",
    "org_scores = []\n",
    "models = []\n",
    "for train_index, test_index in skf.split(train, y):\n",
    "    X_train, X_test = train.iloc[train_index,:], train.iloc[test_index,:]\n",
    "    y_train, y_test = y[train_index], y[test_index]\n",
    "    train_pool = Pool(data=X_train, label=y_train,cat_features=cat_features)\n",
    "    test_pool = Pool(data=X_test, label=y_test, cat_features=cat_features)    \n",
    "    model = CatBoostClassifier(**catboost_params)\n",
    "    model.fit(X=train_pool, eval_set=test_pool,verbose=10)\n",
    "    train_preds[test_index] = model.predict_proba(test_pool)[:,1]\n",
    "    train_class[test_index] = model.predict(test_pool)\n",
    "    test_preds += model.predict_proba(submission_pool)[:,1]/3\n",
    "    test_class += model.predict(submission_pool)\n",
    "    validation_scores.append(f1_score(y_test,model.predict(test_pool),average='micro'))\n",
    "    org_scores.append(f1_score(y_org,model.predict(org_pool),average='micro'))\n",
    "    models.append(model)\n",
    "test_class = np.where(test_class > 2, 1, 0)"
   ]
  },
  {
   "cell_type": "code",
   "execution_count": 15,
   "metadata": {},
   "outputs": [
    {
     "data": {
      "text/plain": [
       "(0.958448367572642, 0.004643752598209992, 0.9519009725906278)"
      ]
     },
     "execution_count": 15,
     "metadata": {},
     "output_type": "execute_result"
    }
   ],
   "source": [
    "np.mean(validation_scores), np.std(validation_scores), min(validation_scores)"
   ]
  },
  {
   "cell_type": "code",
   "execution_count": 16,
   "metadata": {},
   "outputs": [
    {
     "data": {
      "text/plain": [
       "(0.9557691938671732, 0.0005951705877332196, 0.9552127108399056)"
      ]
     },
     "execution_count": 16,
     "metadata": {},
     "output_type": "execute_result"
    }
   ],
   "source": [
    "np.mean(org_scores), np.std(org_scores), min(org_scores)"
   ]
  },
  {
   "cell_type": "code",
   "execution_count": 19,
   "metadata": {},
   "outputs": [],
   "source": [
    "submission_df['prediction'] = test_class\n",
    "submission_df.to_csv('submission.csv',index=False)"
   ]
  },
  {
   "cell_type": "markdown",
   "metadata": {},
   "source": [
    "# PCA"
   ]
  },
  {
   "cell_type": "code",
   "execution_count": 40,
   "metadata": {},
   "outputs": [],
   "source": [
    "features = test_df.columns\n",
    "X_train = train_df[features].values\n",
    "X_train_org = train_df_org[features].values\n",
    "X_test = test_df[features].values"
   ]
  },
  {
   "cell_type": "code",
   "execution_count": 41,
   "metadata": {},
   "outputs": [],
   "source": [
    "pca = PCA(n_components=40)\n",
    "X_train_transformed = pca.fit_transform(X_train)\n",
    "X_test_transformed = pca.transform(X_test)\n",
    "X_train_org_transformed = pca.transform(X_train_org)"
   ]
  },
  {
   "cell_type": "code",
   "execution_count": 42,
   "metadata": {},
   "outputs": [],
   "source": [
    "pca_train = pd.DataFrame()\n",
    "pca_train['label'] = train_df['label']\n",
    "\n",
    "pca_train_org = pd.DataFrame()\n",
    "pca_train_org['label'] = y_org\n",
    "\n",
    "pca_test = pd.DataFrame()\n",
    "for i in range(40):\n",
    "    name = f'col_{i}'\n",
    "    pca_train[name] = X_train_transformed[:,i]\n",
    "    pca_test[name] = X_test_transformed[:,i]\n",
    "    pca_train_org[name] = X_train_org_transformed[:,i]\n",
    "    \n",
    "pca_train.to_csv('pca_train.csv',index=False)\n",
    "pca_test.to_csv('pca_test.csv',index=False)"
   ]
  },
  {
   "cell_type": "code",
   "execution_count": 31,
   "metadata": {},
   "outputs": [
    {
     "data": {
      "text/plain": [
       "<matplotlib.axes._subplots.AxesSubplot at 0x7fb2d52052d0>"
      ]
     },
     "execution_count": 31,
     "metadata": {},
     "output_type": "execute_result"
    },
    {
     "data": {
      "image/png": "[encoded data removed]",
      "text/plain": [
       "<Figure size 432x288 with 1 Axes>"
      ]
     },
     "metadata": {
      "needs_background": "light"
     },
     "output_type": "display_data"
    }
   ],
   "source": [
    "sns.scatterplot(x='col_0',y='col_1',data=pca_train,hue='label')"
   ]
  },
  {
   "cell_type": "code",
   "execution_count": 38,
   "metadata": {},
   "outputs": [
    {
     "data": {
      "text/plain": [
       "<matplotlib.axes._subplots.AxesSubplot at 0x7fb2103d28d0>"
      ]
     },
     "execution_count": 38,
     "metadata": {},
     "output_type": "execute_result"
    },
    {
     "data": {
      "image/png": "[encoded data removed]",
      "text/plain": [
       "<Figure size 432x288 with 1 Axes>"
      ]
     },
     "metadata": {
      "needs_background": "light"
     },
     "output_type": "display_data"
    }
   ],
   "source": [
    "sns.scatterplot(x='col_0',y='col_3',data=pca_train,hue='label')"
   ]
  },
  {
   "cell_type": "code",
   "execution_count": 44,
   "metadata": {},
   "outputs": [],
   "source": [
    "features = pca_test.columns\n",
    "cat_features = []"
   ]
  },
  {
   "cell_type": "code",
   "execution_count": 45,
   "metadata": {},
   "outputs": [],
   "source": [
    "train = pca_train[features]\n",
    "test = pca_test[features]\n",
    "train_org = pca_train_org[features]\n",
    "y = pca_train['label']\n",
    "for each in cat_features:\n",
    "    train[each] = train[each].values.astype(int)\n",
    "    test[each] = test[each].values.astype(int)\n",
    "    train_org[each] = train_org[each].values.astype(int)"
   ]
  },
  {
   "cell_type": "code",
   "execution_count": 46,
   "metadata": {},
   "outputs": [],
   "source": [
    "submission_pool = Pool(data=pca_test[features], cat_features=cat_features)\n",
    "org_pool = Pool(data=pca_train_org[features], cat_features=cat_features)"
   ]
  },
  {
   "cell_type": "code",
   "execution_count": 47,
   "metadata": {},
   "outputs": [
    {
     "name": "stdout",
     "output_type": "stream",
     "text": [
      "Learning rate set to 0.057693\n",
      "0:\tlearn: 0.9674941\ttest: 0.9686263\tbest: 0.9686263 (0)\ttotal: 31.4ms\tremaining: 31.4s\n",
      "10:\tlearn: 0.9705924\ttest: 0.9683791\tbest: 0.9688509 (3)\ttotal: 178ms\tremaining: 16s\n",
      "20:\tlearn: 0.9732946\ttest: 0.9730091\tbest: 0.9730091 (20)\ttotal: 319ms\tremaining: 14.9s\n",
      "30:\tlearn: 0.9749142\ttest: 0.9740160\tbest: 0.9740210 (29)\ttotal: 436ms\tremaining: 13.6s\n",
      "40:\tlearn: 0.9759335\ttest: 0.9754930\tbest: 0.9754930 (40)\ttotal: 574ms\tremaining: 13.4s\n",
      "50:\tlearn: 0.9770598\ttest: 0.9760445\tbest: 0.9761471 (48)\ttotal: 692ms\tremaining: 12.9s\n",
      "60:\tlearn: 0.9774760\ttest: 0.9766104\tbest: 0.9766104 (60)\ttotal: 825ms\tremaining: 12.7s\n",
      "70:\tlearn: 0.9783202\ttest: 0.9762087\tbest: 0.9766104 (60)\ttotal: 942ms\tremaining: 12.3s\n",
      "80:\tlearn: 0.9786501\ttest: 0.9765880\tbest: 0.9766862 (74)\ttotal: 1.08s\tremaining: 12.3s\n",
      "90:\tlearn: 0.9796446\ttest: 0.9764762\tbest: 0.9766862 (74)\ttotal: 1.21s\tremaining: 12.1s\n",
      "100:\tlearn: 0.9803038\ttest: 0.9764672\tbest: 0.9766862 (74)\ttotal: 1.34s\tremaining: 12s\n",
      "110:\tlearn: 0.9806835\ttest: 0.9764627\tbest: 0.9766862 (74)\ttotal: 1.47s\tremaining: 11.7s\n",
      "120:\tlearn: 0.9810597\ttest: 0.9770214\tbest: 0.9771242 (114)\ttotal: 1.6s\tremaining: 11.6s\n",
      "130:\tlearn: 0.9814886\ttest: 0.9767263\tbest: 0.9772181 (123)\ttotal: 1.71s\tremaining: 11.4s\n",
      "140:\tlearn: 0.9818635\ttest: 0.9770170\tbest: 0.9772181 (123)\ttotal: 1.84s\tremaining: 11.2s\n",
      "150:\tlearn: 0.9824780\ttest: 0.9769275\tbest: 0.9772181 (123)\ttotal: 1.96s\tremaining: 11s\n",
      "160:\tlearn: 0.9828165\ttest: 0.9761538\tbest: 0.9772181 (123)\ttotal: 2.16s\tremaining: 11.2s\n",
      "170:\tlearn: 0.9834822\ttest: 0.9769231\tbest: 0.9772181 (123)\ttotal: 2.34s\tremaining: 11.3s\n",
      "Stopped by overfitting detector  (50 iterations wait)\n",
      "\n",
      "bestTest = 0.9772181102\n",
      "bestIteration = 123\n",
      "\n",
      "Shrink model to first 124 iterations.\n",
      "Learning rate set to 0.057693\n",
      "0:\tlearn: 0.9672783\ttest: 0.9695810\tbest: 0.9695810 (0)\ttotal: 12.4ms\tremaining: 12.4s\n",
      "10:\tlearn: 0.9714611\ttest: 0.9725468\tbest: 0.9729165 (9)\ttotal: 164ms\tremaining: 14.8s\n",
      "20:\tlearn: 0.9744249\ttest: 0.9740854\tbest: 0.9740854 (20)\ttotal: 291ms\tremaining: 13.5s\n",
      "30:\tlearn: 0.9757610\ttest: 0.9754560\tbest: 0.9754560 (30)\ttotal: 471ms\tremaining: 14.7s\n",
      "40:\tlearn: 0.9769154\ttest: 0.9756098\tbest: 0.9758944 (39)\ttotal: 681ms\tremaining: 15.9s\n",
      "50:\tlearn: 0.9776651\ttest: 0.9765483\tbest: 0.9765483 (50)\ttotal: 828ms\tremaining: 15.4s\n",
      "60:\tlearn: 0.9787010\ttest: 0.9770247\tbest: 0.9770247 (60)\ttotal: 962ms\tremaining: 14.8s\n",
      "70:\tlearn: 0.9787886\ttest: 0.9770027\tbest: 0.9771943 (67)\ttotal: 1.09s\tremaining: 14.2s\n",
      "80:\tlearn: 0.9791617\ttest: 0.9764142\tbest: 0.9771943 (67)\ttotal: 1.24s\tremaining: 14s\n",
      "90:\tlearn: 0.9798227\ttest: 0.9766906\tbest: 0.9771943 (67)\ttotal: 1.41s\tremaining: 14.1s\n",
      "100:\tlearn: 0.9802925\ttest: 0.9764943\tbest: 0.9771943 (67)\ttotal: 1.62s\tremaining: 14.4s\n",
      "110:\tlearn: 0.9810524\ttest: 0.9766772\tbest: 0.9771943 (67)\ttotal: 1.75s\tremaining: 14s\n",
      "Stopped by overfitting detector  (50 iterations wait)\n",
      "\n",
      "bestTest = 0.9771943273\n",
      "bestIteration = 67\n",
      "\n",
      "Shrink model to first 68 iterations.\n",
      "Learning rate set to 0.057694\n",
      "0:\tlearn: 0.9727507\ttest: 0.9653267\tbest: 0.9653267 (0)\ttotal: 17.7ms\tremaining: 17.7s\n",
      "10:\tlearn: 0.9748011\ttest: 0.9669288\tbest: 0.9669288 (10)\ttotal: 200ms\tremaining: 17.9s\n",
      "20:\tlearn: 0.9773216\ttest: 0.9675399\tbest: 0.9676440 (18)\ttotal: 336ms\tremaining: 15.7s\n",
      "30:\tlearn: 0.9788577\ttest: 0.9689760\tbest: 0.9690800 (29)\ttotal: 475ms\tremaining: 14.8s\n",
      "40:\tlearn: 0.9795567\ttest: 0.9696335\tbest: 0.9697316 (38)\ttotal: 599ms\tremaining: 14s\n",
      "50:\tlearn: 0.9801648\ttest: 0.9705574\tbest: 0.9706555 (48)\ttotal: 778ms\tremaining: 14.5s\n",
      "60:\tlearn: 0.9811592\ttest: 0.9703499\tbest: 0.9706555 (48)\ttotal: 945ms\tremaining: 14.6s\n",
      "70:\tlearn: 0.9814415\ttest: 0.9705293\tbest: 0.9709164 (63)\ttotal: 1.14s\tremaining: 14.9s\n",
      "80:\tlearn: 0.9819664\ttest: 0.9707848\tbest: 0.9709868 (76)\ttotal: 1.31s\tremaining: 14.9s\n",
      "90:\tlearn: 0.9825336\ttest: 0.9707904\tbest: 0.9709868 (76)\ttotal: 1.52s\tremaining: 15.2s\n",
      "100:\tlearn: 0.9829109\ttest: 0.9702932\tbest: 0.9709868 (76)\ttotal: 1.66s\tremaining: 14.8s\n",
      "110:\tlearn: 0.9832445\ttest: 0.9703746\tbest: 0.9709868 (76)\ttotal: 1.8s\tremaining: 14.4s\n",
      "120:\tlearn: 0.9837184\ttest: 0.9707569\tbest: 0.9709868 (76)\ttotal: 1.94s\tremaining: 14.1s\n",
      "Stopped by overfitting detector  (50 iterations wait)\n",
      "\n",
      "bestTest = 0.9709868295\n",
      "bestIteration = 76\n",
      "\n",
      "Shrink model to first 77 iterations.\n"
     ]
    }
   ],
   "source": [
    "train_preds = np.zeros(train_df.shape[0])\n",
    "test_preds = np.zeros(test_df.shape[0])\n",
    "train_class = np.zeros(train_df.shape[0])\n",
    "test_class = np.zeros(test_df.shape[0])\n",
    "skf = StratifiedKFold(n_splits=3)\n",
    "validation_scores = []\n",
    "org_scores = []\n",
    "models = []\n",
    "for train_index, test_index in skf.split(train, y):\n",
    "    X_train, X_test = train.iloc[train_index,:], train.iloc[test_index,:]\n",
    "    y_train, y_test = y[train_index], y[test_index]\n",
    "    train_pool = Pool(data=X_train, label=y_train,cat_features=cat_features)\n",
    "    test_pool = Pool(data=X_test, label=y_test, cat_features=cat_features)    \n",
    "    model = CatBoostClassifier(**catboost_params)\n",
    "    model.fit(X=train_pool, eval_set=test_pool,verbose=10)\n",
    "    train_preds[test_index] = model.predict_proba(test_pool)[:,1]\n",
    "    train_class[test_index] = model.predict(test_pool)\n",
    "    test_preds += model.predict_proba(submission_pool)[:,1]/3\n",
    "    test_class += model.predict(submission_pool)\n",
    "    validation_scores.append(f1_score(y_test,model.predict(test_pool),average='micro'))\n",
    "    org_scores.append(f1_score(y_org,model.predict(org_pool),average='micro'))\n",
    "    models.append(model)\n",
    "test_class = np.where(test_class > 2, 1, 0)"
   ]
  },
  {
   "cell_type": "code",
   "execution_count": 48,
   "metadata": {},
   "outputs": [
    {
     "data": {
      "text/plain": [
       "(0.9540868836788946, 0.005547453732173097, 0.9462422634836428)"
      ]
     },
     "execution_count": 48,
     "metadata": {},
     "output_type": "execute_result"
    }
   ],
   "source": [
    "np.mean(validation_scores), np.std(validation_scores), min(validation_scores)"
   ]
  },
  {
   "cell_type": "code",
   "execution_count": 49,
   "metadata": {},
   "outputs": [
    {
     "data": {
      "text/plain": [
       "(0.9523919175637557, 0.001769352953348763, 0.9508376029013874)"
      ]
     },
     "execution_count": 49,
     "metadata": {},
     "output_type": "execute_result"
    }
   ],
   "source": [
    "np.mean(org_scores), np.std(org_scores), min(org_scores)"
   ]
  },
  {
   "cell_type": "code",
   "execution_count": null,
   "metadata": {},
   "outputs": [],
   "source": []
  }
 ],
 "metadata": {
  "kernelspec": {
   "display_name": "Python 3",
   "language": "python",
   "name": "python3"
  },
  "language_info": {
   "codemirror_mode": {
    "name": "ipython",
    "version": 3
   },
   "file_extension": ".py",
   "mimetype": "text/x-python",
   "name": "python",
   "nbconvert_exporter": "python",
   "pygments_lexer": "ipython3",
   "version": "3.7.4"
  }
 },
 "nbformat": 4,
 "nbformat_minor": 2
}
