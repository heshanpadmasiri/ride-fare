{
 "cells": [
  {
   "cell_type": "code",
   "execution_count": 3,
   "metadata": {},
   "outputs": [],
   "source": [
    "import itertools\n",
    "\n",
    "import pandas as pd\n",
    "import numpy as np\n",
    "import matplotlib.pyplot as plt\n",
    "import seaborn as sns\n",
    "\n",
    "from sklearn.model_selection import KFold,StratifiedKFold\n",
    "from sklearn.linear_model import LinearRegression,LogisticRegression\n",
    "from sklearn.svm import SVR, SVC\n",
    "from sklearn.ensemble import RandomForestRegressor,ExtraTreesClassifier,RandomForestClassifier\n",
    "from sklearn.preprocessing import StandardScaler,KBinsDiscretizer,LabelEncoder,MinMaxScaler\n",
    "from sklearn.metrics import mean_squared_error,f1_score,confusion_matrix,log_loss\n",
    "from sklearn.kernel_approximation import Nystroem\n",
    "from sklearn.neighbors import KNeighborsClassifier\n",
    "from sklearn.decomposition import PCA,NMF\n",
    "\n",
    "from catboost import Pool, cv,CatBoostClassifier,CatBoostRegressor\n",
    "from catboost.eval.catboost_evaluation import *\n",
    "\n",
    "\n",
    "\n",
    "from tqdm import tqdm\n"
   ]
  },
  {
   "cell_type": "code",
   "execution_count": 4,
   "metadata": {},
   "outputs": [],
   "source": [
    "train_df = pd.read_csv('train_df_final.csv')\n",
    "train_df = train_df.fillna(0)\n",
    "train_df_org = pd.read_csv('train_df_final_blanced.csv')\n",
    "train_df_org = train_df_org.fillna(0)\n",
    "test_df = pd.read_csv('test_df_final.csv')\n",
    "test_df = test_df.fillna(0)\n",
    "submission_df = pd.read_csv('sample_submission.csv')"
   ]
  },
  {
   "cell_type": "code",
   "execution_count": 5,
   "metadata": {},
   "outputs": [],
   "source": [
    "learn_params = {'iterations': 2000, \n",
    "                'random_seed': 0, \n",
    "                'logging_level': 'Silent',\n",
    "                'loss_function': 'Logloss',\n",
    "                # You could set learning process to GPU\n",
    "                # 'devices': '1',  \n",
    "                'task_type': 'GPU',\n",
    "                'loss_function' : 'Logloss',\n",
    "                'boosting_type': 'Plain', \n",
    "                # For feature evaluation learning time is important and we need just the relative quality\n",
    "                'max_ctr_complexity' : 4}"
   ]
  },
  {
   "cell_type": "code",
   "execution_count": 6,
   "metadata": {},
   "outputs": [
    {
     "name": "stdout",
     "output_type": "stream",
     "text": [
      "Help on class CatboostEvaluation in module catboost.eval.catboost_evaluation:\n",
      "\n",
      "class CatboostEvaluation(builtins.object)\n",
      " |  CatboostEvaluation(path_to_dataset, fold_size, fold_count, column_description, fold_offset=0, group_column=None, working_dir=None, remove_models=True, delimiter='\\t', has_header=False, partition_random_seed=0, min_fold_count=1)\n",
      " |  \n",
      " |  Methods defined here:\n",
      " |  \n",
      " |  __init__(self, path_to_dataset, fold_size, fold_count, column_description, fold_offset=0, group_column=None, working_dir=None, remove_models=True, delimiter='\\t', has_header=False, partition_random_seed=0, min_fold_count=1)\n",
      " |      Args:\n",
      " |          :param path_to_dataset: (str) Path to the dataset to be used for evaluation.\n",
      " |          :param fold_size: (int) Size of the folds in cross-validation.\n",
      " |          :param fold_count: (int) Number of times we get a new fold, learn a model and check results as if\n",
      " |          there wouldn't be any offset. If there'are some offset it means that the real count of folds will\n",
      " |          be smaller.\n",
      " |          :param column_description: (str) Path to the file where column description is placed.\n",
      " |          :param fold_offset: (int) Number of folds we skip before begin to make cross-validation.\n",
      " |          :param group_column: (int) GroupId column index in the dataset file.\n",
      " |          'None' value means absence of grouping information in the dataset (it's the default).\n",
      " |          :param working_dir: Working dir for temporary files\n",
      " |          :param remove_models: (bool) Set true if you want models to be removed after applying them.\n",
      " |          :param delimiter: (str) Field delimiter used in dataset files.\n",
      " |          :param has_header: (bool) Set true if you want to skip first line in dataset files.\n",
      " |          :param partition_random_seed: (int) The seed for random value generator used for getting permutations for\n",
      " |           cross-validation.\n",
      " |          :param min_fold_count: (int) Minimun amount of folds dataset can be cut to.\n",
      " |  \n",
      " |  eval_cases(self, baseline_case, compare_cases, eval_metrics, thread_count=-1, eval_step=1)\n",
      " |      More flexible evaluation of any cases.\n",
      " |      Args:\n",
      " |      baseline_case: Execution case used for baseline\n",
      " |      compare_cases: List of cases to compare\n",
      " |      eval_metrics: Metrics to calculate\n",
      " |      thread_count: thread_count to use.  Will override one in cases\n",
      " |      Returns\n",
      " |      -------\n",
      " |      result : Instance of EvaluationResult class\n",
      " |  \n",
      " |  eval_features(self, learn_config, features_to_eval, loss_function=None, eval_type=<EvalType.SeqAdd: 'SeqAdd'>, eval_metrics=None, thread_count=-1, eval_step=None, label_mode=<LabelMode.AddFeature: 'Feature'>)\n",
      " |      Evaluate features.\n",
      " |      Args:\n",
      " |      learn_config: dict with params or instance of CatBoost. In second case instance params will be used\n",
      " |      features_to_eval: list of indices of features to evaluate\n",
      " |      loss_function: one of CatBoost loss functions, get it from learn_config if not specified\n",
      " |      eval_type: Type of feature evaluate (All, SeqAdd, SeqRem)\n",
      " |      eval_metrics: Additional metrics to calculate\n",
      " |      thread_count: thread_count to use. If not none will override learn_config values\n",
      " |      Returns\n",
      " |      -------\n",
      " |      result : Instance of EvaluationResult class\n",
      " |  \n",
      " |  get_working_dir(self)\n",
      " |  \n",
      " |  ----------------------------------------------------------------------\n",
      " |  Data descriptors defined here:\n",
      " |  \n",
      " |  __dict__\n",
      " |      dictionary for instance variables (if defined)\n",
      " |  \n",
      " |  __weakref__\n",
      " |      list of weak references to the object (if defined)\n",
      "\n"
     ]
    }
   ],
   "source": [
    "help(CatboostEvaluation)"
   ]
  },
  {
   "cell_type": "code",
   "execution_count": null,
   "metadata": {},
   "outputs": [],
   "source": []
  }
 ],
 "metadata": {
  "kernelspec": {
   "display_name": "Python 3",
   "language": "python",
   "name": "python3"
  },
  "language_info": {
   "codemirror_mode": {
    "name": "ipython",
    "version": 3
   },
   "file_extension": ".py",
   "mimetype": "text/x-python",
   "name": "python",
   "nbconvert_exporter": "python",
   "pygments_lexer": "ipython3",
   "version": "3.7.4"
  }
 },
 "nbformat": 4,
 "nbformat_minor": 2
}
