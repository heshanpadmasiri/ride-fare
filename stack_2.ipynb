{
 "cells": [
  {
   "cell_type": "code",
   "execution_count": 398,
   "metadata": {},
   "outputs": [],
   "source": [
    "import itertools\n",
    "\n",
    "import pandas as pd\n",
    "import numpy as np\n",
    "import matplotlib.pyplot as plt\n",
    "import seaborn as sns\n",
    "\n",
    "from sklearn.model_selection import KFold,StratifiedKFold\n",
    "from sklearn.linear_model import LinearRegression,LogisticRegression\n",
    "from sklearn.svm import SVR, SVC\n",
    "from sklearn.ensemble import RandomForestRegressor,ExtraTreesClassifier,RandomForestClassifier\n",
    "from sklearn.preprocessing import StandardScaler,KBinsDiscretizer,LabelEncoder,MinMaxScaler\n",
    "from sklearn.metrics import mean_squared_error,f1_score,confusion_matrix,log_loss\n",
    "from sklearn.kernel_approximation import Nystroem\n",
    "from sklearn.neighbors import KNeighborsClassifier\n",
    "\n",
    "from catboost import Pool, cv,CatBoostClassifier,CatBoostRegressor\n",
    "\n",
    "import tensorflow as tf\n",
    "from tensorflow.keras.layers import Input, Dense, concatenate,Dropout\n",
    "from tensorflow.keras.models import Model, Sequential\n",
    "from tensorflow.keras import regularizers\n",
    "import tensorflow_addons as tfa\n",
    "\n",
    "from tqdm import tqdm\n",
    "\n",
    "import lightgbm as lgb\n",
    "\n",
    "import xgboost as xgb\n",
    "from xgboost import XGBClassifier,XGBRegressor,DMatrix,plot_tree\n",
    "\n",
    "from imblearn.over_sampling import RandomOverSampler,SMOTE, ADASYN"
   ]
  },
  {
   "cell_type": "code",
   "execution_count": 399,
   "metadata": {},
   "outputs": [],
   "source": [
    "train_df = pd.read_csv('train_df_final.csv')\n",
    "train_df = train_df.fillna(0)\n",
    "train_df_org = pd.read_csv('train_df_final_blanced.csv')\n",
    "train_df_org = train_df_org.fillna(0)\n",
    "test_df = pd.read_csv('test_df_final.csv')\n",
    "test_df = test_df.fillna(0)\n",
    "submission_df = pd.read_csv('sample_submission.csv')"
   ]
  },
  {
   "cell_type": "code",
   "execution_count": 400,
   "metadata": {},
   "outputs": [],
   "source": [
    "y = train_df['label'].values\n",
    "y_org = train_df_org['label'].values"
   ]
  },
  {
   "cell_type": "code",
   "execution_count": 401,
   "metadata": {},
   "outputs": [],
   "source": [
    "model_predictions_train = pd.DataFrame()\n",
    "model_predictions_train['label'] = train_df['label']\n",
    "model_predictions_org = pd.DataFrame()\n",
    "model_predictions_org['label'] = y_org\n",
    "model_predictions_test = pd.DataFrame()"
   ]
  },
  {
   "cell_type": "markdown",
   "metadata": {},
   "source": [
    "## Anomaly based"
   ]
  },
  {
   "cell_type": "code",
   "execution_count": 402,
   "metadata": {},
   "outputs": [],
   "source": [
    "features = [\n",
    "    'fare_anomaly',\n",
    "    'additional_fare_anomaly', \n",
    "    'duration_anomaly',\n",
    "    'meter_waiting_anomaly', \n",
    "    'meter_waiting_fare_anomaly',\n",
    "    'meter_waiting_till_pickup_anomaly', \n",
    "    'additional_fare_duration_anomaly',\n",
    "    'additional_fare_meter_waiting_anomaly',\n",
    "    'additional_fare_meter_waiting_fare_anomaly',\n",
    "    'additional_fare_meter_waiting_till_pickup_anomaly',\n",
    "    'duration_meter_waiting_anomaly', \n",
    "    'duration_meter_waiting_fare_anomaly',\n",
    "    'duration_meter_waiting_till_pickup_anomaly',\n",
    "    'meter_waiting_meter_waiting_fare_anomaly',\n",
    "    'meter_waiting_meter_waiting_till_pickup_anomaly',\n",
    "    'meter_waiting_fare_meter_waiting_till_pickup_anomaly',\n",
    "    'additional_fare_duration_meter_waiting_anomaly',\n",
    "    'additional_fare_duration_meter_waiting_fare_anomaly',\n",
    "    'additional_fare_duration_meter_waiting_till_pickup_anomaly',\n",
    "    'additional_fare_meter_waiting_meter_waiting_fare_anomaly',\n",
    "    'additional_fare_meter_waiting_meter_waiting_till_pickup_anomaly',\n",
    "    'additional_fare_meter_waiting_fare_meter_waiting_till_pickup_anomaly',\n",
    "    'duration_meter_waiting_meter_waiting_fare_anomaly',\n",
    "    'duration_meter_waiting_meter_waiting_till_pickup_anomaly',\n",
    "    'duration_meter_waiting_fare_meter_waiting_till_pickup_anomaly',\n",
    "    'meter_waiting_meter_waiting_fare_meter_waiting_till_pickup_anomaly',\n",
    "    'additional_fare_duration_meter_waiting_meter_waiting_fare_anomaly',\n",
    "    'additional_fare_duration_meter_waiting_meter_waiting_till_pickup_anomaly',\n",
    "    'additional_fare_duration_meter_waiting_fare_meter_waiting_till_pickup_anomaly',\n",
    "    'additional_fare_meter_waiting_meter_waiting_fare_meter_waiting_till_pickup_anomaly',\n",
    "    'duration_meter_waiting_meter_waiting_fare_meter_waiting_till_pickup_anomaly',\n",
    "]\n",
    "\n",
    "cat_features = [\n",
    "    'fare_anomaly',\n",
    "    'additional_fare_anomaly', \n",
    "    'duration_anomaly',\n",
    "    'meter_waiting_anomaly', \n",
    "    'meter_waiting_fare_anomaly',\n",
    "    'meter_waiting_till_pickup_anomaly', \n",
    "    'additional_fare_duration_anomaly',\n",
    "    'additional_fare_meter_waiting_anomaly',\n",
    "    'additional_fare_meter_waiting_fare_anomaly',\n",
    "    'additional_fare_meter_waiting_till_pickup_anomaly',\n",
    "    'duration_meter_waiting_anomaly', \n",
    "    'duration_meter_waiting_fare_anomaly',\n",
    "    'duration_meter_waiting_till_pickup_anomaly',\n",
    "    'meter_waiting_meter_waiting_fare_anomaly',\n",
    "    'meter_waiting_meter_waiting_till_pickup_anomaly',\n",
    "    'meter_waiting_fare_meter_waiting_till_pickup_anomaly',\n",
    "    'additional_fare_duration_meter_waiting_anomaly',\n",
    "    'additional_fare_duration_meter_waiting_fare_anomaly',\n",
    "    'additional_fare_duration_meter_waiting_till_pickup_anomaly',\n",
    "    'additional_fare_meter_waiting_meter_waiting_fare_anomaly',\n",
    "    'additional_fare_meter_waiting_meter_waiting_till_pickup_anomaly',\n",
    "    'additional_fare_meter_waiting_fare_meter_waiting_till_pickup_anomaly',\n",
    "    'duration_meter_waiting_meter_waiting_fare_anomaly',\n",
    "    'duration_meter_waiting_meter_waiting_till_pickup_anomaly',\n",
    "    'duration_meter_waiting_fare_meter_waiting_till_pickup_anomaly',\n",
    "    'meter_waiting_meter_waiting_fare_meter_waiting_till_pickup_anomaly',\n",
    "    'additional_fare_duration_meter_waiting_meter_waiting_fare_anomaly',\n",
    "    'additional_fare_duration_meter_waiting_meter_waiting_till_pickup_anomaly',\n",
    "    'additional_fare_duration_meter_waiting_fare_meter_waiting_till_pickup_anomaly',\n",
    "    'additional_fare_meter_waiting_meter_waiting_fare_meter_waiting_till_pickup_anomaly',\n",
    "    'duration_meter_waiting_meter_waiting_fare_meter_waiting_till_pickup_anomaly',\n",
    "]"
   ]
  },
  {
   "cell_type": "code",
   "execution_count": 403,
   "metadata": {},
   "outputs": [
    {
     "name": "stderr",
     "output_type": "stream",
     "text": [
      "/home/heshan/anaconda3/envs/kaggle/lib/python3.7/site-packages/ipykernel_launcher.py:6: SettingWithCopyWarning: \n",
      "A value is trying to be set on a copy of a slice from a DataFrame.\n",
      "Try using .loc[row_indexer,col_indexer] = value instead\n",
      "\n",
      "See the caveats in the documentation: http://pandas.pydata.org/pandas-docs/stable/user_guide/indexing.html#returning-a-view-versus-a-copy\n",
      "  \n",
      "/home/heshan/anaconda3/envs/kaggle/lib/python3.7/site-packages/ipykernel_launcher.py:7: SettingWithCopyWarning: \n",
      "A value is trying to be set on a copy of a slice from a DataFrame.\n",
      "Try using .loc[row_indexer,col_indexer] = value instead\n",
      "\n",
      "See the caveats in the documentation: http://pandas.pydata.org/pandas-docs/stable/user_guide/indexing.html#returning-a-view-versus-a-copy\n",
      "  import sys\n",
      "/home/heshan/anaconda3/envs/kaggle/lib/python3.7/site-packages/ipykernel_launcher.py:8: SettingWithCopyWarning: \n",
      "A value is trying to be set on a copy of a slice from a DataFrame.\n",
      "Try using .loc[row_indexer,col_indexer] = value instead\n",
      "\n",
      "See the caveats in the documentation: http://pandas.pydata.org/pandas-docs/stable/user_guide/indexing.html#returning-a-view-versus-a-copy\n",
      "  \n"
     ]
    }
   ],
   "source": [
    "train = train_df[features]\n",
    "test = test_df[features]\n",
    "train_org = train_df_org[features]\n",
    "y = train_df['label']\n",
    "for each in cat_features:\n",
    "    train[each] = train[each].values.astype(int)\n",
    "    test[each] = test[each].values.astype(int)\n",
    "    train_org[each] = train_org[each].values.astype(int)"
   ]
  },
  {
   "cell_type": "code",
   "execution_count": 404,
   "metadata": {},
   "outputs": [],
   "source": [
    "def lgb_f1_score(y_hat, data):\n",
    "    y_true = data.get_label()\n",
    "    y_hat = np.round(y_hat) # scikits f1 doesn't like probabilities\n",
    "    return 'f1', f1_score(y_true, y_hat,average='micro'), True\n",
    "\n",
    "def f1_eval(y_pred, dtrain):\n",
    "    y_true = dtrain.get_label()\n",
    "    err = 1-f1_score(y_true, np.round(y_pred),average='micro')\n",
    "    return 'f1_err', err"
   ]
  },
  {
   "cell_type": "markdown",
   "metadata": {},
   "source": [
    "### catboost"
   ]
  },
  {
   "cell_type": "code",
   "execution_count": 405,
   "metadata": {},
   "outputs": [],
   "source": [
    "catboost_params = {\n",
    "    'loss_function':'Logloss',\n",
    "    'random_state':0,\n",
    "    'early_stopping_rounds':50,\n",
    "    'eval_metric':'F1',\n",
    "}"
   ]
  },
  {
   "cell_type": "code",
   "execution_count": 406,
   "metadata": {},
   "outputs": [],
   "source": [
    "submission_pool = Pool(data=test_df[features], cat_features=cat_features)\n",
    "org_pool = Pool(data=train_org[features], cat_features=cat_features)"
   ]
  },
  {
   "cell_type": "code",
   "execution_count": 407,
   "metadata": {},
   "outputs": [
    {
     "name": "stdout",
     "output_type": "stream",
     "text": [
      "Learning rate set to 0.057693\n",
      "0:\tlearn: 0.9532710\ttest: 0.9525581\tbest: 0.9525581 (0)\ttotal: 6.56ms\tremaining: 6.55s\n",
      "10:\tlearn: 0.9532762\ttest: 0.9531481\tbest: 0.9535810 (1)\ttotal: 83.1ms\tremaining: 7.47s\n",
      "20:\tlearn: 0.9537179\ttest: 0.9533160\tbest: 0.9535810 (1)\ttotal: 163ms\tremaining: 7.6s\n",
      "30:\tlearn: 0.9545096\ttest: 0.9534754\tbest: 0.9535810 (1)\ttotal: 260ms\tremaining: 8.13s\n",
      "40:\tlearn: 0.9552059\ttest: 0.9537862\tbest: 0.9538747 (35)\ttotal: 328ms\tremaining: 7.68s\n",
      "50:\tlearn: 0.9556051\ttest: 0.9540347\tbest: 0.9540433 (45)\ttotal: 394ms\tremaining: 7.33s\n",
      "60:\tlearn: 0.9557341\ttest: 0.9540176\tbest: 0.9541148 (55)\ttotal: 464ms\tremaining: 7.15s\n",
      "70:\tlearn: 0.9559561\ttest: 0.9542836\tbest: 0.9542836 (70)\ttotal: 546ms\tremaining: 7.14s\n",
      "80:\tlearn: 0.9559883\ttest: 0.9544525\tbest: 0.9544610 (78)\ttotal: 619ms\tremaining: 7.02s\n",
      "90:\tlearn: 0.9561983\ttest: 0.9547103\tbest: 0.9547103 (88)\ttotal: 706ms\tremaining: 7.06s\n",
      "100:\tlearn: 0.9563843\ttest: 0.9546131\tbest: 0.9548075 (92)\ttotal: 769ms\tremaining: 6.85s\n",
      "110:\tlearn: 0.9566068\ttest: 0.9551127\tbest: 0.9551127 (107)\ttotal: 834ms\tremaining: 6.68s\n",
      "120:\tlearn: 0.9568258\ttest: 0.9546895\tbest: 0.9551127 (107)\ttotal: 952ms\tremaining: 6.92s\n",
      "130:\tlearn: 0.9568258\ttest: 0.9551432\tbest: 0.9551432 (128)\ttotal: 1.02s\tremaining: 6.76s\n",
      "140:\tlearn: 0.9568704\ttest: 0.9551432\tbest: 0.9551432 (128)\ttotal: 1.09s\tremaining: 6.66s\n",
      "150:\tlearn: 0.9571709\ttest: 0.9553213\tbest: 0.9553213 (149)\ttotal: 1.17s\tremaining: 6.59s\n",
      "160:\tlearn: 0.9571748\ttest: 0.9551348\tbest: 0.9553213 (149)\ttotal: 1.25s\tremaining: 6.51s\n",
      "170:\tlearn: 0.9573495\ttest: 0.9551264\tbest: 0.9553213 (149)\ttotal: 1.32s\tremaining: 6.4s\n",
      "180:\tlearn: 0.9573942\ttest: 0.9550289\tbest: 0.9553213 (149)\ttotal: 1.39s\tremaining: 6.27s\n",
      "190:\tlearn: 0.9576176\ttest: 0.9550289\tbest: 0.9553213 (149)\ttotal: 1.47s\tremaining: 6.24s\n",
      "Stopped by overfitting detector  (50 iterations wait)\n",
      "\n",
      "bestTest = 0.955321332\n",
      "bestIteration = 149\n",
      "\n",
      "Shrink model to first 150 iterations.\n",
      "Learning rate set to 0.057693\n",
      "0:\tlearn: 0.9532814\ttest: 0.9531134\tbest: 0.9531134 (0)\ttotal: 11ms\tremaining: 11s\n",
      "10:\tlearn: 0.9533645\ttest: 0.9529630\tbest: 0.9531308 (3)\ttotal: 103ms\tremaining: 9.28s\n",
      "20:\tlearn: 0.9536338\ttest: 0.9530512\tbest: 0.9531308 (3)\ttotal: 179ms\tremaining: 8.36s\n",
      "30:\tlearn: 0.9539431\ttest: 0.9530338\tbest: 0.9532277 (29)\ttotal: 371ms\tremaining: 11.6s\n",
      "40:\tlearn: 0.9550812\ttest: 0.9537149\tbest: 0.9537149 (40)\ttotal: 489ms\tremaining: 11.4s\n",
      "50:\tlearn: 0.9555525\ttest: 0.9545834\tbest: 0.9546890 (41)\ttotal: 561ms\tremaining: 10.4s\n",
      "60:\tlearn: 0.9558468\ttest: 0.9546637\tbest: 0.9546890 (41)\ttotal: 659ms\tremaining: 10.1s\n",
      "70:\tlearn: 0.9561983\ttest: 0.9545666\tbest: 0.9546890 (41)\ttotal: 746ms\tremaining: 9.76s\n",
      "80:\tlearn: 0.9566999\ttest: 0.9544271\tbest: 0.9546890 (41)\ttotal: 816ms\tremaining: 9.26s\n",
      "90:\tlearn: 0.9570243\ttest: 0.9545624\tbest: 0.9546890 (41)\ttotal: 909ms\tremaining: 9.08s\n",
      "Stopped by overfitting detector  (50 iterations wait)\n",
      "\n",
      "bestTest = 0.9546889508\n",
      "bestIteration = 41\n",
      "\n",
      "Shrink model to first 42 iterations.\n",
      "Learning rate set to 0.057694\n",
      "0:\tlearn: 0.9532191\ttest: 0.9520097\tbest: 0.9520097 (0)\ttotal: 14.1ms\tremaining: 14s\n",
      "10:\tlearn: 0.9529276\ttest: 0.9529717\tbest: 0.9533160 (3)\ttotal: 80.8ms\tremaining: 7.26s\n",
      "20:\tlearn: 0.9538020\ttest: 0.9538462\tbest: 0.9538462 (20)\ttotal: 156ms\tremaining: 7.27s\n",
      "30:\tlearn: 0.9548154\ttest: 0.9541829\tbest: 0.9541914 (25)\ttotal: 229ms\tremaining: 7.15s\n",
      "40:\tlearn: 0.9554235\ttest: 0.9540518\tbest: 0.9541914 (25)\ttotal: 315ms\tremaining: 7.37s\n",
      "50:\tlearn: 0.9559117\ttest: 0.9541148\tbest: 0.9541914 (25)\ttotal: 442ms\tremaining: 8.22s\n",
      "60:\tlearn: 0.9562631\ttest: 0.9539119\tbest: 0.9541914 (25)\ttotal: 536ms\tremaining: 8.25s\n",
      "70:\tlearn: 0.9565258\ttest: 0.9541864\tbest: 0.9541914 (25)\ttotal: 614ms\tremaining: 8.04s\n",
      "Stopped by overfitting detector  (50 iterations wait)\n",
      "\n",
      "bestTest = 0.9541913947\n",
      "bestIteration = 25\n",
      "\n",
      "Shrink model to first 26 iterations.\n"
     ]
    }
   ],
   "source": [
    "train_preds = np.zeros(train_df.shape[0])\n",
    "test_preds = np.zeros(test_df.shape[0])\n",
    "train_class = np.zeros(train_df.shape[0])\n",
    "test_class = np.zeros(test_df.shape[0])\n",
    "skf = StratifiedKFold(n_splits=3)\n",
    "validation_scores = []\n",
    "org_scores = []\n",
    "models = []\n",
    "for train_index, test_index in skf.split(train, y):\n",
    "    X_train, X_test = train.iloc[train_index,:], train.iloc[test_index,:]\n",
    "    y_train, y_test = y[train_index], y[test_index]\n",
    "    train_pool = Pool(data=X_train, label=y_train,cat_features=cat_features)\n",
    "    test_pool = Pool(data=X_test, label=y_test, cat_features=cat_features)    \n",
    "    model = CatBoostClassifier(**catboost_params)\n",
    "    model.fit(X=train_pool, eval_set=test_pool,verbose=10)\n",
    "    train_preds[test_index] = model.predict_proba(test_pool)[:,1]\n",
    "    train_class[test_index] = model.predict(test_pool)\n",
    "    test_preds += model.predict_proba(submission_pool)[:,1]/3\n",
    "    test_class += model.predict(submission_pool)\n",
    "    validation_scores.append(f1_score(y_test,model.predict(test_pool),average='micro'))\n",
    "    org_scores.append(f1_score(y_org,model.predict(org_pool),average='micro'))\n",
    "    models.append(model)\n",
    "test_class = np.where(test_class > 2, 1, 0)"
   ]
  },
  {
   "cell_type": "code",
   "execution_count": 408,
   "metadata": {},
   "outputs": [
    {
     "data": {
      "text/plain": [
       "(0.9138915985194579, 0.00109574406471837, 0.9126436781609195)"
      ]
     },
     "execution_count": 408,
     "metadata": {},
     "output_type": "execute_result"
    }
   ],
   "source": [
    "np.mean(validation_scores), np.std(validation_scores), min(validation_scores)"
   ]
  },
  {
   "cell_type": "code",
   "execution_count": 409,
   "metadata": {},
   "outputs": [
    {
     "data": {
      "text/plain": [
       "(0.8936925527219696, 0.0019181392742079796, 0.8916585113119566)"
      ]
     },
     "execution_count": 409,
     "metadata": {},
     "output_type": "execute_result"
    }
   ],
   "source": [
    "np.mean(org_scores), np.std(org_scores), min(org_scores)"
   ]
  },
  {
   "cell_type": "code",
   "execution_count": 410,
   "metadata": {},
   "outputs": [
    {
     "data": {
      "text/plain": [
       "array([[0.75396825, 0.07992821],\n",
       "       [0.24603175, 0.92007179]])"
      ]
     },
     "execution_count": 410,
     "metadata": {},
     "output_type": "execute_result"
    }
   ],
   "source": [
    "best_model = models[np.argmax(validation_scores)]\n",
    "y_hat = np.round(best_model.predict(train))\n",
    "confusion_matrix(y,y_hat,normalize='pred')"
   ]
  },
  {
   "cell_type": "code",
   "execution_count": 411,
   "metadata": {},
   "outputs": [],
   "source": [
    "name = 'catboost_anomaly'\n",
    "model_predictions_train[name] = train_preds\n",
    "model_predictions_test[name] = test_preds"
   ]
  },
  {
   "cell_type": "markdown",
   "metadata": {},
   "source": [
    "## LightGBM"
   ]
  },
  {
   "cell_type": "code",
   "execution_count": 412,
   "metadata": {},
   "outputs": [],
   "source": [
    "lgb_params = {\n",
    "    'objective':'binary',\n",
    "    'learning_rate':0.05,\n",
    "    'seed':0, \n",
    "    'metric':'f1',\n",
    "    'max_depth':6\n",
    "}"
   ]
  },
  {
   "cell_type": "code",
   "execution_count": 413,
   "metadata": {},
   "outputs": [],
   "source": [
    "folds = 3\n",
    "skf = StratifiedKFold(n_splits=folds)\n",
    "train_preds = np.zeros(train_df.shape[0])\n",
    "test_preds = np.zeros(test_df.shape[0])\n",
    "validation_scores = []\n",
    "org_scores = []\n",
    "models = []\n",
    "for train_index, test_index in skf.split(train, y):\n",
    "    X_train, X_test = train.iloc[train_index,:], train.iloc[test_index,:]\n",
    "    y_train, y_test = y[train_index], y[test_index]\n",
    "    train_data = lgb.Dataset(X_train,y_train)\n",
    "    valid_data = lgb.Dataset(X_test,y_test)\n",
    "    evals_result = {}\n",
    "    model = lgb.train(lgb_params, train_data,num_boost_round=1000,early_stopping_rounds=50, valid_sets=valid_data,feval=lgb_f1_score, evals_result=evals_result,verbose_eval=False)\n",
    "    \n",
    "    test_preds += model.predict(test) / 3\n",
    "    train_preds[test_index] = model.predict(X_test)\n",
    "    validation_scores.append(f1_score(y_test,np.round(model.predict(X_test)),average='micro'))\n",
    "    org_scores.append(f1_score(y_org,np.round(model.predict(train_org)),average='micro'))\n",
    "    models.append(model)"
   ]
  },
  {
   "cell_type": "code",
   "execution_count": 414,
   "metadata": {},
   "outputs": [
    {
     "data": {
      "text/plain": [
       "(0.9142452574169884, 0.000768615433601861, 0.9135278514588859)"
      ]
     },
     "execution_count": 414,
     "metadata": {},
     "output_type": "execute_result"
    }
   ],
   "source": [
    "np.mean(validation_scores), np.std(validation_scores), min(validation_scores)"
   ]
  },
  {
   "cell_type": "code",
   "execution_count": 415,
   "metadata": {},
   "outputs": [
    {
     "data": {
      "text/plain": [
       "(0.895688215992171, 0.0004700342990776262, 0.8951125438949974)"
      ]
     },
     "execution_count": 415,
     "metadata": {},
     "output_type": "execute_result"
    }
   ],
   "source": [
    "np.mean(org_scores), np.std(org_scores), min(org_scores)"
   ]
  },
  {
   "cell_type": "code",
   "execution_count": 416,
   "metadata": {},
   "outputs": [
    {
     "data": {
      "text/plain": [
       "array([[0.7       , 0.08007426],\n",
       "       [0.3       , 0.91992574]])"
      ]
     },
     "execution_count": 416,
     "metadata": {},
     "output_type": "execute_result"
    }
   ],
   "source": [
    "best_model = models[np.argmax(validation_scores)]\n",
    "y_hat = np.round(best_model.predict(train))\n",
    "confusion_matrix(y,y_hat,normalize='pred')"
   ]
  },
  {
   "cell_type": "code",
   "execution_count": 417,
   "metadata": {},
   "outputs": [],
   "source": [
    "name = 'lgb_anomaly'\n",
    "model_predictions_train[name] = train_preds\n",
    "model_predictions_test[name] = test_preds"
   ]
  },
  {
   "cell_type": "markdown",
   "metadata": {},
   "source": [
    "## K-NN"
   ]
  },
  {
   "cell_type": "code",
   "execution_count": 418,
   "metadata": {},
   "outputs": [],
   "source": [
    "knn_params = {\n",
    "    'n_neighbors':15,\n",
    "    'weights':'uniform'    \n",
    "}"
   ]
  },
  {
   "cell_type": "code",
   "execution_count": 419,
   "metadata": {},
   "outputs": [],
   "source": [
    "folds = 3\n",
    "skf = StratifiedKFold(n_splits=folds)\n",
    "train_preds = np.zeros(train_df.shape[0])\n",
    "test_preds = np.zeros(test_df.shape[0])\n",
    "validation_scores = []\n",
    "org_scores = []\n",
    "models = []\n",
    "for train_index, test_index in skf.split(train, y):\n",
    "    X_train, X_test = train.iloc[train_index,:].values, train.iloc[test_index,:].values\n",
    "    y_train, y_test = y[train_index], y[test_index]\n",
    "    \n",
    "    model = KNeighborsClassifier(**knn_params)\n",
    "    model.fit(X_train, y_train)\n",
    "    \n",
    "    test_preds += model.predict(test.values) / 3\n",
    "    train_preds[test_index] = model.predict(X_test)\n",
    "    validation_scores.append(f1_score(y_test,model.predict(X_test),average='micro'))\n",
    "    org_scores.append(f1_score(y_org,model.predict(train_org.values),average='micro'))\n",
    "    models.append(model)"
   ]
  },
  {
   "cell_type": "code",
   "execution_count": 420,
   "metadata": {},
   "outputs": [
    {
     "data": {
      "text/plain": [
       "(0.9117108878375522, 0.001250383548715244, 0.9103448275862069)"
      ]
     },
     "execution_count": 420,
     "metadata": {},
     "output_type": "execute_result"
    }
   ],
   "source": [
    "np.mean(validation_scores), np.std(validation_scores), min(validation_scores)"
   ]
  },
  {
   "cell_type": "code",
   "execution_count": 421,
   "metadata": {},
   "outputs": [
    {
     "data": {
      "text/plain": [
       "(0.8921382380596014, 0.0003527867578311166, 0.891716078521674)"
      ]
     },
     "execution_count": 421,
     "metadata": {},
     "output_type": "execute_result"
    }
   ],
   "source": [
    "np.mean(org_scores), np.std(org_scores), min(org_scores)"
   ]
  },
  {
   "cell_type": "code",
   "execution_count": 422,
   "metadata": {},
   "outputs": [
    {
     "data": {
      "text/plain": [
       "array([[0.64670659, 0.08440476],\n",
       "       [0.35329341, 0.91559524]])"
      ]
     },
     "execution_count": 422,
     "metadata": {},
     "output_type": "execute_result"
    }
   ],
   "source": [
    "best_model = models[np.argmax(validation_scores)]\n",
    "y_hat = best_model.predict(train)\n",
    "confusion_matrix(y,y_hat,normalize='pred')"
   ]
  },
  {
   "cell_type": "code",
   "execution_count": 423,
   "metadata": {},
   "outputs": [],
   "source": [
    "name = 'knn_anomaly'\n",
    "model_predictions_train[name] = train_preds\n",
    "model_predictions_test[name] = test_preds"
   ]
  },
  {
   "cell_type": "markdown",
   "metadata": {},
   "source": [
    "## Random forests"
   ]
  },
  {
   "cell_type": "code",
   "execution_count": 424,
   "metadata": {},
   "outputs": [],
   "source": [
    "rf_params = {\n",
    "    'n_estimators':50,\n",
    "    'max_depth':10,\n",
    "    'random_state':0,    \n",
    "}"
   ]
  },
  {
   "cell_type": "code",
   "execution_count": 425,
   "metadata": {},
   "outputs": [],
   "source": [
    "folds = 3\n",
    "skf = StratifiedKFold(n_splits=folds)\n",
    "train_preds = np.zeros(train_df.shape[0])\n",
    "test_preds = np.zeros(test_df.shape[0])\n",
    "validation_scores = []\n",
    "org_scores = []\n",
    "models = []\n",
    "for train_index, test_index in skf.split(train, y):\n",
    "    X_train, X_test = train.iloc[train_index,:].values, train.iloc[test_index,:].values\n",
    "    y_train, y_test = y[train_index], y[test_index]\n",
    "    \n",
    "    model = RandomForestClassifier(**rf_params)\n",
    "    model.fit(X_train, y_train)\n",
    "    \n",
    "    test_preds += model.predict(test.values) / 3\n",
    "    train_preds[test_index] = model.predict(X_test)\n",
    "    validation_scores.append(f1_score(y_test,model.predict(X_test),average='micro'))\n",
    "    org_scores.append(f1_score(y_org,model.predict(train_org.values),average='micro'))\n",
    "    models.append(model)\n"
   ]
  },
  {
   "cell_type": "code",
   "execution_count": 426,
   "metadata": {},
   "outputs": [
    {
     "data": {
      "text/plain": [
       "(0.9125361058273315, 7.606512654814278e-05, 0.9124823196605375)"
      ]
     },
     "execution_count": 426,
     "metadata": {},
     "output_type": "execute_result"
    }
   ],
   "source": [
    "np.mean(validation_scores), np.std(validation_scores), min(validation_scores)"
   ]
  },
  {
   "cell_type": "code",
   "execution_count": 427,
   "metadata": {},
   "outputs": [
    {
     "data": {
      "text/plain": [
       "(0.8968587492564235, 0.0005646936069526574, 0.8961487536699096)"
      ]
     },
     "execution_count": 427,
     "metadata": {},
     "output_type": "execute_result"
    }
   ],
   "source": [
    "np.mean(org_scores), np.std(org_scores), min(org_scores)"
   ]
  },
  {
   "cell_type": "code",
   "execution_count": 428,
   "metadata": {},
   "outputs": [
    {
     "data": {
      "text/plain": [
       "array([[0.77911647, 0.0796746 ],\n",
       "       [0.22088353, 0.9203254 ]])"
      ]
     },
     "execution_count": 428,
     "metadata": {},
     "output_type": "execute_result"
    }
   ],
   "source": [
    "best_model = models[np.argmax(validation_scores)]\n",
    "y_hat = best_model.predict(train)\n",
    "confusion_matrix(y,y_hat,normalize='pred')"
   ]
  },
  {
   "cell_type": "code",
   "execution_count": 429,
   "metadata": {},
   "outputs": [],
   "source": [
    "name = 'rf_anomaly'\n",
    "model_predictions_train[name] = train_preds\n",
    "model_predictions_test[name] = test_preds"
   ]
  },
  {
   "cell_type": "markdown",
   "metadata": {},
   "source": [
    "## SVC"
   ]
  },
  {
   "cell_type": "code",
   "execution_count": 430,
   "metadata": {},
   "outputs": [],
   "source": [
    "svc_params = {\n",
    "    'C':2,\n",
    "    'kernel':'linear',\n",
    "    'random_state':0,    \n",
    "    'probability': False,\n",
    "    'gamma':'scale'\n",
    "}"
   ]
  },
  {
   "cell_type": "code",
   "execution_count": 431,
   "metadata": {},
   "outputs": [],
   "source": [
    "folds = 3\n",
    "skf = StratifiedKFold(n_splits=folds)\n",
    "train_preds = np.zeros(train_df.shape[0])\n",
    "test_preds = np.zeros(test_df.shape[0])\n",
    "validation_scores = []\n",
    "org_scores = []\n",
    "models = []\n",
    "for train_index, test_index in skf.split(train, y):\n",
    "    X_train, X_test = train.iloc[train_index,:].values, train.iloc[test_index,:].values\n",
    "    y_train, y_test = y[train_index], y[test_index]\n",
    "    \n",
    "    model = SVC(**svc_params)\n",
    "    model.fit(X_train, y_train)\n",
    "    \n",
    "    test_preds += model.predict(test.values) / 3\n",
    "    train_preds[test_index] = model.predict(X_test)\n",
    "    validation_scores.append(f1_score(y_test,model.predict(X_test),average='micro'))\n",
    "    org_scores.append(f1_score(y_org,model.predict(train_org.values),average='micro'))\n",
    "    models.append(model)"
   ]
  },
  {
   "cell_type": "code",
   "execution_count": 432,
   "metadata": {},
   "outputs": [
    {
     "data": {
      "text/plain": [
       "(0.9112394746484881, 0.0008026435619151851, 0.9101838755304101)"
      ]
     },
     "execution_count": 432,
     "metadata": {},
     "output_type": "execute_result"
    }
   ],
   "source": [
    "np.mean(validation_scores), np.std(validation_scores), min(validation_scores)"
   ]
  },
  {
   "cell_type": "code",
   "execution_count": 433,
   "metadata": {},
   "outputs": [
    {
     "data": {
      "text/plain": [
       "(0.8900466294398711, 1.1102230246251565e-16, 0.890046629439871)"
      ]
     },
     "execution_count": 433,
     "metadata": {},
     "output_type": "execute_result"
    }
   ],
   "source": [
    "np.mean(org_scores), np.std(org_scores), min(org_scores)"
   ]
  },
  {
   "cell_type": "code",
   "execution_count": 434,
   "metadata": {},
   "outputs": [
    {
     "data": {
      "text/plain": [
       "array([[0.69230769, 0.0880875 ],\n",
       "       [0.30769231, 0.9119125 ]])"
      ]
     },
     "execution_count": 434,
     "metadata": {},
     "output_type": "execute_result"
    }
   ],
   "source": [
    "best_model = models[np.argmax(validation_scores)]\n",
    "y_hat = best_model.predict(train)\n",
    "confusion_matrix(y,y_hat,normalize='pred')"
   ]
  },
  {
   "cell_type": "code",
   "execution_count": 435,
   "metadata": {},
   "outputs": [],
   "source": [
    "name = 'svc_linear_anomaly'\n",
    "model_predictions_train[name] = train_preds\n",
    "model_predictions_test[name] = test_preds"
   ]
  },
  {
   "cell_type": "code",
   "execution_count": 436,
   "metadata": {},
   "outputs": [],
   "source": [
    "svc_params = {\n",
    "    'C':2,\n",
    "    'kernel':'rbf',\n",
    "    'random_state':0,    \n",
    "    'probability': False,\n",
    "    'gamma':'scale'\n",
    "}"
   ]
  },
  {
   "cell_type": "code",
   "execution_count": 437,
   "metadata": {},
   "outputs": [],
   "source": [
    "folds = 3\n",
    "skf = StratifiedKFold(n_splits=folds)\n",
    "train_preds = np.zeros(train_df.shape[0])\n",
    "test_preds = np.zeros(test_df.shape[0])\n",
    "validation_scores = []\n",
    "org_scores = []\n",
    "models = []\n",
    "for train_index, test_index in skf.split(train, y):\n",
    "    X_train, X_test = train.iloc[train_index,:].values, train.iloc[test_index,:].values\n",
    "    y_train, y_test = y[train_index], y[test_index]\n",
    "    \n",
    "    model = SVC(**svc_params)\n",
    "    model.fit(X_train, y_train)\n",
    "    \n",
    "    test_preds += model.predict(test.values) / 3\n",
    "    train_preds[test_index] = model.predict(X_test)\n",
    "    validation_scores.append(f1_score(y_test,model.predict(X_test),average='micro'))\n",
    "    org_scores.append(f1_score(y_org,model.predict(train_org.values),average='micro'))\n",
    "    models.append(model)"
   ]
  },
  {
   "cell_type": "code",
   "execution_count": 438,
   "metadata": {},
   "outputs": [
    {
     "data": {
      "text/plain": [
       "(0.9135969470383948, 0.0012302422268772803, 0.9124823196605375)"
      ]
     },
     "execution_count": 438,
     "metadata": {},
     "output_type": "execute_result"
    }
   ],
   "source": [
    "np.mean(validation_scores), np.std(validation_scores), min(validation_scores)"
   ]
  },
  {
   "cell_type": "code",
   "execution_count": 439,
   "metadata": {},
   "outputs": [
    {
     "data": {
      "text/plain": [
       "(0.896628480417554, 0.00019569088379446943, 0.8964365897184964)"
      ]
     },
     "execution_count": 439,
     "metadata": {},
     "output_type": "execute_result"
    }
   ],
   "source": [
    "np.mean(org_scores), np.std(org_scores), min(org_scores)"
   ]
  },
  {
   "cell_type": "code",
   "execution_count": 440,
   "metadata": {},
   "outputs": [
    {
     "data": {
      "text/plain": [
       "array([[0.76518219, 0.07996411],\n",
       "       [0.23481781, 0.92003589]])"
      ]
     },
     "execution_count": 440,
     "metadata": {},
     "output_type": "execute_result"
    }
   ],
   "source": [
    "best_model = models[np.argmax(validation_scores)]\n",
    "y_hat = best_model.predict(train)\n",
    "confusion_matrix(y,y_hat,normalize='pred')"
   ]
  },
  {
   "cell_type": "code",
   "execution_count": 441,
   "metadata": {},
   "outputs": [],
   "source": [
    "name = 'svc_rbf_anomaly'\n",
    "model_predictions_train[name] = train_preds\n",
    "model_predictions_test[name] = test_preds"
   ]
  },
  {
   "cell_type": "markdown",
   "metadata": {},
   "source": [
    "# Base features"
   ]
  },
  {
   "cell_type": "code",
   "execution_count": 442,
   "metadata": {},
   "outputs": [],
   "source": [
    "features = [\n",
    "    'additional_fare',\n",
    "    'duration',\n",
    "    'meter_waiting',\n",
    "    'meter_waiting_fare',\n",
    "    'meter_waiting_till_pickup',\n",
    "    'fare',\n",
    "    'pickup_date',\n",
    "    'pickup_hour',\n",
    "    'pickup_minute',\n",
    "    'drop_date',\n",
    "    'drop_hour',\n",
    "    'drop_minute',\n",
    "    'pick_cluster',\n",
    "    'is_more_than_one_day',\n",
    "    'distance_km',\n",
    "    'fare_per_km',\n",
    "    'pickup_timeslot',\n",
    "    'day_of_week',\n",
    "    'is_weekday',\n",
    "    'cal_time_difference',\n",
    "    'fare_per_distance',\n",
    "    'fare_per_duration',\n",
    "    'avg_speed',\n",
    "    'meter_waiting_per_duration',\n",
    "    'meter_waiting_fare_per_meter_waiting',\n",
    "    'meter_waiting_fare_per_duration',\n",
    "    'addtional_fare_per_fare',\n",
    "    'addtional_fare_per_distance',\n",
    "    'addtional_fare_per_duration',\n",
    "    'fare-additional_fare',\n",
    "    'fare-additional_fare-meter_waiting_fare',\n",
    "    'fare-additional_fare_per_distance',\n",
    "    'fare-additional_fare_per_duration',\n",
    "    'fare-additional_fare-meter_waiting_fare_per_distance',\n",
    "    'fare-additional_fare-meter_waiting_fare_per_duration',\n",
    "    'meter_waiting_till_pickup_per_meter_waiting',\n",
    "    'meter_waiting_after_pickup',\n",
    "    'meter_waiting_after_pickup_per_duration',\n",
    "    'meter_waiting_till_pickup_per_duration',\n",
    "    'meter_waiting_till_pickup_per_distance',\n",
    "    'meter_waiting_after_pickup_per_distance',\n",
    "    'meter_waiting_till_pickup_per_fare',\n",
    "    'meter_waiting_after_pickup_per_fare',\n",
    "    'meter_waiting_till_pickup_per_meter_waiting_fare',\n",
    "    'meter_waiting_after_pickup_per_meter_waiting_fare',\n",
    "    'fare_per_distance_mean',\n",
    "    'fare_per_distance_mean_diff',\n",
    "    'avg_speed_mean',\n",
    "    'avg_speed_mean_diff',\n",
    "    'meter_waiting_per_duration_mean',\n",
    "    'meter_waiting_per_duration_mean_diff',\n",
    "    'meter_waiting_fare_per_meter_waiting_mean',\n",
    "    'meter_waiting_fare_per_meter_waiting_mean_diff',\n",
    "    'meter_waiting_fare_per_duration_mean',\n",
    "    'meter_waiting_fare_per_duration_mean_diff',\n",
    "    'addtional_fare_per_fare_mean',\n",
    "    'addtional_fare_per_fare_mean_diff',\n",
    "    'addtional_fare_per_distance_mean',\n",
    "    'addtional_fare_per_distance_mean_diff',\n",
    "    'addtional_fare_per_duration_mean',\n",
    "    'addtional_fare_per_duration_mean_diff',\n",
    "]\n",
    "\n",
    "cat_features = [\n",
    "    'pickup_date',\n",
    "    'pickup_hour',\n",
    "    'pickup_minute',\n",
    "    'drop_date',\n",
    "    'drop_hour',\n",
    "    'drop_minute',\n",
    "    'pick_cluster',\n",
    "    'is_more_than_one_day',\n",
    "    'pickup_timeslot',\n",
    "    'day_of_week',\n",
    "    'is_weekday',\n",
    "]"
   ]
  },
  {
   "cell_type": "code",
   "execution_count": 443,
   "metadata": {},
   "outputs": [
    {
     "name": "stderr",
     "output_type": "stream",
     "text": [
      "/home/heshan/anaconda3/envs/kaggle/lib/python3.7/site-packages/ipykernel_launcher.py:6: SettingWithCopyWarning: \n",
      "A value is trying to be set on a copy of a slice from a DataFrame.\n",
      "Try using .loc[row_indexer,col_indexer] = value instead\n",
      "\n",
      "See the caveats in the documentation: http://pandas.pydata.org/pandas-docs/stable/user_guide/indexing.html#returning-a-view-versus-a-copy\n",
      "  \n",
      "/home/heshan/anaconda3/envs/kaggle/lib/python3.7/site-packages/ipykernel_launcher.py:7: SettingWithCopyWarning: \n",
      "A value is trying to be set on a copy of a slice from a DataFrame.\n",
      "Try using .loc[row_indexer,col_indexer] = value instead\n",
      "\n",
      "See the caveats in the documentation: http://pandas.pydata.org/pandas-docs/stable/user_guide/indexing.html#returning-a-view-versus-a-copy\n",
      "  import sys\n",
      "/home/heshan/anaconda3/envs/kaggle/lib/python3.7/site-packages/ipykernel_launcher.py:8: SettingWithCopyWarning: \n",
      "A value is trying to be set on a copy of a slice from a DataFrame.\n",
      "Try using .loc[row_indexer,col_indexer] = value instead\n",
      "\n",
      "See the caveats in the documentation: http://pandas.pydata.org/pandas-docs/stable/user_guide/indexing.html#returning-a-view-versus-a-copy\n",
      "  \n"
     ]
    }
   ],
   "source": [
    "train = train_df[features]\n",
    "test = test_df[features]\n",
    "train_org = train_df_org[features]\n",
    "y = train_df['label']\n",
    "for each in cat_features:\n",
    "    train[each] = train[each].values.astype(int)\n",
    "    test[each] = test[each].values.astype(int)\n",
    "    train_org[each] = train_org[each].values.astype(int)"
   ]
  },
  {
   "cell_type": "markdown",
   "metadata": {},
   "source": [
    "### Catboost"
   ]
  },
  {
   "cell_type": "code",
   "execution_count": 444,
   "metadata": {},
   "outputs": [],
   "source": [
    "catboost_params = {\n",
    "    'loss_function':'Logloss',\n",
    "    'random_state':0,\n",
    "    'early_stopping_rounds':50,\n",
    "    'eval_metric':'F1',\n",
    "    'border_count':512\n",
    "}"
   ]
  },
  {
   "cell_type": "code",
   "execution_count": 445,
   "metadata": {},
   "outputs": [],
   "source": [
    "submission_pool = Pool(data=test_df[features], cat_features=cat_features)\n",
    "org_pool = Pool(data=train_org[features], cat_features=cat_features)"
   ]
  },
  {
   "cell_type": "code",
   "execution_count": 446,
   "metadata": {},
   "outputs": [
    {
     "name": "stdout",
     "output_type": "stream",
     "text": [
      "Learning rate set to 0.057693\n",
      "0:\tlearn: 0.9648677\ttest: 0.9632484\tbest: 0.9632484 (0)\ttotal: 48.6ms\tremaining: 48.6s\n",
      "10:\tlearn: 0.9698117\ttest: 0.9702933\tbest: 0.9713853 (3)\ttotal: 385ms\tremaining: 34.6s\n",
      "20:\tlearn: 0.9724266\ttest: 0.9752664\tbest: 0.9761112 (19)\ttotal: 708ms\tremaining: 33s\n",
      "30:\tlearn: 0.9747203\ttest: 0.9771925\tbest: 0.9774895 (28)\ttotal: 1.03s\tremaining: 32.2s\n",
      "40:\tlearn: 0.9764801\ttest: 0.9775528\tbest: 0.9775785 (31)\ttotal: 1.34s\tremaining: 31.3s\n",
      "50:\tlearn: 0.9780687\ttest: 0.9750240\tbest: 0.9775785 (31)\ttotal: 1.64s\tremaining: 30.6s\n",
      "60:\tlearn: 0.9791467\ttest: 0.9690462\tbest: 0.9775785 (31)\ttotal: 1.96s\tremaining: 30.2s\n",
      "70:\tlearn: 0.9799024\ttest: 0.9610568\tbest: 0.9775785 (31)\ttotal: 2.33s\tremaining: 30.5s\n",
      "80:\tlearn: 0.9807941\ttest: 0.9477033\tbest: 0.9775785 (31)\ttotal: 2.69s\tremaining: 30.5s\n",
      "Stopped by overfitting detector  (50 iterations wait)\n",
      "\n",
      "bestTest = 0.9775784753\n",
      "bestIteration = 31\n",
      "\n",
      "Shrink model to first 32 iterations.\n",
      "Learning rate set to 0.057693\n",
      "0:\tlearn: 0.9644670\ttest: 0.9661081\tbest: 0.9661081 (0)\ttotal: 27.5ms\tremaining: 27.5s\n",
      "10:\tlearn: 0.9715152\ttest: 0.9727575\tbest: 0.9727575 (10)\ttotal: 413ms\tremaining: 37.1s\n",
      "20:\tlearn: 0.9737817\ttest: 0.9740322\tbest: 0.9740322 (20)\ttotal: 806ms\tremaining: 37.6s\n",
      "30:\tlearn: 0.9754009\ttest: 0.9748524\tbest: 0.9748571 (27)\ttotal: 1.24s\tremaining: 38.7s\n",
      "40:\tlearn: 0.9763187\ttest: 0.9759588\tbest: 0.9759588 (40)\ttotal: 1.63s\tremaining: 38.2s\n",
      "50:\tlearn: 0.9774343\ttest: 0.9771489\tbest: 0.9771489 (50)\ttotal: 1.95s\tremaining: 36.4s\n",
      "60:\tlearn: 0.9785080\ttest: 0.9765033\tbest: 0.9773314 (58)\ttotal: 2.4s\tremaining: 37s\n",
      "70:\tlearn: 0.9788352\ttest: 0.9759800\tbest: 0.9773314 (58)\ttotal: 2.76s\tremaining: 36.1s\n",
      "80:\tlearn: 0.9796777\ttest: 0.9740773\tbest: 0.9773314 (58)\ttotal: 3.07s\tremaining: 34.8s\n",
      "90:\tlearn: 0.9802871\ttest: 0.9722571\tbest: 0.9773314 (58)\ttotal: 3.56s\tremaining: 35.6s\n",
      "100:\tlearn: 0.9807112\ttest: 0.9691382\tbest: 0.9773314 (58)\ttotal: 3.95s\tremaining: 35.2s\n",
      "Stopped by overfitting detector  (50 iterations wait)\n",
      "\n",
      "bestTest = 0.9773314204\n",
      "bestIteration = 58\n",
      "\n",
      "Shrink model to first 59 iterations.\n",
      "Learning rate set to 0.057694\n",
      "0:\tlearn: 0.9692703\ttest: 0.9625850\tbest: 0.9625850 (0)\ttotal: 46ms\tremaining: 46s\n",
      "10:\tlearn: 0.9757351\ttest: 0.9676749\tbest: 0.9680650 (6)\ttotal: 483ms\tremaining: 43.4s\n",
      "20:\tlearn: 0.9766932\ttest: 0.9680227\tbest: 0.9680650 (6)\ttotal: 945ms\tremaining: 44s\n",
      "30:\tlearn: 0.9780430\ttest: 0.9691856\tbest: 0.9692833 (27)\ttotal: 1.29s\tremaining: 40.4s\n",
      "40:\tlearn: 0.9789755\ttest: 0.9702144\tbest: 0.9702144 (40)\ttotal: 1.62s\tremaining: 37.8s\n",
      "50:\tlearn: 0.9792991\ttest: 0.9706581\tbest: 0.9706581 (50)\ttotal: 2.05s\tremaining: 38.2s\n",
      "60:\tlearn: 0.9799101\ttest: 0.9702443\tbest: 0.9706581 (50)\ttotal: 2.45s\tremaining: 37.8s\n",
      "70:\tlearn: 0.9804747\ttest: 0.9702217\tbest: 0.9706581 (50)\ttotal: 2.77s\tremaining: 36.3s\n",
      "80:\tlearn: 0.9807527\ttest: 0.9704931\tbest: 0.9706946 (76)\ttotal: 3.16s\tremaining: 35.9s\n",
      "90:\tlearn: 0.9810833\ttest: 0.9707591\tbest: 0.9707591 (90)\ttotal: 3.58s\tremaining: 35.7s\n",
      "100:\tlearn: 0.9816509\ttest: 0.9711401\tbest: 0.9711401 (99)\ttotal: 3.87s\tremaining: 34.4s\n",
      "110:\tlearn: 0.9820308\ttest: 0.9709551\tbest: 0.9711401 (99)\ttotal: 4.16s\tremaining: 33.3s\n",
      "120:\tlearn: 0.9823603\ttest: 0.9708516\tbest: 0.9711401 (99)\ttotal: 4.45s\tremaining: 32.3s\n",
      "130:\tlearn: 0.9828330\ttest: 0.9711346\tbest: 0.9711401 (99)\ttotal: 4.78s\tremaining: 31.7s\n",
      "140:\tlearn: 0.9830216\ttest: 0.9712436\tbest: 0.9713361 (139)\ttotal: 5.08s\tremaining: 30.9s\n",
      "150:\tlearn: 0.9831647\ttest: 0.9713361\tbest: 0.9714286 (141)\ttotal: 5.37s\tremaining: 30.2s\n",
      "160:\tlearn: 0.9836884\ttest: 0.9715211\tbest: 0.9715265 (154)\ttotal: 5.69s\tremaining: 29.6s\n",
      "170:\tlearn: 0.9845445\ttest: 0.9711346\tbest: 0.9715265 (154)\ttotal: 6.02s\tremaining: 29.2s\n",
      "180:\tlearn: 0.9847365\ttest: 0.9714177\tbest: 0.9715265 (154)\ttotal: 6.34s\tremaining: 28.7s\n",
      "190:\tlearn: 0.9853040\ttest: 0.9715157\tbest: 0.9716136 (183)\ttotal: 6.65s\tremaining: 28.2s\n",
      "200:\tlearn: 0.9854460\ttest: 0.9709330\tbest: 0.9716136 (183)\ttotal: 7.04s\tremaining: 28s\n",
      "210:\tlearn: 0.9857314\ttest: 0.9710311\tbest: 0.9716136 (183)\ttotal: 7.5s\tremaining: 28.1s\n",
      "220:\tlearn: 0.9859696\ttest: 0.9710200\tbest: 0.9716136 (183)\ttotal: 7.81s\tremaining: 27.5s\n",
      "230:\tlearn: 0.9863027\ttest: 0.9712107\tbest: 0.9716136 (183)\ttotal: 8.14s\tremaining: 27.1s\n",
      "Stopped by overfitting detector  (50 iterations wait)\n",
      "\n",
      "bestTest = 0.9716136407\n",
      "bestIteration = 183\n",
      "\n",
      "Shrink model to first 184 iterations.\n"
     ]
    }
   ],
   "source": [
    "train_preds = np.zeros(train_df.shape[0])\n",
    "test_preds = np.zeros(test_df.shape[0])\n",
    "train_class = np.zeros(train_df.shape[0])\n",
    "test_class = np.zeros(test_df.shape[0])\n",
    "skf = StratifiedKFold(n_splits=3)\n",
    "validation_scores = []\n",
    "org_scores = []\n",
    "models = []\n",
    "for train_index, test_index in skf.split(train, y):\n",
    "    X_train, X_test = train.iloc[train_index,:], train.iloc[test_index,:]\n",
    "    y_train, y_test = y[train_index], y[test_index]\n",
    "    train_pool = Pool(data=X_train, label=y_train,cat_features=cat_features)\n",
    "    test_pool = Pool(data=X_test, label=y_test, cat_features=cat_features)    \n",
    "    model = CatBoostClassifier(**catboost_params)\n",
    "    model.fit(X=train_pool, eval_set=test_pool,verbose=10)\n",
    "    train_preds[test_index] = model.predict_proba(test_pool)[:,1]\n",
    "    train_class[test_index] = model.predict(test_pool)\n",
    "    test_preds += model.predict_proba(submission_pool)[:,1]/3\n",
    "    test_class += model.predict(submission_pool)\n",
    "    validation_scores.append(f1_score(y_test,model.predict(test_pool),average='micro'))\n",
    "    org_scores.append(f1_score(y_org,model.predict(org_pool),average='micro'))\n",
    "    models.append(model)\n",
    "test_class = np.where(test_class > 2, 1, 0)"
   ]
  },
  {
   "cell_type": "code",
   "execution_count": 447,
   "metadata": {},
   "outputs": [
    {
     "data": {
      "text/plain": [
       "(0.9546173563927064, 0.0051738533962423115, 0.9473032714412025)"
      ]
     },
     "execution_count": 447,
     "metadata": {},
     "output_type": "execute_result"
    }
   ],
   "source": [
    "np.mean(validation_scores), np.std(validation_scores), min(validation_scores)"
   ]
  },
  {
   "cell_type": "code",
   "execution_count": 448,
   "metadata": {},
   "outputs": [
    {
     "data": {
      "text/plain": [
       "(0.9505689559227064, 0.004347838439132529, 0.945253583558805)"
      ]
     },
     "execution_count": 448,
     "metadata": {},
     "output_type": "execute_result"
    }
   ],
   "source": [
    "np.mean(org_scores), np.std(org_scores), min(org_scores)"
   ]
  },
  {
   "cell_type": "code",
   "execution_count": 449,
   "metadata": {},
   "outputs": [
    {
     "data": {
      "text/plain": [
       "array([[0.91096634, 0.04281441],\n",
       "       [0.08903366, 0.95718559]])"
      ]
     },
     "execution_count": 449,
     "metadata": {},
     "output_type": "execute_result"
    }
   ],
   "source": [
    "best_model = models[np.argmax(validation_scores)]\n",
    "y_hat = np.round(best_model.predict(train))\n",
    "confusion_matrix(y,y_hat,normalize='pred')"
   ]
  },
  {
   "cell_type": "code",
   "execution_count": 450,
   "metadata": {},
   "outputs": [],
   "source": [
    "name = 'catboost_base'\n",
    "model_predictions_train[name] = train_preds\n",
    "model_predictions_test[name] = test_preds"
   ]
  },
  {
   "cell_type": "markdown",
   "metadata": {},
   "source": [
    "### lgb"
   ]
  },
  {
   "cell_type": "code",
   "execution_count": 451,
   "metadata": {},
   "outputs": [],
   "source": [
    "lgb_params = {\n",
    "    'objective':'binary',\n",
    "    'learning_rate':0.05,\n",
    "    'seed':0, \n",
    "    'metric':'f1',\n",
    "    'max_depth':6\n",
    "}"
   ]
  },
  {
   "cell_type": "code",
   "execution_count": 452,
   "metadata": {},
   "outputs": [],
   "source": [
    "folds = 3\n",
    "skf = StratifiedKFold(n_splits=folds)\n",
    "train_preds = np.zeros(train_df.shape[0])\n",
    "test_preds = np.zeros(test_df.shape[0])\n",
    "validation_scores = []\n",
    "org_scores = []\n",
    "models = []\n",
    "for train_index, test_index in skf.split(train, y):\n",
    "    X_train, X_test = train.iloc[train_index,:], train.iloc[test_index,:]\n",
    "    y_train, y_test = y[train_index], y[test_index]\n",
    "    train_data = lgb.Dataset(X_train,y_train)\n",
    "    valid_data = lgb.Dataset(X_test,y_test)\n",
    "    evals_result = {}\n",
    "    model = lgb.train(lgb_params, train_data,num_boost_round=1000,early_stopping_rounds=50, valid_sets=valid_data,feval=lgb_f1_score, evals_result=evals_result,verbose_eval=False)\n",
    "    \n",
    "    test_preds += model.predict(test) / 3\n",
    "    train_preds[test_index] = model.predict(X_test)\n",
    "    validation_scores.append(f1_score(y_test,np.round(model.predict(X_test)),average='micro'))\n",
    "    org_scores.append(f1_score(y_org,np.round(model.predict(train_org)),average='micro'))\n",
    "    models.append(model)"
   ]
  },
  {
   "cell_type": "code",
   "execution_count": 453,
   "metadata": {},
   "outputs": [
    {
     "data": {
      "text/plain": [
       "(0.9545584531927993, 0.004861253674952765, 0.9478337754199824)"
      ]
     },
     "execution_count": 453,
     "metadata": {},
     "output_type": "execute_result"
    }
   ],
   "source": [
    "np.mean(validation_scores), np.std(validation_scores), min(validation_scores)"
   ]
  },
  {
   "cell_type": "code",
   "execution_count": 454,
   "metadata": {},
   "outputs": [
    {
     "data": {
      "text/plain": [
       "(0.9576881008577515, 0.0008628682730189044, 0.9564791894536872)"
      ]
     },
     "execution_count": 454,
     "metadata": {},
     "output_type": "execute_result"
    }
   ],
   "source": [
    "np.mean(org_scores), np.std(org_scores), min(org_scores)"
   ]
  },
  {
   "cell_type": "code",
   "execution_count": 455,
   "metadata": {},
   "outputs": [
    {
     "data": {
      "text/plain": [
       "array([[0.91637011, 0.0313072 ],\n",
       "       [0.08362989, 0.9686928 ]])"
      ]
     },
     "execution_count": 455,
     "metadata": {},
     "output_type": "execute_result"
    }
   ],
   "source": [
    "best_model = models[np.argmax(validation_scores)]\n",
    "y_hat = np.round(best_model.predict(train))\n",
    "confusion_matrix(y,y_hat,normalize='pred')"
   ]
  },
  {
   "cell_type": "code",
   "execution_count": 456,
   "metadata": {},
   "outputs": [],
   "source": [
    "name = 'lgb_base'\n",
    "model_predictions_train[name] = train_preds\n",
    "model_predictions_test[name] = test_preds"
   ]
  },
  {
   "cell_type": "markdown",
   "metadata": {},
   "source": [
    "# Linear prediction difference"
   ]
  },
  {
   "cell_type": "code",
   "execution_count": 457,
   "metadata": {},
   "outputs": [],
   "source": [
    "features = [\n",
    "    'predicted_fare_diff',\n",
    "    'predicted_fare_diff_per_fare',\n",
    "    'predicted_fare_diff_per_predicted_fare',\n",
    "    'predicted_fare_diff_per_distance',\n",
    "    'predicted_duration_diff',\n",
    "    'predicted_duraton_diff_per_duraton',\n",
    "    'predicted_duraton_diff_per_predicted_duration',\n",
    "    'predicted_duraton_diff_per_distance',\n",
    "    'predicted_fare_per_duration_diff',\n",
    "    'predicted_avg_speed_diff',\n",
    "    'predicted_meter_waiting_diff',\n",
    "    'predicted_meter_waiting_diff_per_meter_waiting',\n",
    "    'predicted_meter_waiting_diff_per_distance',\n",
    "    'predicted_meter_waiting_diff_per_predicted_meter_waiting',\n",
    "    'predicted_meter_waiting_per_duration_diff',\n",
    "    'predicted_meter_waiting_fare_diff',\n",
    "    'predicted_meter_waiting_fare_diff_per_distance',\n",
    "    'predicted_meter_waiting_fare_diff_per_predicted_meter_waiting_fare',\n",
    "    'predicted_meter_waiting_fare_per_meter_waiting_diff',\n",
    "    'predicted_meter_waiting_fare_per_duration_diff',\n",
    "    'predicted_additional_fare_diff',\n",
    "    'predicted_additional_fare_diff_per_additional_fare',\n",
    "    'predicted_addtional_fare_diff_per_distance',\n",
    "    'predicted_meter_waiting_till_pickup_diff',\n",
    "    'predicted_meter_waiting_till_pickup_diff_per_meter_waiting_till_pickup',\n",
    "    'predicted_meter_waiting_till_pickup_per_meter_waiting_diff',\n",
    "    'predicted_fare_diff_per_distance_normalized',\n",
    "    'predicted_fare_diff_normalized',\n",
    "    'predicted_fare_diff_per_fare_normalized',\n",
    "    'predicted_fare_diff_per_predicted_fare_normalized',\n",
    "    'predicted_duraton_diff_per_duraton_normalized',\n",
    "    'predicted_duraton_diff_per_predicted_duration_normalized',\n",
    "    'predicted_fare_per_duration_diff_normalized',\n",
    "    'predicted_avg_speed_diff_normalized',\n",
    "    'predicted_meter_waiting_diff_normalized',\n",
    "    'predicted_meter_waiting_diff_per_meter_waiting_normalized',\n",
    "    'predicted_meter_waiting_diff_per_predicted_meter_waiting_normalized',\n",
    "    'predicted_meter_waiting_per_duration_diff_normalized',\n",
    "    'predicted_meter_waiting_fare_diff_normalized',\n",
    "    'predicted_meter_waiting_fare_diff_per_meter_waiting_fare_normalized',\n",
    "    'predicted_meter_waiting_fare_diff_per_predicted_meter_waiting_fare_normalized',\n",
    "    'predicted_meter_waiting_fare_per_meter_waiting_diff_normalized',\n",
    "    'predicted_meter_waiting_fare_per_duration_diff_normalized',\n",
    "    'predicted_additional_fare_diff_normalized',\n",
    "    'predicted_additional_fare_diff_per_additional_fare_normalized',\n",
    "]\n",
    "\n",
    "cat_features = []"
   ]
  },
  {
   "cell_type": "code",
   "execution_count": 458,
   "metadata": {},
   "outputs": [],
   "source": [
    "train = train_df[features]\n",
    "test = test_df[features]\n",
    "train_org = train_df_org[features]\n",
    "y = train_df['label']\n",
    "for each in cat_features:\n",
    "    train[each] = train[each].values.astype(int)\n",
    "    test[each] = test[each].values.astype(int)\n",
    "    train_org[each] = train_org[each].values.astype(int)"
   ]
  },
  {
   "cell_type": "markdown",
   "metadata": {},
   "source": [
    "### Catboost"
   ]
  },
  {
   "cell_type": "code",
   "execution_count": 459,
   "metadata": {},
   "outputs": [],
   "source": [
    "catboost_params = {\n",
    "    'loss_function':'Logloss',\n",
    "    'random_state':0,\n",
    "    'early_stopping_rounds':50,\n",
    "    'eval_metric':'F1',\n",
    "    'border_count':512\n",
    "}"
   ]
  },
  {
   "cell_type": "code",
   "execution_count": 460,
   "metadata": {},
   "outputs": [],
   "source": [
    "submission_pool = Pool(data=test_df[features], cat_features=cat_features)\n",
    "org_pool = Pool(data=train_org[features], cat_features=cat_features)"
   ]
  },
  {
   "cell_type": "code",
   "execution_count": 461,
   "metadata": {},
   "outputs": [
    {
     "name": "stdout",
     "output_type": "stream",
     "text": [
      "Learning rate set to 0.057693\n",
      "0:\tlearn: 0.9691234\ttest: 0.9694540\tbest: 0.9694540 (0)\ttotal: 25.1ms\tremaining: 25.1s\n",
      "10:\tlearn: 0.9729085\ttest: 0.9740557\tbest: 0.9740557 (10)\ttotal: 245ms\tremaining: 22s\n",
      "20:\tlearn: 0.9743467\ttest: 0.9757077\tbest: 0.9759786 (16)\ttotal: 459ms\tremaining: 21.4s\n",
      "30:\tlearn: 0.9751710\ttest: 0.9761380\tbest: 0.9761471 (29)\ttotal: 662ms\tremaining: 20.7s\n",
      "40:\tlearn: 0.9760513\ttest: 0.9764943\tbest: 0.9765925 (35)\ttotal: 872ms\tremaining: 20.4s\n",
      "50:\tlearn: 0.9765681\ttest: 0.9772312\tbest: 0.9773251 (48)\ttotal: 1.08s\tremaining: 20.1s\n",
      "60:\tlearn: 0.9771278\ttest: 0.9778889\tbest: 0.9778889 (60)\ttotal: 1.36s\tremaining: 21s\n",
      "70:\tlearn: 0.9776946\ttest: 0.9776923\tbest: 0.9778889 (60)\ttotal: 1.56s\tremaining: 20.5s\n",
      "80:\tlearn: 0.9781680\ttest: 0.9778718\tbest: 0.9778889 (60)\ttotal: 1.79s\tremaining: 20.3s\n",
      "90:\tlearn: 0.9787397\ttest: 0.9778718\tbest: 0.9780643 (86)\ttotal: 2s\tremaining: 20s\n",
      "100:\tlearn: 0.9793646\ttest: 0.9777692\tbest: 0.9781626 (94)\ttotal: 2.21s\tremaining: 19.7s\n",
      "110:\tlearn: 0.9794527\ttest: 0.9779575\tbest: 0.9781626 (94)\ttotal: 2.44s\tremaining: 19.5s\n",
      "120:\tlearn: 0.9799251\ttest: 0.9778676\tbest: 0.9781626 (94)\ttotal: 2.71s\tremaining: 19.7s\n",
      "130:\tlearn: 0.9802094\ttest: 0.9780516\tbest: 0.9781626 (94)\ttotal: 3.01s\tremaining: 19.9s\n",
      "140:\tlearn: 0.9808330\ttest: 0.9780474\tbest: 0.9781626 (94)\ttotal: 3.2s\tremaining: 19.5s\n",
      "Stopped by overfitting detector  (50 iterations wait)\n",
      "\n",
      "bestTest = 0.9781625782\n",
      "bestIteration = 94\n",
      "\n",
      "Shrink model to first 95 iterations.\n",
      "Learning rate set to 0.057693\n",
      "0:\tlearn: 0.9713079\ttest: 0.9747030\tbest: 0.9747030 (0)\ttotal: 16.2ms\tremaining: 16.2s\n",
      "10:\tlearn: 0.9729111\ttest: 0.9749213\tbest: 0.9751861 (5)\ttotal: 201ms\tremaining: 18s\n",
      "20:\tlearn: 0.9751386\ttest: 0.9768510\tbest: 0.9768510 (20)\ttotal: 391ms\tremaining: 18.2s\n",
      "30:\tlearn: 0.9760253\ttest: 0.9769400\tbest: 0.9771358 (25)\ttotal: 583ms\tremaining: 18.2s\n",
      "40:\tlearn: 0.9763455\ttest: 0.9771051\tbest: 0.9772162 (34)\ttotal: 803ms\tremaining: 18.8s\n",
      "50:\tlearn: 0.9768623\ttest: 0.9772923\tbest: 0.9773903 (44)\ttotal: 1.17s\tremaining: 21.8s\n",
      "60:\tlearn: 0.9774753\ttest: 0.9772880\tbest: 0.9773903 (44)\ttotal: 1.44s\tremaining: 22.2s\n",
      "70:\tlearn: 0.9781337\ttest: 0.9771900\tbest: 0.9773903 (44)\ttotal: 1.77s\tremaining: 23.2s\n",
      "80:\tlearn: 0.9788888\ttest: 0.9770919\tbest: 0.9773903 (44)\ttotal: 2.11s\tremaining: 23.9s\n",
      "90:\tlearn: 0.9791257\ttest: 0.9767041\tbest: 0.9773903 (44)\ttotal: 2.42s\tremaining: 24.2s\n",
      "Stopped by overfitting detector  (50 iterations wait)\n",
      "\n",
      "bestTest = 0.9773903047\n",
      "bestIteration = 44\n",
      "\n",
      "Shrink model to first 45 iterations.\n",
      "Learning rate set to 0.057694\n",
      "0:\tlearn: 0.9750526\ttest: 0.9664762\tbest: 0.9664762 (0)\ttotal: 15.1ms\tremaining: 15.1s\n",
      "10:\tlearn: 0.9775948\ttest: 0.9698703\tbest: 0.9700781 (9)\ttotal: 219ms\tremaining: 19.7s\n",
      "20:\tlearn: 0.9779077\ttest: 0.9695524\tbest: 0.9702857 (12)\ttotal: 498ms\tremaining: 23.2s\n",
      "30:\tlearn: 0.9784173\ttest: 0.9707736\tbest: 0.9708719 (29)\ttotal: 812ms\tremaining: 25.4s\n",
      "40:\tlearn: 0.9790767\ttest: 0.9708441\tbest: 0.9710408 (38)\ttotal: 1.09s\tremaining: 25.6s\n",
      "50:\tlearn: 0.9797936\ttest: 0.9710408\tbest: 0.9713412 (47)\ttotal: 1.28s\tremaining: 23.9s\n",
      "60:\tlearn: 0.9802622\ttest: 0.9713138\tbest: 0.9713412 (47)\ttotal: 1.48s\tremaining: 22.7s\n",
      "70:\tlearn: 0.9806390\ttest: 0.9714067\tbest: 0.9715980 (63)\ttotal: 1.66s\tremaining: 21.7s\n",
      "80:\tlearn: 0.9811194\ttest: 0.9717838\tbest: 0.9717838 (80)\ttotal: 1.84s\tremaining: 20.8s\n",
      "90:\tlearn: 0.9812064\ttest: 0.9715817\tbest: 0.9717838 (80)\ttotal: 2.02s\tremaining: 20.2s\n",
      "100:\tlearn: 0.9817343\ttest: 0.9715925\tbest: 0.9717838 (80)\ttotal: 2.24s\tremaining: 20s\n",
      "110:\tlearn: 0.9820699\ttest: 0.9714122\tbest: 0.9717838 (80)\ttotal: 2.49s\tremaining: 19.9s\n",
      "120:\tlearn: 0.9825962\ttest: 0.9713138\tbest: 0.9717838 (80)\ttotal: 2.7s\tremaining: 19.6s\n",
      "130:\tlearn: 0.9828374\ttest: 0.9714996\tbest: 0.9717838 (80)\ttotal: 2.91s\tremaining: 19.3s\n",
      "Stopped by overfitting detector  (50 iterations wait)\n",
      "\n",
      "bestTest = 0.9717838355\n",
      "bestIteration = 80\n",
      "\n",
      "Shrink model to first 81 iterations.\n"
     ]
    }
   ],
   "source": [
    "train_preds = np.zeros(train_df.shape[0])\n",
    "test_preds = np.zeros(test_df.shape[0])\n",
    "train_class = np.zeros(train_df.shape[0])\n",
    "test_class = np.zeros(test_df.shape[0])\n",
    "skf = StratifiedKFold(n_splits=3)\n",
    "validation_scores = []\n",
    "org_scores = []\n",
    "models = []\n",
    "for train_index, test_index in skf.split(train, y):\n",
    "    X_train, X_test = train.iloc[train_index,:], train.iloc[test_index,:]\n",
    "    y_train, y_test = y[train_index], y[test_index]\n",
    "    train_pool = Pool(data=X_train, label=y_train,cat_features=cat_features)\n",
    "    test_pool = Pool(data=X_test, label=y_test, cat_features=cat_features)    \n",
    "    model = CatBoostClassifier(**catboost_params)\n",
    "    model.fit(X=train_pool, eval_set=test_pool,verbose=10)\n",
    "    train_preds[test_index] = model.predict_proba(test_pool)[:,1]\n",
    "    train_class[test_index] = model.predict(test_pool)\n",
    "    test_preds += model.predict_proba(submission_pool)[:,1]/3\n",
    "    test_class += model.predict(submission_pool)\n",
    "    validation_scores.append(f1_score(y_test,model.predict(test_pool),average='micro'))\n",
    "    org_scores.append(f1_score(y_org,model.predict(org_pool),average='micro'))\n",
    "    models.append(model)\n",
    "test_class = np.where(test_class > 2, 1, 0)"
   ]
  },
  {
   "cell_type": "code",
   "execution_count": 462,
   "metadata": {},
   "outputs": [
    {
     "data": {
      "text/plain": [
       "(0.9553246012361752, 0.0053365005527038585, 0.9478337754199824)"
      ]
     },
     "execution_count": 462,
     "metadata": {},
     "output_type": "execute_result"
    }
   ],
   "source": [
    "np.mean(validation_scores), np.std(validation_scores), min(validation_scores)"
   ]
  },
  {
   "cell_type": "code",
   "execution_count": 463,
   "metadata": {},
   "outputs": [
    {
     "data": {
      "text/plain": [
       "(0.9514132749985608, 0.0018210417230432024, 0.9490530194001495)"
      ]
     },
     "execution_count": 463,
     "metadata": {},
     "output_type": "execute_result"
    }
   ],
   "source": [
    "np.mean(org_scores), np.std(org_scores), min(org_scores)"
   ]
  },
  {
   "cell_type": "code",
   "execution_count": 464,
   "metadata": {},
   "outputs": [
    {
     "data": {
      "text/plain": [
       "array([[0.86604096, 0.03235201],\n",
       "       [0.13395904, 0.96764799]])"
      ]
     },
     "execution_count": 464,
     "metadata": {},
     "output_type": "execute_result"
    }
   ],
   "source": [
    "best_model = models[np.argmax(validation_scores)]\n",
    "y_hat = np.round(best_model.predict(train))\n",
    "confusion_matrix(y,y_hat,normalize='pred')"
   ]
  },
  {
   "cell_type": "code",
   "execution_count": 465,
   "metadata": {},
   "outputs": [],
   "source": [
    "name = 'catboost_pred_diff'\n",
    "model_predictions_train[name] = train_preds\n",
    "model_predictions_test[name] = test_preds"
   ]
  },
  {
   "cell_type": "markdown",
   "metadata": {},
   "source": [
    "### lgb"
   ]
  },
  {
   "cell_type": "code",
   "execution_count": 466,
   "metadata": {},
   "outputs": [],
   "source": [
    "lgb_params = {\n",
    "    'objective':'binary',\n",
    "    'learning_rate':0.05,\n",
    "    'seed':0, \n",
    "    'metric':'f1',\n",
    "    'max_depth':6\n",
    "}"
   ]
  },
  {
   "cell_type": "code",
   "execution_count": 467,
   "metadata": {},
   "outputs": [],
   "source": [
    "folds = 3\n",
    "skf = StratifiedKFold(n_splits=folds)\n",
    "train_preds = np.zeros(train_df.shape[0])\n",
    "test_preds = np.zeros(test_df.shape[0])\n",
    "validation_scores = []\n",
    "org_scores = []\n",
    "models = []\n",
    "for train_index, test_index in skf.split(train, y):\n",
    "    X_train, X_test = train.iloc[train_index,:], train.iloc[test_index,:]\n",
    "    y_train, y_test = y[train_index], y[test_index]\n",
    "    train_data = lgb.Dataset(X_train,y_train)\n",
    "    valid_data = lgb.Dataset(X_test,y_test)\n",
    "    evals_result = {}\n",
    "    model = lgb.train(lgb_params, train_data,num_boost_round=1000,early_stopping_rounds=50, valid_sets=valid_data,feval=lgb_f1_score, evals_result=evals_result,verbose_eval=False)\n",
    "    \n",
    "    test_preds += model.predict(test) / 3\n",
    "    train_preds[test_index] = model.predict(X_test)\n",
    "    validation_scores.append(f1_score(y_test,np.round(model.predict(X_test)),average='micro'))\n",
    "    org_scores.append(f1_score(y_org,np.round(model.predict(train_org)),average='micro'))\n",
    "    models.append(model)\n"
   ]
  },
  {
   "cell_type": "code",
   "execution_count": 468,
   "metadata": {},
   "outputs": [
    {
     "data": {
      "text/plain": [
       "(0.9547352670090806, 0.005060771846612412, 0.9480106100795755)"
      ]
     },
     "execution_count": 468,
     "metadata": {},
     "output_type": "execute_result"
    }
   ],
   "source": [
    "np.mean(validation_scores), np.std(validation_scores), min(validation_scores)"
   ]
  },
  {
   "cell_type": "code",
   "execution_count": 469,
   "metadata": {},
   "outputs": [
    {
     "data": {
      "text/plain": [
       "(0.9571316178304837, 0.0030009889432215655, 0.9548673075816015)"
      ]
     },
     "execution_count": 469,
     "metadata": {},
     "output_type": "execute_result"
    }
   ],
   "source": [
    "np.mean(org_scores), np.std(org_scores), min(org_scores)"
   ]
  },
  {
   "cell_type": "code",
   "execution_count": 470,
   "metadata": {},
   "outputs": [
    {
     "data": {
      "text/plain": [
       "array([[0.89282551, 0.03270615],\n",
       "       [0.10717449, 0.96729385]])"
      ]
     },
     "execution_count": 470,
     "metadata": {},
     "output_type": "execute_result"
    }
   ],
   "source": [
    "best_model = models[np.argmax(validation_scores)]\n",
    "y_hat = np.round(best_model.predict(train))\n",
    "confusion_matrix(y,y_hat,normalize='pred')"
   ]
  },
  {
   "cell_type": "code",
   "execution_count": 471,
   "metadata": {},
   "outputs": [],
   "source": [
    "name = 'lgb_pred_diff'\n",
    "model_predictions_train[name] = train_preds\n",
    "model_predictions_test[name] = test_preds"
   ]
  },
  {
   "cell_type": "markdown",
   "metadata": {},
   "source": [
    "## knn"
   ]
  },
  {
   "cell_type": "code",
   "execution_count": 472,
   "metadata": {},
   "outputs": [],
   "source": [
    "knn_params = {\n",
    "    'n_neighbors':10,\n",
    "    'weights':'uniform'    \n",
    "}"
   ]
  },
  {
   "cell_type": "code",
   "execution_count": 473,
   "metadata": {},
   "outputs": [],
   "source": [
    "folds = 3\n",
    "skf = StratifiedKFold(n_splits=folds)\n",
    "train_preds = np.zeros(train_df.shape[0])\n",
    "test_preds = np.zeros(test_df.shape[0])\n",
    "validation_scores = []\n",
    "org_scores = []\n",
    "models = []\n",
    "for train_index, test_index in skf.split(train, y):\n",
    "    X_train, X_test = train.iloc[train_index,:].values, train.iloc[test_index,:].values\n",
    "    y_train, y_test = y[train_index], y[test_index]\n",
    "    \n",
    "    model = KNeighborsClassifier(**knn_params)\n",
    "    model.fit(X_train, y_train)\n",
    "    \n",
    "    test_preds += model.predict(test.values) / 3\n",
    "    train_preds[test_index] = model.predict(X_test)\n",
    "    validation_scores.append(f1_score(y_test,model.predict(X_test),average='micro'))\n",
    "    org_scores.append(f1_score(y_org,model.predict(train_org.values),average='micro'))\n",
    "    models.append(model)"
   ]
  },
  {
   "cell_type": "code",
   "execution_count": 474,
   "metadata": {},
   "outputs": [
    {
     "data": {
      "text/plain": [
       "(0.9461303661628006, 0.005300943405481293, 0.9400530503978781)"
      ]
     },
     "execution_count": 474,
     "metadata": {},
     "output_type": "execute_result"
    }
   ],
   "source": [
    "np.mean(validation_scores), np.std(validation_scores), min(validation_scores)"
   ]
  },
  {
   "cell_type": "code",
   "execution_count": 475,
   "metadata": {},
   "outputs": [
    {
     "data": {
      "text/plain": [
       "(0.9424903574923723, 0.00028591070223850124, 0.9420873870243508)"
      ]
     },
     "execution_count": 475,
     "metadata": {},
     "output_type": "execute_result"
    }
   ],
   "source": [
    "np.mean(org_scores), np.std(org_scores), min(org_scores)"
   ]
  },
  {
   "cell_type": "code",
   "execution_count": 476,
   "metadata": {},
   "outputs": [
    {
     "data": {
      "text/plain": [
       "array([[0.81581312, 0.0389807 ],\n",
       "       [0.18418688, 0.9610193 ]])"
      ]
     },
     "execution_count": 476,
     "metadata": {},
     "output_type": "execute_result"
    }
   ],
   "source": [
    "best_model = models[np.argmax(validation_scores)]\n",
    "y_hat = best_model.predict(train)\n",
    "confusion_matrix(y,y_hat,normalize='pred')"
   ]
  },
  {
   "cell_type": "code",
   "execution_count": 477,
   "metadata": {},
   "outputs": [],
   "source": [
    "name = 'knn_pred_diff'\n",
    "model_predictions_train[name] = train_preds\n",
    "model_predictions_test[name] = test_preds"
   ]
  },
  {
   "cell_type": "markdown",
   "metadata": {},
   "source": [
    "## SVM"
   ]
  },
  {
   "cell_type": "code",
   "execution_count": 478,
   "metadata": {},
   "outputs": [],
   "source": [
    "svc_params = {\n",
    "    'C':1,\n",
    "    'kernel':'rbf',\n",
    "    'random_state':0,    \n",
    "    'probability': False,\n",
    "    'gamma':'auto'\n",
    "}"
   ]
  },
  {
   "cell_type": "code",
   "execution_count": 479,
   "metadata": {},
   "outputs": [],
   "source": [
    "folds = 3\n",
    "skf = StratifiedKFold(n_splits=folds)\n",
    "train_preds = np.zeros(train_df.shape[0])\n",
    "test_preds = np.zeros(test_df.shape[0])\n",
    "validation_scores = []\n",
    "org_scores = []\n",
    "models = []\n",
    "for train_index, test_index in skf.split(train, y):\n",
    "    X_train, X_test = train.iloc[train_index,:].values, train.iloc[test_index,:].values\n",
    "    y_train, y_test = y[train_index], y[test_index]\n",
    "    \n",
    "    model = SVC(**svc_params)\n",
    "    model.fit(X_train, y_train)\n",
    "    \n",
    "    test_preds += model.predict(test.values) / 3\n",
    "    train_preds[test_index] = model.predict(X_test)\n",
    "    validation_scores.append(f1_score(y_test,model.predict(X_test),average='micro'))\n",
    "    org_scores.append(f1_score(y_org,model.predict(train_org.values),average='micro'))\n",
    "    models.append(model)"
   ]
  },
  {
   "cell_type": "code",
   "execution_count": 480,
   "metadata": {},
   "outputs": [
    {
     "data": {
      "text/plain": [
       "(0.9100607123993946, 7.585878828588588e-05, 0.910007072135785)"
      ]
     },
     "execution_count": 480,
     "metadata": {},
     "output_type": "execute_result"
    }
   ],
   "source": [
    "np.mean(validation_scores), np.std(validation_scores), min(validation_scores)"
   ]
  },
  {
   "cell_type": "code",
   "execution_count": 481,
   "metadata": {},
   "outputs": [
    {
     "data": {
      "text/plain": [
       "(0.9628691497323124, 0.0005420699975754836, 0.962120776005987)"
      ]
     },
     "execution_count": 481,
     "metadata": {},
     "output_type": "execute_result"
    }
   ],
   "source": [
    "np.mean(org_scores), np.std(org_scores), min(org_scores)"
   ]
  },
  {
   "cell_type": "code",
   "execution_count": 482,
   "metadata": {},
   "outputs": [
    {
     "data": {
      "text/plain": [
       "array([[1.       , 0.0320336],\n",
       "       [0.       , 0.9679664]])"
      ]
     },
     "execution_count": 482,
     "metadata": {},
     "output_type": "execute_result"
    }
   ],
   "source": [
    "best_model = models[np.argmax(validation_scores)]\n",
    "y_hat = best_model.predict(train)\n",
    "confusion_matrix(y,y_hat,normalize='pred')"
   ]
  },
  {
   "cell_type": "code",
   "execution_count": 483,
   "metadata": {},
   "outputs": [],
   "source": [
    "name = 'svm_pred_diff'\n",
    "model_predictions_train[name] = train_preds\n",
    "model_predictions_test[name] = test_preds"
   ]
  },
  {
   "cell_type": "markdown",
   "metadata": {},
   "source": [
    "## unit differences"
   ]
  },
  {
   "cell_type": "code",
   "execution_count": 484,
   "metadata": {},
   "outputs": [],
   "source": [
    "features = [\n",
    "    'predicted_fare_diff_per_fare',\n",
    "    'predicted_fare_diff_per_predicted_fare',\n",
    "    'predicted_fare_diff_per_distance',\n",
    "    'predicted_duraton_diff_per_duraton',\n",
    "    'predicted_duraton_diff_per_predicted_duration',\n",
    "    'predicted_duraton_diff_per_distance',\n",
    "    'predicted_fare_per_duration_diff',\n",
    "    'predicted_meter_waiting_diff_per_meter_waiting',\n",
    "    'predicted_meter_waiting_diff_per_distance',\n",
    "    'predicted_meter_waiting_diff_per_predicted_meter_waiting',\n",
    "    'predicted_meter_waiting_per_duration_diff',\n",
    "    'predicted_meter_waiting_fare_diff_per_distance',\n",
    "    'predicted_meter_waiting_fare_diff_per_predicted_meter_waiting_fare',\n",
    "    'predicted_meter_waiting_fare_per_meter_waiting_diff',\n",
    "    'predicted_meter_waiting_fare_per_duration_diff',\n",
    "    'predicted_additional_fare_diff_per_additional_fare',\n",
    "    'predicted_addtional_fare_diff_per_distance',\n",
    "    'predicted_meter_waiting_till_pickup_diff_per_meter_waiting_till_pickup',\n",
    "    'predicted_meter_waiting_till_pickup_per_meter_waiting_diff'\n",
    "]\n",
    "\n",
    "cat_features = []"
   ]
  },
  {
   "cell_type": "code",
   "execution_count": 485,
   "metadata": {},
   "outputs": [],
   "source": [
    "train = train_df[features]\n",
    "test = test_df[features]\n",
    "train_org = train_df_org[features]\n",
    "y = train_df['label']\n",
    "for each in cat_features:\n",
    "    train[each] = train[each].values.astype(int)\n",
    "    test[each] = test[each].values.astype(int)\n",
    "    train_org[each] = train_org[each].values.astype(int)"
   ]
  },
  {
   "cell_type": "markdown",
   "metadata": {},
   "source": [
    "### Catboost"
   ]
  },
  {
   "cell_type": "code",
   "execution_count": 486,
   "metadata": {},
   "outputs": [],
   "source": [
    "catboost_params = {\n",
    "    'loss_function':'Logloss',\n",
    "    'random_state':0,\n",
    "    'early_stopping_rounds':50,\n",
    "    'eval_metric':'F1',\n",
    "    'border_count':512\n",
    "}"
   ]
  },
  {
   "cell_type": "code",
   "execution_count": 487,
   "metadata": {},
   "outputs": [],
   "source": [
    "submission_pool = Pool(data=test_df[features], cat_features=cat_features)\n",
    "org_pool = Pool(data=train_org[features], cat_features=cat_features)"
   ]
  },
  {
   "cell_type": "code",
   "execution_count": 488,
   "metadata": {},
   "outputs": [
    {
     "name": "stdout",
     "output_type": "stream",
     "text": [
      "Learning rate set to 0.057693\n",
      "0:\tlearn: 0.9646330\ttest: 0.9632381\tbest: 0.9632381 (0)\ttotal: 22ms\tremaining: 22s\n",
      "10:\tlearn: 0.9729626\ttest: 0.9748802\tbest: 0.9748802 (10)\ttotal: 150ms\tremaining: 13.5s\n",
      "20:\tlearn: 0.9742904\ttest: 0.9763825\tbest: 0.9763825 (20)\ttotal: 298ms\tremaining: 13.9s\n",
      "30:\tlearn: 0.9751687\ttest: 0.9771330\tbest: 0.9773208 (29)\ttotal: 488ms\tremaining: 15.3s\n",
      "40:\tlearn: 0.9756214\ttest: 0.9773164\tbest: 0.9774104 (39)\ttotal: 624ms\tremaining: 14.6s\n",
      "50:\tlearn: 0.9766707\ttest: 0.9772137\tbest: 0.9774104 (39)\ttotal: 791ms\tremaining: 14.7s\n",
      "60:\tlearn: 0.9774220\ttest: 0.9775854\tbest: 0.9776837 (52)\ttotal: 970ms\tremaining: 14.9s\n",
      "70:\tlearn: 0.9779482\ttest: 0.9779659\tbest: 0.9779659 (70)\ttotal: 1.14s\tremaining: 14.9s\n",
      "80:\tlearn: 0.9786173\ttest: 0.9778718\tbest: 0.9779659 (70)\ttotal: 1.29s\tremaining: 14.6s\n",
      "90:\tlearn: 0.9790907\ttest: 0.9776708\tbest: 0.9781542 (85)\ttotal: 1.45s\tremaining: 14.5s\n",
      "100:\tlearn: 0.9793256\ttest: 0.9779617\tbest: 0.9781542 (85)\ttotal: 1.59s\tremaining: 14.2s\n",
      "110:\tlearn: 0.9797505\ttest: 0.9778633\tbest: 0.9783466 (109)\ttotal: 1.74s\tremaining: 13.9s\n",
      "120:\tlearn: 0.9801305\ttest: 0.9779617\tbest: 0.9783466 (109)\ttotal: 1.9s\tremaining: 13.8s\n",
      "130:\tlearn: 0.9804618\ttest: 0.9783383\tbest: 0.9784325 (129)\ttotal: 2.06s\tremaining: 13.7s\n",
      "140:\tlearn: 0.9807951\ttest: 0.9783341\tbest: 0.9784325 (129)\ttotal: 2.22s\tremaining: 13.5s\n",
      "150:\tlearn: 0.9810813\ttest: 0.9783383\tbest: 0.9784325 (129)\ttotal: 2.38s\tremaining: 13.4s\n",
      "160:\tlearn: 0.9812245\ttest: 0.9785309\tbest: 0.9786251 (158)\ttotal: 2.52s\tremaining: 13.1s\n",
      "170:\tlearn: 0.9817064\ttest: 0.9787193\tbest: 0.9787193 (169)\ttotal: 2.66s\tremaining: 12.9s\n",
      "180:\tlearn: 0.9822826\ttest: 0.9783341\tbest: 0.9787193 (169)\ttotal: 2.82s\tremaining: 12.8s\n",
      "190:\tlearn: 0.9827594\ttest: 0.9782357\tbest: 0.9787193 (169)\ttotal: 2.97s\tremaining: 12.6s\n",
      "200:\tlearn: 0.9831909\ttest: 0.9782316\tbest: 0.9787193 (169)\ttotal: 3.12s\tremaining: 12.4s\n",
      "210:\tlearn: 0.9834318\ttest: 0.9780389\tbest: 0.9787193 (169)\ttotal: 3.26s\tremaining: 12.2s\n",
      "Stopped by overfitting detector  (50 iterations wait)\n",
      "\n",
      "bestTest = 0.9787193067\n",
      "bestIteration = 169\n",
      "\n",
      "Shrink model to first 170 iterations.\n",
      "Learning rate set to 0.057693\n",
      "0:\tlearn: 0.9681829\ttest: 0.9659299\tbest: 0.9659299 (0)\ttotal: 18.1ms\tremaining: 18s\n",
      "10:\tlearn: 0.9728157\ttest: 0.9734935\tbest: 0.9739230 (4)\ttotal: 155ms\tremaining: 14s\n",
      "20:\tlearn: 0.9745183\ttest: 0.9748686\tbest: 0.9751577 (17)\ttotal: 298ms\tremaining: 13.9s\n",
      "30:\tlearn: 0.9748768\ttest: 0.9746678\tbest: 0.9755305 (23)\ttotal: 438ms\tremaining: 13.7s\n",
      "40:\tlearn: 0.9756261\ttest: 0.9753063\tbest: 0.9755305 (23)\ttotal: 585ms\tremaining: 13.7s\n",
      "50:\tlearn: 0.9761426\ttest: 0.9755771\tbest: 0.9755771 (49)\ttotal: 738ms\tremaining: 13.7s\n",
      "60:\tlearn: 0.9769046\ttest: 0.9757686\tbest: 0.9759556 (58)\ttotal: 893ms\tremaining: 13.7s\n",
      "70:\tlearn: 0.9775647\ttest: 0.9763297\tbest: 0.9763297 (70)\ttotal: 1.07s\tremaining: 14s\n",
      "80:\tlearn: 0.9781764\ttest: 0.9763115\tbest: 0.9766059 (76)\ttotal: 1.21s\tremaining: 13.8s\n",
      "90:\tlearn: 0.9788868\ttest: 0.9762179\tbest: 0.9766059 (76)\ttotal: 1.36s\tremaining: 13.6s\n",
      "100:\tlearn: 0.9791257\ttest: 0.9766951\tbest: 0.9766951 (100)\ttotal: 1.53s\tremaining: 13.7s\n",
      "110:\tlearn: 0.9796036\ttest: 0.9766817\tbest: 0.9767843 (106)\ttotal: 1.71s\tremaining: 13.7s\n",
      "120:\tlearn: 0.9799386\ttest: 0.9764853\tbest: 0.9767843 (106)\ttotal: 1.87s\tremaining: 13.6s\n",
      "130:\tlearn: 0.9805089\ttest: 0.9764853\tbest: 0.9767843 (106)\ttotal: 2.03s\tremaining: 13.5s\n",
      "140:\tlearn: 0.9811321\ttest: 0.9764898\tbest: 0.9767843 (106)\ttotal: 2.19s\tremaining: 13.4s\n",
      "150:\tlearn: 0.9818042\ttest: 0.9766817\tbest: 0.9768781 (148)\ttotal: 2.42s\tremaining: 13.6s\n",
      "160:\tlearn: 0.9820451\ttest: 0.9764943\tbest: 0.9768781 (148)\ttotal: 2.6s\tremaining: 13.6s\n",
      "170:\tlearn: 0.9824241\ttest: 0.9765925\tbest: 0.9768781 (148)\ttotal: 2.77s\tremaining: 13.4s\n",
      "180:\tlearn: 0.9827172\ttest: 0.9762133\tbest: 0.9768781 (148)\ttotal: 2.93s\tremaining: 13.3s\n",
      "190:\tlearn: 0.9830981\ttest: 0.9763961\tbest: 0.9768781 (148)\ttotal: 3.08s\tremaining: 13s\n",
      "Stopped by overfitting detector  (50 iterations wait)\n",
      "\n",
      "bestTest = 0.9768780581\n",
      "bestIteration = 148\n",
      "\n",
      "Shrink model to first 149 iterations.\n",
      "Learning rate set to 0.057694\n",
      "0:\tlearn: 0.9708335\ttest: 0.9646382\tbest: 0.9646382 (0)\ttotal: 12.6ms\tremaining: 12.5s\n",
      "10:\tlearn: 0.9760834\ttest: 0.9685714\tbest: 0.9685714 (10)\ttotal: 166ms\tremaining: 14.9s\n",
      "20:\tlearn: 0.9771336\ttest: 0.9693333\tbest: 0.9693333 (20)\ttotal: 299ms\tremaining: 13.9s\n",
      "30:\tlearn: 0.9778630\ttest: 0.9701250\tbest: 0.9704142 (29)\ttotal: 461ms\tremaining: 14.4s\n",
      "40:\tlearn: 0.9781484\ttest: 0.9710850\tbest: 0.9710850 (37)\ttotal: 615ms\tremaining: 14.4s\n",
      "50:\tlearn: 0.9790907\ttest: 0.9716414\tbest: 0.9717395 (49)\ttotal: 768ms\tremaining: 14.3s\n",
      "60:\tlearn: 0.9797054\ttest: 0.9714504\tbest: 0.9717449 (54)\ttotal: 921ms\tremaining: 14.2s\n",
      "70:\tlearn: 0.9801814\ttest: 0.9712430\tbest: 0.9717449 (54)\ttotal: 1.08s\tremaining: 14.1s\n",
      "80:\tlearn: 0.9807480\ttest: 0.9714286\tbest: 0.9717449 (54)\ttotal: 1.23s\tremaining: 14s\n",
      "90:\tlearn: 0.9811321\ttest: 0.9717125\tbest: 0.9717449 (54)\ttotal: 1.39s\tremaining: 13.9s\n",
      "100:\tlearn: 0.9813623\ttest: 0.9714231\tbest: 0.9717449 (54)\ttotal: 1.56s\tremaining: 13.9s\n",
      "Stopped by overfitting detector  (50 iterations wait)\n",
      "\n",
      "bestTest = 0.9717449408\n",
      "bestIteration = 54\n",
      "\n",
      "Shrink model to first 55 iterations.\n"
     ]
    }
   ],
   "source": [
    "train_preds = np.zeros(train_df.shape[0])\n",
    "test_preds = np.zeros(test_df.shape[0])\n",
    "train_class = np.zeros(train_df.shape[0])\n",
    "test_class = np.zeros(test_df.shape[0])\n",
    "skf = StratifiedKFold(n_splits=3)\n",
    "validation_scores = []\n",
    "org_scores = []\n",
    "models = []\n",
    "for train_index, test_index in skf.split(train, y):\n",
    "    X_train, X_test = train.iloc[train_index,:], train.iloc[test_index,:]\n",
    "    y_train, y_test = y[train_index], y[test_index]\n",
    "    train_pool = Pool(data=X_train, label=y_train,cat_features=cat_features)\n",
    "    test_pool = Pool(data=X_test, label=y_test, cat_features=cat_features)    \n",
    "    model = CatBoostClassifier(**catboost_params)\n",
    "    model.fit(X=train_pool, eval_set=test_pool,verbose=10)\n",
    "    train_preds[test_index] = model.predict_proba(test_pool)[:,1]\n",
    "    train_class[test_index] = model.predict(test_pool)\n",
    "    test_preds += model.predict_proba(submission_pool)[:,1]/3\n",
    "    test_class += model.predict(submission_pool)\n",
    "    validation_scores.append(f1_score(y_test,model.predict(test_pool),average='micro'))\n",
    "    org_scores.append(f1_score(y_org,model.predict(org_pool),average='micro'))\n",
    "    models.append(model)\n",
    "test_class = np.where(test_class > 2, 1, 0)"
   ]
  },
  {
   "cell_type": "code",
   "execution_count": 489,
   "metadata": {},
   "outputs": [
    {
     "data": {
      "text/plain": [
       "(0.9553245908145191, 0.005610738932294572, 0.9476569407603891)"
      ]
     },
     "execution_count": 489,
     "metadata": {},
     "output_type": "execute_result"
    }
   ],
   "source": [
    "np.mean(validation_scores), np.std(validation_scores), min(validation_scores)"
   ]
  },
  {
   "cell_type": "code",
   "execution_count": 490,
   "metadata": {},
   "outputs": [
    {
     "data": {
      "text/plain": [
       "(0.9542916354844282, 0.003867728290194174, 0.9488803177709977)"
      ]
     },
     "execution_count": 490,
     "metadata": {},
     "output_type": "execute_result"
    }
   ],
   "source": [
    "np.mean(org_scores), np.std(org_scores), min(org_scores)"
   ]
  },
  {
   "cell_type": "code",
   "execution_count": 491,
   "metadata": {},
   "outputs": [
    {
     "data": {
      "text/plain": [
       "array([[0.88545151, 0.02961131],\n",
       "       [0.11454849, 0.97038869]])"
      ]
     },
     "execution_count": 491,
     "metadata": {},
     "output_type": "execute_result"
    }
   ],
   "source": [
    "best_model = models[np.argmax(validation_scores)]\n",
    "y_hat = np.round(best_model.predict(train))\n",
    "confusion_matrix(y,y_hat,normalize='pred')"
   ]
  },
  {
   "cell_type": "code",
   "execution_count": 492,
   "metadata": {},
   "outputs": [],
   "source": [
    "name = 'catboost_unit_diff'\n",
    "model_predictions_train[name] = train_preds\n",
    "model_predictions_test[name] = test_preds"
   ]
  },
  {
   "cell_type": "markdown",
   "metadata": {},
   "source": [
    "### lgb"
   ]
  },
  {
   "cell_type": "code",
   "execution_count": 493,
   "metadata": {},
   "outputs": [],
   "source": [
    "lgb_params = {\n",
    "    'objective':'binary',\n",
    "    'learning_rate':0.05,\n",
    "    'seed':0, \n",
    "    'metric':'f1',\n",
    "    'max_depth':8\n",
    "}"
   ]
  },
  {
   "cell_type": "code",
   "execution_count": 494,
   "metadata": {},
   "outputs": [],
   "source": [
    "folds = 3\n",
    "skf = StratifiedKFold(n_splits=folds)\n",
    "train_preds = np.zeros(train_df.shape[0])\n",
    "test_preds = np.zeros(test_df.shape[0])\n",
    "validation_scores = []\n",
    "org_scores = []\n",
    "models = []\n",
    "for train_index, test_index in skf.split(train, y):\n",
    "    X_train, X_test = train.iloc[train_index,:], train.iloc[test_index,:]\n",
    "    y_train, y_test = y[train_index], y[test_index]\n",
    "    train_data = lgb.Dataset(X_train,y_train)\n",
    "    valid_data = lgb.Dataset(X_test,y_test)\n",
    "    evals_result = {}\n",
    "    model = lgb.train(lgb_params, train_data,num_boost_round=1000,early_stopping_rounds=50, valid_sets=valid_data,feval=lgb_f1_score, evals_result=evals_result,verbose_eval=False)\n",
    "    \n",
    "    test_preds += model.predict(test) / 3\n",
    "    train_preds[test_index] = model.predict(X_test)\n",
    "    validation_scores.append(f1_score(y_test,np.round(model.predict(X_test)),average='micro'))\n",
    "    org_scores.append(f1_score(y_org,np.round(model.predict(train_org)),average='micro'))\n",
    "    models.append(model)"
   ]
  },
  {
   "cell_type": "code",
   "execution_count": 495,
   "metadata": {},
   "outputs": [
    {
     "data": {
      "text/plain": [
       "(0.9542636974951758, 0.005833100479115211, 0.9464190981432361)"
      ]
     },
     "execution_count": 495,
     "metadata": {},
     "output_type": "execute_result"
    }
   ],
   "source": [
    "np.mean(validation_scores), np.std(validation_scores), min(validation_scores)"
   ]
  },
  {
   "cell_type": "code",
   "execution_count": 496,
   "metadata": {},
   "outputs": [
    {
     "data": {
      "text/plain": [
       "(0.9550975764204709, 0.0005338563407688795, 0.9543492026941454)"
      ]
     },
     "execution_count": 496,
     "metadata": {},
     "output_type": "execute_result"
    }
   ],
   "source": [
    "np.mean(org_scores), np.std(org_scores), min(org_scores)"
   ]
  },
  {
   "cell_type": "code",
   "execution_count": 497,
   "metadata": {},
   "outputs": [
    {
     "data": {
      "text/plain": [
       "array([[0.88695652, 0.0319909 ],\n",
       "       [0.11304348, 0.9680091 ]])"
      ]
     },
     "execution_count": 497,
     "metadata": {},
     "output_type": "execute_result"
    }
   ],
   "source": [
    "best_model = models[np.argmax(validation_scores)]\n",
    "y_hat = np.round(best_model.predict(train))\n",
    "confusion_matrix(y,y_hat,normalize='pred')"
   ]
  },
  {
   "cell_type": "code",
   "execution_count": 498,
   "metadata": {},
   "outputs": [],
   "source": [
    "name = 'lgb_unit_diff'\n",
    "model_predictions_train[name] = train_preds\n",
    "model_predictions_test[name] = test_preds"
   ]
  },
  {
   "cell_type": "markdown",
   "metadata": {},
   "source": [
    "### KNN"
   ]
  },
  {
   "cell_type": "code",
   "execution_count": 499,
   "metadata": {},
   "outputs": [],
   "source": [
    "knn_params = {\n",
    "    'n_neighbors':10,\n",
    "    'weights':'distance'    \n",
    "}"
   ]
  },
  {
   "cell_type": "code",
   "execution_count": 500,
   "metadata": {},
   "outputs": [],
   "source": [
    "folds = 3\n",
    "skf = StratifiedKFold(n_splits=folds)\n",
    "train_preds = np.zeros(train_df.shape[0])\n",
    "test_preds = np.zeros(test_df.shape[0])\n",
    "validation_scores = []\n",
    "org_scores = []\n",
    "models = []\n",
    "for train_index, test_index in skf.split(train, y):\n",
    "    X_train, X_test = train.iloc[train_index,:].values, train.iloc[test_index,:].values\n",
    "    y_train, y_test = y[train_index], y[test_index]\n",
    "    \n",
    "    model = KNeighborsClassifier(**knn_params)\n",
    "    model.fit(X_train, y_train)\n",
    "    \n",
    "    test_preds += model.predict(test.values) / 3\n",
    "    train_preds[test_index] = model.predict(X_test)\n",
    "    validation_scores.append(f1_score(y_test,model.predict(X_test),average='micro'))\n",
    "    org_scores.append(f1_score(y_org,model.predict(train_org.values),average='micro'))\n",
    "    models.append(model)"
   ]
  },
  {
   "cell_type": "code",
   "execution_count": 501,
   "metadata": {},
   "outputs": [
    {
     "data": {
      "text/plain": [
       "(0.9448926381838638, 0.004681426802319368, 0.9382847038019452)"
      ]
     },
     "execution_count": 501,
     "metadata": {},
     "output_type": "execute_result"
    }
   ],
   "source": [
    "np.mean(validation_scores), np.std(validation_scores), min(validation_scores)"
   ]
  },
  {
   "cell_type": "code",
   "execution_count": 502,
   "metadata": {},
   "outputs": [
    {
     "data": {
      "text/plain": [
       "(0.9785658089152419, 0.0018661802109130705, 0.9759369063381498)"
      ]
     },
     "execution_count": 502,
     "metadata": {},
     "output_type": "execute_result"
    }
   ],
   "source": [
    "np.mean(org_scores), np.std(org_scores), min(org_scores)"
   ]
  },
  {
   "cell_type": "code",
   "execution_count": 503,
   "metadata": {},
   "outputs": [
    {
     "data": {
      "text/plain": [
       "array([[0.95105917, 0.01436082],\n",
       "       [0.04894083, 0.98563918]])"
      ]
     },
     "execution_count": 503,
     "metadata": {},
     "output_type": "execute_result"
    }
   ],
   "source": [
    "best_model = models[np.argmax(validation_scores)]\n",
    "y_hat = best_model.predict(train)\n",
    "confusion_matrix(y,y_hat,normalize='pred')"
   ]
  },
  {
   "cell_type": "code",
   "execution_count": 504,
   "metadata": {},
   "outputs": [],
   "source": [
    "name = 'knn_unit_diff'\n",
    "model_predictions_train[name] = train_preds\n",
    "model_predictions_test[name] = test_preds"
   ]
  },
  {
   "cell_type": "markdown",
   "metadata": {},
   "source": [
    "### SVM"
   ]
  },
  {
   "cell_type": "code",
   "execution_count": 505,
   "metadata": {},
   "outputs": [],
   "source": [
    "svc_params = {\n",
    "    'C':5,\n",
    "    'kernel':'rbf',\n",
    "    'random_state':0,    \n",
    "    'probability': False,\n",
    "    'gamma':'auto'\n",
    "}"
   ]
  },
  {
   "cell_type": "code",
   "execution_count": 506,
   "metadata": {},
   "outputs": [],
   "source": [
    "folds = 3\n",
    "skf = StratifiedKFold(n_splits=folds)\n",
    "train_preds = np.zeros(train_df.shape[0])\n",
    "test_preds = np.zeros(test_df.shape[0])\n",
    "validation_scores = []\n",
    "org_scores = []\n",
    "models = []\n",
    "for train_index, test_index in skf.split(train, y):\n",
    "    X_train, X_test = train.iloc[train_index,:].values, train.iloc[test_index,:].values\n",
    "    y_train, y_test = y[train_index], y[test_index]\n",
    "    \n",
    "    model = SVC(**svc_params)\n",
    "    model.fit(X_train, y_train)\n",
    "    \n",
    "    test_preds += model.predict(test.values) / 3\n",
    "    train_preds[test_index] = model.predict(X_test)\n",
    "    validation_scores.append(f1_score(y_test,model.predict(X_test),average='micro'))\n",
    "    org_scores.append(f1_score(y_org,model.predict(train_org.values),average='micro'))\n",
    "    models.append(model)"
   ]
  },
  {
   "cell_type": "code",
   "execution_count": 507,
   "metadata": {},
   "outputs": [
    {
     "data": {
      "text/plain": [
       "(0.9077031566362397, 0.0007540118952659524, 0.9071618037135278)"
      ]
     },
     "execution_count": 507,
     "metadata": {},
     "output_type": "execute_result"
    }
   ],
   "source": [
    "np.mean(validation_scores), np.std(validation_scores), min(validation_scores)"
   ]
  },
  {
   "cell_type": "code",
   "execution_count": 508,
   "metadata": {},
   "outputs": [
    {
     "data": {
      "text/plain": [
       "(0.9592999827298371, 0.0007387168865703476, 0.9586667434229463)"
      ]
     },
     "execution_count": 508,
     "metadata": {},
     "output_type": "execute_result"
    }
   ],
   "source": [
    "np.mean(org_scores), np.std(org_scores), min(org_scores)"
   ]
  },
  {
   "cell_type": "code",
   "execution_count": 509,
   "metadata": {},
   "outputs": [
    {
     "data": {
      "text/plain": [
       "array([[0.97260274, 0.03336469],\n",
       "       [0.02739726, 0.96663531]])"
      ]
     },
     "execution_count": 509,
     "metadata": {},
     "output_type": "execute_result"
    }
   ],
   "source": [
    "best_model = models[np.argmax(validation_scores)]\n",
    "y_hat = best_model.predict(train)\n",
    "confusion_matrix(y,y_hat,normalize='pred')"
   ]
  },
  {
   "cell_type": "code",
   "execution_count": 510,
   "metadata": {},
   "outputs": [],
   "source": [
    "name = 'rbf_svm_unit_diff'\n",
    "model_predictions_train[name] = train_preds\n",
    "model_predictions_test[name] = test_preds"
   ]
  },
  {
   "cell_type": "markdown",
   "metadata": {},
   "source": [
    "## diff norm"
   ]
  },
  {
   "cell_type": "code",
   "execution_count": 511,
   "metadata": {},
   "outputs": [],
   "source": [
    "features = [\n",
    "    'predicted_fare_diff_per_distance_normalized',\n",
    "    'predicted_fare_diff_normalized',\n",
    "    'predicted_fare_diff_per_fare_normalized',\n",
    "    'predicted_fare_diff_per_predicted_fare_normalized',\n",
    "    'predicted_duraton_diff_per_duraton_normalized',\n",
    "    'predicted_duraton_diff_per_predicted_duration_normalized',\n",
    "    'predicted_fare_per_duration_diff_normalized',\n",
    "    'predicted_avg_speed_diff_normalized',\n",
    "    'predicted_meter_waiting_diff_normalized',\n",
    "    'predicted_meter_waiting_diff_per_meter_waiting_normalized',\n",
    "    'predicted_meter_waiting_diff_per_predicted_meter_waiting_normalized',\n",
    "    'predicted_meter_waiting_per_duration_diff_normalized',\n",
    "    'predicted_meter_waiting_fare_diff_normalized',\n",
    "    'predicted_meter_waiting_fare_diff_per_meter_waiting_fare_normalized',\n",
    "    'predicted_meter_waiting_fare_diff_per_predicted_meter_waiting_fare_normalized',\n",
    "    'predicted_meter_waiting_fare_per_meter_waiting_diff_normalized',\n",
    "    'predicted_meter_waiting_fare_per_duration_diff_normalized',\n",
    "    'predicted_additional_fare_diff_normalized',\n",
    "    'predicted_additional_fare_diff_per_additional_fare_normalized',\n",
    "]\n",
    "\n",
    "cat_features = []"
   ]
  },
  {
   "cell_type": "code",
   "execution_count": 512,
   "metadata": {},
   "outputs": [],
   "source": [
    "train = train_df[features]\n",
    "test = test_df[features]\n",
    "train_org = train_df_org[features]\n",
    "y = train_df['label']\n",
    "for each in cat_features:\n",
    "    train[each] = train[each].values.astype(int)\n",
    "    test[each] = test[each].values.astype(int)\n",
    "    train_org[each] = train_org[each].values.astype(int)"
   ]
  },
  {
   "cell_type": "markdown",
   "metadata": {},
   "source": [
    "### KNN"
   ]
  },
  {
   "cell_type": "code",
   "execution_count": 513,
   "metadata": {},
   "outputs": [],
   "source": [
    "knn_params = {\n",
    "    'n_neighbors':15,\n",
    "    'weights':'distance'    \n",
    "}"
   ]
  },
  {
   "cell_type": "code",
   "execution_count": 514,
   "metadata": {},
   "outputs": [],
   "source": [
    "folds = 3\n",
    "skf = StratifiedKFold(n_splits=folds)\n",
    "train_preds = np.zeros(train_df.shape[0])\n",
    "test_preds = np.zeros(test_df.shape[0])\n",
    "validation_scores = []\n",
    "org_scores = []\n",
    "models = []\n",
    "for train_index, test_index in skf.split(train, y):\n",
    "    X_train, X_test = train.iloc[train_index,:].values, train.iloc[test_index,:].values\n",
    "    y_train, y_test = y[train_index], y[test_index]\n",
    "    \n",
    "    model = KNeighborsClassifier(**knn_params)\n",
    "    model.fit(X_train, y_train)\n",
    "    \n",
    "    test_preds += model.predict(test.values) / 3\n",
    "    train_preds[test_index] = model.predict(X_test)\n",
    "    validation_scores.append(f1_score(y_test,model.predict(X_test),average='micro'))\n",
    "    org_scores.append(f1_score(y_org,model.predict(train_org.values),average='micro'))\n",
    "    models.append(model)"
   ]
  },
  {
   "cell_type": "code",
   "execution_count": 515,
   "metadata": {},
   "outputs": [
    {
     "data": {
      "text/plain": [
       "(0.9516113860343972, 0.0069344895200864915, 0.941998231653404)"
      ]
     },
     "execution_count": 515,
     "metadata": {},
     "output_type": "execute_result"
    }
   ],
   "source": [
    "np.mean(validation_scores), np.std(validation_scores), min(validation_scores)"
   ]
  },
  {
   "cell_type": "code",
   "execution_count": 516,
   "metadata": {},
   "outputs": [
    {
     "data": {
      "text/plain": [
       "(0.9810603880029934, 0.0026931775869810715, 0.9774336537908007)"
      ]
     },
     "execution_count": 516,
     "metadata": {},
     "output_type": "execute_result"
    }
   ],
   "source": [
    "np.mean(org_scores), np.std(org_scores), min(org_scores)"
   ]
  },
  {
   "cell_type": "code",
   "execution_count": 517,
   "metadata": {},
   "outputs": [
    {
     "data": {
      "text/plain": [
       "array([[0.96333573, 0.01194145],\n",
       "       [0.03666427, 0.98805855]])"
      ]
     },
     "execution_count": 517,
     "metadata": {},
     "output_type": "execute_result"
    }
   ],
   "source": [
    "best_model = models[np.argmax(validation_scores)]\n",
    "y_hat = best_model.predict(train)\n",
    "confusion_matrix(y,y_hat,normalize='pred')"
   ]
  },
  {
   "cell_type": "code",
   "execution_count": 518,
   "metadata": {},
   "outputs": [],
   "source": [
    "name = 'knn_unit_diff_norm'\n",
    "model_predictions_train[name] = train_preds\n",
    "model_predictions_test[name] = test_preds"
   ]
  },
  {
   "cell_type": "markdown",
   "metadata": {},
   "source": [
    "### SVM"
   ]
  },
  {
   "cell_type": "code",
   "execution_count": 519,
   "metadata": {},
   "outputs": [],
   "source": [
    "svc_params = {\n",
    "    'C':5,\n",
    "    'kernel':'rbf',\n",
    "    'random_state':0,    \n",
    "    'probability': False,\n",
    "    'gamma':'scale'\n",
    "}"
   ]
  },
  {
   "cell_type": "code",
   "execution_count": 520,
   "metadata": {},
   "outputs": [],
   "source": [
    "folds = 3\n",
    "skf = StratifiedKFold(n_splits=folds)\n",
    "train_preds = np.zeros(train_df.shape[0])\n",
    "test_preds = np.zeros(test_df.shape[0])\n",
    "validation_scores = []\n",
    "org_scores = []\n",
    "models = []\n",
    "for train_index, test_index in skf.split(train, y):\n",
    "    X_train, X_test = train.iloc[train_index,:].values, train.iloc[test_index,:].values\n",
    "    y_train, y_test = y[train_index], y[test_index]\n",
    "    \n",
    "    model = SVC(**svc_params)\n",
    "    model.fit(X_train, y_train)\n",
    "    \n",
    "    test_preds += model.predict(test.values) / 3\n",
    "    train_preds[test_index] = model.predict(X_test)\n",
    "    validation_scores.append(f1_score(y_test,model.predict(X_test),average='micro'))\n",
    "    org_scores.append(f1_score(y_org,model.predict(train_org.values),average='micro'))\n",
    "    models.append(model)"
   ]
  },
  {
   "cell_type": "code",
   "execution_count": 521,
   "metadata": {},
   "outputs": [
    {
     "data": {
      "text/plain": [
       "(0.9243247079539328, 0.012349504958989706, 0.9137199434229137)"
      ]
     },
     "execution_count": 521,
     "metadata": {},
     "output_type": "execute_result"
    }
   ],
   "source": [
    "np.mean(validation_scores), np.std(validation_scores), min(validation_scores)"
   ]
  },
  {
   "cell_type": "code",
   "execution_count": 522,
   "metadata": {},
   "outputs": [
    {
     "data": {
      "text/plain": [
       "(0.9121524379713315, 0.023365763841682145, 0.8954579471533014)"
      ]
     },
     "execution_count": 522,
     "metadata": {},
     "output_type": "execute_result"
    }
   ],
   "source": [
    "np.mean(org_scores), np.std(org_scores), min(org_scores)"
   ]
  },
  {
   "cell_type": "code",
   "execution_count": 523,
   "metadata": {},
   "outputs": [
    {
     "data": {
      "text/plain": [
       "array([[0.9147541, 0.042923 ],\n",
       "       [0.0852459, 0.957077 ]])"
      ]
     },
     "execution_count": 523,
     "metadata": {},
     "output_type": "execute_result"
    }
   ],
   "source": [
    "best_model = models[np.argmax(validation_scores)]\n",
    "y_hat = best_model.predict(train)\n",
    "confusion_matrix(y,y_hat,normalize='pred')"
   ]
  },
  {
   "cell_type": "code",
   "execution_count": 524,
   "metadata": {},
   "outputs": [],
   "source": [
    "name = 'svm_rbf_unit_diff_norm'\n",
    "model_predictions_train[name] = train_preds\n",
    "model_predictions_test[name] = test_preds"
   ]
  },
  {
   "cell_type": "markdown",
   "metadata": {},
   "source": [
    "# Unit features"
   ]
  },
  {
   "cell_type": "code",
   "execution_count": 525,
   "metadata": {},
   "outputs": [],
   "source": [
    "features = [\n",
    "    'fare_per_distance',\n",
    "    'fare_per_duration',\n",
    "    'avg_speed',\n",
    "    'meter_waiting_per_duration',\n",
    "    'meter_waiting_fare_per_meter_waiting',\n",
    "    'meter_waiting_fare_per_duration',\n",
    "    'addtional_fare_per_fare',\n",
    "    'addtional_fare_per_distance',\n",
    "    'addtional_fare_per_duration',\n",
    "    'fare-additional_fare_per_distance',\n",
    "    'fare-additional_fare_per_duration',\n",
    "    'fare-additional_fare-meter_waiting_fare_per_distance',\n",
    "    'fare-additional_fare-meter_waiting_fare_per_duration',\n",
    "    'meter_waiting_till_pickup_per_meter_waiting',\n",
    "    'meter_waiting_after_pickup_per_duration',\n",
    "    'meter_waiting_till_pickup_per_duration',\n",
    "    'meter_waiting_till_pickup_per_distance',\n",
    "    'meter_waiting_after_pickup_per_distance',\n",
    "    'meter_waiting_till_pickup_per_fare',\n",
    "    'meter_waiting_after_pickup_per_fare',\n",
    "    'meter_waiting_till_pickup_per_meter_waiting_fare',\n",
    "    'meter_waiting_after_pickup_per_meter_waiting_fare',    \n",
    "]\n",
    "\n",
    "cat_features = []"
   ]
  },
  {
   "cell_type": "code",
   "execution_count": 526,
   "metadata": {},
   "outputs": [],
   "source": [
    "train = train_df[features]\n",
    "test = test_df[features]\n",
    "train_org = train_df_org[features]\n",
    "y = train_df['label']\n",
    "for each in cat_features:\n",
    "    train[each] = train[each].values.astype(int)\n",
    "    test[each] = test[each].values.astype(int)\n",
    "    train_org[each] = train_org[each].values.astype(int)"
   ]
  },
  {
   "cell_type": "markdown",
   "metadata": {},
   "source": [
    "## Catboost"
   ]
  },
  {
   "cell_type": "code",
   "execution_count": 527,
   "metadata": {},
   "outputs": [],
   "source": [
    "catboost_params = {\n",
    "    'loss_function':'Logloss',\n",
    "    'random_state':0,\n",
    "    'early_stopping_rounds':50,\n",
    "    'eval_metric':'F1',\n",
    "    'border_count':512\n",
    "}"
   ]
  },
  {
   "cell_type": "code",
   "execution_count": 528,
   "metadata": {},
   "outputs": [],
   "source": [
    "submission_pool = Pool(data=test_df[features], cat_features=cat_features)\n",
    "org_pool = Pool(data=train_org[features], cat_features=cat_features)"
   ]
  },
  {
   "cell_type": "code",
   "execution_count": 529,
   "metadata": {},
   "outputs": [
    {
     "name": "stdout",
     "output_type": "stream",
     "text": [
      "Learning rate set to 0.057693\n",
      "0:\tlearn: 0.9637438\ttest: 0.9634802\tbest: 0.9634802 (0)\ttotal: 14.3ms\tremaining: 14.3s\n",
      "10:\tlearn: 0.9706593\ttest: 0.9747052\tbest: 0.9749786 (9)\ttotal: 126ms\tremaining: 11.4s\n",
      "20:\tlearn: 0.9737268\ttest: 0.9762337\tbest: 0.9763359 (19)\ttotal: 254ms\tremaining: 11.8s\n",
      "30:\tlearn: 0.9750238\ttest: 0.9774249\tbest: 0.9774249 (30)\ttotal: 377ms\tremaining: 11.8s\n",
      "40:\tlearn: 0.9757680\ttest: 0.9782713\tbest: 0.9783691 (39)\ttotal: 517ms\tremaining: 12.1s\n",
      "50:\tlearn: 0.9766909\ttest: 0.9786337\tbest: 0.9787397 (46)\ttotal: 656ms\tremaining: 12.2s\n",
      "60:\tlearn: 0.9773466\ttest: 0.9784297\tbest: 0.9787397 (46)\ttotal: 793ms\tremaining: 12.2s\n",
      "70:\tlearn: 0.9778670\ttest: 0.9786214\tbest: 0.9787397 (46)\ttotal: 940ms\tremaining: 12.3s\n",
      "80:\tlearn: 0.9782390\ttest: 0.9787152\tbest: 0.9789110 (77)\ttotal: 1.19s\tremaining: 13.5s\n",
      "90:\tlearn: 0.9785625\ttest: 0.9787071\tbest: 0.9790049 (82)\ttotal: 1.46s\tremaining: 14.5s\n",
      "100:\tlearn: 0.9789821\ttest: 0.9782171\tbest: 0.9790049 (82)\ttotal: 1.6s\tremaining: 14.2s\n",
      "110:\tlearn: 0.9795977\ttest: 0.9780209\tbest: 0.9790049 (82)\ttotal: 1.79s\tremaining: 14.4s\n",
      "120:\tlearn: 0.9801121\ttest: 0.9780083\tbest: 0.9790049 (82)\ttotal: 1.95s\tremaining: 14.1s\n",
      "130:\tlearn: 0.9806365\ttest: 0.9780083\tbest: 0.9790049 (82)\ttotal: 2.09s\tremaining: 13.9s\n",
      "Stopped by overfitting detector  (50 iterations wait)\n",
      "\n",
      "bestTest = 0.9790048893\n",
      "bestIteration = 82\n",
      "\n",
      "Shrink model to first 83 iterations.\n",
      "Learning rate set to 0.057693\n",
      "0:\tlearn: 0.9666745\ttest: 0.9683574\tbest: 0.9683574 (0)\ttotal: 12.8ms\tremaining: 12.8s\n",
      "10:\tlearn: 0.9723395\ttest: 0.9732712\tbest: 0.9732712 (10)\ttotal: 169ms\tremaining: 15.2s\n",
      "20:\tlearn: 0.9738130\ttest: 0.9740903\tbest: 0.9743736 (19)\ttotal: 295ms\tremaining: 13.8s\n",
      "30:\tlearn: 0.9745811\ttest: 0.9745448\tbest: 0.9745545 (24)\ttotal: 443ms\tremaining: 13.8s\n",
      "40:\tlearn: 0.9757446\ttest: 0.9753864\tbest: 0.9753864 (40)\ttotal: 584ms\tremaining: 13.7s\n",
      "50:\tlearn: 0.9762495\ttest: 0.9763178\tbest: 0.9764155 (48)\ttotal: 837ms\tremaining: 15.6s\n",
      "60:\tlearn: 0.9772282\ttest: 0.9767709\tbest: 0.9769797 (53)\ttotal: 973ms\tremaining: 15s\n",
      "70:\tlearn: 0.9781134\ttest: 0.9772379\tbest: 0.9772379 (70)\ttotal: 1.18s\tremaining: 15.4s\n",
      "80:\tlearn: 0.9785769\ttest: 0.9771226\tbest: 0.9772379 (70)\ttotal: 1.4s\tremaining: 15.8s\n",
      "90:\tlearn: 0.9791856\ttest: 0.9772074\tbest: 0.9774076 (85)\ttotal: 1.57s\tremaining: 15.6s\n",
      "100:\tlearn: 0.9795567\ttest: 0.9774883\tbest: 0.9775905 (93)\ttotal: 1.71s\tremaining: 15.2s\n",
      "110:\tlearn: 0.9800747\ttest: 0.9770963\tbest: 0.9775905 (93)\ttotal: 1.84s\tremaining: 14.7s\n",
      "120:\tlearn: 0.9805500\ttest: 0.9773860\tbest: 0.9775905 (93)\ttotal: 1.98s\tremaining: 14.4s\n",
      "130:\tlearn: 0.9809766\ttest: 0.9775690\tbest: 0.9776627 (129)\ttotal: 2.14s\tremaining: 14.2s\n",
      "140:\tlearn: 0.9810199\ttest: 0.9774753\tbest: 0.9778545 (131)\ttotal: 2.34s\tremaining: 14.3s\n",
      "150:\tlearn: 0.9813021\ttest: 0.9777565\tbest: 0.9778545 (131)\ttotal: 2.51s\tremaining: 14.1s\n",
      "160:\tlearn: 0.9816333\ttest: 0.9775604\tbest: 0.9778545 (131)\ttotal: 2.67s\tremaining: 13.9s\n",
      "170:\tlearn: 0.9820641\ttest: 0.9776456\tbest: 0.9778545 (131)\ttotal: 2.8s\tremaining: 13.6s\n",
      "180:\tlearn: 0.9822491\ttest: 0.9776456\tbest: 0.9779355 (178)\ttotal: 2.98s\tremaining: 13.5s\n",
      "190:\tlearn: 0.9826329\ttest: 0.9780209\tbest: 0.9780209 (190)\ttotal: 3.16s\tremaining: 13.4s\n",
      "200:\tlearn: 0.9830118\ttest: 0.9778375\tbest: 0.9780209 (190)\ttotal: 3.35s\tremaining: 13.3s\n",
      "210:\tlearn: 0.9832022\ttest: 0.9777437\tbest: 0.9780209 (190)\ttotal: 3.51s\tremaining: 13.1s\n",
      "220:\tlearn: 0.9834381\ttest: 0.9779313\tbest: 0.9780209 (190)\ttotal: 3.73s\tremaining: 13.1s\n",
      "230:\tlearn: 0.9837231\ttest: 0.9777351\tbest: 0.9780251 (222)\ttotal: 3.88s\tremaining: 12.9s\n",
      "240:\tlearn: 0.9840081\ttest: 0.9776370\tbest: 0.9780251 (222)\ttotal: 4.05s\tremaining: 12.7s\n",
      "250:\tlearn: 0.9843435\ttest: 0.9778205\tbest: 0.9780251 (222)\ttotal: 4.19s\tremaining: 12.5s\n",
      "260:\tlearn: 0.9846760\ttest: 0.9777223\tbest: 0.9780251 (222)\ttotal: 4.35s\tremaining: 12.3s\n",
      "270:\tlearn: 0.9848165\ttest: 0.9775259\tbest: 0.9780251 (222)\ttotal: 4.49s\tremaining: 12.1s\n",
      "Stopped by overfitting detector  (50 iterations wait)\n",
      "\n",
      "bestTest = 0.9780251415\n",
      "bestIteration = 222\n",
      "\n",
      "Shrink model to first 223 iterations.\n",
      "Learning rate set to 0.057694\n",
      "0:\tlearn: 0.9683532\ttest: 0.9620349\tbest: 0.9620349 (0)\ttotal: 18.4ms\tremaining: 18.4s\n",
      "10:\tlearn: 0.9755215\ttest: 0.9679433\tbest: 0.9679433 (10)\ttotal: 141ms\tremaining: 12.6s\n",
      "20:\tlearn: 0.9770482\ttest: 0.9688417\tbest: 0.9688417 (20)\ttotal: 284ms\tremaining: 13.2s\n",
      "30:\tlearn: 0.9778478\ttest: 0.9695821\tbest: 0.9695821 (30)\ttotal: 428ms\tremaining: 13.4s\n",
      "40:\tlearn: 0.9787763\ttest: 0.9698349\tbest: 0.9698407 (38)\ttotal: 589ms\tremaining: 13.8s\n",
      "50:\tlearn: 0.9791467\ttest: 0.9701053\tbest: 0.9702895 (49)\ttotal: 722ms\tremaining: 13.4s\n",
      "60:\tlearn: 0.9799435\ttest: 0.9702613\tbest: 0.9702895 (49)\ttotal: 878ms\tremaining: 13.5s\n",
      "70:\tlearn: 0.9800316\ttest: 0.9704457\tbest: 0.9704513 (68)\ttotal: 1s\tremaining: 13.2s\n",
      "80:\tlearn: 0.9806439\ttest: 0.9708036\tbest: 0.9709938 (79)\ttotal: 1.17s\tremaining: 13.3s\n",
      "90:\tlearn: 0.9808319\ttest: 0.9709883\tbest: 0.9712709 (86)\ttotal: 1.3s\tremaining: 13s\n",
      "100:\tlearn: 0.9812099\ttest: 0.9716353\tbest: 0.9716353 (100)\ttotal: 1.46s\tremaining: 13s\n",
      "110:\tlearn: 0.9819193\ttest: 0.9716190\tbest: 0.9719074 (104)\ttotal: 1.58s\tremaining: 12.7s\n",
      "120:\tlearn: 0.9822491\ttest: 0.9719893\tbest: 0.9719947 (116)\ttotal: 1.73s\tremaining: 12.6s\n",
      "130:\tlearn: 0.9825302\ttest: 0.9722619\tbest: 0.9722619 (130)\ttotal: 1.86s\tremaining: 12.3s\n",
      "140:\tlearn: 0.9826750\ttest: 0.9724473\tbest: 0.9724473 (136)\ttotal: 2.02s\tremaining: 12.3s\n",
      "150:\tlearn: 0.9827222\ttest: 0.9723599\tbest: 0.9725453 (141)\ttotal: 2.16s\tremaining: 12.1s\n",
      "160:\tlearn: 0.9831501\ttest: 0.9724526\tbest: 0.9725453 (141)\ttotal: 2.35s\tremaining: 12.3s\n",
      "170:\tlearn: 0.9834838\ttest: 0.9724421\tbest: 0.9725453 (141)\ttotal: 2.5s\tremaining: 12.1s\n",
      "180:\tlearn: 0.9836727\ttest: 0.9723441\tbest: 0.9726328 (175)\ttotal: 2.66s\tremaining: 12s\n",
      "190:\tlearn: 0.9838144\ttest: 0.9721480\tbest: 0.9726328 (175)\ttotal: 2.8s\tremaining: 11.9s\n",
      "200:\tlearn: 0.9839074\ttest: 0.9720553\tbest: 0.9726328 (175)\ttotal: 2.95s\tremaining: 11.7s\n",
      "210:\tlearn: 0.9843878\ttest: 0.9716684\tbest: 0.9726328 (175)\ttotal: 3.11s\tremaining: 11.6s\n",
      "220:\tlearn: 0.9851005\ttest: 0.9719519\tbest: 0.9726328 (175)\ttotal: 3.36s\tremaining: 11.9s\n",
      "Stopped by overfitting detector  (50 iterations wait)\n",
      "\n",
      "bestTest = 0.9726327834\n",
      "bestIteration = 175\n",
      "\n",
      "Shrink model to first 176 iterations.\n"
     ]
    }
   ],
   "source": [
    "train_preds = np.zeros(train_df.shape[0])\n",
    "test_preds = np.zeros(test_df.shape[0])\n",
    "train_class = np.zeros(train_df.shape[0])\n",
    "test_class = np.zeros(test_df.shape[0])\n",
    "skf = StratifiedKFold(n_splits=3)\n",
    "validation_scores = []\n",
    "org_scores = []\n",
    "models = []\n",
    "for train_index, test_index in skf.split(train, y):\n",
    "    X_train, X_test = train.iloc[train_index,:], train.iloc[test_index,:]\n",
    "    y_train, y_test = y[train_index], y[test_index]\n",
    "    train_pool = Pool(data=X_train, label=y_train,cat_features=cat_features)\n",
    "    test_pool = Pool(data=X_test, label=y_test, cat_features=cat_features)    \n",
    "    model = CatBoostClassifier(**catboost_params)\n",
    "    model.fit(X=train_pool, eval_set=test_pool,verbose=10)\n",
    "    train_preds[test_index] = model.predict_proba(test_pool)[:,1]\n",
    "    train_class[test_index] = model.predict(test_pool)\n",
    "    test_preds += model.predict_proba(submission_pool)[:,1]/3\n",
    "    test_class += model.predict(submission_pool)\n",
    "    validation_scores.append(f1_score(y_test,model.predict(test_pool),average='micro'))\n",
    "    org_scores.append(f1_score(y_org,model.predict(org_pool),average='micro'))\n",
    "    models.append(model)\n",
    "test_class = np.where(test_class > 2, 1, 0)"
   ]
  },
  {
   "cell_type": "code",
   "execution_count": 530,
   "metadata": {},
   "outputs": [
    {
     "data": {
      "text/plain": [
       "(0.9566801773015498, 0.0053043619760975045, 0.9492484526967285)"
      ]
     },
     "execution_count": 530,
     "metadata": {},
     "output_type": "execute_result"
    }
   ],
   "source": [
    "np.mean(validation_scores), np.std(validation_scores), min(validation_scores)"
   ]
  },
  {
   "cell_type": "code",
   "execution_count": 531,
   "metadata": {},
   "outputs": [
    {
     "data": {
      "text/plain": [
       "(0.9557308157273616, 0.0029790683398620158, 0.9523343503540382)"
      ]
     },
     "execution_count": 531,
     "metadata": {},
     "output_type": "execute_result"
    }
   ],
   "source": [
    "np.mean(org_scores), np.std(org_scores), min(org_scores)"
   ]
  },
  {
   "cell_type": "code",
   "execution_count": 532,
   "metadata": {},
   "outputs": [
    {
     "data": {
      "text/plain": [
       "array([[0.89635854, 0.03560644],\n",
       "       [0.10364146, 0.96439356]])"
      ]
     },
     "execution_count": 532,
     "metadata": {},
     "output_type": "execute_result"
    }
   ],
   "source": [
    "best_model = models[np.argmax(validation_scores)]\n",
    "y_hat = np.round(best_model.predict(train))\n",
    "confusion_matrix(y,y_hat,normalize='pred')"
   ]
  },
  {
   "cell_type": "code",
   "execution_count": 533,
   "metadata": {},
   "outputs": [],
   "source": [
    "name = 'catboost_unit'\n",
    "model_predictions_train[name] = train_preds\n",
    "model_predictions_test[name] = test_preds"
   ]
  },
  {
   "cell_type": "markdown",
   "metadata": {},
   "source": [
    "## lgb"
   ]
  },
  {
   "cell_type": "code",
   "execution_count": 534,
   "metadata": {},
   "outputs": [],
   "source": [
    "lgb_params = {\n",
    "    'objective':'binary',\n",
    "    'learning_rate':0.05,\n",
    "    'seed':0, \n",
    "    'metric':'f1',\n",
    "    'max_depth':8\n",
    "}"
   ]
  },
  {
   "cell_type": "code",
   "execution_count": 535,
   "metadata": {},
   "outputs": [],
   "source": [
    "folds = 3\n",
    "skf = StratifiedKFold(n_splits=folds)\n",
    "train_preds = np.zeros(train_df.shape[0])\n",
    "test_preds = np.zeros(test_df.shape[0])\n",
    "validation_scores = []\n",
    "org_scores = []\n",
    "models = []\n",
    "for train_index, test_index in skf.split(train, y):\n",
    "    X_train, X_test = train.iloc[train_index,:], train.iloc[test_index,:]\n",
    "    y_train, y_test = y[train_index], y[test_index]\n",
    "    train_data = lgb.Dataset(X_train,y_train)\n",
    "    valid_data = lgb.Dataset(X_test,y_test)\n",
    "    evals_result = {}\n",
    "    model = lgb.train(lgb_params, train_data,num_boost_round=1000,early_stopping_rounds=50, valid_sets=valid_data,feval=lgb_f1_score, evals_result=evals_result,verbose_eval=False)\n",
    "    \n",
    "    test_preds += model.predict(test) / 3\n",
    "    train_preds[test_index] = model.predict(X_test)\n",
    "    validation_scores.append(f1_score(y_test,np.round(model.predict(X_test)),average='micro'))\n",
    "    org_scores.append(f1_score(y_org,np.round(model.predict(train_org)),average='micro'))\n",
    "    models.append(model)"
   ]
  },
  {
   "cell_type": "code",
   "execution_count": 536,
   "metadata": {},
   "outputs": [
    {
     "data": {
      "text/plain": [
       "(0.9556781767604575, 0.005921952343040445, 0.9473032714412025)"
      ]
     },
     "execution_count": 536,
     "metadata": {},
     "output_type": "execute_result"
    }
   ],
   "source": [
    "np.mean(validation_scores), np.std(validation_scores), min(validation_scores)"
   ]
  },
  {
   "cell_type": "code",
   "execution_count": 537,
   "metadata": {},
   "outputs": [
    {
     "data": {
      "text/plain": [
       "(0.9599140329668221, 0.002546151690328971, 0.9578608024869034)"
      ]
     },
     "execution_count": 537,
     "metadata": {},
     "output_type": "execute_result"
    }
   ],
   "source": [
    "np.mean(org_scores), np.std(org_scores), min(org_scores)"
   ]
  },
  {
   "cell_type": "code",
   "execution_count": 538,
   "metadata": {},
   "outputs": [
    {
     "data": {
      "text/plain": [
       "array([[0.89923143, 0.02994429],\n",
       "       [0.10076857, 0.97005571]])"
      ]
     },
     "execution_count": 538,
     "metadata": {},
     "output_type": "execute_result"
    }
   ],
   "source": [
    "best_model = models[np.argmax(validation_scores)]\n",
    "y_hat = np.round(best_model.predict(train))\n",
    "confusion_matrix(y,y_hat,normalize='pred')"
   ]
  },
  {
   "cell_type": "code",
   "execution_count": 539,
   "metadata": {},
   "outputs": [],
   "source": [
    "name = 'lgb_unit'\n",
    "model_predictions_train[name] = train_preds\n",
    "model_predictions_test[name] = test_preds"
   ]
  },
  {
   "cell_type": "markdown",
   "metadata": {},
   "source": [
    "## KNN"
   ]
  },
  {
   "cell_type": "code",
   "execution_count": 540,
   "metadata": {},
   "outputs": [],
   "source": [
    "knn_params = {\n",
    "    'n_neighbors':10,\n",
    "    'weights':'distance'    \n",
    "}"
   ]
  },
  {
   "cell_type": "code",
   "execution_count": 541,
   "metadata": {},
   "outputs": [],
   "source": [
    "folds = 3\n",
    "skf = StratifiedKFold(n_splits=folds)\n",
    "train_preds = np.zeros(train_df.shape[0])\n",
    "test_preds = np.zeros(test_df.shape[0])\n",
    "validation_scores = []\n",
    "org_scores = []\n",
    "models = []\n",
    "for train_index, test_index in skf.split(train, y):\n",
    "    X_train, X_test = train.iloc[train_index,:].values, train.iloc[test_index,:].values\n",
    "    y_train, y_test = y[train_index], y[test_index]\n",
    "    \n",
    "    model = KNeighborsClassifier(**knn_params)\n",
    "    model.fit(X_train, y_train)\n",
    "    \n",
    "    test_preds += model.predict(test.values) / 3\n",
    "    train_preds[test_index] = model.predict(X_test)\n",
    "    validation_scores.append(f1_score(y_test,model.predict(X_test),average='micro'))\n",
    "    org_scores.append(f1_score(y_org,model.predict(train_org.values),average='micro'))\n",
    "    models.append(model)"
   ]
  },
  {
   "cell_type": "code",
   "execution_count": 542,
   "metadata": {},
   "outputs": [
    {
     "data": {
      "text/plain": [
       "(0.9322210820930521, 0.0034656648894080167, 0.9273209549071618)"
      ]
     },
     "execution_count": 542,
     "metadata": {},
     "output_type": "execute_result"
    }
   ],
   "source": [
    "np.mean(validation_scores), np.std(validation_scores), min(validation_scores)"
   ]
  },
  {
   "cell_type": "code",
   "execution_count": 543,
   "metadata": {},
   "outputs": [
    {
     "data": {
      "text/plain": [
       "(0.9724636846852034, 0.0010258527741349337, 0.9711012607218928)"
      ]
     },
     "execution_count": 543,
     "metadata": {},
     "output_type": "execute_result"
    }
   ],
   "source": [
    "np.mean(org_scores), np.std(org_scores), min(org_scores)"
   ]
  },
  {
   "cell_type": "code",
   "execution_count": 544,
   "metadata": {},
   "outputs": [
    {
     "data": {
      "text/plain": [
       "array([[0.97534922, 0.02152381],\n",
       "       [0.02465078, 0.97847619]])"
      ]
     },
     "execution_count": 544,
     "metadata": {},
     "output_type": "execute_result"
    }
   ],
   "source": [
    "best_model = models[np.argmax(validation_scores)]\n",
    "y_hat = best_model.predict(train)\n",
    "confusion_matrix(y,y_hat,normalize='pred')"
   ]
  },
  {
   "cell_type": "code",
   "execution_count": 545,
   "metadata": {},
   "outputs": [],
   "source": [
    "name = 'knn_unit'\n",
    "model_predictions_train[name] = train_preds\n",
    "model_predictions_test[name] = test_preds"
   ]
  },
  {
   "cell_type": "markdown",
   "metadata": {},
   "source": [
    "### SVM"
   ]
  },
  {
   "cell_type": "code",
   "execution_count": 546,
   "metadata": {},
   "outputs": [],
   "source": [
    "svc_params = {\n",
    "    'C':10,\n",
    "    'kernel':'rbf',\n",
    "    'random_state':0,    \n",
    "    'probability': False,\n",
    "    'gamma':'auto'\n",
    "}"
   ]
  },
  {
   "cell_type": "code",
   "execution_count": 547,
   "metadata": {},
   "outputs": [],
   "source": [
    "folds = 3\n",
    "skf = StratifiedKFold(n_splits=folds)\n",
    "train_preds = np.zeros(train_df.shape[0])\n",
    "test_preds = np.zeros(test_df.shape[0])\n",
    "validation_scores = []\n",
    "org_scores = []\n",
    "models = []\n",
    "for train_index, test_index in skf.split(train, y):\n",
    "    X_train, X_test = train.iloc[train_index,:].values, train.iloc[test_index,:].values\n",
    "    y_train, y_test = y[train_index], y[test_index]\n",
    "    \n",
    "    model = SVC(**svc_params)\n",
    "    model.fit(X_train, y_train)\n",
    "    \n",
    "    test_preds += model.predict(test.values) / 3\n",
    "    train_preds[test_index] = model.predict(X_test)\n",
    "    validation_scores.append(f1_score(y_test,model.predict(X_test),average='micro'))\n",
    "    org_scores.append(f1_score(y_org,model.predict(train_org.values),average='micro'))\n",
    "    models.append(model)"
   ]
  },
  {
   "cell_type": "code",
   "execution_count": 548,
   "metadata": {},
   "outputs": [
    {
     "data": {
      "text/plain": [
       "(0.90640651503574, 0.0004718120059338958, 0.9057471264367816)"
      ]
     },
     "execution_count": 548,
     "metadata": {},
     "output_type": "execute_result"
    }
   ],
   "source": [
    "np.mean(validation_scores), np.std(validation_scores), min(validation_scores)"
   ]
  },
  {
   "cell_type": "code",
   "execution_count": 549,
   "metadata": {},
   "outputs": [
    {
     "data": {
      "text/plain": [
       "(0.9615067257690021, 0.0006346913594896239, 0.9607391629727707)"
      ]
     },
     "execution_count": 549,
     "metadata": {},
     "output_type": "execute_result"
    }
   ],
   "source": [
    "np.mean(org_scores), np.std(org_scores), min(org_scores)"
   ]
  },
  {
   "cell_type": "code",
   "execution_count": 550,
   "metadata": {},
   "outputs": [
    {
     "data": {
      "text/plain": [
       "array([[0.9751434 , 0.03178192],\n",
       "       [0.0248566 , 0.96821808]])"
      ]
     },
     "execution_count": 550,
     "metadata": {},
     "output_type": "execute_result"
    }
   ],
   "source": [
    "best_model = models[np.argmax(validation_scores)]\n",
    "y_hat = best_model.predict(train)\n",
    "confusion_matrix(y,y_hat,normalize='pred')"
   ]
  },
  {
   "cell_type": "code",
   "execution_count": 551,
   "metadata": {},
   "outputs": [],
   "source": [
    "model_predictions_train.to_csv('stack_2_train.csv',index=False)\n",
    "model_predictions_test.to_csv('stack_2_test.csv',index=False)"
   ]
  },
  {
   "cell_type": "code",
   "execution_count": 552,
   "metadata": {},
   "outputs": [],
   "source": [
    "model_predictions_train = pd.read_csv('stack_2_train.csv')\n",
    "model_predictions_test = pd.read_csv('stack_2_test.csv')\n",
    "for col in model_predictions_test.columns:\n",
    "    model_predictions_train[col] = np.round(model_predictions_train[col]).astype(int)\n",
    "    model_predictions_test[col] = np.round(model_predictions_test[col]).astype(int)"
   ]
  },
  {
   "cell_type": "code",
   "execution_count": 553,
   "metadata": {},
   "outputs": [],
   "source": [
    "best = 'catboost_unit'"
   ]
  },
  {
   "cell_type": "code",
   "execution_count": 554,
   "metadata": {},
   "outputs": [],
   "source": [
    "in_corrects = model_predictions_train[model_predictions_train[best] != model_predictions_train['label']]\n",
    "models = [col for col in in_corrects if (col != best and col != 'label')]\n",
    "scores = {}\n",
    "for model in models:\n",
    "    y_hat = in_corrects[model]\n",
    "    score = log_loss(in_corrects['label'].values, y_hat.values)\n",
    "    scores[model] = score"
   ]
  },
  {
   "cell_type": "code",
   "execution_count": 555,
   "metadata": {},
   "outputs": [
    {
     "data": {
      "text/plain": [
       "{'catboost_anomaly': 27.537669025751256,\n",
       " 'lgb_anomaly': 27.161710656366754,\n",
       " 'knn_anomaly': 27.819614957148772,\n",
       " 'rf_anomaly': 27.53766141053763,\n",
       " 'svc_linear_anomaly': 27.913615428371497,\n",
       " 'svc_rbf_anomaly': 27.161715007917394,\n",
       " 'catboost_base': 31.531943849669975,\n",
       " 'lgb_base': 31.3909507580495,\n",
       " 'catboost_pred_diff': 28.524412880551463,\n",
       " 'lgb_pred_diff': 28.853355783897353,\n",
       " 'knn_pred_diff': 27.913514254819106,\n",
       " 'svm_pred_diff': 28.007601757054644,\n",
       " 'catboost_unit_diff': 29.182300863018575,\n",
       " 'lgb_unit_diff': 29.323279812099468,\n",
       " 'knn_unit_diff': 28.712404032007978,\n",
       " 'rbf_svm_unit_diff': 27.631652090771418,\n",
       " 'knn_unit_diff_norm': 28.712393153131366,\n",
       " 'svm_rbf_unit_diff_norm': 29.229367459777205,\n",
       " 'lgb_unit': 31.531919916141447,\n",
       " 'knn_unit': 28.66546471810558}"
      ]
     },
     "execution_count": 555,
     "metadata": {},
     "output_type": "execute_result"
    }
   ],
   "source": [
    "scores"
   ]
  },
  {
   "cell_type": "code",
   "execution_count": 556,
   "metadata": {},
   "outputs": [
    {
     "data": {
      "text/html": [
       "<div>\n",
       "<style scoped>\n",
       "    .dataframe tbody tr th:only-of-type {\n",
       "        vertical-align: middle;\n",
       "    }\n",
       "\n",
       "    .dataframe tbody tr th {\n",
       "        vertical-align: top;\n",
       "    }\n",
       "\n",
       "    .dataframe thead th {\n",
       "        text-align: right;\n",
       "    }\n",
       "</style>\n",
       "<table border=\"1\" class=\"dataframe\">\n",
       "  <thead>\n",
       "    <tr style=\"text-align: right;\">\n",
       "      <th></th>\n",
       "      <th>catboost_unit</th>\n",
       "      <th>label</th>\n",
       "      <th>lgb_anomaly</th>\n",
       "      <th>rbf_svm_unit_diff</th>\n",
       "    </tr>\n",
       "  </thead>\n",
       "  <tbody>\n",
       "    <tr>\n",
       "      <td>40</td>\n",
       "      <td>1</td>\n",
       "      <td>0</td>\n",
       "      <td>1</td>\n",
       "      <td>1</td>\n",
       "    </tr>\n",
       "    <tr>\n",
       "      <td>41</td>\n",
       "      <td>0</td>\n",
       "      <td>1</td>\n",
       "      <td>1</td>\n",
       "      <td>1</td>\n",
       "    </tr>\n",
       "    <tr>\n",
       "      <td>70</td>\n",
       "      <td>0</td>\n",
       "      <td>1</td>\n",
       "      <td>1</td>\n",
       "      <td>1</td>\n",
       "    </tr>\n",
       "    <tr>\n",
       "      <td>102</td>\n",
       "      <td>1</td>\n",
       "      <td>0</td>\n",
       "      <td>1</td>\n",
       "      <td>1</td>\n",
       "    </tr>\n",
       "    <tr>\n",
       "      <td>141</td>\n",
       "      <td>1</td>\n",
       "      <td>0</td>\n",
       "      <td>1</td>\n",
       "      <td>1</td>\n",
       "    </tr>\n",
       "    <tr>\n",
       "      <td>...</td>\n",
       "      <td>...</td>\n",
       "      <td>...</td>\n",
       "      <td>...</td>\n",
       "      <td>...</td>\n",
       "    </tr>\n",
       "    <tr>\n",
       "      <td>16848</td>\n",
       "      <td>0</td>\n",
       "      <td>1</td>\n",
       "      <td>1</td>\n",
       "      <td>1</td>\n",
       "    </tr>\n",
       "    <tr>\n",
       "      <td>16864</td>\n",
       "      <td>1</td>\n",
       "      <td>0</td>\n",
       "      <td>1</td>\n",
       "      <td>1</td>\n",
       "    </tr>\n",
       "    <tr>\n",
       "      <td>16872</td>\n",
       "      <td>1</td>\n",
       "      <td>0</td>\n",
       "      <td>1</td>\n",
       "      <td>1</td>\n",
       "    </tr>\n",
       "    <tr>\n",
       "      <td>16904</td>\n",
       "      <td>1</td>\n",
       "      <td>0</td>\n",
       "      <td>1</td>\n",
       "      <td>1</td>\n",
       "    </tr>\n",
       "    <tr>\n",
       "      <td>16922</td>\n",
       "      <td>1</td>\n",
       "      <td>0</td>\n",
       "      <td>0</td>\n",
       "      <td>1</td>\n",
       "    </tr>\n",
       "  </tbody>\n",
       "</table>\n",
       "<p>735 rows × 4 columns</p>\n",
       "</div>"
      ],
      "text/plain": [
       "       catboost_unit  label  lgb_anomaly  rbf_svm_unit_diff\n",
       "40                 1      0            1                  1\n",
       "41                 0      1            1                  1\n",
       "70                 0      1            1                  1\n",
       "102                1      0            1                  1\n",
       "141                1      0            1                  1\n",
       "...              ...    ...          ...                ...\n",
       "16848              0      1            1                  1\n",
       "16864              1      0            1                  1\n",
       "16872              1      0            1                  1\n",
       "16904              1      0            1                  1\n",
       "16922              1      0            0                  1\n",
       "\n",
       "[735 rows x 4 columns]"
      ]
     },
     "execution_count": 556,
     "metadata": {},
     "output_type": "execute_result"
    }
   ],
   "source": [
    "cmp_models = [\n",
    "    best,\n",
    "    'label',\n",
    "    'lgb_anomaly',\n",
    "    'rbf_svm_unit_diff'\n",
    "]\n",
    "\n",
    "in_corrects[cmp_models]"
   ]
  },
  {
   "cell_type": "code",
   "execution_count": 562,
   "metadata": {},
   "outputs": [
    {
     "data": {
      "text/plain": [
       "label                       0\n",
       "knn_pred_diff             500\n",
       "catboost_pred_diff        508\n",
       "lgb_pred_diff             510\n",
       "catboost_unit_diff        514\n",
       "lgb_unit_diff             518\n",
       "knn_unit_diff_norm        521\n",
       "knn_unit_diff             531\n",
       "lgb_unit                  553\n",
       "lgb_anomaly               556\n",
       "lgb_base                  558\n",
       "svc_rbf_anomaly           560\n",
       "rf_anomaly                573\n",
       "catboost_base             575\n",
       "knn_anomaly               577\n",
       "knn_unit                  579\n",
       "rbf_svm_unit_diff         580\n",
       "catboost_anomaly          580\n",
       "svm_rbf_unit_diff_norm    583\n",
       "svc_linear_anomaly        593\n",
       "catboost_unit             596\n",
       "svm_pred_diff             596\n",
       "dtype: int64"
      ]
     },
     "execution_count": 562,
     "metadata": {},
     "output_type": "execute_result"
    }
   ],
   "source": [
    "in_corrects[in_corrects['label']==0].sum().sort_values()"
   ]
  },
  {
   "cell_type": "code",
   "execution_count": 566,
   "metadata": {},
   "outputs": [
    {
     "data": {
      "text/plain": [
       "label                       0\n",
       "svm_pred_diff               0\n",
       "svc_linear_anomaly          1\n",
       "catboost_anomaly            6\n",
       "rbf_svm_unit_diff           8\n",
       "rf_anomaly                 13\n",
       "knn_anomaly                15\n",
       "svc_rbf_anomaly            18\n",
       "lgb_anomaly                22\n",
       "knn_unit                   31\n",
       "svm_rbf_unit_diff_norm     39\n",
       "knn_unit_diff              80\n",
       "knn_unit_diff_norm         90\n",
       "knn_pred_diff              94\n",
       "catboost_base              96\n",
       "catboost_pred_diff         99\n",
       "lgb_pred_diff             104\n",
       "lgb_unit_diff             106\n",
       "catboost_unit_diff        107\n",
       "lgb_base                  110\n",
       "lgb_unit                  118\n",
       "catboost_unit             139\n",
       "dtype: int64"
      ]
     },
     "execution_count": 566,
     "metadata": {},
     "output_type": "execute_result"
    }
   ],
   "source": [
    "(in_corrects[in_corrects['label']==1].shape[0] - in_corrects[in_corrects['label']==1].sum()).sort_values()"
   ]
  },
  {
   "cell_type": "code",
   "execution_count": null,
   "metadata": {},
   "outputs": [],
   "source": []
  },
  {
   "cell_type": "markdown",
   "metadata": {},
   "source": [
    "# Stack level 2"
   ]
  },
  {
   "cell_type": "code",
   "execution_count": 559,
   "metadata": {},
   "outputs": [],
   "source": [
    "model_predictions_train = pd.read_csv('stack_2_train.csv')\n",
    "model_predictions_test = pd.read_csv('stack_2_test.csv')"
   ]
  },
  {
   "cell_type": "code",
   "execution_count": 560,
   "metadata": {},
   "outputs": [
    {
     "data": {
      "text/plain": [
       "Index(['label', 'catboost_anomaly', 'lgb_anomaly', 'knn_anomaly', 'rf_anomaly',\n",
       "       'svc_linear_anomaly', 'svc_rbf_anomaly', 'catboost_base', 'lgb_base',\n",
       "       'catboost_pred_diff', 'lgb_pred_diff', 'knn_pred_diff', 'svm_pred_diff',\n",
       "       'catboost_unit_diff', 'lgb_unit_diff', 'knn_unit_diff',\n",
       "       'rbf_svm_unit_diff', 'knn_unit_diff_norm', 'svm_rbf_unit_diff_norm',\n",
       "       'catboost_unit', 'lgb_unit', 'knn_unit'],\n",
       "      dtype='object')"
      ]
     },
     "execution_count": 560,
     "metadata": {},
     "output_type": "execute_result"
    }
   ],
   "source": [
    "model_predictions_train.columns"
   ]
  },
  {
   "cell_type": "markdown",
   "metadata": {},
   "source": [
    "## Selective level 2"
   ]
  },
  {
   "cell_type": "code",
   "execution_count": 669,
   "metadata": {},
   "outputs": [],
   "source": [
    "features = [\n",
    "    'catboost_unit',\n",
    "    'knn_pred_diff',\n",
    "    'catboost_pred_diff',\n",
    "    'lgb_pred_diff',\n",
    "    'catboost_unit_diff',\n",
    "    'lgb_unit_diff',\n",
    "    'svm_pred_diff',\n",
    "    'svc_linear_anomaly',\n",
    "    'catboost_anomaly',\n",
    "    'rbf_svm_unit_diff',\n",
    "    'rf_anomaly'\n",
    "]\n",
    "cat_cols = [\n",
    "    'knn_pred_diff',\n",
    "    'svm_pred_diff',\n",
    "    'svc_linear_anomaly',\n",
    "    'svc_linear_anomaly',\n",
    "    'rbf_svm_unit_diff',\n",
    "    'rf_anomaly',\n",
    "]"
   ]
  },
  {
   "cell_type": "code",
   "execution_count": 665,
   "metadata": {},
   "outputs": [],
   "source": [
    "for each in cat_cols:\n",
    "    model_predictions_train[each] = model_predictions_train[each].astype(int)\n",
    "    model_predictions_test[each] = model_predictions_test[each].astype(int)"
   ]
  },
  {
   "cell_type": "code",
   "execution_count": 666,
   "metadata": {},
   "outputs": [],
   "source": [
    "train = model_predictions_train[features]\n",
    "test = model_predictions_test[features]\n",
    "y = train_df['label']"
   ]
  },
  {
   "cell_type": "code",
   "execution_count": 667,
   "metadata": {},
   "outputs": [
    {
     "data": {
      "text/plain": [
       "<matplotlib.axes._subplots.AxesSubplot at 0x7f78787d3350>"
      ]
     },
     "execution_count": 667,
     "metadata": {},
     "output_type": "execute_result"
    },
    {
     "data": {
      "image/png": "[encoded data removed]",
      "text/plain": [
       "<Figure size 432x288 with 2 Axes>"
      ]
     },
     "metadata": {
      "needs_background": "light"
     },
     "output_type": "display_data"
    }
   ],
   "source": [
    "sns.heatmap(model_predictions_train.corr())"
   ]
  },
  {
   "cell_type": "markdown",
   "metadata": {},
   "source": [
    "### Catboost"
   ]
  },
  {
   "cell_type": "code",
   "execution_count": 581,
   "metadata": {},
   "outputs": [],
   "source": [
    "catboost_params = {\n",
    "    'loss_function':'Logloss',\n",
    "    'random_state':0,\n",
    "    'early_stopping_rounds':50,\n",
    "    'eval_metric':'F1',\n",
    "    'depth':3\n",
    "}"
   ]
  },
  {
   "cell_type": "code",
   "execution_count": 582,
   "metadata": {},
   "outputs": [],
   "source": [
    "submission_pool = Pool(data=model_predictions_test[features], cat_features=cat_cols)"
   ]
  },
  {
   "cell_type": "code",
   "execution_count": 583,
   "metadata": {},
   "outputs": [
    {
     "name": "stdout",
     "output_type": "stream",
     "text": [
      "Learning rate set to 0.057693\n",
      "0:\tlearn: 0.9747696\ttest: 0.9757136\tbest: 0.9757136 (0)\ttotal: 16.1ms\tremaining: 16.1s\n",
      "10:\tlearn: 0.9753614\ttest: 0.9783992\tbest: 0.9786045 (7)\ttotal: 75.3ms\tremaining: 6.77s\n",
      "20:\tlearn: 0.9755043\ttest: 0.9786865\tbest: 0.9787850 (16)\ttotal: 124ms\tremaining: 5.8s\n",
      "30:\tlearn: 0.9756379\ttest: 0.9779923\tbest: 0.9787850 (16)\ttotal: 179ms\tremaining: 5.59s\n",
      "40:\tlearn: 0.9757716\ttest: 0.9779923\tbest: 0.9787850 (16)\ttotal: 248ms\tremaining: 5.79s\n",
      "50:\tlearn: 0.9759662\ttest: 0.9778936\tbest: 0.9787850 (16)\ttotal: 296ms\tremaining: 5.5s\n",
      "60:\tlearn: 0.9760600\ttest: 0.9779838\tbest: 0.9787850 (16)\ttotal: 343ms\tremaining: 5.28s\n",
      "Stopped by overfitting detector  (50 iterations wait)\n",
      "\n",
      "bestTest = 0.9787849566\n",
      "bestIteration = 16\n",
      "\n",
      "Shrink model to first 17 iterations.\n",
      "Learning rate set to 0.057693\n",
      "0:\tlearn: 0.9752620\ttest: 0.9774277\tbest: 0.9774277 (0)\ttotal: 13.3ms\tremaining: 13.3s\n",
      "10:\tlearn: 0.9758273\ttest: 0.9775130\tbest: 0.9778247 (8)\ttotal: 63.9ms\tremaining: 5.75s\n",
      "20:\tlearn: 0.9756191\ttest: 0.9774060\tbest: 0.9778247 (8)\ttotal: 108ms\tremaining: 5.04s\n",
      "30:\tlearn: 0.9760407\ttest: 0.9772990\tbest: 0.9778247 (8)\ttotal: 184ms\tremaining: 5.76s\n",
      "40:\tlearn: 0.9761299\ttest: 0.9774870\tbest: 0.9778247 (8)\ttotal: 248ms\tremaining: 5.79s\n",
      "50:\tlearn: 0.9762145\ttest: 0.9773799\tbest: 0.9778247 (8)\ttotal: 295ms\tremaining: 5.49s\n",
      "Stopped by overfitting detector  (50 iterations wait)\n",
      "\n",
      "bestTest = 0.9778247096\n",
      "bestIteration = 8\n",
      "\n",
      "Shrink model to first 9 iterations.\n",
      "Learning rate set to 0.057694\n",
      "0:\tlearn: 0.9756971\ttest: 0.9718744\tbest: 0.9718744 (0)\ttotal: 5.72ms\tremaining: 5.71s\n",
      "10:\tlearn: 0.9789544\ttest: 0.9722965\tbest: 0.9726356 (2)\ttotal: 57.2ms\tremaining: 5.14s\n",
      "20:\tlearn: 0.9787991\ttest: 0.9727403\tbest: 0.9727403 (20)\ttotal: 129ms\tremaining: 6.02s\n",
      "30:\tlearn: 0.9787909\ttest: 0.9724507\tbest: 0.9727455 (22)\ttotal: 200ms\tremaining: 6.26s\n",
      "40:\tlearn: 0.9788831\ttest: 0.9725438\tbest: 0.9727455 (22)\ttotal: 281ms\tremaining: 6.57s\n",
      "50:\tlearn: 0.9790714\ttest: 0.9727299\tbest: 0.9727455 (22)\ttotal: 337ms\tremaining: 6.28s\n",
      "60:\tlearn: 0.9791165\ttest: 0.9728230\tbest: 0.9728230 (53)\ttotal: 411ms\tremaining: 6.33s\n",
      "70:\tlearn: 0.9792619\ttest: 0.9729161\tbest: 0.9729161 (63)\ttotal: 463ms\tremaining: 6.06s\n",
      "80:\tlearn: 0.9793090\ttest: 0.9730092\tbest: 0.9730092 (80)\ttotal: 528ms\tremaining: 5.99s\n",
      "90:\tlearn: 0.9794072\ttest: 0.9731955\tbest: 0.9731955 (85)\ttotal: 597ms\tremaining: 5.96s\n",
      "100:\tlearn: 0.9796979\ttest: 0.9730144\tbest: 0.9732006 (98)\ttotal: 684ms\tremaining: 6.09s\n",
      "110:\tlearn: 0.9796056\ttest: 0.9732989\tbest: 0.9732989 (104)\ttotal: 734ms\tremaining: 5.88s\n",
      "120:\tlearn: 0.9795545\ttest: 0.9733920\tbest: 0.9733920 (120)\ttotal: 785ms\tremaining: 5.7s\n",
      "130:\tlearn: 0.9796036\ttest: 0.9732057\tbest: 0.9733920 (120)\ttotal: 832ms\tremaining: 5.52s\n",
      "140:\tlearn: 0.9798922\ttest: 0.9732057\tbest: 0.9733920 (120)\ttotal: 879ms\tremaining: 5.35s\n",
      "150:\tlearn: 0.9797960\ttest: 0.9730195\tbest: 0.9733920 (120)\ttotal: 949ms\tremaining: 5.33s\n",
      "160:\tlearn: 0.9800394\ttest: 0.9726525\tbest: 0.9733920 (120)\ttotal: 999ms\tremaining: 5.21s\n",
      "170:\tlearn: 0.9801395\ttest: 0.9726577\tbest: 0.9733920 (120)\ttotal: 1.05s\tremaining: 5.07s\n",
      "Stopped by overfitting detector  (50 iterations wait)\n",
      "\n",
      "bestTest = 0.9733920368\n",
      "bestIteration = 120\n",
      "\n",
      "Shrink model to first 121 iterations.\n"
     ]
    }
   ],
   "source": [
    "train_preds = np.zeros(train_df.shape[0])\n",
    "test_preds = np.zeros(test_df.shape[0])\n",
    "train_class = np.zeros(train_df.shape[0])\n",
    "test_class = np.zeros(test_df.shape[0])\n",
    "skf = StratifiedKFold(n_splits=3)\n",
    "validation_scores = []\n",
    "for train_index, test_index in skf.split(train, y):\n",
    "    X_train, X_test = train.iloc[train_index,:], train.iloc[test_index,:]\n",
    "    y_train, y_test = y[train_index], y[test_index]\n",
    "    train_pool = Pool(data=X_train, label=y_train,cat_features=cat_cols)\n",
    "    test_pool = Pool(data=X_test, label=y_test, cat_features=cat_cols)    \n",
    "    model = CatBoostClassifier(**catboost_params)\n",
    "    model.fit(X=train_pool, eval_set=test_pool,verbose=10)\n",
    "    train_preds[test_index] = model.predict_proba(test_pool)[:,1]\n",
    "    train_class[test_index] = model.predict(test_pool)\n",
    "    test_preds += model.predict_proba(submission_pool)[:,1]/3\n",
    "    test_class += model.predict(submission_pool)\n",
    "    validation_scores.append(f1_score(y_test,model.predict(test_pool),average='micro'))\n",
    "test_class = np.where(test_class > 2, 1, 0)"
   ]
  },
  {
   "cell_type": "code",
   "execution_count": 584,
   "metadata": {},
   "outputs": [
    {
     "data": {
      "text/plain": [
       "(0.9570338778857045, 0.004451143606348504, 0.9508399646330681)"
      ]
     },
     "execution_count": 584,
     "metadata": {},
     "output_type": "execute_result"
    }
   ],
   "source": [
    "np.mean(validation_scores), np.std(validation_scores), min(validation_scores)"
   ]
  },
  {
   "cell_type": "code",
   "execution_count": 585,
   "metadata": {},
   "outputs": [],
   "source": [
    "submission_df['prediction'] = test_class\n",
    "submission_df.to_csv('submission.csv',index=False)"
   ]
  },
  {
   "cell_type": "markdown",
   "metadata": {},
   "source": [
    "### Logistice regression"
   ]
  },
  {
   "cell_type": "code",
   "execution_count": 586,
   "metadata": {},
   "outputs": [],
   "source": [
    "logistic_reg_params = {\n",
    "    'penalty':'l2',\n",
    "    'C':1.0,\n",
    "    'solver':'lbfgs',\n",
    "    'max_iter':100\n",
    "}"
   ]
  },
  {
   "cell_type": "code",
   "execution_count": 591,
   "metadata": {},
   "outputs": [],
   "source": [
    "folds = 3\n",
    "skf = StratifiedKFold(n_splits=folds)\n",
    "train_preds = np.zeros(train_df.shape[0])\n",
    "test_preds = np.zeros(test_df.shape[0])\n",
    "validation_scores = []\n",
    "models = []\n",
    "for train_index, test_index in skf.split(train, y):\n",
    "    X_train, X_test = train.iloc[train_index,:].values, train.iloc[test_index,:].values\n",
    "    y_train, y_test = y[train_index], y[test_index]\n",
    "    \n",
    "    model = LogisticRegression(**logistic_reg_params)\n",
    "    model.fit(X_train, y_train)\n",
    "    \n",
    "    test_preds += model.predict(test.values) / 3\n",
    "    train_preds[test_index] = model.predict(X_test)\n",
    "    validation_scores.append(f1_score(y_test,model.predict(X_test),average='micro'))\n",
    "    models.append(model)"
   ]
  },
  {
   "cell_type": "code",
   "execution_count": 594,
   "metadata": {},
   "outputs": [
    {
     "data": {
      "text/plain": [
       "(0.9562676256257682, 0.005251597127235231, 0.9490716180371352)"
      ]
     },
     "execution_count": 594,
     "metadata": {},
     "output_type": "execute_result"
    }
   ],
   "source": [
    "np.mean(validation_scores), np.std(validation_scores), min(validation_scores)"
   ]
  },
  {
   "cell_type": "code",
   "execution_count": 595,
   "metadata": {},
   "outputs": [],
   "source": [
    "submission_df['prediction'] = np.round(test_preds).astype(int)\n",
    "submission_df.to_csv('submission.csv',index=False)"
   ]
  },
  {
   "cell_type": "markdown",
   "metadata": {},
   "source": [
    "### Extratrees"
   ]
  },
  {
   "cell_type": "code",
   "execution_count": 623,
   "metadata": {},
   "outputs": [],
   "source": [
    "et_params = {\n",
    "    'n_estimators':50,\n",
    "    'max_depth':3,\n",
    "    'random_state':0    \n",
    "}"
   ]
  },
  {
   "cell_type": "code",
   "execution_count": 624,
   "metadata": {},
   "outputs": [],
   "source": [
    "folds = 3\n",
    "skf = StratifiedKFold(n_splits=folds)\n",
    "train_preds = np.zeros(train_df.shape[0])\n",
    "test_preds = np.zeros(test_df.shape[0])\n",
    "validation_scores = []\n",
    "for train_index, test_index in skf.split(train, y):\n",
    "    X_train, X_test = train.iloc[train_index,:].values, train.iloc[test_index,:].values\n",
    "    y_train, y_test = y[train_index], y[test_index]\n",
    "    \n",
    "    model = ExtraTreesClassifier(**et_params)\n",
    "    model.fit(X_train, y_train)\n",
    "    \n",
    "    test_preds += model.predict(test.values) / 3\n",
    "    train_preds[test_index] = model.predict(X_test)\n",
    "    validation_scores.append(f1_score(y_test,model.predict(X_test),average='micro'))"
   ]
  },
  {
   "cell_type": "code",
   "execution_count": 625,
   "metadata": {},
   "outputs": [
    {
     "data": {
      "text/plain": [
       "(0.956031846079644, 0.005490538768764707, 0.9483642793987621)"
      ]
     },
     "execution_count": 625,
     "metadata": {},
     "output_type": "execute_result"
    }
   ],
   "source": [
    "np.mean(validation_scores), np.std(validation_scores), min(validation_scores)"
   ]
  },
  {
   "cell_type": "markdown",
   "metadata": {},
   "source": [
    "## All predictions"
   ]
  },
  {
   "cell_type": "code",
   "execution_count": 698,
   "metadata": {},
   "outputs": [],
   "source": [
    "features = model_predictions_test.columns\n",
    "cat_cols = [\n",
    "    'knn_anomaly', \n",
    "    'rf_anomaly',\n",
    "    'svc_linear_anomaly', \n",
    "    'svc_rbf_anomaly', \n",
    "    'knn_pred_diff', \n",
    "    'svm_pred_diff',\n",
    "    'knn_unit_diff',\n",
    "    'rbf_svm_unit_diff', \n",
    "    'knn_unit_diff_norm', \n",
    "    'svm_rbf_unit_diff_norm',\n",
    "    'knn_unit'\n",
    "]"
   ]
  },
  {
   "cell_type": "code",
   "execution_count": 699,
   "metadata": {},
   "outputs": [],
   "source": [
    "for each in cat_cols:\n",
    "    model_predictions_train[each] = model_predictions_train[each].astype(int)\n",
    "    model_predictions_test[each] = model_predictions_test[each].astype(int)"
   ]
  },
  {
   "cell_type": "code",
   "execution_count": 700,
   "metadata": {},
   "outputs": [],
   "source": [
    "train = model_predictions_train[features]\n",
    "test = model_predictions_test[features]\n",
    "y = train_df['label']"
   ]
  },
  {
   "cell_type": "code",
   "execution_count": 701,
   "metadata": {},
   "outputs": [
    {
     "data": {
      "text/plain": [
       "<matplotlib.axes._subplots.AxesSubplot at 0x7f78785083d0>"
      ]
     },
     "execution_count": 701,
     "metadata": {},
     "output_type": "execute_result"
    },
    {
     "data": {
      "image/png": "[encoded data removed]",
      "text/plain": [
       "<Figure size 432x288 with 2 Axes>"
      ]
     },
     "metadata": {
      "needs_background": "light"
     },
     "output_type": "display_data"
    }
   ],
   "source": [
    "sns.heatmap(model_predictions_train.corr())"
   ]
  },
  {
   "cell_type": "markdown",
   "metadata": {},
   "source": [
    "### Catboost"
   ]
  },
  {
   "cell_type": "code",
   "execution_count": 702,
   "metadata": {},
   "outputs": [],
   "source": [
    "catboost_params = {\n",
    "    'loss_function':'Logloss',\n",
    "    'random_state':0,\n",
    "    'early_stopping_rounds':50,\n",
    "    'eval_metric':'F1',\n",
    "    'depth':3,\n",
    "    'l2_leaf_reg':5\n",
    "}"
   ]
  },
  {
   "cell_type": "code",
   "execution_count": 703,
   "metadata": {},
   "outputs": [],
   "source": [
    "submission_pool = Pool(data=model_predictions_test[features], cat_features=cat_cols)"
   ]
  },
  {
   "cell_type": "code",
   "execution_count": 704,
   "metadata": {},
   "outputs": [
    {
     "name": "stdout",
     "output_type": "stream",
     "text": [
      "0:\tlearn: 0.9730399\ttest: 0.9743395\tbest: 0.9743395 (0)\ttotal: 7.71ms\tremaining: 7.7s\n",
      "10:\tlearn: 0.9750096\ttest: 0.9785797\tbest: 0.9785838 (4)\ttotal: 60.6ms\tremaining: 5.45s\n",
      "20:\tlearn: 0.9750900\ttest: 0.9789940\tbest: 0.9789940 (19)\ttotal: 113ms\tremaining: 5.27s\n",
      "30:\tlearn: 0.9752637\ttest: 0.9793010\tbest: 0.9793993 (26)\ttotal: 164ms\tremaining: 5.13s\n",
      "40:\tlearn: 0.9754342\ttest: 0.9790964\tbest: 0.9793993 (26)\ttotal: 229ms\tremaining: 5.37s\n",
      "50:\tlearn: 0.9755137\ttest: 0.9789940\tbest: 0.9793993 (26)\ttotal: 281ms\tremaining: 5.23s\n",
      "60:\tlearn: 0.9755488\ttest: 0.9789900\tbest: 0.9793993 (26)\ttotal: 331ms\tremaining: 5.09s\n",
      "70:\tlearn: 0.9755816\ttest: 0.9786947\tbest: 0.9793993 (26)\ttotal: 406ms\tremaining: 5.31s\n",
      "Stopped by overfitting detector  (50 iterations wait)\n",
      "\n",
      "bestTest = 0.9793993069\n",
      "bestIteration = 26\n",
      "\n",
      "Shrink model to first 27 iterations.\n",
      "0:\tlearn: 0.9736115\ttest: 0.9763930\tbest: 0.9763930 (0)\ttotal: 5.09ms\tremaining: 5.08s\n",
      "10:\tlearn: 0.9753988\ttest: 0.9779702\tbest: 0.9787193 (6)\ttotal: 68ms\tremaining: 6.11s\n",
      "20:\tlearn: 0.9755606\ttest: 0.9777906\tbest: 0.9787193 (6)\ttotal: 119ms\tremaining: 5.55s\n",
      "30:\tlearn: 0.9757550\ttest: 0.9777821\tbest: 0.9787193 (6)\ttotal: 176ms\tremaining: 5.5s\n",
      "40:\tlearn: 0.9756144\ttest: 0.9779829\tbest: 0.9787193 (6)\ttotal: 254ms\tremaining: 5.94s\n",
      "50:\tlearn: 0.9756098\ttest: 0.9779787\tbest: 0.9787193 (6)\ttotal: 340ms\tremaining: 6.33s\n",
      "Stopped by overfitting detector  (50 iterations wait)\n",
      "\n",
      "bestTest = 0.9787193067\n",
      "bestIteration = 6\n",
      "\n",
      "Shrink model to first 7 iterations.\n",
      "0:\tlearn: 0.9769412\ttest: 0.9718891\tbest: 0.9718891 (0)\ttotal: 7.56ms\tremaining: 7.55s\n",
      "10:\tlearn: 0.9783654\ttest: 0.9718929\tbest: 0.9722675 (1)\ttotal: 68.3ms\tremaining: 6.14s\n",
      "20:\tlearn: 0.9785251\ttest: 0.9717017\tbest: 0.9722700 (11)\ttotal: 137ms\tremaining: 6.38s\n",
      "30:\tlearn: 0.9786191\ttest: 0.9717071\tbest: 0.9722700 (11)\ttotal: 184ms\tremaining: 5.77s\n",
      "40:\tlearn: 0.9786682\ttest: 0.9718000\tbest: 0.9722700 (11)\ttotal: 233ms\tremaining: 5.45s\n",
      "50:\tlearn: 0.9788563\ttest: 0.9717946\tbest: 0.9722700 (11)\ttotal: 284ms\tremaining: 5.29s\n",
      "60:\tlearn: 0.9789504\ttest: 0.9716963\tbest: 0.9722700 (11)\ttotal: 340ms\tremaining: 5.23s\n",
      "Stopped by overfitting detector  (50 iterations wait)\n",
      "\n",
      "bestTest = 0.9722700325\n",
      "bestIteration = 11\n",
      "\n",
      "Shrink model to first 12 iterations.\n"
     ]
    }
   ],
   "source": [
    "train_preds = np.zeros(train_df.shape[0])\n",
    "test_preds = np.zeros(test_df.shape[0])\n",
    "train_class = np.zeros(train_df.shape[0])\n",
    "test_class = np.zeros(test_df.shape[0])\n",
    "skf = StratifiedKFold(n_splits=3)\n",
    "validation_scores = []\n",
    "for train_index, test_index in skf.split(train, y):\n",
    "    X_train, X_test = train.iloc[train_index,:], train.iloc[test_index,:]\n",
    "    y_train, y_test = y[train_index], y[test_index]\n",
    "    train_pool = Pool(data=X_train, label=y_train,cat_features=cat_cols)\n",
    "    test_pool = Pool(data=X_test, label=y_test, cat_features=cat_cols)    \n",
    "    model = CatBoostClassifier(**catboost_params)\n",
    "    model.fit(X=train_pool, eval_set=test_pool,verbose=10)\n",
    "    train_preds[test_index] = model.predict_proba(test_pool)[:,1]\n",
    "    train_class[test_index] = model.predict(test_pool)\n",
    "    test_preds += model.predict_proba(submission_pool)[:,1]/3\n",
    "    test_class += model.predict(submission_pool)\n",
    "    validation_scores.append(f1_score(y_test,model.predict(test_pool),average='micro'))\n",
    "test_class = np.where(test_class > 2, 1, 0)"
   ]
  },
  {
   "cell_type": "code",
   "execution_count": 705,
   "metadata": {},
   "outputs": [
    {
     "data": {
      "text/plain": [
       "(0.9572694906853322, 0.006067925546634067, 0.9487179487179487)"
      ]
     },
     "execution_count": 705,
     "metadata": {},
     "output_type": "execute_result"
    }
   ],
   "source": [
    "np.mean(validation_scores), np.std(validation_scores), min(validation_scores)"
   ]
  },
  {
   "cell_type": "code",
   "execution_count": 706,
   "metadata": {},
   "outputs": [],
   "source": [
    "submission_df['prediction'] = test_class\n",
    "submission_df.to_csv('submission.csv',index=False)"
   ]
  },
  {
   "cell_type": "markdown",
   "metadata": {},
   "source": [
    "### Extratrees"
   ]
  },
  {
   "cell_type": "code",
   "execution_count": 658,
   "metadata": {},
   "outputs": [],
   "source": [
    "et_params = {\n",
    "    'n_estimators':10,\n",
    "    'max_depth':3,\n",
    "    'random_state':0    \n",
    "}"
   ]
  },
  {
   "cell_type": "code",
   "execution_count": 659,
   "metadata": {},
   "outputs": [],
   "source": [
    "folds = 3\n",
    "skf = StratifiedKFold(n_splits=folds)\n",
    "train_preds = np.zeros(train_df.shape[0])\n",
    "test_preds = np.zeros(test_df.shape[0])\n",
    "validation_scores = []\n",
    "for train_index, test_index in skf.split(train, y):\n",
    "    X_train, X_test = train.iloc[train_index,:].values, train.iloc[test_index,:].values\n",
    "    y_train, y_test = y[train_index], y[test_index]\n",
    "    \n",
    "    model = ExtraTreesClassifier(**et_params)\n",
    "    model.fit(X_train, y_train)\n",
    "    \n",
    "    test_preds += model.predict(test.values) / 3\n",
    "    train_preds[test_index] = model.predict(X_test)\n",
    "    validation_scores.append(f1_score(y_test,model.predict(X_test),average='micro'))"
   ]
  },
  {
   "cell_type": "code",
   "execution_count": 660,
   "metadata": {},
   "outputs": [
    {
     "data": {
      "text/plain": [
       "(0.9556192839822065, 0.005589591053385371, 0.9480106100795755)"
      ]
     },
     "execution_count": 660,
     "metadata": {},
     "output_type": "execute_result"
    }
   ],
   "source": [
    "np.mean(validation_scores), np.std(validation_scores), min(validation_scores)"
   ]
  },
  {
   "cell_type": "markdown",
   "metadata": {},
   "source": [
    "## Knn classifier"
   ]
  },
  {
   "cell_type": "code",
   "execution_count": 661,
   "metadata": {},
   "outputs": [],
   "source": [
    "knn_params = {\n",
    "    'n_neighbors':15,\n",
    "    'weights':'distance'    \n",
    "}"
   ]
  },
  {
   "cell_type": "code",
   "execution_count": 662,
   "metadata": {},
   "outputs": [],
   "source": [
    "folds = 3\n",
    "skf = StratifiedKFold(n_splits=folds)\n",
    "train_preds = np.zeros(train_df.shape[0])\n",
    "test_preds = np.zeros(test_df.shape[0])\n",
    "validation_scores = []\n",
    "org_scores = []\n",
    "for train_index, test_index in skf.split(train, y):\n",
    "    X_train, X_test = train.iloc[train_index,:].values, train.iloc[test_index,:].values\n",
    "    y_train, y_test = y[train_index], y[test_index]\n",
    "    \n",
    "    model = KNeighborsClassifier(**knn_params)\n",
    "    model.fit(X_train, y_train)\n",
    "    \n",
    "    test_preds += model.predict(test.values) / 3\n",
    "    train_preds[test_index] = model.predict(X_test)\n",
    "    validation_scores.append(f1_score(y_test,model.predict(X_test),average='micro'))"
   ]
  },
  {
   "cell_type": "code",
   "execution_count": 663,
   "metadata": {},
   "outputs": [
    {
     "data": {
      "text/plain": [
       "(0.9544994666196441, 0.005494382289687058, 0.946949602122016)"
      ]
     },
     "execution_count": 663,
     "metadata": {},
     "output_type": "execute_result"
    }
   ],
   "source": [
    "np.mean(validation_scores), np.std(validation_scores), min(validation_scores)"
   ]
  },
  {
   "cell_type": "code",
   "execution_count": null,
   "metadata": {},
   "outputs": [],
   "source": []
  }
 ],
 "metadata": {
  "kernelspec": {
   "display_name": "Python 3",
   "language": "python",
   "name": "python3"
  },
  "language_info": {
   "codemirror_mode": {
    "name": "ipython",
    "version": 3
   },
   "file_extension": ".py",
   "mimetype": "text/x-python",
   "name": "python",
   "nbconvert_exporter": "python",
   "pygments_lexer": "ipython3",
   "version": "3.7.4"
  }
 },
 "nbformat": 4,
 "nbformat_minor": 2
}
