{
 "cells": [
  {
   "cell_type": "code",
   "execution_count": 3,
   "metadata": {},
   "outputs": [],
   "source": [
    "import itertools\n",
    "\n",
    "import pandas as pd\n",
    "import numpy as np\n",
    "import matplotlib.pyplot as plt\n",
    "import seaborn as sns\n",
    "\n",
    "from sklearn.model_selection import KFold,StratifiedKFold\n",
    "from sklearn.linear_model import LinearRegression,LogisticRegression\n",
    "from sklearn.svm import SVR, SVC\n",
    "from sklearn.ensemble import RandomForestRegressor,ExtraTreesClassifier,RandomForestClassifier\n",
    "from sklearn.preprocessing import StandardScaler,KBinsDiscretizer,LabelEncoder,MinMaxScaler\n",
    "from sklearn.metrics import mean_squared_error,f1_score\n",
    "from sklearn.kernel_approximation import Nystroem\n",
    "from sklearn.neighbors import KNeighborsClassifier\n",
    "\n",
    "from catboost import Pool, cv,CatBoostClassifier,CatBoostRegressor\n",
    "\n",
    "import tensorflow as tf\n",
    "from tensorflow.keras.layers import Input, Dense, concatenate,Dropout\n",
    "from tensorflow.keras.models import Model, Sequential\n",
    "from tensorflow.keras import regularizers\n",
    "import tensorflow_addons as tfa\n",
    "\n",
    "from tqdm import tqdm\n",
    "\n",
    "import lightgbm as lgb\n",
    "\n",
    "from imblearn.over_sampling import RandomOverSampler,SMOTE, ADASYN"
   ]
  },
  {
   "cell_type": "code",
   "execution_count": 4,
   "metadata": {},
   "outputs": [],
   "source": [
    "train_df = pd.read_csv('train_df_final.csv')\n",
    "train_df = train_df.fillna(0)\n",
    "train_df_org = pd.read_csv('train_df_final_blanced.csv')\n",
    "train_df_org = train_df_org.fillna(0)\n",
    "test_df = pd.read_csv('test_df_final.csv')\n",
    "test_df = test_df.fillna(0)\n",
    "submission_df = pd.read_csv('sample_submission.csv')"
   ]
  },
  {
   "cell_type": "code",
   "execution_count": 5,
   "metadata": {},
   "outputs": [],
   "source": [
    "y = train_df['label'].values\n",
    "y_org = train_df_org['label'].values"
   ]
  },
  {
   "cell_type": "code",
   "execution_count": 6,
   "metadata": {},
   "outputs": [
    {
     "data": {
      "text/plain": [
       "0.9100607060765015"
      ]
     },
     "execution_count": 6,
     "metadata": {},
     "output_type": "execute_result"
    }
   ],
   "source": [
    "y.sum()/y.shape[0]"
   ]
  },
  {
   "cell_type": "code",
   "execution_count": 7,
   "metadata": {},
   "outputs": [],
   "source": [
    "model_predictions_train = pd.DataFrame()\n",
    "model_predictions_train['label'] = train_df['label']\n",
    "model_predictions_test = pd.DataFrame()"
   ]
  },
  {
   "cell_type": "code",
   "execution_count": 8,
   "metadata": {},
   "outputs": [
    {
     "name": "stdout",
     "output_type": "stream",
     "text": [
      "additional_fare\n",
      "duration\n",
      "meter_waiting\n",
      "meter_waiting_fare\n",
      "meter_waiting_till_pickup\n",
      "fare\n",
      "pickup_date\n",
      "pickup_hour\n",
      "pickup_minute\n",
      "drop_date\n",
      "drop_hour\n",
      "drop_minute\n",
      "pick_cluster\n",
      "is_more_than_one_day\n",
      "distance_km\n",
      "fare_per_km\n",
      "pickup_timeslot\n",
      "day_of_week\n",
      "is_weekday\n",
      "cal_time_difference\n",
      "label\n",
      "predicted_fare\n",
      "predicted_fare_diff\n",
      "predicted_fare_diff_per_fare\n",
      "predicted_fare_diff_per_predicted_fare\n",
      "fare_per_distance\n",
      "predicted_fare_per_distance\n",
      "predicted_fare_diff_per_distance\n",
      "predicted_duration\n",
      "predicted_duration_diff\n",
      "predicted_duraton_diff_per_duraton\n",
      "predicted_duraton_diff_per_predicted_duration\n",
      "predicted_duraton_diff_per_distance\n",
      "fare_per_duration\n",
      "predicted_fare_per_duration\n",
      "predicted_fare_per_duration_diff\n",
      "avg_speed\n",
      "predicted_avg_speed\n",
      "predicted_avg_speed_diff\n",
      "predicted_meter_waiting\n",
      "predicted_meter_waiting_diff\n",
      "predicted_meter_waiting_diff_per_meter_waiting\n",
      "predicted_meter_waiting_diff_per_distance\n",
      "predicted_meter_waiting_diff_per_predicted_meter_waiting\n",
      "meter_waiting_per_duration\n",
      "predicted_meter_waiting_per_duration\n",
      "predicted_meter_waiting_per_duration_diff\n",
      "predicted_meter_waiting_fare\n",
      "predicted_meter_waiting_fare_diff\n",
      "predicted_meter_waiting_fare_diff_per_meter_waiting_fare\n",
      "predicted_meter_waiting_fare_diff_per_distance\n",
      "predicted_meter_waiting_fare_diff_per_predicted_meter_waiting_fare\n",
      "meter_waiting_fare_per_meter_waiting\n",
      "predicted_meter_waiting_fare_per_meter_waiting\n",
      "predicted_meter_waiting_fare_per_meter_waiting_diff\n",
      "meter_waiting_fare_per_duration\n",
      "predicted_meter_waiting_fare_per_duration\n",
      "predicted_meter_waiting_fare_per_duration_diff\n",
      "predicted_additional_fare\n",
      "predicted_additional_fare_diff\n",
      "predicted_additional_fare_diff_per_additional_fare\n",
      "predicted_addtional_fare_per_fare\n",
      "addtional_fare_per_fare\n",
      "addtional_fare_per_distance\n",
      "predicted_addtional_fare_per_distance\n",
      "predicted_addtional_fare_diff_per_distance\n",
      "addtional_fare_per_duration\n",
      "predicted_addtional_fare_per_duration\n",
      "fare-additional_fare\n",
      "predicted_fare-additional_fare\n",
      "fare-additional_fare-meter_waiting_fare\n",
      "predicted_fare-additional_fare-meter_waiting_fare\n",
      "fare-additional_fare_per_distance\n",
      "predicted_fare-additional_fare_per_distance\n",
      "fare-additional_fare_per_duration\n",
      "predicted_fare-additional_fare_per_duration\n",
      "fare-additional_fare-meter_waiting_fare_per_distance\n",
      "predicted_fare-additional_fare-meter_waiting_fare_per_distance\n",
      "fare-additional_fare-meter_waiting_fare_per_duration\n",
      "predicted_fare-additional_fare-meter_waiting_fare_per_duration\n",
      "predicted_meter_waiting_till_pickup\n",
      "predicted_meter_waiting_till_pickup_diff\n",
      "predicted_meter_waiting_till_pickup_diff_per_meter_waiting_till_pickup\n",
      "meter_waiting_till_pickup_per_meter_waiting\n",
      "predicted_meter_waiting_till_pickup_per_meter_waiting\n",
      "predicted_meter_waiting_till_pickup_per_meter_waiting_diff\n",
      "meter_waiting_after_pickup\n",
      "predicted_meter_waiting_after_pickup\n",
      "meter_waiting_after_pickup_per_duration\n",
      "predicted_meter_waiting_after_pickup_per_duration\n",
      "meter_waiting_till_pickup_per_duration\n",
      "predicted_meter_waiting_till_pickup_per_duration\n",
      "meter_waiting_till_pickup_per_distance\n",
      "predicted_meter_waiting_till_pickup_per_distance\n",
      "meter_waiting_after_pickup_per_distance\n",
      "predicted_meter_waiting_after_pickup_per_distance\n",
      "meter_waiting_till_pickup_per_fare\n",
      "predicted_meter_waiting_till_pickup_per_fare\n",
      "meter_waiting_after_pickup_per_fare\n",
      "predicted_meter_waiting_after_pickup_per_fare\n",
      "meter_waiting_till_pickup_per_meter_waiting_fare\n",
      "predicted_meter_waiting_till_pickup_per_meter_waiting_fare\n",
      "meter_waiting_after_pickup_per_meter_waiting_fare\n",
      "predicted_meter_waiting_after_pickup_per_meter_waiting_fare\n",
      "fare_anomaly\n",
      "additional_fare_anomaly\n",
      "duration_anomaly\n",
      "meter_waiting_anomaly\n",
      "meter_waiting_fare_anomaly\n",
      "meter_waiting_till_pickup_anomaly\n",
      "additional_fare_duration_anomaly\n",
      "additional_fare_meter_waiting_anomaly\n",
      "additional_fare_meter_waiting_fare_anomaly\n",
      "additional_fare_meter_waiting_till_pickup_anomaly\n",
      "duration_meter_waiting_anomaly\n",
      "duration_meter_waiting_fare_anomaly\n",
      "duration_meter_waiting_till_pickup_anomaly\n",
      "meter_waiting_meter_waiting_fare_anomaly\n",
      "meter_waiting_meter_waiting_till_pickup_anomaly\n",
      "meter_waiting_fare_meter_waiting_till_pickup_anomaly\n",
      "additional_fare_duration_meter_waiting_anomaly\n",
      "additional_fare_duration_meter_waiting_fare_anomaly\n",
      "additional_fare_duration_meter_waiting_till_pickup_anomaly\n",
      "additional_fare_meter_waiting_meter_waiting_fare_anomaly\n",
      "additional_fare_meter_waiting_meter_waiting_till_pickup_anomaly\n",
      "additional_fare_meter_waiting_fare_meter_waiting_till_pickup_anomaly\n",
      "duration_meter_waiting_meter_waiting_fare_anomaly\n",
      "duration_meter_waiting_meter_waiting_till_pickup_anomaly\n",
      "duration_meter_waiting_fare_meter_waiting_till_pickup_anomaly\n",
      "meter_waiting_meter_waiting_fare_meter_waiting_till_pickup_anomaly\n",
      "additional_fare_duration_meter_waiting_meter_waiting_fare_anomaly\n",
      "additional_fare_duration_meter_waiting_meter_waiting_till_pickup_anomaly\n",
      "additional_fare_duration_meter_waiting_fare_meter_waiting_till_pickup_anomaly\n",
      "additional_fare_meter_waiting_meter_waiting_fare_meter_waiting_till_pickup_anomaly\n",
      "duration_meter_waiting_meter_waiting_fare_meter_waiting_till_pickup_anomaly\n",
      "fare_anomaly_predicted_fare_diff_prod\n",
      "fare_anomaly_predicted_fare_diff_per_fare_prod\n",
      "fare_anomaly_predicted_fare_diff_per_distance_prod\n",
      "additional_fare_anomaly_predicted_additional_fare_diff_prod\n",
      "additional_fare_anomaly_predicted_additional_fare_diff_per_additional_fare_prod\n",
      "additional_fare_anomaly_predicted_addtional_fare_per_distance_prod\n",
      "duration_anomaly_predicted_duration_diff_prod\n",
      "duration_anomaly_predicted_duraton_diff_per_duraton_prod\n",
      "duration_anomaly_predicted_duraton_diff_per_distance_prod\n",
      "meter_waiting_anomaly_predicted_meter_waiting_diff_prod\n",
      "meter_waiting_anomaly_predicted_meter_waiting_diff_per_meter_waiting_prod\n",
      "meter_waiting_anomaly_predicted_meter_waiting_diff_per_distance_prod\n",
      "meter_waiting_fare_anomaly_predicted_meter_waiting_fare_diff_prod\n",
      "meter_waiting_fare_anomaly_predicted_meter_waiting_fare_diff_per_meter_waiting_fare_prod\n",
      "meter_waiting_fare_anomaly_predicted_meter_waiting_fare_diff_per_distance_prod\n",
      "predicted_duraton_diff_per_duraton@predicted_duraton_diff_per_distance\n",
      "predicted_fare_diff_normalized\n",
      "predicted_fare_diff_per_fare_normalized\n",
      "predicted_fare_diff_per_predicted_fare_normalized\n",
      "predicted_fare_diff_per_distance_normalized\n",
      "predicted_duraton_diff_per_duraton_normalized\n",
      "predicted_duraton_diff_per_predicted_duration_normalized\n",
      "predicted_fare_per_duration_diff_normalized\n",
      "predicted_avg_speed_diff_normalized\n",
      "predicted_meter_waiting_diff_normalized\n",
      "predicted_meter_waiting_diff_per_meter_waiting_normalized\n",
      "predicted_meter_waiting_diff_per_predicted_meter_waiting_normalized\n",
      "predicted_meter_waiting_per_duration_diff_normalized\n",
      "predicted_meter_waiting_fare_diff_normalized\n",
      "predicted_meter_waiting_fare_diff_per_meter_waiting_fare_normalized\n",
      "predicted_meter_waiting_fare_diff_per_predicted_meter_waiting_fare_normalized\n",
      "predicted_meter_waiting_fare_per_meter_waiting_diff_normalized\n",
      "predicted_meter_waiting_fare_per_duration_diff_normalized\n",
      "predicted_additional_fare_diff_normalized\n",
      "predicted_additional_fare_diff_per_additional_fare_normalized\n",
      "fare_per_distance_mean\n",
      "fare_per_distance_mean_diff\n",
      "avg_speed_mean\n",
      "avg_speed_mean_diff\n",
      "meter_waiting_per_duration_mean\n",
      "meter_waiting_per_duration_mean_diff\n",
      "meter_waiting_fare_per_meter_waiting_mean\n",
      "meter_waiting_fare_per_meter_waiting_mean_diff\n",
      "meter_waiting_fare_per_duration_mean\n",
      "meter_waiting_fare_per_duration_mean_diff\n",
      "addtional_fare_per_fare_mean\n",
      "addtional_fare_per_fare_mean_diff\n",
      "addtional_fare_per_distance_mean\n",
      "addtional_fare_per_distance_mean_diff\n",
      "addtional_fare_per_duration_mean\n",
      "addtional_fare_per_duration_mean_diff\n"
     ]
    }
   ],
   "source": [
    "for column in train_df.columns:\n",
    "    print(column)"
   ]
  },
  {
   "cell_type": "markdown",
   "metadata": {},
   "source": [
    "## Anomaly based"
   ]
  },
  {
   "cell_type": "code",
   "execution_count": 9,
   "metadata": {},
   "outputs": [],
   "source": [
    "features = [\n",
    "    'fare_anomaly',\n",
    "    'additional_fare_anomaly', \n",
    "    'duration_anomaly',\n",
    "    'meter_waiting_anomaly', \n",
    "    'meter_waiting_fare_anomaly',\n",
    "    'meter_waiting_till_pickup_anomaly', \n",
    "    'additional_fare_duration_anomaly',\n",
    "    'additional_fare_meter_waiting_anomaly',\n",
    "    'additional_fare_meter_waiting_fare_anomaly',\n",
    "    'additional_fare_meter_waiting_till_pickup_anomaly',\n",
    "    'duration_meter_waiting_anomaly', \n",
    "    'duration_meter_waiting_fare_anomaly',\n",
    "    'duration_meter_waiting_till_pickup_anomaly',\n",
    "    'meter_waiting_meter_waiting_fare_anomaly',\n",
    "    'meter_waiting_meter_waiting_till_pickup_anomaly',\n",
    "    'meter_waiting_fare_meter_waiting_till_pickup_anomaly',\n",
    "    'additional_fare_duration_meter_waiting_anomaly',\n",
    "    'additional_fare_duration_meter_waiting_fare_anomaly',\n",
    "    'additional_fare_duration_meter_waiting_till_pickup_anomaly',\n",
    "    'additional_fare_meter_waiting_meter_waiting_fare_anomaly',\n",
    "    'additional_fare_meter_waiting_meter_waiting_till_pickup_anomaly',\n",
    "    'additional_fare_meter_waiting_fare_meter_waiting_till_pickup_anomaly',\n",
    "    'duration_meter_waiting_meter_waiting_fare_anomaly',\n",
    "    'duration_meter_waiting_meter_waiting_till_pickup_anomaly',\n",
    "    'duration_meter_waiting_fare_meter_waiting_till_pickup_anomaly',\n",
    "    'meter_waiting_meter_waiting_fare_meter_waiting_till_pickup_anomaly',\n",
    "    'additional_fare_duration_meter_waiting_meter_waiting_fare_anomaly',\n",
    "    'additional_fare_duration_meter_waiting_meter_waiting_till_pickup_anomaly',\n",
    "    'additional_fare_duration_meter_waiting_fare_meter_waiting_till_pickup_anomaly',\n",
    "    'additional_fare_meter_waiting_meter_waiting_fare_meter_waiting_till_pickup_anomaly',\n",
    "    'duration_meter_waiting_meter_waiting_fare_meter_waiting_till_pickup_anomaly',\n",
    "]\n",
    "\n",
    "cat_features = [\n",
    "    'fare_anomaly',\n",
    "    'additional_fare_anomaly', \n",
    "    'duration_anomaly',\n",
    "    'meter_waiting_anomaly', \n",
    "    'meter_waiting_fare_anomaly',\n",
    "    'meter_waiting_till_pickup_anomaly', \n",
    "    'additional_fare_duration_anomaly',\n",
    "    'additional_fare_meter_waiting_anomaly',\n",
    "    'additional_fare_meter_waiting_fare_anomaly',\n",
    "    'additional_fare_meter_waiting_till_pickup_anomaly',\n",
    "    'duration_meter_waiting_anomaly', \n",
    "    'duration_meter_waiting_fare_anomaly',\n",
    "    'duration_meter_waiting_till_pickup_anomaly',\n",
    "    'meter_waiting_meter_waiting_fare_anomaly',\n",
    "    'meter_waiting_meter_waiting_till_pickup_anomaly',\n",
    "    'meter_waiting_fare_meter_waiting_till_pickup_anomaly',\n",
    "    'additional_fare_duration_meter_waiting_anomaly',\n",
    "    'additional_fare_duration_meter_waiting_fare_anomaly',\n",
    "    'additional_fare_duration_meter_waiting_till_pickup_anomaly',\n",
    "    'additional_fare_meter_waiting_meter_waiting_fare_anomaly',\n",
    "    'additional_fare_meter_waiting_meter_waiting_till_pickup_anomaly',\n",
    "    'additional_fare_meter_waiting_fare_meter_waiting_till_pickup_anomaly',\n",
    "    'duration_meter_waiting_meter_waiting_fare_anomaly',\n",
    "    'duration_meter_waiting_meter_waiting_till_pickup_anomaly',\n",
    "    'duration_meter_waiting_fare_meter_waiting_till_pickup_anomaly',\n",
    "    'meter_waiting_meter_waiting_fare_meter_waiting_till_pickup_anomaly',\n",
    "    'additional_fare_duration_meter_waiting_meter_waiting_fare_anomaly',\n",
    "    'additional_fare_duration_meter_waiting_meter_waiting_till_pickup_anomaly',\n",
    "    'additional_fare_duration_meter_waiting_fare_meter_waiting_till_pickup_anomaly',\n",
    "    'additional_fare_meter_waiting_meter_waiting_fare_meter_waiting_till_pickup_anomaly',\n",
    "    'duration_meter_waiting_meter_waiting_fare_meter_waiting_till_pickup_anomaly',\n",
    "]"
   ]
  },
  {
   "cell_type": "code",
   "execution_count": 10,
   "metadata": {},
   "outputs": [
    {
     "name": "stderr",
     "output_type": "stream",
     "text": [
      "/home/heshan/anaconda3/envs/kaggle/lib/python3.7/site-packages/ipykernel_launcher.py:6: SettingWithCopyWarning: \n",
      "A value is trying to be set on a copy of a slice from a DataFrame.\n",
      "Try using .loc[row_indexer,col_indexer] = value instead\n",
      "\n",
      "See the caveats in the documentation: http://pandas.pydata.org/pandas-docs/stable/user_guide/indexing.html#returning-a-view-versus-a-copy\n",
      "  \n",
      "/home/heshan/anaconda3/envs/kaggle/lib/python3.7/site-packages/ipykernel_launcher.py:7: SettingWithCopyWarning: \n",
      "A value is trying to be set on a copy of a slice from a DataFrame.\n",
      "Try using .loc[row_indexer,col_indexer] = value instead\n",
      "\n",
      "See the caveats in the documentation: http://pandas.pydata.org/pandas-docs/stable/user_guide/indexing.html#returning-a-view-versus-a-copy\n",
      "  import sys\n",
      "/home/heshan/anaconda3/envs/kaggle/lib/python3.7/site-packages/ipykernel_launcher.py:8: SettingWithCopyWarning: \n",
      "A value is trying to be set on a copy of a slice from a DataFrame.\n",
      "Try using .loc[row_indexer,col_indexer] = value instead\n",
      "\n",
      "See the caveats in the documentation: http://pandas.pydata.org/pandas-docs/stable/user_guide/indexing.html#returning-a-view-versus-a-copy\n",
      "  \n"
     ]
    }
   ],
   "source": [
    "train = train_df[features]\n",
    "test = test_df[features]\n",
    "train_org = train_df_org[features]\n",
    "y = train_df['label']\n",
    "for each in cat_features:\n",
    "    train[each] = train[each].values.astype(int)\n",
    "    test[each] = test[each].values.astype(int)\n",
    "    train_org[each] = train_org[each].values.astype(int)"
   ]
  },
  {
   "cell_type": "code",
   "execution_count": 11,
   "metadata": {},
   "outputs": [],
   "source": [
    "def lgb_f1_score(y_hat, data):\n",
    "    y_true = data.get_label()\n",
    "    y_hat = np.round(y_hat) # scikits f1 doesn't like probabilities\n",
    "    return 'f1', f1_score(y_true, y_hat,average='micro'), True"
   ]
  },
  {
   "cell_type": "markdown",
   "metadata": {},
   "source": [
    "### catboost"
   ]
  },
  {
   "cell_type": "code",
   "execution_count": 12,
   "metadata": {},
   "outputs": [],
   "source": [
    "catboost_params = {\n",
    "    'loss_function':'Logloss',\n",
    "    'random_state':0,\n",
    "    'early_stopping_rounds':50,\n",
    "    'eval_metric':'F1',\n",
    "}"
   ]
  },
  {
   "cell_type": "code",
   "execution_count": 13,
   "metadata": {},
   "outputs": [],
   "source": [
    "submission_pool = Pool(data=test_df[features], cat_features=cat_features)\n",
    "org_pool = Pool(data=train_org[features], cat_features=cat_features)"
   ]
  },
  {
   "cell_type": "code",
   "execution_count": 14,
   "metadata": {},
   "outputs": [
    {
     "name": "stdout",
     "output_type": "stream",
     "text": [
      "Learning rate set to 0.057693\n",
      "0:\tlearn: 0.9532710\ttest: 0.9525581\tbest: 0.9525581 (0)\ttotal: 80.7ms\tremaining: 1m 20s\n",
      "10:\tlearn: 0.9532762\ttest: 0.9531481\tbest: 0.9535810 (1)\ttotal: 139ms\tremaining: 12.5s\n",
      "20:\tlearn: 0.9537179\ttest: 0.9533160\tbest: 0.9535810 (1)\ttotal: 205ms\tremaining: 9.53s\n",
      "30:\tlearn: 0.9545096\ttest: 0.9534754\tbest: 0.9535810 (1)\ttotal: 285ms\tremaining: 8.9s\n",
      "40:\tlearn: 0.9552059\ttest: 0.9537862\tbest: 0.9538747 (35)\ttotal: 339ms\tremaining: 7.92s\n",
      "50:\tlearn: 0.9556051\ttest: 0.9540347\tbest: 0.9540433 (45)\ttotal: 387ms\tremaining: 7.21s\n",
      "60:\tlearn: 0.9557341\ttest: 0.9540176\tbest: 0.9541148 (55)\ttotal: 439ms\tremaining: 6.76s\n",
      "70:\tlearn: 0.9559561\ttest: 0.9542836\tbest: 0.9542836 (70)\ttotal: 515ms\tremaining: 6.74s\n",
      "80:\tlearn: 0.9559883\ttest: 0.9544525\tbest: 0.9544610 (78)\ttotal: 562ms\tremaining: 6.37s\n",
      "90:\tlearn: 0.9561983\ttest: 0.9547103\tbest: 0.9547103 (88)\ttotal: 610ms\tremaining: 6.09s\n",
      "100:\tlearn: 0.9563843\ttest: 0.9546131\tbest: 0.9548075 (92)\ttotal: 659ms\tremaining: 5.87s\n",
      "110:\tlearn: 0.9566068\ttest: 0.9551127\tbest: 0.9551127 (107)\ttotal: 718ms\tremaining: 5.75s\n",
      "120:\tlearn: 0.9568258\ttest: 0.9546895\tbest: 0.9551127 (107)\ttotal: 764ms\tremaining: 5.55s\n",
      "130:\tlearn: 0.9568258\ttest: 0.9551432\tbest: 0.9551432 (128)\ttotal: 808ms\tremaining: 5.36s\n",
      "140:\tlearn: 0.9568704\ttest: 0.9551432\tbest: 0.9551432 (128)\ttotal: 855ms\tremaining: 5.21s\n",
      "150:\tlearn: 0.9571709\ttest: 0.9553213\tbest: 0.9553213 (149)\ttotal: 920ms\tremaining: 5.17s\n",
      "160:\tlearn: 0.9571748\ttest: 0.9551348\tbest: 0.9553213 (149)\ttotal: 977ms\tremaining: 5.09s\n",
      "170:\tlearn: 0.9573495\ttest: 0.9551264\tbest: 0.9553213 (149)\ttotal: 1.03s\tremaining: 4.98s\n",
      "180:\tlearn: 0.9573942\ttest: 0.9550289\tbest: 0.9553213 (149)\ttotal: 1.07s\tremaining: 4.85s\n",
      "190:\tlearn: 0.9576176\ttest: 0.9550289\tbest: 0.9553213 (149)\ttotal: 1.12s\tremaining: 4.73s\n",
      "Stopped by overfitting detector  (50 iterations wait)\n",
      "\n",
      "bestTest = 0.955321332\n",
      "bestIteration = 149\n",
      "\n",
      "Shrink model to first 150 iterations.\n",
      "Learning rate set to 0.057693\n",
      "0:\tlearn: 0.9532814\ttest: 0.9531134\tbest: 0.9531134 (0)\ttotal: 10.3ms\tremaining: 10.3s\n",
      "10:\tlearn: 0.9533645\ttest: 0.9529630\tbest: 0.9531308 (3)\ttotal: 64.4ms\tremaining: 5.79s\n",
      "20:\tlearn: 0.9536338\ttest: 0.9530512\tbest: 0.9531308 (3)\ttotal: 110ms\tremaining: 5.11s\n",
      "30:\tlearn: 0.9539431\ttest: 0.9530338\tbest: 0.9532277 (29)\ttotal: 150ms\tremaining: 4.68s\n",
      "40:\tlearn: 0.9550812\ttest: 0.9537149\tbest: 0.9537149 (40)\ttotal: 197ms\tremaining: 4.62s\n",
      "50:\tlearn: 0.9555525\ttest: 0.9545834\tbest: 0.9546890 (41)\ttotal: 265ms\tremaining: 4.93s\n",
      "60:\tlearn: 0.9558468\ttest: 0.9546637\tbest: 0.9546890 (41)\ttotal: 311ms\tremaining: 4.78s\n",
      "70:\tlearn: 0.9561983\ttest: 0.9545666\tbest: 0.9546890 (41)\ttotal: 357ms\tremaining: 4.67s\n",
      "80:\tlearn: 0.9566999\ttest: 0.9544271\tbest: 0.9546890 (41)\ttotal: 410ms\tremaining: 4.65s\n",
      "90:\tlearn: 0.9570243\ttest: 0.9545624\tbest: 0.9546890 (41)\ttotal: 476ms\tremaining: 4.76s\n",
      "Stopped by overfitting detector  (50 iterations wait)\n",
      "\n",
      "bestTest = 0.9546889508\n",
      "bestIteration = 41\n",
      "\n",
      "Shrink model to first 42 iterations.\n",
      "Learning rate set to 0.057694\n",
      "0:\tlearn: 0.9532191\ttest: 0.9520097\tbest: 0.9520097 (0)\ttotal: 4.63ms\tremaining: 4.63s\n",
      "10:\tlearn: 0.9529276\ttest: 0.9529717\tbest: 0.9533160 (3)\ttotal: 45.6ms\tremaining: 4.1s\n",
      "20:\tlearn: 0.9538020\ttest: 0.9538462\tbest: 0.9538462 (20)\ttotal: 92.8ms\tremaining: 4.33s\n",
      "30:\tlearn: 0.9548154\ttest: 0.9541829\tbest: 0.9541914 (25)\ttotal: 138ms\tremaining: 4.3s\n",
      "40:\tlearn: 0.9554235\ttest: 0.9540518\tbest: 0.9541914 (25)\ttotal: 184ms\tremaining: 4.3s\n",
      "50:\tlearn: 0.9559117\ttest: 0.9541148\tbest: 0.9541914 (25)\ttotal: 261ms\tremaining: 4.86s\n",
      "60:\tlearn: 0.9562631\ttest: 0.9539119\tbest: 0.9541914 (25)\ttotal: 307ms\tremaining: 4.73s\n",
      "70:\tlearn: 0.9565258\ttest: 0.9541864\tbest: 0.9541914 (25)\ttotal: 354ms\tremaining: 4.63s\n",
      "Stopped by overfitting detector  (50 iterations wait)\n",
      "\n",
      "bestTest = 0.9541913947\n",
      "bestIteration = 25\n",
      "\n",
      "Shrink model to first 26 iterations.\n"
     ]
    }
   ],
   "source": [
    "train_preds = np.zeros(train_df.shape[0])\n",
    "test_preds = np.zeros(test_df.shape[0])\n",
    "train_class = np.zeros(train_df.shape[0])\n",
    "test_class = np.zeros(test_df.shape[0])\n",
    "skf = StratifiedKFold(n_splits=3)\n",
    "validation_scores = []\n",
    "org_scores = []\n",
    "for train_index, test_index in skf.split(train, y):\n",
    "    X_train, X_test = train.iloc[train_index,:], train.iloc[test_index,:]\n",
    "    y_train, y_test = y[train_index], y[test_index]\n",
    "    train_pool = Pool(data=X_train, label=y_train,cat_features=cat_features)\n",
    "    test_pool = Pool(data=X_test, label=y_test, cat_features=cat_features)    \n",
    "    model = CatBoostClassifier(**catboost_params)\n",
    "    model.fit(X=train_pool, eval_set=test_pool,verbose=10)\n",
    "    train_preds[test_index] = model.predict_proba(test_pool)[:,1]\n",
    "    train_class[test_index] = model.predict(test_pool)\n",
    "    test_preds += model.predict_proba(submission_pool)[:,1]/3\n",
    "    test_class = model.predict(submission_pool)\n",
    "    validation_scores.append(f1_score(y_test,model.predict(test_pool),average='micro'))\n",
    "    org_scores.append(f1_score(y_org,model.predict(org_pool),average='micro'))\n",
    "test_class = np.where(test_class > 2, 1, 0)"
   ]
  },
  {
   "cell_type": "code",
   "execution_count": 15,
   "metadata": {},
   "outputs": [
    {
     "data": {
      "text/plain": [
       "(0.9138915985194579, 0.00109574406471837, 0.9126436781609195)"
      ]
     },
     "execution_count": 15,
     "metadata": {},
     "output_type": "execute_result"
    }
   ],
   "source": [
    "np.mean(validation_scores), np.std(validation_scores), min(validation_scores)"
   ]
  },
  {
   "cell_type": "code",
   "execution_count": 16,
   "metadata": {},
   "outputs": [
    {
     "data": {
      "text/plain": [
       "(0.8936925527219696, 0.0019181392742079796, 0.8916585113119566)"
      ]
     },
     "execution_count": 16,
     "metadata": {},
     "output_type": "execute_result"
    }
   ],
   "source": [
    "np.mean(org_scores), np.std(org_scores), min(org_scores)"
   ]
  },
  {
   "cell_type": "code",
   "execution_count": 17,
   "metadata": {},
   "outputs": [],
   "source": [
    "name = 'catboost_anomaly'\n",
    "model_predictions_train[name] = train_preds\n",
    "model_predictions_test[name] = test_preds"
   ]
  },
  {
   "cell_type": "markdown",
   "metadata": {},
   "source": [
    "## LightGBM"
   ]
  },
  {
   "cell_type": "code",
   "execution_count": 18,
   "metadata": {},
   "outputs": [],
   "source": [
    "lgb_params = {\n",
    "    'objective':'binary',\n",
    "    'learning_rate':0.05,\n",
    "    'seed':0, \n",
    "    'metric':'f1',\n",
    "    'max_depth':6\n",
    "}"
   ]
  },
  {
   "cell_type": "code",
   "execution_count": 19,
   "metadata": {},
   "outputs": [],
   "source": [
    "folds = 3\n",
    "skf = StratifiedKFold(n_splits=folds)\n",
    "train_preds = np.zeros(train_df.shape[0])\n",
    "test_preds = np.zeros(test_df.shape[0])\n",
    "validation_scores = []\n",
    "org_scores =[]\n",
    "for train_index, test_index in skf.split(train, y):\n",
    "    X_train, X_test = train.iloc[train_index,:], train.iloc[test_index,:]\n",
    "    y_train, y_test = y[train_index], y[test_index]\n",
    "    train_data = lgb.Dataset(X_train,y_train)\n",
    "    valid_data = lgb.Dataset(X_test,y_test)\n",
    "    evals_result = {}\n",
    "    model = lgb.train(lgb_params, train_data,num_boost_round=1000,early_stopping_rounds=50, valid_sets=valid_data,feval=lgb_f1_score, evals_result=evals_result,verbose_eval=False)\n",
    "    \n",
    "    test_preds += model.predict(test) / 3\n",
    "    train_preds[test_index] = model.predict(X_test)\n",
    "    validation_scores.append(f1_score(y_test,np.round(model.predict(X_test)),average='micro'))\n",
    "    org_scores.append(f1_score(y_org,np.round(model.predict(train_org)),average='micro'))"
   ]
  },
  {
   "cell_type": "code",
   "execution_count": 20,
   "metadata": {},
   "outputs": [
    {
     "data": {
      "text/plain": [
       "(0.9142452574169884, 0.000768615433601861, 0.9135278514588859)"
      ]
     },
     "execution_count": 20,
     "metadata": {},
     "output_type": "execute_result"
    }
   ],
   "source": [
    "np.mean(validation_scores), np.std(validation_scores), min(validation_scores)"
   ]
  },
  {
   "cell_type": "code",
   "execution_count": 21,
   "metadata": {},
   "outputs": [
    {
     "data": {
      "text/plain": [
       "(0.895688215992171, 0.0004700342990776262, 0.8951125438949974)"
      ]
     },
     "execution_count": 21,
     "metadata": {},
     "output_type": "execute_result"
    }
   ],
   "source": [
    "np.mean(org_scores), np.std(org_scores), min(org_scores)"
   ]
  },
  {
   "cell_type": "code",
   "execution_count": 22,
   "metadata": {},
   "outputs": [],
   "source": [
    "name = 'lgb_anomaly'\n",
    "model_predictions_train[name] = train_preds\n",
    "model_predictions_test[name] = test_preds"
   ]
  },
  {
   "cell_type": "markdown",
   "metadata": {},
   "source": [
    "## K-NN"
   ]
  },
  {
   "cell_type": "code",
   "execution_count": 23,
   "metadata": {},
   "outputs": [],
   "source": [
    "knn_params = {\n",
    "    'n_neighbors':15,\n",
    "    'weights':'uniform'    \n",
    "}"
   ]
  },
  {
   "cell_type": "code",
   "execution_count": 24,
   "metadata": {},
   "outputs": [],
   "source": [
    "folds = 3\n",
    "skf = StratifiedKFold(n_splits=folds)\n",
    "train_preds = np.zeros(train_df.shape[0])\n",
    "test_preds = np.zeros(test_df.shape[0])\n",
    "validation_scores = []\n",
    "org_scores = []\n",
    "for train_index, test_index in skf.split(train, y):\n",
    "    X_train, X_test = train.iloc[train_index,:].values, train.iloc[test_index,:].values\n",
    "    y_train, y_test = y[train_index], y[test_index]\n",
    "    \n",
    "    model = KNeighborsClassifier(**knn_params)\n",
    "    model.fit(X_train, y_train)\n",
    "    \n",
    "    test_preds += model.predict(test.values) / 3\n",
    "    train_preds[test_index] = model.predict(X_test)\n",
    "    validation_scores.append(f1_score(y_test,model.predict(X_test),average='micro'))\n",
    "    org_scores.append(f1_score(y_org,model.predict(train_org.values),average='micro'))"
   ]
  },
  {
   "cell_type": "code",
   "execution_count": 25,
   "metadata": {},
   "outputs": [
    {
     "data": {
      "text/plain": [
       "(0.9117108878375522, 0.001250383548715244, 0.9103448275862069)"
      ]
     },
     "execution_count": 25,
     "metadata": {},
     "output_type": "execute_result"
    }
   ],
   "source": [
    "np.mean(validation_scores), np.std(validation_scores), min(validation_scores)"
   ]
  },
  {
   "cell_type": "code",
   "execution_count": 26,
   "metadata": {},
   "outputs": [
    {
     "data": {
      "text/plain": [
       "(0.8921382380596014, 0.0003527867578311166, 0.891716078521674)"
      ]
     },
     "execution_count": 26,
     "metadata": {},
     "output_type": "execute_result"
    }
   ],
   "source": [
    "np.mean(org_scores), np.std(org_scores), min(org_scores)"
   ]
  },
  {
   "cell_type": "code",
   "execution_count": 27,
   "metadata": {},
   "outputs": [],
   "source": [
    "name = 'knn_anomaly'\n",
    "model_predictions_train[name] = train_preds\n",
    "model_predictions_test[name] = test_preds"
   ]
  },
  {
   "cell_type": "markdown",
   "metadata": {},
   "source": [
    "## Random forests"
   ]
  },
  {
   "cell_type": "code",
   "execution_count": 28,
   "metadata": {},
   "outputs": [],
   "source": [
    "rf_params = {\n",
    "    'n_estimators':50,\n",
    "    'max_depth':10,\n",
    "    'random_state':0,    \n",
    "}"
   ]
  },
  {
   "cell_type": "code",
   "execution_count": 29,
   "metadata": {},
   "outputs": [],
   "source": [
    "folds = 3\n",
    "skf = StratifiedKFold(n_splits=folds)\n",
    "train_preds = np.zeros(train_df.shape[0])\n",
    "test_preds = np.zeros(test_df.shape[0])\n",
    "validation_scores = []\n",
    "org_scores = []\n",
    "for train_index, test_index in skf.split(train, y):\n",
    "    X_train, X_test = train.iloc[train_index,:].values, train.iloc[test_index,:].values\n",
    "    y_train, y_test = y[train_index], y[test_index]\n",
    "    \n",
    "    model = RandomForestClassifier(**rf_params)\n",
    "    model.fit(X_train, y_train)\n",
    "    \n",
    "    test_preds += model.predict(test.values) / 3\n",
    "    train_preds[test_index] = model.predict(X_test)\n",
    "    validation_scores.append(f1_score(y_test,model.predict(X_test),average='micro'))\n",
    "    org_scores.append(f1_score(y_org,model.predict(train_org.values),average='micro'))"
   ]
  },
  {
   "cell_type": "code",
   "execution_count": 30,
   "metadata": {},
   "outputs": [
    {
     "data": {
      "text/plain": [
       "(0.9125361058273315, 7.606512654814278e-05, 0.9124823196605375)"
      ]
     },
     "execution_count": 30,
     "metadata": {},
     "output_type": "execute_result"
    }
   ],
   "source": [
    "np.mean(validation_scores), np.std(validation_scores), min(validation_scores)"
   ]
  },
  {
   "cell_type": "code",
   "execution_count": 31,
   "metadata": {},
   "outputs": [
    {
     "data": {
      "text/plain": [
       "(0.8968587492564235, 0.0005646936069526574, 0.8961487536699096)"
      ]
     },
     "execution_count": 31,
     "metadata": {},
     "output_type": "execute_result"
    }
   ],
   "source": [
    "np.mean(org_scores), np.std(org_scores), min(org_scores)"
   ]
  },
  {
   "cell_type": "code",
   "execution_count": 32,
   "metadata": {},
   "outputs": [],
   "source": [
    "name = 'rf_anomaly'\n",
    "model_predictions_train[name] = train_preds\n",
    "model_predictions_test[name] = test_preds"
   ]
  },
  {
   "cell_type": "markdown",
   "metadata": {},
   "source": [
    "## SVC"
   ]
  },
  {
   "cell_type": "code",
   "execution_count": 33,
   "metadata": {},
   "outputs": [],
   "source": [
    "svc_params = {\n",
    "    'C':2,\n",
    "    'kernel':'linear',\n",
    "    'random_state':0,    \n",
    "    'probability': False,\n",
    "    'gamma':'scale'\n",
    "}"
   ]
  },
  {
   "cell_type": "code",
   "execution_count": 34,
   "metadata": {},
   "outputs": [],
   "source": [
    "folds = 3\n",
    "skf = StratifiedKFold(n_splits=folds)\n",
    "train_preds = np.zeros(train_df.shape[0])\n",
    "test_preds = np.zeros(test_df.shape[0])\n",
    "validation_scores = []\n",
    "org_scores = []\n",
    "for train_index, test_index in skf.split(train, y):\n",
    "    X_train, X_test = train.iloc[train_index,:].values, train.iloc[test_index,:].values\n",
    "    y_train, y_test = y[train_index], y[test_index]\n",
    "    \n",
    "    model = SVC(**svc_params)\n",
    "    model.fit(X_train, y_train)\n",
    "    \n",
    "    test_preds += model.predict(test.values) / 3\n",
    "    train_preds[test_index] = model.predict(X_test)\n",
    "    validation_scores.append(f1_score(y_test,model.predict(X_test),average='micro'))\n",
    "    org_scores.append(f1_score(y_org,model.predict(train_org.values),average='micro'))"
   ]
  },
  {
   "cell_type": "code",
   "execution_count": 35,
   "metadata": {},
   "outputs": [
    {
     "data": {
      "text/plain": [
       "(0.9112394746484881, 0.0008026435619151851, 0.9101838755304101)"
      ]
     },
     "execution_count": 35,
     "metadata": {},
     "output_type": "execute_result"
    }
   ],
   "source": [
    "np.mean(validation_scores), np.std(validation_scores), min(validation_scores)"
   ]
  },
  {
   "cell_type": "code",
   "execution_count": 36,
   "metadata": {},
   "outputs": [
    {
     "data": {
      "text/plain": [
       "(0.8900466294398711, 1.1102230246251565e-16, 0.890046629439871)"
      ]
     },
     "execution_count": 36,
     "metadata": {},
     "output_type": "execute_result"
    }
   ],
   "source": [
    "np.mean(org_scores), np.std(org_scores), min(org_scores)"
   ]
  },
  {
   "cell_type": "code",
   "execution_count": 37,
   "metadata": {},
   "outputs": [],
   "source": [
    "name = 'svc_linear_anomaly'\n",
    "model_predictions_train[name] = train_preds\n",
    "model_predictions_test[name] = test_preds"
   ]
  },
  {
   "cell_type": "code",
   "execution_count": 38,
   "metadata": {},
   "outputs": [],
   "source": [
    "svc_params = {\n",
    "    'C':2,\n",
    "    'kernel':'rbf',\n",
    "    'random_state':0,    \n",
    "    'probability': False,\n",
    "    'gamma':'scale'\n",
    "}"
   ]
  },
  {
   "cell_type": "code",
   "execution_count": 39,
   "metadata": {},
   "outputs": [],
   "source": [
    "folds = 3\n",
    "skf = StratifiedKFold(n_splits=folds)\n",
    "train_preds = np.zeros(train_df.shape[0])\n",
    "test_preds = np.zeros(test_df.shape[0])\n",
    "validation_scores = []\n",
    "org_scores = []\n",
    "for train_index, test_index in skf.split(train, y):\n",
    "    X_train, X_test = train.iloc[train_index,:].values, train.iloc[test_index,:].values\n",
    "    y_train, y_test = y[train_index], y[test_index]\n",
    "    \n",
    "    model = SVC(**svc_params)\n",
    "    model.fit(X_train, y_train)\n",
    "    \n",
    "    test_preds += model.predict(test.values) / 3\n",
    "    train_preds[test_index] = model.predict(X_test)\n",
    "    validation_scores.append(f1_score(y_test,model.predict(X_test),average='micro'))\n",
    "    org_scores.append(f1_score(y_org,model.predict(train_org.values),average='micro'))"
   ]
  },
  {
   "cell_type": "code",
   "execution_count": 40,
   "metadata": {},
   "outputs": [
    {
     "data": {
      "text/plain": [
       "(0.9135969470383948, 0.0012302422268772803, 0.9124823196605375)"
      ]
     },
     "execution_count": 40,
     "metadata": {},
     "output_type": "execute_result"
    }
   ],
   "source": [
    "np.mean(validation_scores), np.std(validation_scores), min(validation_scores)"
   ]
  },
  {
   "cell_type": "code",
   "execution_count": 41,
   "metadata": {},
   "outputs": [
    {
     "data": {
      "text/plain": [
       "(0.896628480417554, 0.00019569088379446943, 0.8964365897184964)"
      ]
     },
     "execution_count": 41,
     "metadata": {},
     "output_type": "execute_result"
    }
   ],
   "source": [
    "np.mean(org_scores), np.std(org_scores), min(org_scores)"
   ]
  },
  {
   "cell_type": "code",
   "execution_count": 42,
   "metadata": {},
   "outputs": [],
   "source": [
    "name = 'svc_rbf_anomaly'\n",
    "model_predictions_train[name] = train_preds\n",
    "model_predictions_test[name] = test_preds"
   ]
  },
  {
   "cell_type": "markdown",
   "metadata": {},
   "source": [
    "# Base features"
   ]
  },
  {
   "cell_type": "code",
   "execution_count": 43,
   "metadata": {},
   "outputs": [],
   "source": [
    "features = [\n",
    "    'additional_fare',\n",
    "    'duration',\n",
    "    'meter_waiting',\n",
    "    'meter_waiting_fare',\n",
    "    'meter_waiting_till_pickup',\n",
    "    'fare',\n",
    "    'pickup_date',\n",
    "    'pickup_hour',\n",
    "    'pickup_minute',\n",
    "    'drop_date',\n",
    "    'drop_hour',\n",
    "    'drop_minute',\n",
    "    'pick_cluster',\n",
    "    'is_more_than_one_day',\n",
    "    'distance_km',\n",
    "    'fare_per_km',\n",
    "    'pickup_timeslot',\n",
    "    'day_of_week',\n",
    "    'is_weekday',\n",
    "    'cal_time_difference',\n",
    "    'fare_per_distance',\n",
    "    'fare_per_duration',\n",
    "    'avg_speed',\n",
    "    'meter_waiting_per_duration',\n",
    "    'meter_waiting_fare_per_meter_waiting',\n",
    "    'meter_waiting_fare_per_duration',\n",
    "    'addtional_fare_per_fare',\n",
    "    'addtional_fare_per_distance',\n",
    "    'addtional_fare_per_duration',\n",
    "    'fare-additional_fare',\n",
    "    'fare-additional_fare-meter_waiting_fare',\n",
    "    'fare-additional_fare_per_distance',\n",
    "    'fare-additional_fare_per_duration',\n",
    "    'fare-additional_fare-meter_waiting_fare_per_distance',\n",
    "    'fare-additional_fare-meter_waiting_fare_per_duration',\n",
    "    'meter_waiting_till_pickup_per_meter_waiting',\n",
    "    'meter_waiting_after_pickup',\n",
    "    'meter_waiting_after_pickup_per_duration',\n",
    "    'meter_waiting_till_pickup_per_duration',\n",
    "    'meter_waiting_till_pickup_per_distance',\n",
    "    'meter_waiting_after_pickup_per_distance',\n",
    "    'meter_waiting_till_pickup_per_fare',\n",
    "    'meter_waiting_after_pickup_per_fare',\n",
    "    'meter_waiting_till_pickup_per_meter_waiting_fare',\n",
    "    'meter_waiting_after_pickup_per_meter_waiting_fare',\n",
    "    'fare_per_distance_mean',\n",
    "    'fare_per_distance_mean_diff',\n",
    "    'avg_speed_mean',\n",
    "    'avg_speed_mean_diff',\n",
    "    'meter_waiting_per_duration_mean',\n",
    "    'meter_waiting_per_duration_mean_diff',\n",
    "    'meter_waiting_fare_per_meter_waiting_mean',\n",
    "    'meter_waiting_fare_per_meter_waiting_mean_diff',\n",
    "    'meter_waiting_fare_per_duration_mean',\n",
    "    'meter_waiting_fare_per_duration_mean_diff',\n",
    "    'addtional_fare_per_fare_mean',\n",
    "    'addtional_fare_per_fare_mean_diff',\n",
    "    'addtional_fare_per_distance_mean',\n",
    "    'addtional_fare_per_distance_mean_diff',\n",
    "    'addtional_fare_per_duration_mean',\n",
    "    'addtional_fare_per_duration_mean_diff',\n",
    "]\n",
    "\n",
    "cat_features = [\n",
    "    'pickup_date',\n",
    "    'pickup_hour',\n",
    "    'pickup_minute',\n",
    "    'drop_date',\n",
    "    'drop_hour',\n",
    "    'drop_minute',\n",
    "    'pick_cluster',\n",
    "    'is_more_than_one_day',\n",
    "    'pickup_timeslot',\n",
    "    'day_of_week',\n",
    "    'is_weekday',\n",
    "]"
   ]
  },
  {
   "cell_type": "code",
   "execution_count": 44,
   "metadata": {},
   "outputs": [
    {
     "name": "stderr",
     "output_type": "stream",
     "text": [
      "/home/heshan/anaconda3/envs/kaggle/lib/python3.7/site-packages/ipykernel_launcher.py:6: SettingWithCopyWarning: \n",
      "A value is trying to be set on a copy of a slice from a DataFrame.\n",
      "Try using .loc[row_indexer,col_indexer] = value instead\n",
      "\n",
      "See the caveats in the documentation: http://pandas.pydata.org/pandas-docs/stable/user_guide/indexing.html#returning-a-view-versus-a-copy\n",
      "  \n",
      "/home/heshan/anaconda3/envs/kaggle/lib/python3.7/site-packages/ipykernel_launcher.py:7: SettingWithCopyWarning: \n",
      "A value is trying to be set on a copy of a slice from a DataFrame.\n",
      "Try using .loc[row_indexer,col_indexer] = value instead\n",
      "\n",
      "See the caveats in the documentation: http://pandas.pydata.org/pandas-docs/stable/user_guide/indexing.html#returning-a-view-versus-a-copy\n",
      "  import sys\n",
      "/home/heshan/anaconda3/envs/kaggle/lib/python3.7/site-packages/ipykernel_launcher.py:8: SettingWithCopyWarning: \n",
      "A value is trying to be set on a copy of a slice from a DataFrame.\n",
      "Try using .loc[row_indexer,col_indexer] = value instead\n",
      "\n",
      "See the caveats in the documentation: http://pandas.pydata.org/pandas-docs/stable/user_guide/indexing.html#returning-a-view-versus-a-copy\n",
      "  \n"
     ]
    }
   ],
   "source": [
    "train = train_df[features]\n",
    "test = test_df[features]\n",
    "train_org = train_df_org[features]\n",
    "y = train_df['label']\n",
    "for each in cat_features:\n",
    "    train[each] = train[each].values.astype(int)\n",
    "    test[each] = test[each].values.astype(int)\n",
    "    train_org[each] = train_org[each].values.astype(int)"
   ]
  },
  {
   "cell_type": "markdown",
   "metadata": {},
   "source": [
    "### Catboost"
   ]
  },
  {
   "cell_type": "code",
   "execution_count": 45,
   "metadata": {},
   "outputs": [],
   "source": [
    "catboost_params = {\n",
    "    'loss_function':'Logloss',\n",
    "    'random_state':0,\n",
    "    'early_stopping_rounds':50,\n",
    "    'eval_metric':'F1',\n",
    "    'border_count':512\n",
    "}"
   ]
  },
  {
   "cell_type": "code",
   "execution_count": 46,
   "metadata": {},
   "outputs": [],
   "source": [
    "submission_pool = Pool(data=test_df[features], cat_features=cat_features)\n",
    "org_pool = Pool(data=train_org[features], cat_features=cat_features)"
   ]
  },
  {
   "cell_type": "code",
   "execution_count": 47,
   "metadata": {},
   "outputs": [
    {
     "name": "stdout",
     "output_type": "stream",
     "text": [
      "Learning rate set to 0.057693\n",
      "0:\tlearn: 0.9648677\ttest: 0.9632484\tbest: 0.9632484 (0)\ttotal: 21.9ms\tremaining: 21.9s\n",
      "10:\tlearn: 0.9698117\ttest: 0.9702933\tbest: 0.9713853 (3)\ttotal: 232ms\tremaining: 20.8s\n",
      "20:\tlearn: 0.9724266\ttest: 0.9752664\tbest: 0.9761112 (19)\ttotal: 456ms\tremaining: 21.3s\n",
      "30:\tlearn: 0.9747203\ttest: 0.9771925\tbest: 0.9774895 (28)\ttotal: 677ms\tremaining: 21.2s\n",
      "40:\tlearn: 0.9764801\ttest: 0.9775528\tbest: 0.9775785 (31)\ttotal: 914ms\tremaining: 21.4s\n",
      "50:\tlearn: 0.9780687\ttest: 0.9750240\tbest: 0.9775785 (31)\ttotal: 1.16s\tremaining: 21.5s\n",
      "60:\tlearn: 0.9791467\ttest: 0.9690462\tbest: 0.9775785 (31)\ttotal: 1.37s\tremaining: 21.2s\n",
      "70:\tlearn: 0.9799024\ttest: 0.9610568\tbest: 0.9775785 (31)\ttotal: 1.67s\tremaining: 21.8s\n",
      "80:\tlearn: 0.9807941\ttest: 0.9477033\tbest: 0.9775785 (31)\ttotal: 1.87s\tremaining: 21.2s\n",
      "Stopped by overfitting detector  (50 iterations wait)\n",
      "\n",
      "bestTest = 0.9775784753\n",
      "bestIteration = 31\n",
      "\n",
      "Shrink model to first 32 iterations.\n",
      "Learning rate set to 0.057693\n",
      "0:\tlearn: 0.9644670\ttest: 0.9661081\tbest: 0.9661081 (0)\ttotal: 21.6ms\tremaining: 21.6s\n",
      "10:\tlearn: 0.9715152\ttest: 0.9727575\tbest: 0.9727575 (10)\ttotal: 240ms\tremaining: 21.6s\n",
      "20:\tlearn: 0.9737817\ttest: 0.9740322\tbest: 0.9740322 (20)\ttotal: 452ms\tremaining: 21.1s\n",
      "30:\tlearn: 0.9754009\ttest: 0.9748524\tbest: 0.9748571 (27)\ttotal: 677ms\tremaining: 21.2s\n",
      "40:\tlearn: 0.9763187\ttest: 0.9759588\tbest: 0.9759588 (40)\ttotal: 942ms\tremaining: 22s\n",
      "50:\tlearn: 0.9774343\ttest: 0.9771489\tbest: 0.9771489 (50)\ttotal: 1.23s\tremaining: 22.9s\n",
      "60:\tlearn: 0.9785080\ttest: 0.9765033\tbest: 0.9773314 (58)\ttotal: 1.51s\tremaining: 23.3s\n",
      "70:\tlearn: 0.9788352\ttest: 0.9759800\tbest: 0.9773314 (58)\ttotal: 1.8s\tremaining: 23.6s\n",
      "80:\tlearn: 0.9796777\ttest: 0.9740773\tbest: 0.9773314 (58)\ttotal: 2.09s\tremaining: 23.7s\n",
      "90:\tlearn: 0.9802871\ttest: 0.9722571\tbest: 0.9773314 (58)\ttotal: 2.36s\tremaining: 23.6s\n",
      "100:\tlearn: 0.9807112\ttest: 0.9691382\tbest: 0.9773314 (58)\ttotal: 2.62s\tremaining: 23.3s\n",
      "Stopped by overfitting detector  (50 iterations wait)\n",
      "\n",
      "bestTest = 0.9773314204\n",
      "bestIteration = 58\n",
      "\n",
      "Shrink model to first 59 iterations.\n",
      "Learning rate set to 0.057694\n",
      "0:\tlearn: 0.9692703\ttest: 0.9625850\tbest: 0.9625850 (0)\ttotal: 23.8ms\tremaining: 23.8s\n",
      "10:\tlearn: 0.9757351\ttest: 0.9676749\tbest: 0.9680650 (6)\ttotal: 288ms\tremaining: 25.9s\n",
      "20:\tlearn: 0.9766932\ttest: 0.9680227\tbest: 0.9680650 (6)\ttotal: 567ms\tremaining: 26.4s\n",
      "30:\tlearn: 0.9780430\ttest: 0.9691856\tbest: 0.9692833 (27)\ttotal: 840ms\tremaining: 26.2s\n",
      "40:\tlearn: 0.9789755\ttest: 0.9702144\tbest: 0.9702144 (40)\ttotal: 1.11s\tremaining: 26.1s\n",
      "50:\tlearn: 0.9792991\ttest: 0.9706581\tbest: 0.9706581 (50)\ttotal: 1.4s\tremaining: 26s\n",
      "60:\tlearn: 0.9799101\ttest: 0.9702443\tbest: 0.9706581 (50)\ttotal: 1.69s\tremaining: 26s\n",
      "70:\tlearn: 0.9804747\ttest: 0.9702217\tbest: 0.9706581 (50)\ttotal: 1.96s\tremaining: 25.7s\n",
      "80:\tlearn: 0.9807527\ttest: 0.9704931\tbest: 0.9706946 (76)\ttotal: 2.25s\tremaining: 25.5s\n",
      "90:\tlearn: 0.9810833\ttest: 0.9707591\tbest: 0.9707591 (90)\ttotal: 2.52s\tremaining: 25.2s\n",
      "100:\tlearn: 0.9816509\ttest: 0.9711401\tbest: 0.9711401 (99)\ttotal: 2.82s\tremaining: 25.1s\n",
      "110:\tlearn: 0.9820308\ttest: 0.9709551\tbest: 0.9711401 (99)\ttotal: 3.1s\tremaining: 24.8s\n",
      "120:\tlearn: 0.9823603\ttest: 0.9708516\tbest: 0.9711401 (99)\ttotal: 3.38s\tremaining: 24.6s\n",
      "130:\tlearn: 0.9828330\ttest: 0.9711346\tbest: 0.9711401 (99)\ttotal: 3.66s\tremaining: 24.3s\n",
      "140:\tlearn: 0.9830216\ttest: 0.9712436\tbest: 0.9713361 (139)\ttotal: 3.95s\tremaining: 24.1s\n",
      "150:\tlearn: 0.9831647\ttest: 0.9713361\tbest: 0.9714286 (141)\ttotal: 4.23s\tremaining: 23.8s\n",
      "160:\tlearn: 0.9836884\ttest: 0.9715211\tbest: 0.9715265 (154)\ttotal: 4.52s\tremaining: 23.6s\n",
      "170:\tlearn: 0.9845445\ttest: 0.9711346\tbest: 0.9715265 (154)\ttotal: 4.81s\tremaining: 23.3s\n",
      "180:\tlearn: 0.9847365\ttest: 0.9714177\tbest: 0.9715265 (154)\ttotal: 5.13s\tremaining: 23.2s\n",
      "190:\tlearn: 0.9853040\ttest: 0.9715157\tbest: 0.9716136 (183)\ttotal: 5.42s\tremaining: 23s\n",
      "200:\tlearn: 0.9854460\ttest: 0.9709330\tbest: 0.9716136 (183)\ttotal: 5.71s\tremaining: 22.7s\n",
      "210:\tlearn: 0.9857314\ttest: 0.9710311\tbest: 0.9716136 (183)\ttotal: 5.98s\tremaining: 22.4s\n",
      "220:\tlearn: 0.9859696\ttest: 0.9710200\tbest: 0.9716136 (183)\ttotal: 6.27s\tremaining: 22.1s\n",
      "230:\tlearn: 0.9863027\ttest: 0.9712107\tbest: 0.9716136 (183)\ttotal: 6.57s\tremaining: 21.9s\n",
      "Stopped by overfitting detector  (50 iterations wait)\n",
      "\n",
      "bestTest = 0.9716136407\n",
      "bestIteration = 183\n",
      "\n",
      "Shrink model to first 184 iterations.\n"
     ]
    }
   ],
   "source": [
    "train_preds = np.zeros(train_df.shape[0])\n",
    "test_preds = np.zeros(test_df.shape[0])\n",
    "train_class = np.zeros(train_df.shape[0])\n",
    "test_class = np.zeros(test_df.shape[0])\n",
    "skf = StratifiedKFold(n_splits=3)\n",
    "validation_scores = []\n",
    "org_scores = []\n",
    "for train_index, test_index in skf.split(train, y):\n",
    "    X_train, X_test = train.iloc[train_index,:], train.iloc[test_index,:]\n",
    "    y_train, y_test = y[train_index], y[test_index]\n",
    "    train_pool = Pool(data=X_train, label=y_train,cat_features=cat_features)\n",
    "    test_pool = Pool(data=X_test, label=y_test, cat_features=cat_features)    \n",
    "    model = CatBoostClassifier(**catboost_params)\n",
    "    model.fit(X=train_pool, eval_set=test_pool,verbose=10)\n",
    "    train_preds[test_index] = model.predict_proba(test_pool)[:,1]\n",
    "    train_class[test_index] = model.predict(test_pool)\n",
    "    test_preds += model.predict_proba(submission_pool)[:,1]/3\n",
    "    test_class = model.predict(submission_pool)\n",
    "    validation_scores.append(f1_score(y_test,model.predict(test_pool),average='micro'))\n",
    "    org_scores.append(f1_score(y_org,model.predict(org_pool),average='micro'))\n",
    "test_class = np.where(test_class > 2, 1, 0)"
   ]
  },
  {
   "cell_type": "code",
   "execution_count": 48,
   "metadata": {},
   "outputs": [
    {
     "data": {
      "text/plain": [
       "(0.9546173563927064, 0.0051738533962423115, 0.9473032714412025)"
      ]
     },
     "execution_count": 48,
     "metadata": {},
     "output_type": "execute_result"
    }
   ],
   "source": [
    "np.mean(validation_scores), np.std(validation_scores), min(validation_scores)"
   ]
  },
  {
   "cell_type": "code",
   "execution_count": 49,
   "metadata": {},
   "outputs": [
    {
     "data": {
      "text/plain": [
       "(0.9505689559227064, 0.004347838439132529, 0.945253583558805)"
      ]
     },
     "execution_count": 49,
     "metadata": {},
     "output_type": "execute_result"
    }
   ],
   "source": [
    "np.mean(org_scores), np.std(org_scores), min(org_scores)"
   ]
  },
  {
   "cell_type": "code",
   "execution_count": 50,
   "metadata": {},
   "outputs": [],
   "source": [
    "name = 'catboost_base'\n",
    "model_predictions_train[name] = train_preds\n",
    "model_predictions_test[name] = test_preds"
   ]
  },
  {
   "cell_type": "markdown",
   "metadata": {},
   "source": [
    "### lgb"
   ]
  },
  {
   "cell_type": "code",
   "execution_count": 51,
   "metadata": {},
   "outputs": [],
   "source": [
    "lgb_params = {\n",
    "    'objective':'binary',\n",
    "    'learning_rate':0.05,\n",
    "    'seed':0, \n",
    "    'metric':'f1',\n",
    "    'max_depth':6\n",
    "}"
   ]
  },
  {
   "cell_type": "code",
   "execution_count": 52,
   "metadata": {},
   "outputs": [],
   "source": [
    "folds = 3\n",
    "skf = StratifiedKFold(n_splits=folds)\n",
    "train_preds = np.zeros(train_df.shape[0])\n",
    "test_preds = np.zeros(test_df.shape[0])\n",
    "validation_scores = []\n",
    "org_scores = []\n",
    "for train_index, test_index in skf.split(train, y):\n",
    "    X_train, X_test = train.iloc[train_index,:], train.iloc[test_index,:]\n",
    "    y_train, y_test = y[train_index], y[test_index]\n",
    "    train_data = lgb.Dataset(X_train,y_train)\n",
    "    valid_data = lgb.Dataset(X_test,y_test)\n",
    "    evals_result = {}\n",
    "    model = lgb.train(lgb_params, train_data,num_boost_round=1000,early_stopping_rounds=50, valid_sets=valid_data,feval=lgb_f1_score, evals_result=evals_result,verbose_eval=False)\n",
    "    \n",
    "    test_preds += model.predict(test) / 3\n",
    "    train_preds[test_index] = model.predict(X_test)\n",
    "    validation_scores.append(f1_score(y_test,np.round(model.predict(X_test)),average='micro'))\n",
    "    org_scores.append(f1_score(y_org,np.round(model.predict(train_org)),average='micro'))"
   ]
  },
  {
   "cell_type": "code",
   "execution_count": 53,
   "metadata": {},
   "outputs": [
    {
     "data": {
      "text/plain": [
       "(0.9545584531927993, 0.004861253674952765, 0.9478337754199824)"
      ]
     },
     "execution_count": 53,
     "metadata": {},
     "output_type": "execute_result"
    }
   ],
   "source": [
    "np.mean(validation_scores), np.std(validation_scores), min(validation_scores)"
   ]
  },
  {
   "cell_type": "code",
   "execution_count": 54,
   "metadata": {},
   "outputs": [
    {
     "data": {
      "text/plain": [
       "(0.9576881008577515, 0.0008628682730189044, 0.9564791894536872)"
      ]
     },
     "execution_count": 54,
     "metadata": {},
     "output_type": "execute_result"
    }
   ],
   "source": [
    "np.mean(org_scores), np.std(org_scores), min(org_scores)"
   ]
  },
  {
   "cell_type": "code",
   "execution_count": 55,
   "metadata": {},
   "outputs": [],
   "source": [
    "name = 'lgb_base'\n",
    "model_predictions_train[name] = train_preds\n",
    "model_predictions_test[name] = test_preds"
   ]
  },
  {
   "cell_type": "markdown",
   "metadata": {},
   "source": [
    "# Linear prediction difference"
   ]
  },
  {
   "cell_type": "code",
   "execution_count": 56,
   "metadata": {},
   "outputs": [],
   "source": [
    "features = [\n",
    "    'predicted_fare_diff',\n",
    "    'predicted_fare_diff_per_fare',\n",
    "    'predicted_fare_diff_per_predicted_fare',\n",
    "    'predicted_fare_diff_per_distance',\n",
    "    'predicted_duration_diff',\n",
    "    'predicted_duraton_diff_per_duraton',\n",
    "    'predicted_duraton_diff_per_predicted_duration',\n",
    "    'predicted_duraton_diff_per_distance',\n",
    "    'predicted_fare_per_duration_diff',\n",
    "    'predicted_avg_speed_diff',\n",
    "    'predicted_meter_waiting_diff',\n",
    "    'predicted_meter_waiting_diff_per_meter_waiting',\n",
    "    'predicted_meter_waiting_diff_per_distance',\n",
    "    'predicted_meter_waiting_diff_per_predicted_meter_waiting',\n",
    "    'predicted_meter_waiting_per_duration_diff',\n",
    "    'predicted_meter_waiting_fare_diff',\n",
    "    'predicted_meter_waiting_fare_diff_per_distance',\n",
    "    'predicted_meter_waiting_fare_diff_per_predicted_meter_waiting_fare',\n",
    "    'predicted_meter_waiting_fare_per_meter_waiting_diff',\n",
    "    'predicted_meter_waiting_fare_per_duration_diff',\n",
    "    'predicted_additional_fare_diff',\n",
    "    'predicted_additional_fare_diff_per_additional_fare',\n",
    "    'predicted_addtional_fare_diff_per_distance',\n",
    "    'predicted_meter_waiting_till_pickup_diff',\n",
    "    'predicted_meter_waiting_till_pickup_diff_per_meter_waiting_till_pickup',\n",
    "    'predicted_meter_waiting_till_pickup_per_meter_waiting_diff',\n",
    "    'predicted_fare_diff_per_distance_normalized',\n",
    "    'predicted_fare_diff_normalized',\n",
    "    'predicted_fare_diff_per_fare_normalized',\n",
    "    'predicted_fare_diff_per_predicted_fare_normalized',\n",
    "    'predicted_duraton_diff_per_duraton_normalized',\n",
    "    'predicted_duraton_diff_per_predicted_duration_normalized',\n",
    "    'predicted_fare_per_duration_diff_normalized',\n",
    "    'predicted_avg_speed_diff_normalized',\n",
    "    'predicted_meter_waiting_diff_normalized',\n",
    "    'predicted_meter_waiting_diff_per_meter_waiting_normalized',\n",
    "    'predicted_meter_waiting_diff_per_predicted_meter_waiting_normalized',\n",
    "    'predicted_meter_waiting_per_duration_diff_normalized',\n",
    "    'predicted_meter_waiting_fare_diff_normalized',\n",
    "    'predicted_meter_waiting_fare_diff_per_meter_waiting_fare_normalized',\n",
    "    'predicted_meter_waiting_fare_diff_per_predicted_meter_waiting_fare_normalized',\n",
    "    'predicted_meter_waiting_fare_per_meter_waiting_diff_normalized',\n",
    "    'predicted_meter_waiting_fare_per_duration_diff_normalized',\n",
    "    'predicted_additional_fare_diff_normalized',\n",
    "    'predicted_additional_fare_diff_per_additional_fare_normalized',\n",
    "]\n",
    "\n",
    "cat_features = []"
   ]
  },
  {
   "cell_type": "code",
   "execution_count": 57,
   "metadata": {},
   "outputs": [],
   "source": [
    "train = train_df[features]\n",
    "test = test_df[features]\n",
    "train_org = train_df_org[features]\n",
    "y = train_df['label']\n",
    "for each in cat_features:\n",
    "    train[each] = train[each].values.astype(int)\n",
    "    test[each] = test[each].values.astype(int)\n",
    "    train_org[each] = train_org[each].values.astype(int)"
   ]
  },
  {
   "cell_type": "markdown",
   "metadata": {},
   "source": [
    "### Catboost"
   ]
  },
  {
   "cell_type": "code",
   "execution_count": 58,
   "metadata": {},
   "outputs": [],
   "source": [
    "catboost_params = {\n",
    "    'loss_function':'Logloss',\n",
    "    'random_state':0,\n",
    "    'early_stopping_rounds':50,\n",
    "    'eval_metric':'F1',\n",
    "    'border_count':512\n",
    "}"
   ]
  },
  {
   "cell_type": "code",
   "execution_count": 59,
   "metadata": {},
   "outputs": [],
   "source": [
    "submission_pool = Pool(data=test_df[features], cat_features=cat_features)\n",
    "org_pool = Pool(data=train_org[features], cat_features=cat_features)"
   ]
  },
  {
   "cell_type": "code",
   "execution_count": 60,
   "metadata": {},
   "outputs": [
    {
     "name": "stdout",
     "output_type": "stream",
     "text": [
      "Learning rate set to 0.057693\n",
      "0:\tlearn: 0.9691234\ttest: 0.9694540\tbest: 0.9694540 (0)\ttotal: 16.2ms\tremaining: 16.1s\n",
      "10:\tlearn: 0.9729085\ttest: 0.9740557\tbest: 0.9740557 (10)\ttotal: 173ms\tremaining: 15.5s\n",
      "20:\tlearn: 0.9743467\ttest: 0.9757077\tbest: 0.9759786 (16)\ttotal: 358ms\tremaining: 16.7s\n",
      "30:\tlearn: 0.9751710\ttest: 0.9761380\tbest: 0.9761471 (29)\ttotal: 514ms\tremaining: 16.1s\n",
      "40:\tlearn: 0.9760513\ttest: 0.9764943\tbest: 0.9765925 (35)\ttotal: 703ms\tremaining: 16.5s\n",
      "50:\tlearn: 0.9765681\ttest: 0.9772312\tbest: 0.9773251 (48)\ttotal: 867ms\tremaining: 16.1s\n",
      "60:\tlearn: 0.9771278\ttest: 0.9778889\tbest: 0.9778889 (60)\ttotal: 1.06s\tremaining: 16.3s\n",
      "70:\tlearn: 0.9776946\ttest: 0.9776923\tbest: 0.9778889 (60)\ttotal: 1.23s\tremaining: 16.1s\n",
      "80:\tlearn: 0.9781680\ttest: 0.9778718\tbest: 0.9778889 (60)\ttotal: 1.42s\tremaining: 16.1s\n",
      "90:\tlearn: 0.9787397\ttest: 0.9778718\tbest: 0.9780643 (86)\ttotal: 1.57s\tremaining: 15.7s\n",
      "100:\tlearn: 0.9793646\ttest: 0.9777692\tbest: 0.9781626 (94)\ttotal: 1.76s\tremaining: 15.7s\n",
      "110:\tlearn: 0.9794527\ttest: 0.9779575\tbest: 0.9781626 (94)\ttotal: 1.93s\tremaining: 15.5s\n",
      "120:\tlearn: 0.9799251\ttest: 0.9778676\tbest: 0.9781626 (94)\ttotal: 2.13s\tremaining: 15.5s\n",
      "130:\tlearn: 0.9802094\ttest: 0.9780516\tbest: 0.9781626 (94)\ttotal: 2.29s\tremaining: 15.2s\n",
      "140:\tlearn: 0.9808330\ttest: 0.9780474\tbest: 0.9781626 (94)\ttotal: 2.48s\tremaining: 15.1s\n",
      "Stopped by overfitting detector  (50 iterations wait)\n",
      "\n",
      "bestTest = 0.9781625782\n",
      "bestIteration = 94\n",
      "\n",
      "Shrink model to first 95 iterations.\n",
      "Learning rate set to 0.057693\n",
      "0:\tlearn: 0.9713079\ttest: 0.9747030\tbest: 0.9747030 (0)\ttotal: 28.1ms\tremaining: 28.1s\n",
      "10:\tlearn: 0.9729111\ttest: 0.9749213\tbest: 0.9751861 (5)\ttotal: 182ms\tremaining: 16.4s\n",
      "20:\tlearn: 0.9751386\ttest: 0.9768510\tbest: 0.9768510 (20)\ttotal: 365ms\tremaining: 17s\n",
      "30:\tlearn: 0.9760253\ttest: 0.9769400\tbest: 0.9771358 (25)\ttotal: 519ms\tremaining: 16.2s\n",
      "40:\tlearn: 0.9763455\ttest: 0.9771051\tbest: 0.9772162 (34)\ttotal: 701ms\tremaining: 16.4s\n",
      "50:\tlearn: 0.9768623\ttest: 0.9772923\tbest: 0.9773903 (44)\ttotal: 881ms\tremaining: 16.4s\n",
      "60:\tlearn: 0.9774753\ttest: 0.9772880\tbest: 0.9773903 (44)\ttotal: 1.06s\tremaining: 16.4s\n",
      "70:\tlearn: 0.9781337\ttest: 0.9771900\tbest: 0.9773903 (44)\ttotal: 1.22s\tremaining: 16s\n",
      "80:\tlearn: 0.9788888\ttest: 0.9770919\tbest: 0.9773903 (44)\ttotal: 1.41s\tremaining: 16s\n",
      "90:\tlearn: 0.9791257\ttest: 0.9767041\tbest: 0.9773903 (44)\ttotal: 1.57s\tremaining: 15.7s\n",
      "Stopped by overfitting detector  (50 iterations wait)\n",
      "\n",
      "bestTest = 0.9773903047\n",
      "bestIteration = 44\n",
      "\n",
      "Shrink model to first 45 iterations.\n",
      "Learning rate set to 0.057694\n",
      "0:\tlearn: 0.9750526\ttest: 0.9664762\tbest: 0.9664762 (0)\ttotal: 15.8ms\tremaining: 15.8s\n",
      "10:\tlearn: 0.9775948\ttest: 0.9698703\tbest: 0.9700781 (9)\ttotal: 196ms\tremaining: 17.6s\n",
      "20:\tlearn: 0.9779077\ttest: 0.9695524\tbest: 0.9702857 (12)\ttotal: 349ms\tremaining: 16.3s\n",
      "30:\tlearn: 0.9784173\ttest: 0.9707736\tbest: 0.9708719 (29)\ttotal: 533ms\tremaining: 16.7s\n",
      "40:\tlearn: 0.9790767\ttest: 0.9708441\tbest: 0.9710408 (38)\ttotal: 690ms\tremaining: 16.1s\n",
      "50:\tlearn: 0.9797936\ttest: 0.9710408\tbest: 0.9713412 (47)\ttotal: 873ms\tremaining: 16.3s\n",
      "60:\tlearn: 0.9802622\ttest: 0.9713138\tbest: 0.9713412 (47)\ttotal: 1.03s\tremaining: 15.8s\n",
      "70:\tlearn: 0.9806390\ttest: 0.9714067\tbest: 0.9715980 (63)\ttotal: 1.22s\tremaining: 15.9s\n",
      "80:\tlearn: 0.9811194\ttest: 0.9717838\tbest: 0.9717838 (80)\ttotal: 1.38s\tremaining: 15.6s\n",
      "90:\tlearn: 0.9812064\ttest: 0.9715817\tbest: 0.9717838 (80)\ttotal: 1.56s\tremaining: 15.6s\n",
      "100:\tlearn: 0.9817343\ttest: 0.9715925\tbest: 0.9717838 (80)\ttotal: 1.72s\tremaining: 15.3s\n",
      "110:\tlearn: 0.9820699\ttest: 0.9714122\tbest: 0.9717838 (80)\ttotal: 1.92s\tremaining: 15.3s\n",
      "120:\tlearn: 0.9825962\ttest: 0.9713138\tbest: 0.9717838 (80)\ttotal: 2.07s\tremaining: 15.1s\n",
      "130:\tlearn: 0.9828374\ttest: 0.9714996\tbest: 0.9717838 (80)\ttotal: 2.26s\tremaining: 15s\n",
      "Stopped by overfitting detector  (50 iterations wait)\n",
      "\n",
      "bestTest = 0.9717838355\n",
      "bestIteration = 80\n",
      "\n",
      "Shrink model to first 81 iterations.\n"
     ]
    }
   ],
   "source": [
    "train_preds = np.zeros(train_df.shape[0])\n",
    "test_preds = np.zeros(test_df.shape[0])\n",
    "train_class = np.zeros(train_df.shape[0])\n",
    "test_class = np.zeros(test_df.shape[0])\n",
    "skf = StratifiedKFold(n_splits=3)\n",
    "validation_scores = []\n",
    "org_scores = []\n",
    "for train_index, test_index in skf.split(train, y):\n",
    "    X_train, X_test = train.iloc[train_index,:], train.iloc[test_index,:]\n",
    "    y_train, y_test = y[train_index], y[test_index]\n",
    "    train_pool = Pool(data=X_train, label=y_train,cat_features=cat_features)\n",
    "    test_pool = Pool(data=X_test, label=y_test, cat_features=cat_features)    \n",
    "    model = CatBoostClassifier(**catboost_params)\n",
    "    model.fit(X=train_pool, eval_set=test_pool,verbose=10)\n",
    "    train_preds[test_index] = model.predict_proba(test_pool)[:,1]\n",
    "    train_class[test_index] = model.predict(test_pool)\n",
    "    test_preds += model.predict_proba(submission_pool)[:,1]/3\n",
    "    test_class = model.predict(submission_pool)\n",
    "    validation_scores.append(f1_score(y_test,model.predict(test_pool),average='micro'))\n",
    "    org_scores.append(f1_score(y_org,model.predict(org_pool),average='micro'))\n",
    "test_class = np.where(test_class > 2, 1, 0)"
   ]
  },
  {
   "cell_type": "code",
   "execution_count": 61,
   "metadata": {},
   "outputs": [
    {
     "data": {
      "text/plain": [
       "(0.9553246012361752, 0.0053365005527038585, 0.9478337754199824)"
      ]
     },
     "execution_count": 61,
     "metadata": {},
     "output_type": "execute_result"
    }
   ],
   "source": [
    "np.mean(validation_scores), np.std(validation_scores), min(validation_scores)"
   ]
  },
  {
   "cell_type": "code",
   "execution_count": 62,
   "metadata": {},
   "outputs": [
    {
     "data": {
      "text/plain": [
       "(0.9514132749985608, 0.0018210417230432024, 0.9490530194001495)"
      ]
     },
     "execution_count": 62,
     "metadata": {},
     "output_type": "execute_result"
    }
   ],
   "source": [
    "np.mean(org_scores), np.std(org_scores), min(org_scores)"
   ]
  },
  {
   "cell_type": "code",
   "execution_count": 63,
   "metadata": {},
   "outputs": [],
   "source": [
    "name = 'catboost_pred_diff'\n",
    "model_predictions_train[name] = train_preds\n",
    "model_predictions_test[name] = test_preds"
   ]
  },
  {
   "cell_type": "markdown",
   "metadata": {},
   "source": [
    "### lgb"
   ]
  },
  {
   "cell_type": "code",
   "execution_count": 64,
   "metadata": {},
   "outputs": [],
   "source": [
    "lgb_params = {\n",
    "    'objective':'binary',\n",
    "    'learning_rate':0.05,\n",
    "    'seed':0, \n",
    "    'metric':'f1',\n",
    "    'max_depth':6\n",
    "}"
   ]
  },
  {
   "cell_type": "code",
   "execution_count": 65,
   "metadata": {},
   "outputs": [],
   "source": [
    "folds = 3\n",
    "skf = StratifiedKFold(n_splits=folds)\n",
    "train_preds = np.zeros(train_df.shape[0])\n",
    "test_preds = np.zeros(test_df.shape[0])\n",
    "validation_scores = []\n",
    "org_scores = []\n",
    "for train_index, test_index in skf.split(train, y):\n",
    "    X_train, X_test = train.iloc[train_index,:], train.iloc[test_index,:]\n",
    "    y_train, y_test = y[train_index], y[test_index]\n",
    "    train_data = lgb.Dataset(X_train,y_train)\n",
    "    valid_data = lgb.Dataset(X_test,y_test)\n",
    "    evals_result = {}\n",
    "    model = lgb.train(lgb_params, train_data,num_boost_round=1000,early_stopping_rounds=50, valid_sets=valid_data,feval=lgb_f1_score, evals_result=evals_result,verbose_eval=False)\n",
    "    \n",
    "    test_preds += model.predict(test) / 3\n",
    "    train_preds[test_index] = model.predict(X_test)\n",
    "    validation_scores.append(f1_score(y_test,np.round(model.predict(X_test)),average='micro'))\n",
    "    org_scores.append(f1_score(y_org,np.round(model.predict(train_org)),average='micro'))"
   ]
  },
  {
   "cell_type": "code",
   "execution_count": 66,
   "metadata": {},
   "outputs": [
    {
     "data": {
      "text/plain": [
       "(0.9547352670090806, 0.005060771846612412, 0.9480106100795755)"
      ]
     },
     "execution_count": 66,
     "metadata": {},
     "output_type": "execute_result"
    }
   ],
   "source": [
    "np.mean(validation_scores), np.std(validation_scores), min(validation_scores)"
   ]
  },
  {
   "cell_type": "code",
   "execution_count": 67,
   "metadata": {},
   "outputs": [
    {
     "data": {
      "text/plain": [
       "(0.9571316178304837, 0.0030009889432215655, 0.9548673075816015)"
      ]
     },
     "execution_count": 67,
     "metadata": {},
     "output_type": "execute_result"
    }
   ],
   "source": [
    "np.mean(org_scores), np.std(org_scores), min(org_scores)"
   ]
  },
  {
   "cell_type": "code",
   "execution_count": 68,
   "metadata": {},
   "outputs": [],
   "source": [
    "name = 'lgb_pred_diff'\n",
    "model_predictions_train[name] = train_preds\n",
    "model_predictions_test[name] = test_preds"
   ]
  },
  {
   "cell_type": "markdown",
   "metadata": {},
   "source": [
    "## unit differences"
   ]
  },
  {
   "cell_type": "code",
   "execution_count": 69,
   "metadata": {},
   "outputs": [],
   "source": [
    "features = [\n",
    "    'predicted_fare_diff_per_fare',\n",
    "    'predicted_fare_diff_per_predicted_fare',\n",
    "    'predicted_fare_diff_per_distance',\n",
    "    'predicted_duraton_diff_per_duraton',\n",
    "    'predicted_duraton_diff_per_predicted_duration',\n",
    "    'predicted_duraton_diff_per_distance',\n",
    "    'predicted_fare_per_duration_diff',\n",
    "    'predicted_meter_waiting_diff_per_meter_waiting',\n",
    "    'predicted_meter_waiting_diff_per_distance',\n",
    "    'predicted_meter_waiting_diff_per_predicted_meter_waiting',\n",
    "    'predicted_meter_waiting_per_duration_diff',\n",
    "    'predicted_meter_waiting_fare_diff_per_distance',\n",
    "    'predicted_meter_waiting_fare_diff_per_predicted_meter_waiting_fare',\n",
    "    'predicted_meter_waiting_fare_per_meter_waiting_diff',\n",
    "    'predicted_meter_waiting_fare_per_duration_diff',\n",
    "    'predicted_additional_fare_diff_per_additional_fare',\n",
    "    'predicted_addtional_fare_diff_per_distance',\n",
    "    'predicted_meter_waiting_till_pickup_diff_per_meter_waiting_till_pickup',\n",
    "    'predicted_meter_waiting_till_pickup_per_meter_waiting_diff'\n",
    "]\n",
    "\n",
    "cat_features = []"
   ]
  },
  {
   "cell_type": "code",
   "execution_count": 70,
   "metadata": {},
   "outputs": [],
   "source": [
    "train = train_df[features]\n",
    "test = test_df[features]\n",
    "train_org = train_df_org[features]\n",
    "y = train_df['label']\n",
    "for each in cat_features:\n",
    "    train[each] = train[each].values.astype(int)\n",
    "    test[each] = test[each].values.astype(int)\n",
    "    train_org[each] = train_org[each].values.astype(int)"
   ]
  },
  {
   "cell_type": "markdown",
   "metadata": {},
   "source": [
    "### KNN"
   ]
  },
  {
   "cell_type": "code",
   "execution_count": 71,
   "metadata": {},
   "outputs": [],
   "source": [
    "knn_params = {\n",
    "    'n_neighbors':10,\n",
    "    'weights':'distance'    \n",
    "}"
   ]
  },
  {
   "cell_type": "code",
   "execution_count": 72,
   "metadata": {},
   "outputs": [],
   "source": [
    "folds = 3\n",
    "skf = StratifiedKFold(n_splits=folds)\n",
    "train_preds = np.zeros(train_df.shape[0])\n",
    "test_preds = np.zeros(test_df.shape[0])\n",
    "validation_scores = []\n",
    "org_scores = []\n",
    "for train_index, test_index in skf.split(train, y):\n",
    "    X_train, X_test = train.iloc[train_index,:].values, train.iloc[test_index,:].values\n",
    "    y_train, y_test = y[train_index], y[test_index]\n",
    "    \n",
    "    model = KNeighborsClassifier(**knn_params)\n",
    "    model.fit(X_train, y_train)\n",
    "    \n",
    "    test_preds += model.predict(test.values) / 3\n",
    "    train_preds[test_index] = model.predict(X_test)\n",
    "    validation_scores.append(f1_score(y_test,model.predict(X_test),average='micro'))\n",
    "    org_scores.append(f1_score(y_org,model.predict(train_org.values),average='micro'))"
   ]
  },
  {
   "cell_type": "code",
   "execution_count": 73,
   "metadata": {},
   "outputs": [
    {
     "data": {
      "text/plain": [
       "(0.9448926381838638, 0.004681426802319368, 0.9382847038019452)"
      ]
     },
     "execution_count": 73,
     "metadata": {},
     "output_type": "execute_result"
    }
   ],
   "source": [
    "np.mean(validation_scores), np.std(validation_scores), min(validation_scores)"
   ]
  },
  {
   "cell_type": "code",
   "execution_count": 74,
   "metadata": {},
   "outputs": [
    {
     "data": {
      "text/plain": [
       "(0.9785658089152419, 0.0018661802109130705, 0.9759369063381498)"
      ]
     },
     "execution_count": 74,
     "metadata": {},
     "output_type": "execute_result"
    }
   ],
   "source": [
    "np.mean(org_scores), np.std(org_scores), min(org_scores)"
   ]
  },
  {
   "cell_type": "code",
   "execution_count": 75,
   "metadata": {},
   "outputs": [],
   "source": [
    "name = 'knn_unit_diff'\n",
    "model_predictions_train[name] = train_preds\n",
    "model_predictions_test[name] = test_preds"
   ]
  },
  {
   "cell_type": "markdown",
   "metadata": {},
   "source": [
    "### SVM"
   ]
  },
  {
   "cell_type": "code",
   "execution_count": 76,
   "metadata": {},
   "outputs": [],
   "source": [
    "svc_params = {\n",
    "    'C':5,\n",
    "    'kernel':'rbf',\n",
    "    'random_state':0,    \n",
    "    'probability': False,\n",
    "    'gamma':'auto'\n",
    "}"
   ]
  },
  {
   "cell_type": "code",
   "execution_count": 77,
   "metadata": {},
   "outputs": [],
   "source": [
    "folds = 3\n",
    "skf = StratifiedKFold(n_splits=folds)\n",
    "train_preds = np.zeros(train_df.shape[0])\n",
    "test_preds = np.zeros(test_df.shape[0])\n",
    "validation_scores = []\n",
    "org_scores = []\n",
    "for train_index, test_index in skf.split(train, y):\n",
    "    X_train, X_test = train.iloc[train_index,:].values, train.iloc[test_index,:].values\n",
    "    y_train, y_test = y[train_index], y[test_index]\n",
    "    \n",
    "    model = SVC(**svc_params)\n",
    "    model.fit(X_train, y_train)\n",
    "    \n",
    "    test_preds += model.predict(test.values) / 3\n",
    "    train_preds[test_index] = model.predict(X_test)\n",
    "    validation_scores.append(f1_score(y_test,model.predict(X_test),average='micro'))\n",
    "    org_scores.append(f1_score(y_org,model.predict(train_org.values),average='micro'))"
   ]
  },
  {
   "cell_type": "code",
   "execution_count": 78,
   "metadata": {},
   "outputs": [
    {
     "data": {
      "text/plain": [
       "(0.9077031566362397, 0.0007540118952659524, 0.9071618037135278)"
      ]
     },
     "execution_count": 78,
     "metadata": {},
     "output_type": "execute_result"
    }
   ],
   "source": [
    "np.mean(validation_scores), np.std(validation_scores), min(validation_scores)"
   ]
  },
  {
   "cell_type": "code",
   "execution_count": 79,
   "metadata": {},
   "outputs": [
    {
     "data": {
      "text/plain": [
       "(0.9592999827298371, 0.0007387168865703476, 0.9586667434229463)"
      ]
     },
     "execution_count": 79,
     "metadata": {},
     "output_type": "execute_result"
    }
   ],
   "source": [
    "np.mean(org_scores), np.std(org_scores), min(org_scores)"
   ]
  },
  {
   "cell_type": "code",
   "execution_count": 80,
   "metadata": {},
   "outputs": [],
   "source": [
    "name = 'rbf_svm_unit_diff'\n",
    "model_predictions_train[name] = train_preds\n",
    "model_predictions_test[name] = test_preds"
   ]
  },
  {
   "cell_type": "markdown",
   "metadata": {},
   "source": [
    "## diff norm"
   ]
  },
  {
   "cell_type": "code",
   "execution_count": 81,
   "metadata": {},
   "outputs": [],
   "source": [
    "features = [\n",
    "    'predicted_fare_diff_per_distance_normalized',\n",
    "    'predicted_fare_diff_normalized',\n",
    "    'predicted_fare_diff_per_fare_normalized',\n",
    "    'predicted_fare_diff_per_predicted_fare_normalized',\n",
    "    'predicted_duraton_diff_per_duraton_normalized',\n",
    "    'predicted_duraton_diff_per_predicted_duration_normalized',\n",
    "    'predicted_fare_per_duration_diff_normalized',\n",
    "    'predicted_avg_speed_diff_normalized',\n",
    "    'predicted_meter_waiting_diff_normalized',\n",
    "    'predicted_meter_waiting_diff_per_meter_waiting_normalized',\n",
    "    'predicted_meter_waiting_diff_per_predicted_meter_waiting_normalized',\n",
    "    'predicted_meter_waiting_per_duration_diff_normalized',\n",
    "    'predicted_meter_waiting_fare_diff_normalized',\n",
    "    'predicted_meter_waiting_fare_diff_per_meter_waiting_fare_normalized',\n",
    "    'predicted_meter_waiting_fare_diff_per_predicted_meter_waiting_fare_normalized',\n",
    "    'predicted_meter_waiting_fare_per_meter_waiting_diff_normalized',\n",
    "    'predicted_meter_waiting_fare_per_duration_diff_normalized',\n",
    "    'predicted_additional_fare_diff_normalized',\n",
    "    'predicted_additional_fare_diff_per_additional_fare_normalized',\n",
    "]\n",
    "\n",
    "cat_features = []"
   ]
  },
  {
   "cell_type": "code",
   "execution_count": 82,
   "metadata": {},
   "outputs": [],
   "source": [
    "train = train_df[features]\n",
    "test = test_df[features]\n",
    "train_org = train_df_org[features]\n",
    "y = train_df['label']\n",
    "for each in cat_features:\n",
    "    train[each] = train[each].values.astype(int)\n",
    "    test[each] = test[each].values.astype(int)\n",
    "    train_org[each] = train_org[each].values.astype(int)"
   ]
  },
  {
   "cell_type": "markdown",
   "metadata": {},
   "source": [
    "### KNN"
   ]
  },
  {
   "cell_type": "code",
   "execution_count": 83,
   "metadata": {},
   "outputs": [],
   "source": [
    "knn_params = {\n",
    "    'n_neighbors':15,\n",
    "    'weights':'distance'    \n",
    "}"
   ]
  },
  {
   "cell_type": "code",
   "execution_count": 84,
   "metadata": {},
   "outputs": [],
   "source": [
    "folds = 3\n",
    "skf = StratifiedKFold(n_splits=folds)\n",
    "train_preds = np.zeros(train_df.shape[0])\n",
    "test_preds = np.zeros(test_df.shape[0])\n",
    "validation_scores = []\n",
    "org_scores = []\n",
    "for train_index, test_index in skf.split(train, y):\n",
    "    X_train, X_test = train.iloc[train_index,:].values, train.iloc[test_index,:].values\n",
    "    y_train, y_test = y[train_index], y[test_index]\n",
    "    \n",
    "    model = KNeighborsClassifier(**knn_params)\n",
    "    model.fit(X_train, y_train)\n",
    "    \n",
    "    test_preds += model.predict(test.values) / 3\n",
    "    train_preds[test_index] = model.predict(X_test)\n",
    "    validation_scores.append(f1_score(y_test,model.predict(X_test),average='micro'))\n",
    "    org_scores.append(f1_score(y_org,model.predict(train_org.values),average='micro'))"
   ]
  },
  {
   "cell_type": "code",
   "execution_count": 85,
   "metadata": {},
   "outputs": [
    {
     "data": {
      "text/plain": [
       "(0.9516113860343972, 0.0069344895200864915, 0.941998231653404)"
      ]
     },
     "execution_count": 85,
     "metadata": {},
     "output_type": "execute_result"
    }
   ],
   "source": [
    "np.mean(validation_scores), np.std(validation_scores), min(validation_scores)"
   ]
  },
  {
   "cell_type": "code",
   "execution_count": 86,
   "metadata": {},
   "outputs": [
    {
     "data": {
      "text/plain": [
       "(0.9810603880029934, 0.0026931775869810715, 0.9774336537908007)"
      ]
     },
     "execution_count": 86,
     "metadata": {},
     "output_type": "execute_result"
    }
   ],
   "source": [
    "np.mean(org_scores), np.std(org_scores), min(org_scores)"
   ]
  },
  {
   "cell_type": "code",
   "execution_count": 87,
   "metadata": {},
   "outputs": [],
   "source": [
    "name = 'knn_unit_diff_norm'\n",
    "model_predictions_train[name] = train_preds\n",
    "model_predictions_test[name] = test_preds"
   ]
  },
  {
   "cell_type": "markdown",
   "metadata": {},
   "source": [
    "### SVM"
   ]
  },
  {
   "cell_type": "code",
   "execution_count": 88,
   "metadata": {},
   "outputs": [],
   "source": [
    "svc_params = {\n",
    "    'C':5,\n",
    "    'kernel':'rbf',\n",
    "    'random_state':0,    \n",
    "    'probability': False,\n",
    "    'gamma':'scale'\n",
    "}"
   ]
  },
  {
   "cell_type": "code",
   "execution_count": 89,
   "metadata": {},
   "outputs": [],
   "source": [
    "folds = 3\n",
    "skf = StratifiedKFold(n_splits=folds)\n",
    "train_preds = np.zeros(train_df.shape[0])\n",
    "test_preds = np.zeros(test_df.shape[0])\n",
    "validation_scores = []\n",
    "org_scores = []\n",
    "for train_index, test_index in skf.split(train, y):\n",
    "    X_train, X_test = train.iloc[train_index,:].values, train.iloc[test_index,:].values\n",
    "    y_train, y_test = y[train_index], y[test_index]\n",
    "    \n",
    "    model = SVC(**svc_params)\n",
    "    model.fit(X_train, y_train)\n",
    "    \n",
    "    test_preds += model.predict(test.values) / 3\n",
    "    train_preds[test_index] = model.predict(X_test)\n",
    "    validation_scores.append(f1_score(y_test,model.predict(X_test),average='micro'))\n",
    "    org_scores.append(f1_score(y_org,model.predict(train_org.values),average='micro'))"
   ]
  },
  {
   "cell_type": "code",
   "execution_count": 90,
   "metadata": {},
   "outputs": [
    {
     "data": {
      "text/plain": [
       "(0.9243247079539328, 0.012349504958989706, 0.9137199434229137)"
      ]
     },
     "execution_count": 90,
     "metadata": {},
     "output_type": "execute_result"
    }
   ],
   "source": [
    "np.mean(validation_scores), np.std(validation_scores), min(validation_scores)"
   ]
  },
  {
   "cell_type": "code",
   "execution_count": 91,
   "metadata": {},
   "outputs": [
    {
     "data": {
      "text/plain": [
       "(0.9121524379713315, 0.023365763841682145, 0.8954579471533014)"
      ]
     },
     "execution_count": 91,
     "metadata": {},
     "output_type": "execute_result"
    }
   ],
   "source": [
    "np.mean(org_scores), np.std(org_scores), min(org_scores)"
   ]
  },
  {
   "cell_type": "code",
   "execution_count": 92,
   "metadata": {},
   "outputs": [],
   "source": [
    "name = 'svm_rbf_unit_diff_norm'\n",
    "model_predictions_train[name] = train_preds\n",
    "model_predictions_test[name] = test_preds"
   ]
  },
  {
   "cell_type": "code",
   "execution_count": null,
   "metadata": {},
   "outputs": [],
   "source": []
  },
  {
   "cell_type": "code",
   "execution_count": null,
   "metadata": {},
   "outputs": [],
   "source": []
  },
  {
   "cell_type": "code",
   "execution_count": 107,
   "metadata": {},
   "outputs": [],
   "source": [
    "model_predictions_train.to_csv('stack_2_train.csv',index=False)\n",
    "model_predictions_test.to_csv('stack_2_test.csv',index=False)"
   ]
  },
  {
   "cell_type": "markdown",
   "metadata": {},
   "source": [
    "# Stack level 2"
   ]
  },
  {
   "cell_type": "code",
   "execution_count": null,
   "metadata": {},
   "outputs": [],
   "source": [
    "features = model_predictions_test.columns\n",
    "cat_cols = [\n",
    "    'knn_anomaly',\n",
    "    'rf_anomaly',\n",
    "    'knn_unit_diff',\n",
    "    'knn_unit_diff_norm'\n",
    "]"
   ]
  },
  {
   "cell_type": "code",
   "execution_count": null,
   "metadata": {},
   "outputs": [],
   "source": [
    "for each in cat_cols:\n",
    "    model_predictions_train[each] = model_predictions_train[each].astype(int)\n",
    "    model_predictions_test[each] = model_predictions_test[each].astype(int)"
   ]
  },
  {
   "cell_type": "code",
   "execution_count": null,
   "metadata": {},
   "outputs": [],
   "source": [
    "train = model_predictions_train[features]\n",
    "test = model_predictions_test[features]\n",
    "y = train_df['label']"
   ]
  },
  {
   "cell_type": "code",
   "execution_count": null,
   "metadata": {},
   "outputs": [],
   "source": [
    "sns.heatmap(model_predictions_train.corr())"
   ]
  },
  {
   "cell_type": "markdown",
   "metadata": {},
   "source": [
    "### Catboost"
   ]
  },
  {
   "cell_type": "code",
   "execution_count": null,
   "metadata": {},
   "outputs": [],
   "source": [
    "catboost_params = {\n",
    "    'loss_function':'Logloss',\n",
    "    'random_state':0,\n",
    "    'early_stopping_rounds':50,\n",
    "    'eval_metric':'F1'\n",
    "}"
   ]
  },
  {
   "cell_type": "code",
   "execution_count": null,
   "metadata": {},
   "outputs": [],
   "source": [
    "submission_pool = Pool(data=model_predictions_test[features], cat_features=cat_features)"
   ]
  },
  {
   "cell_type": "code",
   "execution_count": null,
   "metadata": {},
   "outputs": [],
   "source": [
    "train_preds = np.zeros(train_df.shape[0])\n",
    "test_preds = np.zeros(test_df.shape[0])\n",
    "train_class = np.zeros(train_df.shape[0])\n",
    "test_class = np.zeros(test_df.shape[0])\n",
    "skf = StratifiedKFold(n_splits=3)\n",
    "validation_scores = []\n",
    "for train_index, test_index in skf.split(train, y):\n",
    "    X_train, X_test = train.iloc[train_index,:], train.iloc[test_index,:]\n",
    "    y_train, y_test = y[train_index], y[test_index]\n",
    "    train_pool = Pool(data=X_train, label=y_train,cat_features=cat_features)\n",
    "    test_pool = Pool(data=X_test, label=y_test, cat_features=cat_features)    \n",
    "    model = CatBoostClassifier(**catboost_params)\n",
    "    model.fit(X=train_pool, eval_set=test_pool,verbose=10)\n",
    "    train_preds[test_index] = model.predict_proba(test_pool)[:,1]\n",
    "    train_class[test_index] = model.predict(test_pool)\n",
    "    test_preds += model.predict_proba(submission_pool)[:,1]/3\n",
    "    test_class = model.predict(submission_pool)\n",
    "    validation_scores.append(f1_score(y_test,model.predict(test_pool),average='micro'))\n",
    "test_class = np.where(test_class > 2, 1, 0)"
   ]
  },
  {
   "cell_type": "code",
   "execution_count": null,
   "metadata": {},
   "outputs": [],
   "source": [
    "np.mean(validation_scores), np.std(validation_scores), min(validation_scores)"
   ]
  },
  {
   "cell_type": "markdown",
   "metadata": {},
   "source": [
    "### Extratrees"
   ]
  },
  {
   "cell_type": "code",
   "execution_count": null,
   "metadata": {},
   "outputs": [],
   "source": [
    "et_params = {\n",
    "    'n_estimators':10,\n",
    "    'max_depth':3,\n",
    "    'random_state':0    \n",
    "}"
   ]
  },
  {
   "cell_type": "code",
   "execution_count": null,
   "metadata": {},
   "outputs": [],
   "source": [
    "folds = 3\n",
    "skf = StratifiedKFold(n_splits=folds)\n",
    "train_preds = np.zeros(train_df.shape[0])\n",
    "test_preds = np.zeros(test_df.shape[0])\n",
    "validation_scores = []\n",
    "for train_index, test_index in skf.split(train, y):\n",
    "    X_train, X_test = train.iloc[train_index,:].values, train.iloc[test_index,:].values\n",
    "    y_train, y_test = y[train_index], y[test_index]\n",
    "    \n",
    "    model = ExtraTreesClassifier(**et_params)\n",
    "    model.fit(X_train, y_train)\n",
    "    \n",
    "    test_preds += model.predict(test.values) / 3\n",
    "    train_preds[test_index] = model.predict(X_test)\n",
    "    validation_scores.append(f1_score(y_test,model.predict(X_test),average='micro'))"
   ]
  },
  {
   "cell_type": "code",
   "execution_count": null,
   "metadata": {},
   "outputs": [],
   "source": [
    "np.mean(validation_scores), np.std(validation_scores), min(validation_scores)"
   ]
  },
  {
   "cell_type": "code",
   "execution_count": null,
   "metadata": {},
   "outputs": [],
   "source": []
  }
 ],
 "metadata": {
  "kernelspec": {
   "display_name": "Python 3",
   "language": "python",
   "name": "python3"
  },
  "language_info": {
   "codemirror_mode": {
    "name": "ipython",
    "version": 3
   },
   "file_extension": ".py",
   "mimetype": "text/x-python",
   "name": "python",
   "nbconvert_exporter": "python",
   "pygments_lexer": "ipython3",
   "version": "3.7.4"
  }
 },
 "nbformat": 4,
 "nbformat_minor": 2
}
