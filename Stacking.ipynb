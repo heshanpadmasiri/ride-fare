{
 "cells": [
  {
   "cell_type": "code",
   "execution_count": 139,
   "metadata": {},
   "outputs": [],
   "source": [
    "import pandas as pd\n",
    "import numpy as np\n",
    "\n",
    "from sklearn.model_selection import KFold\n",
    "import matplotlib.pyplot as plt\n",
    "import seaborn as sns\n",
    "\n",
    "\n",
    "from sklearn.linear_model import LinearRegression\n",
    "from sklearn.svm import SVR\n",
    "from sklearn.ensemble import RandomForestRegressor\n",
    "from sklearn.preprocessing import StandardScaler,KBinsDiscretizer,LabelEncoder\n",
    "from sklearn.metrics import mean_squared_error\n",
    "from sklearn.kernel_approximation import Nystroem\n",
    "\n",
    "from sklearn.model_selection import StratifiedKFold\n",
    "\n",
    "from catboost import Pool, cv,CatBoostClassifier,CatBoostRegressor\n",
    "\n",
    "from tqdm import tqdm"
   ]
  },
  {
   "cell_type": "markdown",
   "metadata": {},
   "source": [
    "# Catboost predictions"
   ]
  },
  {
   "cell_type": "code",
   "execution_count": 140,
   "metadata": {},
   "outputs": [],
   "source": [
    "train_df = pd.read_csv('train_df.csv')\n",
    "test_df = pd.read_csv('test_df.csv')\n",
    "submission_df = pd.read_csv('sample_submission.csv')"
   ]
  },
  {
   "cell_type": "code",
   "execution_count": 141,
   "metadata": {},
   "outputs": [],
   "source": [
    "stacking_train_df = pd.read_csv('stacking_train_df.csv')\n",
    "stacking_test_df = pd.read_csv('stacking_test_df.csv')"
   ]
  },
  {
   "cell_type": "code",
   "execution_count": 142,
   "metadata": {},
   "outputs": [
    {
     "data": {
      "text/html": [
       "<div>\n",
       "<style scoped>\n",
       "    .dataframe tbody tr th:only-of-type {\n",
       "        vertical-align: middle;\n",
       "    }\n",
       "\n",
       "    .dataframe tbody tr th {\n",
       "        vertical-align: top;\n",
       "    }\n",
       "\n",
       "    .dataframe thead th {\n",
       "        text-align: right;\n",
       "    }\n",
       "</style>\n",
       "<table border=\"1\" class=\"dataframe\">\n",
       "  <thead>\n",
       "    <tr style=\"text-align: right;\">\n",
       "      <th></th>\n",
       "      <th>catboost_low_corr</th>\n",
       "      <th>catboost_autoencoder</th>\n",
       "      <th>nn_base</th>\n",
       "      <th>nn_linear_pred</th>\n",
       "      <th>nn_comb</th>\n",
       "      <th>catboost_anomaly</th>\n",
       "      <th>light_gbm_catboost_features</th>\n",
       "      <th>light_gbm_base</th>\n",
       "      <th>catboost_base</th>\n",
       "    </tr>\n",
       "  </thead>\n",
       "  <tbody>\n",
       "    <tr>\n",
       "      <td>0</td>\n",
       "      <td>2.957802</td>\n",
       "      <td>3.0</td>\n",
       "      <td>1.799978</td>\n",
       "      <td>1.790162</td>\n",
       "      <td>1.965532</td>\n",
       "      <td>2.813200</td>\n",
       "      <td>2.925673</td>\n",
       "      <td>2.924333</td>\n",
       "      <td>2.967996</td>\n",
       "    </tr>\n",
       "    <tr>\n",
       "      <td>1</td>\n",
       "      <td>2.961396</td>\n",
       "      <td>3.0</td>\n",
       "      <td>1.866792</td>\n",
       "      <td>1.702062</td>\n",
       "      <td>2.006418</td>\n",
       "      <td>2.813200</td>\n",
       "      <td>2.966980</td>\n",
       "      <td>2.980262</td>\n",
       "      <td>2.971522</td>\n",
       "    </tr>\n",
       "    <tr>\n",
       "      <td>2</td>\n",
       "      <td>2.965646</td>\n",
       "      <td>3.0</td>\n",
       "      <td>1.837732</td>\n",
       "      <td>1.869186</td>\n",
       "      <td>1.965488</td>\n",
       "      <td>2.813200</td>\n",
       "      <td>2.967480</td>\n",
       "      <td>2.943718</td>\n",
       "      <td>2.971149</td>\n",
       "    </tr>\n",
       "    <tr>\n",
       "      <td>3</td>\n",
       "      <td>2.951560</td>\n",
       "      <td>3.0</td>\n",
       "      <td>2.026852</td>\n",
       "      <td>2.017801</td>\n",
       "      <td>1.512873</td>\n",
       "      <td>2.813200</td>\n",
       "      <td>2.999064</td>\n",
       "      <td>2.975820</td>\n",
       "      <td>2.964370</td>\n",
       "    </tr>\n",
       "    <tr>\n",
       "      <td>4</td>\n",
       "      <td>2.915263</td>\n",
       "      <td>3.0</td>\n",
       "      <td>1.753367</td>\n",
       "      <td>1.595990</td>\n",
       "      <td>1.946649</td>\n",
       "      <td>2.426473</td>\n",
       "      <td>2.986798</td>\n",
       "      <td>3.049662</td>\n",
       "      <td>2.929122</td>\n",
       "    </tr>\n",
       "  </tbody>\n",
       "</table>\n",
       "</div>"
      ],
      "text/plain": [
       "   catboost_low_corr  catboost_autoencoder   nn_base  nn_linear_pred  \\\n",
       "0           2.957802                   3.0  1.799978        1.790162   \n",
       "1           2.961396                   3.0  1.866792        1.702062   \n",
       "2           2.965646                   3.0  1.837732        1.869186   \n",
       "3           2.951560                   3.0  2.026852        2.017801   \n",
       "4           2.915263                   3.0  1.753367        1.595990   \n",
       "\n",
       "    nn_comb  catboost_anomaly  light_gbm_catboost_features  light_gbm_base  \\\n",
       "0  1.965532          2.813200                     2.925673        2.924333   \n",
       "1  2.006418          2.813200                     2.966980        2.980262   \n",
       "2  1.965488          2.813200                     2.967480        2.943718   \n",
       "3  1.512873          2.813200                     2.999064        2.975820   \n",
       "4  1.946649          2.426473                     2.986798        3.049662   \n",
       "\n",
       "   catboost_base  \n",
       "0       2.967996  \n",
       "1       2.971522  \n",
       "2       2.971149  \n",
       "3       2.964370  \n",
       "4       2.929122  "
      ]
     },
     "execution_count": 142,
     "metadata": {},
     "output_type": "execute_result"
    }
   ],
   "source": [
    "stacking_train_df.head()"
   ]
  },
  {
   "cell_type": "code",
   "execution_count": 143,
   "metadata": {},
   "outputs": [],
   "source": [
    "train_anomaly = pd.read_csv('train_df_anomaly.csv')\n",
    "test_anomaly = pd.read_csv('test_df_anomaly.csv')"
   ]
  },
  {
   "cell_type": "code",
   "execution_count": 144,
   "metadata": {},
   "outputs": [],
   "source": [
    "stacking_train_df['label'] = train_df['label']"
   ]
  },
  {
   "cell_type": "code",
   "execution_count": 145,
   "metadata": {},
   "outputs": [
    {
     "data": {
      "text/plain": [
       "<matplotlib.axes._subplots.AxesSubplot at 0x7f83f6440a50>"
      ]
     },
     "execution_count": 145,
     "metadata": {},
     "output_type": "execute_result"
    },
    {
     "data": {
      "image/png": "[encoded data removed]",
      "text/plain": [
       "<Figure size 432x288 with 2 Axes>"
      ]
     },
     "metadata": {
      "needs_background": "light"
     },
     "output_type": "display_data"
    }
   ],
   "source": [
    "sns.heatmap(stacking_train_df.corr())"
   ]
  },
  {
   "cell_type": "code",
   "execution_count": 146,
   "metadata": {},
   "outputs": [
    {
     "data": {
      "text/plain": [
       "catboost_low_corr              0.790748\n",
       "catboost_autoencoder           0.281339\n",
       "nn_base                        0.565504\n",
       "nn_linear_pred                 0.544315\n",
       "nn_comb                        0.653023\n",
       "catboost_anomaly               0.380716\n",
       "light_gbm_catboost_features    0.862837\n",
       "light_gbm_base                 0.919675\n",
       "catboost_base                  0.803230\n",
       "label                          1.000000\n",
       "Name: label, dtype: float64"
      ]
     },
     "execution_count": 146,
     "metadata": {},
     "output_type": "execute_result"
    }
   ],
   "source": [
    "stacking_train_df.corr()['label']"
   ]
  },
  {
   "cell_type": "code",
   "execution_count": 147,
   "metadata": {},
   "outputs": [
    {
     "data": {
      "text/plain": [
       "Index(['catboost_low_corr', 'catboost_autoencoder', 'nn_base',\n",
       "       'nn_linear_pred', 'nn_comb', 'catboost_anomaly',\n",
       "       'light_gbm_catboost_features', 'light_gbm_base', 'catboost_base',\n",
       "       'label'],\n",
       "      dtype='object')"
      ]
     },
     "execution_count": 147,
     "metadata": {},
     "output_type": "execute_result"
    }
   ],
   "source": [
    "stacking_train_df.columns"
   ]
  },
  {
   "cell_type": "code",
   "execution_count": 148,
   "metadata": {},
   "outputs": [],
   "source": [
    "features = [\n",
    "    'catboost_low_corr', \n",
    "    'catboost_autoencoder', \n",
    "    'nn_base',\n",
    "    'nn_linear_pred', \n",
    "    'nn_comb', \n",
    "    'catboost_anomaly',\n",
    "    'light_gbm_catboost_features', \n",
    "    'light_gbm_base', \n",
    "    'catboost_base'\n",
    "]\n",
    "\n",
    "cat_features = []"
   ]
  },
  {
   "cell_type": "markdown",
   "metadata": {},
   "source": [
    "# Catboost stacking"
   ]
  },
  {
   "cell_type": "code",
   "execution_count": 149,
   "metadata": {},
   "outputs": [],
   "source": [
    "y = stacking_train_df['label'].values\n",
    "X_train_df = stacking_train_df[features]\n",
    "X_test_df = stacking_test_df[features]"
   ]
  },
  {
   "cell_type": "code",
   "execution_count": 150,
   "metadata": {},
   "outputs": [],
   "source": [
    "params = {\n",
    "    'loss_function':'Logloss',\n",
    "    'random_state':0,\n",
    "    'early_stopping_rounds':50,\n",
    "    'eval_metric':'F1',\n",
    "}"
   ]
  },
  {
   "cell_type": "code",
   "execution_count": 151,
   "metadata": {},
   "outputs": [],
   "source": [
    "submission_pool = Pool(data=X_test_df, cat_features=cat_features)"
   ]
  },
  {
   "cell_type": "code",
   "execution_count": 152,
   "metadata": {},
   "outputs": [
    {
     "name": "stdout",
     "output_type": "stream",
     "text": [
      "Learning rate set to 0.057693\n",
      "0:\tlearn: 0.9886844\ttest: 0.9962125\tbest: 0.9962125 (0)\ttotal: 21.4ms\tremaining: 21.4s\n",
      "10:\tlearn: 0.9956815\ttest: 0.9994175\tbest: 0.9996115 (5)\ttotal: 72.7ms\tremaining: 6.54s\n",
      "20:\tlearn: 0.9981060\ttest: 1.0000000\tbest: 1.0000000 (13)\ttotal: 120ms\tremaining: 5.58s\n",
      "30:\tlearn: 0.9988342\ttest: 1.0000000\tbest: 1.0000000 (13)\ttotal: 166ms\tremaining: 5.19s\n",
      "40:\tlearn: 0.9991743\ttest: 1.0000000\tbest: 1.0000000 (13)\ttotal: 220ms\tremaining: 5.16s\n",
      "50:\tlearn: 0.9992714\ttest: 1.0000000\tbest: 1.0000000 (13)\ttotal: 270ms\tremaining: 5.02s\n",
      "60:\tlearn: 0.9993199\ttest: 1.0000000\tbest: 1.0000000 (13)\ttotal: 315ms\tremaining: 4.85s\n",
      "Stopped by overfitting detector  (50 iterations wait)\n",
      "\n",
      "bestTest = 1\n",
      "bestIteration = 13\n",
      "\n",
      "Shrink model to first 14 iterations.\n",
      "Validation f1 1.0\n",
      "Learning rate set to 0.057693\n",
      "0:\tlearn: 0.9915983\ttest: 0.9900875\tbest: 0.9900875 (0)\ttotal: 4.75ms\tremaining: 4.75s\n",
      "10:\tlearn: 0.9964544\ttest: 0.9961135\tbest: 0.9961135 (9)\ttotal: 57.3ms\tremaining: 5.15s\n",
      "20:\tlearn: 0.9986402\ttest: 0.9982517\tbest: 0.9982517 (20)\ttotal: 117ms\tremaining: 5.47s\n",
      "30:\tlearn: 0.9988343\ttest: 0.9984457\tbest: 0.9985427 (24)\ttotal: 165ms\tremaining: 5.16s\n",
      "40:\tlearn: 0.9992227\ttest: 0.9989313\tbest: 0.9989313 (40)\ttotal: 211ms\tremaining: 4.93s\n",
      "50:\tlearn: 0.9994171\ttest: 0.9990286\tbest: 0.9990286 (45)\ttotal: 257ms\tremaining: 4.78s\n",
      "60:\tlearn: 0.9995629\ttest: 0.9991258\tbest: 0.9991258 (56)\ttotal: 318ms\tremaining: 4.89s\n",
      "70:\tlearn: 0.9997572\ttest: 0.9991256\tbest: 0.9992228 (62)\ttotal: 363ms\tremaining: 4.76s\n",
      "80:\tlearn: 0.9997572\ttest: 0.9993199\tbest: 0.9993199 (73)\ttotal: 413ms\tremaining: 4.68s\n",
      "90:\tlearn: 0.9998057\ttest: 0.9995141\tbest: 0.9995142 (88)\ttotal: 460ms\tremaining: 4.59s\n",
      "100:\tlearn: 0.9999029\ttest: 0.9995141\tbest: 0.9996113 (91)\ttotal: 513ms\tremaining: 4.56s\n",
      "110:\tlearn: 0.9999029\ttest: 0.9995141\tbest: 0.9996113 (91)\ttotal: 556ms\tremaining: 4.45s\n",
      "120:\tlearn: 0.9999029\ttest: 0.9995141\tbest: 0.9996113 (91)\ttotal: 595ms\tremaining: 4.32s\n",
      "130:\tlearn: 0.9999029\ttest: 0.9995141\tbest: 0.9996113 (91)\ttotal: 633ms\tremaining: 4.2s\n",
      "140:\tlearn: 0.9999029\ttest: 0.9995141\tbest: 0.9996113 (91)\ttotal: 684ms\tremaining: 4.17s\n",
      "Stopped by overfitting detector  (50 iterations wait)\n",
      "\n",
      "bestTest = 0.9996113486\n",
      "bestIteration = 91\n",
      "\n",
      "Shrink model to first 92 iterations.\n",
      "Validation f1 0.9996113486202876\n",
      "Learning rate set to 0.057694\n",
      "0:\tlearn: 0.9932495\ttest: 0.9871795\tbest: 0.9871795 (0)\ttotal: 31.3ms\tremaining: 31.3s\n",
      "10:\tlearn: 0.9981069\ttest: 0.9927276\tbest: 0.9927276 (10)\ttotal: 103ms\tremaining: 9.29s\n",
      "20:\tlearn: 0.9992715\ttest: 0.9952469\tbest: 0.9955366 (19)\ttotal: 153ms\tremaining: 7.12s\n",
      "30:\tlearn: 0.9996115\ttest: 0.9958297\tbest: 0.9959279 (26)\ttotal: 199ms\tremaining: 6.22s\n",
      "40:\tlearn: 0.9997572\ttest: 0.9966062\tbest: 0.9966062 (40)\ttotal: 247ms\tremaining: 5.78s\n",
      "50:\tlearn: 0.9999029\ttest: 0.9966056\tbest: 0.9967995 (43)\ttotal: 293ms\tremaining: 5.45s\n",
      "60:\tlearn: 0.9999514\ttest: 0.9967016\tbest: 0.9967995 (43)\ttotal: 354ms\tremaining: 5.44s\n",
      "70:\tlearn: 1.0000000\ttest: 0.9967983\tbest: 0.9967995 (43)\ttotal: 400ms\tremaining: 5.23s\n",
      "80:\tlearn: 1.0000000\ttest: 0.9969923\tbest: 0.9969923 (75)\ttotal: 440ms\tremaining: 4.99s\n",
      "90:\tlearn: 1.0000000\ttest: 0.9969923\tbest: 0.9969923 (75)\ttotal: 477ms\tremaining: 4.76s\n",
      "100:\tlearn: 1.0000000\ttest: 0.9968956\tbest: 0.9969923 (75)\ttotal: 510ms\tremaining: 4.54s\n",
      "110:\tlearn: 1.0000000\ttest: 0.9968956\tbest: 0.9969923 (75)\ttotal: 541ms\tremaining: 4.34s\n",
      "120:\tlearn: 1.0000000\ttest: 0.9968956\tbest: 0.9969923 (75)\ttotal: 590ms\tremaining: 4.29s\n",
      "Stopped by overfitting detector  (50 iterations wait)\n",
      "\n",
      "bestTest = 0.9969923353\n",
      "bestIteration = 75\n",
      "\n",
      "Shrink model to first 76 iterations.\n",
      "Validation f1 0.9969923353061027\n"
     ]
    }
   ],
   "source": [
    "skf = StratifiedKFold(n_splits=3)\n",
    "validation_scores = []\n",
    "submission_preds = np.zeros(submission_df.shape[0])\n",
    "train_pools = []\n",
    "models = []\n",
    "for train_index, test_index in skf.split(X_train_df, y):\n",
    "    X_train, X_test = X_train_df.iloc[train_index,:], X_train_df.iloc[test_index,:]\n",
    "    y_train, y_test = y[train_index], y[test_index]\n",
    "    train_pool = Pool(data=X_train, label=y_train,cat_features=cat_features)\n",
    "    test_pool = Pool(data=X_test, label=y_test, cat_features=cat_features)    \n",
    "    model = CatBoostClassifier(**params)\n",
    "    model.fit(X=train_pool, eval_set=test_pool,verbose=10)\n",
    "    pred = model.predict(test_pool)\n",
    "    validation_score = model.best_score_['validation']['F1']\n",
    "    print('Validation f1',validation_score)\n",
    "    validation_scores.append(validation_score)\n",
    "    models.append(model)\n",
    "    train_pools.append(train_pool)\n",
    "    submission_preds += model.predict(submission_pool)"
   ]
  },
  {
   "cell_type": "code",
   "execution_count": 153,
   "metadata": {},
   "outputs": [
    {
     "data": {
      "text/plain": [
       "(0.99886789464213, 0.0013356782524140568)"
      ]
     },
     "execution_count": 153,
     "metadata": {},
     "output_type": "execute_result"
    }
   ],
   "source": [
    "np.mean(validation_scores), np.std(validation_scores)"
   ]
  },
  {
   "cell_type": "code",
   "execution_count": 154,
   "metadata": {},
   "outputs": [],
   "source": [
    "submission_df['prediction'] = np.where(submission_preds > 2, 1, 0)\n",
    "submission_df.to_csv('submission_stack.csv',index=False)"
   ]
  },
  {
   "cell_type": "code",
   "execution_count": 155,
   "metadata": {},
   "outputs": [],
   "source": [
    "best_model = models[np.argmax(validation_scores)]"
   ]
  },
  {
   "cell_type": "code",
   "execution_count": 156,
   "metadata": {},
   "outputs": [
    {
     "data": {
      "text/html": [
       "<div>\n",
       "<style scoped>\n",
       "    .dataframe tbody tr th:only-of-type {\n",
       "        vertical-align: middle;\n",
       "    }\n",
       "\n",
       "    .dataframe tbody tr th {\n",
       "        vertical-align: top;\n",
       "    }\n",
       "\n",
       "    .dataframe thead th {\n",
       "        text-align: right;\n",
       "    }\n",
       "</style>\n",
       "<table border=\"1\" class=\"dataframe\">\n",
       "  <thead>\n",
       "    <tr style=\"text-align: right;\">\n",
       "      <th></th>\n",
       "      <th>Feature Id</th>\n",
       "      <th>Importances</th>\n",
       "    </tr>\n",
       "  </thead>\n",
       "  <tbody>\n",
       "    <tr>\n",
       "      <td>0</td>\n",
       "      <td>light_gbm_base</td>\n",
       "      <td>63.170295</td>\n",
       "    </tr>\n",
       "    <tr>\n",
       "      <td>1</td>\n",
       "      <td>light_gbm_catboost_features</td>\n",
       "      <td>15.040171</td>\n",
       "    </tr>\n",
       "    <tr>\n",
       "      <td>2</td>\n",
       "      <td>catboost_low_corr</td>\n",
       "      <td>6.734498</td>\n",
       "    </tr>\n",
       "    <tr>\n",
       "      <td>3</td>\n",
       "      <td>catboost_base</td>\n",
       "      <td>4.101505</td>\n",
       "    </tr>\n",
       "    <tr>\n",
       "      <td>4</td>\n",
       "      <td>nn_base</td>\n",
       "      <td>3.450353</td>\n",
       "    </tr>\n",
       "    <tr>\n",
       "      <td>5</td>\n",
       "      <td>catboost_anomaly</td>\n",
       "      <td>3.040545</td>\n",
       "    </tr>\n",
       "    <tr>\n",
       "      <td>6</td>\n",
       "      <td>nn_linear_pred</td>\n",
       "      <td>2.265245</td>\n",
       "    </tr>\n",
       "    <tr>\n",
       "      <td>7</td>\n",
       "      <td>nn_comb</td>\n",
       "      <td>2.122499</td>\n",
       "    </tr>\n",
       "    <tr>\n",
       "      <td>8</td>\n",
       "      <td>catboost_autoencoder</td>\n",
       "      <td>0.074889</td>\n",
       "    </tr>\n",
       "  </tbody>\n",
       "</table>\n",
       "</div>"
      ],
      "text/plain": [
       "                    Feature Id  Importances\n",
       "0               light_gbm_base    63.170295\n",
       "1  light_gbm_catboost_features    15.040171\n",
       "2            catboost_low_corr     6.734498\n",
       "3                catboost_base     4.101505\n",
       "4                      nn_base     3.450353\n",
       "5             catboost_anomaly     3.040545\n",
       "6               nn_linear_pred     2.265245\n",
       "7                      nn_comb     2.122499\n",
       "8         catboost_autoencoder     0.074889"
      ]
     },
     "execution_count": 156,
     "metadata": {},
     "output_type": "execute_result"
    }
   ],
   "source": [
    "best_model.get_feature_importance(prettified=True)"
   ]
  },
  {
   "cell_type": "code",
   "execution_count": null,
   "metadata": {},
   "outputs": [],
   "source": []
  }
 ],
 "metadata": {
  "kernelspec": {
   "display_name": "Python 3",
   "language": "python",
   "name": "python3"
  },
  "language_info": {
   "codemirror_mode": {
    "name": "ipython",
    "version": 3
   },
   "file_extension": ".py",
   "mimetype": "text/x-python",
   "name": "python",
   "nbconvert_exporter": "python",
   "pygments_lexer": "ipython3",
   "version": "3.7.4"
  }
 },
 "nbformat": 4,
 "nbformat_minor": 2
}
